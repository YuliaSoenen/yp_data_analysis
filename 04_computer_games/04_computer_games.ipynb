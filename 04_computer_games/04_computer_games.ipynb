{
 "cells": [
  {
   "cell_type": "markdown",
   "id": "7c53039b",
   "metadata": {},
   "source": [
    "# Определение потенциально популярных компьютерных игр   <a class=\"tocSkip\">"
   ]
  },
  {
   "cell_type": "markdown",
   "id": "f63e379b",
   "metadata": {},
   "source": [
    "**Цель исследования:**  \n",
    " Проанализировать данные о продажах игр и выявить определяющие успешность игры закономерности. Сделать вывод о том, какие игры будут потенциально популярны в следующем году с целью планирования реклаламных компаний магазином компьютерных игр \"Стримчик\".  "
   ]
  },
  {
   "cell_type": "markdown",
   "id": "7620c6ef",
   "metadata": {},
   "source": [
    "## Изучение данных из файла"
   ]
  },
  {
   "cell_type": "code",
   "execution_count": null,
   "id": "7e32c9ba",
   "metadata": {},
   "outputs": [],
   "source": [
    "# импорт библиотек\n",
    "!pip install seaborn -U\n",
    "import pandas as pd\n",
    "import matplotlib.pyplot as plt\n",
    "import numpy as np\n",
    "import math\n",
    "from math import factorial\n",
    "from scipy import stats as st\n",
    "import seaborn as sns\n",
    "import warnings"
   ]
  },
  {
   "cell_type": "code",
   "execution_count": 2,
   "id": "781bc962",
   "metadata": {},
   "outputs": [],
   "source": [
    "# чтение файлов\n",
    "data_games = pd.read_csv('/datasets/games.csv') "
   ]
  },
  {
   "cell_type": "code",
   "execution_count": 3,
   "id": "5451d980",
   "metadata": {},
   "outputs": [
    {
     "data": {
      "text/html": [
       "<div>\n",
       "<style scoped>\n",
       "    .dataframe tbody tr th:only-of-type {\n",
       "        vertical-align: middle;\n",
       "    }\n",
       "\n",
       "    .dataframe tbody tr th {\n",
       "        vertical-align: top;\n",
       "    }\n",
       "\n",
       "    .dataframe thead th {\n",
       "        text-align: right;\n",
       "    }\n",
       "</style>\n",
       "<table border=\"1\" class=\"dataframe\">\n",
       "  <thead>\n",
       "    <tr style=\"text-align: right;\">\n",
       "      <th></th>\n",
       "      <th>Name</th>\n",
       "      <th>Platform</th>\n",
       "      <th>Year_of_Release</th>\n",
       "      <th>Genre</th>\n",
       "      <th>NA_sales</th>\n",
       "      <th>EU_sales</th>\n",
       "      <th>JP_sales</th>\n",
       "      <th>Other_sales</th>\n",
       "      <th>Critic_Score</th>\n",
       "      <th>User_Score</th>\n",
       "      <th>Rating</th>\n",
       "    </tr>\n",
       "  </thead>\n",
       "  <tbody>\n",
       "    <tr>\n",
       "      <td>0</td>\n",
       "      <td>Wii Sports</td>\n",
       "      <td>Wii</td>\n",
       "      <td>2006.0</td>\n",
       "      <td>Sports</td>\n",
       "      <td>41.36</td>\n",
       "      <td>28.96</td>\n",
       "      <td>3.77</td>\n",
       "      <td>8.45</td>\n",
       "      <td>76.0</td>\n",
       "      <td>8</td>\n",
       "      <td>E</td>\n",
       "    </tr>\n",
       "    <tr>\n",
       "      <td>1</td>\n",
       "      <td>Super Mario Bros.</td>\n",
       "      <td>NES</td>\n",
       "      <td>1985.0</td>\n",
       "      <td>Platform</td>\n",
       "      <td>29.08</td>\n",
       "      <td>3.58</td>\n",
       "      <td>6.81</td>\n",
       "      <td>0.77</td>\n",
       "      <td>NaN</td>\n",
       "      <td>NaN</td>\n",
       "      <td>NaN</td>\n",
       "    </tr>\n",
       "    <tr>\n",
       "      <td>2</td>\n",
       "      <td>Mario Kart Wii</td>\n",
       "      <td>Wii</td>\n",
       "      <td>2008.0</td>\n",
       "      <td>Racing</td>\n",
       "      <td>15.68</td>\n",
       "      <td>12.76</td>\n",
       "      <td>3.79</td>\n",
       "      <td>3.29</td>\n",
       "      <td>82.0</td>\n",
       "      <td>8.3</td>\n",
       "      <td>E</td>\n",
       "    </tr>\n",
       "    <tr>\n",
       "      <td>3</td>\n",
       "      <td>Wii Sports Resort</td>\n",
       "      <td>Wii</td>\n",
       "      <td>2009.0</td>\n",
       "      <td>Sports</td>\n",
       "      <td>15.61</td>\n",
       "      <td>10.93</td>\n",
       "      <td>3.28</td>\n",
       "      <td>2.95</td>\n",
       "      <td>80.0</td>\n",
       "      <td>8</td>\n",
       "      <td>E</td>\n",
       "    </tr>\n",
       "    <tr>\n",
       "      <td>4</td>\n",
       "      <td>Pokemon Red/Pokemon Blue</td>\n",
       "      <td>GB</td>\n",
       "      <td>1996.0</td>\n",
       "      <td>Role-Playing</td>\n",
       "      <td>11.27</td>\n",
       "      <td>8.89</td>\n",
       "      <td>10.22</td>\n",
       "      <td>1.00</td>\n",
       "      <td>NaN</td>\n",
       "      <td>NaN</td>\n",
       "      <td>NaN</td>\n",
       "    </tr>\n",
       "    <tr>\n",
       "      <td>5</td>\n",
       "      <td>Tetris</td>\n",
       "      <td>GB</td>\n",
       "      <td>1989.0</td>\n",
       "      <td>Puzzle</td>\n",
       "      <td>23.20</td>\n",
       "      <td>2.26</td>\n",
       "      <td>4.22</td>\n",
       "      <td>0.58</td>\n",
       "      <td>NaN</td>\n",
       "      <td>NaN</td>\n",
       "      <td>NaN</td>\n",
       "    </tr>\n",
       "    <tr>\n",
       "      <td>6</td>\n",
       "      <td>New Super Mario Bros.</td>\n",
       "      <td>DS</td>\n",
       "      <td>2006.0</td>\n",
       "      <td>Platform</td>\n",
       "      <td>11.28</td>\n",
       "      <td>9.14</td>\n",
       "      <td>6.50</td>\n",
       "      <td>2.88</td>\n",
       "      <td>89.0</td>\n",
       "      <td>8.5</td>\n",
       "      <td>E</td>\n",
       "    </tr>\n",
       "    <tr>\n",
       "      <td>7</td>\n",
       "      <td>Wii Play</td>\n",
       "      <td>Wii</td>\n",
       "      <td>2006.0</td>\n",
       "      <td>Misc</td>\n",
       "      <td>13.96</td>\n",
       "      <td>9.18</td>\n",
       "      <td>2.93</td>\n",
       "      <td>2.84</td>\n",
       "      <td>58.0</td>\n",
       "      <td>6.6</td>\n",
       "      <td>E</td>\n",
       "    </tr>\n",
       "    <tr>\n",
       "      <td>8</td>\n",
       "      <td>New Super Mario Bros. Wii</td>\n",
       "      <td>Wii</td>\n",
       "      <td>2009.0</td>\n",
       "      <td>Platform</td>\n",
       "      <td>14.44</td>\n",
       "      <td>6.94</td>\n",
       "      <td>4.70</td>\n",
       "      <td>2.24</td>\n",
       "      <td>87.0</td>\n",
       "      <td>8.4</td>\n",
       "      <td>E</td>\n",
       "    </tr>\n",
       "    <tr>\n",
       "      <td>9</td>\n",
       "      <td>Duck Hunt</td>\n",
       "      <td>NES</td>\n",
       "      <td>1984.0</td>\n",
       "      <td>Shooter</td>\n",
       "      <td>26.93</td>\n",
       "      <td>0.63</td>\n",
       "      <td>0.28</td>\n",
       "      <td>0.47</td>\n",
       "      <td>NaN</td>\n",
       "      <td>NaN</td>\n",
       "      <td>NaN</td>\n",
       "    </tr>\n",
       "  </tbody>\n",
       "</table>\n",
       "</div>"
      ],
      "text/plain": [
       "                        Name Platform  Year_of_Release         Genre  \\\n",
       "0                 Wii Sports      Wii           2006.0        Sports   \n",
       "1          Super Mario Bros.      NES           1985.0      Platform   \n",
       "2             Mario Kart Wii      Wii           2008.0        Racing   \n",
       "3          Wii Sports Resort      Wii           2009.0        Sports   \n",
       "4   Pokemon Red/Pokemon Blue       GB           1996.0  Role-Playing   \n",
       "5                     Tetris       GB           1989.0        Puzzle   \n",
       "6      New Super Mario Bros.       DS           2006.0      Platform   \n",
       "7                   Wii Play      Wii           2006.0          Misc   \n",
       "8  New Super Mario Bros. Wii      Wii           2009.0      Platform   \n",
       "9                  Duck Hunt      NES           1984.0       Shooter   \n",
       "\n",
       "   NA_sales  EU_sales  JP_sales  Other_sales  Critic_Score User_Score Rating  \n",
       "0     41.36     28.96      3.77         8.45          76.0          8      E  \n",
       "1     29.08      3.58      6.81         0.77           NaN        NaN    NaN  \n",
       "2     15.68     12.76      3.79         3.29          82.0        8.3      E  \n",
       "3     15.61     10.93      3.28         2.95          80.0          8      E  \n",
       "4     11.27      8.89     10.22         1.00           NaN        NaN    NaN  \n",
       "5     23.20      2.26      4.22         0.58           NaN        NaN    NaN  \n",
       "6     11.28      9.14      6.50         2.88          89.0        8.5      E  \n",
       "7     13.96      9.18      2.93         2.84          58.0        6.6      E  \n",
       "8     14.44      6.94      4.70         2.24          87.0        8.4      E  \n",
       "9     26.93      0.63      0.28         0.47           NaN        NaN    NaN  "
      ]
     },
     "execution_count": 3,
     "metadata": {},
     "output_type": "execute_result"
    }
   ],
   "source": [
    "data_games.head(10)"
   ]
  },
  {
   "cell_type": "markdown",
   "id": "fdf38573",
   "metadata": {},
   "source": [
    "Рассмотрев таблицу **data_games** видим, что каждая строка таблицы содержит информацию о продажах, рейтинге и жанрах игр:  \n",
    "- Name — название игры\n",
    "- Platform — платформа\n",
    "- Year_of_Release — год выпуска\n",
    "- Genre — жанр игры\n",
    "- NA_sales — продажи в Северной Америке (миллионы проданных копий)\n",
    "- EU_sales — продажи в Европе (миллионы проданных копий)\n",
    "- JP_sales — продажи в Японии (миллионы проданных копий)\n",
    "- Other_sales — продажи в других странах (миллионы проданных копий)\n",
    "- Critic_Score — оценка критиков (максимум 100)\n",
    "- User_Score — оценка пользователей (максимум 10)\n",
    "- Rating — рейтинг от организации ESRB (англ. Entertainment Software Rating Board). Эта ассоциация определяет рейтинг компьютерных игр и присваивает им подходящую возрастную категорию. "
   ]
  },
  {
   "cell_type": "markdown",
   "id": "6fbb3034",
   "metadata": {},
   "source": [
    "Посмотрим на общую информацию о таблице:"
   ]
  },
  {
   "cell_type": "code",
   "execution_count": 4,
   "id": "b1d98304",
   "metadata": {},
   "outputs": [
    {
     "name": "stdout",
     "output_type": "stream",
     "text": [
      "<class 'pandas.core.frame.DataFrame'>\n",
      "RangeIndex: 16715 entries, 0 to 16714\n",
      "Data columns (total 11 columns):\n",
      "Name               16713 non-null object\n",
      "Platform           16715 non-null object\n",
      "Year_of_Release    16446 non-null float64\n",
      "Genre              16713 non-null object\n",
      "NA_sales           16715 non-null float64\n",
      "EU_sales           16715 non-null float64\n",
      "JP_sales           16715 non-null float64\n",
      "Other_sales        16715 non-null float64\n",
      "Critic_Score       8137 non-null float64\n",
      "User_Score         10014 non-null object\n",
      "Rating             9949 non-null object\n",
      "dtypes: float64(6), object(5)\n",
      "memory usage: 1.4+ MB\n"
     ]
    }
   ],
   "source": [
    "data_games.info() "
   ]
  },
  {
   "cell_type": "code",
   "execution_count": 5,
   "id": "820b2995",
   "metadata": {},
   "outputs": [
    {
     "data": {
      "text/html": [
       "<div>\n",
       "<style scoped>\n",
       "    .dataframe tbody tr th:only-of-type {\n",
       "        vertical-align: middle;\n",
       "    }\n",
       "\n",
       "    .dataframe tbody tr th {\n",
       "        vertical-align: top;\n",
       "    }\n",
       "\n",
       "    .dataframe thead th {\n",
       "        text-align: right;\n",
       "    }\n",
       "</style>\n",
       "<table border=\"1\" class=\"dataframe\">\n",
       "  <thead>\n",
       "    <tr style=\"text-align: right;\">\n",
       "      <th></th>\n",
       "      <th>Year_of_Release</th>\n",
       "      <th>NA_sales</th>\n",
       "      <th>EU_sales</th>\n",
       "      <th>JP_sales</th>\n",
       "      <th>Other_sales</th>\n",
       "      <th>Critic_Score</th>\n",
       "    </tr>\n",
       "  </thead>\n",
       "  <tbody>\n",
       "    <tr>\n",
       "      <td>count</td>\n",
       "      <td>16446.000000</td>\n",
       "      <td>16715.000000</td>\n",
       "      <td>16715.000000</td>\n",
       "      <td>16715.000000</td>\n",
       "      <td>16715.000000</td>\n",
       "      <td>8137.000000</td>\n",
       "    </tr>\n",
       "    <tr>\n",
       "      <td>mean</td>\n",
       "      <td>2006.484616</td>\n",
       "      <td>0.263377</td>\n",
       "      <td>0.145060</td>\n",
       "      <td>0.077617</td>\n",
       "      <td>0.047342</td>\n",
       "      <td>68.967679</td>\n",
       "    </tr>\n",
       "    <tr>\n",
       "      <td>std</td>\n",
       "      <td>5.877050</td>\n",
       "      <td>0.813604</td>\n",
       "      <td>0.503339</td>\n",
       "      <td>0.308853</td>\n",
       "      <td>0.186731</td>\n",
       "      <td>13.938165</td>\n",
       "    </tr>\n",
       "    <tr>\n",
       "      <td>min</td>\n",
       "      <td>1980.000000</td>\n",
       "      <td>0.000000</td>\n",
       "      <td>0.000000</td>\n",
       "      <td>0.000000</td>\n",
       "      <td>0.000000</td>\n",
       "      <td>13.000000</td>\n",
       "    </tr>\n",
       "    <tr>\n",
       "      <td>25%</td>\n",
       "      <td>2003.000000</td>\n",
       "      <td>0.000000</td>\n",
       "      <td>0.000000</td>\n",
       "      <td>0.000000</td>\n",
       "      <td>0.000000</td>\n",
       "      <td>60.000000</td>\n",
       "    </tr>\n",
       "    <tr>\n",
       "      <td>50%</td>\n",
       "      <td>2007.000000</td>\n",
       "      <td>0.080000</td>\n",
       "      <td>0.020000</td>\n",
       "      <td>0.000000</td>\n",
       "      <td>0.010000</td>\n",
       "      <td>71.000000</td>\n",
       "    </tr>\n",
       "    <tr>\n",
       "      <td>75%</td>\n",
       "      <td>2010.000000</td>\n",
       "      <td>0.240000</td>\n",
       "      <td>0.110000</td>\n",
       "      <td>0.040000</td>\n",
       "      <td>0.030000</td>\n",
       "      <td>79.000000</td>\n",
       "    </tr>\n",
       "    <tr>\n",
       "      <td>max</td>\n",
       "      <td>2016.000000</td>\n",
       "      <td>41.360000</td>\n",
       "      <td>28.960000</td>\n",
       "      <td>10.220000</td>\n",
       "      <td>10.570000</td>\n",
       "      <td>98.000000</td>\n",
       "    </tr>\n",
       "  </tbody>\n",
       "</table>\n",
       "</div>"
      ],
      "text/plain": [
       "       Year_of_Release      NA_sales      EU_sales      JP_sales  \\\n",
       "count     16446.000000  16715.000000  16715.000000  16715.000000   \n",
       "mean       2006.484616      0.263377      0.145060      0.077617   \n",
       "std           5.877050      0.813604      0.503339      0.308853   \n",
       "min        1980.000000      0.000000      0.000000      0.000000   \n",
       "25%        2003.000000      0.000000      0.000000      0.000000   \n",
       "50%        2007.000000      0.080000      0.020000      0.000000   \n",
       "75%        2010.000000      0.240000      0.110000      0.040000   \n",
       "max        2016.000000     41.360000     28.960000     10.220000   \n",
       "\n",
       "        Other_sales  Critic_Score  \n",
       "count  16715.000000   8137.000000  \n",
       "mean       0.047342     68.967679  \n",
       "std        0.186731     13.938165  \n",
       "min        0.000000     13.000000  \n",
       "25%        0.000000     60.000000  \n",
       "50%        0.010000     71.000000  \n",
       "75%        0.030000     79.000000  \n",
       "max       10.570000     98.000000  "
      ]
     },
     "execution_count": 5,
     "metadata": {},
     "output_type": "execute_result"
    }
   ],
   "source": [
    "data_games.describe() "
   ]
  },
  {
   "cell_type": "markdown",
   "id": "0245c2d2",
   "metadata": {},
   "source": [
    " Всего представлены данные о продажах 16715 игр, вышедших с 1980 по 2016 годы на разных платформах. Рассмотрим проблемы в данных и способы их решения:"
   ]
  },
  {
   "cell_type": "markdown",
   "id": "b17773fb",
   "metadata": {},
   "source": [
    "|Столбец |Обзор |Предобработка |Возможные причины |Примечание |\n",
    "|:-------|:-----|:-------------|:-----------------|:----------| \n",
    "|Все названия столбцов  |Записаны в разных регистрах | Привести названия к нижнему регистру  |- |- |\n",
    "|Year_of_Release |Тип float |Привести к целочисленному типу |- |- |\n",
    "|NA_sales, EU_sales, JP_sales, Other_sales  |Тип float |- |- |Данные о продажах уже указаны в млн. и если привести их к целочисленному типу, то десятичные значения будут либо отброшены, либо округлены. Так как данные о продажах разбиты по 4 регионам, то при подсчете глобальных продаж из-за округлений итоговый результат может быть искажен до 2 млн. Чтобы избежать таких искажений, оставим данные о продажах с десятичными значениями. |\n",
    "|User_Score |Тип object |Привести к типу float |Вероятно в этом столбце есть строковые значения. |С таким типом мы не сможем корректно работать с числовыми значениями. Необходимо привести данные к типу float. Не будем приводить данные к целочисленному типу, так как оценки выставляются всего по 10 шкале и, например, оценка 7.5 отличается от оценки 7 или 8. |\n",
    "|Critic_Score |Тип float |Привести к целочисленному типу |- |Оценки критиков выставляются по 100 бальной шкале в целых единицах, нет  необходимости в данных с десятичными значениями. |\n",
    "|Name, Genre |По 2 строки с пропущенными значениями |Проверить, если эти строки совпадают и в таком случае нет возможности по имени игры восстановить ее жанр, то необходимо удалить эти 2 строки. |Технические ошибки |- |\n",
    "|Year_of_Release |269 попущенных значений |- |Технические ошибки |Заменить такие пропуски подходящими значением невозможно, так как даже одна и также игра может выходить на разных платформах в разные годы. |\n",
    "|Critic_Score, User_Score |от 40% до 52% попущенных значений |- |Вероятно на сайте, с которого была получена информация, не набралось еще достаточное количество оценок для выставления общего рейтинга. |Мы не сможем заполнить пропуски каким-либо подходящим значением. Удалять строки с пропущенной информацией также нельзя, иначе мы потеряем большое количество необходимой информации.|\n",
    "|Rating |40% пропущенных значений |Пропуски заполним значением \"undefined\" (англ. - \"неопределенный\") |Причин отсутствия данных может быть несколько. Например, организация ESRB существует с 1994 года и вероятно игры вышедшие до 1994 не получали рейтинг от ESRB. Другой пример: организация ESRB выставляет рейтинг в США и Канаде, в европейский странах и в Японии существуют свои рейтинговые организации и игры, вышедшие в этих странах могут не получить рейтинг от организации ESRB. |- |"
   ]
  },
  {
   "cell_type": "markdown",
   "id": "d6e873a7",
   "metadata": {},
   "source": [
    "### Вывод\n",
    "Прежде, чем проводить дальнейший анализ данных необходима следующая предобработка данных:\n",
    "1. Замена названий столбцов.\n",
    "2. Приведение к нужным типам данных.\n",
    "3. Обработка пропусков.\n",
    "4. Добавление столбца с глобальными продажами."
   ]
  },
  {
   "cell_type": "markdown",
   "id": "5e674894",
   "metadata": {},
   "source": [
    "## Предобработка данных"
   ]
  },
  {
   "cell_type": "markdown",
   "id": "786ceb88",
   "metadata": {},
   "source": [
    "### Замена названий столбцов"
   ]
  },
  {
   "cell_type": "markdown",
   "id": "b586a372",
   "metadata": {},
   "source": [
    "Приведем названия столбцов таблицы к нижнему регистру:"
   ]
  },
  {
   "cell_type": "code",
   "execution_count": 6,
   "id": "4ae0856c",
   "metadata": {},
   "outputs": [],
   "source": [
    "data_games.columns = data_games.columns.str.lower()"
   ]
  },
  {
   "cell_type": "markdown",
   "id": "582191b0",
   "metadata": {},
   "source": [
    "### Вывод \n",
    "Теперь названия всех столбцов единообразны и записаные в едином регистре."
   ]
  },
  {
   "cell_type": "markdown",
   "id": "394b428a",
   "metadata": {},
   "source": [
    "### Замена типа данных"
   ]
  },
  {
   "cell_type": "markdown",
   "id": "81d77249",
   "metadata": {},
   "source": [
    "- Столбцы **year_of_release** и **critic_score**   \n",
    "  \n",
    "Столбецы с годом релиза игры и оценками критиков имееют тип float, для удобства и точности последующей работы с данными приведем их целочисленному типу."
   ]
  },
  {
   "cell_type": "code",
   "execution_count": 8,
   "id": "9c75b820",
   "metadata": {},
   "outputs": [],
   "source": [
    "data_games = data_games.astype({'year_of_release': pd.Int64Dtype(), 'critic_score': pd.Int64Dtype()}) "
   ]
  },
  {
   "cell_type": "markdown",
   "id": "2f0b9d25",
   "metadata": {},
   "source": [
    "- Столбец **user_score**"
   ]
  },
  {
   "cell_type": "markdown",
   "id": "0676d6f6",
   "metadata": {},
   "source": [
    "Столбец с оценками пользователей имеет тип данных object. Вероятно, в нем кроме числовых и пропущенных значений содержатся строковые значения. Посмотрим на список уникальных значений в столбце:"
   ]
  },
  {
   "cell_type": "code",
   "execution_count": 9,
   "id": "ea52de34",
   "metadata": {},
   "outputs": [
    {
     "data": {
      "text/plain": [
       "array(['8', nan, '8.3', '8.5', '6.6', '8.4', '8.6', '7.7', '6.3', '7.4',\n",
       "       '8.2', '9', '7.9', '8.1', '8.7', '7.1', '3.4', '5.3', '4.8', '3.2',\n",
       "       '8.9', '6.4', '7.8', '7.5', '2.6', '7.2', '9.2', '7', '7.3', '4.3',\n",
       "       '7.6', '5.7', '5', '9.1', '6.5', 'tbd', '8.8', '6.9', '9.4', '6.8',\n",
       "       '6.1', '6.7', '5.4', '4', '4.9', '4.5', '9.3', '6.2', '4.2', '6',\n",
       "       '3.7', '4.1', '5.8', '5.6', '5.5', '4.4', '4.6', '5.9', '3.9',\n",
       "       '3.1', '2.9', '5.2', '3.3', '4.7', '5.1', '3.5', '2.5', '1.9', '3',\n",
       "       '2.7', '2.2', '2', '9.5', '2.1', '3.6', '2.8', '1.8', '3.8', '0',\n",
       "       '1.6', '9.6', '2.4', '1.7', '1.1', '0.3', '1.5', '0.7', '1.2',\n",
       "       '2.3', '0.5', '1.3', '0.2', '0.6', '1.4', '0.9', '1', '9.7'],\n",
       "      dtype=object)"
      ]
     },
     "execution_count": 9,
     "metadata": {},
     "output_type": "execute_result"
    }
   ],
   "source": [
    "data_games['user_score'].unique()"
   ]
  },
  {
   "cell_type": "markdown",
   "id": "248c231d",
   "metadata": {},
   "source": [
    "Действительно мы видим значение \"*tbd*\" (с английского вероятно To Be Determined - Будет определено). Обычно означает, что оценка игре присуждается тогда, когда на нее поступит определенное минимальное количество отзывов или оценок от пользователей. Таким образом данная аббревиатура не несет для нас никакой ценной информации. Для приведения данных к типу float, заменим ее на отсутствующее значение."
   ]
  },
  {
   "cell_type": "code",
   "execution_count": 10,
   "id": "647e118e",
   "metadata": {},
   "outputs": [],
   "source": [
    "data_games['user_score'] = pd.to_numeric(data_games['user_score'], errors='coerce')"
   ]
  },
  {
   "cell_type": "code",
   "execution_count": 11,
   "id": "4e24952a",
   "metadata": {},
   "outputs": [
    {
     "name": "stdout",
     "output_type": "stream",
     "text": [
      "<class 'pandas.core.frame.DataFrame'>\n",
      "RangeIndex: 16715 entries, 0 to 16714\n",
      "Data columns (total 11 columns):\n",
      "name               16713 non-null object\n",
      "platform           16715 non-null object\n",
      "year_of_release    16446 non-null Int64\n",
      "genre              16713 non-null object\n",
      "na_sales           16715 non-null float64\n",
      "eu_sales           16715 non-null float64\n",
      "jp_sales           16715 non-null float64\n",
      "other_sales        16715 non-null float64\n",
      "critic_score       8137 non-null Int64\n",
      "user_score         7590 non-null float64\n",
      "rating             9949 non-null object\n",
      "dtypes: Int64(2), float64(5), object(4)\n",
      "memory usage: 1.4+ MB\n"
     ]
    }
   ],
   "source": [
    "# проверка\n",
    "data_games.info()"
   ]
  },
  {
   "cell_type": "markdown",
   "id": "f185ab87",
   "metadata": {},
   "source": [
    "### Вывод\n",
    "Мы привели данные в столбцах **year_of_release** и **critic_score** к типу int, а данные столбце **user_score** теперь имеют тип float, что соответствует необходимым нам типам данных. "
   ]
  },
  {
   "cell_type": "markdown",
   "id": "145dee7e",
   "metadata": {},
   "source": [
    "### Обработка попусков"
   ]
  },
  {
   "cell_type": "markdown",
   "id": "cd7a9bd5",
   "metadata": {},
   "source": [
    "Проверим наше предположение на счет того, что пропуски в названиях и жанрах игр в одних и тех же строках."
   ]
  },
  {
   "cell_type": "code",
   "execution_count": 12,
   "id": "33b87278",
   "metadata": {
    "scrolled": false
   },
   "outputs": [
    {
     "data": {
      "text/html": [
       "<div>\n",
       "<style scoped>\n",
       "    .dataframe tbody tr th:only-of-type {\n",
       "        vertical-align: middle;\n",
       "    }\n",
       "\n",
       "    .dataframe tbody tr th {\n",
       "        vertical-align: top;\n",
       "    }\n",
       "\n",
       "    .dataframe thead th {\n",
       "        text-align: right;\n",
       "    }\n",
       "</style>\n",
       "<table border=\"1\" class=\"dataframe\">\n",
       "  <thead>\n",
       "    <tr style=\"text-align: right;\">\n",
       "      <th></th>\n",
       "      <th>name</th>\n",
       "      <th>platform</th>\n",
       "      <th>year_of_release</th>\n",
       "      <th>genre</th>\n",
       "      <th>na_sales</th>\n",
       "      <th>eu_sales</th>\n",
       "      <th>jp_sales</th>\n",
       "      <th>other_sales</th>\n",
       "      <th>critic_score</th>\n",
       "      <th>user_score</th>\n",
       "      <th>rating</th>\n",
       "    </tr>\n",
       "  </thead>\n",
       "  <tbody>\n",
       "    <tr>\n",
       "      <td>659</td>\n",
       "      <td>NaN</td>\n",
       "      <td>GEN</td>\n",
       "      <td>1993</td>\n",
       "      <td>NaN</td>\n",
       "      <td>1.78</td>\n",
       "      <td>0.53</td>\n",
       "      <td>0.00</td>\n",
       "      <td>0.08</td>\n",
       "      <td>NaN</td>\n",
       "      <td>NaN</td>\n",
       "      <td>NaN</td>\n",
       "    </tr>\n",
       "    <tr>\n",
       "      <td>14244</td>\n",
       "      <td>NaN</td>\n",
       "      <td>GEN</td>\n",
       "      <td>1993</td>\n",
       "      <td>NaN</td>\n",
       "      <td>0.00</td>\n",
       "      <td>0.00</td>\n",
       "      <td>0.03</td>\n",
       "      <td>0.00</td>\n",
       "      <td>NaN</td>\n",
       "      <td>NaN</td>\n",
       "      <td>NaN</td>\n",
       "    </tr>\n",
       "  </tbody>\n",
       "</table>\n",
       "</div>"
      ],
      "text/plain": [
       "      name platform  year_of_release genre  na_sales  eu_sales  jp_sales  \\\n",
       "659    NaN      GEN             1993   NaN      1.78      0.53      0.00   \n",
       "14244  NaN      GEN             1993   NaN      0.00      0.00      0.03   \n",
       "\n",
       "       other_sales  critic_score  user_score rating  \n",
       "659           0.08           NaN         NaN    NaN  \n",
       "14244         0.00           NaN         NaN    NaN  "
      ]
     },
     "execution_count": 12,
     "metadata": {},
     "output_type": "execute_result"
    }
   ],
   "source": [
    "data_games.query('name.isna() and genre.isna()')"
   ]
  },
  {
   "cell_type": "markdown",
   "id": "f6f861dc",
   "metadata": {},
   "source": [
    "Действительно, наше предположение подтвердилось. Название игры для нашего исследования не важно, а вот жанр имеет значение и поскольку мы не можем восстановить жанр игры по ее названию, то удалим эти 2 строки."
   ]
  },
  {
   "cell_type": "code",
   "execution_count": 13,
   "id": "1102c115",
   "metadata": {},
   "outputs": [],
   "source": [
    "data_games.dropna(subset=['name'], inplace=True)"
   ]
  },
  {
   "cell_type": "markdown",
   "id": "5a83fe69",
   "metadata": {},
   "source": [
    "Заполним пропуски в столбце **rating** значениями \"undefined\"."
   ]
  },
  {
   "cell_type": "code",
   "execution_count": 14,
   "id": "389badf2",
   "metadata": {},
   "outputs": [],
   "source": [
    "data_games['rating'] = data_games['rating'].fillna('undefined')"
   ]
  },
  {
   "cell_type": "markdown",
   "id": "7358dfea",
   "metadata": {},
   "source": [
    "### Вывод\n",
    "Мы удалили 2 строки и избавились от пропусков в столбцах с именем и жанром игр."
   ]
  },
  {
   "cell_type": "markdown",
   "id": "7f70c9b7",
   "metadata": {},
   "source": [
    "### Добавление данных в таблицу"
   ]
  },
  {
   "cell_type": "markdown",
   "id": "4cf25bb1",
   "metadata": {},
   "source": [
    "Посчитаем суммарные продажи во всех регионах и запишите их в отдельный столбец.  "
   ]
  },
  {
   "cell_type": "code",
   "execution_count": 15,
   "id": "1834b48c",
   "metadata": {},
   "outputs": [],
   "source": [
    "data_games['global_sales'] = data_games.loc[:, 'na_sales': 'other_sales'].sum(axis=1)"
   ]
  },
  {
   "cell_type": "code",
   "execution_count": 16,
   "id": "f5362072",
   "metadata": {},
   "outputs": [
    {
     "data": {
      "text/html": [
       "<div>\n",
       "<style scoped>\n",
       "    .dataframe tbody tr th:only-of-type {\n",
       "        vertical-align: middle;\n",
       "    }\n",
       "\n",
       "    .dataframe tbody tr th {\n",
       "        vertical-align: top;\n",
       "    }\n",
       "\n",
       "    .dataframe thead th {\n",
       "        text-align: right;\n",
       "    }\n",
       "</style>\n",
       "<table border=\"1\" class=\"dataframe\">\n",
       "  <thead>\n",
       "    <tr style=\"text-align: right;\">\n",
       "      <th></th>\n",
       "      <th>name</th>\n",
       "      <th>platform</th>\n",
       "      <th>year_of_release</th>\n",
       "      <th>genre</th>\n",
       "      <th>na_sales</th>\n",
       "      <th>eu_sales</th>\n",
       "      <th>jp_sales</th>\n",
       "      <th>other_sales</th>\n",
       "      <th>critic_score</th>\n",
       "      <th>user_score</th>\n",
       "      <th>rating</th>\n",
       "      <th>global_sales</th>\n",
       "    </tr>\n",
       "  </thead>\n",
       "  <tbody>\n",
       "    <tr>\n",
       "      <td>0</td>\n",
       "      <td>Wii Sports</td>\n",
       "      <td>Wii</td>\n",
       "      <td>2006</td>\n",
       "      <td>Sports</td>\n",
       "      <td>41.36</td>\n",
       "      <td>28.96</td>\n",
       "      <td>3.77</td>\n",
       "      <td>8.45</td>\n",
       "      <td>76</td>\n",
       "      <td>8.0</td>\n",
       "      <td>E</td>\n",
       "      <td>82.54</td>\n",
       "    </tr>\n",
       "    <tr>\n",
       "      <td>1</td>\n",
       "      <td>Super Mario Bros.</td>\n",
       "      <td>NES</td>\n",
       "      <td>1985</td>\n",
       "      <td>Platform</td>\n",
       "      <td>29.08</td>\n",
       "      <td>3.58</td>\n",
       "      <td>6.81</td>\n",
       "      <td>0.77</td>\n",
       "      <td>NaN</td>\n",
       "      <td>NaN</td>\n",
       "      <td>undefined</td>\n",
       "      <td>40.24</td>\n",
       "    </tr>\n",
       "    <tr>\n",
       "      <td>2</td>\n",
       "      <td>Mario Kart Wii</td>\n",
       "      <td>Wii</td>\n",
       "      <td>2008</td>\n",
       "      <td>Racing</td>\n",
       "      <td>15.68</td>\n",
       "      <td>12.76</td>\n",
       "      <td>3.79</td>\n",
       "      <td>3.29</td>\n",
       "      <td>82</td>\n",
       "      <td>8.3</td>\n",
       "      <td>E</td>\n",
       "      <td>35.52</td>\n",
       "    </tr>\n",
       "    <tr>\n",
       "      <td>3</td>\n",
       "      <td>Wii Sports Resort</td>\n",
       "      <td>Wii</td>\n",
       "      <td>2009</td>\n",
       "      <td>Sports</td>\n",
       "      <td>15.61</td>\n",
       "      <td>10.93</td>\n",
       "      <td>3.28</td>\n",
       "      <td>2.95</td>\n",
       "      <td>80</td>\n",
       "      <td>8.0</td>\n",
       "      <td>E</td>\n",
       "      <td>32.77</td>\n",
       "    </tr>\n",
       "    <tr>\n",
       "      <td>4</td>\n",
       "      <td>Pokemon Red/Pokemon Blue</td>\n",
       "      <td>GB</td>\n",
       "      <td>1996</td>\n",
       "      <td>Role-Playing</td>\n",
       "      <td>11.27</td>\n",
       "      <td>8.89</td>\n",
       "      <td>10.22</td>\n",
       "      <td>1.00</td>\n",
       "      <td>NaN</td>\n",
       "      <td>NaN</td>\n",
       "      <td>undefined</td>\n",
       "      <td>31.38</td>\n",
       "    </tr>\n",
       "  </tbody>\n",
       "</table>\n",
       "</div>"
      ],
      "text/plain": [
       "                       name platform  year_of_release         genre  na_sales  \\\n",
       "0                Wii Sports      Wii             2006        Sports     41.36   \n",
       "1         Super Mario Bros.      NES             1985      Platform     29.08   \n",
       "2            Mario Kart Wii      Wii             2008        Racing     15.68   \n",
       "3         Wii Sports Resort      Wii             2009        Sports     15.61   \n",
       "4  Pokemon Red/Pokemon Blue       GB             1996  Role-Playing     11.27   \n",
       "\n",
       "   eu_sales  jp_sales  other_sales  critic_score  user_score     rating  \\\n",
       "0     28.96      3.77         8.45            76         8.0          E   \n",
       "1      3.58      6.81         0.77           NaN         NaN  undefined   \n",
       "2     12.76      3.79         3.29            82         8.3          E   \n",
       "3     10.93      3.28         2.95            80         8.0          E   \n",
       "4      8.89     10.22         1.00           NaN         NaN  undefined   \n",
       "\n",
       "   global_sales  \n",
       "0         82.54  \n",
       "1         40.24  \n",
       "2         35.52  \n",
       "3         32.77  \n",
       "4         31.38  "
      ]
     },
     "execution_count": 16,
     "metadata": {},
     "output_type": "execute_result"
    }
   ],
   "source": [
    "# проверка\n",
    "data_games.head()"
   ]
  },
  {
   "cell_type": "markdown",
   "id": "ea641a64",
   "metadata": {},
   "source": [
    "### Вывод\n",
    "Мы добавили в таблицу данные с глобальными продажами игр."
   ]
  },
  {
   "cell_type": "markdown",
   "id": "3b4b396a",
   "metadata": {},
   "source": [
    "## Исследовательский анализ данных"
   ]
  },
  {
   "cell_type": "markdown",
   "id": "07dc2cb3",
   "metadata": {},
   "source": [
    "### Количество игр, выпущенных в разные годы"
   ]
  },
  {
   "cell_type": "markdown",
   "id": "ce60e176",
   "metadata": {},
   "source": [
    "Изучим какое количество игр выпускалось в разные годы. Результат отразим на диаграмме."
   ]
  },
  {
   "cell_type": "code",
   "execution_count": 17,
   "id": "42551a35",
   "metadata": {
    "scrolled": false
   },
   "outputs": [
    {
     "data": {
      "image/png": "[encoded data removed]",
      "text/plain": [
       "<Figure size 864x504 with 1 Axes>"
      ]
     },
     "metadata": {},
     "output_type": "display_data"
    }
   ],
   "source": [
    "# гистограмма количества выпущенных игр в разные годы\n",
    "sns.set(style=\"darkgrid\")\n",
    "plt.subplots(figsize=(12, 7))\n",
    "sns.histplot(data_games['year_of_release'], color='teal', kde=False)\n",
    "plt.xlabel('Годы', fontsize = 13)\n",
    "plt.ylabel('Количество', fontsize = 13)\n",
    "plt.title('Количество выпущенных игр в разные годы', fontsize = 17)\n",
    "plt.show()    "
   ]
  },
  {
   "cell_type": "markdown",
   "id": "16d07bcc",
   "metadata": {
    "scrolled": true
   },
   "source": [
    "В период с 1980 по 1993 гг. выпускалось очень небольшое количество игр по сравнению с более поздними годами. Очевидно индустрия компьютерных игр только начинала развиваться. Таким образом данные этого периода не будут полезны для дальнейшего анализа.  \n",
    "Резкий рост можно наблюдать в 2002 году, а пик игровой индустрии пришелся на 2005 - 2011 годы. После чего в 2012 году наблюдался резкий спад, почти в 2 раза. В период с 2012 по 2016 годы уже не наблюдалось резких изменений и количество выпущенных игр в 2015 году практически соответствовало уровню 2012 года."
   ]
  },
  {
   "cell_type": "markdown",
   "id": "d49b3884",
   "metadata": {},
   "source": [
    "### Вывод"
   ]
  },
  {
   "cell_type": "markdown",
   "id": "f684316e",
   "metadata": {},
   "source": [
    "Индустрия компьютерных игр активно развивается с 1994 года. Резкий рост произошел в 2002 году, а пик пришелся на 2005 - 2011 годы. После чего в 2012 году наблюдался резкий спад и позже, вплоть по 2016 год, уже не наблюдалось резких изменений."
   ]
  },
  {
   "cell_type": "markdown",
   "id": "33314462",
   "metadata": {},
   "source": [
    "###  Как меняются продажи игр по платформам с течением времени"
   ]
  },
  {
   "cell_type": "markdown",
   "id": "14b24e45",
   "metadata": {},
   "source": [
    "- **Изучим, как менялись продажи игр по платформам. Выберем платформы с наибольшими суммарными продажами и построим распределение по годам.** "
   ]
  },
  {
   "cell_type": "markdown",
   "id": "a6ff323f",
   "metadata": {},
   "source": [
    "Выберем 10 платформ с наибольшими суммарными продажами."
   ]
  },
  {
   "cell_type": "code",
   "execution_count": 18,
   "id": "70143a81",
   "metadata": {},
   "outputs": [
    {
     "data": {
      "text/plain": [
       "platform\n",
       "PS2     1255.77\n",
       "X360     971.42\n",
       "PS3      939.65\n",
       "Wii      907.51\n",
       "DS       806.12\n",
       "PS       730.86\n",
       "GBA      317.85\n",
       "PS4      314.14\n",
       "PSP      294.05\n",
       "PC       259.52\n",
       "Name: global_sales, dtype: float64"
      ]
     },
     "execution_count": 18,
     "metadata": {},
     "output_type": "execute_result"
    }
   ],
   "source": [
    "top10_platforms = data_games.groupby(by='platform')['global_sales'].sum().sort_values(ascending=False).head(10)\n",
    "top10_platforms"
   ]
  },
  {
   "cell_type": "markdown",
   "id": "5d3a1db9",
   "metadata": {},
   "source": [
    "Лидирует платформа PS2 - 1255.77 млн. проданных копий игр, следом лидируют платформы X360, PS3 и Wii с количеством проданных копий от 971 до 907 млн. И замыкает десятку платформа PC - 259 млн. проданных копий игр."
   ]
  },
  {
   "cell_type": "markdown",
   "id": "fdbcdf0b",
   "metadata": {},
   "source": [
    "Возьмем топ 10 платформ и посмотрим на распределение по годам, начиная с 1994 года."
   ]
  },
  {
   "cell_type": "code",
   "execution_count": 19,
   "id": "87f110f6",
   "metadata": {},
   "outputs": [],
   "source": [
    "# список названий 10 платформ с наибольшими продаажми с 1994 г.\n",
    "name_top10_platfoms = top10_platforms.index"
   ]
  },
  {
   "cell_type": "code",
   "execution_count": 20,
   "id": "d98710cd",
   "metadata": {},
   "outputs": [
    {
     "data": {
      "text/html": [
       "<style  type=\"text/css\" >\n",
       "</style><table id=\"T_1fea6f70_4128_11ec_87bf_02420a3971e6\" ><caption>Топ 10 платформ по продажам игр начиная с 1994 года</caption><thead>    <tr>        <th class=\"index_name level0\" >platform</th>        <th class=\"col_heading level0 col0\" >DS</th>        <th class=\"col_heading level0 col1\" >GBA</th>        <th class=\"col_heading level0 col2\" >PC</th>        <th class=\"col_heading level0 col3\" >PS</th>        <th class=\"col_heading level0 col4\" >PS2</th>        <th class=\"col_heading level0 col5\" >PS3</th>        <th class=\"col_heading level0 col6\" >PS4</th>        <th class=\"col_heading level0 col7\" >PSP</th>        <th class=\"col_heading level0 col8\" >Wii</th>        <th class=\"col_heading level0 col9\" >X360</th>    </tr>    <tr>        <th class=\"index_name level0\" >year_of_release</th>        <th class=\"blank\" ></th>        <th class=\"blank\" ></th>        <th class=\"blank\" ></th>        <th class=\"blank\" ></th>        <th class=\"blank\" ></th>        <th class=\"blank\" ></th>        <th class=\"blank\" ></th>        <th class=\"blank\" ></th>        <th class=\"blank\" ></th>        <th class=\"blank\" ></th>    </tr></thead><tbody>\n",
       "                <tr>\n",
       "                        <th id=\"T_1fea6f70_4128_11ec_87bf_02420a3971e6level0_row0\" class=\"row_heading level0 row0\" >1994</th>\n",
       "                        <td id=\"T_1fea6f70_4128_11ec_87bf_02420a3971e6row0_col0\" class=\"data row0 col0\" >nan</td>\n",
       "                        <td id=\"T_1fea6f70_4128_11ec_87bf_02420a3971e6row0_col1\" class=\"data row0 col1\" >nan</td>\n",
       "                        <td id=\"T_1fea6f70_4128_11ec_87bf_02420a3971e6row0_col2\" class=\"data row0 col2\" >12.87</td>\n",
       "                        <td id=\"T_1fea6f70_4128_11ec_87bf_02420a3971e6row0_col3\" class=\"data row0 col3\" >6.03</td>\n",
       "                        <td id=\"T_1fea6f70_4128_11ec_87bf_02420a3971e6row0_col4\" class=\"data row0 col4\" >nan</td>\n",
       "                        <td id=\"T_1fea6f70_4128_11ec_87bf_02420a3971e6row0_col5\" class=\"data row0 col5\" >nan</td>\n",
       "                        <td id=\"T_1fea6f70_4128_11ec_87bf_02420a3971e6row0_col6\" class=\"data row0 col6\" >nan</td>\n",
       "                        <td id=\"T_1fea6f70_4128_11ec_87bf_02420a3971e6row0_col7\" class=\"data row0 col7\" >nan</td>\n",
       "                        <td id=\"T_1fea6f70_4128_11ec_87bf_02420a3971e6row0_col8\" class=\"data row0 col8\" >nan</td>\n",
       "                        <td id=\"T_1fea6f70_4128_11ec_87bf_02420a3971e6row0_col9\" class=\"data row0 col9\" >nan</td>\n",
       "            </tr>\n",
       "            <tr>\n",
       "                        <th id=\"T_1fea6f70_4128_11ec_87bf_02420a3971e6level0_row1\" class=\"row_heading level0 row1\" >1995</th>\n",
       "                        <td id=\"T_1fea6f70_4128_11ec_87bf_02420a3971e6row1_col0\" class=\"data row1 col0\" >nan</td>\n",
       "                        <td id=\"T_1fea6f70_4128_11ec_87bf_02420a3971e6row1_col1\" class=\"data row1 col1\" >nan</td>\n",
       "                        <td id=\"T_1fea6f70_4128_11ec_87bf_02420a3971e6row1_col2\" class=\"data row1 col2\" >4.22</td>\n",
       "                        <td id=\"T_1fea6f70_4128_11ec_87bf_02420a3971e6row1_col3\" class=\"data row1 col3\" >35.96</td>\n",
       "                        <td id=\"T_1fea6f70_4128_11ec_87bf_02420a3971e6row1_col4\" class=\"data row1 col4\" >nan</td>\n",
       "                        <td id=\"T_1fea6f70_4128_11ec_87bf_02420a3971e6row1_col5\" class=\"data row1 col5\" >nan</td>\n",
       "                        <td id=\"T_1fea6f70_4128_11ec_87bf_02420a3971e6row1_col6\" class=\"data row1 col6\" >nan</td>\n",
       "                        <td id=\"T_1fea6f70_4128_11ec_87bf_02420a3971e6row1_col7\" class=\"data row1 col7\" >nan</td>\n",
       "                        <td id=\"T_1fea6f70_4128_11ec_87bf_02420a3971e6row1_col8\" class=\"data row1 col8\" >nan</td>\n",
       "                        <td id=\"T_1fea6f70_4128_11ec_87bf_02420a3971e6row1_col9\" class=\"data row1 col9\" >nan</td>\n",
       "            </tr>\n",
       "            <tr>\n",
       "                        <th id=\"T_1fea6f70_4128_11ec_87bf_02420a3971e6level0_row2\" class=\"row_heading level0 row2\" >1996</th>\n",
       "                        <td id=\"T_1fea6f70_4128_11ec_87bf_02420a3971e6row2_col0\" class=\"data row2 col0\" >nan</td>\n",
       "                        <td id=\"T_1fea6f70_4128_11ec_87bf_02420a3971e6row2_col1\" class=\"data row2 col1\" >nan</td>\n",
       "                        <td id=\"T_1fea6f70_4128_11ec_87bf_02420a3971e6row2_col2\" class=\"data row2 col2\" >10.58</td>\n",
       "                        <td id=\"T_1fea6f70_4128_11ec_87bf_02420a3971e6row2_col3\" class=\"data row2 col3\" >94.7</td>\n",
       "                        <td id=\"T_1fea6f70_4128_11ec_87bf_02420a3971e6row2_col4\" class=\"data row2 col4\" >nan</td>\n",
       "                        <td id=\"T_1fea6f70_4128_11ec_87bf_02420a3971e6row2_col5\" class=\"data row2 col5\" >nan</td>\n",
       "                        <td id=\"T_1fea6f70_4128_11ec_87bf_02420a3971e6row2_col6\" class=\"data row2 col6\" >nan</td>\n",
       "                        <td id=\"T_1fea6f70_4128_11ec_87bf_02420a3971e6row2_col7\" class=\"data row2 col7\" >nan</td>\n",
       "                        <td id=\"T_1fea6f70_4128_11ec_87bf_02420a3971e6row2_col8\" class=\"data row2 col8\" >nan</td>\n",
       "                        <td id=\"T_1fea6f70_4128_11ec_87bf_02420a3971e6row2_col9\" class=\"data row2 col9\" >nan</td>\n",
       "            </tr>\n",
       "            <tr>\n",
       "                        <th id=\"T_1fea6f70_4128_11ec_87bf_02420a3971e6level0_row3\" class=\"row_heading level0 row3\" >1997</th>\n",
       "                        <td id=\"T_1fea6f70_4128_11ec_87bf_02420a3971e6row3_col0\" class=\"data row3 col0\" >nan</td>\n",
       "                        <td id=\"T_1fea6f70_4128_11ec_87bf_02420a3971e6row3_col1\" class=\"data row3 col1\" >nan</td>\n",
       "                        <td id=\"T_1fea6f70_4128_11ec_87bf_02420a3971e6row3_col2\" class=\"data row3 col2\" >11.27</td>\n",
       "                        <td id=\"T_1fea6f70_4128_11ec_87bf_02420a3971e6row3_col3\" class=\"data row3 col3\" >136.17</td>\n",
       "                        <td id=\"T_1fea6f70_4128_11ec_87bf_02420a3971e6row3_col4\" class=\"data row3 col4\" >nan</td>\n",
       "                        <td id=\"T_1fea6f70_4128_11ec_87bf_02420a3971e6row3_col5\" class=\"data row3 col5\" >nan</td>\n",
       "                        <td id=\"T_1fea6f70_4128_11ec_87bf_02420a3971e6row3_col6\" class=\"data row3 col6\" >nan</td>\n",
       "                        <td id=\"T_1fea6f70_4128_11ec_87bf_02420a3971e6row3_col7\" class=\"data row3 col7\" >nan</td>\n",
       "                        <td id=\"T_1fea6f70_4128_11ec_87bf_02420a3971e6row3_col8\" class=\"data row3 col8\" >nan</td>\n",
       "                        <td id=\"T_1fea6f70_4128_11ec_87bf_02420a3971e6row3_col9\" class=\"data row3 col9\" >nan</td>\n",
       "            </tr>\n",
       "            <tr>\n",
       "                        <th id=\"T_1fea6f70_4128_11ec_87bf_02420a3971e6level0_row4\" class=\"row_heading level0 row4\" >1998</th>\n",
       "                        <td id=\"T_1fea6f70_4128_11ec_87bf_02420a3971e6row4_col0\" class=\"data row4 col0\" >nan</td>\n",
       "                        <td id=\"T_1fea6f70_4128_11ec_87bf_02420a3971e6row4_col1\" class=\"data row4 col1\" >nan</td>\n",
       "                        <td id=\"T_1fea6f70_4128_11ec_87bf_02420a3971e6row4_col2\" class=\"data row4 col2\" >3.26</td>\n",
       "                        <td id=\"T_1fea6f70_4128_11ec_87bf_02420a3971e6row4_col3\" class=\"data row4 col3\" >169.49</td>\n",
       "                        <td id=\"T_1fea6f70_4128_11ec_87bf_02420a3971e6row4_col4\" class=\"data row4 col4\" >nan</td>\n",
       "                        <td id=\"T_1fea6f70_4128_11ec_87bf_02420a3971e6row4_col5\" class=\"data row4 col5\" >nan</td>\n",
       "                        <td id=\"T_1fea6f70_4128_11ec_87bf_02420a3971e6row4_col6\" class=\"data row4 col6\" >nan</td>\n",
       "                        <td id=\"T_1fea6f70_4128_11ec_87bf_02420a3971e6row4_col7\" class=\"data row4 col7\" >nan</td>\n",
       "                        <td id=\"T_1fea6f70_4128_11ec_87bf_02420a3971e6row4_col8\" class=\"data row4 col8\" >nan</td>\n",
       "                        <td id=\"T_1fea6f70_4128_11ec_87bf_02420a3971e6row4_col9\" class=\"data row4 col9\" >nan</td>\n",
       "            </tr>\n",
       "            <tr>\n",
       "                        <th id=\"T_1fea6f70_4128_11ec_87bf_02420a3971e6level0_row5\" class=\"row_heading level0 row5\" >1999</th>\n",
       "                        <td id=\"T_1fea6f70_4128_11ec_87bf_02420a3971e6row5_col0\" class=\"data row5 col0\" >nan</td>\n",
       "                        <td id=\"T_1fea6f70_4128_11ec_87bf_02420a3971e6row5_col1\" class=\"data row5 col1\" >nan</td>\n",
       "                        <td id=\"T_1fea6f70_4128_11ec_87bf_02420a3971e6row5_col2\" class=\"data row5 col2\" >4.74</td>\n",
       "                        <td id=\"T_1fea6f70_4128_11ec_87bf_02420a3971e6row5_col3\" class=\"data row5 col3\" >144.53</td>\n",
       "                        <td id=\"T_1fea6f70_4128_11ec_87bf_02420a3971e6row5_col4\" class=\"data row5 col4\" >nan</td>\n",
       "                        <td id=\"T_1fea6f70_4128_11ec_87bf_02420a3971e6row5_col5\" class=\"data row5 col5\" >nan</td>\n",
       "                        <td id=\"T_1fea6f70_4128_11ec_87bf_02420a3971e6row5_col6\" class=\"data row5 col6\" >nan</td>\n",
       "                        <td id=\"T_1fea6f70_4128_11ec_87bf_02420a3971e6row5_col7\" class=\"data row5 col7\" >nan</td>\n",
       "                        <td id=\"T_1fea6f70_4128_11ec_87bf_02420a3971e6row5_col8\" class=\"data row5 col8\" >nan</td>\n",
       "                        <td id=\"T_1fea6f70_4128_11ec_87bf_02420a3971e6row5_col9\" class=\"data row5 col9\" >nan</td>\n",
       "            </tr>\n",
       "            <tr>\n",
       "                        <th id=\"T_1fea6f70_4128_11ec_87bf_02420a3971e6level0_row6\" class=\"row_heading level0 row6\" >2000</th>\n",
       "                        <td id=\"T_1fea6f70_4128_11ec_87bf_02420a3971e6row6_col0\" class=\"data row6 col0\" >nan</td>\n",
       "                        <td id=\"T_1fea6f70_4128_11ec_87bf_02420a3971e6row6_col1\" class=\"data row6 col1\" >0.07</td>\n",
       "                        <td id=\"T_1fea6f70_4128_11ec_87bf_02420a3971e6row6_col2\" class=\"data row6 col2\" >4.66</td>\n",
       "                        <td id=\"T_1fea6f70_4128_11ec_87bf_02420a3971e6row6_col3\" class=\"data row6 col3\" >96.37</td>\n",
       "                        <td id=\"T_1fea6f70_4128_11ec_87bf_02420a3971e6row6_col4\" class=\"data row6 col4\" >39.17</td>\n",
       "                        <td id=\"T_1fea6f70_4128_11ec_87bf_02420a3971e6row6_col5\" class=\"data row6 col5\" >nan</td>\n",
       "                        <td id=\"T_1fea6f70_4128_11ec_87bf_02420a3971e6row6_col6\" class=\"data row6 col6\" >nan</td>\n",
       "                        <td id=\"T_1fea6f70_4128_11ec_87bf_02420a3971e6row6_col7\" class=\"data row6 col7\" >nan</td>\n",
       "                        <td id=\"T_1fea6f70_4128_11ec_87bf_02420a3971e6row6_col8\" class=\"data row6 col8\" >nan</td>\n",
       "                        <td id=\"T_1fea6f70_4128_11ec_87bf_02420a3971e6row6_col9\" class=\"data row6 col9\" >nan</td>\n",
       "            </tr>\n",
       "            <tr>\n",
       "                        <th id=\"T_1fea6f70_4128_11ec_87bf_02420a3971e6level0_row7\" class=\"row_heading level0 row7\" >2001</th>\n",
       "                        <td id=\"T_1fea6f70_4128_11ec_87bf_02420a3971e6row7_col0\" class=\"data row7 col0\" >nan</td>\n",
       "                        <td id=\"T_1fea6f70_4128_11ec_87bf_02420a3971e6row7_col1\" class=\"data row7 col1\" >61.53</td>\n",
       "                        <td id=\"T_1fea6f70_4128_11ec_87bf_02420a3971e6row7_col2\" class=\"data row7 col2\" >5.47</td>\n",
       "                        <td id=\"T_1fea6f70_4128_11ec_87bf_02420a3971e6row7_col3\" class=\"data row7 col3\" >35.59</td>\n",
       "                        <td id=\"T_1fea6f70_4128_11ec_87bf_02420a3971e6row7_col4\" class=\"data row7 col4\" >166.43</td>\n",
       "                        <td id=\"T_1fea6f70_4128_11ec_87bf_02420a3971e6row7_col5\" class=\"data row7 col5\" >nan</td>\n",
       "                        <td id=\"T_1fea6f70_4128_11ec_87bf_02420a3971e6row7_col6\" class=\"data row7 col6\" >nan</td>\n",
       "                        <td id=\"T_1fea6f70_4128_11ec_87bf_02420a3971e6row7_col7\" class=\"data row7 col7\" >nan</td>\n",
       "                        <td id=\"T_1fea6f70_4128_11ec_87bf_02420a3971e6row7_col8\" class=\"data row7 col8\" >nan</td>\n",
       "                        <td id=\"T_1fea6f70_4128_11ec_87bf_02420a3971e6row7_col9\" class=\"data row7 col9\" >nan</td>\n",
       "            </tr>\n",
       "            <tr>\n",
       "                        <th id=\"T_1fea6f70_4128_11ec_87bf_02420a3971e6level0_row8\" class=\"row_heading level0 row8\" >2002</th>\n",
       "                        <td id=\"T_1fea6f70_4128_11ec_87bf_02420a3971e6row8_col0\" class=\"data row8 col0\" >nan</td>\n",
       "                        <td id=\"T_1fea6f70_4128_11ec_87bf_02420a3971e6row8_col1\" class=\"data row8 col1\" >74.16</td>\n",
       "                        <td id=\"T_1fea6f70_4128_11ec_87bf_02420a3971e6row8_col2\" class=\"data row8 col2\" >8.57</td>\n",
       "                        <td id=\"T_1fea6f70_4128_11ec_87bf_02420a3971e6row8_col3\" class=\"data row8 col3\" >6.67</td>\n",
       "                        <td id=\"T_1fea6f70_4128_11ec_87bf_02420a3971e6row8_col4\" class=\"data row8 col4\" >205.38</td>\n",
       "                        <td id=\"T_1fea6f70_4128_11ec_87bf_02420a3971e6row8_col5\" class=\"data row8 col5\" >nan</td>\n",
       "                        <td id=\"T_1fea6f70_4128_11ec_87bf_02420a3971e6row8_col6\" class=\"data row8 col6\" >nan</td>\n",
       "                        <td id=\"T_1fea6f70_4128_11ec_87bf_02420a3971e6row8_col7\" class=\"data row8 col7\" >nan</td>\n",
       "                        <td id=\"T_1fea6f70_4128_11ec_87bf_02420a3971e6row8_col8\" class=\"data row8 col8\" >nan</td>\n",
       "                        <td id=\"T_1fea6f70_4128_11ec_87bf_02420a3971e6row8_col9\" class=\"data row8 col9\" >nan</td>\n",
       "            </tr>\n",
       "            <tr>\n",
       "                        <th id=\"T_1fea6f70_4128_11ec_87bf_02420a3971e6level0_row9\" class=\"row_heading level0 row9\" >2003</th>\n",
       "                        <td id=\"T_1fea6f70_4128_11ec_87bf_02420a3971e6row9_col0\" class=\"data row9 col0\" >nan</td>\n",
       "                        <td id=\"T_1fea6f70_4128_11ec_87bf_02420a3971e6row9_col1\" class=\"data row9 col1\" >56.67</td>\n",
       "                        <td id=\"T_1fea6f70_4128_11ec_87bf_02420a3971e6row9_col2\" class=\"data row9 col2\" >8.84</td>\n",
       "                        <td id=\"T_1fea6f70_4128_11ec_87bf_02420a3971e6row9_col3\" class=\"data row9 col3\" >2.07</td>\n",
       "                        <td id=\"T_1fea6f70_4128_11ec_87bf_02420a3971e6row9_col4\" class=\"data row9 col4\" >184.31</td>\n",
       "                        <td id=\"T_1fea6f70_4128_11ec_87bf_02420a3971e6row9_col5\" class=\"data row9 col5\" >nan</td>\n",
       "                        <td id=\"T_1fea6f70_4128_11ec_87bf_02420a3971e6row9_col6\" class=\"data row9 col6\" >nan</td>\n",
       "                        <td id=\"T_1fea6f70_4128_11ec_87bf_02420a3971e6row9_col7\" class=\"data row9 col7\" >nan</td>\n",
       "                        <td id=\"T_1fea6f70_4128_11ec_87bf_02420a3971e6row9_col8\" class=\"data row9 col8\" >nan</td>\n",
       "                        <td id=\"T_1fea6f70_4128_11ec_87bf_02420a3971e6row9_col9\" class=\"data row9 col9\" >nan</td>\n",
       "            </tr>\n",
       "            <tr>\n",
       "                        <th id=\"T_1fea6f70_4128_11ec_87bf_02420a3971e6level0_row10\" class=\"row_heading level0 row10\" >2004</th>\n",
       "                        <td id=\"T_1fea6f70_4128_11ec_87bf_02420a3971e6row10_col0\" class=\"data row10 col0\" >17.27</td>\n",
       "                        <td id=\"T_1fea6f70_4128_11ec_87bf_02420a3971e6row10_col1\" class=\"data row10 col1\" >77.91</td>\n",
       "                        <td id=\"T_1fea6f70_4128_11ec_87bf_02420a3971e6row10_col2\" class=\"data row10 col2\" >10.39</td>\n",
       "                        <td id=\"T_1fea6f70_4128_11ec_87bf_02420a3971e6row10_col3\" class=\"data row10 col3\" >nan</td>\n",
       "                        <td id=\"T_1fea6f70_4128_11ec_87bf_02420a3971e6row10_col4\" class=\"data row10 col4\" >211.81</td>\n",
       "                        <td id=\"T_1fea6f70_4128_11ec_87bf_02420a3971e6row10_col5\" class=\"data row10 col5\" >nan</td>\n",
       "                        <td id=\"T_1fea6f70_4128_11ec_87bf_02420a3971e6row10_col6\" class=\"data row10 col6\" >nan</td>\n",
       "                        <td id=\"T_1fea6f70_4128_11ec_87bf_02420a3971e6row10_col7\" class=\"data row10 col7\" >7.06</td>\n",
       "                        <td id=\"T_1fea6f70_4128_11ec_87bf_02420a3971e6row10_col8\" class=\"data row10 col8\" >nan</td>\n",
       "                        <td id=\"T_1fea6f70_4128_11ec_87bf_02420a3971e6row10_col9\" class=\"data row10 col9\" >nan</td>\n",
       "            </tr>\n",
       "            <tr>\n",
       "                        <th id=\"T_1fea6f70_4128_11ec_87bf_02420a3971e6level0_row11\" class=\"row_heading level0 row11\" >2005</th>\n",
       "                        <td id=\"T_1fea6f70_4128_11ec_87bf_02420a3971e6row11_col0\" class=\"data row11 col0\" >130.14</td>\n",
       "                        <td id=\"T_1fea6f70_4128_11ec_87bf_02420a3971e6row11_col1\" class=\"data row11 col1\" >33.86</td>\n",
       "                        <td id=\"T_1fea6f70_4128_11ec_87bf_02420a3971e6row11_col2\" class=\"data row11 col2\" >4.37</td>\n",
       "                        <td id=\"T_1fea6f70_4128_11ec_87bf_02420a3971e6row11_col3\" class=\"data row11 col3\" >nan</td>\n",
       "                        <td id=\"T_1fea6f70_4128_11ec_87bf_02420a3971e6row11_col4\" class=\"data row11 col4\" >160.66</td>\n",
       "                        <td id=\"T_1fea6f70_4128_11ec_87bf_02420a3971e6row11_col5\" class=\"data row11 col5\" >nan</td>\n",
       "                        <td id=\"T_1fea6f70_4128_11ec_87bf_02420a3971e6row11_col6\" class=\"data row11 col6\" >nan</td>\n",
       "                        <td id=\"T_1fea6f70_4128_11ec_87bf_02420a3971e6row11_col7\" class=\"data row11 col7\" >43.84</td>\n",
       "                        <td id=\"T_1fea6f70_4128_11ec_87bf_02420a3971e6row11_col8\" class=\"data row11 col8\" >nan</td>\n",
       "                        <td id=\"T_1fea6f70_4128_11ec_87bf_02420a3971e6row11_col9\" class=\"data row11 col9\" >8.25</td>\n",
       "            </tr>\n",
       "            <tr>\n",
       "                        <th id=\"T_1fea6f70_4128_11ec_87bf_02420a3971e6level0_row12\" class=\"row_heading level0 row12\" >2006</th>\n",
       "                        <td id=\"T_1fea6f70_4128_11ec_87bf_02420a3971e6row12_col0\" class=\"data row12 col0\" >119.81</td>\n",
       "                        <td id=\"T_1fea6f70_4128_11ec_87bf_02420a3971e6row12_col1\" class=\"data row12 col1\" >5.28</td>\n",
       "                        <td id=\"T_1fea6f70_4128_11ec_87bf_02420a3971e6row12_col2\" class=\"data row12 col2\" >2.85</td>\n",
       "                        <td id=\"T_1fea6f70_4128_11ec_87bf_02420a3971e6row12_col3\" class=\"data row12 col3\" >nan</td>\n",
       "                        <td id=\"T_1fea6f70_4128_11ec_87bf_02420a3971e6row12_col4\" class=\"data row12 col4\" >103.42</td>\n",
       "                        <td id=\"T_1fea6f70_4128_11ec_87bf_02420a3971e6row12_col5\" class=\"data row12 col5\" >20.96</td>\n",
       "                        <td id=\"T_1fea6f70_4128_11ec_87bf_02420a3971e6row12_col6\" class=\"data row12 col6\" >nan</td>\n",
       "                        <td id=\"T_1fea6f70_4128_11ec_87bf_02420a3971e6row12_col7\" class=\"data row12 col7\" >55.32</td>\n",
       "                        <td id=\"T_1fea6f70_4128_11ec_87bf_02420a3971e6row12_col8\" class=\"data row12 col8\" >137.15</td>\n",
       "                        <td id=\"T_1fea6f70_4128_11ec_87bf_02420a3971e6row12_col9\" class=\"data row12 col9\" >51.62</td>\n",
       "            </tr>\n",
       "            <tr>\n",
       "                        <th id=\"T_1fea6f70_4128_11ec_87bf_02420a3971e6level0_row13\" class=\"row_heading level0 row13\" >2007</th>\n",
       "                        <td id=\"T_1fea6f70_4128_11ec_87bf_02420a3971e6row13_col0\" class=\"data row13 col0\" >146.94</td>\n",
       "                        <td id=\"T_1fea6f70_4128_11ec_87bf_02420a3971e6row13_col1\" class=\"data row13 col1\" >3.4</td>\n",
       "                        <td id=\"T_1fea6f70_4128_11ec_87bf_02420a3971e6row13_col2\" class=\"data row13 col2\" >9.28</td>\n",
       "                        <td id=\"T_1fea6f70_4128_11ec_87bf_02420a3971e6row13_col3\" class=\"data row13 col3\" >nan</td>\n",
       "                        <td id=\"T_1fea6f70_4128_11ec_87bf_02420a3971e6row13_col4\" class=\"data row13 col4\" >75.99</td>\n",
       "                        <td id=\"T_1fea6f70_4128_11ec_87bf_02420a3971e6row13_col5\" class=\"data row13 col5\" >73.19</td>\n",
       "                        <td id=\"T_1fea6f70_4128_11ec_87bf_02420a3971e6row13_col6\" class=\"data row13 col6\" >nan</td>\n",
       "                        <td id=\"T_1fea6f70_4128_11ec_87bf_02420a3971e6row13_col7\" class=\"data row13 col7\" >46.93</td>\n",
       "                        <td id=\"T_1fea6f70_4128_11ec_87bf_02420a3971e6row13_col8\" class=\"data row13 col8\" >152.77</td>\n",
       "                        <td id=\"T_1fea6f70_4128_11ec_87bf_02420a3971e6row13_col9\" class=\"data row13 col9\" >95.41</td>\n",
       "            </tr>\n",
       "            <tr>\n",
       "                        <th id=\"T_1fea6f70_4128_11ec_87bf_02420a3971e6level0_row14\" class=\"row_heading level0 row14\" >2008</th>\n",
       "                        <td id=\"T_1fea6f70_4128_11ec_87bf_02420a3971e6row14_col0\" class=\"data row14 col0\" >145.31</td>\n",
       "                        <td id=\"T_1fea6f70_4128_11ec_87bf_02420a3971e6row14_col1\" class=\"data row14 col1\" >nan</td>\n",
       "                        <td id=\"T_1fea6f70_4128_11ec_87bf_02420a3971e6row14_col2\" class=\"data row14 col2\" >12.42</td>\n",
       "                        <td id=\"T_1fea6f70_4128_11ec_87bf_02420a3971e6row14_col3\" class=\"data row14 col3\" >nan</td>\n",
       "                        <td id=\"T_1fea6f70_4128_11ec_87bf_02420a3971e6row14_col4\" class=\"data row14 col4\" >53.9</td>\n",
       "                        <td id=\"T_1fea6f70_4128_11ec_87bf_02420a3971e6row14_col5\" class=\"data row14 col5\" >118.52</td>\n",
       "                        <td id=\"T_1fea6f70_4128_11ec_87bf_02420a3971e6row14_col6\" class=\"data row14 col6\" >nan</td>\n",
       "                        <td id=\"T_1fea6f70_4128_11ec_87bf_02420a3971e6row14_col7\" class=\"data row14 col7\" >34.55</td>\n",
       "                        <td id=\"T_1fea6f70_4128_11ec_87bf_02420a3971e6row14_col8\" class=\"data row14 col8\" >171.32</td>\n",
       "                        <td id=\"T_1fea6f70_4128_11ec_87bf_02420a3971e6row14_col9\" class=\"data row14 col9\" >135.26</td>\n",
       "            </tr>\n",
       "            <tr>\n",
       "                        <th id=\"T_1fea6f70_4128_11ec_87bf_02420a3971e6level0_row15\" class=\"row_heading level0 row15\" >2009</th>\n",
       "                        <td id=\"T_1fea6f70_4128_11ec_87bf_02420a3971e6row15_col0\" class=\"data row15 col0\" >119.54</td>\n",
       "                        <td id=\"T_1fea6f70_4128_11ec_87bf_02420a3971e6row15_col1\" class=\"data row15 col1\" >nan</td>\n",
       "                        <td id=\"T_1fea6f70_4128_11ec_87bf_02420a3971e6row15_col2\" class=\"data row15 col2\" >16.91</td>\n",
       "                        <td id=\"T_1fea6f70_4128_11ec_87bf_02420a3971e6row15_col3\" class=\"data row15 col3\" >nan</td>\n",
       "                        <td id=\"T_1fea6f70_4128_11ec_87bf_02420a3971e6row15_col4\" class=\"data row15 col4\" >26.4</td>\n",
       "                        <td id=\"T_1fea6f70_4128_11ec_87bf_02420a3971e6row15_col5\" class=\"data row15 col5\" >130.93</td>\n",
       "                        <td id=\"T_1fea6f70_4128_11ec_87bf_02420a3971e6row15_col6\" class=\"data row15 col6\" >nan</td>\n",
       "                        <td id=\"T_1fea6f70_4128_11ec_87bf_02420a3971e6row15_col7\" class=\"data row15 col7\" >37.78</td>\n",
       "                        <td id=\"T_1fea6f70_4128_11ec_87bf_02420a3971e6row15_col8\" class=\"data row15 col8\" >206.97</td>\n",
       "                        <td id=\"T_1fea6f70_4128_11ec_87bf_02420a3971e6row15_col9\" class=\"data row15 col9\" >120.29</td>\n",
       "            </tr>\n",
       "            <tr>\n",
       "                        <th id=\"T_1fea6f70_4128_11ec_87bf_02420a3971e6level0_row16\" class=\"row_heading level0 row16\" >2010</th>\n",
       "                        <td id=\"T_1fea6f70_4128_11ec_87bf_02420a3971e6row16_col0\" class=\"data row16 col0\" >85.02</td>\n",
       "                        <td id=\"T_1fea6f70_4128_11ec_87bf_02420a3971e6row16_col1\" class=\"data row16 col1\" >nan</td>\n",
       "                        <td id=\"T_1fea6f70_4128_11ec_87bf_02420a3971e6row16_col2\" class=\"data row16 col2\" >24.28</td>\n",
       "                        <td id=\"T_1fea6f70_4128_11ec_87bf_02420a3971e6row16_col3\" class=\"data row16 col3\" >nan</td>\n",
       "                        <td id=\"T_1fea6f70_4128_11ec_87bf_02420a3971e6row16_col4\" class=\"data row16 col4\" >5.64</td>\n",
       "                        <td id=\"T_1fea6f70_4128_11ec_87bf_02420a3971e6row16_col5\" class=\"data row16 col5\" >142.17</td>\n",
       "                        <td id=\"T_1fea6f70_4128_11ec_87bf_02420a3971e6row16_col6\" class=\"data row16 col6\" >nan</td>\n",
       "                        <td id=\"T_1fea6f70_4128_11ec_87bf_02420a3971e6row16_col7\" class=\"data row16 col7\" >35.04</td>\n",
       "                        <td id=\"T_1fea6f70_4128_11ec_87bf_02420a3971e6row16_col8\" class=\"data row16 col8\" >127.95</td>\n",
       "                        <td id=\"T_1fea6f70_4128_11ec_87bf_02420a3971e6row16_col9\" class=\"data row16 col9\" >170.03</td>\n",
       "            </tr>\n",
       "            <tr>\n",
       "                        <th id=\"T_1fea6f70_4128_11ec_87bf_02420a3971e6level0_row17\" class=\"row_heading level0 row17\" >2011</th>\n",
       "                        <td id=\"T_1fea6f70_4128_11ec_87bf_02420a3971e6row17_col0\" class=\"data row17 col0\" >26.18</td>\n",
       "                        <td id=\"T_1fea6f70_4128_11ec_87bf_02420a3971e6row17_col1\" class=\"data row17 col1\" >nan</td>\n",
       "                        <td id=\"T_1fea6f70_4128_11ec_87bf_02420a3971e6row17_col2\" class=\"data row17 col2\" >35.03</td>\n",
       "                        <td id=\"T_1fea6f70_4128_11ec_87bf_02420a3971e6row17_col3\" class=\"data row17 col3\" >nan</td>\n",
       "                        <td id=\"T_1fea6f70_4128_11ec_87bf_02420a3971e6row17_col4\" class=\"data row17 col4\" >0.45</td>\n",
       "                        <td id=\"T_1fea6f70_4128_11ec_87bf_02420a3971e6row17_col5\" class=\"data row17 col5\" >156.78</td>\n",
       "                        <td id=\"T_1fea6f70_4128_11ec_87bf_02420a3971e6row17_col6\" class=\"data row17 col6\" >nan</td>\n",
       "                        <td id=\"T_1fea6f70_4128_11ec_87bf_02420a3971e6row17_col7\" class=\"data row17 col7\" >17.82</td>\n",
       "                        <td id=\"T_1fea6f70_4128_11ec_87bf_02420a3971e6row17_col8\" class=\"data row17 col8\" >59.65</td>\n",
       "                        <td id=\"T_1fea6f70_4128_11ec_87bf_02420a3971e6row17_col9\" class=\"data row17 col9\" >143.84</td>\n",
       "            </tr>\n",
       "            <tr>\n",
       "                        <th id=\"T_1fea6f70_4128_11ec_87bf_02420a3971e6level0_row18\" class=\"row_heading level0 row18\" >2012</th>\n",
       "                        <td id=\"T_1fea6f70_4128_11ec_87bf_02420a3971e6row18_col0\" class=\"data row18 col0\" >11.01</td>\n",
       "                        <td id=\"T_1fea6f70_4128_11ec_87bf_02420a3971e6row18_col1\" class=\"data row18 col1\" >nan</td>\n",
       "                        <td id=\"T_1fea6f70_4128_11ec_87bf_02420a3971e6row18_col2\" class=\"data row18 col2\" >23.22</td>\n",
       "                        <td id=\"T_1fea6f70_4128_11ec_87bf_02420a3971e6row18_col3\" class=\"data row18 col3\" >nan</td>\n",
       "                        <td id=\"T_1fea6f70_4128_11ec_87bf_02420a3971e6row18_col4\" class=\"data row18 col4\" >nan</td>\n",
       "                        <td id=\"T_1fea6f70_4128_11ec_87bf_02420a3971e6row18_col5\" class=\"data row18 col5\" >107.36</td>\n",
       "                        <td id=\"T_1fea6f70_4128_11ec_87bf_02420a3971e6row18_col6\" class=\"data row18 col6\" >nan</td>\n",
       "                        <td id=\"T_1fea6f70_4128_11ec_87bf_02420a3971e6row18_col7\" class=\"data row18 col7\" >7.69</td>\n",
       "                        <td id=\"T_1fea6f70_4128_11ec_87bf_02420a3971e6row18_col8\" class=\"data row18 col8\" >21.71</td>\n",
       "                        <td id=\"T_1fea6f70_4128_11ec_87bf_02420a3971e6row18_col9\" class=\"data row18 col9\" >99.74</td>\n",
       "            </tr>\n",
       "            <tr>\n",
       "                        <th id=\"T_1fea6f70_4128_11ec_87bf_02420a3971e6level0_row19\" class=\"row_heading level0 row19\" >2013</th>\n",
       "                        <td id=\"T_1fea6f70_4128_11ec_87bf_02420a3971e6row19_col0\" class=\"data row19 col0\" >1.54</td>\n",
       "                        <td id=\"T_1fea6f70_4128_11ec_87bf_02420a3971e6row19_col1\" class=\"data row19 col1\" >nan</td>\n",
       "                        <td id=\"T_1fea6f70_4128_11ec_87bf_02420a3971e6row19_col2\" class=\"data row19 col2\" >12.38</td>\n",
       "                        <td id=\"T_1fea6f70_4128_11ec_87bf_02420a3971e6row19_col3\" class=\"data row19 col3\" >nan</td>\n",
       "                        <td id=\"T_1fea6f70_4128_11ec_87bf_02420a3971e6row19_col4\" class=\"data row19 col4\" >nan</td>\n",
       "                        <td id=\"T_1fea6f70_4128_11ec_87bf_02420a3971e6row19_col5\" class=\"data row19 col5\" >113.25</td>\n",
       "                        <td id=\"T_1fea6f70_4128_11ec_87bf_02420a3971e6row19_col6\" class=\"data row19 col6\" >25.99</td>\n",
       "                        <td id=\"T_1fea6f70_4128_11ec_87bf_02420a3971e6row19_col7\" class=\"data row19 col7\" >3.14</td>\n",
       "                        <td id=\"T_1fea6f70_4128_11ec_87bf_02420a3971e6row19_col8\" class=\"data row19 col8\" >8.59</td>\n",
       "                        <td id=\"T_1fea6f70_4128_11ec_87bf_02420a3971e6row19_col9\" class=\"data row19 col9\" >88.58</td>\n",
       "            </tr>\n",
       "            <tr>\n",
       "                        <th id=\"T_1fea6f70_4128_11ec_87bf_02420a3971e6level0_row20\" class=\"row_heading level0 row20\" >2014</th>\n",
       "                        <td id=\"T_1fea6f70_4128_11ec_87bf_02420a3971e6row20_col0\" class=\"data row20 col0\" >nan</td>\n",
       "                        <td id=\"T_1fea6f70_4128_11ec_87bf_02420a3971e6row20_col1\" class=\"data row20 col1\" >nan</td>\n",
       "                        <td id=\"T_1fea6f70_4128_11ec_87bf_02420a3971e6row20_col2\" class=\"data row20 col2\" >13.28</td>\n",
       "                        <td id=\"T_1fea6f70_4128_11ec_87bf_02420a3971e6row20_col3\" class=\"data row20 col3\" >nan</td>\n",
       "                        <td id=\"T_1fea6f70_4128_11ec_87bf_02420a3971e6row20_col4\" class=\"data row20 col4\" >nan</td>\n",
       "                        <td id=\"T_1fea6f70_4128_11ec_87bf_02420a3971e6row20_col5\" class=\"data row20 col5\" >47.76</td>\n",
       "                        <td id=\"T_1fea6f70_4128_11ec_87bf_02420a3971e6row20_col6\" class=\"data row20 col6\" >100</td>\n",
       "                        <td id=\"T_1fea6f70_4128_11ec_87bf_02420a3971e6row20_col7\" class=\"data row20 col7\" >0.24</td>\n",
       "                        <td id=\"T_1fea6f70_4128_11ec_87bf_02420a3971e6row20_col8\" class=\"data row20 col8\" >3.75</td>\n",
       "                        <td id=\"T_1fea6f70_4128_11ec_87bf_02420a3971e6row20_col9\" class=\"data row20 col9\" >34.74</td>\n",
       "            </tr>\n",
       "            <tr>\n",
       "                        <th id=\"T_1fea6f70_4128_11ec_87bf_02420a3971e6level0_row21\" class=\"row_heading level0 row21\" >2015</th>\n",
       "                        <td id=\"T_1fea6f70_4128_11ec_87bf_02420a3971e6row21_col0\" class=\"data row21 col0\" >nan</td>\n",
       "                        <td id=\"T_1fea6f70_4128_11ec_87bf_02420a3971e6row21_col1\" class=\"data row21 col1\" >nan</td>\n",
       "                        <td id=\"T_1fea6f70_4128_11ec_87bf_02420a3971e6row21_col2\" class=\"data row21 col2\" >8.52</td>\n",
       "                        <td id=\"T_1fea6f70_4128_11ec_87bf_02420a3971e6row21_col3\" class=\"data row21 col3\" >nan</td>\n",
       "                        <td id=\"T_1fea6f70_4128_11ec_87bf_02420a3971e6row21_col4\" class=\"data row21 col4\" >nan</td>\n",
       "                        <td id=\"T_1fea6f70_4128_11ec_87bf_02420a3971e6row21_col5\" class=\"data row21 col5\" >16.82</td>\n",
       "                        <td id=\"T_1fea6f70_4128_11ec_87bf_02420a3971e6row21_col6\" class=\"data row21 col6\" >118.9</td>\n",
       "                        <td id=\"T_1fea6f70_4128_11ec_87bf_02420a3971e6row21_col7\" class=\"data row21 col7\" >0.12</td>\n",
       "                        <td id=\"T_1fea6f70_4128_11ec_87bf_02420a3971e6row21_col8\" class=\"data row21 col8\" >1.14</td>\n",
       "                        <td id=\"T_1fea6f70_4128_11ec_87bf_02420a3971e6row21_col9\" class=\"data row21 col9\" >11.96</td>\n",
       "            </tr>\n",
       "            <tr>\n",
       "                        <th id=\"T_1fea6f70_4128_11ec_87bf_02420a3971e6level0_row22\" class=\"row_heading level0 row22\" >2016</th>\n",
       "                        <td id=\"T_1fea6f70_4128_11ec_87bf_02420a3971e6row22_col0\" class=\"data row22 col0\" >nan</td>\n",
       "                        <td id=\"T_1fea6f70_4128_11ec_87bf_02420a3971e6row22_col1\" class=\"data row22 col1\" >nan</td>\n",
       "                        <td id=\"T_1fea6f70_4128_11ec_87bf_02420a3971e6row22_col2\" class=\"data row22 col2\" >5.25</td>\n",
       "                        <td id=\"T_1fea6f70_4128_11ec_87bf_02420a3971e6row22_col3\" class=\"data row22 col3\" >nan</td>\n",
       "                        <td id=\"T_1fea6f70_4128_11ec_87bf_02420a3971e6row22_col4\" class=\"data row22 col4\" >nan</td>\n",
       "                        <td id=\"T_1fea6f70_4128_11ec_87bf_02420a3971e6row22_col5\" class=\"data row22 col5\" >3.6</td>\n",
       "                        <td id=\"T_1fea6f70_4128_11ec_87bf_02420a3971e6row22_col6\" class=\"data row22 col6\" >69.25</td>\n",
       "                        <td id=\"T_1fea6f70_4128_11ec_87bf_02420a3971e6row22_col7\" class=\"data row22 col7\" >nan</td>\n",
       "                        <td id=\"T_1fea6f70_4128_11ec_87bf_02420a3971e6row22_col8\" class=\"data row22 col8\" >0.18</td>\n",
       "                        <td id=\"T_1fea6f70_4128_11ec_87bf_02420a3971e6row22_col9\" class=\"data row22 col9\" >1.52</td>\n",
       "            </tr>\n",
       "    </tbody></table>"
      ],
      "text/plain": [
       "<pandas.io.formats.style.Styler at 0x7fa42be8d050>"
      ]
     },
     "execution_count": 20,
     "metadata": {},
     "output_type": "execute_result"
    }
   ],
   "source": [
    "top10_platform_by_years = data_games.query('platform in @name_top10_platfoms and year_of_release >= 1994').pivot_table(index='year_of_release', columns='platform', values='global_sales', aggfunc='sum')\n",
    "top10_platform_by_years.style.set_caption('Топ 10 платформ по продажам игр начиная с 1994 года')"
   ]
  },
  {
   "cell_type": "markdown",
   "id": "377babcd",
   "metadata": {},
   "source": [
    "Для наглядного отражения построим диаграмму распределения суммарных продаж для топ 10 платформ по годам."
   ]
  },
  {
   "cell_type": "code",
   "execution_count": 21,
   "id": "d22ec936",
   "metadata": {},
   "outputs": [
    {
     "data": {
      "text/plain": [
       "Text(0, 0.5, 'Количество проданных копий')"
      ]
     },
     "execution_count": 21,
     "metadata": {},
     "output_type": "execute_result"
    },
    {
     "data": {
      "image/png": "[encoded data removed]",
      "text/plain": [
       "<Figure size 1008x864 with 1 Axes>"
      ]
     },
     "metadata": {},
     "output_type": "display_data"
    }
   ],
   "source": [
    "top10_platform_by_years.plot(kind='bar', stacked=True, rot=0, figsize=(14, 12))\n",
    "plt.title('Топ 10 платформ с наибольшими суммарными продажами', fontsize = 18)\n",
    "plt.xlabel('Год релиза игры', fontsize = 13)\n",
    "plt.ylabel('Количество проданных копий', fontsize = 13)\n",
    "   "
   ]
  },
  {
   "cell_type": "markdown",
   "id": "34406ad3",
   "metadata": {},
   "source": [
    "На таком графике можно четко увидеть, что все платформы, за исключением PC, имеют определенный жизненный цикл, в основном не более 10-11 лет. Самые активные продажи обычно начинаются со второго года, после появления платформы и снижаются к 7-8 году. **За все эти годы успешно лидируют платформы семейства PlayStation, сменяя друг друга от PS до PS4. C 2006 года им начинает составлять конкуренцию платформа X360, а на третьем месте составляла конкуренцию платформа Wii**. Однако в 2015 - 2016 годах эти две платформы уже практически полностью исчерпали свой потенциал."
   ]
  },
  {
   "cell_type": "markdown",
   "id": "b220945d",
   "metadata": {},
   "source": [
    "Отличительной особенностью здесь является то, что платформа PC хоть и имеет относительно не высокие продажи, однако лидирует по продолжительности жизни (с 1994 по 2016 годы). Это объясняется тем, что если разработчики, например, хотят усовершенствовать игровую консоль, то выпускают новую модель взамен старой. Таким образом появляется PS3 взамен PS2 и т.п. В свою очередь платформа PC, то есть персональный компьютер, имеет не только игровую функцию и когда разработчики делают апгрейд, они выпускают новые модели отдельных плат и составных частей, либо модели в уже сборе. При этом платформа также продолжает называться PC. "
   ]
  },
  {
   "cell_type": "markdown",
   "id": "cd4b6a7e",
   "metadata": {},
   "source": [
    "- **Выясним за какой характерный срок появляются новые и исчезают старые платформы.**"
   ]
  },
  {
   "cell_type": "markdown",
   "id": "9220eddf",
   "metadata": {},
   "source": [
    "Используем диаграмму размаха, чтобы посмотреть на характерный разброс продолжительности жизненного цикла платформ. "
   ]
  },
  {
   "cell_type": "code",
   "execution_count": 22,
   "id": "f81487e0",
   "metadata": {},
   "outputs": [
    {
     "data": {
      "text/plain": [
       "<matplotlib.axes._subplots.AxesSubplot at 0x7fa475807cd0>"
      ]
     },
     "execution_count": 22,
     "metadata": {},
     "output_type": "execute_result"
    },
    {
     "data": {
      "image/png": "[encoded data removed]",
      "text/plain": [
       "<Figure size 432x504 with 1 Axes>"
      ]
     },
     "metadata": {},
     "output_type": "display_data"
    }
   ],
   "source": [
    "platforms_life = data_games[['platform', 'year_of_release']]\n",
    "platforms_life = platforms_life.drop_duplicates().dropna().groupby(by='platform')['year_of_release'].count().reset_index()\n",
    "platforms_life.boxplot(column=['year_of_release'], figsize=(6, 7))"
   ]
  },
  {
   "cell_type": "markdown",
   "id": "35a13e80",
   "metadata": {},
   "source": [
    "В основном **жизненный цикл платформ составляет от 4 до 11 лет**. Медиана - 7 лет. Можно сделать вывод, что **характерный срок жизни одной платформы составляет 7 лет**. \n"
   ]
  },
  {
   "cell_type": "markdown",
   "id": "61518cdc",
   "metadata": {},
   "source": [
    "### Вывод"
   ]
  },
  {
   "cell_type": "markdown",
   "id": "86b0514d",
   "metadata": {},
   "source": [
    "1. По суммарным продажам в течение всего периода лидирует платформа PS2, следом расположились платформы X360, PS3 и Wii и замыкает десятку лидеров платформа PC.\n",
    "2. Все платформы имеют определенный жизненный цикл, в основном не более 10-11 лет. Исключением является платформа PC, она лидирует по продолжительности жизни с 1980 по 2016 годы. В основном жизненный цикл платформ составляет от 4 до 11 лет, можно сделать вывод, что характерный срок жизни одной платформы составляет 7 лет. \n",
    "3. Самые активные продажи обычно начинаются со второго года, после появления платформы и снижаются к 7-8 году. За все эти годы успешно лидируют платформы семейства PlayStation, а с 2006 года им составляют конкуренцию платформы X360 и Wii. "
   ]
  },
  {
   "cell_type": "markdown",
   "id": "65afdff5",
   "metadata": {},
   "source": [
    "### Определение потенциально прибыльных платформ"
   ]
  },
  {
   "cell_type": "markdown",
   "id": "ecb4027c",
   "metadata": {},
   "source": [
    "При изучении диаграммы распределения проданных игр по платформам мы видели, что в 2013 году появилась новая платформа PS4 взамен PS3. В то же время, с учетом средней продолжительности жизни платформ, мы видим, что на остальных платформах к этому времени начинают падать продажи, либо почти исчезают. Таким образом для того, чтобы построить прогноз на 2017 год, **актуальным для нас периодом будет с 2012 по 2016 годы**, то есть за последние 5 лет."
   ]
  },
  {
   "cell_type": "markdown",
   "id": "ff7da648",
   "metadata": {},
   "source": [
    "Посмотрим какие платформы лидируют по продажам начиная с 2012 года."
   ]
  },
  {
   "cell_type": "code",
   "execution_count": 23,
   "id": "203fad0a",
   "metadata": {},
   "outputs": [],
   "source": [
    "modern_data_games = data_games.query('year_of_release >= 2012')"
   ]
  },
  {
   "cell_type": "code",
   "execution_count": 24,
   "id": "078a2716",
   "metadata": {},
   "outputs": [
    {
     "data": {
      "text/plain": [
       "platform\n",
       "PS4     314.14\n",
       "PS3     288.79\n",
       "X360    236.54\n",
       "3DS     194.61\n",
       "XOne    159.32\n",
       "WiiU     82.19\n",
       "PC       62.65\n",
       "PSV      49.18\n",
       "Wii      35.37\n",
       "DS       12.55\n",
       "PSP      11.19\n",
       "Name: global_sales, dtype: float64"
      ]
     },
     "execution_count": 24,
     "metadata": {},
     "output_type": "execute_result"
    }
   ],
   "source": [
    "modern_data_games.groupby(by='platform')['global_sales'].sum().sort_values(ascending=False)"
   ]
  },
  {
   "cell_type": "markdown",
   "id": "7705f732",
   "metadata": {},
   "source": [
    "Всего в эти годы игры продавались на 11 платформах. **Абсолютным лидером является PS4 - 314 млн проданных копий игр**, на втором и третьем местах  расположились PS3 и X360 - 288 и 236 млн. соответственно. Также в пятерку лидеров входят платформы 3DS и XOne. **Замыкают список платформы с самыми низкими продажами: Wii, PSP и DS**. Как мы помним из диаграммы распределения проданных игр по платформам к 2012 - 2013 годам игры на платформах Wii, PSP и DS практически перестали продаваться. Поэтому для изучения динамики роста продаж игр по платформам оставим 8 платформ.  "
   ]
  },
  {
   "cell_type": "code",
   "execution_count": 25,
   "id": "77e1bbfe",
   "metadata": {
    "scrolled": true
   },
   "outputs": [
    {
     "data": {
      "text/html": [
       "<style  type=\"text/css\" >\n",
       "</style><table id=\"T_20c019fe_4128_11ec_87bf_02420a3971e6\" ><caption>Топ 8 платформ по продажам игр в 2012 - 2016 годах</caption><thead>    <tr>        <th class=\"index_name level0\" >platform</th>        <th class=\"col_heading level0 col0\" >3DS</th>        <th class=\"col_heading level0 col1\" >PC</th>        <th class=\"col_heading level0 col2\" >PS3</th>        <th class=\"col_heading level0 col3\" >PS4</th>        <th class=\"col_heading level0 col4\" >PSV</th>        <th class=\"col_heading level0 col5\" >WiiU</th>        <th class=\"col_heading level0 col6\" >X360</th>        <th class=\"col_heading level0 col7\" >XOne</th>    </tr>    <tr>        <th class=\"index_name level0\" >year_of_release</th>        <th class=\"blank\" ></th>        <th class=\"blank\" ></th>        <th class=\"blank\" ></th>        <th class=\"blank\" ></th>        <th class=\"blank\" ></th>        <th class=\"blank\" ></th>        <th class=\"blank\" ></th>        <th class=\"blank\" ></th>    </tr></thead><tbody>\n",
       "                <tr>\n",
       "                        <th id=\"T_20c019fe_4128_11ec_87bf_02420a3971e6level0_row0\" class=\"row_heading level0 row0\" >2012</th>\n",
       "                        <td id=\"T_20c019fe_4128_11ec_87bf_02420a3971e6row0_col0\" class=\"data row0 col0\" >51.36</td>\n",
       "                        <td id=\"T_20c019fe_4128_11ec_87bf_02420a3971e6row0_col1\" class=\"data row0 col1\" >23.22</td>\n",
       "                        <td id=\"T_20c019fe_4128_11ec_87bf_02420a3971e6row0_col2\" class=\"data row0 col2\" >107.36</td>\n",
       "                        <td id=\"T_20c019fe_4128_11ec_87bf_02420a3971e6row0_col3\" class=\"data row0 col3\" >nan</td>\n",
       "                        <td id=\"T_20c019fe_4128_11ec_87bf_02420a3971e6row0_col4\" class=\"data row0 col4\" >16.19</td>\n",
       "                        <td id=\"T_20c019fe_4128_11ec_87bf_02420a3971e6row0_col5\" class=\"data row0 col5\" >17.56</td>\n",
       "                        <td id=\"T_20c019fe_4128_11ec_87bf_02420a3971e6row0_col6\" class=\"data row0 col6\" >99.74</td>\n",
       "                        <td id=\"T_20c019fe_4128_11ec_87bf_02420a3971e6row0_col7\" class=\"data row0 col7\" >nan</td>\n",
       "            </tr>\n",
       "            <tr>\n",
       "                        <th id=\"T_20c019fe_4128_11ec_87bf_02420a3971e6level0_row1\" class=\"row_heading level0 row1\" >2013</th>\n",
       "                        <td id=\"T_20c019fe_4128_11ec_87bf_02420a3971e6row1_col0\" class=\"data row1 col0\" >56.57</td>\n",
       "                        <td id=\"T_20c019fe_4128_11ec_87bf_02420a3971e6row1_col1\" class=\"data row1 col1\" >12.38</td>\n",
       "                        <td id=\"T_20c019fe_4128_11ec_87bf_02420a3971e6row1_col2\" class=\"data row1 col2\" >113.25</td>\n",
       "                        <td id=\"T_20c019fe_4128_11ec_87bf_02420a3971e6row1_col3\" class=\"data row1 col3\" >25.99</td>\n",
       "                        <td id=\"T_20c019fe_4128_11ec_87bf_02420a3971e6row1_col4\" class=\"data row1 col4\" >10.59</td>\n",
       "                        <td id=\"T_20c019fe_4128_11ec_87bf_02420a3971e6row1_col5\" class=\"data row1 col5\" >21.65</td>\n",
       "                        <td id=\"T_20c019fe_4128_11ec_87bf_02420a3971e6row1_col6\" class=\"data row1 col6\" >88.58</td>\n",
       "                        <td id=\"T_20c019fe_4128_11ec_87bf_02420a3971e6row1_col7\" class=\"data row1 col7\" >18.96</td>\n",
       "            </tr>\n",
       "            <tr>\n",
       "                        <th id=\"T_20c019fe_4128_11ec_87bf_02420a3971e6level0_row2\" class=\"row_heading level0 row2\" >2014</th>\n",
       "                        <td id=\"T_20c019fe_4128_11ec_87bf_02420a3971e6row2_col0\" class=\"data row2 col0\" >43.76</td>\n",
       "                        <td id=\"T_20c019fe_4128_11ec_87bf_02420a3971e6row2_col1\" class=\"data row2 col1\" >13.28</td>\n",
       "                        <td id=\"T_20c019fe_4128_11ec_87bf_02420a3971e6row2_col2\" class=\"data row2 col2\" >47.76</td>\n",
       "                        <td id=\"T_20c019fe_4128_11ec_87bf_02420a3971e6row2_col3\" class=\"data row2 col3\" >100</td>\n",
       "                        <td id=\"T_20c019fe_4128_11ec_87bf_02420a3971e6row2_col4\" class=\"data row2 col4\" >11.9</td>\n",
       "                        <td id=\"T_20c019fe_4128_11ec_87bf_02420a3971e6row2_col5\" class=\"data row2 col5\" >22.03</td>\n",
       "                        <td id=\"T_20c019fe_4128_11ec_87bf_02420a3971e6row2_col6\" class=\"data row2 col6\" >34.74</td>\n",
       "                        <td id=\"T_20c019fe_4128_11ec_87bf_02420a3971e6row2_col7\" class=\"data row2 col7\" >54.07</td>\n",
       "            </tr>\n",
       "            <tr>\n",
       "                        <th id=\"T_20c019fe_4128_11ec_87bf_02420a3971e6level0_row3\" class=\"row_heading level0 row3\" >2015</th>\n",
       "                        <td id=\"T_20c019fe_4128_11ec_87bf_02420a3971e6row3_col0\" class=\"data row3 col0\" >27.78</td>\n",
       "                        <td id=\"T_20c019fe_4128_11ec_87bf_02420a3971e6row3_col1\" class=\"data row3 col1\" >8.52</td>\n",
       "                        <td id=\"T_20c019fe_4128_11ec_87bf_02420a3971e6row3_col2\" class=\"data row3 col2\" >16.82</td>\n",
       "                        <td id=\"T_20c019fe_4128_11ec_87bf_02420a3971e6row3_col3\" class=\"data row3 col3\" >118.9</td>\n",
       "                        <td id=\"T_20c019fe_4128_11ec_87bf_02420a3971e6row3_col4\" class=\"data row3 col4\" >6.25</td>\n",
       "                        <td id=\"T_20c019fe_4128_11ec_87bf_02420a3971e6row3_col5\" class=\"data row3 col5\" >16.35</td>\n",
       "                        <td id=\"T_20c019fe_4128_11ec_87bf_02420a3971e6row3_col6\" class=\"data row3 col6\" >11.96</td>\n",
       "                        <td id=\"T_20c019fe_4128_11ec_87bf_02420a3971e6row3_col7\" class=\"data row3 col7\" >60.14</td>\n",
       "            </tr>\n",
       "            <tr>\n",
       "                        <th id=\"T_20c019fe_4128_11ec_87bf_02420a3971e6level0_row4\" class=\"row_heading level0 row4\" >2016</th>\n",
       "                        <td id=\"T_20c019fe_4128_11ec_87bf_02420a3971e6row4_col0\" class=\"data row4 col0\" >15.14</td>\n",
       "                        <td id=\"T_20c019fe_4128_11ec_87bf_02420a3971e6row4_col1\" class=\"data row4 col1\" >5.25</td>\n",
       "                        <td id=\"T_20c019fe_4128_11ec_87bf_02420a3971e6row4_col2\" class=\"data row4 col2\" >3.6</td>\n",
       "                        <td id=\"T_20c019fe_4128_11ec_87bf_02420a3971e6row4_col3\" class=\"data row4 col3\" >69.25</td>\n",
       "                        <td id=\"T_20c019fe_4128_11ec_87bf_02420a3971e6row4_col4\" class=\"data row4 col4\" >4.25</td>\n",
       "                        <td id=\"T_20c019fe_4128_11ec_87bf_02420a3971e6row4_col5\" class=\"data row4 col5\" >4.6</td>\n",
       "                        <td id=\"T_20c019fe_4128_11ec_87bf_02420a3971e6row4_col6\" class=\"data row4 col6\" >1.52</td>\n",
       "                        <td id=\"T_20c019fe_4128_11ec_87bf_02420a3971e6row4_col7\" class=\"data row4 col7\" >26.15</td>\n",
       "            </tr>\n",
       "    </tbody></table>"
      ],
      "text/plain": [
       "<pandas.io.formats.style.Styler at 0x7fa40522f210>"
      ]
     },
     "execution_count": 25,
     "metadata": {},
     "output_type": "execute_result"
    }
   ],
   "source": [
    "top8_platforms_modern_time = modern_data_games.query('platform not in (\"Wii\", \"PSP\", \"DS\")').pivot_table(index='year_of_release', columns='platform', values='global_sales', aggfunc='sum')\n",
    "top8_platforms_modern_time.style.set_caption('Топ 8 платформ по продажам игр в 2012 - 2016 годах')"
   ]
  },
  {
   "cell_type": "markdown",
   "id": "99b6cf85",
   "metadata": {},
   "source": [
    "Для того, чтобы изучить какие платформы растут, а какие падают в продажах построим диаграмму продажи игр по платформам начиная с 2012 года."
   ]
  },
  {
   "cell_type": "code",
   "execution_count": 26,
   "id": "8d3989ed",
   "metadata": {},
   "outputs": [
    {
     "data": {
      "text/plain": [
       "Text(0, 0.5, 'Количество проданных копий игр')"
      ]
     },
     "execution_count": 26,
     "metadata": {},
     "output_type": "execute_result"
    },
    {
     "data": {
      "image/png": "[encoded data removed]",
      "text/plain": [
       "<Figure size 1080x504 with 1 Axes>"
      ]
     },
     "metadata": {},
     "output_type": "display_data"
    }
   ],
   "source": [
    "top8_platforms_modern_time.plot.bar(rot=0, figsize=(15, 7))\n",
    "plt.title(\"Продажи игр по платформам за период с 2012 года\", fontsize = 18)\n",
    "plt.xlabel('Год', fontsize = 13)\n",
    "plt.ylabel('Количество проданных копий игр', fontsize = 13)"
   ]
  },
  {
   "cell_type": "markdown",
   "id": "22f6bd3a",
   "metadata": {},
   "source": [
    "1. Продажи игр на платформах PS3, X360, 3DS резко падают начиная с 2012 - 2013 годов. \n",
    "2. В 2015 - 2016 годах также наблюдается спад продаж игр на платформах WiiU, PSV и PC. \n",
    "3. А вот продажи игр на платформах PS4 и XOne растут с 2013 года. Хотя их рост и снизился в 2016 году, мы знаем, что данные за этот год неполные и нельзя полностью оценивать этот период. \n",
    "4. Очевидно, что PS4 и XOne пришли на смену старым версиям игровых консолей линеек PlayStation и Xbox в 2013 году и с учетом средней продолжительности жизни платформ - 7 лет, можно предположить, что они будут коммерчески активны до 2019 - 2020 годов.  \n",
    "  \n",
    "Таким образом **в 2017 году нужно делать ставку на потенциально прибыльные платформы PS4 и XOne**.  \n",
    "  \n",
    "Отдельно стоит отметить, что не нужно полностью списывать со счетов платформу PC. Несмотря на то, что в последние 2 года на ней наблюдается снижение продажи игр, эта платформа, вероятно, самая стабильная и продолжит свое существование еще долгие годы. Продажи игр на этой платформе не слишком прибыльны, однако мы наблюдали, что в некоторые годы она занимала 4-5 место по продажам игр. "
   ]
  },
  {
   "cell_type": "markdown",
   "id": "8b553800",
   "metadata": {},
   "source": [
    "- **Изучим как распределились глобальные продажи игр по платформам**"
   ]
  },
  {
   "cell_type": "markdown",
   "id": "0681b493",
   "metadata": {},
   "source": [
    "Построим диаграмму размаха для глобальных продаж игр начиная с 2012 года."
   ]
  },
  {
   "cell_type": "markdown",
   "id": "7fdb438e",
   "metadata": {},
   "source": [
    "<div class=\"alert alert-warning\">\n",
    "    \n",
    "<b> Комментарий от ревьюера</b>\n",
    "    \n",
    "Все библиотеки лучше импортировать в начале файла. Об этом говорится в [стилевом гайде по питону](https://www.python.org/dev/peps/pep-0008/#imports)\n",
    "    \n",
    "    Imports are always put at the top of the file, just after any module comments and docstrings, and before module globals and constants.\n",
    "</div>\n"
   ]
  },
  {
   "cell_type": "markdown",
   "id": "9ee95456",
   "metadata": {},
   "source": [
    "<div class=\"alert alert-info\">\n",
    "      \n",
    "Поставила импорт в начале файла.\n",
    "</div>\n"
   ]
  },
  {
   "cell_type": "code",
   "execution_count": 27,
   "id": "38e62213",
   "metadata": {},
   "outputs": [
    {
     "data": {
      "text/plain": [
       "(0, 2)"
      ]
     },
     "execution_count": 27,
     "metadata": {},
     "output_type": "execute_result"
    },
    {
     "data": {
      "image/png": "[encoded data removed]",
      "text/plain": [
       "<Figure size 1008x864 with 1 Axes>"
      ]
     },
     "metadata": {},
     "output_type": "display_data"
    }
   ],
   "source": [
    "warnings.filterwarnings(\"ignore\", category=np.VisibleDeprecationWarning)\n",
    "modern_data_games.boxplot('global_sales', by='platform', figsize=(14, 12))\n",
    "plt.title(\"Распредление продажи игр по платформам с 2012 года\", fontsize = 18)\n",
    "plt.xlabel('Платформы', fontsize = 13)\n",
    "plt.ylabel('Количество проданных копий игр', fontsize = 13)\n",
    "plt.ylim(0, 2)"
   ]
  },
  {
   "cell_type": "markdown",
   "id": "b3ce95d7",
   "metadata": {},
   "source": [
    "**В первую группу лидеров входят платформы X360, PS4, Wii, XOne, PS3 и WiiU**. В основном продажи на этих платформах составляли от 40 до 650-850 тысяч копий игр, медиана составляет от 180 до 300 тысяч копий. Продажи некоторых игр достигали 1,75 - 2 млн. копий. Таким образом в эту группу попали по 2 консоли линеек PlayStation, Xbox и Wii.     \n",
    "**Вторую группу состравляют платформы 3DS, DS и PC**. Основная часть продаж лежит в диапазоне от 20 до 310 тысяч копий игр, медиана в районе 60 - 120 тысяч. Продажи отдельных игр достигали 600 - 700 тысяч копий.  \n",
    "**Третью группу составлют портативные консоли линейки PlayStation - PSP и PSV**. 75% мировых продаж игр, выпущенных на этих консолях, не превышали 120 тысяч копий."
   ]
  },
  {
   "cell_type": "markdown",
   "id": "f4e57333",
   "metadata": {},
   "source": [
    "### Вывод"
   ]
  },
  {
   "cell_type": "markdown",
   "id": "78be62cd",
   "metadata": {},
   "source": [
    "Проанализировав период с 2012 по 2016 годы, мы выявили следующее:\n",
    "1. Всего игры представлены на 11 платформах. Абсолютным лидером по суммарным продажам игр является PS4, на втором и третьем местах расположились PS3 и XOne. Замыкают список платформы с самыми низкими суммарными продажами: Wii, PSP и DS. \n",
    "\n",
    "2. Наблюдается спад продаж игр на платформах PS3, X360, 3DS, WiiU, PSV и PC. А вот продажи игр на платформах PS4 и XOne растут с 2013 года. Платформы PS4 и XOne пришли на смену старым версиям игровых консолей линеек PlayStation и Xbox в 2013 году и можно предположить, что они будут коммерчески активны до 2019 - 2020 годов. Таким образом, в 2017 году нужно делать ставку на потенциально прибыльные платформы PS4 и XOne.\n",
    "\n",
    "3. Самая стабильная платформа PC. Несмотря на то, что в последние 2 года на ней наблюдается снижение продажи игр, эта платформа, вероятно, продолжит свое существование еще долгие годы. Продажи игр на этой платформе не слишком прибыльны, однако в некоторые годы она занимала 4-5 место по продажам игр.\n",
    "\n",
    "4. Характерное распределение продаж игр внутри платформ:\n",
    "- в первую группу входят платформы X360, PS4, Wii, XOne, PS3 и WiiU. На этих платформах в основном продажи составили от 40 до 650-850 тысяч копий игр. Продажи некоторых игр достигали 1,75 - 2 млн. копий.\n",
    "- вторую группу составляют платформы 3DS, DS и PC. Основная часть продаж лежит в диапазоне от 20 до 310 тысяч копий игр. Продажи отдельных игр достигали 600 - 700 тысяч копий.\n",
    "- третью группу составляют портативные консоли линейки PlayStation - PSP и PSV. 75% мировых продаж игр, выпущенных на этих консолях не превышали 120 тысяч копий."
   ]
  },
  {
   "cell_type": "markdown",
   "id": "a6c8f0b4",
   "metadata": {},
   "source": [
    "### Влияние отзывов на продажи игр внутри платформ"
   ]
  },
  {
   "cell_type": "markdown",
   "id": "a2701f24",
   "metadata": {},
   "source": [
    "Одной из самых популярных является платформа PS4. Посмотрим как влияют отзывы критиков и пользователей на продажи внутри этой платформы. А затем сравним с выводами по продажам на других платформах."
   ]
  },
  {
   "cell_type": "code",
   "execution_count": 28,
   "id": "d863bd7f",
   "metadata": {},
   "outputs": [],
   "source": [
    "# срез данных по платформе PS4 и остальным платформам\n",
    "ps4_games = modern_data_games.query('platform == \"PS4\"')\n",
    "other_platform_games = modern_data_games.query('platform != \"PS4\"')"
   ]
  },
  {
   "cell_type": "markdown",
   "id": "d2bbef25",
   "metadata": {},
   "source": [
    "-  **Влияние отзывов на продажи игр внутри платформы PS4**"
   ]
  },
  {
   "cell_type": "markdown",
   "id": "df51d447",
   "metadata": {},
   "source": [
    "Чтобы найти зависимость данных параметров построим матрицу корреляции."
   ]
  },
  {
   "cell_type": "code",
   "execution_count": 29,
   "id": "2c27e45a",
   "metadata": {},
   "outputs": [
    {
     "data": {
      "text/plain": [
       "<matplotlib.axes._subplots.AxesSubplot at 0x7fa47572f610>"
      ]
     },
     "execution_count": 29,
     "metadata": {},
     "output_type": "execute_result"
    },
    {
     "data": {
      "image/png": "[encoded data removed]",
      "text/plain": [
       "<Figure size 360x360 with 2 Axes>"
      ]
     },
     "metadata": {},
     "output_type": "display_data"
    }
   ],
   "source": [
    "plt.figure(figsize=(5, 5))\n",
    "plt.title('Матрица корреляций платформы PS4', fontsize = 16)\n",
    "sns.heatmap(ps4_games[['global_sales','critic_score','user_score']].corr(), annot = True, fmt='.2g', cmap='GnBu')"
   ]
  },
  {
   "cell_type": "markdown",
   "id": "7a9b2794",
   "metadata": {},
   "source": [
    "Коэффициент корреляции между глобальными продажами и отзывами критиков составляет 0.41, есть небольшая прямая зависимость между оценкой критиков и продажами игр на платформе PS4. Иными словами **чем выше оценка критиков, тем выше продажи** .  \n",
    "Коэффициент корреляции между глобальными продажами и отзывами пользователей составляет -0.032, зависимости практически не наблюдается. Таким образом, **оценки пользователей не влияют на  продажи игр на платформе PS4** .     \n",
    "Вероятно покупатели все же больше ориентируются на мнение критиков при покупке игр."
   ]
  },
  {
   "cell_type": "markdown",
   "id": "8491df08",
   "metadata": {},
   "source": [
    "Построим диаграмму рассеяния, что чтобы визуально отразить зависимость этих параметров."
   ]
  },
  {
   "cell_type": "code",
   "execution_count": 30,
   "id": "1cea7204",
   "metadata": {
    "scrolled": false
   },
   "outputs": [
    {
     "data": {
      "image/png": "[encoded data removed]",
      "text/plain": [
       "<Figure size 432x288 with 1 Axes>"
      ]
     },
     "metadata": {},
     "output_type": "display_data"
    },
    {
     "data": {
      "image/png": "[encoded data removed]",
      "text/plain": [
       "<Figure size 432x288 with 1 Axes>"
      ]
     },
     "metadata": {},
     "output_type": "display_data"
    }
   ],
   "source": [
    "# определение цвета диаграммы\n",
    "color_blue = 'steelblue'\n",
    "# построение диграмм рассеяния для оценок пользователей и критиков (PS4)\n",
    "plt.title(\"Зависимость продажи игр от отзывов критиков  (PS4)\", fontsize = 16)\n",
    "plt.xlabel('Оценка критиков', fontsize = 12)\n",
    "plt.ylabel('Количество проданных копий (млн.)', fontsize = 12)\n",
    "plt.scatter(ps4_games['critic_score'], ps4_games['global_sales'], marker='o', c=color_blue)\n",
    "plt.show()\n",
    "plt.scatter(ps4_games['user_score'], ps4_games['global_sales'], marker='o', c=color_blue)\n",
    "plt.title(\"Зависимость продажи игр от отзывов пользователей (PS4)\", fontsize = 16)\n",
    "plt.xlabel('Оценка пользователей', fontsize = 12)\n",
    "plt.ylabel('Количество проданных копий (млн.)', fontsize = 12)\n",
    "plt.show()"
   ]
  },
  {
   "cell_type": "markdown",
   "id": "7283b17b",
   "metadata": {},
   "source": [
    "На первой диаграмме прослеживается, что при оценке критиков 70 баллов и выше количество проданных копий игр может увеличиваться. На второй же диаграмме можно заметить, что разброс гораздо шире и оценки пользователей не влияют на продажи игр на платформе PS4.  "
   ]
  },
  {
   "cell_type": "markdown",
   "id": "c057d296",
   "metadata": {},
   "source": [
    "-  **Влияние отзывов на продажи игр внутри остальных платформ**"
   ]
  },
  {
   "cell_type": "markdown",
   "id": "64994305",
   "metadata": {},
   "source": [
    " Построим матрицу корреляций и сравним полученные результаты с выводами по продажам игр на других платформах."
   ]
  },
  {
   "cell_type": "code",
   "execution_count": 31,
   "id": "efa77772",
   "metadata": {},
   "outputs": [
    {
     "data": {
      "text/plain": [
       "<matplotlib.axes._subplots.AxesSubplot at 0x7fa475667f50>"
      ]
     },
     "execution_count": 31,
     "metadata": {},
     "output_type": "execute_result"
    },
    {
     "data": {
      "image/png": "[encoded data removed]",
      "text/plain": [
       "<Figure size 360x360 with 2 Axes>"
      ]
     },
     "metadata": {},
     "output_type": "display_data"
    }
   ],
   "source": [
    "plt.figure(figsize=(5, 5))\n",
    "plt.title('Матрица корреляций остальных платформ', fontsize = 16)\n",
    "sns.heatmap(other_platform_games[['global_sales','critic_score','user_score']].corr(), annot = True, fmt='.2g', cmap='Greens')"
   ]
  },
  {
   "cell_type": "markdown",
   "id": "2d668e3a",
   "metadata": {},
   "source": [
    "**Здесь мы можем наблюдать такую же картину, как и с продажами внутри платформы PS4** .   \n",
    "Коэффициент корреляции между глобальными продажами и отзывами критиков составляет 0.28, есть небольшая прямая зависимость между оценкой критиков и продажами игр на других платформах.  \n",
    "Коэффициент корреляции между глобальными продажами и отзывами пользователей составляет 0.0095, зависимости практически не наблюдается.   \n",
    "Таким образом можно сделать вывод, что **на продажи игр на других платформах имеют небольшое влияние оценки критиков и не влияют оценки пользователей**."
   ]
  },
  {
   "cell_type": "markdown",
   "id": "a7ff5a29",
   "metadata": {},
   "source": [
    "Построим также диаграмму рассеяния, что чтобы визуально оценить зависимость данных параметров."
   ]
  },
  {
   "cell_type": "code",
   "execution_count": 32,
   "id": "f895e0d6",
   "metadata": {},
   "outputs": [
    {
     "data": {
      "image/png": "[encoded data removed]",
      "text/plain": [
       "<Figure size 432x288 with 1 Axes>"
      ]
     },
     "metadata": {},
     "output_type": "display_data"
    },
    {
     "data": {
      "image/png": "[encoded data removed]",
      "text/plain": [
       "<Figure size 432x288 with 1 Axes>"
      ]
     },
     "metadata": {},
     "output_type": "display_data"
    }
   ],
   "source": [
    "# определение цвета диаграммы\n",
    "color_green = 'Seagreen'\n",
    "# построение диграмм рассеяния для оценок пользователей и критиков\n",
    "plt.scatter(other_platform_games['critic_score'], other_platform_games['global_sales'], marker='o', c=color_green)\n",
    "plt.title(\"Зависимость продажи игр от отзывов критиков\", fontsize = 16)\n",
    "plt.xlabel('Оценка критиков', fontsize = 12)\n",
    "plt.ylabel('Количество проданных копий (млн.)', fontsize = 12)\n",
    "plt.show()\n",
    "plt.scatter(other_platform_games['user_score'], other_platform_games['global_sales'], marker='o', c=color_green)\n",
    "plt.title(\"Зависимость продажи игр от отзывов пользователей\", fontsize = 16)\n",
    "plt.xlabel('Оценка пользователей', fontsize = 12)\n",
    "plt.ylabel('Количество проданных копий (млн.)', fontsize = 12)\n",
    "plt.show()"
   ]
  },
  {
   "cell_type": "markdown",
   "id": "5a29a957",
   "metadata": {},
   "source": [
    "На первой диаграмме также прослеживается, что при оценке критиков 70 баллов и выше количество проданных копий игр немного увеличивается. На второй диаграмме тоже аналогичная ситуация: разброс гораздо шире и оценки пользователей не влияют на продажи игр на других платформах.  "
   ]
  },
  {
   "cell_type": "markdown",
   "id": "ffdb95b7",
   "metadata": {},
   "source": [
    "### Вывод"
   ]
  },
  {
   "cell_type": "markdown",
   "id": "e214db38",
   "metadata": {},
   "source": [
    "Обобщив выше сказанное, сделаем вывод, что на продажи игр, как на одной из самых популярных платформ, так и на остальных платформах имеют небольшое влияние оценки критиков. Игры с оценкой от 70 баллов и выше могут продаваться успешнее других."
   ]
  },
  {
   "cell_type": "markdown",
   "id": "a83cf670",
   "metadata": {},
   "source": [
    "### Анализ игр по жанрам"
   ]
  },
  {
   "cell_type": "markdown",
   "id": "937fa4f6",
   "metadata": {},
   "source": [
    "Посмотрим на общее распределение игр по жанрам. Выявим самые прибыльные жанры. Определим выделяются ли жанры с высокими и низкими продажами."
   ]
  },
  {
   "cell_type": "markdown",
   "id": "c0c335ca",
   "metadata": {},
   "source": [
    "- **Распределение игр по жанрам**"
   ]
  },
  {
   "cell_type": "code",
   "execution_count": 33,
   "id": "e69cb883",
   "metadata": {},
   "outputs": [
    {
     "data": {
      "text/plain": [
       "Text(0.5, 1.0, 'Распределение игр по жанрам')"
      ]
     },
     "execution_count": 33,
     "metadata": {},
     "output_type": "execute_result"
    },
    {
     "data": {
      "image/png": "[encoded data removed]",
      "text/plain": [
       "<Figure size 936x432 with 1 Axes>"
      ]
     },
     "metadata": {},
     "output_type": "display_data"
    }
   ],
   "source": [
    "(\n",
    "    modern_data_games['genre']\n",
    "    .value_counts()\n",
    "    .plot(kind='bar', figsize=(13, 6), rot=360, ec='black', legend=False)      \n",
    ")\n",
    "plt.xlabel('Жанры', fontsize = 12)\n",
    "plt.ylabel('Количество игр', fontsize = 12)  \n",
    "plt.title('Распределение игр по жанрам', fontsize = 15)"
   ]
  },
  {
   "cell_type": "markdown",
   "id": "ceaa7646",
   "metadata": {},
   "source": [
    "Всего на рынке представлено 12 жанров игр.  \n",
    "**Лидером среди жанров является Action**, в этом жанре было выпущено более 1000 игр. Далее с большим отрывом следуют игры жанров: Role-Playing, Adventure, Spotrs, Shooter и Misc c количеством выпущенных игр от 380 до 200 игр в каждом жанре. **Меньше всего игр было выпущено в жанре Puzzle**, около 20-25. "
   ]
  },
  {
   "cell_type": "markdown",
   "id": "1f97e776",
   "metadata": {},
   "source": [
    "- **Жанры с высокими и низкими продажами игр**"
   ]
  },
  {
   "cell_type": "code",
   "execution_count": 34,
   "id": "a295fcfe",
   "metadata": {
    "scrolled": false
   },
   "outputs": [
    {
     "data": {
      "text/plain": [
       "Text(0.5, 1.0, 'Продажи игр')"
      ]
     },
     "execution_count": 34,
     "metadata": {},
     "output_type": "execute_result"
    },
    {
     "data": {
      "image/png": "[encoded data removed]",
      "text/plain": [
       "<Figure size 936x432 with 1 Axes>"
      ]
     },
     "metadata": {},
     "output_type": "display_data"
    }
   ],
   "source": [
    "(\n",
    "    modern_data_games.groupby(by='genre')['global_sales'].sum()\n",
    "    .sort_values(ascending=False)\n",
    "    .plot(kind='bar', figsize=(13, 6), rot=360, ec='black', legend=False, color='Teal')      \n",
    ")\n",
    "plt.xlabel('Жанры', fontsize = 12)\n",
    "plt.ylabel('Количество проданных копий (млн.)', fontsize = 12)  \n",
    "plt.title('Продажи игр', fontsize = 15)"
   ]
  },
  {
   "cell_type": "markdown",
   "id": "932e21df",
   "metadata": {},
   "source": [
    "**Лидером по продажам игр также является жанр Action**, суммарные продажи составляют около 500 млн. копий.  \n",
    "**На втором месте следует жанр Shooter** с суммарными продажами 310 млн. копий игр.    \n",
    "**В третью группу можно отнести игры жанров Role-Playing и Sports**, однако их продажи в 2,5 раза меньше, чем игр жанра Action - 190 - 180 млн. копий игр.  \n",
    "**Наименее популярны игры жанров Strategy и Puzzle**, их продажи составляют от 10 до 20 млн. проданных игр. "
   ]
  },
  {
   "cell_type": "markdown",
   "id": "28cba984",
   "metadata": {},
   "source": [
    "Теперь сравним медианные продажи игр по жанрам."
   ]
  },
  {
   "cell_type": "code",
   "execution_count": 35,
   "id": "780f8368",
   "metadata": {},
   "outputs": [
    {
     "name": "stdout",
     "output_type": "stream",
     "text": [
      "Медианные продажи жанров (в млн. копий игр):\n",
      "Action - 0.12\n",
      "Shooter - 0.44\n",
      "Role-Playing - 0.14\n",
      "Platform - 0.21\n",
      "Misc - 0.12\n",
      "Simulation - 0.12\n",
      "Sports - 0.24\n",
      "Fighting - 0.13\n",
      "Racing - 0.14\n",
      "Strategy - 0.08\n",
      "Adventure - 0.03\n",
      "Puzzle - 0.04\n"
     ]
    }
   ],
   "source": [
    "genre_names = modern_data_games['genre'].unique()\n",
    "print('Медианные продажи жанров (в млн. копий игр):')\n",
    "for name in genre_names:\n",
    "    print(name, '-', modern_data_games.query('genre == @name')['global_sales'].median().round(2))"
   ]
  },
  {
   "cell_type": "markdown",
   "id": "2c9a8234",
   "metadata": {},
   "source": [
    "По медианным продажам лидируют жанры Shooter, Sports и Platform с медианными продажами - 440, 240 и 210 тысяч копий игр соответственно. Наименьшие медианные продажи у игр жанров Puzzle и Adventure - всего 40 - 30 тысяч копий."
   ]
  },
  {
   "cell_type": "markdown",
   "id": "38130357",
   "metadata": {},
   "source": [
    "### Вывод"
   ]
  },
  {
   "cell_type": "markdown",
   "id": "32a716f2",
   "metadata": {},
   "source": [
    "1. Жанр Action очень популярный. В нем выпускается большое количество игр и в нем наибольшее количество проданных копий игр за период с 2012 по 2016 годы. Однако по медианным продажам он занимет всего шестую позицию. Иными словами лишь некоторые игры продаются очень успешно.\n",
    "2. Жанр Shooter лидирует по медианным проджам, а это значит, что большинство игр в этом жанре продаются очень успешно.  \n",
    "2. Потенциально прибыльными также остаются игры Role-Playing, Sports, Platform и Racing. В них выпускает достаточно большое количество игр и у них довольно высокие медианные продажи.\n",
    "3. Несмотря на то, что в жанре Adventure выпускается довольно много игр, его нельзя назвать успешно продаваемым жанром. \n",
    "4. Меньше всего выпускается и продается игр в жанре Puzzle. "
   ]
  },
  {
   "cell_type": "markdown",
   "id": "1a5a52d1",
   "metadata": {},
   "source": [
    "## Портрет пользователя каждого региона (NA, EU, JP)"
   ]
  },
  {
   "cell_type": "markdown",
   "id": "fef9ed93",
   "metadata": {},
   "source": [
    "- **Самые популярные платформы (топ-5)**"
   ]
  },
  {
   "cell_type": "markdown",
   "id": "56282849",
   "metadata": {},
   "source": [
    "Выведем топ-5 самых популярных платформ по продажам игр для каждого из регионов. Платформы, не вошедшие в пятерку самых популярных, будут объединены под названием \"Other\" (англ. - \"Другие\")."
   ]
  },
  {
   "cell_type": "code",
   "execution_count": 36,
   "id": "816ce446",
   "metadata": {},
   "outputs": [],
   "source": [
    "# функция создания топ-5 по регионам\n",
    "def top_by_region(data, col1, col2,):\n",
    "    data_region = data.groupby(by=col1)[col2].sum().sort_values(ascending=False)\n",
    "    top5 = data_region.head(5)     \n",
    "    dict_data_region = {}\n",
    "    other = 0\n",
    "    for index in data_region.index:\n",
    "        if index in top5:\n",
    "            dict_data_region[index] = data_region[index]\n",
    "        else:\n",
    "            other += data_region[index]\n",
    "    dict_data_region['Other'] = other\n",
    "    new_data_region = pd.Series(dict_data_region)\n",
    "    return new_data_region"
   ]
  },
  {
   "cell_type": "code",
   "execution_count": 37,
   "id": "56d63998",
   "metadata": {},
   "outputs": [],
   "source": [
    "# создание топ-5 платформ по регионам\n",
    "na_top5_platforms = top_by_region(modern_data_games, 'platform', 'na_sales')\n",
    "eu_top5_platforms = top_by_region(modern_data_games, 'platform', 'eu_sales')\n",
    "jp_top5_platforms = top_by_region(modern_data_games, 'platform', 'jp_sales')"
   ]
  },
  {
   "cell_type": "markdown",
   "id": "bc01fb69",
   "metadata": {},
   "source": [
    "Построим круговые диаграммы, чтобы увидеть какую долю продаж занимают игры на различных платформах в каждом регионе."
   ]
  },
  {
   "cell_type": "code",
   "execution_count": 38,
   "id": "9141b053",
   "metadata": {},
   "outputs": [],
   "source": [
    "# функция построения круговых диаграмм из трех Series\n",
    "def make_plot_pie(data_1, data_2, data_3, amount_expl):\n",
    "    if amount_expl == 6:\n",
    "        explode = (0.1, 0, 0, 0, 0, 0)\n",
    "    else:\n",
    "        explode = (0.1, 0, 0, 0, 0)\n",
    "\n",
    "    fig = plt.figure(figsize=(21, 7))\n",
    "    ax1 = fig.add_subplot(1, 3, 1)\n",
    "    ax2 = fig.add_subplot(1, 3, 2)\n",
    "    ax3 = fig.add_subplot(1, 3, 3)\n",
    "\n",
    "    ax1.pie(data_1, labels=data_1.index, shadow=True, autopct='%1.0f%%', explode=explode)\n",
    "    ax1.set_title('Северная Америка', fontsize = 15)\n",
    "    ax2.pie(data_2, labels=data_2.index, shadow=True, autopct='%1.0f%%', explode=explode)\n",
    "    ax2.set_title('Европа', fontsize = 15)\n",
    "    ax3.pie(data_3, labels=data_3.index, shadow=True, autopct='%1.0f%%', explode=explode)\n",
    "    ax3.set_title('Япония', fontsize = 15)\n",
    "    plt.show()"
   ]
  },
  {
   "cell_type": "code",
   "execution_count": 39,
   "id": "45116b98",
   "metadata": {},
   "outputs": [
    {
     "data": {
      "image/png": "[encoded data removed]",
      "text/plain": [
       "<Figure size 1512x504 with 3 Axes>"
      ]
     },
     "metadata": {},
     "output_type": "display_data"
    }
   ],
   "source": [
    "make_plot_pie(na_top5_platforms, eu_top5_platforms, jp_top5_platforms, 6)"
   ]
  },
  {
   "cell_type": "markdown",
   "id": "7531e6ed",
   "metadata": {},
   "source": [
    "- **Северная Америка:**  \n",
    "В Северной Америке наиболее популярны игры на платформе X360, они занимают самую большую долю продаж- 24%. Вероятно потому, что консоли Xbox выпускает американская компания Microsoft и пользователям предпочитают отечественные технологии. Хотя и игры на XOne занимают только четвертую позицию, доля продаж игр на этой платформе всего на 1-2% ниже, чем на платформах PlayStation. Это также может быть связано с тем, что XOne появилась только в 2013 году и сейчас еще набирает популярность.   \n",
    "Вторыми по популярности идут игры на консолях линейки PlayStation: PS4 - 18% и PS3 - 17%. Таким образом они занимают 35% рынка.  \n",
    "Менее популярны оказались игры на портативной игровой консоли 3DS - всего 9% игрового рынка.     \n",
    " \n",
    "   \n",
    "- **Европа:**  \n",
    "В Европе наиболее популярны игры на консолях PlayStation: PS4 - 28% и PS3 - 21% от общих продаж игр в Европе. Они занимают 49% игрового рынка. Очевидно, что пользователи в Европе предпочитают игры на консолях PlayStation.   \n",
    "Следом идут игры на консолях линейки Xbox: X360 - 15% и XOne - 10%. Общая доля продаж игр на этих консолях составляет 25%.  \n",
    "Также, как и в Северной Америке менее популярны игры на платформе 3DS - 8%.    \n",
    "  \n",
    "    \n",
    "- **Япония:**  \n",
    "В Японии картина резко отличает. Самую большую доля продаж занимают игры на портативной игровой консоли 3DS - 46%, это почти половина рынка всех игр в Японии. Также можно заметить, что в Японии популярны игры и на другой портативной консоли PSV - объем продаж 11%. Таким образом популярные портативные консоли занимают 57% рынка в Японии.    \n",
    "Популярные игровые консоли занимают 33% рынка в Японии. Сюда вошли игры на консолях PlayStation: PS3 - 18% и PS4 - 8% и игры на консолях WiiU - 7% игрового рынка.  \n",
    "Отличительной особенностью является то, что пользователи в Японии, как минимум на 90%, предпочитают игры на платформах отечественных производителей - компаний Sony и Nintendo.  "
   ]
  },
  {
   "cell_type": "markdown",
   "id": "121121be",
   "metadata": {},
   "source": [
    "- **Самые популярные жанры (топ-5)**"
   ]
  },
  {
   "cell_type": "markdown",
   "id": "514aa666",
   "metadata": {},
   "source": [
    "Определим топ-5 самых популярных жанров игр для каждого из регионов. Жанры, не вошедшие в пятерку самых популярных, будут объединены под названием \"Other\" (англ. - \"Другие\")."
   ]
  },
  {
   "cell_type": "code",
   "execution_count": 40,
   "id": "d9a94f71",
   "metadata": {},
   "outputs": [],
   "source": [
    "# создание топ-5 жанров по регионам\n",
    "na_top5_genres = top_by_region(modern_data_games, 'genre', 'na_sales')\n",
    "eu_top5_genres = top_by_region(modern_data_games, 'genre', 'eu_sales')\n",
    "jp_top5_genres = top_by_region(modern_data_games, 'genre', 'jp_sales')"
   ]
  },
  {
   "cell_type": "markdown",
   "id": "44bdfca2",
   "metadata": {},
   "source": [
    "Построим круговые диаграммы, чтобы увидеть какую долю продаж занимают игры разных жанров в каждом регионе."
   ]
  },
  {
   "cell_type": "code",
   "execution_count": 41,
   "id": "9ef7cab0",
   "metadata": {},
   "outputs": [
    {
     "data": {
      "image/png": "[encoded data removed]",
      "text/plain": [
       "<Figure size 1512x504 with 3 Axes>"
      ]
     },
     "metadata": {},
     "output_type": "display_data"
    }
   ],
   "source": [
    "make_plot_pie(na_top5_genres, eu_top5_genres, jp_top5_genres, 6)"
   ]
  },
  {
   "cell_type": "markdown",
   "id": "aa19c274",
   "metadata": {},
   "source": [
    "- **Северная Америка и Европа:**  \n",
    "Предпочтения пользователей в Северной Америке и Европе во многом схожи. Самыми любимым жанром являются жанр Action, который занимает 30-31% от общих продаж. На втором месте по популярности следуют игры жанра Shooter с долей продаж от 22% до 24% рынка. Третью группу составляют игры жанров Sports и Role-Playing, которые в целом занимают 24-25% от продаж всех игр в этих регионах. А вот на пятом месте по полярности в Северной Америке находятся игры жанра Misc - 6%, в то время как в Европе это игры жанра Racing - 5% от объема продаж.       \n",
    " \n",
    "       \n",
    "- **Япония:**  \n",
    "Предпочтения пользователей в Японии отличаются. Самыми популярными играми в Японии являются игры жанра Role-Playing - 34% от рынка продаж. Жанр Action также очень популярен в Японии, он занимает второе место по количеству продаж 27%. Таким образом он занимает даже большую долю рынка, чем в других регионах. Третью группу составляют игры жанров Misc - 7% от продаж, Simulation и Fighting по 5% от всех продаж в Японии. Здесь стоит обратить внимание, что жанры Simulation и Fighting не так популярны в других регионах, как в Японии. А вот популярные в Северной Америке и Европе жанры Shooter и Sports напротив не популярны в Японии."
   ]
  },
  {
   "cell_type": "markdown",
   "id": "02a6194e",
   "metadata": {},
   "source": [
    "- **Влияние рейтинг ESRB на продажи в отдельном регионе**"
   ]
  },
  {
   "cell_type": "markdown",
   "id": "88834d99",
   "metadata": {},
   "source": [
    "Узнаем влияет ли рейтинг ESRB на продажи в отдельном регионе. Построим круговые диаграммы, чтобы узнать какие доли продаж занимают игры разных рейтингов для каждого региона."
   ]
  },
  {
   "cell_type": "markdown",
   "id": "2851f29f",
   "metadata": {},
   "source": [
    "Описание рейтингов ESRB:  \n",
    "- E (Everyone) — Для всех\n",
    "- E10+ (Everyone 10 and older) — Для всех старше 10 лет\n",
    "- T (Teen) — Подросткам 13—19 лет\n",
    "- M (Mature) — От 17 лет"
   ]
  },
  {
   "cell_type": "code",
   "execution_count": 42,
   "id": "6d994c9c",
   "metadata": {},
   "outputs": [],
   "source": [
    "na_esrb = modern_data_games.groupby(by='rating')['na_sales'].sum().sort_values(ascending=False)\n",
    "eu_esrb = modern_data_games.groupby(by='rating')['eu_sales'].sum().sort_values(ascending=False)\n",
    "jp_esrb = modern_data_games.groupby(by='rating')['jp_sales'].sum().sort_values(ascending=False)"
   ]
  },
  {
   "cell_type": "code",
   "execution_count": 43,
   "id": "88469c4f",
   "metadata": {},
   "outputs": [
    {
     "data": {
      "image/png": "[encoded data removed]",
      "text/plain": [
       "<Figure size 1512x504 with 3 Axes>"
      ]
     },
     "metadata": {},
     "output_type": "display_data"
    }
   ],
   "source": [
    "make_plot_pie(na_esrb, eu_esrb, jp_esrb, 5)"
   ]
  },
  {
   "cell_type": "markdown",
   "id": "b9442da3",
   "metadata": {},
   "source": [
    "- **Северная Америка и Европа:**  \n",
    "В Северной Америке и Европе наиболее популярны игры с рейтингом М - 38-39% продаж. Второе место занимают игры с рейтингом \"Для всех возрастов\" - 19-22%, игры без возрастного рейтинга занимают 17-18% от объема продаж, а в последнюю группу по популярности входят игры с рейтингами Е10+ и Т, то есть для пользователей от 10 до 19 лет, с объемом продаж от 10% до 13%.          \n",
    " \n",
    "       \n",
    "- **Япония:**  \n",
    "Предпочтения пользователей в Японии как всегда отличаются. Игры без рейтинга ESRB в Японии занимают 57% продаж на игровом рынка. Также Японии пользователи чаще всего играют в игры с рейтингом E и Т, эти игры имеют общую долю продаж в 29% от всего игрового рынка. Чуть менее популярны игры с рейтингом \"Для лиц старше 17 лет\" - 11% и рейтингом Е10+ - всего 4% продаж на рынке игр в Японии.  "
   ]
  },
  {
   "cell_type": "markdown",
   "id": "4d3bd2c0",
   "metadata": {},
   "source": [
    "### Вывод"
   ]
  },
  {
   "cell_type": "markdown",
   "id": "0d44258a",
   "metadata": {},
   "source": [
    "Обобщив всё выше сказанное, можно составить типичный портрет для пользователей каждого из регионов.  \n",
    "  \n",
    "- **Северная Америка:**  \n",
    "В Северной Америке самыми популярными остаются игры, которые выходят на консолях линейки Xbox, чуть менее, но также довольно популярны игры на консолях линейки PlayStation. Пользователи любят играть в игры жанров Action и Shooter, которые по объемам продаж занимают более половины рынка игровой индустрии в Северной Америке. Чуть менее популярны игры жанров Sports и Role-Playing и в целом занимают более трети от продажи всех игр. \n",
    "Пользователи предпочитает игры с рейтингом М, вероятно это и есть игры в популярных жанрах Action и Shooter. 36% пользователей играют в игры с рейтингом \"Для всех возрастов\" и без рейтинга ESRB.  \n",
    "  \n",
    "- **Европа:**  \n",
    "В Европе наиболее популярны игры на консолях PlayStation, игры на консолях PS4 и PS3 занимают 49% от общего объема продаж игр в Европе. Четверть пользователей играют в игры, выпущенные на консолях X360 и XOne. Также, как и в Северной Америке, в Европе любят игры жанров Action и Shooter, многие пользователи также играют в игры жанров Sports и Role-Playing. Однако вместо игр жанра Misc в Европе это предпочитают жанр Racing, хотя игры данного жанра составляют только - 5% от объема продаж. Предпочтения по рейтингам игр в Европе практически ничем не отличаются от предпочтений пользователей Северной Америки.     \n",
    "  \n",
    "    \n",
    "- **Япония:**  \n",
    "Чтобы удовлетворить спрос пользователей в Японии нужно делать ставку на игры, выпускаемые на портативных игровых консолях, они занимают 57% рынка в Японии. Игры же выходящие на игровых консолях занимают 33% рынка в Японии. Однако отличительной особенностью является то, что пользователи в Японии, как минимум на 90%, предпочитают игры на платформах отечественных производителей - компаний Sony и Nintendo. Самыми популярными играми в Японии являются игры жанра Role-Playing и Action, вместе они занимают более 60% игрового рынка. Довольно популярны игры жанров Misc, Simulation и Fighting - 17% от всех продаж в Японии. Более половины пользователей в Японии играют в игры без рейтинга ESRB. Таким образом рейтинг ESRB не имеет такое сильное влияние на продажи игр в Японии.  \n",
    "  \n",
    "В целом можно сказать, что предпочтения пользователей компьютерных игр в Северной Америке и Европе очень схожи, в то время как в Японии сильно отличаются. "
   ]
  },
  {
   "cell_type": "markdown",
   "id": "172a2864",
   "metadata": {},
   "source": [
    "## Статистический анализ данных"
   ]
  },
  {
   "cell_type": "markdown",
   "id": "6f7a75f9",
   "metadata": {},
   "source": [
    "- **Проверим гипотезу о том, что средние пользовательские рейтинги платформ Xbox One и PC одинаковые**"
   ]
  },
  {
   "cell_type": "markdown",
   "id": "1b2c7c3a",
   "metadata": {},
   "source": [
    "Сформулируем нулевую и альтернативную гипотезы. Так как за нулевую гипотезу мы возьмем утверждение, что средние пользовательские рейтинги платформ Xbox One и PC равны, то альтернативный гипотезой будет наоборот утверждение, что средние пользовательские рейтинги этих платформ не равны:  \n",
    "  \n",
    "**H0** - средние пользовательские рейтинги платформ Xbox One и PC равны   \n",
    "**H1** - средние пользовательские рейтинги платформ Xbox One и PC различаются"
   ]
  },
  {
   "cell_type": "markdown",
   "id": "1fe2387f",
   "metadata": {},
   "source": [
    "Критический уровень статистической значимости примем равным 5%:  \n",
    "  \n",
    "alpha = 0.05"
   ]
  },
  {
   "cell_type": "code",
   "execution_count": 44,
   "id": "cf656dc5",
   "metadata": {},
   "outputs": [],
   "source": [
    "xone_data = modern_data_games.query('platform == \"XOne\"')['user_score'].dropna()\n",
    "pc_data = modern_data_games.query('platform == \"PC\"')['user_score'].dropna()"
   ]
  },
  {
   "cell_type": "markdown",
   "id": "dbadb662",
   "metadata": {},
   "source": [
    "Посмотрим на дисперсию двух выборок:"
   ]
  },
  {
   "cell_type": "code",
   "execution_count": 45,
   "id": "013741ec",
   "metadata": {},
   "outputs": [
    {
     "data": {
      "text/plain": [
       "1.8965188383045526"
      ]
     },
     "execution_count": 45,
     "metadata": {},
     "output_type": "execute_result"
    }
   ],
   "source": [
    "np.var(xone_data)"
   ]
  },
  {
   "cell_type": "code",
   "execution_count": 46,
   "id": "2655272d",
   "metadata": {},
   "outputs": [
    {
     "data": {
      "text/plain": [
       "2.7569952398906588"
      ]
     },
     "execution_count": 46,
     "metadata": {},
     "output_type": "execute_result"
    }
   ],
   "source": [
    "np.var(pc_data)"
   ]
  },
  {
   "cell_type": "markdown",
   "id": "6477ae59",
   "metadata": {},
   "source": [
    "Для того, чтобы проверить гипотезу о равенстве средних двух генеральных совокупностей по выборке используем метод *scipy.stats.ttest_ind* с параметром *equal_var = False*, потому что дисперсии двух выборок значительно отличаются."
   ]
  },
  {
   "cell_type": "code",
   "execution_count": 47,
   "id": "b8360f23",
   "metadata": {},
   "outputs": [
    {
     "name": "stdout",
     "output_type": "stream",
     "text": [
      "p-значение: 0.5489537965134912\n",
      "Не получилось отвергнуть нулевую гипотезу\n"
     ]
    }
   ],
   "source": [
    "# ttest\n",
    "alpha = 0.05  \n",
    "\n",
    "results = st.ttest_ind(xone_data, pc_data, equal_var = False)\n",
    "\n",
    "print('p-значение:', results.pvalue)\n",
    "\n",
    "if results.pvalue < alpha:\n",
    "    print('Отвергаем нулевую гипотезу')\n",
    "else:\n",
    "    print('Не получилось отвергнуть нулевую гипотезу') "
   ]
  },
  {
   "cell_type": "markdown",
   "id": "d3607f39",
   "metadata": {},
   "source": [
    "**Нельзя утверждать, что средний пользовательский рейтинг игр на платформе Xbox One отличается от среднего пользовательского рейтинга игр на платформе РС**, так как вероятность ошибки в данном случае 54%."
   ]
  },
  {
   "cell_type": "markdown",
   "id": "cc9dd944",
   "metadata": {},
   "source": [
    "Для сравнения посмотрим на средние величины этих выборок."
   ]
  },
  {
   "cell_type": "code",
   "execution_count": 48,
   "id": "2d11698f",
   "metadata": {},
   "outputs": [
    {
     "data": {
      "text/plain": [
       "count    182.000000\n",
       "mean       6.521429\n",
       "std        1.380941\n",
       "min        1.600000\n",
       "25%        5.800000\n",
       "50%        6.800000\n",
       "75%        7.500000\n",
       "max        9.200000\n",
       "Name: user_score, dtype: float64"
      ]
     },
     "execution_count": 48,
     "metadata": {},
     "output_type": "execute_result"
    }
   ],
   "source": [
    "# статистическое описание платформа XOne\n",
    "xone_data.describe()"
   ]
  },
  {
   "cell_type": "code",
   "execution_count": 49,
   "id": "9eedd26e",
   "metadata": {},
   "outputs": [
    {
     "data": {
      "text/plain": [
       "count    206.000000\n",
       "mean       6.428641\n",
       "std        1.664465\n",
       "min        1.400000\n",
       "25%        5.500000\n",
       "50%        6.800000\n",
       "75%        7.700000\n",
       "max        9.300000\n",
       "Name: user_score, dtype: float64"
      ]
     },
     "execution_count": 49,
     "metadata": {},
     "output_type": "execute_result"
    }
   ],
   "source": [
    "# статистическое описание платформа PC \n",
    "pc_data.describe()"
   ]
  },
  {
   "cell_type": "markdown",
   "id": "6dec102a",
   "metadata": {},
   "source": [
    "Действительно средние пользовательские рейтинги практически не отличаются на этих платформах. "
   ]
  },
  {
   "cell_type": "markdown",
   "id": "9aaf60b5",
   "metadata": {},
   "source": [
    "- **Проверим гипотезу о том, что средние пользовательские рейтинги жанров Action и Sports разные**"
   ]
  },
  {
   "cell_type": "markdown",
   "id": "27bcb13d",
   "metadata": {},
   "source": [
    "Сформулируем нулевую и альтернативную гипотезы. Так как за нулевую гипотезу мы возьмем утверждение, что средние пользовательские рейтинги жанров Action и Sports равны, то альтернативный гипотезой будет наоборот утверждение, что средние пользовательские рейтинги жанра Action отличаются от средних пользовательских рейтингов жанра Sports:  \n",
    "  \n",
    "**H0** - средние пользовательские рейтинги жанров Action и Sports равны  \n",
    "**H1** - средние пользовательские рейтинги жанров Action и Sports отличаются"
   ]
  },
  {
   "cell_type": "markdown",
   "id": "c9f642ef",
   "metadata": {},
   "source": [
    "Критический уровень статистической значимости примем равным 5%:  \n",
    "  \n",
    "alpha = 0.05"
   ]
  },
  {
   "cell_type": "code",
   "execution_count": 50,
   "id": "9e565cc6",
   "metadata": {},
   "outputs": [],
   "source": [
    "action_data = modern_data_games.query('genre == \"Action\"')['user_score'].dropna()\n",
    "sports_data = modern_data_games.query('genre == \"Sports\"')['user_score'].dropna()"
   ]
  },
  {
   "cell_type": "markdown",
   "id": "7f1b4ba0",
   "metadata": {},
   "source": [
    "Посмотрим на дисперсию двух выборок:"
   ]
  },
  {
   "cell_type": "code",
   "execution_count": 51,
   "id": "7f655489",
   "metadata": {},
   "outputs": [
    {
     "data": {
      "text/plain": [
       "1.8854720340439224"
      ]
     },
     "execution_count": 51,
     "metadata": {},
     "output_type": "execute_result"
    }
   ],
   "source": [
    "np.var(action_data)"
   ]
  },
  {
   "cell_type": "code",
   "execution_count": 52,
   "id": "574d404f",
   "metadata": {},
   "outputs": [
    {
     "data": {
      "text/plain": [
       "3.0073882971729127"
      ]
     },
     "execution_count": 52,
     "metadata": {},
     "output_type": "execute_result"
    }
   ],
   "source": [
    "np.var(sports_data)"
   ]
  },
  {
   "cell_type": "markdown",
   "id": "162f6188",
   "metadata": {},
   "source": [
    "Для того, чтобы проверить гипотезу о равенстве средних двух генеральных совокупностей по выборкам используем метод *scipy.stats.ttest_ind* с параметром *equal_var = False*, потому что дисперсии двух выборок отличаются."
   ]
  },
  {
   "cell_type": "code",
   "execution_count": 53,
   "id": "35fe3892",
   "metadata": {},
   "outputs": [
    {
     "name": "stdout",
     "output_type": "stream",
     "text": [
      "p-значение: 4.24307776572644e-20\n",
      "Отвергаем нулевую гипотезу\n"
     ]
    }
   ],
   "source": [
    "# ttest\n",
    "alpha = 0.05  \n",
    "\n",
    "results = st.ttest_ind(action_data, sports_data, equal_var = False)\n",
    "\n",
    "print('p-значение:', results.pvalue)\n",
    "\n",
    "if results.pvalue < alpha:\n",
    "    print('Отвергаем нулевую гипотезу')\n",
    "else:\n",
    "    print('Не получилось отвергнуть нулевую гипотезу') "
   ]
  },
  {
   "cell_type": "markdown",
   "id": "e5626803",
   "metadata": {},
   "source": [
    "Мы видим, что уровень р-значения очень низкий, гораздо ниже 5%, а значит вероятность того, что средние пользовательские рейтинги жанров Action и Sports равны крайне мала. Можно смело утверждать, что **средние пользовательские рейтинги жанров Action и Sports различаются**."
   ]
  },
  {
   "cell_type": "markdown",
   "id": "309e15a9",
   "metadata": {},
   "source": [
    "Сравним средние двух выборок, чтобы оценить на сколько отличаются средние пользовательские рейтинги жанров Action и Sports."
   ]
  },
  {
   "cell_type": "code",
   "execution_count": 54,
   "id": "1cff039b",
   "metadata": {},
   "outputs": [
    {
     "data": {
      "text/plain": [
       "count    523.000000\n",
       "mean       6.825048\n",
       "std        1.374440\n",
       "min        1.600000\n",
       "25%        6.250000\n",
       "50%        7.100000\n",
       "75%        7.800000\n",
       "max        9.100000\n",
       "Name: user_score, dtype: float64"
      ]
     },
     "execution_count": 54,
     "metadata": {},
     "output_type": "execute_result"
    }
   ],
   "source": [
    "action_data.describe()"
   ]
  },
  {
   "cell_type": "code",
   "execution_count": 55,
   "id": "4177487b",
   "metadata": {},
   "outputs": [
    {
     "data": {
      "text/plain": [
       "count    195.000000\n",
       "mean       5.455897\n",
       "std        1.738646\n",
       "min        0.200000\n",
       "25%        4.300000\n",
       "50%        5.700000\n",
       "75%        6.800000\n",
       "max        8.800000\n",
       "Name: user_score, dtype: float64"
      ]
     },
     "execution_count": 55,
     "metadata": {},
     "output_type": "execute_result"
    }
   ],
   "source": [
    "sports_data.describe()"
   ]
  },
  {
   "cell_type": "markdown",
   "id": "00344858",
   "metadata": {},
   "source": [
    "Средние пользовательские оценки игр в жанре Action действительно немного выше средних оценок игр в жанре Sports."
   ]
  },
  {
   "cell_type": "markdown",
   "id": "f6198ff6",
   "metadata": {},
   "source": [
    "### Вывод"
   ]
  },
  {
   "cell_type": "markdown",
   "id": "a5fb6023",
   "metadata": {},
   "source": [
    "1. Нельзя утверждать, что средний пользовательский рейтинг игр на платформе Xbox One отличается от среднего пользовательского рейтинга игр на платформе РС.\n",
    "2. Средние пользовательские рейтинги жанров Action и Sports различаются. \n",
    "3. Средние пользовательские оценки игр в жанре Action в выборках действительно немного выше средних оценок игр в жанре Sports."
   ]
  },
  {
   "cell_type": "markdown",
   "id": "d426c91e",
   "metadata": {},
   "source": [
    "## Общий вывод"
   ]
  },
  {
   "cell_type": "markdown",
   "id": "84fab1c3",
   "metadata": {},
   "source": [
    "**Мы провели анализ продажи компьютерных игр. Обобщим результаты проведенного анализа:**\n",
    "1. В 2012 году наблюдался резкий спад количества выпускаемых компьютерных игр и в последние 4 года ситуация практически не меняется.\n",
    "2. Мы высянили, что все платформы имеют определенный жизненный цикл, в основном не более 10-11 лет. Исключением является платформа PC, она лидирует по продолжительности жизни с 1980 по 2016 годы. Характерный срок жизни одной платформы составляет 7 лет. \n",
    "3. Мы опеределили потенциально прибыльные платформы и выяснили, что:\n",
    "- абсолютным лидером по суммарным продажам игр является PS4, на втором и третьем местах расположились PS3 и XOne.\n",
    "- платформы PS3, X360, 3DS, WiiU и PSV к 2016 году практически полностью исчерпали свой потенциал. \n",
    "- в 2017 году нужно делать ставку на потенциально прибыльные платформы PS4 и XOne, продажи игр на них растут с 2013 года.\n",
    "5. Не стоит ориентироваться на оценки пользователей. Оценки критиков имеют большее влияние, игры с оценкой от 70 баллов и выше могут продаваться успешнее других.\n",
    "6. Самые популярные жанры Action и Shooter. В них выпускается большое количество игр. Однако в жанре Action лишь некоторые игры имеют огромный успех по продажам. А вот в жанре Shooter большинство игр продаются очень успешно.\n",
    "7. Потенциально прибыльными также остаются игры Role-Playing, Sports, Platform и Racing. В них выпускает достаточно большое количество игр и у них довольно высокие медианные продажи. \n",
    "8. Предпочтения пользователей компьютерных игр в Северной Америке и Европе очень схожи, в то время как в Японии сильно отличаются. \n",
    "9. В Северной Америке самыми популярными остаются игры, которые выходят на консолях линейки Xbox. Пользователи любят играть в игры жанров Action и Shooter, которые по объемам продаж занимают более половины рынка игровой индустрии в Северной Америке. Пользователи предпочитает игры с рейтингом \"Для лиц старше 17 лет\", а треть пользователей играют в игры с рейтингом \"Для всех возрастов\" и без рейтинга ESRB.   \n",
    "10. В Европе наиболее популярны игры на консолях PlayStation, они занимают 49% от общего объема продаж игр в Европе. Предпочтения по жанрам и рейтингам игр в Европе практически ничем не отличаются от предпочтений пользователей Северной Америки.\n",
    "11. В Японии пользователи предпочитают игры, выпускаемые на портативных игровых консолях, таких как 3DS и PSV. Эти игры занимают более половины рынка в Японии. Игры же выходящие на игровых консолях занимают только треть рынка в Японии. Самыми популярными играми в Японии являются игры жанра Role-Playing и Action, вместе они занимают более 60% игрового рынка. Рейтинг ESRB не имеет такое сильное влияние на продажи игр в Японии, так как более половины пользователей играют в игры без рейтинга ESRB. "
   ]
  },
  {
   "cell_type": "markdown",
   "id": "a978363b",
   "metadata": {},
   "source": [
    "Таким образом для того, чтобы стать потенциально успешной, игра должна обладать следующими характеристиками:\n",
    "- она должна выпускаться на платформах PS4 и XOne для пользователей в Северной Америке и Европе, для пользователей в Японии - в первую очередь на портативных игровых консолях, а также на консолях линейки PlayStation или консолях компании Nintendo;\n",
    "- игра должна быть в жанрах Action и Shooter для пользователей в Северной Америке и Европе, и в жанрах Role-Playing или Action для пользователей в Японии;\n",
    "- оценка критиков должна быть от 70 баллов и выше;\n",
    "- игры должны обладать рейтингом ESRB \"Для лиц старше 17 лет\" в Европе и Северной Америке, Японии отлично продаются игры без рейтинга ESRB и игры имеющие рейтинг ESRB \"Для всех возрастов\" и \"Для лиц от 13 до 19 лет\".     \n",
    "  \n",
    "Полученные выводы можно использовать при планировании рекламных компаний в 2017 году."
   ]
  }
 ],
 "metadata": {
  "ExecuteTimeLog": [
   {
    "duration": 4769,
    "start_time": "2021-11-07T19:27:40.104Z"
   },
   {
    "duration": 37,
    "start_time": "2021-11-07T19:27:44.875Z"
   },
   {
    "duration": 17,
    "start_time": "2021-11-07T19:27:44.914Z"
   },
   {
    "duration": 15,
    "start_time": "2021-11-07T19:27:44.933Z"
   },
   {
    "duration": 28,
    "start_time": "2021-11-07T19:27:44.950Z"
   },
   {
    "duration": 3,
    "start_time": "2021-11-07T19:27:44.979Z"
   },
   {
    "duration": 6,
    "start_time": "2021-11-07T19:27:44.984Z"
   },
   {
    "duration": 8,
    "start_time": "2021-11-07T19:27:44.992Z"
   },
   {
    "duration": 5,
    "start_time": "2021-11-07T19:27:45.002Z"
   },
   {
    "duration": 35,
    "start_time": "2021-11-07T19:27:45.009Z"
   },
   {
    "duration": 10,
    "start_time": "2021-11-07T19:27:45.046Z"
   },
   {
    "duration": 17,
    "start_time": "2021-11-07T19:27:45.058Z"
   },
   {
    "duration": 9,
    "start_time": "2021-11-07T19:27:45.077Z"
   },
   {
    "duration": 7,
    "start_time": "2021-11-07T19:27:45.088Z"
   },
   {
    "duration": 49,
    "start_time": "2021-11-07T19:27:45.097Z"
   },
   {
    "duration": 485,
    "start_time": "2021-11-07T19:27:45.148Z"
   },
   {
    "duration": 16,
    "start_time": "2021-11-07T19:27:45.635Z"
   },
   {
    "duration": 3,
    "start_time": "2021-11-07T19:27:45.653Z"
   },
   {
    "duration": 764,
    "start_time": "2021-11-07T19:27:45.658Z"
   },
   {
    "duration": 950,
    "start_time": "2021-11-07T19:27:46.424Z"
   },
   {
    "duration": 255,
    "start_time": "2021-11-07T19:27:47.377Z"
   },
   {
    "duration": 15,
    "start_time": "2021-11-07T19:27:47.635Z"
   },
   {
    "duration": 9,
    "start_time": "2021-11-07T19:27:47.655Z"
   },
   {
    "duration": 21,
    "start_time": "2021-11-07T19:27:47.667Z"
   },
   {
    "duration": 412,
    "start_time": "2021-11-07T19:27:47.690Z"
   },
   {
    "duration": 596,
    "start_time": "2021-11-07T19:27:48.105Z"
   },
   {
    "duration": 8,
    "start_time": "2021-11-07T19:27:48.703Z"
   },
   {
    "duration": 958,
    "start_time": "2021-11-07T19:27:48.713Z"
   },
   {
    "duration": 778,
    "start_time": "2021-11-07T19:27:49.673Z"
   },
   {
    "duration": 655,
    "start_time": "2021-11-07T19:27:50.453Z"
   },
   {
    "duration": 849,
    "start_time": "2021-11-07T19:27:51.110Z"
   },
   {
    "duration": 316,
    "start_time": "2021-11-07T19:27:51.961Z"
   },
   {
    "duration": 302,
    "start_time": "2021-11-07T19:27:52.278Z"
   },
   {
    "duration": 4,
    "start_time": "2021-11-07T19:27:52.582Z"
   },
   {
    "duration": 14,
    "start_time": "2021-11-07T19:27:52.588Z"
   },
   {
    "duration": 5,
    "start_time": "2021-11-07T19:27:52.604Z"
   },
   {
    "duration": 359,
    "start_time": "2021-11-07T19:27:52.611Z"
   },
   {
    "duration": 9,
    "start_time": "2021-11-07T19:27:52.972Z"
   },
   {
    "duration": 356,
    "start_time": "2021-11-07T19:27:52.983Z"
   },
   {
    "duration": 8,
    "start_time": "2021-11-07T19:27:53.344Z"
   },
   {
    "duration": 306,
    "start_time": "2021-11-07T19:27:53.354Z"
   },
   {
    "duration": 9,
    "start_time": "2021-11-07T19:27:53.662Z"
   },
   {
    "duration": 10,
    "start_time": "2021-11-07T19:27:53.673Z"
   },
   {
    "duration": 5,
    "start_time": "2021-11-07T19:27:53.685Z"
   },
   {
    "duration": 5,
    "start_time": "2021-11-07T19:27:53.691Z"
   },
   {
    "duration": 9,
    "start_time": "2021-11-07T19:27:53.698Z"
   },
   {
    "duration": 38,
    "start_time": "2021-11-07T19:27:53.708Z"
   },
   {
    "duration": 11,
    "start_time": "2021-11-07T19:27:53.747Z"
   },
   {
    "duration": 4,
    "start_time": "2021-11-07T19:27:53.759Z"
   },
   {
    "duration": 5,
    "start_time": "2021-11-07T19:27:53.765Z"
   },
   {
    "duration": 5,
    "start_time": "2021-11-07T19:27:53.772Z"
   },
   {
    "duration": 8,
    "start_time": "2021-11-07T19:27:53.778Z"
   },
   {
    "duration": 7,
    "start_time": "2021-11-07T19:27:53.788Z"
   },
   {
    "duration": 293,
    "start_time": "2021-11-07T19:50:19.984Z"
   },
   {
    "duration": 293,
    "start_time": "2021-11-07T19:51:22.480Z"
   },
   {
    "duration": 301,
    "start_time": "2021-11-08T08:28:04.621Z"
   },
   {
    "duration": 4845,
    "start_time": "2021-11-08T08:28:16.580Z"
   },
   {
    "duration": 41,
    "start_time": "2021-11-08T08:28:21.427Z"
   },
   {
    "duration": 17,
    "start_time": "2021-11-08T08:28:21.473Z"
   },
   {
    "duration": 15,
    "start_time": "2021-11-08T08:28:21.491Z"
   },
   {
    "duration": 31,
    "start_time": "2021-11-08T08:28:21.508Z"
   },
   {
    "duration": 24,
    "start_time": "2021-11-08T08:28:21.541Z"
   },
   {
    "duration": 8,
    "start_time": "2021-11-08T08:28:21.568Z"
   },
   {
    "duration": 12,
    "start_time": "2021-11-08T08:28:21.578Z"
   },
   {
    "duration": 7,
    "start_time": "2021-11-08T08:28:21.592Z"
   },
   {
    "duration": 14,
    "start_time": "2021-11-08T08:28:21.601Z"
   },
   {
    "duration": 18,
    "start_time": "2021-11-08T08:28:21.617Z"
   },
   {
    "duration": 45,
    "start_time": "2021-11-08T08:28:21.637Z"
   },
   {
    "duration": 9,
    "start_time": "2021-11-08T08:28:21.684Z"
   },
   {
    "duration": 6207,
    "start_time": "2021-11-08T08:28:21.695Z"
   },
   {
    "duration": -329,
    "start_time": "2021-11-08T08:28:28.236Z"
   },
   {
    "duration": -334,
    "start_time": "2021-11-08T08:28:28.242Z"
   },
   {
    "duration": -341,
    "start_time": "2021-11-08T08:28:28.250Z"
   },
   {
    "duration": -347,
    "start_time": "2021-11-08T08:28:28.257Z"
   },
   {
    "duration": -353,
    "start_time": "2021-11-08T08:28:28.264Z"
   },
   {
    "duration": -360,
    "start_time": "2021-11-08T08:28:28.272Z"
   },
   {
    "duration": -366,
    "start_time": "2021-11-08T08:28:28.279Z"
   },
   {
    "duration": -372,
    "start_time": "2021-11-08T08:28:28.286Z"
   },
   {
    "duration": -382,
    "start_time": "2021-11-08T08:28:28.297Z"
   },
   {
    "duration": -389,
    "start_time": "2021-11-08T08:28:28.304Z"
   },
   {
    "duration": -394,
    "start_time": "2021-11-08T08:28:28.310Z"
   },
   {
    "duration": -400,
    "start_time": "2021-11-08T08:28:28.317Z"
   },
   {
    "duration": -415,
    "start_time": "2021-11-08T08:28:28.333Z"
   },
   {
    "duration": -421,
    "start_time": "2021-11-08T08:28:28.340Z"
   },
   {
    "duration": -426,
    "start_time": "2021-11-08T08:28:28.346Z"
   },
   {
    "duration": -432,
    "start_time": "2021-11-08T08:28:28.353Z"
   },
   {
    "duration": -436,
    "start_time": "2021-11-08T08:28:28.358Z"
   },
   {
    "duration": -445,
    "start_time": "2021-11-08T08:28:28.367Z"
   },
   {
    "duration": -449,
    "start_time": "2021-11-08T08:28:28.372Z"
   },
   {
    "duration": -455,
    "start_time": "2021-11-08T08:28:28.379Z"
   },
   {
    "duration": -460,
    "start_time": "2021-11-08T08:28:28.385Z"
   },
   {
    "duration": -465,
    "start_time": "2021-11-08T08:28:28.391Z"
   },
   {
    "duration": -470,
    "start_time": "2021-11-08T08:28:28.397Z"
   },
   {
    "duration": -475,
    "start_time": "2021-11-08T08:28:28.403Z"
   },
   {
    "duration": -481,
    "start_time": "2021-11-08T08:28:28.409Z"
   },
   {
    "duration": -486,
    "start_time": "2021-11-08T08:28:28.415Z"
   },
   {
    "duration": -490,
    "start_time": "2021-11-08T08:28:28.420Z"
   },
   {
    "duration": -495,
    "start_time": "2021-11-08T08:28:28.426Z"
   },
   {
    "duration": -509,
    "start_time": "2021-11-08T08:28:28.441Z"
   },
   {
    "duration": -514,
    "start_time": "2021-11-08T08:28:28.447Z"
   },
   {
    "duration": -521,
    "start_time": "2021-11-08T08:28:28.454Z"
   },
   {
    "duration": -526,
    "start_time": "2021-11-08T08:28:28.460Z"
   },
   {
    "duration": -531,
    "start_time": "2021-11-08T08:28:28.466Z"
   },
   {
    "duration": -537,
    "start_time": "2021-11-08T08:28:28.473Z"
   },
   {
    "duration": -542,
    "start_time": "2021-11-08T08:28:28.479Z"
   },
   {
    "duration": -549,
    "start_time": "2021-11-08T08:28:28.487Z"
   },
   {
    "duration": -557,
    "start_time": "2021-11-08T08:28:28.495Z"
   },
   {
    "duration": -563,
    "start_time": "2021-11-08T08:28:28.502Z"
   },
   {
    "duration": -568,
    "start_time": "2021-11-08T08:28:28.508Z"
   },
   {
    "duration": -577,
    "start_time": "2021-11-08T08:28:28.518Z"
   },
   {
    "duration": 8,
    "start_time": "2021-11-08T08:28:40.962Z"
   },
   {
    "duration": 13,
    "start_time": "2021-11-08T08:29:26.445Z"
   },
   {
    "duration": 12,
    "start_time": "2021-11-08T08:29:53.913Z"
   },
   {
    "duration": 6,
    "start_time": "2021-11-08T08:30:04.406Z"
   },
   {
    "duration": 12,
    "start_time": "2021-11-08T08:34:11.623Z"
   },
   {
    "duration": 3463,
    "start_time": "2021-11-08T08:34:17.143Z"
   },
   {
    "duration": 38,
    "start_time": "2021-11-08T08:34:20.608Z"
   },
   {
    "duration": 17,
    "start_time": "2021-11-08T08:34:20.649Z"
   },
   {
    "duration": 14,
    "start_time": "2021-11-08T08:34:20.668Z"
   },
   {
    "duration": 38,
    "start_time": "2021-11-08T08:34:20.684Z"
   },
   {
    "duration": 3,
    "start_time": "2021-11-08T08:34:20.724Z"
   },
   {
    "duration": 13,
    "start_time": "2021-11-08T08:34:20.728Z"
   },
   {
    "duration": 15,
    "start_time": "2021-11-08T08:34:20.744Z"
   },
   {
    "duration": 5,
    "start_time": "2021-11-08T08:34:20.764Z"
   },
   {
    "duration": 15,
    "start_time": "2021-11-08T08:34:20.771Z"
   },
   {
    "duration": 34,
    "start_time": "2021-11-08T08:34:20.788Z"
   },
   {
    "duration": 23,
    "start_time": "2021-11-08T08:34:20.824Z"
   },
   {
    "duration": 8,
    "start_time": "2021-11-08T08:34:20.849Z"
   },
   {
    "duration": 19,
    "start_time": "2021-11-08T08:34:20.859Z"
   },
   {
    "duration": 9,
    "start_time": "2021-11-08T08:34:20.880Z"
   },
   {
    "duration": 18,
    "start_time": "2021-11-08T08:34:20.890Z"
   },
   {
    "duration": 472,
    "start_time": "2021-11-08T08:34:20.909Z"
   },
   {
    "duration": 10,
    "start_time": "2021-11-08T08:34:21.382Z"
   },
   {
    "duration": 2,
    "start_time": "2021-11-08T08:34:21.394Z"
   },
   {
    "duration": 485,
    "start_time": "2021-11-08T08:34:21.398Z"
   },
   {
    "duration": 984,
    "start_time": "2021-11-08T08:34:21.885Z"
   },
   {
    "duration": 267,
    "start_time": "2021-11-08T08:34:22.871Z"
   },
   {
    "duration": 7,
    "start_time": "2021-11-08T08:34:23.142Z"
   },
   {
    "duration": 18,
    "start_time": "2021-11-08T08:34:23.151Z"
   },
   {
    "duration": 23,
    "start_time": "2021-11-08T08:34:23.170Z"
   },
   {
    "duration": 420,
    "start_time": "2021-11-08T08:34:23.194Z"
   },
   {
    "duration": 549,
    "start_time": "2021-11-08T08:34:23.616Z"
   },
   {
    "duration": 9,
    "start_time": "2021-11-08T08:34:24.167Z"
   },
   {
    "duration": 734,
    "start_time": "2021-11-08T08:34:24.178Z"
   },
   {
    "duration": 758,
    "start_time": "2021-11-08T08:34:24.915Z"
   },
   {
    "duration": 673,
    "start_time": "2021-11-08T08:34:25.674Z"
   },
   {
    "duration": 924,
    "start_time": "2021-11-08T08:34:26.349Z"
   },
   {
    "duration": 393,
    "start_time": "2021-11-08T08:34:27.275Z"
   },
   {
    "duration": 287,
    "start_time": "2021-11-08T08:34:27.670Z"
   },
   {
    "duration": 5,
    "start_time": "2021-11-08T08:34:27.958Z"
   },
   {
    "duration": 17,
    "start_time": "2021-11-08T08:34:27.965Z"
   },
   {
    "duration": 6,
    "start_time": "2021-11-08T08:34:27.984Z"
   },
   {
    "duration": 391,
    "start_time": "2021-11-08T08:34:27.992Z"
   },
   {
    "duration": 11,
    "start_time": "2021-11-08T08:34:28.385Z"
   },
   {
    "duration": 369,
    "start_time": "2021-11-08T08:34:28.398Z"
   },
   {
    "duration": 8,
    "start_time": "2021-11-08T08:34:28.769Z"
   },
   {
    "duration": 1274,
    "start_time": "2021-11-08T08:34:28.779Z"
   },
   {
    "duration": -356,
    "start_time": "2021-11-08T08:34:30.411Z"
   },
   {
    "duration": -367,
    "start_time": "2021-11-08T08:34:30.423Z"
   },
   {
    "duration": -367,
    "start_time": "2021-11-08T08:34:30.430Z"
   },
   {
    "duration": -380,
    "start_time": "2021-11-08T08:34:30.444Z"
   },
   {
    "duration": -390,
    "start_time": "2021-11-08T08:34:30.455Z"
   },
   {
    "duration": -397,
    "start_time": "2021-11-08T08:34:30.463Z"
   },
   {
    "duration": -406,
    "start_time": "2021-11-08T08:34:30.473Z"
   },
   {
    "duration": -418,
    "start_time": "2021-11-08T08:34:30.486Z"
   },
   {
    "duration": -423,
    "start_time": "2021-11-08T08:34:30.492Z"
   },
   {
    "duration": -433,
    "start_time": "2021-11-08T08:34:30.504Z"
   },
   {
    "duration": -440,
    "start_time": "2021-11-08T08:34:30.512Z"
   },
   {
    "duration": -457,
    "start_time": "2021-11-08T08:34:30.530Z"
   },
   {
    "duration": 386,
    "start_time": "2021-11-08T08:35:08.190Z"
   },
   {
    "duration": 382,
    "start_time": "2021-11-08T08:35:18.911Z"
   },
   {
    "duration": 367,
    "start_time": "2021-11-08T08:35:29.216Z"
   },
   {
    "duration": 533,
    "start_time": "2021-11-08T08:41:59.167Z"
   },
   {
    "duration": 331,
    "start_time": "2021-11-08T08:42:08.185Z"
   },
   {
    "duration": 375,
    "start_time": "2021-11-08T08:42:19.520Z"
   },
   {
    "duration": 6,
    "start_time": "2021-11-08T08:43:04.954Z"
   },
   {
    "duration": 330,
    "start_time": "2021-11-08T08:43:13.093Z"
   },
   {
    "duration": 27,
    "start_time": "2021-11-08T08:44:12.445Z"
   },
   {
    "duration": 25,
    "start_time": "2021-11-08T08:44:46.743Z"
   },
   {
    "duration": 28,
    "start_time": "2021-11-08T08:45:37.488Z"
   },
   {
    "duration": 23,
    "start_time": "2021-11-08T08:45:43.343Z"
   },
   {
    "duration": 31,
    "start_time": "2021-11-08T08:45:49.348Z"
   },
   {
    "duration": 16,
    "start_time": "2021-11-08T08:46:14.144Z"
   },
   {
    "duration": 237,
    "start_time": "2021-11-08T08:47:11.973Z"
   },
   {
    "duration": 30,
    "start_time": "2021-11-08T08:47:20.660Z"
   },
   {
    "duration": 16,
    "start_time": "2021-11-08T08:48:28.567Z"
   },
   {
    "duration": 4,
    "start_time": "2021-11-08T08:51:45.239Z"
   },
   {
    "duration": 263,
    "start_time": "2021-11-08T08:53:48.402Z"
   },
   {
    "duration": 4,
    "start_time": "2021-11-08T08:53:55.807Z"
   },
   {
    "duration": 521,
    "start_time": "2021-11-08T08:53:58.051Z"
   },
   {
    "duration": 100,
    "start_time": "2021-11-08T08:54:06.306Z"
   },
   {
    "duration": 113,
    "start_time": "2021-11-08T08:54:25.795Z"
   },
   {
    "duration": 32,
    "start_time": "2021-11-08T08:54:56.580Z"
   },
   {
    "duration": 36,
    "start_time": "2021-11-08T08:55:20.135Z"
   },
   {
    "duration": 250,
    "start_time": "2021-11-08T08:55:45.452Z"
   },
   {
    "duration": 35,
    "start_time": "2021-11-08T08:55:52.879Z"
   },
   {
    "duration": 37,
    "start_time": "2021-11-08T08:56:51.265Z"
   },
   {
    "duration": 38,
    "start_time": "2021-11-08T08:57:54.234Z"
   },
   {
    "duration": 39,
    "start_time": "2021-11-08T08:58:24.113Z"
   },
   {
    "duration": 36,
    "start_time": "2021-11-08T08:59:03.337Z"
   },
   {
    "duration": 48,
    "start_time": "2021-11-08T08:59:20.743Z"
   },
   {
    "duration": 267,
    "start_time": "2021-11-08T09:00:46.226Z"
   },
   {
    "duration": 46,
    "start_time": "2021-11-08T09:01:04.545Z"
   },
   {
    "duration": 11,
    "start_time": "2021-11-08T09:46:33.218Z"
   },
   {
    "duration": 32,
    "start_time": "2021-11-08T09:47:28.232Z"
   },
   {
    "duration": 25,
    "start_time": "2021-11-08T09:59:19.459Z"
   },
   {
    "duration": 25,
    "start_time": "2021-11-08T10:00:10.050Z"
   },
   {
    "duration": 3896,
    "start_time": "2021-11-08T11:05:28.414Z"
   },
   {
    "duration": 42,
    "start_time": "2021-11-08T11:05:32.313Z"
   },
   {
    "duration": 20,
    "start_time": "2021-11-08T11:05:32.357Z"
   },
   {
    "duration": 12,
    "start_time": "2021-11-08T11:05:32.380Z"
   },
   {
    "duration": 29,
    "start_time": "2021-11-08T11:05:32.393Z"
   },
   {
    "duration": 4,
    "start_time": "2021-11-08T11:05:32.423Z"
   },
   {
    "duration": 37,
    "start_time": "2021-11-08T11:05:32.428Z"
   },
   {
    "duration": 10,
    "start_time": "2021-11-08T11:05:32.467Z"
   },
   {
    "duration": 7,
    "start_time": "2021-11-08T11:05:32.479Z"
   },
   {
    "duration": 14,
    "start_time": "2021-11-08T11:05:32.487Z"
   },
   {
    "duration": 16,
    "start_time": "2021-11-08T11:05:32.502Z"
   },
   {
    "duration": 18,
    "start_time": "2021-11-08T11:05:32.520Z"
   },
   {
    "duration": 30,
    "start_time": "2021-11-08T11:05:32.540Z"
   },
   {
    "duration": 5,
    "start_time": "2021-11-08T11:05:32.572Z"
   },
   {
    "duration": 13,
    "start_time": "2021-11-08T11:05:32.578Z"
   },
   {
    "duration": 16,
    "start_time": "2021-11-08T11:05:32.593Z"
   },
   {
    "duration": 492,
    "start_time": "2021-11-08T11:05:32.611Z"
   },
   {
    "duration": 9,
    "start_time": "2021-11-08T11:05:33.105Z"
   },
   {
    "duration": 4,
    "start_time": "2021-11-08T11:05:33.116Z"
   },
   {
    "duration": 498,
    "start_time": "2021-11-08T11:05:33.122Z"
   },
   {
    "duration": 928,
    "start_time": "2021-11-08T11:05:33.622Z"
   },
   {
    "duration": 260,
    "start_time": "2021-11-08T11:05:34.552Z"
   },
   {
    "duration": 7,
    "start_time": "2021-11-08T11:05:34.816Z"
   },
   {
    "duration": 7,
    "start_time": "2021-11-08T11:05:34.826Z"
   },
   {
    "duration": 42,
    "start_time": "2021-11-08T11:05:34.835Z"
   },
   {
    "duration": 412,
    "start_time": "2021-11-08T11:05:34.879Z"
   },
   {
    "duration": 529,
    "start_time": "2021-11-08T11:05:35.293Z"
   },
   {
    "duration": 8,
    "start_time": "2021-11-08T11:05:35.824Z"
   },
   {
    "duration": 415,
    "start_time": "2021-11-08T11:05:35.834Z"
   },
   {
    "duration": 808,
    "start_time": "2021-11-08T11:05:36.251Z"
   },
   {
    "duration": 371,
    "start_time": "2021-11-08T11:05:37.061Z"
   },
   {
    "duration": 835,
    "start_time": "2021-11-08T11:05:37.433Z"
   },
   {
    "duration": 298,
    "start_time": "2021-11-08T11:05:38.269Z"
   },
   {
    "duration": 397,
    "start_time": "2021-11-08T11:05:38.568Z"
   },
   {
    "duration": 37,
    "start_time": "2021-11-08T11:05:38.968Z"
   },
   {
    "duration": 4,
    "start_time": "2021-11-08T11:05:39.008Z"
   },
   {
    "duration": 17,
    "start_time": "2021-11-08T11:05:39.014Z"
   },
   {
    "duration": 32,
    "start_time": "2021-11-08T11:05:39.033Z"
   },
   {
    "duration": 345,
    "start_time": "2021-11-08T11:05:39.067Z"
   },
   {
    "duration": 10,
    "start_time": "2021-11-08T11:05:39.413Z"
   },
   {
    "duration": 353,
    "start_time": "2021-11-08T11:05:39.424Z"
   },
   {
    "duration": 9,
    "start_time": "2021-11-08T11:05:39.779Z"
   },
   {
    "duration": 340,
    "start_time": "2021-11-08T11:05:39.790Z"
   },
   {
    "duration": 32,
    "start_time": "2021-11-08T11:05:40.132Z"
   },
   {
    "duration": 9,
    "start_time": "2021-11-08T11:05:40.166Z"
   },
   {
    "duration": 19,
    "start_time": "2021-11-08T11:05:40.177Z"
   },
   {
    "duration": 30,
    "start_time": "2021-11-08T11:05:40.198Z"
   },
   {
    "duration": 21,
    "start_time": "2021-11-08T11:05:40.229Z"
   },
   {
    "duration": 20,
    "start_time": "2021-11-08T11:05:40.252Z"
   },
   {
    "duration": 26,
    "start_time": "2021-11-08T11:05:40.273Z"
   },
   {
    "duration": 19,
    "start_time": "2021-11-08T11:05:40.301Z"
   },
   {
    "duration": 17,
    "start_time": "2021-11-08T11:05:40.322Z"
   },
   {
    "duration": 16,
    "start_time": "2021-11-08T11:05:40.341Z"
   },
   {
    "duration": 6,
    "start_time": "2021-11-08T11:05:40.359Z"
   },
   {
    "duration": 34,
    "start_time": "2021-11-08T11:05:40.367Z"
   },
   {
    "duration": 14,
    "start_time": "2021-11-08T11:05:40.402Z"
   },
   {
    "duration": 5739,
    "start_time": "2021-11-09T06:41:45.578Z"
   },
   {
    "duration": 43,
    "start_time": "2021-11-09T06:41:51.319Z"
   },
   {
    "duration": 18,
    "start_time": "2021-11-09T06:41:51.364Z"
   },
   {
    "duration": 22,
    "start_time": "2021-11-09T06:41:51.385Z"
   },
   {
    "duration": 52,
    "start_time": "2021-11-09T06:41:51.409Z"
   },
   {
    "duration": 4,
    "start_time": "2021-11-09T06:41:51.463Z"
   },
   {
    "duration": 39,
    "start_time": "2021-11-09T06:41:51.469Z"
   },
   {
    "duration": 31,
    "start_time": "2021-11-09T06:41:51.512Z"
   },
   {
    "duration": 12,
    "start_time": "2021-11-09T06:41:51.546Z"
   },
   {
    "duration": 25,
    "start_time": "2021-11-09T06:41:51.560Z"
   },
   {
    "duration": 31,
    "start_time": "2021-11-09T06:41:51.587Z"
   },
   {
    "duration": 34,
    "start_time": "2021-11-09T06:41:51.620Z"
   },
   {
    "duration": 12,
    "start_time": "2021-11-09T06:41:51.656Z"
   },
   {
    "duration": 13,
    "start_time": "2021-11-09T06:41:51.670Z"
   },
   {
    "duration": 23,
    "start_time": "2021-11-09T06:41:51.685Z"
   },
   {
    "duration": 25,
    "start_time": "2021-11-09T06:41:51.710Z"
   },
   {
    "duration": 515,
    "start_time": "2021-11-09T06:41:51.738Z"
   },
   {
    "duration": 11,
    "start_time": "2021-11-09T06:41:52.256Z"
   },
   {
    "duration": 10,
    "start_time": "2021-11-09T06:41:52.269Z"
   },
   {
    "duration": 891,
    "start_time": "2021-11-09T06:41:52.281Z"
   },
   {
    "duration": 1070,
    "start_time": "2021-11-09T06:41:53.174Z"
   },
   {
    "duration": 255,
    "start_time": "2021-11-09T06:41:54.246Z"
   },
   {
    "duration": 7,
    "start_time": "2021-11-09T06:41:54.504Z"
   },
   {
    "duration": 19,
    "start_time": "2021-11-09T06:41:54.513Z"
   },
   {
    "duration": 30,
    "start_time": "2021-11-09T06:41:54.534Z"
   },
   {
    "duration": 489,
    "start_time": "2021-11-09T06:41:54.566Z"
   },
   {
    "duration": 544,
    "start_time": "2021-11-09T06:41:55.057Z"
   },
   {
    "duration": 8,
    "start_time": "2021-11-09T06:41:55.603Z"
   },
   {
    "duration": 413,
    "start_time": "2021-11-09T06:41:55.613Z"
   },
   {
    "duration": 820,
    "start_time": "2021-11-09T06:41:56.028Z"
   },
   {
    "duration": 342,
    "start_time": "2021-11-09T06:41:56.850Z"
   },
   {
    "duration": 744,
    "start_time": "2021-11-09T06:41:57.193Z"
   },
   {
    "duration": 304,
    "start_time": "2021-11-09T06:41:57.939Z"
   },
   {
    "duration": 381,
    "start_time": "2021-11-09T06:41:58.245Z"
   },
   {
    "duration": 51,
    "start_time": "2021-11-09T06:41:58.628Z"
   },
   {
    "duration": 4,
    "start_time": "2021-11-09T06:41:58.680Z"
   },
   {
    "duration": 12,
    "start_time": "2021-11-09T06:41:58.686Z"
   },
   {
    "duration": 7,
    "start_time": "2021-11-09T06:41:58.700Z"
   },
   {
    "duration": 370,
    "start_time": "2021-11-09T06:41:58.709Z"
   },
   {
    "duration": 10,
    "start_time": "2021-11-09T06:41:59.081Z"
   },
   {
    "duration": 398,
    "start_time": "2021-11-09T06:41:59.093Z"
   },
   {
    "duration": 11,
    "start_time": "2021-11-09T06:41:59.493Z"
   },
   {
    "duration": 371,
    "start_time": "2021-11-09T06:41:59.506Z"
   },
   {
    "duration": 9,
    "start_time": "2021-11-09T06:41:59.879Z"
   },
   {
    "duration": 12,
    "start_time": "2021-11-09T06:41:59.889Z"
   },
   {
    "duration": 27,
    "start_time": "2021-11-09T06:41:59.903Z"
   },
   {
    "duration": 10,
    "start_time": "2021-11-09T06:41:59.932Z"
   },
   {
    "duration": 15,
    "start_time": "2021-11-09T06:41:59.944Z"
   },
   {
    "duration": 12,
    "start_time": "2021-11-09T06:41:59.962Z"
   },
   {
    "duration": 22,
    "start_time": "2021-11-09T06:41:59.976Z"
   },
   {
    "duration": 31,
    "start_time": "2021-11-09T06:42:00.001Z"
   },
   {
    "duration": 25,
    "start_time": "2021-11-09T06:42:00.034Z"
   },
   {
    "duration": 20,
    "start_time": "2021-11-09T06:42:00.062Z"
   },
   {
    "duration": 39,
    "start_time": "2021-11-09T06:42:00.089Z"
   },
   {
    "duration": 26,
    "start_time": "2021-11-09T06:42:00.133Z"
   },
   {
    "duration": 22,
    "start_time": "2021-11-09T06:58:10.775Z"
   },
   {
    "duration": 16,
    "start_time": "2021-11-09T06:58:37.120Z"
   },
   {
    "duration": 19,
    "start_time": "2021-11-09T06:58:44.534Z"
   },
   {
    "duration": 20,
    "start_time": "2021-11-09T06:59:09.103Z"
   },
   {
    "duration": 262,
    "start_time": "2021-11-09T07:04:25.265Z"
   },
   {
    "duration": 9,
    "start_time": "2021-11-09T07:04:28.569Z"
   },
   {
    "duration": 353,
    "start_time": "2021-11-09T07:04:39.624Z"
   },
   {
    "duration": 9,
    "start_time": "2021-11-09T07:04:43.328Z"
   },
   {
    "duration": 26,
    "start_time": "2021-11-09T07:05:05.991Z"
   }
  ],
  "celltoolbar": "Отсутствует",
  "kernelspec": {
   "display_name": "Python 3",
   "language": "python",
   "name": "python3"
  },
  "language_info": {
   "codemirror_mode": {
    "name": "ipython",
    "version": 3
   },
   "file_extension": ".py",
   "mimetype": "text/x-python",
   "name": "python",
   "nbconvert_exporter": "python",
   "pygments_lexer": "ipython3",
   "version": "3.7.12"
  },
  "toc": {
   "base_numbering": 1,
   "nav_menu": {},
   "number_sections": true,
   "sideBar": true,
   "skip_h1_title": false,
   "title_cell": "Table of Contents",
   "title_sidebar": "Contents",
   "toc_cell": false,
   "toc_position": {
    "height": "calc(100% - 180px)",
    "left": "10px",
    "top": "150px",
    "width": "384px"
   },
   "toc_section_display": true,
   "toc_window_display": false
  }
 },
 "nbformat": 4,
 "nbformat_minor": 5
}
