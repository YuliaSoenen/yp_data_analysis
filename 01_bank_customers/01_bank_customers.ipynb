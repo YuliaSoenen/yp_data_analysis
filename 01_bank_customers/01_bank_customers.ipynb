{
 "cells": [
  {
   "cell_type": "markdown",
   "metadata": {},
   "source": [
    "# Исследование надёжности заёмщиков\n",
    "\n",
    "Заказчик — кредитный отдел банка. Нужно разобраться, влияет ли семейное положение и количество детей клиента на факт погашения кредита в срок. "
   ]
  },
  {
   "cell_type": "markdown",
   "metadata": {},
   "source": [
    "## Шаг 1. Откройте файл с данными и изучите общую информацию"
   ]
  },
  {
   "cell_type": "code",
   "execution_count": 1,
   "metadata": {},
   "outputs": [
    {
     "data": {
      "text/html": [
       "<div>\n",
       "<style scoped>\n",
       "    .dataframe tbody tr th:only-of-type {\n",
       "        vertical-align: middle;\n",
       "    }\n",
       "\n",
       "    .dataframe tbody tr th {\n",
       "        vertical-align: top;\n",
       "    }\n",
       "\n",
       "    .dataframe thead th {\n",
       "        text-align: right;\n",
       "    }\n",
       "</style>\n",
       "<table border=\"1\" class=\"dataframe\">\n",
       "  <thead>\n",
       "    <tr style=\"text-align: right;\">\n",
       "      <th></th>\n",
       "      <th>children</th>\n",
       "      <th>days_employed</th>\n",
       "      <th>dob_years</th>\n",
       "      <th>education</th>\n",
       "      <th>education_id</th>\n",
       "      <th>family_status</th>\n",
       "      <th>family_status_id</th>\n",
       "      <th>gender</th>\n",
       "      <th>income_type</th>\n",
       "      <th>debt</th>\n",
       "      <th>total_income</th>\n",
       "      <th>purpose</th>\n",
       "    </tr>\n",
       "  </thead>\n",
       "  <tbody>\n",
       "    <tr>\n",
       "      <td>0</td>\n",
       "      <td>1</td>\n",
       "      <td>-8437.673028</td>\n",
       "      <td>42</td>\n",
       "      <td>высшее</td>\n",
       "      <td>0</td>\n",
       "      <td>женат / замужем</td>\n",
       "      <td>0</td>\n",
       "      <td>F</td>\n",
       "      <td>сотрудник</td>\n",
       "      <td>0</td>\n",
       "      <td>253875.639453</td>\n",
       "      <td>покупка жилья</td>\n",
       "    </tr>\n",
       "    <tr>\n",
       "      <td>1</td>\n",
       "      <td>1</td>\n",
       "      <td>-4024.803754</td>\n",
       "      <td>36</td>\n",
       "      <td>среднее</td>\n",
       "      <td>1</td>\n",
       "      <td>женат / замужем</td>\n",
       "      <td>0</td>\n",
       "      <td>F</td>\n",
       "      <td>сотрудник</td>\n",
       "      <td>0</td>\n",
       "      <td>112080.014102</td>\n",
       "      <td>приобретение автомобиля</td>\n",
       "    </tr>\n",
       "    <tr>\n",
       "      <td>2</td>\n",
       "      <td>0</td>\n",
       "      <td>-5623.422610</td>\n",
       "      <td>33</td>\n",
       "      <td>Среднее</td>\n",
       "      <td>1</td>\n",
       "      <td>женат / замужем</td>\n",
       "      <td>0</td>\n",
       "      <td>M</td>\n",
       "      <td>сотрудник</td>\n",
       "      <td>0</td>\n",
       "      <td>145885.952297</td>\n",
       "      <td>покупка жилья</td>\n",
       "    </tr>\n",
       "    <tr>\n",
       "      <td>3</td>\n",
       "      <td>3</td>\n",
       "      <td>-4124.747207</td>\n",
       "      <td>32</td>\n",
       "      <td>среднее</td>\n",
       "      <td>1</td>\n",
       "      <td>женат / замужем</td>\n",
       "      <td>0</td>\n",
       "      <td>M</td>\n",
       "      <td>сотрудник</td>\n",
       "      <td>0</td>\n",
       "      <td>267628.550329</td>\n",
       "      <td>дополнительное образование</td>\n",
       "    </tr>\n",
       "    <tr>\n",
       "      <td>4</td>\n",
       "      <td>0</td>\n",
       "      <td>340266.072047</td>\n",
       "      <td>53</td>\n",
       "      <td>среднее</td>\n",
       "      <td>1</td>\n",
       "      <td>гражданский брак</td>\n",
       "      <td>1</td>\n",
       "      <td>F</td>\n",
       "      <td>пенсионер</td>\n",
       "      <td>0</td>\n",
       "      <td>158616.077870</td>\n",
       "      <td>сыграть свадьбу</td>\n",
       "    </tr>\n",
       "    <tr>\n",
       "      <td>5</td>\n",
       "      <td>0</td>\n",
       "      <td>-926.185831</td>\n",
       "      <td>27</td>\n",
       "      <td>высшее</td>\n",
       "      <td>0</td>\n",
       "      <td>гражданский брак</td>\n",
       "      <td>1</td>\n",
       "      <td>M</td>\n",
       "      <td>компаньон</td>\n",
       "      <td>0</td>\n",
       "      <td>255763.565419</td>\n",
       "      <td>покупка жилья</td>\n",
       "    </tr>\n",
       "    <tr>\n",
       "      <td>6</td>\n",
       "      <td>0</td>\n",
       "      <td>-2879.202052</td>\n",
       "      <td>43</td>\n",
       "      <td>высшее</td>\n",
       "      <td>0</td>\n",
       "      <td>женат / замужем</td>\n",
       "      <td>0</td>\n",
       "      <td>F</td>\n",
       "      <td>компаньон</td>\n",
       "      <td>0</td>\n",
       "      <td>240525.971920</td>\n",
       "      <td>операции с жильем</td>\n",
       "    </tr>\n",
       "    <tr>\n",
       "      <td>7</td>\n",
       "      <td>0</td>\n",
       "      <td>-152.779569</td>\n",
       "      <td>50</td>\n",
       "      <td>СРЕДНЕЕ</td>\n",
       "      <td>1</td>\n",
       "      <td>женат / замужем</td>\n",
       "      <td>0</td>\n",
       "      <td>M</td>\n",
       "      <td>сотрудник</td>\n",
       "      <td>0</td>\n",
       "      <td>135823.934197</td>\n",
       "      <td>образование</td>\n",
       "    </tr>\n",
       "    <tr>\n",
       "      <td>8</td>\n",
       "      <td>2</td>\n",
       "      <td>-6929.865299</td>\n",
       "      <td>35</td>\n",
       "      <td>ВЫСШЕЕ</td>\n",
       "      <td>0</td>\n",
       "      <td>гражданский брак</td>\n",
       "      <td>1</td>\n",
       "      <td>F</td>\n",
       "      <td>сотрудник</td>\n",
       "      <td>0</td>\n",
       "      <td>95856.832424</td>\n",
       "      <td>на проведение свадьбы</td>\n",
       "    </tr>\n",
       "    <tr>\n",
       "      <td>9</td>\n",
       "      <td>0</td>\n",
       "      <td>-2188.756445</td>\n",
       "      <td>41</td>\n",
       "      <td>среднее</td>\n",
       "      <td>1</td>\n",
       "      <td>женат / замужем</td>\n",
       "      <td>0</td>\n",
       "      <td>M</td>\n",
       "      <td>сотрудник</td>\n",
       "      <td>0</td>\n",
       "      <td>144425.938277</td>\n",
       "      <td>покупка жилья для семьи</td>\n",
       "    </tr>\n",
       "  </tbody>\n",
       "</table>\n",
       "</div>"
      ],
      "text/plain": [
       "   children  days_employed  dob_years education  education_id  \\\n",
       "0         1   -8437.673028         42    высшее             0   \n",
       "1         1   -4024.803754         36   среднее             1   \n",
       "2         0   -5623.422610         33   Среднее             1   \n",
       "3         3   -4124.747207         32   среднее             1   \n",
       "4         0  340266.072047         53   среднее             1   \n",
       "5         0    -926.185831         27    высшее             0   \n",
       "6         0   -2879.202052         43    высшее             0   \n",
       "7         0    -152.779569         50   СРЕДНЕЕ             1   \n",
       "8         2   -6929.865299         35    ВЫСШЕЕ             0   \n",
       "9         0   -2188.756445         41   среднее             1   \n",
       "\n",
       "      family_status  family_status_id gender income_type  debt   total_income  \\\n",
       "0   женат / замужем                 0      F   сотрудник     0  253875.639453   \n",
       "1   женат / замужем                 0      F   сотрудник     0  112080.014102   \n",
       "2   женат / замужем                 0      M   сотрудник     0  145885.952297   \n",
       "3   женат / замужем                 0      M   сотрудник     0  267628.550329   \n",
       "4  гражданский брак                 1      F   пенсионер     0  158616.077870   \n",
       "5  гражданский брак                 1      M   компаньон     0  255763.565419   \n",
       "6   женат / замужем                 0      F   компаньон     0  240525.971920   \n",
       "7   женат / замужем                 0      M   сотрудник     0  135823.934197   \n",
       "8  гражданский брак                 1      F   сотрудник     0   95856.832424   \n",
       "9   женат / замужем                 0      M   сотрудник     0  144425.938277   \n",
       "\n",
       "                      purpose  \n",
       "0               покупка жилья  \n",
       "1     приобретение автомобиля  \n",
       "2               покупка жилья  \n",
       "3  дополнительное образование  \n",
       "4             сыграть свадьбу  \n",
       "5               покупка жилья  \n",
       "6           операции с жильем  \n",
       "7                 образование  \n",
       "8       на проведение свадьбы  \n",
       "9     покупка жилья для семьи  "
      ]
     },
     "execution_count": 1,
     "metadata": {},
     "output_type": "execute_result"
    }
   ],
   "source": [
    "# импорт библиотеки pandas\n",
    "import pandas as pd\n",
    "\n",
    "# импорт библиотеки pymystem3\n",
    "from pymystem3 import Mystem\n",
    "\n",
    "# импорт контейнера Counter из модуля collections\n",
    "from collections import Counter\n",
    "\n",
    "# сохранение Mystem() в m\n",
    "m = Mystem()\n",
    "\n",
    "# чтение файла с данными с сохранением в df\n",
    "df = pd.read_csv('/datasets/data.csv')\n",
    "\n",
    "# получение первых 10 строк таблицы df\n",
    "df.head(10)"
   ]
  },
  {
   "cell_type": "markdown",
   "metadata": {},
   "source": [
    "    Рассмотрев таблицу видим, что каждая строка таблицы содержит информацию о заёмщиках кредитов в банке: \n",
    "    children — количество детей в семье\n",
    "    days_employed — общий трудовой стаж в днях\n",
    "    dob_years — возраст клиента в годах\n",
    "    education — уровень образования клиента\n",
    "    education_id — идентификатор уровня образования\n",
    "    family_status — семейное положение\n",
    "    family_status_id — идентификатор семейного положения\n",
    "    gender — пол клиента\n",
    "    income_type — тип занятости\n",
    "    debt — имел ли задолженность по возврату кредитов\n",
    "    total_income — ежемесячный доход\n",
    "    purpose — цель получения кредита"
   ]
  },
  {
   "cell_type": "markdown",
   "metadata": {},
   "source": [
    "Изучим общую информацию о таблице. Для этого используем метод info()."
   ]
  },
  {
   "cell_type": "code",
   "execution_count": 2,
   "metadata": {},
   "outputs": [
    {
     "name": "stdout",
     "output_type": "stream",
     "text": [
      "<class 'pandas.core.frame.DataFrame'>\n",
      "RangeIndex: 21525 entries, 0 to 21524\n",
      "Data columns (total 12 columns):\n",
      "children            21525 non-null int64\n",
      "days_employed       19351 non-null float64\n",
      "dob_years           21525 non-null int64\n",
      "education           21525 non-null object\n",
      "education_id        21525 non-null int64\n",
      "family_status       21525 non-null object\n",
      "family_status_id    21525 non-null int64\n",
      "gender              21525 non-null object\n",
      "income_type         21525 non-null object\n",
      "debt                21525 non-null int64\n",
      "total_income        19351 non-null float64\n",
      "purpose             21525 non-null object\n",
      "dtypes: float64(2), int64(5), object(5)\n",
      "memory usage: 2.0+ MB\n"
     ]
    }
   ],
   "source": [
    "# получение общей информации о данных в таблице df\n",
    "df.info()"
   ]
  },
  {
   "cell_type": "markdown",
   "metadata": {},
   "source": [
    "Рассмотрев полученную информацию о данных в таблице видим, что количество значений в столбцах различается. Это говорит о том, что в данных есть пропущенные значения. В столбце education данные записаны в разных регистрах, а в столбцах days_employed и  total_income тип данных вещественный. "
   ]
  },
  {
   "cell_type": "markdown",
   "metadata": {},
   "source": [
    "Проверим данные таблицы на наличие артефактов."
   ]
  },
  {
   "cell_type": "markdown",
   "metadata": {},
   "source": [
    "Получим список всех значений в столбце children. Для этого используем метод value_counts(). "
   ]
  },
  {
   "cell_type": "code",
   "execution_count": 3,
   "metadata": {},
   "outputs": [
    {
     "data": {
      "text/plain": [
       " 0     14149\n",
       " 1      4818\n",
       " 2      2055\n",
       " 3       330\n",
       " 20       76\n",
       "-1        47\n",
       " 4        41\n",
       " 5         9\n",
       "Name: children, dtype: int64"
      ]
     },
     "execution_count": 3,
     "metadata": {},
     "output_type": "execute_result"
    }
   ],
   "source": [
    "# получение значений столбца children \n",
    "df['children'].value_counts()"
   ]
  },
  {
   "cell_type": "markdown",
   "metadata": {},
   "source": [
    "Мы обнаружили два артефакта в количестве детей: 20 и -1.  "
   ]
  },
  {
   "cell_type": "markdown",
   "metadata": {},
   "source": [
    "Получим список всех уникальных значений в столбце dob_years. Для этого используем метод unique(). "
   ]
  },
  {
   "cell_type": "code",
   "execution_count": 4,
   "metadata": {},
   "outputs": [
    {
     "data": {
      "text/plain": [
       "array([42, 36, 33, 32, 53, 27, 43, 50, 35, 41, 40, 65, 54, 56, 26, 48, 24,\n",
       "       21, 57, 67, 28, 63, 62, 47, 34, 68, 25, 31, 30, 20, 49, 37, 45, 61,\n",
       "       64, 44, 52, 46, 23, 38, 39, 51,  0, 59, 29, 60, 55, 58, 71, 22, 73,\n",
       "       66, 69, 19, 72, 70, 74, 75])"
      ]
     },
     "execution_count": 4,
     "metadata": {},
     "output_type": "execute_result"
    }
   ],
   "source": [
    "# получение списка уникальных значений столбца dob_years\n",
    "df['dob_years'].unique()"
   ]
  },
  {
   "cell_type": "markdown",
   "metadata": {},
   "source": [
    "Мы обнаружили артефакт: 0 лет.  "
   ]
  },
  {
   "cell_type": "markdown",
   "metadata": {},
   "source": [
    "Получим количество строк в которых значение dob_years равно 0."
   ]
  },
  {
   "cell_type": "code",
   "execution_count": 5,
   "metadata": {},
   "outputs": [
    {
     "data": {
      "text/plain": [
       "101"
      ]
     },
     "execution_count": 5,
     "metadata": {},
     "output_type": "execute_result"
    }
   ],
   "source": [
    "# получение значений столбца dob_years равных нулю \n",
    "df[df['dob_years'] == 0]['dob_years'].count()"
   ]
  },
  {
   "cell_type": "markdown",
   "metadata": {},
   "source": [
    "В столбце days_employed мы видели, что встречаются данные с отрицательным значением. Проанализируем отрицательные зачения трудового стажа в разрезе типов занятости. Для этого применим логическое условие к столбцу days_employed и метод unique() к столбцу income_type."
   ]
  },
  {
   "cell_type": "code",
   "execution_count": 6,
   "metadata": {},
   "outputs": [
    {
     "data": {
      "text/plain": [
       "array(['пенсионер', 'безработный'], dtype=object)"
      ]
     },
     "execution_count": 6,
     "metadata": {},
     "output_type": "execute_result"
    }
   ],
   "source": [
    "# определение типов занятости в которых присутвуют положительные значения\n",
    "df[df['days_employed'] > 0]['income_type'].unique()"
   ]
  },
  {
   "cell_type": "markdown",
   "metadata": {},
   "source": [
    "Только у категорий 'пенсионер' и 'безработный' положительные значения стажа."
   ]
  },
  {
   "cell_type": "markdown",
   "metadata": {},
   "source": [
    "Проверим корректно ли были внесены данные о стаже. Для этого определим максимальное количество дней стажа и переведем это значение в года."
   ]
  },
  {
   "cell_type": "code",
   "execution_count": 7,
   "metadata": {},
   "outputs": [],
   "source": [
    "# определение максимального количества дней трудового стажа\n",
    "days_max = df['days_employed'].max() "
   ]
  },
  {
   "cell_type": "code",
   "execution_count": 8,
   "metadata": {},
   "outputs": [
    {
     "data": {
      "text/plain": [
       "1100.6997273296713"
      ]
     },
     "execution_count": 8,
     "metadata": {},
     "output_type": "execute_result"
    }
   ],
   "source": [
    "# перевод дней в года\n",
    "days_max / 365"
   ]
  },
  {
   "cell_type": "markdown",
   "metadata": {},
   "source": [
    "**Вывод**"
   ]
  },
  {
   "cell_type": "markdown",
   "metadata": {},
   "source": [
    "Предположения подтвердились. В данных действительно присутствуют артефакты. В столбце children были обнаружены отрицательные значения и значения очень большого количества детей. Это могло произойти в результате опечатки специалиста, который вносил данные. Такие артефакты могут повлиять на результаты исследования."
   ]
  },
  {
   "cell_type": "markdown",
   "metadata": {},
   "source": [
    "Также выяснилось, что отрицательный стаж в данных у всех категорий, за исключением пенсионеров и безработных. Это может быть связано с тем, что у пенсионеров и безработных есть дата окончания трудовой деятельности, а остальные категории продолжают работать, либо учиться и даты окончания деятельности у них нет. Также в столбце days_employed мы проверили максимальное количество дней трудового стажа и перевели это значение в года. Получилось, что максимальный стаж составляет 1100 лет. Причиной этому может послужить то, что данные вводились не в днях, а в других единицах измерения. Такие данные являются артефактами. В наших расчетах не будут задействованы данные трудового стажа, поэтому мы не будем их обрабатывать, но для наглядности исправим отрицательные значения стажа. "
   ]
  },
  {
   "cell_type": "markdown",
   "metadata": {},
   "source": [
    "В столбце dob_years присутвуют артефакты: в 101 строке стоит значение 0."
   ]
  },
  {
   "cell_type": "markdown",
   "metadata": {},
   "source": [
    "Проблемы, которые нужно решать: пропуски в данных, приведение к единому регистру данных об образовании, обработка артефактов в данных о количестве детей и в возрасте заемщиков, замена значений о трудовом стаже и ежемесячном доходе на целочисленный тип данных.     "
   ]
  },
  {
   "cell_type": "markdown",
   "metadata": {},
   "source": [
    "Для проверки рабочих гипотез особенно ценны столбцы children, family_status, total_income, purpose и debt. "
   ]
  },
  {
   "cell_type": "markdown",
   "metadata": {},
   "source": [
    "## Шаг 2. Предобработка данных"
   ]
  },
  {
   "cell_type": "markdown",
   "metadata": {},
   "source": [
    "### Обработка пропусков"
   ]
  },
  {
   "cell_type": "markdown",
   "metadata": {},
   "source": [
    "Обработаем артефакты в столбце 'children'. Для этого используем метод replace(), чтобы заменить 20 на 2, а -1 на 1. "
   ]
  },
  {
   "cell_type": "code",
   "execution_count": 9,
   "metadata": {},
   "outputs": [],
   "source": [
    "# замена значения в столбце children методом replace()\n",
    "df.loc[df['children'] == 20, 'children'] = df.loc[df['children'] == 20, 'children'].replace(20, 2)"
   ]
  },
  {
   "cell_type": "code",
   "execution_count": 10,
   "metadata": {},
   "outputs": [],
   "source": [
    "# замена отрицательного значения в столбце children методом replace()\n",
    "df.loc[df['children'] == -1, 'children'] = df.loc[df['children'] == -1, 'children'].replace(-1, 1)"
   ]
  },
  {
   "cell_type": "code",
   "execution_count": 11,
   "metadata": {},
   "outputs": [
    {
     "data": {
      "text/plain": [
       "0    14149\n",
       "1     4865\n",
       "2     2131\n",
       "3      330\n",
       "4       41\n",
       "5        9\n",
       "Name: children, dtype: int64"
      ]
     },
     "execution_count": 11,
     "metadata": {},
     "output_type": "execute_result"
    }
   ],
   "source": [
    "# проверка результата\n",
    "df['children'].value_counts()"
   ]
  },
  {
   "cell_type": "markdown",
   "metadata": {},
   "source": [
    "Избавимся от отрицательного значения стажа с помощью метода abs()."
   ]
  },
  {
   "cell_type": "code",
   "execution_count": 12,
   "metadata": {},
   "outputs": [],
   "source": [
    "# взятие значений столбца 'days_employed' по модулю \n",
    "df['days_employed'] = df['days_employed'].abs()"
   ]
  },
  {
   "cell_type": "code",
   "execution_count": 13,
   "metadata": {},
   "outputs": [
    {
     "data": {
      "text/plain": [
       "children            0\n",
       "days_employed       0\n",
       "dob_years           0\n",
       "education           0\n",
       "education_id        0\n",
       "family_status       0\n",
       "family_status_id    0\n",
       "gender              0\n",
       "income_type         0\n",
       "debt                0\n",
       "total_income        0\n",
       "purpose             0\n",
       "dtype: int64"
      ]
     },
     "execution_count": 13,
     "metadata": {},
     "output_type": "execute_result"
    }
   ],
   "source": [
    "# проверим строки с отрицательным значением\n",
    "df[df['days_employed'] < 0].count()"
   ]
  },
  {
   "cell_type": "markdown",
   "metadata": {},
   "source": [
    "Проверим данные на наличие пропусков вызовом методов для суммирования пропущенных значений."
   ]
  },
  {
   "cell_type": "code",
   "execution_count": 14,
   "metadata": {},
   "outputs": [
    {
     "data": {
      "text/plain": [
       "children               0\n",
       "days_employed       2174\n",
       "dob_years              0\n",
       "education              0\n",
       "education_id           0\n",
       "family_status          0\n",
       "family_status_id       0\n",
       "gender                 0\n",
       "income_type            0\n",
       "debt                   0\n",
       "total_income        2174\n",
       "purpose                0\n",
       "dtype: int64"
      ]
     },
     "execution_count": 14,
     "metadata": {},
     "output_type": "execute_result"
    }
   ],
   "source": [
    "# суммарное количество пропусков, выявленных методом isnull() в таблице df\n",
    "df.isnull().sum()"
   ]
  },
  {
   "cell_type": "markdown",
   "metadata": {},
   "source": [
    "Видно, что в столбцах days_employed и total_income пропущено одинаковое количество значений. Это означает, что если у клиента отсутствуют данные о трудовом стаже, то у него также отсутствуют данные о ежемесячном доходе. Причины пропусков могут быть разные: возможно клиент не предоставил данные о трудовом стаже и уровне дохода."
   ]
  },
  {
   "cell_type": "markdown",
   "metadata": {},
   "source": [
    "Общее количество пропущенных значений 2174 - это 10,1% от общего количества записей. Удалять такое количество данных нельзя, так как это может существенно повлиять на результаты исследования."
   ]
  },
  {
   "cell_type": "markdown",
   "metadata": {},
   "source": [
    "Данные в столбцах days_employed и total_income относятся к количественным переменным. Данные из столбца days_employed не фигурируют ни в одной из гипотез, поэтому пропуски заполним нулями. "
   ]
  },
  {
   "cell_type": "code",
   "execution_count": 15,
   "metadata": {},
   "outputs": [],
   "source": [
    "# замена пропущенных значений методом fillna() в столбце days_employed\n",
    "df['days_employed'] = df['days_employed'].fillna(0)"
   ]
  },
  {
   "cell_type": "code",
   "execution_count": 16,
   "metadata": {},
   "outputs": [
    {
     "data": {
      "text/plain": [
       "children               0\n",
       "days_employed          0\n",
       "dob_years              0\n",
       "education              0\n",
       "education_id           0\n",
       "family_status          0\n",
       "family_status_id       0\n",
       "gender                 0\n",
       "income_type            0\n",
       "debt                   0\n",
       "total_income        2174\n",
       "purpose                0\n",
       "dtype: int64"
      ]
     },
     "execution_count": 16,
     "metadata": {},
     "output_type": "execute_result"
    }
   ],
   "source": [
    "# проверка наличия пропусков в столбце days_employed \n",
    "df.isnull().sum()"
   ]
  },
  {
   "cell_type": "markdown",
   "metadata": {},
   "source": [
    "А вот пропуски в столбце total_income нельзя заполнить нулевыми значениями, так как от размера ежемесячного дохода может зависить способность возврата кредита в срок. Лучше заполнять такие пропуски средним значением или медианой. Воспользуемся медианой, чтобы исключить влияние артефактов на уровень дохода."
   ]
  },
  {
   "cell_type": "code",
   "execution_count": 17,
   "metadata": {},
   "outputs": [],
   "source": [
    "# группировка данных по типам занятости методом groupby() и расчет медианы\n",
    "income_type_median = df.groupby('income_type')['total_income'].median()"
   ]
  },
  {
   "cell_type": "code",
   "execution_count": 18,
   "metadata": {},
   "outputs": [
    {
     "data": {
      "text/plain": [
       "income_type\n",
       "безработный        131339.751676\n",
       "в декрете           53829.130729\n",
       "госслужащий        150447.935283\n",
       "компаньон          172357.950966\n",
       "пенсионер          118514.486412\n",
       "предприниматель    499163.144947\n",
       "сотрудник          142594.396847\n",
       "студент             98201.625314\n",
       "Name: total_income, dtype: float64"
      ]
     },
     "execution_count": 18,
     "metadata": {},
     "output_type": "execute_result"
    }
   ],
   "source": [
    "#полученные данные\n",
    "income_type_median "
   ]
  },
  {
   "cell_type": "code",
   "execution_count": 19,
   "metadata": {},
   "outputs": [],
   "source": [
    "# заполнение пропусков в столбце total_income медианой по каждому типу занятости\n",
    "for index in income_type_median.index:\n",
    "    df.loc[(df['total_income'].isna()) & (df['income_type'] == index), 'total_income'] = income_type_median[index]"
   ]
  },
  {
   "cell_type": "code",
   "execution_count": 20,
   "metadata": {},
   "outputs": [
    {
     "data": {
      "text/plain": [
       "children            0\n",
       "days_employed       0\n",
       "dob_years           0\n",
       "education           0\n",
       "education_id        0\n",
       "family_status       0\n",
       "family_status_id    0\n",
       "gender              0\n",
       "income_type         0\n",
       "debt                0\n",
       "total_income        0\n",
       "purpose             0\n",
       "dtype: int64"
      ]
     },
     "execution_count": 20,
     "metadata": {},
     "output_type": "execute_result"
    }
   ],
   "source": [
    "# проверка талбицы df на наличие пропусков\n",
    "df.isnull().sum()"
   ]
  },
  {
   "cell_type": "markdown",
   "metadata": {},
   "source": [
    "Обработаем артефакты в столбце 'dob_years' по тому же принципу, что и в столбце total_income. Заменим нули медианой по типам занятости."
   ]
  },
  {
   "cell_type": "code",
   "execution_count": 21,
   "metadata": {},
   "outputs": [],
   "source": [
    "# группировка данных по типам занятости методом groupby() и расчет медианы\n",
    "dob_years_median = df.groupby('income_type')['dob_years'].median()"
   ]
  },
  {
   "cell_type": "code",
   "execution_count": 22,
   "metadata": {},
   "outputs": [
    {
     "data": {
      "text/plain": [
       "income_type\n",
       "безработный        38.0\n",
       "в декрете          39.0\n",
       "госслужащий        40.0\n",
       "компаньон          39.0\n",
       "пенсионер          60.0\n",
       "предприниматель    42.5\n",
       "сотрудник          39.0\n",
       "студент            22.0\n",
       "Name: dob_years, dtype: float64"
      ]
     },
     "execution_count": 22,
     "metadata": {},
     "output_type": "execute_result"
    }
   ],
   "source": [
    "#полученные данные\n",
    "dob_years_median"
   ]
  },
  {
   "cell_type": "code",
   "execution_count": 23,
   "metadata": {},
   "outputs": [],
   "source": [
    "# заполнение пропусков в столбце dob_years медианой по каждому типу занятости\n",
    "for index in dob_years_median.index:\n",
    "    df.loc[(df['dob_years'] == 0) & (df['income_type'] == index), 'dob_years'] = dob_years_median[index].astype('int')"
   ]
  },
  {
   "cell_type": "code",
   "execution_count": 24,
   "metadata": {},
   "outputs": [
    {
     "data": {
      "text/plain": [
       "0"
      ]
     },
     "execution_count": 24,
     "metadata": {},
     "output_type": "execute_result"
    }
   ],
   "source": [
    "# проверка на нулевые значения\n",
    "df[df['dob_years'] == 0]['dob_years'].count()"
   ]
  },
  {
   "cell_type": "markdown",
   "metadata": {},
   "source": [
    "**Вывод**"
   ]
  },
  {
   "cell_type": "markdown",
   "metadata": {},
   "source": [
    "Мы исправили арфтефакты в данных о количестве детей и о возрасте заемщиков, обработали отрицательные значение трудового стажа и обработали пропуски во всех столбцах."
   ]
  },
  {
   "cell_type": "markdown",
   "metadata": {},
   "source": [
    "### Замена типа данных"
   ]
  },
  {
   "cell_type": "markdown",
   "metadata": {},
   "source": [
    "В таблице в столбцах days_employed и total_income данные относят к типу float, что не удобно для наглядного отражения и может привести к некорректному отображению целочисленных данных. Приведем данных в столбцах total_income и days_employed к целочисленному типу данных."
   ]
  },
  {
   "cell_type": "code",
   "execution_count": 25,
   "metadata": {},
   "outputs": [],
   "source": [
    "# замена типа данных в столбе total_income на целочисленный\n",
    "df['total_income'] = df['total_income'].astype('int')"
   ]
  },
  {
   "cell_type": "code",
   "execution_count": 26,
   "metadata": {},
   "outputs": [
    {
     "name": "stdout",
     "output_type": "stream",
     "text": [
      "<class 'pandas.core.frame.DataFrame'>\n",
      "RangeIndex: 21525 entries, 0 to 21524\n",
      "Data columns (total 12 columns):\n",
      "children            21525 non-null int64\n",
      "days_employed       21525 non-null float64\n",
      "dob_years           21525 non-null int64\n",
      "education           21525 non-null object\n",
      "education_id        21525 non-null int64\n",
      "family_status       21525 non-null object\n",
      "family_status_id    21525 non-null int64\n",
      "gender              21525 non-null object\n",
      "income_type         21525 non-null object\n",
      "debt                21525 non-null int64\n",
      "total_income        21525 non-null int64\n",
      "purpose             21525 non-null object\n",
      "dtypes: float64(1), int64(6), object(5)\n",
      "memory usage: 2.0+ MB\n"
     ]
    }
   ],
   "source": [
    "# проверка результата\n",
    "df.info()"
   ]
  },
  {
   "cell_type": "code",
   "execution_count": 27,
   "metadata": {},
   "outputs": [],
   "source": [
    "# замена типа данных в столбе days_employed на целочисленный\n",
    "df['days_employed'] = df['days_employed'].astype('int')"
   ]
  },
  {
   "cell_type": "code",
   "execution_count": 28,
   "metadata": {},
   "outputs": [
    {
     "name": "stdout",
     "output_type": "stream",
     "text": [
      "<class 'pandas.core.frame.DataFrame'>\n",
      "RangeIndex: 21525 entries, 0 to 21524\n",
      "Data columns (total 12 columns):\n",
      "children            21525 non-null int64\n",
      "days_employed       21525 non-null int64\n",
      "dob_years           21525 non-null int64\n",
      "education           21525 non-null object\n",
      "education_id        21525 non-null int64\n",
      "family_status       21525 non-null object\n",
      "family_status_id    21525 non-null int64\n",
      "gender              21525 non-null object\n",
      "income_type         21525 non-null object\n",
      "debt                21525 non-null int64\n",
      "total_income        21525 non-null int64\n",
      "purpose             21525 non-null object\n",
      "dtypes: int64(7), object(5)\n",
      "memory usage: 2.0+ MB\n"
     ]
    }
   ],
   "source": [
    "# проверка результата\n",
    "df.info()"
   ]
  },
  {
   "cell_type": "markdown",
   "metadata": {},
   "source": [
    "**Вывод**"
   ]
  },
  {
   "cell_type": "markdown",
   "metadata": {},
   "source": [
    "Все данные в таблице имеют целочисленный тип данных."
   ]
  },
  {
   "cell_type": "markdown",
   "metadata": {},
   "source": [
    "### Обработка дубликатов"
   ]
  },
  {
   "cell_type": "markdown",
   "metadata": {},
   "source": [
    "Проверим данные в таблице на наличие грубых дубликатов. Для этого используем метод duplicated().sum()."
   ]
  },
  {
   "cell_type": "code",
   "execution_count": 29,
   "metadata": {},
   "outputs": [
    {
     "data": {
      "text/plain": [
       "54"
      ]
     },
     "execution_count": 29,
     "metadata": {},
     "output_type": "execute_result"
    }
   ],
   "source": [
    "# получение суммарного количества дубликатов в таблице df\n",
    "df.duplicated().sum()"
   ]
  },
  {
   "cell_type": "markdown",
   "metadata": {},
   "source": [
    "В нашей таблице их выявилось 54 строки. Грубые или явные дубликаты появляются в результате различных сбоев в программах. Эти строки необходимо удалить. Для удаления используем метод drop_duplicates(). Этот метод используем в связке с методом reset_index() для замены индексов после удаления строк."
   ]
  },
  {
   "cell_type": "code",
   "execution_count": 30,
   "metadata": {},
   "outputs": [],
   "source": [
    "# удаление грубых дубликатов методом drop_duplicates() в связке с методом reset_index()\n",
    "df = df.drop_duplicates().reset_index(drop=True)"
   ]
  },
  {
   "cell_type": "code",
   "execution_count": 31,
   "metadata": {
    "scrolled": true
   },
   "outputs": [
    {
     "data": {
      "text/plain": [
       "0"
      ]
     },
     "execution_count": 31,
     "metadata": {},
     "output_type": "execute_result"
    }
   ],
   "source": [
    "# проверка количества дубликатов\n",
    "df.duplicated().sum()"
   ]
  },
  {
   "cell_type": "markdown",
   "metadata": {},
   "source": [
    "В столбце education данные записаны разным регистром, например: \"среднее\", \"Среднее\" и \"СРЕДНЕЕ\". Для того чтобы выявить дубликаты в таких строках, нужно все данные привести к нижнему регистру. Причинами появления таких дубликатов обычно является человеческих фактор."
   ]
  },
  {
   "cell_type": "code",
   "execution_count": 32,
   "metadata": {},
   "outputs": [],
   "source": [
    "# приведение данных в столбце education к нижнему регистру методом str.lower()\n",
    "df['education'] = df['education'].str.lower()"
   ]
  },
  {
   "cell_type": "code",
   "execution_count": 33,
   "metadata": {},
   "outputs": [
    {
     "data": {
      "text/plain": [
       "17"
      ]
     },
     "execution_count": 33,
     "metadata": {},
     "output_type": "execute_result"
    }
   ],
   "source": [
    "# проверка количества дубликатов\n",
    "df.duplicated().sum()"
   ]
  },
  {
   "cell_type": "markdown",
   "metadata": {},
   "source": [
    "После приведения строк к нижнему регистру выявилось еще 17 дубликатов. Их также необходимо удалить."
   ]
  },
  {
   "cell_type": "code",
   "execution_count": 34,
   "metadata": {},
   "outputs": [],
   "source": [
    "# удаление дубликатов\n",
    "df = df.drop_duplicates().reset_index(drop=True)"
   ]
  },
  {
   "cell_type": "code",
   "execution_count": 35,
   "metadata": {},
   "outputs": [
    {
     "data": {
      "text/plain": [
       "0"
      ]
     },
     "execution_count": 35,
     "metadata": {},
     "output_type": "execute_result"
    }
   ],
   "source": [
    "# проверка количества дубликатов\n",
    "df.duplicated().sum()"
   ]
  },
  {
   "cell_type": "markdown",
   "metadata": {},
   "source": [
    "Далее мы проверим столбцы family_status, gender и income_type на наличие неявных дубликатов. Для используем метод unique(), который возвращает перечень всех уникальных значений в столбце."
   ]
  },
  {
   "cell_type": "code",
   "execution_count": 36,
   "metadata": {},
   "outputs": [
    {
     "data": {
      "text/plain": [
       "array(['женат / замужем', 'гражданский брак', 'вдовец / вдова',\n",
       "       'в разводе', 'Не женат / не замужем'], dtype=object)"
      ]
     },
     "execution_count": 36,
     "metadata": {},
     "output_type": "execute_result"
    }
   ],
   "source": [
    "# поиск дубликатов в столбце family_status методом unique() \n",
    "df['family_status'].unique()"
   ]
  },
  {
   "cell_type": "markdown",
   "metadata": {},
   "source": [
    "В столбце family_status есть данные, записанные в разном регистре: 'Не женат / не замужем', их необходимо привести к нижнему регистру. "
   ]
  },
  {
   "cell_type": "code",
   "execution_count": 37,
   "metadata": {},
   "outputs": [],
   "source": [
    "# приведение данных в столбце family_status к нижнему регистру методом str.lower()\n",
    "df['family_status'] = df['family_status'].str.lower()"
   ]
  },
  {
   "cell_type": "code",
   "execution_count": 38,
   "metadata": {},
   "outputs": [
    {
     "data": {
      "text/plain": [
       "array(['F', 'M', 'XNA'], dtype=object)"
      ]
     },
     "execution_count": 38,
     "metadata": {},
     "output_type": "execute_result"
    }
   ],
   "source": [
    "# поиск дубликатов в столбце gender \n",
    "df['gender'].unique()"
   ]
  },
  {
   "cell_type": "markdown",
   "metadata": {},
   "source": [
    "В столбце gender обнаружился артефакт. Помимо значений 'F' для обозначения женского пола и 'M' для обозначения лиц мужского пола, выявился неизвестный 'XNA'. Проверим количество строк с таким значением."
   ]
  },
  {
   "cell_type": "code",
   "execution_count": 39,
   "metadata": {},
   "outputs": [
    {
     "data": {
      "text/plain": [
       "1"
      ]
     },
     "execution_count": 39,
     "metadata": {},
     "output_type": "execute_result"
    }
   ],
   "source": [
    "# подсчет количества строк со значением XNA в столбце gender\n",
    "df[df['gender'] == 'XNA']['gender'].count()"
   ]
  },
  {
   "cell_type": "markdown",
   "metadata": {},
   "source": [
    "Оказалось, что это всего одна строка. Удаление одной строки не повлияет на результаты исследований."
   ]
  },
  {
   "cell_type": "code",
   "execution_count": 40,
   "metadata": {},
   "outputs": [
    {
     "data": {
      "text/html": [
       "<div>\n",
       "<style scoped>\n",
       "    .dataframe tbody tr th:only-of-type {\n",
       "        vertical-align: middle;\n",
       "    }\n",
       "\n",
       "    .dataframe tbody tr th {\n",
       "        vertical-align: top;\n",
       "    }\n",
       "\n",
       "    .dataframe thead th {\n",
       "        text-align: right;\n",
       "    }\n",
       "</style>\n",
       "<table border=\"1\" class=\"dataframe\">\n",
       "  <thead>\n",
       "    <tr style=\"text-align: right;\">\n",
       "      <th></th>\n",
       "      <th>children</th>\n",
       "      <th>days_employed</th>\n",
       "      <th>dob_years</th>\n",
       "      <th>education</th>\n",
       "      <th>education_id</th>\n",
       "      <th>family_status</th>\n",
       "      <th>family_status_id</th>\n",
       "      <th>gender</th>\n",
       "      <th>income_type</th>\n",
       "      <th>debt</th>\n",
       "      <th>total_income</th>\n",
       "      <th>purpose</th>\n",
       "    </tr>\n",
       "  </thead>\n",
       "  <tbody>\n",
       "    <tr>\n",
       "      <td>10684</td>\n",
       "      <td>0</td>\n",
       "      <td>2358</td>\n",
       "      <td>24</td>\n",
       "      <td>неоконченное высшее</td>\n",
       "      <td>2</td>\n",
       "      <td>гражданский брак</td>\n",
       "      <td>1</td>\n",
       "      <td>XNA</td>\n",
       "      <td>компаньон</td>\n",
       "      <td>0</td>\n",
       "      <td>203905</td>\n",
       "      <td>покупка недвижимости</td>\n",
       "    </tr>\n",
       "  </tbody>\n",
       "</table>\n",
       "</div>"
      ],
      "text/plain": [
       "       children  days_employed  dob_years            education  education_id  \\\n",
       "10684         0           2358         24  неоконченное высшее             2   \n",
       "\n",
       "          family_status  family_status_id gender income_type  debt  \\\n",
       "10684  гражданский брак                 1    XNA   компаньон     0   \n",
       "\n",
       "       total_income               purpose  \n",
       "10684        203905  покупка недвижимости  "
      ]
     },
     "execution_count": 40,
     "metadata": {},
     "output_type": "execute_result"
    }
   ],
   "source": [
    "# определение индекса строки со значением XNA в столбце gender\n",
    "df[df['gender'] == 'XNA']"
   ]
  },
  {
   "cell_type": "code",
   "execution_count": 41,
   "metadata": {},
   "outputs": [],
   "source": [
    "# удаление строки со значением XNA в столбце gender\n",
    "df = df.drop([10684])"
   ]
  },
  {
   "cell_type": "code",
   "execution_count": 42,
   "metadata": {},
   "outputs": [
    {
     "data": {
      "text/plain": [
       "array(['F', 'M'], dtype=object)"
      ]
     },
     "execution_count": 42,
     "metadata": {},
     "output_type": "execute_result"
    }
   ],
   "source": [
    "# проверка уникальных значений в столбце gender\n",
    "df['gender'].unique()"
   ]
  },
  {
   "cell_type": "code",
   "execution_count": 43,
   "metadata": {},
   "outputs": [
    {
     "data": {
      "text/plain": [
       "array(['сотрудник', 'пенсионер', 'компаньон', 'госслужащий',\n",
       "       'безработный', 'предприниматель', 'студент', 'в декрете'],\n",
       "      dtype=object)"
      ]
     },
     "execution_count": 43,
     "metadata": {},
     "output_type": "execute_result"
    }
   ],
   "source": [
    "# поиск дубликатов в столбце income_type методом unique() \n",
    "df['income_type'].unique()"
   ]
  },
  {
   "cell_type": "markdown",
   "metadata": {},
   "source": [
    "В столбце income_type не оказалось каких-либо артефактов или дубликатов.  "
   ]
  },
  {
   "cell_type": "markdown",
   "metadata": {},
   "source": [
    "**Вывод**"
   ]
  },
  {
   "cell_type": "markdown",
   "metadata": {},
   "source": [
    "Мы избавились от всех дубликатов в таблице."
   ]
  },
  {
   "cell_type": "markdown",
   "metadata": {},
   "source": [
    "### Лемматизация"
   ]
  },
  {
   "cell_type": "markdown",
   "metadata": {},
   "source": [
    "Цели получения кредита клиенты указывают самостоятельно, а это значит, что одни и те же цели могут быть записаны по разному. Проверим список уникальных значений в столбце purpose."
   ]
  },
  {
   "cell_type": "code",
   "execution_count": 44,
   "metadata": {},
   "outputs": [
    {
     "data": {
      "text/plain": [
       "array(['покупка жилья', 'приобретение автомобиля',\n",
       "       'дополнительное образование', 'сыграть свадьбу',\n",
       "       'операции с жильем', 'образование', 'на проведение свадьбы',\n",
       "       'покупка жилья для семьи', 'покупка недвижимости',\n",
       "       'покупка коммерческой недвижимости', 'покупка жилой недвижимости',\n",
       "       'строительство собственной недвижимости', 'недвижимость',\n",
       "       'строительство недвижимости', 'на покупку подержанного автомобиля',\n",
       "       'на покупку своего автомобиля',\n",
       "       'операции с коммерческой недвижимостью',\n",
       "       'строительство жилой недвижимости', 'жилье',\n",
       "       'операции со своей недвижимостью', 'автомобили',\n",
       "       'заняться образованием', 'сделка с подержанным автомобилем',\n",
       "       'получение образования', 'автомобиль', 'свадьба',\n",
       "       'получение дополнительного образования', 'покупка своего жилья',\n",
       "       'операции с недвижимостью', 'получение высшего образования',\n",
       "       'свой автомобиль', 'сделка с автомобилем',\n",
       "       'профильное образование', 'высшее образование',\n",
       "       'покупка жилья для сдачи', 'на покупку автомобиля', 'ремонт жилью',\n",
       "       'заняться высшим образованием'], dtype=object)"
      ]
     },
     "execution_count": 44,
     "metadata": {},
     "output_type": "execute_result"
    }
   ],
   "source": [
    "# получение уникальных значений столбца purpose \n",
    "df['purpose'].unique()"
   ]
  },
  {
   "cell_type": "markdown",
   "metadata": {},
   "source": [
    "При изучении столбца purpose можно увидеть, что список уникальных значений очень большой. Предположение подтвердилось. Одни и те же цели получения кредита описаны по-разному: \"покупка жилья\", \"покупка недвижимости\", \"строительство жилой недвижимости\", \"покупка своего жилья\" и т.п. Сравнение таких данных невозможно. Для того, чтобы привести значения к небольшому количеству категорий нужно применить лемматизацию исходных данных. "
   ]
  },
  {
   "cell_type": "markdown",
   "metadata": {},
   "source": [
    "Напишем функцию, которая на входе будет принимать данные столбца purpose таблицы, проводить лемматизацию, т.е. приведение слов к их словарной форме. Для этого используем метод m.lemmatize(). Для замены данных новыми категориями создадим внутри функции список из 5 категорий, которые будут записаны в их словарной форме: 'свадьба', 'недвижимость', 'жилье', 'образование', 'автомобиль'. Функция будет сравнивать данные после лемматизации со значением из списка новых категорий и возвращать новую обобщенную категорию. Также категория жилье будет заменена категорией недвижимость, так как они являются схожими."
   ]
  },
  {
   "cell_type": "code",
   "execution_count": 45,
   "metadata": {},
   "outputs": [],
   "source": [
    "# функция \n",
    "def new_purpose(purpose):\n",
    "    purposes = ['свадьба', 'недвижимость', 'жилье', 'образование', 'автомобиль']\n",
    "    lemmas = m.lemmatize(purpose)\n",
    "    for element in purposes:\n",
    "        if element in lemmas:\n",
    "            if element == 'жилье':\n",
    "                return 'недвижимость'\n",
    "            return element\n",
    "    \n",
    "    return 'другое' "
   ]
  },
  {
   "cell_type": "code",
   "execution_count": 46,
   "metadata": {},
   "outputs": [],
   "source": [
    "# вызов функции\n",
    "df['purpose'] = df['purpose'].apply(new_purpose)"
   ]
  },
  {
   "cell_type": "code",
   "execution_count": 47,
   "metadata": {},
   "outputs": [
    {
     "data": {
      "text/html": [
       "<div>\n",
       "<style scoped>\n",
       "    .dataframe tbody tr th:only-of-type {\n",
       "        vertical-align: middle;\n",
       "    }\n",
       "\n",
       "    .dataframe tbody tr th {\n",
       "        vertical-align: top;\n",
       "    }\n",
       "\n",
       "    .dataframe thead th {\n",
       "        text-align: right;\n",
       "    }\n",
       "</style>\n",
       "<table border=\"1\" class=\"dataframe\">\n",
       "  <thead>\n",
       "    <tr style=\"text-align: right;\">\n",
       "      <th></th>\n",
       "      <th>children</th>\n",
       "      <th>days_employed</th>\n",
       "      <th>dob_years</th>\n",
       "      <th>education</th>\n",
       "      <th>education_id</th>\n",
       "      <th>family_status</th>\n",
       "      <th>family_status_id</th>\n",
       "      <th>gender</th>\n",
       "      <th>income_type</th>\n",
       "      <th>debt</th>\n",
       "      <th>total_income</th>\n",
       "      <th>purpose</th>\n",
       "    </tr>\n",
       "  </thead>\n",
       "  <tbody>\n",
       "    <tr>\n",
       "      <td>0</td>\n",
       "      <td>1</td>\n",
       "      <td>8437</td>\n",
       "      <td>42</td>\n",
       "      <td>высшее</td>\n",
       "      <td>0</td>\n",
       "      <td>женат / замужем</td>\n",
       "      <td>0</td>\n",
       "      <td>F</td>\n",
       "      <td>сотрудник</td>\n",
       "      <td>0</td>\n",
       "      <td>253875</td>\n",
       "      <td>недвижимость</td>\n",
       "    </tr>\n",
       "    <tr>\n",
       "      <td>1</td>\n",
       "      <td>1</td>\n",
       "      <td>4024</td>\n",
       "      <td>36</td>\n",
       "      <td>среднее</td>\n",
       "      <td>1</td>\n",
       "      <td>женат / замужем</td>\n",
       "      <td>0</td>\n",
       "      <td>F</td>\n",
       "      <td>сотрудник</td>\n",
       "      <td>0</td>\n",
       "      <td>112080</td>\n",
       "      <td>автомобиль</td>\n",
       "    </tr>\n",
       "    <tr>\n",
       "      <td>2</td>\n",
       "      <td>0</td>\n",
       "      <td>5623</td>\n",
       "      <td>33</td>\n",
       "      <td>среднее</td>\n",
       "      <td>1</td>\n",
       "      <td>женат / замужем</td>\n",
       "      <td>0</td>\n",
       "      <td>M</td>\n",
       "      <td>сотрудник</td>\n",
       "      <td>0</td>\n",
       "      <td>145885</td>\n",
       "      <td>недвижимость</td>\n",
       "    </tr>\n",
       "    <tr>\n",
       "      <td>3</td>\n",
       "      <td>3</td>\n",
       "      <td>4124</td>\n",
       "      <td>32</td>\n",
       "      <td>среднее</td>\n",
       "      <td>1</td>\n",
       "      <td>женат / замужем</td>\n",
       "      <td>0</td>\n",
       "      <td>M</td>\n",
       "      <td>сотрудник</td>\n",
       "      <td>0</td>\n",
       "      <td>267628</td>\n",
       "      <td>образование</td>\n",
       "    </tr>\n",
       "    <tr>\n",
       "      <td>4</td>\n",
       "      <td>0</td>\n",
       "      <td>340266</td>\n",
       "      <td>53</td>\n",
       "      <td>среднее</td>\n",
       "      <td>1</td>\n",
       "      <td>гражданский брак</td>\n",
       "      <td>1</td>\n",
       "      <td>F</td>\n",
       "      <td>пенсионер</td>\n",
       "      <td>0</td>\n",
       "      <td>158616</td>\n",
       "      <td>свадьба</td>\n",
       "    </tr>\n",
       "    <tr>\n",
       "      <td>5</td>\n",
       "      <td>0</td>\n",
       "      <td>926</td>\n",
       "      <td>27</td>\n",
       "      <td>высшее</td>\n",
       "      <td>0</td>\n",
       "      <td>гражданский брак</td>\n",
       "      <td>1</td>\n",
       "      <td>M</td>\n",
       "      <td>компаньон</td>\n",
       "      <td>0</td>\n",
       "      <td>255763</td>\n",
       "      <td>недвижимость</td>\n",
       "    </tr>\n",
       "    <tr>\n",
       "      <td>6</td>\n",
       "      <td>0</td>\n",
       "      <td>2879</td>\n",
       "      <td>43</td>\n",
       "      <td>высшее</td>\n",
       "      <td>0</td>\n",
       "      <td>женат / замужем</td>\n",
       "      <td>0</td>\n",
       "      <td>F</td>\n",
       "      <td>компаньон</td>\n",
       "      <td>0</td>\n",
       "      <td>240525</td>\n",
       "      <td>недвижимость</td>\n",
       "    </tr>\n",
       "    <tr>\n",
       "      <td>7</td>\n",
       "      <td>0</td>\n",
       "      <td>152</td>\n",
       "      <td>50</td>\n",
       "      <td>среднее</td>\n",
       "      <td>1</td>\n",
       "      <td>женат / замужем</td>\n",
       "      <td>0</td>\n",
       "      <td>M</td>\n",
       "      <td>сотрудник</td>\n",
       "      <td>0</td>\n",
       "      <td>135823</td>\n",
       "      <td>образование</td>\n",
       "    </tr>\n",
       "    <tr>\n",
       "      <td>8</td>\n",
       "      <td>2</td>\n",
       "      <td>6929</td>\n",
       "      <td>35</td>\n",
       "      <td>высшее</td>\n",
       "      <td>0</td>\n",
       "      <td>гражданский брак</td>\n",
       "      <td>1</td>\n",
       "      <td>F</td>\n",
       "      <td>сотрудник</td>\n",
       "      <td>0</td>\n",
       "      <td>95856</td>\n",
       "      <td>свадьба</td>\n",
       "    </tr>\n",
       "    <tr>\n",
       "      <td>9</td>\n",
       "      <td>0</td>\n",
       "      <td>2188</td>\n",
       "      <td>41</td>\n",
       "      <td>среднее</td>\n",
       "      <td>1</td>\n",
       "      <td>женат / замужем</td>\n",
       "      <td>0</td>\n",
       "      <td>M</td>\n",
       "      <td>сотрудник</td>\n",
       "      <td>0</td>\n",
       "      <td>144425</td>\n",
       "      <td>недвижимость</td>\n",
       "    </tr>\n",
       "  </tbody>\n",
       "</table>\n",
       "</div>"
      ],
      "text/plain": [
       "   children  days_employed  dob_years education  education_id  \\\n",
       "0         1           8437         42    высшее             0   \n",
       "1         1           4024         36   среднее             1   \n",
       "2         0           5623         33   среднее             1   \n",
       "3         3           4124         32   среднее             1   \n",
       "4         0         340266         53   среднее             1   \n",
       "5         0            926         27    высшее             0   \n",
       "6         0           2879         43    высшее             0   \n",
       "7         0            152         50   среднее             1   \n",
       "8         2           6929         35    высшее             0   \n",
       "9         0           2188         41   среднее             1   \n",
       "\n",
       "      family_status  family_status_id gender income_type  debt  total_income  \\\n",
       "0   женат / замужем                 0      F   сотрудник     0        253875   \n",
       "1   женат / замужем                 0      F   сотрудник     0        112080   \n",
       "2   женат / замужем                 0      M   сотрудник     0        145885   \n",
       "3   женат / замужем                 0      M   сотрудник     0        267628   \n",
       "4  гражданский брак                 1      F   пенсионер     0        158616   \n",
       "5  гражданский брак                 1      M   компаньон     0        255763   \n",
       "6   женат / замужем                 0      F   компаньон     0        240525   \n",
       "7   женат / замужем                 0      M   сотрудник     0        135823   \n",
       "8  гражданский брак                 1      F   сотрудник     0         95856   \n",
       "9   женат / замужем                 0      M   сотрудник     0        144425   \n",
       "\n",
       "        purpose  \n",
       "0  недвижимость  \n",
       "1    автомобиль  \n",
       "2  недвижимость  \n",
       "3   образование  \n",
       "4       свадьба  \n",
       "5  недвижимость  \n",
       "6  недвижимость  \n",
       "7   образование  \n",
       "8       свадьба  \n",
       "9  недвижимость  "
      ]
     },
     "execution_count": 47,
     "metadata": {},
     "output_type": "execute_result"
    }
   ],
   "source": [
    "# проверка результата\n",
    "df.head(10)"
   ]
  },
  {
   "cell_type": "markdown",
   "metadata": {},
   "source": [
    "**Вывод**"
   ]
  },
  {
   "cell_type": "markdown",
   "metadata": {},
   "source": [
    "Произведена лемматизация значений столбца purpose. Данные в столбце заменены на новые обощенные категории, по которым удобно проводить анализ.  "
   ]
  },
  {
   "cell_type": "markdown",
   "metadata": {},
   "source": [
    "### Категоризация данных"
   ]
  },
  {
   "cell_type": "markdown",
   "metadata": {},
   "source": [
    "Используем категоризацию данных для проведения сравнения значений в ходе исследования. "
   ]
  },
  {
   "cell_type": "markdown",
   "metadata": {},
   "source": [
    "    В исследовании нам нужно будет проверить 4 гипотезы:\n",
    "    - есть ли зависимость между наличием детей и возвратом кредита в срок?\n",
    "    - есть ли зависимость между семейным положением и возвратом кредита в срок?\n",
    "    - есть ли зависимость между уровнем дохода и возвратом кредита в срок?\n",
    "    - как разные цели кредита влияют на его возврат в срок?"
   ]
  },
  {
   "cell_type": "markdown",
   "metadata": {},
   "source": [
    "Для проверки 2 и 4 гипотезы уже проведена категоризация данных. В столбце family_status определены категории отнесения клиентов в соответствии с их семейным положением, а в столбце purpose обозначены категория получения целей кредита. Для проверки 1 и 3 гипотезы поведем категоризацию клиентов по наличию детей и по уровню дохода."
   ]
  },
  {
   "cell_type": "markdown",
   "metadata": {},
   "source": [
    "1. Категоризация клиентов по наличию детей."
   ]
  },
  {
   "cell_type": "markdown",
   "metadata": {},
   "source": [
    "Разделим всех заемщиков на категории 'есть дети' и 'нет детей'.\n",
    "Для этого напишем функцию, которая будет принимать информацию о количестве детей из таблицы df и в зависимости от результата возвращать категорию.  "
   ]
  },
  {
   "cell_type": "code",
   "execution_count": 48,
   "metadata": {},
   "outputs": [],
   "source": [
    "# функция\n",
    "def set_shildren_level(children):\n",
    "    if children >= 1:\n",
    "        return 'есть дети' \n",
    "    return 'нет детей' "
   ]
  },
  {
   "cell_type": "code",
   "execution_count": 49,
   "metadata": {},
   "outputs": [],
   "source": [
    "# категоризация по количеству детей\n",
    "df['children_category'] = df['children'].apply(set_shildren_level)"
   ]
  },
  {
   "cell_type": "code",
   "execution_count": 50,
   "metadata": {},
   "outputs": [
    {
     "data": {
      "text/html": [
       "<div>\n",
       "<style scoped>\n",
       "    .dataframe tbody tr th:only-of-type {\n",
       "        vertical-align: middle;\n",
       "    }\n",
       "\n",
       "    .dataframe tbody tr th {\n",
       "        vertical-align: top;\n",
       "    }\n",
       "\n",
       "    .dataframe thead th {\n",
       "        text-align: right;\n",
       "    }\n",
       "</style>\n",
       "<table border=\"1\" class=\"dataframe\">\n",
       "  <thead>\n",
       "    <tr style=\"text-align: right;\">\n",
       "      <th></th>\n",
       "      <th>children</th>\n",
       "      <th>days_employed</th>\n",
       "      <th>dob_years</th>\n",
       "      <th>education</th>\n",
       "      <th>education_id</th>\n",
       "      <th>family_status</th>\n",
       "      <th>family_status_id</th>\n",
       "      <th>gender</th>\n",
       "      <th>income_type</th>\n",
       "      <th>debt</th>\n",
       "      <th>total_income</th>\n",
       "      <th>purpose</th>\n",
       "      <th>children_category</th>\n",
       "    </tr>\n",
       "  </thead>\n",
       "  <tbody>\n",
       "    <tr>\n",
       "      <td>0</td>\n",
       "      <td>1</td>\n",
       "      <td>8437</td>\n",
       "      <td>42</td>\n",
       "      <td>высшее</td>\n",
       "      <td>0</td>\n",
       "      <td>женат / замужем</td>\n",
       "      <td>0</td>\n",
       "      <td>F</td>\n",
       "      <td>сотрудник</td>\n",
       "      <td>0</td>\n",
       "      <td>253875</td>\n",
       "      <td>недвижимость</td>\n",
       "      <td>есть дети</td>\n",
       "    </tr>\n",
       "    <tr>\n",
       "      <td>1</td>\n",
       "      <td>1</td>\n",
       "      <td>4024</td>\n",
       "      <td>36</td>\n",
       "      <td>среднее</td>\n",
       "      <td>1</td>\n",
       "      <td>женат / замужем</td>\n",
       "      <td>0</td>\n",
       "      <td>F</td>\n",
       "      <td>сотрудник</td>\n",
       "      <td>0</td>\n",
       "      <td>112080</td>\n",
       "      <td>автомобиль</td>\n",
       "      <td>есть дети</td>\n",
       "    </tr>\n",
       "    <tr>\n",
       "      <td>2</td>\n",
       "      <td>0</td>\n",
       "      <td>5623</td>\n",
       "      <td>33</td>\n",
       "      <td>среднее</td>\n",
       "      <td>1</td>\n",
       "      <td>женат / замужем</td>\n",
       "      <td>0</td>\n",
       "      <td>M</td>\n",
       "      <td>сотрудник</td>\n",
       "      <td>0</td>\n",
       "      <td>145885</td>\n",
       "      <td>недвижимость</td>\n",
       "      <td>нет детей</td>\n",
       "    </tr>\n",
       "    <tr>\n",
       "      <td>3</td>\n",
       "      <td>3</td>\n",
       "      <td>4124</td>\n",
       "      <td>32</td>\n",
       "      <td>среднее</td>\n",
       "      <td>1</td>\n",
       "      <td>женат / замужем</td>\n",
       "      <td>0</td>\n",
       "      <td>M</td>\n",
       "      <td>сотрудник</td>\n",
       "      <td>0</td>\n",
       "      <td>267628</td>\n",
       "      <td>образование</td>\n",
       "      <td>есть дети</td>\n",
       "    </tr>\n",
       "    <tr>\n",
       "      <td>4</td>\n",
       "      <td>0</td>\n",
       "      <td>340266</td>\n",
       "      <td>53</td>\n",
       "      <td>среднее</td>\n",
       "      <td>1</td>\n",
       "      <td>гражданский брак</td>\n",
       "      <td>1</td>\n",
       "      <td>F</td>\n",
       "      <td>пенсионер</td>\n",
       "      <td>0</td>\n",
       "      <td>158616</td>\n",
       "      <td>свадьба</td>\n",
       "      <td>нет детей</td>\n",
       "    </tr>\n",
       "  </tbody>\n",
       "</table>\n",
       "</div>"
      ],
      "text/plain": [
       "   children  days_employed  dob_years education  education_id  \\\n",
       "0         1           8437         42    высшее             0   \n",
       "1         1           4024         36   среднее             1   \n",
       "2         0           5623         33   среднее             1   \n",
       "3         3           4124         32   среднее             1   \n",
       "4         0         340266         53   среднее             1   \n",
       "\n",
       "      family_status  family_status_id gender income_type  debt  total_income  \\\n",
       "0   женат / замужем                 0      F   сотрудник     0        253875   \n",
       "1   женат / замужем                 0      F   сотрудник     0        112080   \n",
       "2   женат / замужем                 0      M   сотрудник     0        145885   \n",
       "3   женат / замужем                 0      M   сотрудник     0        267628   \n",
       "4  гражданский брак                 1      F   пенсионер     0        158616   \n",
       "\n",
       "        purpose children_category  \n",
       "0  недвижимость         есть дети  \n",
       "1    автомобиль         есть дети  \n",
       "2  недвижимость         нет детей  \n",
       "3   образование         есть дети  \n",
       "4       свадьба         нет детей  "
      ]
     },
     "execution_count": 50,
     "metadata": {},
     "output_type": "execute_result"
    }
   ],
   "source": [
    "# проверка результата\n",
    "df.head()"
   ]
  },
  {
   "cell_type": "markdown",
   "metadata": {},
   "source": [
    "2. Категоризация клиентов по уровню дохода."
   ]
  },
  {
   "cell_type": "markdown",
   "metadata": {},
   "source": [
    "    Разделим всех заемщиков на категории по уровню дохода. Для этого найдем максимальный и минимальный доход и обозначим категории в процентом соотношении от полученного диапазона: \n",
    "    высокий - свыше 75%\n",
    "    выше среднего - от 50% до 75%\n",
    "    ниже среднего - от 25% до 50%\n",
    "    низкий - ниже 25%"
   ]
  },
  {
   "cell_type": "code",
   "execution_count": 51,
   "metadata": {},
   "outputs": [],
   "source": [
    "# максимальный доход в столбце 'total_income' таблицы\n",
    "max_income = df['total_income'].max()"
   ]
  },
  {
   "cell_type": "code",
   "execution_count": 52,
   "metadata": {},
   "outputs": [],
   "source": [
    "# минимальный доход в столбце 'total_income' таблицы\n",
    "min_income = df['total_income'].min()"
   ]
  },
  {
   "cell_type": "code",
   "execution_count": 53,
   "metadata": {},
   "outputs": [],
   "source": [
    "# установление значения высокого дохода\n",
    "high_income = (max_income - min_income) * 0.75"
   ]
  },
  {
   "cell_type": "code",
   "execution_count": 54,
   "metadata": {},
   "outputs": [],
   "source": [
    "# установление значения среднего дохода\n",
    "medium_income = (max_income - min_income) * 0.5"
   ]
  },
  {
   "cell_type": "code",
   "execution_count": 55,
   "metadata": {},
   "outputs": [],
   "source": [
    "# установление значения низкого дохода\n",
    "low_income = (max_income - min_income) * 0.25"
   ]
  },
  {
   "cell_type": "markdown",
   "metadata": {},
   "source": [
    "Напишем функцию, которая будет принимать информацию о размере ежемесячного дохода из таблицы df и в зависмости от результата возвращать категорию.  "
   ]
  },
  {
   "cell_type": "code",
   "execution_count": 56,
   "metadata": {},
   "outputs": [],
   "source": [
    "# функция\n",
    "def set_income_level(income):\n",
    "    if income <= low_income:\n",
    "        return 'низкий' \n",
    "    if income <= medium_income:\n",
    "        return 'ниже среднего'\n",
    "    if income <= high_income:\n",
    "        return 'выше среднего'    \n",
    "    return 'высокий' "
   ]
  },
  {
   "cell_type": "code",
   "execution_count": 57,
   "metadata": {},
   "outputs": [],
   "source": [
    "# категоризация по уровню дохода\n",
    "df['income_level'] = df['total_income'].apply(set_income_level)"
   ]
  },
  {
   "cell_type": "code",
   "execution_count": 58,
   "metadata": {},
   "outputs": [
    {
     "data": {
      "text/html": [
       "<div>\n",
       "<style scoped>\n",
       "    .dataframe tbody tr th:only-of-type {\n",
       "        vertical-align: middle;\n",
       "    }\n",
       "\n",
       "    .dataframe tbody tr th {\n",
       "        vertical-align: top;\n",
       "    }\n",
       "\n",
       "    .dataframe thead th {\n",
       "        text-align: right;\n",
       "    }\n",
       "</style>\n",
       "<table border=\"1\" class=\"dataframe\">\n",
       "  <thead>\n",
       "    <tr style=\"text-align: right;\">\n",
       "      <th></th>\n",
       "      <th>children</th>\n",
       "      <th>days_employed</th>\n",
       "      <th>dob_years</th>\n",
       "      <th>education</th>\n",
       "      <th>education_id</th>\n",
       "      <th>family_status</th>\n",
       "      <th>family_status_id</th>\n",
       "      <th>gender</th>\n",
       "      <th>income_type</th>\n",
       "      <th>debt</th>\n",
       "      <th>total_income</th>\n",
       "      <th>purpose</th>\n",
       "      <th>children_category</th>\n",
       "      <th>income_level</th>\n",
       "    </tr>\n",
       "  </thead>\n",
       "  <tbody>\n",
       "    <tr>\n",
       "      <td>0</td>\n",
       "      <td>1</td>\n",
       "      <td>8437</td>\n",
       "      <td>42</td>\n",
       "      <td>высшее</td>\n",
       "      <td>0</td>\n",
       "      <td>женат / замужем</td>\n",
       "      <td>0</td>\n",
       "      <td>F</td>\n",
       "      <td>сотрудник</td>\n",
       "      <td>0</td>\n",
       "      <td>253875</td>\n",
       "      <td>недвижимость</td>\n",
       "      <td>есть дети</td>\n",
       "      <td>низкий</td>\n",
       "    </tr>\n",
       "    <tr>\n",
       "      <td>1</td>\n",
       "      <td>1</td>\n",
       "      <td>4024</td>\n",
       "      <td>36</td>\n",
       "      <td>среднее</td>\n",
       "      <td>1</td>\n",
       "      <td>женат / замужем</td>\n",
       "      <td>0</td>\n",
       "      <td>F</td>\n",
       "      <td>сотрудник</td>\n",
       "      <td>0</td>\n",
       "      <td>112080</td>\n",
       "      <td>автомобиль</td>\n",
       "      <td>есть дети</td>\n",
       "      <td>низкий</td>\n",
       "    </tr>\n",
       "    <tr>\n",
       "      <td>2</td>\n",
       "      <td>0</td>\n",
       "      <td>5623</td>\n",
       "      <td>33</td>\n",
       "      <td>среднее</td>\n",
       "      <td>1</td>\n",
       "      <td>женат / замужем</td>\n",
       "      <td>0</td>\n",
       "      <td>M</td>\n",
       "      <td>сотрудник</td>\n",
       "      <td>0</td>\n",
       "      <td>145885</td>\n",
       "      <td>недвижимость</td>\n",
       "      <td>нет детей</td>\n",
       "      <td>низкий</td>\n",
       "    </tr>\n",
       "    <tr>\n",
       "      <td>3</td>\n",
       "      <td>3</td>\n",
       "      <td>4124</td>\n",
       "      <td>32</td>\n",
       "      <td>среднее</td>\n",
       "      <td>1</td>\n",
       "      <td>женат / замужем</td>\n",
       "      <td>0</td>\n",
       "      <td>M</td>\n",
       "      <td>сотрудник</td>\n",
       "      <td>0</td>\n",
       "      <td>267628</td>\n",
       "      <td>образование</td>\n",
       "      <td>есть дети</td>\n",
       "      <td>низкий</td>\n",
       "    </tr>\n",
       "    <tr>\n",
       "      <td>4</td>\n",
       "      <td>0</td>\n",
       "      <td>340266</td>\n",
       "      <td>53</td>\n",
       "      <td>среднее</td>\n",
       "      <td>1</td>\n",
       "      <td>гражданский брак</td>\n",
       "      <td>1</td>\n",
       "      <td>F</td>\n",
       "      <td>пенсионер</td>\n",
       "      <td>0</td>\n",
       "      <td>158616</td>\n",
       "      <td>свадьба</td>\n",
       "      <td>нет детей</td>\n",
       "      <td>низкий</td>\n",
       "    </tr>\n",
       "  </tbody>\n",
       "</table>\n",
       "</div>"
      ],
      "text/plain": [
       "   children  days_employed  dob_years education  education_id  \\\n",
       "0         1           8437         42    высшее             0   \n",
       "1         1           4024         36   среднее             1   \n",
       "2         0           5623         33   среднее             1   \n",
       "3         3           4124         32   среднее             1   \n",
       "4         0         340266         53   среднее             1   \n",
       "\n",
       "      family_status  family_status_id gender income_type  debt  total_income  \\\n",
       "0   женат / замужем                 0      F   сотрудник     0        253875   \n",
       "1   женат / замужем                 0      F   сотрудник     0        112080   \n",
       "2   женат / замужем                 0      M   сотрудник     0        145885   \n",
       "3   женат / замужем                 0      M   сотрудник     0        267628   \n",
       "4  гражданский брак                 1      F   пенсионер     0        158616   \n",
       "\n",
       "        purpose children_category income_level  \n",
       "0  недвижимость         есть дети       низкий  \n",
       "1    автомобиль         есть дети       низкий  \n",
       "2  недвижимость         нет детей       низкий  \n",
       "3   образование         есть дети       низкий  \n",
       "4       свадьба         нет детей       низкий  "
      ]
     },
     "execution_count": 58,
     "metadata": {},
     "output_type": "execute_result"
    }
   ],
   "source": [
    "df.head()"
   ]
  },
  {
   "cell_type": "markdown",
   "metadata": {},
   "source": [
    "3. Дополнительно проведем категоризацию клиентов по возрасту."
   ]
  },
  {
   "cell_type": "markdown",
   "metadata": {},
   "source": [
    "Разделим всех заемщиков на категории по возрасту. Для этого найдем максимальный и минимальный возраст."
   ]
  },
  {
   "cell_type": "code",
   "execution_count": 59,
   "metadata": {},
   "outputs": [],
   "source": [
    "# максимальный возраст в столбце 'dob_years' таблицы\n",
    "max_dob_years = df['dob_years'].max()"
   ]
  },
  {
   "cell_type": "code",
   "execution_count": 60,
   "metadata": {},
   "outputs": [
    {
     "data": {
      "text/plain": [
       "75"
      ]
     },
     "execution_count": 60,
     "metadata": {},
     "output_type": "execute_result"
    }
   ],
   "source": [
    "max_dob_years"
   ]
  },
  {
   "cell_type": "code",
   "execution_count": 61,
   "metadata": {},
   "outputs": [],
   "source": [
    "# минимальный возраст в столбце 'dob_years' таблицы\n",
    "min_dob_years = df['dob_years'].min()"
   ]
  },
  {
   "cell_type": "code",
   "execution_count": 62,
   "metadata": {},
   "outputs": [
    {
     "data": {
      "text/plain": [
       "19"
      ]
     },
     "execution_count": 62,
     "metadata": {},
     "output_type": "execute_result"
    }
   ],
   "source": [
    "min_dob_years "
   ]
  },
  {
   "cell_type": "markdown",
   "metadata": {},
   "source": [
    "    Обозначим категории в процентом соотношении от полученного диапазона: \n",
    "    молодые - до 30 лет\n",
    "    взрослые - от 30 до 64 лет\n",
    "    пенсионеры - старше 64 "
   ]
  },
  {
   "cell_type": "code",
   "execution_count": 63,
   "metadata": {},
   "outputs": [],
   "source": [
    "# функция\n",
    "def set_dob_years_cat(dob_years):\n",
    "    if 18 < dob_years < 30:\n",
    "        return 'молодые' \n",
    "    if 29 < dob_years < 64:\n",
    "        return 'взрослые'        \n",
    "    return 'пенсионеры' "
   ]
  },
  {
   "cell_type": "code",
   "execution_count": 64,
   "metadata": {},
   "outputs": [],
   "source": [
    "# категоризация по возрасту\n",
    "df['dob_years_cat'] = df['dob_years'].apply(set_dob_years_cat)"
   ]
  },
  {
   "cell_type": "code",
   "execution_count": 65,
   "metadata": {},
   "outputs": [
    {
     "data": {
      "text/html": [
       "<div>\n",
       "<style scoped>\n",
       "    .dataframe tbody tr th:only-of-type {\n",
       "        vertical-align: middle;\n",
       "    }\n",
       "\n",
       "    .dataframe tbody tr th {\n",
       "        vertical-align: top;\n",
       "    }\n",
       "\n",
       "    .dataframe thead th {\n",
       "        text-align: right;\n",
       "    }\n",
       "</style>\n",
       "<table border=\"1\" class=\"dataframe\">\n",
       "  <thead>\n",
       "    <tr style=\"text-align: right;\">\n",
       "      <th></th>\n",
       "      <th>children</th>\n",
       "      <th>days_employed</th>\n",
       "      <th>dob_years</th>\n",
       "      <th>education</th>\n",
       "      <th>education_id</th>\n",
       "      <th>family_status</th>\n",
       "      <th>family_status_id</th>\n",
       "      <th>gender</th>\n",
       "      <th>income_type</th>\n",
       "      <th>debt</th>\n",
       "      <th>total_income</th>\n",
       "      <th>purpose</th>\n",
       "      <th>children_category</th>\n",
       "      <th>income_level</th>\n",
       "      <th>dob_years_cat</th>\n",
       "    </tr>\n",
       "  </thead>\n",
       "  <tbody>\n",
       "    <tr>\n",
       "      <td>0</td>\n",
       "      <td>1</td>\n",
       "      <td>8437</td>\n",
       "      <td>42</td>\n",
       "      <td>высшее</td>\n",
       "      <td>0</td>\n",
       "      <td>женат / замужем</td>\n",
       "      <td>0</td>\n",
       "      <td>F</td>\n",
       "      <td>сотрудник</td>\n",
       "      <td>0</td>\n",
       "      <td>253875</td>\n",
       "      <td>недвижимость</td>\n",
       "      <td>есть дети</td>\n",
       "      <td>низкий</td>\n",
       "      <td>взрослые</td>\n",
       "    </tr>\n",
       "    <tr>\n",
       "      <td>1</td>\n",
       "      <td>1</td>\n",
       "      <td>4024</td>\n",
       "      <td>36</td>\n",
       "      <td>среднее</td>\n",
       "      <td>1</td>\n",
       "      <td>женат / замужем</td>\n",
       "      <td>0</td>\n",
       "      <td>F</td>\n",
       "      <td>сотрудник</td>\n",
       "      <td>0</td>\n",
       "      <td>112080</td>\n",
       "      <td>автомобиль</td>\n",
       "      <td>есть дети</td>\n",
       "      <td>низкий</td>\n",
       "      <td>взрослые</td>\n",
       "    </tr>\n",
       "    <tr>\n",
       "      <td>2</td>\n",
       "      <td>0</td>\n",
       "      <td>5623</td>\n",
       "      <td>33</td>\n",
       "      <td>среднее</td>\n",
       "      <td>1</td>\n",
       "      <td>женат / замужем</td>\n",
       "      <td>0</td>\n",
       "      <td>M</td>\n",
       "      <td>сотрудник</td>\n",
       "      <td>0</td>\n",
       "      <td>145885</td>\n",
       "      <td>недвижимость</td>\n",
       "      <td>нет детей</td>\n",
       "      <td>низкий</td>\n",
       "      <td>взрослые</td>\n",
       "    </tr>\n",
       "    <tr>\n",
       "      <td>3</td>\n",
       "      <td>3</td>\n",
       "      <td>4124</td>\n",
       "      <td>32</td>\n",
       "      <td>среднее</td>\n",
       "      <td>1</td>\n",
       "      <td>женат / замужем</td>\n",
       "      <td>0</td>\n",
       "      <td>M</td>\n",
       "      <td>сотрудник</td>\n",
       "      <td>0</td>\n",
       "      <td>267628</td>\n",
       "      <td>образование</td>\n",
       "      <td>есть дети</td>\n",
       "      <td>низкий</td>\n",
       "      <td>взрослые</td>\n",
       "    </tr>\n",
       "    <tr>\n",
       "      <td>4</td>\n",
       "      <td>0</td>\n",
       "      <td>340266</td>\n",
       "      <td>53</td>\n",
       "      <td>среднее</td>\n",
       "      <td>1</td>\n",
       "      <td>гражданский брак</td>\n",
       "      <td>1</td>\n",
       "      <td>F</td>\n",
       "      <td>пенсионер</td>\n",
       "      <td>0</td>\n",
       "      <td>158616</td>\n",
       "      <td>свадьба</td>\n",
       "      <td>нет детей</td>\n",
       "      <td>низкий</td>\n",
       "      <td>взрослые</td>\n",
       "    </tr>\n",
       "  </tbody>\n",
       "</table>\n",
       "</div>"
      ],
      "text/plain": [
       "   children  days_employed  dob_years education  education_id  \\\n",
       "0         1           8437         42    высшее             0   \n",
       "1         1           4024         36   среднее             1   \n",
       "2         0           5623         33   среднее             1   \n",
       "3         3           4124         32   среднее             1   \n",
       "4         0         340266         53   среднее             1   \n",
       "\n",
       "      family_status  family_status_id gender income_type  debt  total_income  \\\n",
       "0   женат / замужем                 0      F   сотрудник     0        253875   \n",
       "1   женат / замужем                 0      F   сотрудник     0        112080   \n",
       "2   женат / замужем                 0      M   сотрудник     0        145885   \n",
       "3   женат / замужем                 0      M   сотрудник     0        267628   \n",
       "4  гражданский брак                 1      F   пенсионер     0        158616   \n",
       "\n",
       "        purpose children_category income_level dob_years_cat  \n",
       "0  недвижимость         есть дети       низкий      взрослые  \n",
       "1    автомобиль         есть дети       низкий      взрослые  \n",
       "2  недвижимость         нет детей       низкий      взрослые  \n",
       "3   образование         есть дети       низкий      взрослые  \n",
       "4       свадьба         нет детей       низкий      взрослые  "
      ]
     },
     "execution_count": 65,
     "metadata": {},
     "output_type": "execute_result"
    }
   ],
   "source": [
    "# проверка результата\n",
    "df.head()"
   ]
  },
  {
   "cell_type": "markdown",
   "metadata": {},
   "source": [
    "**Вывод**"
   ]
  },
  {
   "cell_type": "markdown",
   "metadata": {},
   "source": [
    "В таблице определены категории наличия детей, семейного положения, уровня дохода, целей получения кредита и возраста заемщиков. Можно приступать к проверке гипотез."
   ]
  },
  {
   "cell_type": "markdown",
   "metadata": {},
   "source": [
    "## Шаг 3. Ответьте на вопросы"
   ]
  },
  {
   "cell_type": "markdown",
   "metadata": {},
   "source": [
    "- Есть ли зависимость между наличием детей и возвратом кредита в срок?"
   ]
  },
  {
   "cell_type": "markdown",
   "metadata": {},
   "source": [
    "Выдвинем гипотезу, что при наличии детей у заемщиков повышается риск невозврата кредита в срок. Для проверки гипотезы рассчитаем процент невозврата кредита по категориям наличия детей у заемщиков."
   ]
  },
  {
   "cell_type": "markdown",
   "metadata": {},
   "source": [
    "Напишем функцию, которая будет принимать таблицу, категорию по которой нужно сгруппировать данные, столбец с данными о невозвратах кредита и столбец по которому посчитаем всего количество взятых кредитов. Получившие данные умножим на 100, чтобы вывести %. "
   ]
  },
  {
   "cell_type": "code",
   "execution_count": 66,
   "metadata": {},
   "outputs": [],
   "source": [
    "# функция\n",
    "def calc_percent(data, col_1, col_2):\n",
    "    result = (data.groupby(col_1)[col_2].sum()) / (data[col_1].value_counts()) * 100\n",
    "    return result "
   ]
  },
  {
   "cell_type": "code",
   "execution_count": 67,
   "metadata": {},
   "outputs": [],
   "source": [
    "# сохраним результат работы работы функции в переменной children_debt\n",
    "children_debt = calc_percent(df, 'children_category', 'debt')"
   ]
  },
  {
   "cell_type": "code",
   "execution_count": 68,
   "metadata": {},
   "outputs": [],
   "source": [
    "# создадим объект DataFrame с новым именем столбца\n",
    "children_debt = children_debt.reset_index(name='percentage_of_cases_of_debt')"
   ]
  },
  {
   "cell_type": "code",
   "execution_count": 69,
   "metadata": {},
   "outputs": [],
   "source": [
    "# для наглядности округлим данные с точностью до одного знака после запятой\n",
    "children_debt = children_debt.round(1)"
   ]
  },
  {
   "cell_type": "code",
   "execution_count": 70,
   "metadata": {},
   "outputs": [],
   "source": [
    "# переименуем столбцы\n",
    "children_debt = children_debt.rename(columns={'index':'children_category', \n",
    "                                              'percentage_of_cases_of_debt':'percentage_of_cases_of_debt'})"
   ]
  },
  {
   "cell_type": "markdown",
   "metadata": {},
   "source": [
    "Посмотрим на получившийся результат."
   ]
  },
  {
   "cell_type": "code",
   "execution_count": 71,
   "metadata": {},
   "outputs": [
    {
     "data": {
      "text/html": [
       "<div>\n",
       "<style scoped>\n",
       "    .dataframe tbody tr th:only-of-type {\n",
       "        vertical-align: middle;\n",
       "    }\n",
       "\n",
       "    .dataframe tbody tr th {\n",
       "        vertical-align: top;\n",
       "    }\n",
       "\n",
       "    .dataframe thead th {\n",
       "        text-align: right;\n",
       "    }\n",
       "</style>\n",
       "<table border=\"1\" class=\"dataframe\">\n",
       "  <thead>\n",
       "    <tr style=\"text-align: right;\">\n",
       "      <th></th>\n",
       "      <th>children_category</th>\n",
       "      <th>percentage_of_cases_of_debt</th>\n",
       "    </tr>\n",
       "  </thead>\n",
       "  <tbody>\n",
       "    <tr>\n",
       "      <td>0</td>\n",
       "      <td>есть дети</td>\n",
       "      <td>9.2</td>\n",
       "    </tr>\n",
       "    <tr>\n",
       "      <td>1</td>\n",
       "      <td>нет детей</td>\n",
       "      <td>7.5</td>\n",
       "    </tr>\n",
       "  </tbody>\n",
       "</table>\n",
       "</div>"
      ],
      "text/plain": [
       "  children_category  percentage_of_cases_of_debt\n",
       "0         есть дети                          9.2\n",
       "1         нет детей                          7.5"
      ]
     },
     "execution_count": 71,
     "metadata": {},
     "output_type": "execute_result"
    }
   ],
   "source": [
    "children_debt"
   ]
  },
  {
   "cell_type": "markdown",
   "metadata": {},
   "source": [
    "Для наглядности выведем сводную таблицу, в которой отразим количество должников и заемщиков по категориям и процент невозврата кредита. "
   ]
  },
  {
   "cell_type": "code",
   "execution_count": 72,
   "metadata": {},
   "outputs": [],
   "source": [
    "# создание сводной таблицы методом pivot_table()\n",
    "pivot_table_child = df.pivot_table(index = 'children_category', columns = 'debt', values = 'children',\n",
    "                                   aggfunc = 'count', fill_value=0, margins=True)"
   ]
  },
  {
   "cell_type": "code",
   "execution_count": 73,
   "metadata": {},
   "outputs": [],
   "source": [
    "# переименование колонок\n",
    "pivot_table_child = pivot_table_child.rename(columns={'debt': 'debt', 0: 'no_debt', 1: 'debt', 'All': 'total_borrowers'})"
   ]
  },
  {
   "cell_type": "code",
   "execution_count": 74,
   "metadata": {},
   "outputs": [],
   "source": [
    "# соединение таблицы с процентами со сводной таблицей методом merge() \n",
    "pivot_table_child_percent = pivot_table_child.merge(children_debt, on='children_category', how='right')"
   ]
  },
  {
   "cell_type": "code",
   "execution_count": 75,
   "metadata": {},
   "outputs": [
    {
     "data": {
      "text/html": [
       "<div>\n",
       "<style scoped>\n",
       "    .dataframe tbody tr th:only-of-type {\n",
       "        vertical-align: middle;\n",
       "    }\n",
       "\n",
       "    .dataframe tbody tr th {\n",
       "        vertical-align: top;\n",
       "    }\n",
       "\n",
       "    .dataframe thead th {\n",
       "        text-align: right;\n",
       "    }\n",
       "</style>\n",
       "<table border=\"1\" class=\"dataframe\">\n",
       "  <thead>\n",
       "    <tr style=\"text-align: right;\">\n",
       "      <th></th>\n",
       "      <th>children_category</th>\n",
       "      <th>no_debt</th>\n",
       "      <th>debt</th>\n",
       "      <th>total_borrowers</th>\n",
       "      <th>percentage_of_cases_of_debt</th>\n",
       "    </tr>\n",
       "  </thead>\n",
       "  <tbody>\n",
       "    <tr>\n",
       "      <td>0</td>\n",
       "      <td>есть дети</td>\n",
       "      <td>6685</td>\n",
       "      <td>678</td>\n",
       "      <td>7363</td>\n",
       "      <td>9.2</td>\n",
       "    </tr>\n",
       "    <tr>\n",
       "      <td>1</td>\n",
       "      <td>нет детей</td>\n",
       "      <td>13027</td>\n",
       "      <td>1063</td>\n",
       "      <td>14090</td>\n",
       "      <td>7.5</td>\n",
       "    </tr>\n",
       "  </tbody>\n",
       "</table>\n",
       "</div>"
      ],
      "text/plain": [
       "  children_category  no_debt  debt  total_borrowers  \\\n",
       "0         есть дети     6685   678             7363   \n",
       "1         нет детей    13027  1063            14090   \n",
       "\n",
       "   percentage_of_cases_of_debt  \n",
       "0                          9.2  \n",
       "1                          7.5  "
      ]
     },
     "execution_count": 75,
     "metadata": {},
     "output_type": "execute_result"
    }
   ],
   "source": [
    "# вывод результатов\n",
    "pivot_table_child_percent"
   ]
  },
  {
   "cell_type": "markdown",
   "metadata": {},
   "source": [
    "**Вывод**"
   ]
  },
  {
   "cell_type": "markdown",
   "metadata": {},
   "source": [
    "Гипотеза подтвердилась. У заемщиков с детьми процент невозврата кредита в срок составляет 9%, в то время как заемщики не имеющие детей не возвращают кредит только в 7% случаев. Это связано с тем, что заемщикам с детьми нужно содержать не только себя, но и ребенка, а это дополнительная статья расхода."
   ]
  },
  {
   "cell_type": "markdown",
   "metadata": {},
   "source": [
    "Мы также можем наблюдать, что заемщиков у которых нет детей почти в 2 раза больше заемщиков с детьми."
   ]
  },
  {
   "cell_type": "markdown",
   "metadata": {},
   "source": [
    "- Есть ли зависимость между семейным положением и возвратом кредита в срок?"
   ]
  },
  {
   "cell_type": "markdown",
   "metadata": {},
   "source": [
    "Выдвинем гипотезу, что женатые люди чаще возвращают кредиты, чем неженатые. Для проверки гипотезы рассчитаем процент невозврата кредита по семейному положению заемщиков."
   ]
  },
  {
   "cell_type": "code",
   "execution_count": 76,
   "metadata": {},
   "outputs": [],
   "source": [
    "# сохраним результат работы работы функции в переменной family_debt\n",
    "family_debt = calc_percent(df, 'family_status', 'debt')"
   ]
  },
  {
   "cell_type": "code",
   "execution_count": 77,
   "metadata": {},
   "outputs": [],
   "source": [
    "# создадим объект DataFrame с новым именем столбца\n",
    "family_debt = family_debt.reset_index(name='percentage_of_cases_of_debt')"
   ]
  },
  {
   "cell_type": "code",
   "execution_count": 78,
   "metadata": {},
   "outputs": [],
   "source": [
    "# для наглядности округлим данные с точностью до одного знака после запятой\n",
    "family_debt = family_debt.round(1)"
   ]
  },
  {
   "cell_type": "code",
   "execution_count": 79,
   "metadata": {},
   "outputs": [],
   "source": [
    "# переименуем столбцы\n",
    "family_debt = family_debt.rename(columns={'index':'family_status', \n",
    "                                              'percentage_of_cases_of_debt':'percentage_of_cases_of_debt'})"
   ]
  },
  {
   "cell_type": "markdown",
   "metadata": {},
   "source": [
    "Посмотрим на получившийся результат. Отсортируем в порядке убывания процентов."
   ]
  },
  {
   "cell_type": "code",
   "execution_count": 80,
   "metadata": {},
   "outputs": [
    {
     "data": {
      "text/html": [
       "<div>\n",
       "<style scoped>\n",
       "    .dataframe tbody tr th:only-of-type {\n",
       "        vertical-align: middle;\n",
       "    }\n",
       "\n",
       "    .dataframe tbody tr th {\n",
       "        vertical-align: top;\n",
       "    }\n",
       "\n",
       "    .dataframe thead th {\n",
       "        text-align: right;\n",
       "    }\n",
       "</style>\n",
       "<table border=\"1\" class=\"dataframe\">\n",
       "  <thead>\n",
       "    <tr style=\"text-align: right;\">\n",
       "      <th></th>\n",
       "      <th>family_status</th>\n",
       "      <th>percentage_of_cases_of_debt</th>\n",
       "    </tr>\n",
       "  </thead>\n",
       "  <tbody>\n",
       "    <tr>\n",
       "      <td>4</td>\n",
       "      <td>не женат / не замужем</td>\n",
       "      <td>9.8</td>\n",
       "    </tr>\n",
       "    <tr>\n",
       "      <td>2</td>\n",
       "      <td>гражданский брак</td>\n",
       "      <td>9.3</td>\n",
       "    </tr>\n",
       "    <tr>\n",
       "      <td>3</td>\n",
       "      <td>женат / замужем</td>\n",
       "      <td>7.5</td>\n",
       "    </tr>\n",
       "    <tr>\n",
       "      <td>0</td>\n",
       "      <td>в разводе</td>\n",
       "      <td>7.1</td>\n",
       "    </tr>\n",
       "    <tr>\n",
       "      <td>1</td>\n",
       "      <td>вдовец / вдова</td>\n",
       "      <td>6.6</td>\n",
       "    </tr>\n",
       "  </tbody>\n",
       "</table>\n",
       "</div>"
      ],
      "text/plain": [
       "           family_status  percentage_of_cases_of_debt\n",
       "4  не женат / не замужем                          9.8\n",
       "2       гражданский брак                          9.3\n",
       "3        женат / замужем                          7.5\n",
       "0              в разводе                          7.1\n",
       "1         вдовец / вдова                          6.6"
      ]
     },
     "execution_count": 80,
     "metadata": {},
     "output_type": "execute_result"
    }
   ],
   "source": [
    "family_debt.sort_values(by='percentage_of_cases_of_debt', ascending=False)"
   ]
  },
  {
   "cell_type": "markdown",
   "metadata": {},
   "source": [
    "Заемщики в категории 'не женат / не замужем' 'гражданский брак' это чаще всего молодые люди до 30 лет, а в категории 'вдовец / вдова' пенсионеры. Посмотрим есть ли зависимость возврата кредита от возраста заемщиков. Для этого рассчитаем процент невозврата кредита по возрасту заемщиков."
   ]
  },
  {
   "cell_type": "code",
   "execution_count": 81,
   "metadata": {},
   "outputs": [],
   "source": [
    "# сохраним результат работы работы функции в переменной years_debt\n",
    "years_debt = calc_percent(df, 'dob_years_cat', 'debt')"
   ]
  },
  {
   "cell_type": "code",
   "execution_count": 82,
   "metadata": {},
   "outputs": [],
   "source": [
    "# создадим объект DataFrame с новым именем столбца\n",
    "years_debt = years_debt.reset_index(name='percentage_of_cases_of_debt')"
   ]
  },
  {
   "cell_type": "code",
   "execution_count": 83,
   "metadata": {},
   "outputs": [],
   "source": [
    "# для наглядности округлим данные с точностью до одного знака после запятой\n",
    "years_debt = years_debt.round(1)"
   ]
  },
  {
   "cell_type": "code",
   "execution_count": 84,
   "metadata": {},
   "outputs": [],
   "source": [
    "# переименуем столбцы\n",
    "years_debt = years_debt.rename(columns={'index':'dob_years_cat', \n",
    "                                              'percentage_of_cases_of_debt':'percentage_of_cases_of_debt'})"
   ]
  },
  {
   "cell_type": "markdown",
   "metadata": {},
   "source": [
    "Посмотрим на получившийся результат. Отсортируем в порядке убывания процентов."
   ]
  },
  {
   "cell_type": "code",
   "execution_count": 85,
   "metadata": {},
   "outputs": [
    {
     "data": {
      "text/html": [
       "<div>\n",
       "<style scoped>\n",
       "    .dataframe tbody tr th:only-of-type {\n",
       "        vertical-align: middle;\n",
       "    }\n",
       "\n",
       "    .dataframe tbody tr th {\n",
       "        vertical-align: top;\n",
       "    }\n",
       "\n",
       "    .dataframe thead th {\n",
       "        text-align: right;\n",
       "    }\n",
       "</style>\n",
       "<table border=\"1\" class=\"dataframe\">\n",
       "  <thead>\n",
       "    <tr style=\"text-align: right;\">\n",
       "      <th></th>\n",
       "      <th>dob_years_cat</th>\n",
       "      <th>percentage_of_cases_of_debt</th>\n",
       "    </tr>\n",
       "  </thead>\n",
       "  <tbody>\n",
       "    <tr>\n",
       "      <td>1</td>\n",
       "      <td>молодые</td>\n",
       "      <td>11.0</td>\n",
       "    </tr>\n",
       "    <tr>\n",
       "      <td>0</td>\n",
       "      <td>взрослые</td>\n",
       "      <td>7.8</td>\n",
       "    </tr>\n",
       "    <tr>\n",
       "      <td>2</td>\n",
       "      <td>пенсионеры</td>\n",
       "      <td>5.3</td>\n",
       "    </tr>\n",
       "  </tbody>\n",
       "</table>\n",
       "</div>"
      ],
      "text/plain": [
       "  dob_years_cat  percentage_of_cases_of_debt\n",
       "1       молодые                         11.0\n",
       "0      взрослые                          7.8\n",
       "2    пенсионеры                          5.3"
      ]
     },
     "execution_count": 85,
     "metadata": {},
     "output_type": "execute_result"
    }
   ],
   "source": [
    "years_debt.sort_values(by='percentage_of_cases_of_debt', ascending=False)"
   ]
  },
  {
   "cell_type": "markdown",
   "metadata": {},
   "source": [
    "Действительно зависимость возврата кредита от возраста заемщиков существует. Молодые люди менее ответсвенны и в 11% случаев не возвращают кредиты, в то время как пенсионеры и взрослые люди подходят к этому вопросу более ответственно. "
   ]
  },
  {
   "cell_type": "markdown",
   "metadata": {},
   "source": [
    "Для наглядности выведем сводную таблицу, в которой отразим количество должников и заемщиков по категориям и процент невозврата кредита. "
   ]
  },
  {
   "cell_type": "code",
   "execution_count": 86,
   "metadata": {},
   "outputs": [],
   "source": [
    "# создание сводной таблицы методом pivot_table()\n",
    "pivot_table_family = df.pivot_table(index = 'family_status', columns = 'debt', values = 'children',\n",
    "                                   aggfunc = 'count', fill_value=0, margins=True)"
   ]
  },
  {
   "cell_type": "code",
   "execution_count": 87,
   "metadata": {},
   "outputs": [],
   "source": [
    "# переименование колонок\n",
    "pivot_table_family = pivot_table_family.rename(columns={'debt': 'debt', 0: 'no_debt', 1: 'debt', 'All': 'total_borrowers'})"
   ]
  },
  {
   "cell_type": "code",
   "execution_count": 88,
   "metadata": {},
   "outputs": [],
   "source": [
    "# соединение таблицы с процентами со сводной таблицей методом merge() \n",
    "pivot_table_family_percent = pivot_table_family.merge(family_debt, on='family_status', how='right')"
   ]
  },
  {
   "cell_type": "code",
   "execution_count": 89,
   "metadata": {},
   "outputs": [
    {
     "data": {
      "text/html": [
       "<div>\n",
       "<style scoped>\n",
       "    .dataframe tbody tr th:only-of-type {\n",
       "        vertical-align: middle;\n",
       "    }\n",
       "\n",
       "    .dataframe tbody tr th {\n",
       "        vertical-align: top;\n",
       "    }\n",
       "\n",
       "    .dataframe thead th {\n",
       "        text-align: right;\n",
       "    }\n",
       "</style>\n",
       "<table border=\"1\" class=\"dataframe\">\n",
       "  <thead>\n",
       "    <tr style=\"text-align: right;\">\n",
       "      <th></th>\n",
       "      <th>family_status</th>\n",
       "      <th>no_debt</th>\n",
       "      <th>debt</th>\n",
       "      <th>total_borrowers</th>\n",
       "      <th>percentage_of_cases_of_debt</th>\n",
       "    </tr>\n",
       "  </thead>\n",
       "  <tbody>\n",
       "    <tr>\n",
       "      <td>4</td>\n",
       "      <td>не женат / не замужем</td>\n",
       "      <td>2536</td>\n",
       "      <td>274</td>\n",
       "      <td>2810</td>\n",
       "      <td>9.8</td>\n",
       "    </tr>\n",
       "    <tr>\n",
       "      <td>2</td>\n",
       "      <td>гражданский брак</td>\n",
       "      <td>3762</td>\n",
       "      <td>388</td>\n",
       "      <td>4150</td>\n",
       "      <td>9.3</td>\n",
       "    </tr>\n",
       "    <tr>\n",
       "      <td>3</td>\n",
       "      <td>женат / замужем</td>\n",
       "      <td>11408</td>\n",
       "      <td>931</td>\n",
       "      <td>12339</td>\n",
       "      <td>7.5</td>\n",
       "    </tr>\n",
       "    <tr>\n",
       "      <td>0</td>\n",
       "      <td>в разводе</td>\n",
       "      <td>1110</td>\n",
       "      <td>85</td>\n",
       "      <td>1195</td>\n",
       "      <td>7.1</td>\n",
       "    </tr>\n",
       "    <tr>\n",
       "      <td>1</td>\n",
       "      <td>вдовец / вдова</td>\n",
       "      <td>896</td>\n",
       "      <td>63</td>\n",
       "      <td>959</td>\n",
       "      <td>6.6</td>\n",
       "    </tr>\n",
       "  </tbody>\n",
       "</table>\n",
       "</div>"
      ],
      "text/plain": [
       "           family_status  no_debt  debt  total_borrowers  \\\n",
       "4  не женат / не замужем     2536   274             2810   \n",
       "2       гражданский брак     3762   388             4150   \n",
       "3        женат / замужем    11408   931            12339   \n",
       "0              в разводе     1110    85             1195   \n",
       "1         вдовец / вдова      896    63              959   \n",
       "\n",
       "   percentage_of_cases_of_debt  \n",
       "4                          9.8  \n",
       "2                          9.3  \n",
       "3                          7.5  \n",
       "0                          7.1  \n",
       "1                          6.6  "
      ]
     },
     "execution_count": 89,
     "metadata": {},
     "output_type": "execute_result"
    }
   ],
   "source": [
    "# вывод результатов\n",
    "pivot_table_family_percent.sort_values(by='percentage_of_cases_of_debt', ascending=False)"
   ]
  },
  {
   "cell_type": "markdown",
   "metadata": {},
   "source": [
    "**Вывод**"
   ]
  },
  {
   "cell_type": "markdown",
   "metadata": {},
   "source": [
    "Как и ожидалось у неженатых заемщиков процент невозврата кредита в срок составляет 9%, такую же картину мы можем наблюдать у заемщиков состоящих гражданском браке. Это связано с тем, что неженатые люди и состоящие в гражданском браке обычно рассчитывают только на свои силы, в то время как люди состоящие в браке чаще всего имеют семейный бюджет и в случае финансовых трудностей у одно из супругов могут покрыть расходы на погашение кредита и семейного бюджета. "
   ]
  },
  {
   "cell_type": "markdown",
   "metadata": {},
   "source": [
    "Самый низкий процент не возврата кредита у вдовцов / вдов - 6% случаев. Возможно данная категория заемщиков в качестве дополнительного обеспечения кредита имеет совместно нажитое имущество, доставшееся им после смерти одного из супругов. Также мы можем наблюдать, что на эту категорию приходится меньше всего заемщиков."
   ]
  },
  {
   "cell_type": "markdown",
   "metadata": {},
   "source": [
    "Дополнительно мы выяснили, что молодые люди чаще невозвращают кредиты, чем пенсионеры и взрослые люди."
   ]
  },
  {
   "cell_type": "markdown",
   "metadata": {},
   "source": [
    "Наибольшее количество заемщиков - это люди, состящие в браке. Они в 3 - 6 раз чаще берут кредиты, чем остальные категории заемщиков. "
   ]
  },
  {
   "cell_type": "markdown",
   "metadata": {},
   "source": [
    "- Есть ли зависимость между уровнем дохода и возвратом кредита в срок?"
   ]
  },
  {
   "cell_type": "markdown",
   "metadata": {},
   "source": [
    "Выдвинем гипотезу, что люди с низким уровнем дохода чаще не возвращают кредиты не возвращают кредиты в срок. Для проверки гипотезы рассчитаем процент невозврата кредита по уровню дохода заемщиков."
   ]
  },
  {
   "cell_type": "code",
   "execution_count": 90,
   "metadata": {},
   "outputs": [],
   "source": [
    "# сохраним результат работы работы функции в переменной income_debt\n",
    "income_debt = calc_percent(df, 'income_level', 'debt')"
   ]
  },
  {
   "cell_type": "code",
   "execution_count": 91,
   "metadata": {},
   "outputs": [],
   "source": [
    "# создадим объект DataFrame с новым именем столбца\n",
    "income_debt = income_debt.reset_index(name='percentage_of_cases_of_debt')"
   ]
  },
  {
   "cell_type": "code",
   "execution_count": 92,
   "metadata": {},
   "outputs": [],
   "source": [
    "# переименуем столбцы\n",
    "income_debt = income_debt.rename(columns={'index':'income_level', \n",
    "                                              'percentage_of_cases_of_debt':'percentage_of_cases_of_debt'})"
   ]
  },
  {
   "cell_type": "code",
   "execution_count": 93,
   "metadata": {},
   "outputs": [],
   "source": [
    "# для наглядности округлим данные с точностью до одного знака после запятой\n",
    "income_debt = income_debt.round(1)"
   ]
  },
  {
   "cell_type": "markdown",
   "metadata": {},
   "source": [
    "Посмотрим на получившийся результат. Отсортируем в порядке убывания процентов."
   ]
  },
  {
   "cell_type": "code",
   "execution_count": 94,
   "metadata": {},
   "outputs": [
    {
     "data": {
      "text/html": [
       "<div>\n",
       "<style scoped>\n",
       "    .dataframe tbody tr th:only-of-type {\n",
       "        vertical-align: middle;\n",
       "    }\n",
       "\n",
       "    .dataframe tbody tr th {\n",
       "        vertical-align: top;\n",
       "    }\n",
       "\n",
       "    .dataframe thead th {\n",
       "        text-align: right;\n",
       "    }\n",
       "</style>\n",
       "<table border=\"1\" class=\"dataframe\">\n",
       "  <thead>\n",
       "    <tr style=\"text-align: right;\">\n",
       "      <th></th>\n",
       "      <th>income_level</th>\n",
       "      <th>percentage_of_cases_of_debt</th>\n",
       "    </tr>\n",
       "  </thead>\n",
       "  <tbody>\n",
       "    <tr>\n",
       "      <td>0</td>\n",
       "      <td>высокий</td>\n",
       "      <td>20.0</td>\n",
       "    </tr>\n",
       "    <tr>\n",
       "      <td>3</td>\n",
       "      <td>низкий</td>\n",
       "      <td>8.1</td>\n",
       "    </tr>\n",
       "    <tr>\n",
       "      <td>2</td>\n",
       "      <td>ниже среднего</td>\n",
       "      <td>5.6</td>\n",
       "    </tr>\n",
       "    <tr>\n",
       "      <td>1</td>\n",
       "      <td>выше среднего</td>\n",
       "      <td>0.0</td>\n",
       "    </tr>\n",
       "  </tbody>\n",
       "</table>\n",
       "</div>"
      ],
      "text/plain": [
       "    income_level  percentage_of_cases_of_debt\n",
       "0        высокий                         20.0\n",
       "3         низкий                          8.1\n",
       "2  ниже среднего                          5.6\n",
       "1  выше среднего                          0.0"
      ]
     },
     "execution_count": 94,
     "metadata": {},
     "output_type": "execute_result"
    }
   ],
   "source": [
    "income_debt.sort_values(by='percentage_of_cases_of_debt', ascending=False)"
   ]
  },
  {
   "cell_type": "markdown",
   "metadata": {},
   "source": [
    "Для наглядности выведем сводную таблицу, в которой отразим количество должников и заемщиков по категориям и процент невозврата кредита. "
   ]
  },
  {
   "cell_type": "code",
   "execution_count": 95,
   "metadata": {},
   "outputs": [],
   "source": [
    "# создание сводной таблицы методом pivot_table()\n",
    "pivot_table_income = df.pivot_table(index = 'income_level', columns = 'debt', values = 'children',\n",
    "                                   aggfunc = 'count', fill_value=0, margins=True)"
   ]
  },
  {
   "cell_type": "code",
   "execution_count": 96,
   "metadata": {},
   "outputs": [],
   "source": [
    "# переименование колонок\n",
    "pivot_table_income = pivot_table_income.rename(columns={'debt': 'debt', 0: 'no_debt', 1: 'debt', 'All': 'total_borrowers'})"
   ]
  },
  {
   "cell_type": "code",
   "execution_count": 97,
   "metadata": {},
   "outputs": [],
   "source": [
    "# соединение таблицы с процентами со сводной таблицей методом merge() \n",
    "pivot_table_income_percent = pivot_table_income.merge(income_debt, on='income_level', how='right')"
   ]
  },
  {
   "cell_type": "code",
   "execution_count": 98,
   "metadata": {},
   "outputs": [
    {
     "data": {
      "text/html": [
       "<div>\n",
       "<style scoped>\n",
       "    .dataframe tbody tr th:only-of-type {\n",
       "        vertical-align: middle;\n",
       "    }\n",
       "\n",
       "    .dataframe tbody tr th {\n",
       "        vertical-align: top;\n",
       "    }\n",
       "\n",
       "    .dataframe thead th {\n",
       "        text-align: right;\n",
       "    }\n",
       "</style>\n",
       "<table border=\"1\" class=\"dataframe\">\n",
       "  <thead>\n",
       "    <tr style=\"text-align: right;\">\n",
       "      <th></th>\n",
       "      <th>income_level</th>\n",
       "      <th>no_debt</th>\n",
       "      <th>debt</th>\n",
       "      <th>total_borrowers</th>\n",
       "      <th>percentage_of_cases_of_debt</th>\n",
       "    </tr>\n",
       "  </thead>\n",
       "  <tbody>\n",
       "    <tr>\n",
       "      <td>0</td>\n",
       "      <td>высокий</td>\n",
       "      <td>4</td>\n",
       "      <td>1</td>\n",
       "      <td>5</td>\n",
       "      <td>20.0</td>\n",
       "    </tr>\n",
       "    <tr>\n",
       "      <td>3</td>\n",
       "      <td>низкий</td>\n",
       "      <td>19580</td>\n",
       "      <td>1733</td>\n",
       "      <td>21313</td>\n",
       "      <td>8.1</td>\n",
       "    </tr>\n",
       "    <tr>\n",
       "      <td>2</td>\n",
       "      <td>ниже среднего</td>\n",
       "      <td>118</td>\n",
       "      <td>7</td>\n",
       "      <td>125</td>\n",
       "      <td>5.6</td>\n",
       "    </tr>\n",
       "    <tr>\n",
       "      <td>1</td>\n",
       "      <td>выше среднего</td>\n",
       "      <td>10</td>\n",
       "      <td>0</td>\n",
       "      <td>10</td>\n",
       "      <td>0.0</td>\n",
       "    </tr>\n",
       "  </tbody>\n",
       "</table>\n",
       "</div>"
      ],
      "text/plain": [
       "    income_level  no_debt  debt  total_borrowers  percentage_of_cases_of_debt\n",
       "0        высокий        4     1                5                         20.0\n",
       "3         низкий    19580  1733            21313                          8.1\n",
       "2  ниже среднего      118     7              125                          5.6\n",
       "1  выше среднего       10     0               10                          0.0"
      ]
     },
     "execution_count": 98,
     "metadata": {},
     "output_type": "execute_result"
    }
   ],
   "source": [
    "# вывод результатов\n",
    "pivot_table_income_percent.sort_values(by='percentage_of_cases_of_debt', ascending=False)"
   ]
  },
  {
   "cell_type": "markdown",
   "metadata": {},
   "source": [
    "**Вывод**"
   ]
  },
  {
   "cell_type": "markdown",
   "metadata": {},
   "source": [
    "Гипотеза не подтвердилась. Оказалось, больше всего невозвратов кредитов у людей с высоким уровнем дохода - 20%. Это может быть связано с тем, что люди с высоким уровнем дохода берут очень значительные суммы кредита, например на приобретение дорогостоящей недвижимости, в том числе в коммерческих целях. У больших сумм кредита большой риск невозврата, особенно если бизнес \"прогорает\". \n"
   ]
  },
  {
   "cell_type": "markdown",
   "metadata": {},
   "source": [
    "К группе наименьшего риска находятся люди с уровнем дохода \"ниже среднего\" и \"выше среднего\", что составляет 5% и 0% невозврата кредита соответственно."
   ]
  },
  {
   "cell_type": "markdown",
   "metadata": {},
   "source": [
    "Однако наибольшее число заемщиков - это люди с низким уровнем дохода, что в полне ожидаемо, так как у таких людей меньше возможностей приобретения различного рода ценностей без использования кредитных средств."
   ]
  },
  {
   "cell_type": "code",
   "execution_count": 110,
   "metadata": {},
   "outputs": [
    {
     "data": {
      "text/html": [
       "<style  type=\"text/css\" >\n",
       "</style><table id=\"T_89f39cae_24d9_11ec_9b3e_02420a39277c\" ><caption>text</caption><thead>    <tr>        <th class=\"blank level0\" ></th>        <th class=\"col_heading level0 col0\" >income_level</th>        <th class=\"col_heading level0 col1\" >no_debt</th>        <th class=\"col_heading level0 col2\" >debt</th>        <th class=\"col_heading level0 col3\" >total_borrowers</th>        <th class=\"col_heading level0 col4\" >percentage_of_cases_of_debt</th>    </tr></thead><tbody>\n",
       "                <tr>\n",
       "                        <th id=\"T_89f39cae_24d9_11ec_9b3e_02420a39277clevel0_row0\" class=\"row_heading level0 row0\" >0</th>\n",
       "                        <td id=\"T_89f39cae_24d9_11ec_9b3e_02420a39277crow0_col0\" class=\"data row0 col0\" >высокий</td>\n",
       "                        <td id=\"T_89f39cae_24d9_11ec_9b3e_02420a39277crow0_col1\" class=\"data row0 col1\" >4</td>\n",
       "                        <td id=\"T_89f39cae_24d9_11ec_9b3e_02420a39277crow0_col2\" class=\"data row0 col2\" >1</td>\n",
       "                        <td id=\"T_89f39cae_24d9_11ec_9b3e_02420a39277crow0_col3\" class=\"data row0 col3\" >5</td>\n",
       "                        <td id=\"T_89f39cae_24d9_11ec_9b3e_02420a39277crow0_col4\" class=\"data row0 col4\" >20</td>\n",
       "            </tr>\n",
       "            <tr>\n",
       "                        <th id=\"T_89f39cae_24d9_11ec_9b3e_02420a39277clevel0_row1\" class=\"row_heading level0 row1\" >1</th>\n",
       "                        <td id=\"T_89f39cae_24d9_11ec_9b3e_02420a39277crow1_col0\" class=\"data row1 col0\" >выше среднего</td>\n",
       "                        <td id=\"T_89f39cae_24d9_11ec_9b3e_02420a39277crow1_col1\" class=\"data row1 col1\" >10</td>\n",
       "                        <td id=\"T_89f39cae_24d9_11ec_9b3e_02420a39277crow1_col2\" class=\"data row1 col2\" >0</td>\n",
       "                        <td id=\"T_89f39cae_24d9_11ec_9b3e_02420a39277crow1_col3\" class=\"data row1 col3\" >10</td>\n",
       "                        <td id=\"T_89f39cae_24d9_11ec_9b3e_02420a39277crow1_col4\" class=\"data row1 col4\" >0</td>\n",
       "            </tr>\n",
       "            <tr>\n",
       "                        <th id=\"T_89f39cae_24d9_11ec_9b3e_02420a39277clevel0_row2\" class=\"row_heading level0 row2\" >2</th>\n",
       "                        <td id=\"T_89f39cae_24d9_11ec_9b3e_02420a39277crow2_col0\" class=\"data row2 col0\" >ниже среднего</td>\n",
       "                        <td id=\"T_89f39cae_24d9_11ec_9b3e_02420a39277crow2_col1\" class=\"data row2 col1\" >118</td>\n",
       "                        <td id=\"T_89f39cae_24d9_11ec_9b3e_02420a39277crow2_col2\" class=\"data row2 col2\" >7</td>\n",
       "                        <td id=\"T_89f39cae_24d9_11ec_9b3e_02420a39277crow2_col3\" class=\"data row2 col3\" >125</td>\n",
       "                        <td id=\"T_89f39cae_24d9_11ec_9b3e_02420a39277crow2_col4\" class=\"data row2 col4\" >5.6</td>\n",
       "            </tr>\n",
       "            <tr>\n",
       "                        <th id=\"T_89f39cae_24d9_11ec_9b3e_02420a39277clevel0_row3\" class=\"row_heading level0 row3\" >3</th>\n",
       "                        <td id=\"T_89f39cae_24d9_11ec_9b3e_02420a39277crow3_col0\" class=\"data row3 col0\" >низкий</td>\n",
       "                        <td id=\"T_89f39cae_24d9_11ec_9b3e_02420a39277crow3_col1\" class=\"data row3 col1\" >19580</td>\n",
       "                        <td id=\"T_89f39cae_24d9_11ec_9b3e_02420a39277crow3_col2\" class=\"data row3 col2\" >1733</td>\n",
       "                        <td id=\"T_89f39cae_24d9_11ec_9b3e_02420a39277crow3_col3\" class=\"data row3 col3\" >21313</td>\n",
       "                        <td id=\"T_89f39cae_24d9_11ec_9b3e_02420a39277crow3_col4\" class=\"data row3 col4\" >8.1</td>\n",
       "            </tr>\n",
       "    </tbody></table>"
      ],
      "text/plain": [
       "<pandas.io.formats.style.Styler at 0x7f82a1111b50>"
      ]
     },
     "execution_count": 110,
     "metadata": {},
     "output_type": "execute_result"
    }
   ],
   "source": [
    "pivot_table_income_percent.style.set_caption('text')"
   ]
  },
  {
   "cell_type": "markdown",
   "metadata": {},
   "source": [
    "- Как разные цели кредита влияют на его возврат в срок?"
   ]
  },
  {
   "cell_type": "markdown",
   "metadata": {},
   "source": [
    "Выдвинем гипотезу, что заемщики, которые берут кредит на покупку недвижимости, чаще других не возвращают кредит в срок. Для проверки данного мнения рассчитаем процент невозврата кредита по целям кредита."
   ]
  },
  {
   "cell_type": "code",
   "execution_count": 99,
   "metadata": {},
   "outputs": [],
   "source": [
    "# сохраним результат работы работы функции в переменной purpose_debt\n",
    "purpose_debt = calc_percent(df, 'purpose', 'debt')"
   ]
  },
  {
   "cell_type": "code",
   "execution_count": 100,
   "metadata": {},
   "outputs": [],
   "source": [
    "# создадим объект DataFrame с новым именем столбца\n",
    "purpose_debt = purpose_debt.reset_index(name='percentage_of_cases_of_debt')"
   ]
  },
  {
   "cell_type": "code",
   "execution_count": 101,
   "metadata": {},
   "outputs": [],
   "source": [
    "# переименуем столбцы\n",
    "purpose_debt = purpose_debt.rename(columns={'index':'purpose', \n",
    "                                              'percentage_of_cases_of_debt':'percentage_of_cases_of_debt'})"
   ]
  },
  {
   "cell_type": "code",
   "execution_count": 102,
   "metadata": {},
   "outputs": [],
   "source": [
    "# для наглядности округлим данные с точностью до одного знака после запятой\n",
    "purpose_debt = purpose_debt.round(1)"
   ]
  },
  {
   "cell_type": "markdown",
   "metadata": {},
   "source": [
    "Посмотрим на получившийся результат. Отсортируем в порядке убывания процентов."
   ]
  },
  {
   "cell_type": "code",
   "execution_count": 103,
   "metadata": {},
   "outputs": [
    {
     "data": {
      "text/html": [
       "<div>\n",
       "<style scoped>\n",
       "    .dataframe tbody tr th:only-of-type {\n",
       "        vertical-align: middle;\n",
       "    }\n",
       "\n",
       "    .dataframe tbody tr th {\n",
       "        vertical-align: top;\n",
       "    }\n",
       "\n",
       "    .dataframe thead th {\n",
       "        text-align: right;\n",
       "    }\n",
       "</style>\n",
       "<table border=\"1\" class=\"dataframe\">\n",
       "  <thead>\n",
       "    <tr style=\"text-align: right;\">\n",
       "      <th></th>\n",
       "      <th>purpose</th>\n",
       "      <th>percentage_of_cases_of_debt</th>\n",
       "    </tr>\n",
       "  </thead>\n",
       "  <tbody>\n",
       "    <tr>\n",
       "      <td>0</td>\n",
       "      <td>автомобиль</td>\n",
       "      <td>9.4</td>\n",
       "    </tr>\n",
       "    <tr>\n",
       "      <td>2</td>\n",
       "      <td>образование</td>\n",
       "      <td>9.2</td>\n",
       "    </tr>\n",
       "    <tr>\n",
       "      <td>3</td>\n",
       "      <td>свадьба</td>\n",
       "      <td>8.0</td>\n",
       "    </tr>\n",
       "    <tr>\n",
       "      <td>1</td>\n",
       "      <td>недвижимость</td>\n",
       "      <td>7.2</td>\n",
       "    </tr>\n",
       "  </tbody>\n",
       "</table>\n",
       "</div>"
      ],
      "text/plain": [
       "        purpose  percentage_of_cases_of_debt\n",
       "0    автомобиль                          9.4\n",
       "2   образование                          9.2\n",
       "3       свадьба                          8.0\n",
       "1  недвижимость                          7.2"
      ]
     },
     "execution_count": 103,
     "metadata": {},
     "output_type": "execute_result"
    }
   ],
   "source": [
    "purpose_debt.sort_values(by='percentage_of_cases_of_debt', ascending=False)"
   ]
  },
  {
   "cell_type": "markdown",
   "metadata": {},
   "source": [
    "Для наглядности выведем сводную таблицу, в которой отразим количество должников и заемщиков по категориям и процент невозврата кредита. "
   ]
  },
  {
   "cell_type": "code",
   "execution_count": 104,
   "metadata": {},
   "outputs": [],
   "source": [
    "# создание сводной таблицы методом pivot_table()\n",
    "pivot_table_purpose = df.pivot_table(index = 'purpose', columns = 'debt', values = 'children',\n",
    "                                   aggfunc = 'count', fill_value=0, margins=True)"
   ]
  },
  {
   "cell_type": "code",
   "execution_count": 105,
   "metadata": {},
   "outputs": [],
   "source": [
    "# переименование колонок\n",
    "pivot_table_purpose = pivot_table_purpose.rename(columns={'debt': 'debt', 0: 'no_debt', 1: 'debt', 'All': 'total_borrowers'})"
   ]
  },
  {
   "cell_type": "code",
   "execution_count": 106,
   "metadata": {},
   "outputs": [],
   "source": [
    "# соединение таблицы с процентами со сводной таблицей методом merge() \n",
    "pivot_table_purpose_percent = pivot_table_purpose.merge(purpose_debt, on='purpose', how='right')"
   ]
  },
  {
   "cell_type": "code",
   "execution_count": 107,
   "metadata": {},
   "outputs": [
    {
     "data": {
      "text/html": [
       "<div>\n",
       "<style scoped>\n",
       "    .dataframe tbody tr th:only-of-type {\n",
       "        vertical-align: middle;\n",
       "    }\n",
       "\n",
       "    .dataframe tbody tr th {\n",
       "        vertical-align: top;\n",
       "    }\n",
       "\n",
       "    .dataframe thead th {\n",
       "        text-align: right;\n",
       "    }\n",
       "</style>\n",
       "<table border=\"1\" class=\"dataframe\">\n",
       "  <thead>\n",
       "    <tr style=\"text-align: right;\">\n",
       "      <th></th>\n",
       "      <th>purpose</th>\n",
       "      <th>no_debt</th>\n",
       "      <th>debt</th>\n",
       "      <th>total_borrowers</th>\n",
       "      <th>percentage_of_cases_of_debt</th>\n",
       "    </tr>\n",
       "  </thead>\n",
       "  <tbody>\n",
       "    <tr>\n",
       "      <td>0</td>\n",
       "      <td>автомобиль</td>\n",
       "      <td>3903</td>\n",
       "      <td>403</td>\n",
       "      <td>4306</td>\n",
       "      <td>9.4</td>\n",
       "    </tr>\n",
       "    <tr>\n",
       "      <td>2</td>\n",
       "      <td>образование</td>\n",
       "      <td>3643</td>\n",
       "      <td>370</td>\n",
       "      <td>4013</td>\n",
       "      <td>9.2</td>\n",
       "    </tr>\n",
       "    <tr>\n",
       "      <td>3</td>\n",
       "      <td>свадьба</td>\n",
       "      <td>2138</td>\n",
       "      <td>186</td>\n",
       "      <td>2324</td>\n",
       "      <td>8.0</td>\n",
       "    </tr>\n",
       "    <tr>\n",
       "      <td>1</td>\n",
       "      <td>недвижимость</td>\n",
       "      <td>10028</td>\n",
       "      <td>782</td>\n",
       "      <td>10810</td>\n",
       "      <td>7.2</td>\n",
       "    </tr>\n",
       "  </tbody>\n",
       "</table>\n",
       "</div>"
      ],
      "text/plain": [
       "        purpose  no_debt  debt  total_borrowers  percentage_of_cases_of_debt\n",
       "0    автомобиль     3903   403             4306                          9.4\n",
       "2   образование     3643   370             4013                          9.2\n",
       "3       свадьба     2138   186             2324                          8.0\n",
       "1  недвижимость    10028   782            10810                          7.2"
      ]
     },
     "execution_count": 107,
     "metadata": {},
     "output_type": "execute_result"
    }
   ],
   "source": [
    "# вывод результатов\n",
    "pivot_table_purpose_percent.sort_values(by='percentage_of_cases_of_debt', ascending=False)"
   ]
  },
  {
   "cell_type": "markdown",
   "metadata": {},
   "source": [
    "**Вывод**"
   ]
  },
  {
   "cell_type": "markdown",
   "metadata": {},
   "source": [
    "Наша гипотеза не подтвердилась. Оказывается, что чаще всего не возвращают кредит, взятый на автомобиль или образование. Одним из факторов влияющих на сложность возврата кредита в срок, является то, что автомобиль сам по себе является источником незапланированных расходов, таких как: аварии и поломки, требующие ремонта. А вот образование приносит доход только в перспективе и человек окончивший обучение, может некоторое время оставаться безработным пока находятся в поисках новой работы."
   ]
  },
  {
   "cell_type": "markdown",
   "metadata": {},
   "source": [
    "Заемщики получившие кредит на недвижимость наиболее ответственно подходят к процессу возврата кредита в срок, так как невыплата кредита может грозить конфискацией приобретенной недвижимости. Также одним из способов погашения кредита является доход от сдачи приобретенной недвижимости в аренду."
   ]
  },
  {
   "cell_type": "markdown",
   "metadata": {},
   "source": [
    "Мы можем наблюдать, что наиболее востребован кредит на приобретение недвижимости."
   ]
  },
  {
   "cell_type": "markdown",
   "metadata": {},
   "source": [
    "## Шаг 4. Общий вывод"
   ]
  },
  {
   "cell_type": "markdown",
   "metadata": {},
   "source": [
    "    Обобщая результаты исследования можно сделать следующие выводы: \n",
    "    1. заемщики не состоящие в браке, а также имеющие детей наиболее часто не могут вернуть кредит в срок\n",
    "    2. люди с высоким уровнем дохода находится в группе высокого риска невозврата кредита\n",
    "    3. кредиты, выданные на приобретение автомобиля и образование, чаще всего не возвращают в срок"
   ]
  },
  {
   "cell_type": "markdown",
   "metadata": {},
   "source": [
    "Дополнительно нам удалось узнать, что заемщики в возрасте до 30 лет чаще невозвращают кредиты, чем заемщики в более старшем возрасте."
   ]
  },
  {
   "cell_type": "markdown",
   "metadata": {},
   "source": [
    "Выделим заемщиков в категории с высоким риском и низким риском невозврата кредита в срок."
   ]
  },
  {
   "cell_type": "code",
   "execution_count": 108,
   "metadata": {},
   "outputs": [],
   "source": [
    "# создание обобщающей таблицы\n",
    "data = [\n",
    "    ['есть дети', 'не женат / не замужем', 'высокий', 'автомобиль'],\n",
    "    ['нет детей', 'вдовец / вдова', 'выше среднего', 'недвижимость'],    \n",
    "]\n",
    "\n",
    "columns = ['children_category', 'family_status', 'income_level', 'purpose']\n",
    "final_data = pd.DataFrame(data=data , columns=columns, index=['высокий риск', 'низкий риск'])"
   ]
  },
  {
   "cell_type": "code",
   "execution_count": 109,
   "metadata": {},
   "outputs": [
    {
     "data": {
      "text/html": [
       "<div>\n",
       "<style scoped>\n",
       "    .dataframe tbody tr th:only-of-type {\n",
       "        vertical-align: middle;\n",
       "    }\n",
       "\n",
       "    .dataframe tbody tr th {\n",
       "        vertical-align: top;\n",
       "    }\n",
       "\n",
       "    .dataframe thead th {\n",
       "        text-align: right;\n",
       "    }\n",
       "</style>\n",
       "<table border=\"1\" class=\"dataframe\">\n",
       "  <thead>\n",
       "    <tr style=\"text-align: right;\">\n",
       "      <th></th>\n",
       "      <th>children_category</th>\n",
       "      <th>family_status</th>\n",
       "      <th>income_level</th>\n",
       "      <th>purpose</th>\n",
       "    </tr>\n",
       "  </thead>\n",
       "  <tbody>\n",
       "    <tr>\n",
       "      <td>высокий риск</td>\n",
       "      <td>есть дети</td>\n",
       "      <td>не женат / не замужем</td>\n",
       "      <td>высокий</td>\n",
       "      <td>автомобиль</td>\n",
       "    </tr>\n",
       "    <tr>\n",
       "      <td>низкий риск</td>\n",
       "      <td>нет детей</td>\n",
       "      <td>вдовец / вдова</td>\n",
       "      <td>выше среднего</td>\n",
       "      <td>недвижимость</td>\n",
       "    </tr>\n",
       "  </tbody>\n",
       "</table>\n",
       "</div>"
      ],
      "text/plain": [
       "             children_category          family_status   income_level  \\\n",
       "высокий риск         есть дети  не женат / не замужем        высокий   \n",
       "низкий риск          нет детей         вдовец / вдова  выше среднего   \n",
       "\n",
       "                   purpose  \n",
       "высокий риск    автомобиль  \n",
       "низкий риск   недвижимость  "
      ]
     },
     "execution_count": 109,
     "metadata": {},
     "output_type": "execute_result"
    }
   ],
   "source": [
    "# вывод результатов\n",
    "final_data"
   ]
  }
 ],
 "metadata": {
  "ExecuteTimeLog": [
   {
    "duration": 752,
    "start_time": "2021-09-28T05:59:56.421Z"
   },
   {
    "duration": 87,
    "start_time": "2021-09-28T06:01:49.375Z"
   },
   {
    "duration": 23,
    "start_time": "2021-09-28T06:10:10.823Z"
   },
   {
    "duration": 13,
    "start_time": "2021-09-28T06:43:44.341Z"
   },
   {
    "duration": 9,
    "start_time": "2021-09-28T06:56:08.523Z"
   },
   {
    "duration": 8,
    "start_time": "2021-09-28T06:56:21.395Z"
   },
   {
    "duration": 370,
    "start_time": "2021-09-28T06:57:11.691Z"
   },
   {
    "duration": 13,
    "start_time": "2021-09-28T06:58:05.618Z"
   },
   {
    "duration": 14,
    "start_time": "2021-09-28T06:58:14.302Z"
   },
   {
    "duration": 14,
    "start_time": "2021-09-28T06:58:19.115Z"
   },
   {
    "duration": 14,
    "start_time": "2021-09-28T06:58:30.746Z"
   },
   {
    "duration": 11,
    "start_time": "2021-09-28T07:00:39.472Z"
   },
   {
    "duration": 10,
    "start_time": "2021-09-28T07:00:44.272Z"
   },
   {
    "duration": 16,
    "start_time": "2021-09-28T07:04:15.262Z"
   },
   {
    "duration": 22,
    "start_time": "2021-09-28T07:10:16.153Z"
   },
   {
    "duration": 24,
    "start_time": "2021-09-28T07:11:05.960Z"
   },
   {
    "duration": 16,
    "start_time": "2021-09-28T07:11:10.304Z"
   },
   {
    "duration": 24,
    "start_time": "2021-09-28T07:11:59.471Z"
   },
   {
    "duration": 24,
    "start_time": "2021-09-28T07:12:09.801Z"
   },
   {
    "duration": 9,
    "start_time": "2021-09-28T07:20:28.003Z"
   },
   {
    "duration": 6,
    "start_time": "2021-09-28T07:22:48.403Z"
   },
   {
    "duration": 5,
    "start_time": "2021-09-28T07:23:16.607Z"
   },
   {
    "duration": 5,
    "start_time": "2021-09-28T07:23:21.623Z"
   },
   {
    "duration": 5,
    "start_time": "2021-09-28T07:23:23.711Z"
   },
   {
    "duration": 23,
    "start_time": "2021-09-28T07:23:33.016Z"
   },
   {
    "duration": 22,
    "start_time": "2021-09-28T07:23:36.730Z"
   },
   {
    "duration": 5,
    "start_time": "2021-09-28T07:23:57.717Z"
   },
   {
    "duration": 5,
    "start_time": "2021-09-28T07:24:53.893Z"
   },
   {
    "duration": 5,
    "start_time": "2021-09-28T07:25:11.133Z"
   },
   {
    "duration": 14,
    "start_time": "2021-09-28T07:25:54.013Z"
   },
   {
    "duration": 13,
    "start_time": "2021-09-28T07:26:18.750Z"
   },
   {
    "duration": 14,
    "start_time": "2021-09-28T07:26:39.077Z"
   },
   {
    "duration": 15,
    "start_time": "2021-09-28T07:53:22.409Z"
   },
   {
    "duration": 296,
    "start_time": "2021-09-28T07:53:49.082Z"
   },
   {
    "duration": 44,
    "start_time": "2021-09-28T07:53:55.892Z"
   },
   {
    "duration": 140,
    "start_time": "2021-09-28T09:39:22.554Z"
   },
   {
    "duration": 8,
    "start_time": "2021-09-28T09:39:32.214Z"
   },
   {
    "duration": 6,
    "start_time": "2021-09-28T09:39:46.454Z"
   },
   {
    "duration": 6,
    "start_time": "2021-09-28T09:40:03.045Z"
   },
   {
    "duration": 6,
    "start_time": "2021-09-28T09:40:06.958Z"
   },
   {
    "duration": 7,
    "start_time": "2021-09-28T09:40:46.494Z"
   },
   {
    "duration": 6,
    "start_time": "2021-09-28T09:41:01.590Z"
   },
   {
    "duration": 7,
    "start_time": "2021-09-28T09:41:02.828Z"
   },
   {
    "duration": 6,
    "start_time": "2021-09-28T09:41:30.784Z"
   },
   {
    "duration": 5,
    "start_time": "2021-09-28T10:33:41.889Z"
   },
   {
    "duration": 14,
    "start_time": "2021-09-28T10:33:51.308Z"
   },
   {
    "duration": 14,
    "start_time": "2021-09-28T10:34:14.500Z"
   },
   {
    "duration": 796,
    "start_time": "2021-09-28T10:34:38.903Z"
   },
   {
    "duration": 15,
    "start_time": "2021-09-28T10:34:39.702Z"
   },
   {
    "duration": 42,
    "start_time": "2021-09-28T10:34:39.720Z"
   },
   {
    "duration": 3,
    "start_time": "2021-09-28T10:34:39.765Z"
   },
   {
    "duration": 26,
    "start_time": "2021-09-28T10:34:39.770Z"
   },
   {
    "duration": 10,
    "start_time": "2021-09-28T10:34:39.798Z"
   },
   {
    "duration": 12,
    "start_time": "2021-09-28T10:34:39.810Z"
   },
   {
    "duration": 41,
    "start_time": "2021-09-28T10:34:39.825Z"
   },
   {
    "duration": 15,
    "start_time": "2021-09-28T10:34:39.869Z"
   },
   {
    "duration": 5,
    "start_time": "2021-09-28T10:34:49.913Z"
   },
   {
    "duration": 14,
    "start_time": "2021-09-28T10:34:52.688Z"
   },
   {
    "duration": 4,
    "start_time": "2021-09-28T12:41:25.498Z"
   },
   {
    "duration": 7,
    "start_time": "2021-09-28T12:41:33.309Z"
   },
   {
    "duration": 42,
    "start_time": "2021-09-28T12:41:47.582Z"
   },
   {
    "duration": 30,
    "start_time": "2021-09-28T12:42:44.168Z"
   },
   {
    "duration": 25,
    "start_time": "2021-09-28T12:43:03.294Z"
   },
   {
    "duration": 440,
    "start_time": "2021-09-28T12:44:02.317Z"
   },
   {
    "duration": 276,
    "start_time": "2021-09-28T12:44:15.699Z"
   },
   {
    "duration": 649,
    "start_time": "2021-09-28T12:44:33.539Z"
   },
   {
    "duration": 10,
    "start_time": "2021-09-28T12:45:35.471Z"
   },
   {
    "duration": 7,
    "start_time": "2021-09-28T12:45:50.667Z"
   },
   {
    "duration": 9,
    "start_time": "2021-09-28T12:45:58.971Z"
   },
   {
    "duration": 11,
    "start_time": "2021-09-28T12:46:39.185Z"
   },
   {
    "duration": 871,
    "start_time": "2021-09-28T12:47:19.921Z"
   },
   {
    "duration": 16,
    "start_time": "2021-09-28T12:47:23.591Z"
   },
   {
    "duration": 12,
    "start_time": "2021-09-28T12:47:25.889Z"
   },
   {
    "duration": 5,
    "start_time": "2021-09-28T12:47:28.151Z"
   },
   {
    "duration": 13,
    "start_time": "2021-09-28T12:47:29.376Z"
   },
   {
    "duration": 10,
    "start_time": "2021-09-28T12:47:31.529Z"
   },
   {
    "duration": 11,
    "start_time": "2021-09-28T12:48:05.800Z"
   },
   {
    "duration": 390,
    "start_time": "2021-09-28T13:14:12.381Z"
   },
   {
    "duration": 228,
    "start_time": "2021-09-28T13:14:44.645Z"
   },
   {
    "duration": 260,
    "start_time": "2021-09-28T13:15:07.646Z"
   },
   {
    "duration": 3545407,
    "start_time": "2021-09-28T12:18:41.381Z"
   },
   {
    "duration": 6656,
    "start_time": "2021-09-28T13:18:11.442Z"
   },
   {
    "duration": 253,
    "start_time": "2021-09-28T13:18:31.619Z"
   },
   {
    "duration": 726,
    "start_time": "2021-09-28T13:20:51.177Z"
   },
   {
    "duration": 280,
    "start_time": "2021-09-28T13:21:10.985Z"
   },
   {
    "duration": 87,
    "start_time": "2021-09-28T13:21:45.264Z"
   },
   {
    "duration": 94,
    "start_time": "2021-09-28T13:22:48.481Z"
   },
   {
    "duration": 99,
    "start_time": "2021-09-28T13:24:16.982Z"
   },
   {
    "duration": 91,
    "start_time": "2021-09-28T13:24:47.326Z"
   },
   {
    "duration": 94,
    "start_time": "2021-09-28T13:25:02.693Z"
   },
   {
    "duration": 74,
    "start_time": "2021-09-28T13:25:19.901Z"
   },
   {
    "duration": 258,
    "start_time": "2021-09-28T13:25:52.445Z"
   },
   {
    "duration": 76,
    "start_time": "2021-09-28T13:26:36.516Z"
   },
   {
    "duration": 122,
    "start_time": "2021-09-28T13:27:03.189Z"
   },
   {
    "duration": 91,
    "start_time": "2021-09-28T13:27:32.307Z"
   },
   {
    "duration": 82,
    "start_time": "2021-09-28T13:27:41.100Z"
   },
   {
    "duration": 738,
    "start_time": "2021-09-28T13:28:53.523Z"
   },
   {
    "duration": 97,
    "start_time": "2021-09-28T13:29:08.019Z"
   },
   {
    "duration": 105,
    "start_time": "2021-09-28T13:31:01.466Z"
   },
   {
    "duration": 88,
    "start_time": "2021-09-28T13:41:18.538Z"
   },
   {
    "duration": 151,
    "start_time": "2021-09-28T13:41:33.599Z"
   },
   {
    "duration": 91,
    "start_time": "2021-09-28T13:41:51.598Z"
   },
   {
    "duration": 91,
    "start_time": "2021-09-28T13:42:11.686Z"
   },
   {
    "duration": 123,
    "start_time": "2021-09-28T13:42:27.342Z"
   },
   {
    "duration": 80,
    "start_time": "2021-09-28T13:43:29.333Z"
   },
   {
    "duration": 79,
    "start_time": "2021-09-28T13:43:48.845Z"
   },
   {
    "duration": 93,
    "start_time": "2021-09-28T13:45:32.116Z"
   },
   {
    "duration": 76,
    "start_time": "2021-09-28T13:46:09.141Z"
   },
   {
    "duration": 97,
    "start_time": "2021-09-28T13:46:20.411Z"
   },
   {
    "duration": 1889,
    "start_time": "2021-09-28T13:51:49.191Z"
   },
   {
    "duration": 13,
    "start_time": "2021-09-28T13:53:30.141Z"
   },
   {
    "duration": 11,
    "start_time": "2021-09-28T13:54:25.852Z"
   },
   {
    "duration": 10,
    "start_time": "2021-09-28T13:54:29.045Z"
   },
   {
    "duration": 327,
    "start_time": "2021-09-28T14:03:40.198Z"
   },
   {
    "duration": 244,
    "start_time": "2021-09-28T14:03:55.814Z"
   },
   {
    "duration": 14,
    "start_time": "2021-09-28T14:04:25.406Z"
   },
   {
    "duration": 322,
    "start_time": "2021-09-28T14:13:00.471Z"
   },
   {
    "duration": 92,
    "start_time": "2021-09-28T14:14:40.694Z"
   },
   {
    "duration": 293,
    "start_time": "2021-09-28T14:14:46.885Z"
   },
   {
    "duration": 98,
    "start_time": "2021-09-28T14:16:01.181Z"
   },
   {
    "duration": 118,
    "start_time": "2021-09-28T14:16:09.764Z"
   },
   {
    "duration": 269,
    "start_time": "2021-09-28T14:16:23.204Z"
   },
   {
    "duration": 301,
    "start_time": "2021-09-28T14:16:56.940Z"
   },
   {
    "duration": 286,
    "start_time": "2021-09-28T14:17:11.516Z"
   },
   {
    "duration": 289,
    "start_time": "2021-09-28T14:21:27.649Z"
   },
   {
    "duration": 72,
    "start_time": "2021-09-28T14:23:04.914Z"
   },
   {
    "duration": 2108,
    "start_time": "2021-09-28T14:23:10.063Z"
   },
   {
    "duration": 279,
    "start_time": "2021-09-28T14:24:18.822Z"
   },
   {
    "duration": 598,
    "start_time": "2021-09-28T14:27:30.791Z"
   },
   {
    "duration": 267,
    "start_time": "2021-09-28T14:28:14.519Z"
   },
   {
    "duration": 283,
    "start_time": "2021-09-28T14:29:13.966Z"
   },
   {
    "duration": 287,
    "start_time": "2021-09-28T14:32:49.873Z"
   },
   {
    "duration": 373,
    "start_time": "2021-09-28T14:34:34.488Z"
   },
   {
    "duration": 237,
    "start_time": "2021-09-28T14:37:28.285Z"
   },
   {
    "duration": 299,
    "start_time": "2021-09-28T14:41:18.827Z"
   },
   {
    "duration": 1728,
    "start_time": "2021-09-28T14:42:42.618Z"
   },
   {
    "duration": 9,
    "start_time": "2021-09-28T14:48:35.832Z"
   },
   {
    "duration": 10,
    "start_time": "2021-09-28T14:48:39.564Z"
   },
   {
    "duration": 12,
    "start_time": "2021-09-28T14:48:54.804Z"
   },
   {
    "duration": 1753,
    "start_time": "2021-09-28T14:50:18.180Z"
   },
   {
    "duration": 759,
    "start_time": "2021-09-28T14:50:31.810Z"
   },
   {
    "duration": 15,
    "start_time": "2021-09-28T14:50:32.572Z"
   },
   {
    "duration": 17,
    "start_time": "2021-09-28T14:50:32.590Z"
   },
   {
    "duration": 12,
    "start_time": "2021-09-28T14:50:32.609Z"
   },
   {
    "duration": 42,
    "start_time": "2021-09-28T14:50:32.623Z"
   },
   {
    "duration": 12,
    "start_time": "2021-09-28T14:50:32.667Z"
   },
   {
    "duration": 1860,
    "start_time": "2021-09-28T14:50:32.682Z"
   },
   {
    "duration": 1751,
    "start_time": "2021-09-28T14:51:22.651Z"
   },
   {
    "duration": 2634,
    "start_time": "2021-09-28T14:53:59.745Z"
   },
   {
    "duration": 531,
    "start_time": "2021-09-28T15:55:17.465Z"
   },
   {
    "duration": 836,
    "start_time": "2021-09-28T15:55:30.972Z"
   },
   {
    "duration": 16,
    "start_time": "2021-09-28T15:55:31.811Z"
   },
   {
    "duration": 32,
    "start_time": "2021-09-28T15:55:31.830Z"
   },
   {
    "duration": 5,
    "start_time": "2021-09-28T15:55:31.865Z"
   },
   {
    "duration": 18,
    "start_time": "2021-09-28T15:55:31.873Z"
   },
   {
    "duration": 17,
    "start_time": "2021-09-28T15:55:31.893Z"
   },
   {
    "duration": 387,
    "start_time": "2021-09-28T15:55:31.913Z"
   },
   {
    "duration": 300,
    "start_time": "2021-09-28T15:59:10.319Z"
   },
   {
    "duration": 86,
    "start_time": "2021-09-28T16:02:26.128Z"
   },
   {
    "duration": 295,
    "start_time": "2021-09-28T16:02:43.964Z"
   },
   {
    "duration": 263,
    "start_time": "2021-09-28T16:03:21.716Z"
   },
   {
    "duration": 80,
    "start_time": "2021-09-28T16:04:05.226Z"
   },
   {
    "duration": 250,
    "start_time": "2021-09-28T16:04:48.045Z"
   },
   {
    "duration": -433,
    "start_time": "2021-09-28T16:05:31.976Z"
   },
   {
    "duration": -3490,
    "start_time": "2021-09-28T16:06:00.022Z"
   },
   {
    "duration": 926,
    "start_time": "2021-09-28T16:06:21.305Z"
   },
   {
    "duration": 16,
    "start_time": "2021-09-28T16:06:22.233Z"
   },
   {
    "duration": 12,
    "start_time": "2021-09-28T16:06:22.263Z"
   },
   {
    "duration": 7,
    "start_time": "2021-09-28T16:06:22.278Z"
   },
   {
    "duration": 19,
    "start_time": "2021-09-28T16:06:22.287Z"
   },
   {
    "duration": 11,
    "start_time": "2021-09-28T16:06:22.309Z"
   },
   {
    "duration": 7540,
    "start_time": "2021-09-28T16:06:22.323Z"
   },
   {
    "duration": 4023,
    "start_time": "2021-09-28T16:07:35.785Z"
   },
   {
    "duration": 101,
    "start_time": "2021-09-28T16:11:46.172Z"
   },
   {
    "duration": 8474,
    "start_time": "2021-09-28T16:17:23.326Z"
   },
   {
    "duration": 321,
    "start_time": "2021-09-28T16:25:29.675Z"
   },
   {
    "duration": 115,
    "start_time": "2021-09-28T16:25:39.254Z"
   },
   {
    "duration": 99,
    "start_time": "2021-09-28T16:25:43.903Z"
   },
   {
    "duration": 273,
    "start_time": "2021-09-28T16:25:50.961Z"
   },
   {
    "duration": 311,
    "start_time": "2021-09-28T16:27:09.636Z"
   },
   {
    "duration": 260,
    "start_time": "2021-09-28T16:27:25.816Z"
   },
   {
    "duration": -441,
    "start_time": "2021-09-28T16:28:25.443Z"
   },
   {
    "duration": 7082,
    "start_time": "2021-09-28T16:28:52.245Z"
   },
   {
    "duration": 848,
    "start_time": "2021-09-28T16:29:01.449Z"
   },
   {
    "duration": 17,
    "start_time": "2021-09-28T16:29:02.300Z"
   },
   {
    "duration": 24,
    "start_time": "2021-09-28T16:29:02.320Z"
   },
   {
    "duration": 18,
    "start_time": "2021-09-28T16:29:02.346Z"
   },
   {
    "duration": 21,
    "start_time": "2021-09-28T16:29:02.367Z"
   },
   {
    "duration": 12,
    "start_time": "2021-09-28T16:29:02.391Z"
   },
   {
    "duration": 8434,
    "start_time": "2021-09-28T16:29:02.405Z"
   },
   {
    "duration": 74,
    "start_time": "2021-09-28T16:29:11.019Z"
   },
   {
    "duration": 15,
    "start_time": "2021-09-28T16:29:11.096Z"
   },
   {
    "duration": 17,
    "start_time": "2021-09-28T16:29:11.114Z"
   },
   {
    "duration": 29,
    "start_time": "2021-09-28T16:29:11.134Z"
   },
   {
    "duration": 24,
    "start_time": "2021-09-28T16:29:11.165Z"
   },
   {
    "duration": 12,
    "start_time": "2021-09-28T16:29:11.192Z"
   },
   {
    "duration": 9011,
    "start_time": "2021-09-28T16:29:11.206Z"
   },
   {
    "duration": -456,
    "start_time": "2021-09-28T16:32:02.573Z"
   },
   {
    "duration": 7313,
    "start_time": "2021-09-28T16:32:21.568Z"
   },
   {
    "duration": 7707,
    "start_time": "2021-09-28T16:33:17.527Z"
   },
   {
    "duration": 1159,
    "start_time": "2021-09-28T16:36:11.308Z"
   },
   {
    "duration": 234,
    "start_time": "2021-09-28T16:38:49.637Z"
   },
   {
    "duration": 262,
    "start_time": "2021-09-28T16:39:23.633Z"
   },
   {
    "duration": 10,
    "start_time": "2021-09-28T16:40:17.583Z"
   },
   {
    "duration": 145,
    "start_time": "2021-09-28T16:41:41.622Z"
   },
   {
    "duration": 310,
    "start_time": "2021-09-28T16:43:52.443Z"
   },
   {
    "duration": 98,
    "start_time": "2021-09-28T16:44:28.912Z"
   },
   {
    "duration": 301,
    "start_time": "2021-09-28T16:44:36.220Z"
   },
   {
    "duration": 323,
    "start_time": "2021-09-28T16:45:24.967Z"
   },
   {
    "duration": 291,
    "start_time": "2021-09-28T16:47:46.236Z"
   },
   {
    "duration": 94,
    "start_time": "2021-09-28T16:50:12.273Z"
   },
   {
    "duration": 3416,
    "start_time": "2021-09-28T16:52:47.760Z"
   },
   {
    "duration": 6571,
    "start_time": "2021-09-28T16:53:17.207Z"
   },
   {
    "duration": 8913,
    "start_time": "2021-09-28T16:55:02.125Z"
   },
   {
    "duration": 8096,
    "start_time": "2021-09-28T16:55:23.650Z"
   },
   {
    "duration": 82,
    "start_time": "2021-09-28T16:56:28.211Z"
   },
   {
    "duration": 81,
    "start_time": "2021-09-28T16:57:37.364Z"
   },
   {
    "duration": 830,
    "start_time": "2021-09-28T16:58:07.758Z"
   },
   {
    "duration": 14,
    "start_time": "2021-09-28T16:58:08.591Z"
   },
   {
    "duration": 17,
    "start_time": "2021-09-28T16:58:08.608Z"
   },
   {
    "duration": 8,
    "start_time": "2021-09-28T16:58:08.627Z"
   },
   {
    "duration": 36,
    "start_time": "2021-09-28T16:58:08.637Z"
   },
   {
    "duration": 14,
    "start_time": "2021-09-28T16:58:08.675Z"
   },
   {
    "duration": 103,
    "start_time": "2021-09-28T16:58:08.691Z"
   },
   {
    "duration": 79,
    "start_time": "2021-09-28T17:00:30.529Z"
   },
   {
    "duration": 77,
    "start_time": "2021-09-28T17:01:11.213Z"
   },
   {
    "duration": 16,
    "start_time": "2021-09-28T17:01:16.185Z"
   },
   {
    "duration": 431,
    "start_time": "2021-09-28T17:02:49.082Z"
   },
   {
    "duration": 246,
    "start_time": "2021-09-28T17:03:07.246Z"
   },
   {
    "duration": 261,
    "start_time": "2021-09-28T17:04:10.423Z"
   },
   {
    "duration": 278,
    "start_time": "2021-09-28T17:10:16.925Z"
   },
   {
    "duration": 11,
    "start_time": "2021-09-28T17:17:17.407Z"
   },
   {
    "duration": 4848,
    "start_time": "2021-09-28T17:17:45.412Z"
   },
   {
    "duration": 5821,
    "start_time": "2021-09-28T17:24:30.961Z"
   },
   {
    "duration": 77,
    "start_time": "2021-09-28T17:24:47.587Z"
   },
   {
    "duration": 315,
    "start_time": "2021-09-28T17:26:07.369Z"
   },
   {
    "duration": 37,
    "start_time": "2021-09-28T17:28:52.718Z"
   },
   {
    "duration": 34,
    "start_time": "2021-09-28T17:48:19.495Z"
   },
   {
    "duration": 12,
    "start_time": "2021-09-28T17:59:02.377Z"
   },
   {
    "duration": 282,
    "start_time": "2021-09-28T18:10:15.465Z"
   },
   {
    "duration": 11,
    "start_time": "2021-09-28T18:10:23.993Z"
   },
   {
    "duration": 324,
    "start_time": "2021-09-28T18:17:20.659Z"
   },
   {
    "duration": 10,
    "start_time": "2021-09-28T18:17:47.591Z"
   },
   {
    "duration": 675,
    "start_time": "2021-09-28T18:18:33.823Z"
   },
   {
    "duration": 271,
    "start_time": "2021-09-28T18:19:23.848Z"
   },
   {
    "duration": 319,
    "start_time": "2021-09-28T18:19:33.807Z"
   },
   {
    "duration": 103,
    "start_time": "2021-09-28T18:19:49.168Z"
   },
   {
    "duration": 260,
    "start_time": "2021-09-28T18:23:11.413Z"
   },
   {
    "duration": 10,
    "start_time": "2021-09-28T18:23:28.460Z"
   },
   {
    "duration": 11,
    "start_time": "2021-09-28T18:27:14.326Z"
   },
   {
    "duration": 12,
    "start_time": "2021-09-28T18:27:22.362Z"
   },
   {
    "duration": 12,
    "start_time": "2021-09-28T18:27:37.046Z"
   },
   {
    "duration": 10,
    "start_time": "2021-09-28T18:28:19.046Z"
   },
   {
    "duration": 1358,
    "start_time": "2021-09-28T18:38:51.190Z"
   },
   {
    "duration": 11,
    "start_time": "2021-09-28T18:39:08.792Z"
   },
   {
    "duration": 9,
    "start_time": "2021-09-28T18:55:07.595Z"
   },
   {
    "duration": 3,
    "start_time": "2021-09-28T18:55:37.555Z"
   },
   {
    "duration": 34,
    "start_time": "2021-09-28T19:13:23.118Z"
   },
   {
    "duration": 32,
    "start_time": "2021-09-28T19:13:54.517Z"
   },
   {
    "duration": 47,
    "start_time": "2021-09-28T19:14:16.197Z"
   },
   {
    "duration": 805,
    "start_time": "2021-09-28T19:14:44.163Z"
   },
   {
    "duration": 14,
    "start_time": "2021-09-28T19:14:44.970Z"
   },
   {
    "duration": 15,
    "start_time": "2021-09-28T19:14:44.988Z"
   },
   {
    "duration": 31,
    "start_time": "2021-09-28T19:14:45.007Z"
   },
   {
    "duration": 21,
    "start_time": "2021-09-28T19:14:45.041Z"
   },
   {
    "duration": 39,
    "start_time": "2021-09-28T19:14:45.065Z"
   },
   {
    "duration": 3,
    "start_time": "2021-09-28T19:14:45.107Z"
   },
   {
    "duration": 6549,
    "start_time": "2021-09-28T19:15:29.403Z"
   },
   {
    "duration": 6411,
    "start_time": "2021-09-28T19:15:43.473Z"
   },
   {
    "duration": 7901,
    "start_time": "2021-09-28T19:16:27.290Z"
   },
   {
    "duration": 6220,
    "start_time": "2021-09-28T19:17:51.587Z"
   },
   {
    "duration": 6936,
    "start_time": "2021-09-28T19:18:06.000Z"
   },
   {
    "duration": 31,
    "start_time": "2021-09-28T19:18:19.429Z"
   },
   {
    "duration": 343,
    "start_time": "2021-09-28T19:19:05.056Z"
   },
   {
    "duration": 6436,
    "start_time": "2021-09-28T19:19:33.436Z"
   },
   {
    "duration": 8423,
    "start_time": "2021-09-28T19:20:02.598Z"
   },
   {
    "duration": 38,
    "start_time": "2021-09-28T19:28:00.809Z"
   },
   {
    "duration": 234,
    "start_time": "2021-09-28T19:37:22.745Z"
   },
   {
    "duration": 309,
    "start_time": "2021-09-28T19:37:35.075Z"
   },
   {
    "duration": 77,
    "start_time": "2021-09-28T19:37:48.681Z"
   },
   {
    "duration": 93,
    "start_time": "2021-09-28T19:38:20.075Z"
   },
   {
    "duration": 233,
    "start_time": "2021-09-28T19:39:16.213Z"
   },
   {
    "duration": 40,
    "start_time": "2021-09-28T19:39:55.407Z"
   },
   {
    "duration": 50,
    "start_time": "2021-09-28T19:40:21.571Z"
   },
   {
    "duration": 58,
    "start_time": "2021-09-28T19:58:24.152Z"
   },
   {
    "duration": 6,
    "start_time": "2021-09-28T19:58:41.745Z"
   },
   {
    "duration": 6,
    "start_time": "2021-09-28T19:59:01.702Z"
   },
   {
    "duration": 244,
    "start_time": "2021-09-28T19:59:17.575Z"
   },
   {
    "duration": 655,
    "start_time": "2021-09-28T19:59:36.349Z"
   },
   {
    "duration": 6,
    "start_time": "2021-09-28T19:59:54.646Z"
   },
   {
    "duration": 4,
    "start_time": "2021-09-28T20:00:03.276Z"
   },
   {
    "duration": 259,
    "start_time": "2021-09-28T20:00:08.698Z"
   },
   {
    "duration": 282,
    "start_time": "2021-09-28T20:02:06.490Z"
   },
   {
    "duration": 246,
    "start_time": "2021-09-28T20:02:19.975Z"
   },
   {
    "duration": 240,
    "start_time": "2021-09-28T20:02:34.123Z"
   },
   {
    "duration": 266,
    "start_time": "2021-09-28T20:03:08.550Z"
   },
   {
    "duration": 6,
    "start_time": "2021-09-28T20:04:37.783Z"
   },
   {
    "duration": 11,
    "start_time": "2021-09-28T20:04:53.664Z"
   },
   {
    "duration": 909,
    "start_time": "2021-09-28T20:05:06.645Z"
   },
   {
    "duration": 21,
    "start_time": "2021-09-28T20:05:07.558Z"
   },
   {
    "duration": 25,
    "start_time": "2021-09-28T20:05:07.583Z"
   },
   {
    "duration": 5,
    "start_time": "2021-09-28T20:05:07.611Z"
   },
   {
    "duration": 20,
    "start_time": "2021-09-28T20:05:07.619Z"
   },
   {
    "duration": 67,
    "start_time": "2021-09-28T20:05:07.641Z"
   },
   {
    "duration": 7,
    "start_time": "2021-09-28T20:05:07.710Z"
   },
   {
    "duration": 402,
    "start_time": "2021-09-28T20:05:32.379Z"
   },
   {
    "duration": 798,
    "start_time": "2021-09-28T20:07:03.799Z"
   },
   {
    "duration": 22,
    "start_time": "2021-09-28T20:07:04.601Z"
   },
   {
    "duration": 45,
    "start_time": "2021-09-28T20:07:04.627Z"
   },
   {
    "duration": 6,
    "start_time": "2021-09-28T20:07:04.676Z"
   },
   {
    "duration": 17,
    "start_time": "2021-09-28T20:07:04.684Z"
   },
   {
    "duration": 70,
    "start_time": "2021-09-28T20:07:04.704Z"
   },
   {
    "duration": 7,
    "start_time": "2021-09-28T20:07:04.776Z"
   },
   {
    "duration": 412,
    "start_time": "2021-09-28T20:09:25.266Z"
   },
   {
    "duration": 264,
    "start_time": "2021-09-28T20:11:15.038Z"
   },
   {
    "duration": 259,
    "start_time": "2021-09-28T20:11:27.670Z"
   },
   {
    "duration": 877,
    "start_time": "2021-09-28T20:13:00.874Z"
   },
   {
    "duration": 17,
    "start_time": "2021-09-28T20:13:01.754Z"
   },
   {
    "duration": 69,
    "start_time": "2021-09-28T20:13:01.774Z"
   },
   {
    "duration": 28,
    "start_time": "2021-09-28T20:13:01.846Z"
   },
   {
    "duration": 70,
    "start_time": "2021-09-28T20:13:01.877Z"
   },
   {
    "duration": 61,
    "start_time": "2021-09-28T20:13:01.950Z"
   },
   {
    "duration": 80,
    "start_time": "2021-09-28T20:13:02.013Z"
   },
   {
    "duration": 52,
    "start_time": "2021-09-28T20:14:19.939Z"
   },
   {
    "duration": 47,
    "start_time": "2021-09-28T20:15:30.446Z"
   },
   {
    "duration": 57,
    "start_time": "2021-09-28T20:15:46.866Z"
   },
   {
    "duration": 65,
    "start_time": "2021-09-28T20:17:24.330Z"
   },
   {
    "duration": 40,
    "start_time": "2021-09-28T20:18:07.713Z"
   },
   {
    "duration": 14,
    "start_time": "2021-09-28T20:18:15.593Z"
   },
   {
    "duration": 54,
    "start_time": "2021-09-28T20:18:45.366Z"
   },
   {
    "duration": 168,
    "start_time": "2021-09-28T20:19:23.006Z"
   },
   {
    "duration": 24,
    "start_time": "2021-09-28T20:19:28.262Z"
   },
   {
    "duration": 277,
    "start_time": "2021-09-28T20:19:46.202Z"
   },
   {
    "duration": 25,
    "start_time": "2021-09-28T20:19:49.591Z"
   },
   {
    "duration": 16,
    "start_time": "2021-09-28T20:21:07.383Z"
   },
   {
    "duration": 884,
    "start_time": "2021-09-28T20:21:14.860Z"
   },
   {
    "duration": 25,
    "start_time": "2021-09-28T20:21:15.747Z"
   },
   {
    "duration": 17,
    "start_time": "2021-09-28T20:21:15.783Z"
   },
   {
    "duration": 10,
    "start_time": "2021-09-28T20:21:15.803Z"
   },
   {
    "duration": 13,
    "start_time": "2021-09-28T20:21:15.816Z"
   },
   {
    "duration": 40,
    "start_time": "2021-09-28T20:21:15.832Z"
   },
   {
    "duration": 49,
    "start_time": "2021-09-28T20:21:15.876Z"
   },
   {
    "duration": 197,
    "start_time": "2021-09-28T20:21:15.928Z"
   },
   {
    "duration": 15,
    "start_time": "2021-09-28T20:21:16.127Z"
   },
   {
    "duration": 8,
    "start_time": "2021-09-28T20:22:14.427Z"
   },
   {
    "duration": 7,
    "start_time": "2021-09-28T20:22:41.136Z"
   },
   {
    "duration": 586,
    "start_time": "2021-09-28T20:27:02.325Z"
   },
   {
    "duration": 119,
    "start_time": "2021-09-28T20:27:15.239Z"
   },
   {
    "duration": 18,
    "start_time": "2021-09-28T20:27:19.366Z"
   },
   {
    "duration": 806,
    "start_time": "2021-09-28T20:27:29.513Z"
   },
   {
    "duration": 16,
    "start_time": "2021-09-28T20:27:30.322Z"
   },
   {
    "duration": 32,
    "start_time": "2021-09-28T20:27:30.342Z"
   },
   {
    "duration": 19,
    "start_time": "2021-09-28T20:27:30.378Z"
   },
   {
    "duration": 26,
    "start_time": "2021-09-28T20:27:30.400Z"
   },
   {
    "duration": 14,
    "start_time": "2021-09-28T20:27:30.429Z"
   },
   {
    "duration": 139,
    "start_time": "2021-09-28T20:27:30.446Z"
   },
   {
    "duration": 15,
    "start_time": "2021-09-28T20:27:30.588Z"
   },
   {
    "duration": 10,
    "start_time": "2021-09-28T20:28:00.223Z"
   },
   {
    "duration": 34,
    "start_time": "2021-09-28T20:28:30.925Z"
   },
   {
    "duration": 15,
    "start_time": "2021-09-28T20:28:33.429Z"
   },
   {
    "duration": 8,
    "start_time": "2021-09-28T20:28:36.276Z"
   },
   {
    "duration": 7,
    "start_time": "2021-09-28T20:28:38.748Z"
   },
   {
    "duration": 998,
    "start_time": "2021-09-28T20:28:45.052Z"
   },
   {
    "duration": 17,
    "start_time": "2021-09-28T20:28:46.053Z"
   },
   {
    "duration": 16,
    "start_time": "2021-09-28T20:28:46.073Z"
   },
   {
    "duration": 5,
    "start_time": "2021-09-28T20:28:46.092Z"
   },
   {
    "duration": 19,
    "start_time": "2021-09-28T20:28:46.100Z"
   },
   {
    "duration": 13,
    "start_time": "2021-09-28T20:28:46.121Z"
   },
   {
    "duration": 60,
    "start_time": "2021-09-28T20:28:46.136Z"
   },
   {
    "duration": 23,
    "start_time": "2021-09-28T20:28:46.200Z"
   },
   {
    "duration": 47,
    "start_time": "2021-09-28T20:28:46.227Z"
   },
   {
    "duration": 8794,
    "start_time": "2021-09-28T20:30:39.316Z"
   },
   {
    "duration": -171,
    "start_time": "2021-09-28T20:30:48.287Z"
   },
   {
    "duration": -175,
    "start_time": "2021-09-28T20:30:48.293Z"
   },
   {
    "duration": 4381,
    "start_time": "2021-09-28T20:32:37.836Z"
   },
   {
    "duration": 42,
    "start_time": "2021-09-28T20:34:46.292Z"
   },
   {
    "duration": 16,
    "start_time": "2021-09-28T20:34:56.940Z"
   },
   {
    "duration": 38,
    "start_time": "2021-09-28T20:35:07.219Z"
   },
   {
    "duration": 15,
    "start_time": "2021-09-28T20:35:10.395Z"
   },
   {
    "duration": 15,
    "start_time": "2021-09-28T20:35:19.731Z"
   },
   {
    "duration": 848,
    "start_time": "2021-09-28T20:35:27.871Z"
   },
   {
    "duration": 15,
    "start_time": "2021-09-28T20:35:28.722Z"
   },
   {
    "duration": 40,
    "start_time": "2021-09-28T20:35:28.740Z"
   },
   {
    "duration": 4,
    "start_time": "2021-09-28T20:35:28.783Z"
   },
   {
    "duration": 41,
    "start_time": "2021-09-28T20:35:28.789Z"
   },
   {
    "duration": 17,
    "start_time": "2021-09-28T20:35:28.832Z"
   },
   {
    "duration": 61,
    "start_time": "2021-09-28T20:35:28.852Z"
   },
   {
    "duration": 14,
    "start_time": "2021-09-28T20:35:28.916Z"
   },
   {
    "duration": 23,
    "start_time": "2021-09-28T20:35:28.933Z"
   },
   {
    "duration": 7,
    "start_time": "2021-09-28T20:35:59.018Z"
   },
   {
    "duration": 7,
    "start_time": "2021-09-28T21:00:42.331Z"
   },
   {
    "duration": 906,
    "start_time": "2021-09-28T21:00:52.525Z"
   },
   {
    "duration": 30,
    "start_time": "2021-09-28T21:00:53.435Z"
   },
   {
    "duration": 14,
    "start_time": "2021-09-28T21:00:53.469Z"
   },
   {
    "duration": 8,
    "start_time": "2021-09-28T21:00:53.486Z"
   },
   {
    "duration": 18,
    "start_time": "2021-09-28T21:00:53.497Z"
   },
   {
    "duration": 10,
    "start_time": "2021-09-28T21:00:53.518Z"
   },
   {
    "duration": 36,
    "start_time": "2021-09-28T21:00:53.531Z"
   },
   {
    "duration": 41,
    "start_time": "2021-09-28T21:00:53.570Z"
   },
   {
    "duration": 16,
    "start_time": "2021-09-28T21:00:53.613Z"
   },
   {
    "duration": 13,
    "start_time": "2021-09-28T21:02:58.767Z"
   },
   {
    "duration": 78,
    "start_time": "2021-09-28T21:06:48.519Z"
   },
   {
    "duration": 437,
    "start_time": "2021-10-01T07:57:06.356Z"
   },
   {
    "duration": 823,
    "start_time": "2021-10-01T07:57:21.179Z"
   },
   {
    "duration": 17,
    "start_time": "2021-10-01T07:57:22.005Z"
   },
   {
    "duration": 13,
    "start_time": "2021-10-01T07:57:22.026Z"
   },
   {
    "duration": 7,
    "start_time": "2021-10-01T07:57:22.041Z"
   },
   {
    "duration": 31,
    "start_time": "2021-10-01T07:57:22.050Z"
   },
   {
    "duration": 23,
    "start_time": "2021-10-01T07:57:22.083Z"
   },
   {
    "duration": 20,
    "start_time": "2021-10-01T07:57:22.108Z"
   },
   {
    "duration": 55,
    "start_time": "2021-10-01T07:57:22.132Z"
   },
   {
    "duration": 12,
    "start_time": "2021-10-01T07:57:22.190Z"
   },
   {
    "duration": 28,
    "start_time": "2021-10-01T07:57:22.205Z"
   },
   {
    "duration": 4,
    "start_time": "2021-10-01T07:59:01.797Z"
   },
   {
    "duration": 15,
    "start_time": "2021-10-01T07:59:19.998Z"
   },
   {
    "duration": 25,
    "start_time": "2021-10-01T08:13:12.264Z"
   },
   {
    "duration": 387,
    "start_time": "2021-10-01T08:14:10.698Z"
   },
   {
    "duration": 10,
    "start_time": "2021-10-01T08:15:14.716Z"
   },
   {
    "duration": 11,
    "start_time": "2021-10-01T08:16:13.675Z"
   },
   {
    "duration": 24,
    "start_time": "2021-10-01T08:16:44.923Z"
   },
   {
    "duration": 319,
    "start_time": "2021-10-01T08:22:06.289Z"
   },
   {
    "duration": 314,
    "start_time": "2021-10-01T08:22:29.343Z"
   },
   {
    "duration": 28,
    "start_time": "2021-10-01T08:22:40.152Z"
   },
   {
    "duration": 26,
    "start_time": "2021-10-01T08:22:53.640Z"
   },
   {
    "duration": 294,
    "start_time": "2021-10-01T08:23:28.488Z"
   },
   {
    "duration": 274,
    "start_time": "2021-10-01T08:23:57.881Z"
   },
   {
    "duration": 16,
    "start_time": "2021-10-01T08:25:29.586Z"
   },
   {
    "duration": 18,
    "start_time": "2021-10-01T08:25:46.338Z"
   },
   {
    "duration": 26,
    "start_time": "2021-10-01T08:51:36.648Z"
   },
   {
    "duration": 25,
    "start_time": "2021-10-01T08:52:16.190Z"
   },
   {
    "duration": 32,
    "start_time": "2021-10-01T08:52:23.079Z"
   },
   {
    "duration": 10,
    "start_time": "2021-10-01T08:56:02.786Z"
   },
   {
    "duration": 7,
    "start_time": "2021-10-01T08:56:33.050Z"
   },
   {
    "duration": 7,
    "start_time": "2021-10-01T08:57:13.247Z"
   },
   {
    "duration": 24,
    "start_time": "2021-10-01T08:57:37.653Z"
   },
   {
    "duration": 21,
    "start_time": "2021-10-01T08:58:25.039Z"
   },
   {
    "duration": 27,
    "start_time": "2021-10-01T08:58:32.266Z"
   },
   {
    "duration": 7,
    "start_time": "2021-10-01T08:59:17.725Z"
   },
   {
    "duration": 12,
    "start_time": "2021-10-01T09:01:28.758Z"
   },
   {
    "duration": 333,
    "start_time": "2021-10-01T09:02:22.518Z"
   },
   {
    "duration": 305,
    "start_time": "2021-10-01T09:02:33.608Z"
   },
   {
    "duration": 8,
    "start_time": "2021-10-01T09:03:22.784Z"
   },
   {
    "duration": 317,
    "start_time": "2021-10-01T09:05:55.533Z"
   },
   {
    "duration": 305,
    "start_time": "2021-10-01T09:06:23.097Z"
   },
   {
    "duration": 289,
    "start_time": "2021-10-01T09:06:53.546Z"
   },
   {
    "duration": 315,
    "start_time": "2021-10-01T09:07:05.947Z"
   },
   {
    "duration": 299,
    "start_time": "2021-10-01T09:07:43.931Z"
   },
   {
    "duration": 13,
    "start_time": "2021-10-01T09:10:35.645Z"
   },
   {
    "duration": 99,
    "start_time": "2021-10-01T09:10:46.525Z"
   },
   {
    "duration": 13,
    "start_time": "2021-10-01T09:10:49.877Z"
   },
   {
    "duration": 17,
    "start_time": "2021-10-01T09:10:58.389Z"
   },
   {
    "duration": 35,
    "start_time": "2021-10-01T09:12:21.366Z"
   },
   {
    "duration": 8,
    "start_time": "2021-10-01T09:12:39.865Z"
   },
   {
    "duration": 6,
    "start_time": "2021-10-01T09:12:48.487Z"
   },
   {
    "duration": 7,
    "start_time": "2021-10-01T09:13:55.808Z"
   },
   {
    "duration": 7,
    "start_time": "2021-10-01T09:14:17.409Z"
   },
   {
    "duration": 286,
    "start_time": "2021-10-01T11:11:35.238Z"
   },
   {
    "duration": 846,
    "start_time": "2021-10-01T11:11:46.626Z"
   },
   {
    "duration": 14,
    "start_time": "2021-10-01T11:11:47.475Z"
   },
   {
    "duration": 32,
    "start_time": "2021-10-01T11:11:47.492Z"
   },
   {
    "duration": 19,
    "start_time": "2021-10-01T11:11:47.526Z"
   },
   {
    "duration": 44,
    "start_time": "2021-10-01T11:11:47.548Z"
   },
   {
    "duration": 23,
    "start_time": "2021-10-01T11:11:47.594Z"
   },
   {
    "duration": 35,
    "start_time": "2021-10-01T11:11:47.619Z"
   },
   {
    "duration": 68,
    "start_time": "2021-10-01T11:11:47.658Z"
   },
   {
    "duration": 14,
    "start_time": "2021-10-01T11:11:47.729Z"
   },
   {
    "duration": 27,
    "start_time": "2021-10-01T11:11:47.745Z"
   },
   {
    "duration": 48,
    "start_time": "2021-10-01T11:11:47.775Z"
   },
   {
    "duration": 38,
    "start_time": "2021-10-01T11:11:47.826Z"
   },
   {
    "duration": 25,
    "start_time": "2021-10-01T11:11:47.867Z"
   },
   {
    "duration": 35,
    "start_time": "2021-10-01T11:11:47.894Z"
   },
   {
    "duration": 16,
    "start_time": "2021-10-01T11:11:47.931Z"
   },
   {
    "duration": 42,
    "start_time": "2021-10-01T11:11:47.950Z"
   },
   {
    "duration": 36,
    "start_time": "2021-10-01T11:11:47.994Z"
   },
   {
    "duration": 22,
    "start_time": "2021-10-01T11:11:48.032Z"
   },
   {
    "duration": 7,
    "start_time": "2021-10-01T11:11:48.056Z"
   },
   {
    "duration": 37,
    "start_time": "2021-10-01T11:11:48.066Z"
   },
   {
    "duration": 29,
    "start_time": "2021-10-01T11:11:48.105Z"
   },
   {
    "duration": 34,
    "start_time": "2021-10-01T11:11:48.136Z"
   },
   {
    "duration": 30,
    "start_time": "2021-10-01T11:11:48.174Z"
   },
   {
    "duration": 20,
    "start_time": "2021-10-01T11:11:48.206Z"
   },
   {
    "duration": 21,
    "start_time": "2021-10-01T11:11:48.229Z"
   },
   {
    "duration": 32,
    "start_time": "2021-10-01T11:11:48.253Z"
   },
   {
    "duration": 387,
    "start_time": "2021-10-01T11:11:48.287Z"
   },
   {
    "duration": 319,
    "start_time": "2021-10-01T11:12:12.241Z"
   },
   {
    "duration": 286,
    "start_time": "2021-10-01T11:15:53.862Z"
   },
   {
    "duration": 127,
    "start_time": "2021-10-01T11:16:32.790Z"
   },
   {
    "duration": 120,
    "start_time": "2021-10-01T11:16:37.358Z"
   },
   {
    "duration": 869,
    "start_time": "2021-10-01T11:16:42.262Z"
   },
   {
    "duration": 9,
    "start_time": "2021-10-01T11:17:03.430Z"
   },
   {
    "duration": 8,
    "start_time": "2021-10-01T11:17:18.390Z"
   },
   {
    "duration": 8,
    "start_time": "2021-10-01T11:17:43.318Z"
   },
   {
    "duration": 7,
    "start_time": "2021-10-01T11:17:56.041Z"
   },
   {
    "duration": 8,
    "start_time": "2021-10-01T11:18:01.671Z"
   },
   {
    "duration": 7,
    "start_time": "2021-10-01T11:18:07.415Z"
   },
   {
    "duration": 297,
    "start_time": "2021-10-01T11:18:24.631Z"
   },
   {
    "duration": 7,
    "start_time": "2021-10-01T11:18:38.872Z"
   },
   {
    "duration": 7,
    "start_time": "2021-10-01T11:19:35.089Z"
   },
   {
    "duration": 10,
    "start_time": "2021-10-01T11:20:01.648Z"
   },
   {
    "duration": 5,
    "start_time": "2021-10-01T11:20:17.194Z"
   },
   {
    "duration": 7,
    "start_time": "2021-10-01T11:20:20.736Z"
   },
   {
    "duration": 284,
    "start_time": "2021-10-01T11:21:24.699Z"
   },
   {
    "duration": 15,
    "start_time": "2021-10-01T11:21:49.290Z"
   },
   {
    "duration": 13,
    "start_time": "2021-10-01T11:21:58.451Z"
   },
   {
    "duration": 367,
    "start_time": "2021-10-01T11:22:30.132Z"
   },
   {
    "duration": 13,
    "start_time": "2021-10-01T11:22:58.092Z"
   },
   {
    "duration": 12,
    "start_time": "2021-10-01T11:23:23.420Z"
   },
   {
    "duration": 13,
    "start_time": "2021-10-01T11:24:12.132Z"
   },
   {
    "duration": 12,
    "start_time": "2021-10-01T11:26:56.694Z"
   },
   {
    "duration": 318,
    "start_time": "2021-10-01T11:27:43.423Z"
   },
   {
    "duration": 8,
    "start_time": "2021-10-01T11:30:36.226Z"
   },
   {
    "duration": -150,
    "start_time": "2021-10-01T11:31:41.500Z"
   },
   {
    "duration": 20,
    "start_time": "2021-10-01T11:31:48.673Z"
   },
   {
    "duration": 316,
    "start_time": "2021-10-01T11:32:04.404Z"
   },
   {
    "duration": 3576,
    "start_time": "2021-10-01T11:32:12.052Z"
   },
   {
    "duration": 25,
    "start_time": "2021-10-01T11:32:15.631Z"
   },
   {
    "duration": 8336,
    "start_time": "2021-10-01T11:32:59.451Z"
   },
   {
    "duration": 2018,
    "start_time": "2021-10-01T11:33:10.251Z"
   },
   {
    "duration": 3590,
    "start_time": "2021-10-01T11:33:19.699Z"
   },
   {
    "duration": 44,
    "start_time": "2021-10-01T11:33:23.291Z"
   },
   {
    "duration": 2355,
    "start_time": "2021-10-01T11:33:25.299Z"
   },
   {
    "duration": 2017,
    "start_time": "2021-10-01T11:33:33.827Z"
   },
   {
    "duration": 827,
    "start_time": "2021-10-01T11:33:55.549Z"
   },
   {
    "duration": 22,
    "start_time": "2021-10-01T11:33:56.379Z"
   },
   {
    "duration": 22,
    "start_time": "2021-10-01T11:33:56.407Z"
   },
   {
    "duration": 8,
    "start_time": "2021-10-01T11:33:56.431Z"
   },
   {
    "duration": 26,
    "start_time": "2021-10-01T11:33:56.442Z"
   },
   {
    "duration": 8,
    "start_time": "2021-10-01T11:33:56.472Z"
   },
   {
    "duration": 6,
    "start_time": "2021-10-01T11:33:56.486Z"
   },
   {
    "duration": 66,
    "start_time": "2021-10-01T11:33:56.496Z"
   },
   {
    "duration": 14,
    "start_time": "2021-10-01T11:33:56.565Z"
   },
   {
    "duration": 42,
    "start_time": "2021-10-01T11:33:56.582Z"
   },
   {
    "duration": 17,
    "start_time": "2021-10-01T11:33:56.626Z"
   },
   {
    "duration": 25,
    "start_time": "2021-10-01T11:33:56.646Z"
   },
   {
    "duration": 68,
    "start_time": "2021-10-01T11:33:56.674Z"
   },
   {
    "duration": 26,
    "start_time": "2021-10-01T11:33:56.745Z"
   },
   {
    "duration": 17,
    "start_time": "2021-10-01T11:33:56.774Z"
   },
   {
    "duration": 56,
    "start_time": "2021-10-01T11:33:56.793Z"
   },
   {
    "duration": 26,
    "start_time": "2021-10-01T11:33:56.852Z"
   },
   {
    "duration": 44,
    "start_time": "2021-10-01T11:33:56.880Z"
   },
   {
    "duration": 7,
    "start_time": "2021-10-01T11:33:56.926Z"
   },
   {
    "duration": 35,
    "start_time": "2021-10-01T11:33:56.935Z"
   },
   {
    "duration": 25,
    "start_time": "2021-10-01T11:33:56.972Z"
   },
   {
    "duration": 17,
    "start_time": "2021-10-01T11:33:57.001Z"
   },
   {
    "duration": 36,
    "start_time": "2021-10-01T11:33:57.021Z"
   },
   {
    "duration": 18,
    "start_time": "2021-10-01T11:33:57.060Z"
   },
   {
    "duration": 21,
    "start_time": "2021-10-01T11:33:57.080Z"
   },
   {
    "duration": 17,
    "start_time": "2021-10-01T11:33:57.104Z"
   },
   {
    "duration": 19,
    "start_time": "2021-10-01T11:33:57.123Z"
   },
   {
    "duration": 4397,
    "start_time": "2021-10-01T11:33:57.144Z"
   },
   {
    "duration": 26,
    "start_time": "2021-10-01T11:34:01.544Z"
   },
   {
    "duration": 2173,
    "start_time": "2021-10-01T11:34:01.572Z"
   },
   {
    "duration": 112,
    "start_time": "2021-10-01T11:34:06.184Z"
   },
   {
    "duration": 27,
    "start_time": "2021-10-01T11:34:06.299Z"
   },
   {
    "duration": 14,
    "start_time": "2021-10-01T11:34:06.329Z"
   },
   {
    "duration": 26,
    "start_time": "2021-10-01T11:34:06.346Z"
   },
   {
    "duration": 35,
    "start_time": "2021-10-01T11:34:06.375Z"
   },
   {
    "duration": 23,
    "start_time": "2021-10-01T11:34:06.413Z"
   },
   {
    "duration": 31,
    "start_time": "2021-10-01T11:34:06.438Z"
   },
   {
    "duration": 54,
    "start_time": "2021-10-01T11:34:06.474Z"
   },
   {
    "duration": 12,
    "start_time": "2021-10-01T11:34:06.531Z"
   },
   {
    "duration": 42,
    "start_time": "2021-10-01T11:34:06.545Z"
   },
   {
    "duration": 59,
    "start_time": "2021-10-01T11:34:06.589Z"
   },
   {
    "duration": 57,
    "start_time": "2021-10-01T11:34:06.650Z"
   },
   {
    "duration": 42,
    "start_time": "2021-10-01T11:34:06.710Z"
   },
   {
    "duration": 56,
    "start_time": "2021-10-01T11:34:06.754Z"
   },
   {
    "duration": 36,
    "start_time": "2021-10-01T11:34:06.813Z"
   },
   {
    "duration": 49,
    "start_time": "2021-10-01T11:34:06.852Z"
   },
   {
    "duration": 34,
    "start_time": "2021-10-01T11:34:06.903Z"
   },
   {
    "duration": 29,
    "start_time": "2021-10-01T11:34:06.939Z"
   },
   {
    "duration": 27,
    "start_time": "2021-10-01T11:34:06.970Z"
   },
   {
    "duration": 43,
    "start_time": "2021-10-01T11:34:06.999Z"
   },
   {
    "duration": 28,
    "start_time": "2021-10-01T11:34:07.044Z"
   },
   {
    "duration": 31,
    "start_time": "2021-10-01T11:34:07.074Z"
   },
   {
    "duration": 36,
    "start_time": "2021-10-01T11:34:07.109Z"
   },
   {
    "duration": 23,
    "start_time": "2021-10-01T11:34:07.148Z"
   },
   {
    "duration": 29,
    "start_time": "2021-10-01T11:34:07.173Z"
   },
   {
    "duration": 26,
    "start_time": "2021-10-01T11:34:07.204Z"
   },
   {
    "duration": 35,
    "start_time": "2021-10-01T11:34:07.232Z"
   },
   {
    "duration": 4575,
    "start_time": "2021-10-01T11:34:07.270Z"
   },
   {
    "duration": 27,
    "start_time": "2021-10-01T11:34:11.848Z"
   },
   {
    "duration": 2243,
    "start_time": "2021-10-01T11:34:11.877Z"
   },
   {
    "duration": 10,
    "start_time": "2021-10-01T11:34:31.197Z"
   },
   {
    "duration": 110,
    "start_time": "2021-10-01T11:40:42.155Z"
   },
   {
    "duration": 14,
    "start_time": "2021-10-01T11:40:42.267Z"
   },
   {
    "duration": 34,
    "start_time": "2021-10-01T11:40:42.284Z"
   },
   {
    "duration": 19,
    "start_time": "2021-10-01T11:40:42.321Z"
   },
   {
    "duration": 29,
    "start_time": "2021-10-01T11:40:42.343Z"
   },
   {
    "duration": 18,
    "start_time": "2021-10-01T11:40:42.375Z"
   },
   {
    "duration": 44,
    "start_time": "2021-10-01T11:40:42.395Z"
   },
   {
    "duration": 49,
    "start_time": "2021-10-01T11:40:42.443Z"
   },
   {
    "duration": 12,
    "start_time": "2021-10-01T11:40:42.495Z"
   },
   {
    "duration": 20,
    "start_time": "2021-10-01T11:40:42.509Z"
   },
   {
    "duration": 30,
    "start_time": "2021-10-01T11:40:42.531Z"
   },
   {
    "duration": 29,
    "start_time": "2021-10-01T11:40:42.563Z"
   },
   {
    "duration": 24,
    "start_time": "2021-10-01T11:40:42.595Z"
   },
   {
    "duration": 22,
    "start_time": "2021-10-01T11:40:42.621Z"
   },
   {
    "duration": 14,
    "start_time": "2021-10-01T11:40:42.645Z"
   },
   {
    "duration": 32,
    "start_time": "2021-10-01T11:40:42.662Z"
   },
   {
    "duration": 49,
    "start_time": "2021-10-01T11:40:42.698Z"
   },
   {
    "duration": 26,
    "start_time": "2021-10-01T11:40:42.750Z"
   },
   {
    "duration": 8,
    "start_time": "2021-10-01T11:40:42.779Z"
   },
   {
    "duration": 56,
    "start_time": "2021-10-01T11:40:42.790Z"
   },
   {
    "duration": 34,
    "start_time": "2021-10-01T11:40:42.849Z"
   },
   {
    "duration": 22,
    "start_time": "2021-10-01T11:40:42.885Z"
   },
   {
    "duration": 36,
    "start_time": "2021-10-01T11:40:42.911Z"
   },
   {
    "duration": 17,
    "start_time": "2021-10-01T11:40:42.950Z"
   },
   {
    "duration": 13,
    "start_time": "2021-10-01T11:40:42.969Z"
   },
   {
    "duration": 11,
    "start_time": "2021-10-01T11:40:42.985Z"
   },
   {
    "duration": 17,
    "start_time": "2021-10-01T11:40:42.999Z"
   },
   {
    "duration": 4533,
    "start_time": "2021-10-01T11:40:43.018Z"
   },
   {
    "duration": 25,
    "start_time": "2021-10-01T11:40:47.554Z"
   },
   {
    "duration": 29,
    "start_time": "2021-10-01T11:40:47.582Z"
   },
   {
    "duration": 503,
    "start_time": "2021-10-01T11:41:32.483Z"
   },
   {
    "duration": 302,
    "start_time": "2021-10-01T11:42:12.202Z"
   },
   {
    "duration": 1012,
    "start_time": "2021-10-01T11:48:08.066Z"
   },
   {
    "duration": 23,
    "start_time": "2021-10-01T11:48:09.081Z"
   },
   {
    "duration": 32,
    "start_time": "2021-10-01T11:48:09.108Z"
   },
   {
    "duration": 7,
    "start_time": "2021-10-01T11:48:09.144Z"
   },
   {
    "duration": 38,
    "start_time": "2021-10-01T11:48:09.154Z"
   },
   {
    "duration": 11,
    "start_time": "2021-10-01T11:48:09.195Z"
   },
   {
    "duration": 8,
    "start_time": "2021-10-01T11:48:09.224Z"
   },
   {
    "duration": 89,
    "start_time": "2021-10-01T11:48:09.238Z"
   },
   {
    "duration": 18,
    "start_time": "2021-10-01T11:48:09.332Z"
   },
   {
    "duration": 12,
    "start_time": "2021-10-01T11:48:09.353Z"
   },
   {
    "duration": 37,
    "start_time": "2021-10-01T11:48:09.368Z"
   },
   {
    "duration": 42,
    "start_time": "2021-10-01T11:48:09.408Z"
   },
   {
    "duration": 37,
    "start_time": "2021-10-01T11:48:09.453Z"
   },
   {
    "duration": 53,
    "start_time": "2021-10-01T11:48:09.493Z"
   },
   {
    "duration": 24,
    "start_time": "2021-10-01T11:48:09.550Z"
   },
   {
    "duration": 67,
    "start_time": "2021-10-01T11:48:09.578Z"
   },
   {
    "duration": 39,
    "start_time": "2021-10-01T11:48:09.648Z"
   },
   {
    "duration": 51,
    "start_time": "2021-10-01T11:48:09.691Z"
   },
   {
    "duration": 10,
    "start_time": "2021-10-01T11:48:09.745Z"
   },
   {
    "duration": 37,
    "start_time": "2021-10-01T11:48:09.758Z"
   },
   {
    "duration": 28,
    "start_time": "2021-10-01T11:48:09.798Z"
   },
   {
    "duration": 13,
    "start_time": "2021-10-01T11:48:09.829Z"
   },
   {
    "duration": 27,
    "start_time": "2021-10-01T11:48:09.847Z"
   },
   {
    "duration": 20,
    "start_time": "2021-10-01T11:48:09.878Z"
   },
   {
    "duration": 23,
    "start_time": "2021-10-01T11:48:09.901Z"
   },
   {
    "duration": 8,
    "start_time": "2021-10-01T11:48:09.927Z"
   },
   {
    "duration": 8,
    "start_time": "2021-10-01T11:48:09.938Z"
   },
   {
    "duration": 5006,
    "start_time": "2021-10-01T11:48:09.949Z"
   },
   {
    "duration": 27,
    "start_time": "2021-10-01T11:48:14.958Z"
   },
   {
    "duration": 427,
    "start_time": "2021-10-01T11:48:14.988Z"
   },
   {
    "duration": 9,
    "start_time": "2021-10-01T11:49:45.346Z"
   },
   {
    "duration": 4,
    "start_time": "2021-10-01T11:57:43.456Z"
   },
   {
    "duration": 119,
    "start_time": "2021-10-01T12:15:10.998Z"
   },
   {
    "duration": 108,
    "start_time": "2021-10-01T12:15:32.037Z"
   },
   {
    "duration": 97,
    "start_time": "2021-10-01T12:15:42.033Z"
   },
   {
    "duration": 103,
    "start_time": "2021-10-01T12:15:48.662Z"
   },
   {
    "duration": 98,
    "start_time": "2021-10-01T12:16:03.423Z"
   },
   {
    "duration": 103,
    "start_time": "2021-10-01T12:16:17.735Z"
   },
   {
    "duration": 100,
    "start_time": "2021-10-01T12:16:25.160Z"
   },
   {
    "duration": 207,
    "start_time": "2021-10-01T12:16:30.831Z"
   },
   {
    "duration": 98,
    "start_time": "2021-10-01T12:17:18.383Z"
   },
   {
    "duration": 2587,
    "start_time": "2021-10-01T14:41:30.080Z"
   },
   {
    "duration": 17,
    "start_time": "2021-10-01T14:41:36.904Z"
   },
   {
    "duration": 362,
    "start_time": "2021-10-01T14:44:57.794Z"
   },
   {
    "duration": 4,
    "start_time": "2021-10-01T14:45:31.242Z"
   },
   {
    "duration": 317,
    "start_time": "2021-10-01T14:45:32.586Z"
   },
   {
    "duration": 790,
    "start_time": "2021-10-01T14:46:27.859Z"
   },
   {
    "duration": 4,
    "start_time": "2021-10-01T14:53:11.400Z"
   },
   {
    "duration": 5,
    "start_time": "2021-10-01T14:53:12.777Z"
   },
   {
    "duration": 9,
    "start_time": "2021-10-01T14:53:14.361Z"
   },
   {
    "duration": 5,
    "start_time": "2021-10-01T14:53:17.305Z"
   },
   {
    "duration": 801,
    "start_time": "2021-10-01T14:53:18.454Z"
   },
   {
    "duration": 316,
    "start_time": "2021-10-01T14:56:06.161Z"
   },
   {
    "duration": 971,
    "start_time": "2021-10-01T14:57:37.308Z"
   },
   {
    "duration": 21,
    "start_time": "2021-10-01T14:58:13.232Z"
   },
   {
    "duration": 4,
    "start_time": "2021-10-01T14:58:57.889Z"
   },
   {
    "duration": 5,
    "start_time": "2021-10-01T14:59:00.358Z"
   },
   {
    "duration": 5,
    "start_time": "2021-10-01T14:59:04.568Z"
   },
   {
    "duration": 296,
    "start_time": "2021-10-01T14:59:07.006Z"
   },
   {
    "duration": 318,
    "start_time": "2021-10-01T14:59:32.320Z"
   },
   {
    "duration": 307,
    "start_time": "2021-10-01T15:00:01.806Z"
   },
   {
    "duration": 368,
    "start_time": "2021-10-01T15:00:47.112Z"
   },
   {
    "duration": 99,
    "start_time": "2021-10-01T15:09:21.502Z"
   },
   {
    "duration": 3825,
    "start_time": "2021-10-01T15:09:33.054Z"
   },
   {
    "duration": 291,
    "start_time": "2021-10-01T15:18:51.532Z"
   },
   {
    "duration": 325,
    "start_time": "2021-10-01T15:19:44.921Z"
   },
   {
    "duration": 320,
    "start_time": "2021-10-01T15:20:50.552Z"
   },
   {
    "duration": 293,
    "start_time": "2021-10-01T15:20:58.575Z"
   },
   {
    "duration": 351,
    "start_time": "2021-10-01T15:25:14.099Z"
   },
   {
    "duration": 117,
    "start_time": "2021-10-01T15:25:53.084Z"
   },
   {
    "duration": 346,
    "start_time": "2021-10-01T15:26:03.564Z"
   },
   {
    "duration": 293,
    "start_time": "2021-10-01T15:28:33.743Z"
   },
   {
    "duration": 5,
    "start_time": "2021-10-01T15:30:00.361Z"
   },
   {
    "duration": 456,
    "start_time": "2021-10-01T15:30:06.352Z"
   },
   {
    "duration": 318,
    "start_time": "2021-10-01T15:35:33.821Z"
   },
   {
    "duration": 371,
    "start_time": "2021-10-01T15:38:11.053Z"
   },
   {
    "duration": 98,
    "start_time": "2021-10-01T15:38:35.935Z"
   },
   {
    "duration": 15,
    "start_time": "2021-10-01T15:38:54.238Z"
   },
   {
    "duration": 30,
    "start_time": "2021-10-01T15:39:12.151Z"
   },
   {
    "duration": 29,
    "start_time": "2021-10-01T15:39:25.576Z"
   },
   {
    "duration": 28,
    "start_time": "2021-10-01T15:39:45.472Z"
   },
   {
    "duration": 4,
    "start_time": "2021-10-01T15:40:05.191Z"
   },
   {
    "duration": 287,
    "start_time": "2021-10-01T15:42:36.876Z"
   },
   {
    "duration": 3710,
    "start_time": "2021-10-01T15:42:47.185Z"
   },
   {
    "duration": 400,
    "start_time": "2021-10-01T15:43:06.780Z"
   },
   {
    "duration": 3897,
    "start_time": "2021-10-01T15:45:11.325Z"
   },
   {
    "duration": 43,
    "start_time": "2021-10-01T15:46:44.338Z"
   },
   {
    "duration": 3084,
    "start_time": "2021-10-01T15:46:54.173Z"
   },
   {
    "duration": 295,
    "start_time": "2021-10-01T15:47:36.028Z"
   },
   {
    "duration": 286,
    "start_time": "2021-10-01T15:52:02.335Z"
   },
   {
    "duration": 299,
    "start_time": "2021-10-01T15:52:09.892Z"
   },
   {
    "duration": 2055,
    "start_time": "2021-10-01T15:52:16.572Z"
   },
   {
    "duration": 359,
    "start_time": "2021-10-01T15:52:21.927Z"
   },
   {
    "duration": 2525,
    "start_time": "2021-10-01T15:52:50.832Z"
   },
   {
    "duration": 16,
    "start_time": "2021-10-01T15:54:34.444Z"
   },
   {
    "duration": 19,
    "start_time": "2021-10-01T15:55:13.734Z"
   },
   {
    "duration": 30,
    "start_time": "2021-10-01T15:55:24.104Z"
   },
   {
    "duration": 100,
    "start_time": "2021-10-01T15:55:43.677Z"
   },
   {
    "duration": 6,
    "start_time": "2021-10-01T15:55:52.188Z"
   },
   {
    "duration": 335,
    "start_time": "2021-10-01T15:56:00.024Z"
   },
   {
    "duration": 98,
    "start_time": "2021-10-01T15:56:17.696Z"
   },
   {
    "duration": 9,
    "start_time": "2021-10-01T15:56:34.742Z"
   },
   {
    "duration": 7,
    "start_time": "2021-10-01T15:57:20.519Z"
   },
   {
    "duration": 8,
    "start_time": "2021-10-01T15:57:52.769Z"
   },
   {
    "duration": 1028,
    "start_time": "2021-10-01T15:58:47.502Z"
   },
   {
    "duration": 23,
    "start_time": "2021-10-01T15:58:48.534Z"
   },
   {
    "duration": 23,
    "start_time": "2021-10-01T15:58:48.560Z"
   },
   {
    "duration": 12,
    "start_time": "2021-10-01T15:58:48.586Z"
   },
   {
    "duration": 26,
    "start_time": "2021-10-01T15:58:48.600Z"
   },
   {
    "duration": 16,
    "start_time": "2021-10-01T15:58:48.634Z"
   },
   {
    "duration": 24,
    "start_time": "2021-10-01T15:58:48.653Z"
   },
   {
    "duration": 64,
    "start_time": "2021-10-01T15:58:48.680Z"
   },
   {
    "duration": 14,
    "start_time": "2021-10-01T15:58:48.748Z"
   },
   {
    "duration": 12,
    "start_time": "2021-10-01T15:58:48.765Z"
   },
   {
    "duration": 44,
    "start_time": "2021-10-01T15:58:48.780Z"
   },
   {
    "duration": 32,
    "start_time": "2021-10-01T15:58:48.826Z"
   },
   {
    "duration": 28,
    "start_time": "2021-10-01T15:58:48.862Z"
   },
   {
    "duration": 66,
    "start_time": "2021-10-01T15:58:48.892Z"
   },
   {
    "duration": 18,
    "start_time": "2021-10-01T15:58:48.961Z"
   },
   {
    "duration": 55,
    "start_time": "2021-10-01T15:58:48.983Z"
   },
   {
    "duration": 33,
    "start_time": "2021-10-01T15:58:49.041Z"
   },
   {
    "duration": 53,
    "start_time": "2021-10-01T15:58:49.077Z"
   },
   {
    "duration": 11,
    "start_time": "2021-10-01T15:58:49.135Z"
   },
   {
    "duration": 38,
    "start_time": "2021-10-01T15:58:49.149Z"
   },
   {
    "duration": 22,
    "start_time": "2021-10-01T15:58:49.190Z"
   },
   {
    "duration": 33,
    "start_time": "2021-10-01T15:58:49.214Z"
   },
   {
    "duration": 33,
    "start_time": "2021-10-01T15:58:49.255Z"
   },
   {
    "duration": 23,
    "start_time": "2021-10-01T15:58:49.292Z"
   },
   {
    "duration": 24,
    "start_time": "2021-10-01T15:58:49.318Z"
   },
   {
    "duration": 18,
    "start_time": "2021-10-01T15:58:49.344Z"
   },
   {
    "duration": 16,
    "start_time": "2021-10-01T15:58:49.364Z"
   },
   {
    "duration": 5373,
    "start_time": "2021-10-01T15:58:49.383Z"
   },
   {
    "duration": 41,
    "start_time": "2021-10-01T15:58:54.760Z"
   },
   {
    "duration": 26,
    "start_time": "2021-10-01T15:58:54.804Z"
   },
   {
    "duration": 13,
    "start_time": "2021-10-01T15:58:54.833Z"
   },
   {
    "duration": 28,
    "start_time": "2021-10-01T15:58:54.852Z"
   },
   {
    "duration": 23,
    "start_time": "2021-10-01T15:58:54.882Z"
   },
   {
    "duration": 51,
    "start_time": "2021-10-01T15:58:54.907Z"
   },
   {
    "duration": 11,
    "start_time": "2021-10-01T15:58:54.961Z"
   },
   {
    "duration": 15,
    "start_time": "2021-10-01T15:59:45.673Z"
   },
   {
    "duration": 1008,
    "start_time": "2021-10-01T16:00:50.620Z"
   },
   {
    "duration": 21,
    "start_time": "2021-10-01T16:00:51.631Z"
   },
   {
    "duration": 19,
    "start_time": "2021-10-01T16:00:51.656Z"
   },
   {
    "duration": 32,
    "start_time": "2021-10-01T16:00:51.678Z"
   },
   {
    "duration": 44,
    "start_time": "2021-10-01T16:00:51.712Z"
   },
   {
    "duration": 41,
    "start_time": "2021-10-01T16:00:51.759Z"
   },
   {
    "duration": 36,
    "start_time": "2021-10-01T16:00:51.802Z"
   },
   {
    "duration": 55,
    "start_time": "2021-10-01T16:00:51.842Z"
   },
   {
    "duration": 12,
    "start_time": "2021-10-01T16:00:51.900Z"
   },
   {
    "duration": 24,
    "start_time": "2021-10-01T16:00:51.914Z"
   },
   {
    "duration": 40,
    "start_time": "2021-10-01T16:00:51.945Z"
   },
   {
    "duration": 48,
    "start_time": "2021-10-01T16:00:51.988Z"
   },
   {
    "duration": 31,
    "start_time": "2021-10-01T16:00:52.038Z"
   },
   {
    "duration": 39,
    "start_time": "2021-10-01T16:00:52.072Z"
   },
   {
    "duration": 38,
    "start_time": "2021-10-01T16:00:52.113Z"
   },
   {
    "duration": 45,
    "start_time": "2021-10-01T16:00:52.154Z"
   },
   {
    "duration": 43,
    "start_time": "2021-10-01T16:00:52.201Z"
   },
   {
    "duration": 26,
    "start_time": "2021-10-01T16:00:52.251Z"
   },
   {
    "duration": 8,
    "start_time": "2021-10-01T16:00:52.281Z"
   },
   {
    "duration": 50,
    "start_time": "2021-10-01T16:00:52.292Z"
   },
   {
    "duration": 18,
    "start_time": "2021-10-01T16:00:52.346Z"
   },
   {
    "duration": 27,
    "start_time": "2021-10-01T16:00:52.366Z"
   },
   {
    "duration": 44,
    "start_time": "2021-10-01T16:00:52.398Z"
   },
   {
    "duration": 19,
    "start_time": "2021-10-01T16:00:52.445Z"
   },
   {
    "duration": 28,
    "start_time": "2021-10-01T16:00:52.466Z"
   },
   {
    "duration": 40,
    "start_time": "2021-10-01T16:00:52.496Z"
   },
   {
    "duration": 34,
    "start_time": "2021-10-01T16:00:52.538Z"
   },
   {
    "duration": 4910,
    "start_time": "2021-10-01T16:00:52.575Z"
   },
   {
    "duration": 25,
    "start_time": "2021-10-01T16:00:57.487Z"
   },
   {
    "duration": 23,
    "start_time": "2021-10-01T16:00:57.514Z"
   },
   {
    "duration": 14,
    "start_time": "2021-10-01T16:00:57.540Z"
   },
   {
    "duration": 27,
    "start_time": "2021-10-01T16:00:57.557Z"
   },
   {
    "duration": 35,
    "start_time": "2021-10-01T16:00:57.586Z"
   },
   {
    "duration": 20,
    "start_time": "2021-10-01T16:00:57.626Z"
   },
   {
    "duration": 2924,
    "start_time": "2021-10-01T16:04:13.032Z"
   },
   {
    "duration": 844,
    "start_time": "2021-10-01T16:11:57.606Z"
   },
   {
    "duration": 15,
    "start_time": "2021-10-01T16:11:58.453Z"
   },
   {
    "duration": 12,
    "start_time": "2021-10-01T16:11:58.471Z"
   },
   {
    "duration": 4,
    "start_time": "2021-10-01T16:11:58.485Z"
   },
   {
    "duration": 13,
    "start_time": "2021-10-01T16:11:58.522Z"
   },
   {
    "duration": 7,
    "start_time": "2021-10-01T16:11:58.537Z"
   },
   {
    "duration": 17,
    "start_time": "2021-10-01T16:11:58.546Z"
   },
   {
    "duration": 63,
    "start_time": "2021-10-01T16:11:58.567Z"
   },
   {
    "duration": 12,
    "start_time": "2021-10-01T16:11:58.633Z"
   },
   {
    "duration": 5,
    "start_time": "2021-10-01T16:11:58.648Z"
   },
   {
    "duration": 20,
    "start_time": "2021-10-01T16:11:58.655Z"
   },
   {
    "duration": 54,
    "start_time": "2021-10-01T16:11:58.678Z"
   },
   {
    "duration": 26,
    "start_time": "2021-10-01T16:11:58.734Z"
   },
   {
    "duration": 24,
    "start_time": "2021-10-01T16:11:58.763Z"
   },
   {
    "duration": 44,
    "start_time": "2021-10-01T16:11:58.790Z"
   },
   {
    "duration": 25,
    "start_time": "2021-10-01T16:11:58.836Z"
   },
   {
    "duration": 26,
    "start_time": "2021-10-01T16:11:58.863Z"
   },
   {
    "duration": 52,
    "start_time": "2021-10-01T16:11:58.891Z"
   },
   {
    "duration": 6,
    "start_time": "2021-10-01T16:11:58.945Z"
   },
   {
    "duration": 16,
    "start_time": "2021-10-01T16:11:58.954Z"
   },
   {
    "duration": 12,
    "start_time": "2021-10-01T16:11:58.972Z"
   },
   {
    "duration": 41,
    "start_time": "2021-10-01T16:11:58.986Z"
   },
   {
    "duration": 20,
    "start_time": "2021-10-01T16:11:59.031Z"
   },
   {
    "duration": 19,
    "start_time": "2021-10-01T16:11:59.053Z"
   },
   {
    "duration": 7,
    "start_time": "2021-10-01T16:11:59.074Z"
   },
   {
    "duration": 11,
    "start_time": "2021-10-01T16:11:59.083Z"
   },
   {
    "duration": 32,
    "start_time": "2021-10-01T16:11:59.096Z"
   },
   {
    "duration": 374,
    "start_time": "2021-10-01T16:16:45.383Z"
   },
   {
    "duration": 107,
    "start_time": "2021-10-01T16:16:50.306Z"
   },
   {
    "duration": 5,
    "start_time": "2021-10-01T16:18:05.449Z"
   },
   {
    "duration": 4685,
    "start_time": "2021-10-01T16:18:08.369Z"
   },
   {
    "duration": 20,
    "start_time": "2021-10-01T16:18:15.336Z"
   },
   {
    "duration": 29,
    "start_time": "2021-10-01T16:18:28.034Z"
   },
   {
    "duration": 3634,
    "start_time": "2021-10-01T16:19:23.409Z"
   },
   {
    "duration": 28,
    "start_time": "2021-10-01T16:19:27.046Z"
   },
   {
    "duration": 25,
    "start_time": "2021-10-01T16:19:45.693Z"
   },
   {
    "duration": 1798,
    "start_time": "2021-10-01T16:19:51.058Z"
   },
   {
    "duration": 20,
    "start_time": "2021-10-01T16:19:52.858Z"
   },
   {
    "duration": 994,
    "start_time": "2021-10-01T16:20:02.228Z"
   },
   {
    "duration": 17,
    "start_time": "2021-10-01T16:20:03.226Z"
   },
   {
    "duration": 16,
    "start_time": "2021-10-01T16:20:03.246Z"
   },
   {
    "duration": 32,
    "start_time": "2021-10-01T16:20:03.265Z"
   },
   {
    "duration": 26,
    "start_time": "2021-10-01T16:20:03.300Z"
   },
   {
    "duration": 13,
    "start_time": "2021-10-01T16:20:03.329Z"
   },
   {
    "duration": 23,
    "start_time": "2021-10-01T16:20:03.344Z"
   },
   {
    "duration": 61,
    "start_time": "2021-10-01T16:20:03.370Z"
   },
   {
    "duration": 13,
    "start_time": "2021-10-01T16:20:03.434Z"
   },
   {
    "duration": 9,
    "start_time": "2021-10-01T16:20:03.449Z"
   },
   {
    "duration": 28,
    "start_time": "2021-10-01T16:20:03.461Z"
   },
   {
    "duration": 39,
    "start_time": "2021-10-01T16:20:03.492Z"
   },
   {
    "duration": 27,
    "start_time": "2021-10-01T16:20:03.534Z"
   },
   {
    "duration": 23,
    "start_time": "2021-10-01T16:20:03.564Z"
   },
   {
    "duration": 40,
    "start_time": "2021-10-01T16:20:03.589Z"
   },
   {
    "duration": 31,
    "start_time": "2021-10-01T16:20:03.632Z"
   },
   {
    "duration": 26,
    "start_time": "2021-10-01T16:20:03.665Z"
   },
   {
    "duration": 43,
    "start_time": "2021-10-01T16:20:03.694Z"
   },
   {
    "duration": 7,
    "start_time": "2021-10-01T16:20:03.739Z"
   },
   {
    "duration": 65,
    "start_time": "2021-10-01T16:20:03.748Z"
   },
   {
    "duration": 15,
    "start_time": "2021-10-01T16:20:03.815Z"
   },
   {
    "duration": 10,
    "start_time": "2021-10-01T16:20:03.832Z"
   },
   {
    "duration": 29,
    "start_time": "2021-10-01T16:20:03.847Z"
   },
   {
    "duration": 12,
    "start_time": "2021-10-01T16:20:03.879Z"
   },
   {
    "duration": 10,
    "start_time": "2021-10-01T16:20:03.894Z"
   },
   {
    "duration": 21,
    "start_time": "2021-10-01T16:20:03.906Z"
   },
   {
    "duration": 13,
    "start_time": "2021-10-01T16:20:03.929Z"
   },
   {
    "duration": 9,
    "start_time": "2021-10-01T16:20:03.944Z"
   },
   {
    "duration": 4447,
    "start_time": "2021-10-01T16:20:03.955Z"
   },
   {
    "duration": 28,
    "start_time": "2021-10-01T16:20:08.405Z"
   },
   {
    "duration": 688,
    "start_time": "2021-10-02T07:36:11.628Z"
   },
   {
    "duration": 10,
    "start_time": "2021-10-02T07:36:12.318Z"
   },
   {
    "duration": 13,
    "start_time": "2021-10-02T07:36:12.331Z"
   },
   {
    "duration": 4,
    "start_time": "2021-10-02T07:36:12.347Z"
   },
   {
    "duration": 27,
    "start_time": "2021-10-02T07:36:12.353Z"
   },
   {
    "duration": 6,
    "start_time": "2021-10-02T07:36:12.382Z"
   },
   {
    "duration": 12,
    "start_time": "2021-10-02T07:36:12.389Z"
   },
   {
    "duration": 32,
    "start_time": "2021-10-02T07:36:12.404Z"
   },
   {
    "duration": 10,
    "start_time": "2021-10-02T07:36:12.438Z"
   },
   {
    "duration": 26,
    "start_time": "2021-10-02T07:36:12.450Z"
   },
   {
    "duration": 18,
    "start_time": "2021-10-02T07:36:12.478Z"
   },
   {
    "duration": 3,
    "start_time": "2021-10-02T07:36:12.498Z"
   },
   {
    "duration": 18,
    "start_time": "2021-10-02T07:36:12.503Z"
   },
   {
    "duration": 21,
    "start_time": "2021-10-02T07:36:12.523Z"
   },
   {
    "duration": 45,
    "start_time": "2021-10-02T07:36:12.546Z"
   },
   {
    "duration": 21,
    "start_time": "2021-10-02T07:36:12.593Z"
   },
   {
    "duration": 15,
    "start_time": "2021-10-02T07:36:12.616Z"
   },
   {
    "duration": 44,
    "start_time": "2021-10-02T07:36:12.633Z"
   },
   {
    "duration": 23,
    "start_time": "2021-10-02T07:36:12.680Z"
   },
   {
    "duration": 21,
    "start_time": "2021-10-02T07:36:12.706Z"
   },
   {
    "duration": 7,
    "start_time": "2021-10-02T07:36:12.729Z"
   },
   {
    "duration": 42,
    "start_time": "2021-10-02T07:36:12.737Z"
   },
   {
    "duration": 6,
    "start_time": "2021-10-02T07:36:12.783Z"
   },
   {
    "duration": 8,
    "start_time": "2021-10-02T07:36:12.791Z"
   },
   {
    "duration": 13,
    "start_time": "2021-10-02T07:36:12.801Z"
   },
   {
    "duration": 7,
    "start_time": "2021-10-02T07:36:12.816Z"
   },
   {
    "duration": 5,
    "start_time": "2021-10-02T07:36:12.825Z"
   },
   {
    "duration": 6,
    "start_time": "2021-10-02T07:36:12.832Z"
   },
   {
    "duration": 7,
    "start_time": "2021-10-02T07:36:12.876Z"
   },
   {
    "duration": 4,
    "start_time": "2021-10-02T07:36:12.885Z"
   },
   {
    "duration": 3611,
    "start_time": "2021-10-02T07:36:12.891Z"
   },
   {
    "duration": 16,
    "start_time": "2021-10-02T07:36:16.504Z"
   },
   {
    "duration": 763,
    "start_time": "2021-10-02T07:36:53.659Z"
   },
   {
    "duration": 11,
    "start_time": "2021-10-02T07:36:54.424Z"
   },
   {
    "duration": 10,
    "start_time": "2021-10-02T07:36:54.439Z"
   },
   {
    "duration": 27,
    "start_time": "2021-10-02T07:36:54.451Z"
   },
   {
    "duration": 12,
    "start_time": "2021-10-02T07:36:54.480Z"
   },
   {
    "duration": 5,
    "start_time": "2021-10-02T07:36:54.494Z"
   },
   {
    "duration": 4,
    "start_time": "2021-10-02T07:36:54.502Z"
   },
   {
    "duration": 27,
    "start_time": "2021-10-02T07:36:54.509Z"
   },
   {
    "duration": 40,
    "start_time": "2021-10-02T07:36:54.538Z"
   },
   {
    "duration": 5,
    "start_time": "2021-10-02T07:36:54.580Z"
   },
   {
    "duration": 13,
    "start_time": "2021-10-02T07:36:54.587Z"
   },
   {
    "duration": 5,
    "start_time": "2021-10-02T07:36:54.602Z"
   },
   {
    "duration": 12,
    "start_time": "2021-10-02T07:36:54.609Z"
   },
   {
    "duration": 54,
    "start_time": "2021-10-02T07:36:54.623Z"
   },
   {
    "duration": 16,
    "start_time": "2021-10-02T07:36:54.679Z"
   },
   {
    "duration": 15,
    "start_time": "2021-10-02T07:36:54.697Z"
   },
   {
    "duration": 12,
    "start_time": "2021-10-02T07:36:54.713Z"
   },
   {
    "duration": 19,
    "start_time": "2021-10-02T07:36:54.727Z"
   },
   {
    "duration": 48,
    "start_time": "2021-10-02T07:36:54.747Z"
   },
   {
    "duration": 16,
    "start_time": "2021-10-02T07:36:54.797Z"
   },
   {
    "duration": 6,
    "start_time": "2021-10-02T07:36:54.814Z"
   },
   {
    "duration": 13,
    "start_time": "2021-10-02T07:36:54.823Z"
   },
   {
    "duration": 7,
    "start_time": "2021-10-02T07:36:54.838Z"
   },
   {
    "duration": 32,
    "start_time": "2021-10-02T07:36:54.847Z"
   },
   {
    "duration": 11,
    "start_time": "2021-10-02T07:36:54.881Z"
   },
   {
    "duration": 7,
    "start_time": "2021-10-02T07:36:54.894Z"
   },
   {
    "duration": 5,
    "start_time": "2021-10-02T07:36:54.903Z"
   },
   {
    "duration": 7,
    "start_time": "2021-10-02T07:36:54.909Z"
   },
   {
    "duration": 6,
    "start_time": "2021-10-02T07:36:54.917Z"
   },
   {
    "duration": 3,
    "start_time": "2021-10-02T07:36:54.925Z"
   },
   {
    "duration": 3875,
    "start_time": "2021-10-02T07:36:54.930Z"
   },
   {
    "duration": 16,
    "start_time": "2021-10-02T07:36:58.807Z"
   },
   {
    "duration": 9,
    "start_time": "2021-10-02T07:42:48.952Z"
   },
   {
    "duration": 12,
    "start_time": "2021-10-02T07:44:58.795Z"
   },
   {
    "duration": 23,
    "start_time": "2021-10-02T07:45:26.822Z"
   },
   {
    "duration": 4,
    "start_time": "2021-10-02T07:50:59.007Z"
   },
   {
    "duration": 449,
    "start_time": "2021-10-02T07:55:14.755Z"
   },
   {
    "duration": 125,
    "start_time": "2021-10-02T07:55:57.077Z"
   },
   {
    "duration": 127,
    "start_time": "2021-10-02T07:56:04.076Z"
   },
   {
    "duration": 673,
    "start_time": "2021-10-02T07:56:12.910Z"
   },
   {
    "duration": 13,
    "start_time": "2021-10-02T07:56:13.586Z"
   },
   {
    "duration": 10,
    "start_time": "2021-10-02T07:56:13.602Z"
   },
   {
    "duration": 3,
    "start_time": "2021-10-02T07:56:13.615Z"
   },
   {
    "duration": 12,
    "start_time": "2021-10-02T07:56:13.620Z"
   },
   {
    "duration": 10,
    "start_time": "2021-10-02T07:56:13.634Z"
   },
   {
    "duration": 31,
    "start_time": "2021-10-02T07:56:13.647Z"
   },
   {
    "duration": 43,
    "start_time": "2021-10-02T07:56:13.682Z"
   },
   {
    "duration": 15,
    "start_time": "2021-10-02T07:56:13.728Z"
   },
   {
    "duration": 4,
    "start_time": "2021-10-02T07:56:13.745Z"
   },
   {
    "duration": 19,
    "start_time": "2021-10-02T07:56:13.776Z"
   },
   {
    "duration": 5,
    "start_time": "2021-10-02T07:56:13.797Z"
   },
   {
    "duration": 18,
    "start_time": "2021-10-02T07:56:13.804Z"
   },
   {
    "duration": 9,
    "start_time": "2021-10-02T07:56:13.824Z"
   },
   {
    "duration": 109,
    "start_time": "2021-10-02T07:56:13.835Z"
   },
   {
    "duration": -327,
    "start_time": "2021-10-02T07:56:14.274Z"
   },
   {
    "duration": -330,
    "start_time": "2021-10-02T07:56:14.278Z"
   },
   {
    "duration": -333,
    "start_time": "2021-10-02T07:56:14.282Z"
   },
   {
    "duration": -334,
    "start_time": "2021-10-02T07:56:14.285Z"
   },
   {
    "duration": -337,
    "start_time": "2021-10-02T07:56:14.289Z"
   },
   {
    "duration": -339,
    "start_time": "2021-10-02T07:56:14.292Z"
   },
   {
    "duration": -340,
    "start_time": "2021-10-02T07:56:14.295Z"
   },
   {
    "duration": -343,
    "start_time": "2021-10-02T07:56:14.299Z"
   },
   {
    "duration": -346,
    "start_time": "2021-10-02T07:56:14.303Z"
   },
   {
    "duration": -346,
    "start_time": "2021-10-02T07:56:14.305Z"
   },
   {
    "duration": -349,
    "start_time": "2021-10-02T07:56:14.309Z"
   },
   {
    "duration": -345,
    "start_time": "2021-10-02T07:56:14.312Z"
   },
   {
    "duration": -346,
    "start_time": "2021-10-02T07:56:14.315Z"
   },
   {
    "duration": -347,
    "start_time": "2021-10-02T07:56:14.318Z"
   },
   {
    "duration": -350,
    "start_time": "2021-10-02T07:56:14.322Z"
   },
   {
    "duration": -352,
    "start_time": "2021-10-02T07:56:14.325Z"
   },
   {
    "duration": -354,
    "start_time": "2021-10-02T07:56:14.328Z"
   },
   {
    "duration": -358,
    "start_time": "2021-10-02T07:56:14.332Z"
   },
   {
    "duration": -364,
    "start_time": "2021-10-02T07:56:14.339Z"
   },
   {
    "duration": 484,
    "start_time": "2021-10-02T07:56:40.007Z"
   },
   {
    "duration": 3,
    "start_time": "2021-10-02T07:56:56.959Z"
   },
   {
    "duration": 9,
    "start_time": "2021-10-02T07:57:22.680Z"
   },
   {
    "duration": 7,
    "start_time": "2021-10-02T07:57:26.832Z"
   },
   {
    "duration": 712,
    "start_time": "2021-10-02T07:58:06.100Z"
   },
   {
    "duration": 18,
    "start_time": "2021-10-02T07:58:06.814Z"
   },
   {
    "duration": 16,
    "start_time": "2021-10-02T07:58:06.834Z"
   },
   {
    "duration": 4,
    "start_time": "2021-10-02T07:58:06.852Z"
   },
   {
    "duration": 16,
    "start_time": "2021-10-02T07:58:06.877Z"
   },
   {
    "duration": 7,
    "start_time": "2021-10-02T07:58:06.895Z"
   },
   {
    "duration": 5,
    "start_time": "2021-10-02T07:58:06.904Z"
   },
   {
    "duration": 69,
    "start_time": "2021-10-02T07:58:06.913Z"
   },
   {
    "duration": 15,
    "start_time": "2021-10-02T07:58:06.985Z"
   },
   {
    "duration": 4,
    "start_time": "2021-10-02T07:58:07.002Z"
   },
   {
    "duration": 13,
    "start_time": "2021-10-02T07:58:07.008Z"
   },
   {
    "duration": 3,
    "start_time": "2021-10-02T07:58:07.023Z"
   },
   {
    "duration": 19,
    "start_time": "2021-10-02T07:58:07.028Z"
   },
   {
    "duration": 34,
    "start_time": "2021-10-02T07:58:07.049Z"
   },
   {
    "duration": 16,
    "start_time": "2021-10-02T07:58:07.085Z"
   },
   {
    "duration": 18,
    "start_time": "2021-10-02T07:58:07.103Z"
   },
   {
    "duration": 17,
    "start_time": "2021-10-02T07:58:07.122Z"
   },
   {
    "duration": 47,
    "start_time": "2021-10-02T07:58:07.140Z"
   },
   {
    "duration": 41,
    "start_time": "2021-10-02T07:58:07.189Z"
   },
   {
    "duration": 19,
    "start_time": "2021-10-02T07:58:07.232Z"
   },
   {
    "duration": 16,
    "start_time": "2021-10-02T07:58:07.253Z"
   },
   {
    "duration": 9,
    "start_time": "2021-10-02T07:58:07.271Z"
   },
   {
    "duration": 13,
    "start_time": "2021-10-02T07:58:07.284Z"
   },
   {
    "duration": 7,
    "start_time": "2021-10-02T07:58:07.300Z"
   },
   {
    "duration": 7,
    "start_time": "2021-10-02T07:58:07.308Z"
   },
   {
    "duration": 16,
    "start_time": "2021-10-02T07:58:07.317Z"
   },
   {
    "duration": 43,
    "start_time": "2021-10-02T07:58:07.335Z"
   },
   {
    "duration": 5,
    "start_time": "2021-10-02T07:58:07.380Z"
   },
   {
    "duration": 9,
    "start_time": "2021-10-02T07:58:07.386Z"
   },
   {
    "duration": 6,
    "start_time": "2021-10-02T07:58:07.397Z"
   },
   {
    "duration": 3,
    "start_time": "2021-10-02T07:58:07.405Z"
   },
   {
    "duration": 4012,
    "start_time": "2021-10-02T07:58:07.410Z"
   },
   {
    "duration": 13,
    "start_time": "2021-10-02T07:58:11.424Z"
   },
   {
    "duration": 15,
    "start_time": "2021-10-02T07:58:54.716Z"
   },
   {
    "duration": 10,
    "start_time": "2021-10-02T07:59:16.244Z"
   },
   {
    "duration": 12,
    "start_time": "2021-10-02T07:59:50.045Z"
   },
   {
    "duration": 7,
    "start_time": "2021-10-02T07:59:53.105Z"
   },
   {
    "duration": 17,
    "start_time": "2021-10-02T08:00:10.424Z"
   },
   {
    "duration": 704,
    "start_time": "2021-10-02T08:00:43.097Z"
   },
   {
    "duration": 12,
    "start_time": "2021-10-02T08:00:43.803Z"
   },
   {
    "duration": 10,
    "start_time": "2021-10-02T08:00:43.817Z"
   },
   {
    "duration": 3,
    "start_time": "2021-10-02T08:00:43.830Z"
   },
   {
    "duration": 11,
    "start_time": "2021-10-02T08:00:43.835Z"
   },
   {
    "duration": 30,
    "start_time": "2021-10-02T08:00:43.849Z"
   },
   {
    "duration": 5,
    "start_time": "2021-10-02T08:00:43.881Z"
   },
   {
    "duration": 27,
    "start_time": "2021-10-02T08:00:43.889Z"
   },
   {
    "duration": 10,
    "start_time": "2021-10-02T08:00:43.918Z"
   },
   {
    "duration": 4,
    "start_time": "2021-10-02T08:00:43.930Z"
   },
   {
    "duration": 54,
    "start_time": "2021-10-02T08:00:43.936Z"
   },
   {
    "duration": 4,
    "start_time": "2021-10-02T08:00:43.993Z"
   },
   {
    "duration": 25,
    "start_time": "2021-10-02T08:00:43.999Z"
   },
   {
    "duration": 8,
    "start_time": "2021-10-02T08:00:44.026Z"
   },
   {
    "duration": 12,
    "start_time": "2021-10-02T08:00:44.036Z"
   },
   {
    "duration": 28,
    "start_time": "2021-10-02T08:00:44.050Z"
   },
   {
    "duration": 15,
    "start_time": "2021-10-02T08:00:44.079Z"
   },
   {
    "duration": 16,
    "start_time": "2021-10-02T08:00:44.096Z"
   },
   {
    "duration": 18,
    "start_time": "2021-10-02T08:00:44.114Z"
   },
   {
    "duration": 45,
    "start_time": "2021-10-02T08:00:44.134Z"
   },
   {
    "duration": 12,
    "start_time": "2021-10-02T08:00:44.181Z"
   },
   {
    "duration": 19,
    "start_time": "2021-10-02T08:00:44.195Z"
   },
   {
    "duration": 19,
    "start_time": "2021-10-02T08:00:44.218Z"
   },
   {
    "duration": 45,
    "start_time": "2021-10-02T08:00:44.239Z"
   },
   {
    "duration": 5,
    "start_time": "2021-10-02T08:00:44.286Z"
   },
   {
    "duration": 14,
    "start_time": "2021-10-02T08:00:44.292Z"
   },
   {
    "duration": 11,
    "start_time": "2021-10-02T08:00:44.308Z"
   },
   {
    "duration": 9,
    "start_time": "2021-10-02T08:00:44.320Z"
   },
   {
    "duration": 14,
    "start_time": "2021-10-02T08:00:44.331Z"
   },
   {
    "duration": 32,
    "start_time": "2021-10-02T08:00:44.347Z"
   },
   {
    "duration": 5,
    "start_time": "2021-10-02T08:00:44.381Z"
   },
   {
    "duration": 7,
    "start_time": "2021-10-02T08:00:44.388Z"
   },
   {
    "duration": 8,
    "start_time": "2021-10-02T08:00:44.397Z"
   },
   {
    "duration": 4,
    "start_time": "2021-10-02T08:00:44.407Z"
   },
   {
    "duration": 4206,
    "start_time": "2021-10-02T08:00:44.413Z"
   },
   {
    "duration": 16,
    "start_time": "2021-10-02T08:00:48.621Z"
   },
   {
    "duration": 744,
    "start_time": "2021-10-02T08:01:50.887Z"
   },
   {
    "duration": 12,
    "start_time": "2021-10-02T08:01:51.633Z"
   },
   {
    "duration": 25,
    "start_time": "2021-10-02T08:01:51.647Z"
   },
   {
    "duration": 30,
    "start_time": "2021-10-02T08:01:51.674Z"
   },
   {
    "duration": 24,
    "start_time": "2021-10-02T08:01:51.705Z"
   },
   {
    "duration": 17,
    "start_time": "2021-10-02T08:01:51.730Z"
   },
   {
    "duration": 24,
    "start_time": "2021-10-02T08:01:51.748Z"
   },
   {
    "duration": 41,
    "start_time": "2021-10-02T08:01:51.775Z"
   },
   {
    "duration": 9,
    "start_time": "2021-10-02T08:01:51.818Z"
   },
   {
    "duration": 21,
    "start_time": "2021-10-02T08:01:51.829Z"
   },
   {
    "duration": 28,
    "start_time": "2021-10-02T08:01:51.852Z"
   },
   {
    "duration": 12,
    "start_time": "2021-10-02T08:01:51.881Z"
   },
   {
    "duration": 29,
    "start_time": "2021-10-02T08:01:51.895Z"
   },
   {
    "duration": 22,
    "start_time": "2021-10-02T08:01:51.926Z"
   },
   {
    "duration": 34,
    "start_time": "2021-10-02T08:01:51.949Z"
   },
   {
    "duration": 18,
    "start_time": "2021-10-02T08:01:51.985Z"
   },
   {
    "duration": 40,
    "start_time": "2021-10-02T08:01:52.005Z"
   },
   {
    "duration": 14,
    "start_time": "2021-10-02T08:01:52.046Z"
   },
   {
    "duration": 48,
    "start_time": "2021-10-02T08:01:52.062Z"
   },
   {
    "duration": 58,
    "start_time": "2021-10-02T08:01:52.112Z"
   },
   {
    "duration": 23,
    "start_time": "2021-10-02T08:01:52.171Z"
   },
   {
    "duration": 13,
    "start_time": "2021-10-02T08:01:52.196Z"
   },
   {
    "duration": 37,
    "start_time": "2021-10-02T08:01:52.212Z"
   },
   {
    "duration": 10,
    "start_time": "2021-10-02T08:01:52.252Z"
   },
   {
    "duration": 31,
    "start_time": "2021-10-02T08:01:52.264Z"
   },
   {
    "duration": 55,
    "start_time": "2021-10-02T08:01:52.298Z"
   },
   {
    "duration": 39,
    "start_time": "2021-10-02T08:01:52.355Z"
   },
   {
    "duration": 14,
    "start_time": "2021-10-02T08:01:52.396Z"
   },
   {
    "duration": 23,
    "start_time": "2021-10-02T08:01:52.411Z"
   },
   {
    "duration": 20,
    "start_time": "2021-10-02T08:01:52.436Z"
   },
   {
    "duration": 29,
    "start_time": "2021-10-02T08:01:52.458Z"
   },
   {
    "duration": 4375,
    "start_time": "2021-10-02T08:01:52.489Z"
   },
   {
    "duration": 20,
    "start_time": "2021-10-02T08:01:56.867Z"
   },
   {
    "duration": 6,
    "start_time": "2021-10-02T08:04:16.182Z"
   },
   {
    "duration": 3,
    "start_time": "2021-10-02T08:04:41.246Z"
   },
   {
    "duration": 5,
    "start_time": "2021-10-02T08:05:01.174Z"
   },
   {
    "duration": 443,
    "start_time": "2021-10-02T08:05:40.719Z"
   },
   {
    "duration": 3,
    "start_time": "2021-10-02T08:05:45.840Z"
   },
   {
    "duration": 4,
    "start_time": "2021-10-02T08:05:48.126Z"
   },
   {
    "duration": 3,
    "start_time": "2021-10-02T08:06:43.639Z"
   },
   {
    "duration": 4,
    "start_time": "2021-10-02T08:06:51.176Z"
   },
   {
    "duration": 884,
    "start_time": "2021-10-02T08:07:00.849Z"
   },
   {
    "duration": 11,
    "start_time": "2021-10-02T08:07:01.735Z"
   },
   {
    "duration": 29,
    "start_time": "2021-10-02T08:07:01.748Z"
   },
   {
    "duration": 27,
    "start_time": "2021-10-02T08:07:01.779Z"
   },
   {
    "duration": 51,
    "start_time": "2021-10-02T08:07:01.808Z"
   },
   {
    "duration": 29,
    "start_time": "2021-10-02T08:07:01.861Z"
   },
   {
    "duration": 14,
    "start_time": "2021-10-02T08:07:01.892Z"
   },
   {
    "duration": 30,
    "start_time": "2021-10-02T08:07:01.909Z"
   },
   {
    "duration": 10,
    "start_time": "2021-10-02T08:07:01.941Z"
   },
   {
    "duration": 12,
    "start_time": "2021-10-02T08:07:01.952Z"
   },
   {
    "duration": 30,
    "start_time": "2021-10-02T08:07:01.965Z"
   },
   {
    "duration": 6,
    "start_time": "2021-10-02T08:07:01.997Z"
   },
   {
    "duration": 26,
    "start_time": "2021-10-02T08:07:02.005Z"
   },
   {
    "duration": 8,
    "start_time": "2021-10-02T08:07:02.033Z"
   },
   {
    "duration": 27,
    "start_time": "2021-10-02T08:07:02.042Z"
   },
   {
    "duration": 12,
    "start_time": "2021-10-02T08:07:02.071Z"
   },
   {
    "duration": 23,
    "start_time": "2021-10-02T08:07:02.085Z"
   },
   {
    "duration": 18,
    "start_time": "2021-10-02T08:07:02.110Z"
   },
   {
    "duration": 17,
    "start_time": "2021-10-02T08:07:02.130Z"
   },
   {
    "duration": 33,
    "start_time": "2021-10-02T08:07:02.148Z"
   },
   {
    "duration": 32,
    "start_time": "2021-10-02T08:07:02.183Z"
   },
   {
    "duration": 17,
    "start_time": "2021-10-02T08:07:02.217Z"
   },
   {
    "duration": 18,
    "start_time": "2021-10-02T08:07:02.237Z"
   },
   {
    "duration": 21,
    "start_time": "2021-10-02T08:07:02.257Z"
   },
   {
    "duration": 12,
    "start_time": "2021-10-02T08:07:02.280Z"
   },
   {
    "duration": 9,
    "start_time": "2021-10-02T08:07:02.294Z"
   },
   {
    "duration": 9,
    "start_time": "2021-10-02T08:07:02.305Z"
   },
   {
    "duration": 24,
    "start_time": "2021-10-02T08:07:02.316Z"
   },
   {
    "duration": 7,
    "start_time": "2021-10-02T08:07:02.342Z"
   },
   {
    "duration": 26,
    "start_time": "2021-10-02T08:07:02.352Z"
   },
   {
    "duration": 14,
    "start_time": "2021-10-02T08:07:02.381Z"
   },
   {
    "duration": 8,
    "start_time": "2021-10-02T08:07:02.397Z"
   },
   {
    "duration": 4,
    "start_time": "2021-10-02T08:07:02.407Z"
   },
   {
    "duration": 3694,
    "start_time": "2021-10-02T08:07:02.413Z"
   },
   {
    "duration": 16,
    "start_time": "2021-10-02T08:07:06.109Z"
   },
   {
    "duration": 4,
    "start_time": "2021-10-02T08:07:36.311Z"
   },
   {
    "duration": 5,
    "start_time": "2021-10-02T08:07:41.000Z"
   },
   {
    "duration": 8,
    "start_time": "2021-10-02T08:37:59.258Z"
   },
   {
    "duration": 7,
    "start_time": "2021-10-02T08:39:06.026Z"
   },
   {
    "duration": 5,
    "start_time": "2021-10-02T08:43:26.648Z"
   },
   {
    "duration": 5,
    "start_time": "2021-10-02T08:43:37.582Z"
   },
   {
    "duration": 7,
    "start_time": "2021-10-02T08:44:29.047Z"
   },
   {
    "duration": 7,
    "start_time": "2021-10-02T08:44:40.960Z"
   },
   {
    "duration": 17,
    "start_time": "2021-10-02T08:44:51.898Z"
   },
   {
    "duration": 6,
    "start_time": "2021-10-02T08:44:59.825Z"
   },
   {
    "duration": 16,
    "start_time": "2021-10-02T08:45:27.255Z"
   },
   {
    "duration": 6,
    "start_time": "2021-10-02T08:45:32.488Z"
   },
   {
    "duration": 15,
    "start_time": "2021-10-02T08:45:39.168Z"
   },
   {
    "duration": 19,
    "start_time": "2021-10-02T08:45:45.705Z"
   },
   {
    "duration": 6,
    "start_time": "2021-10-02T08:45:46.961Z"
   },
   {
    "duration": 18,
    "start_time": "2021-10-02T08:47:01.049Z"
   },
   {
    "duration": 6,
    "start_time": "2021-10-02T08:47:03.625Z"
   },
   {
    "duration": 16,
    "start_time": "2021-10-02T08:47:13.145Z"
   },
   {
    "duration": 6,
    "start_time": "2021-10-02T08:47:15.665Z"
   },
   {
    "duration": 16,
    "start_time": "2021-10-02T08:48:01.283Z"
   },
   {
    "duration": 6,
    "start_time": "2021-10-02T08:48:03.666Z"
   },
   {
    "duration": 16,
    "start_time": "2021-10-02T08:48:19.602Z"
   },
   {
    "duration": 7,
    "start_time": "2021-10-02T08:48:21.122Z"
   },
   {
    "duration": 722,
    "start_time": "2021-10-02T08:48:38.978Z"
   },
   {
    "duration": 15,
    "start_time": "2021-10-02T08:48:39.703Z"
   },
   {
    "duration": 13,
    "start_time": "2021-10-02T08:48:39.720Z"
   },
   {
    "duration": 4,
    "start_time": "2021-10-02T08:48:39.736Z"
   },
   {
    "duration": 15,
    "start_time": "2021-10-02T08:48:39.742Z"
   },
   {
    "duration": 6,
    "start_time": "2021-10-02T08:48:39.776Z"
   },
   {
    "duration": 9,
    "start_time": "2021-10-02T08:48:39.784Z"
   },
   {
    "duration": 33,
    "start_time": "2021-10-02T08:48:39.796Z"
   },
   {
    "duration": 10,
    "start_time": "2021-10-02T08:48:39.831Z"
   },
   {
    "duration": 18,
    "start_time": "2021-10-02T08:48:39.843Z"
   },
   {
    "duration": 25,
    "start_time": "2021-10-02T08:48:39.863Z"
   },
   {
    "duration": 3,
    "start_time": "2021-10-02T08:48:39.890Z"
   },
   {
    "duration": 17,
    "start_time": "2021-10-02T08:48:39.895Z"
   },
   {
    "duration": 9,
    "start_time": "2021-10-02T08:48:39.914Z"
   },
   {
    "duration": 3,
    "start_time": "2021-10-02T08:48:39.925Z"
   },
   {
    "duration": 9,
    "start_time": "2021-10-02T08:48:39.930Z"
   },
   {
    "duration": 16,
    "start_time": "2021-10-02T08:48:39.977Z"
   },
   {
    "duration": 18,
    "start_time": "2021-10-02T08:48:39.994Z"
   },
   {
    "duration": 24,
    "start_time": "2021-10-02T08:48:40.014Z"
   },
   {
    "duration": 11,
    "start_time": "2021-10-02T08:48:40.040Z"
   },
   {
    "duration": 42,
    "start_time": "2021-10-02T08:48:40.053Z"
   },
   {
    "duration": 20,
    "start_time": "2021-10-02T08:48:40.097Z"
   },
   {
    "duration": 17,
    "start_time": "2021-10-02T08:48:40.120Z"
   },
   {
    "duration": 6,
    "start_time": "2021-10-02T08:48:40.139Z"
   },
   {
    "duration": 14,
    "start_time": "2021-10-02T08:48:40.176Z"
   },
   {
    "duration": 8,
    "start_time": "2021-10-02T08:48:40.192Z"
   },
   {
    "duration": 11,
    "start_time": "2021-10-02T08:48:40.202Z"
   },
   {
    "duration": 14,
    "start_time": "2021-10-02T08:48:40.215Z"
   },
   {
    "duration": 10,
    "start_time": "2021-10-02T08:48:40.230Z"
   },
   {
    "duration": 6,
    "start_time": "2021-10-02T08:48:40.242Z"
   },
   {
    "duration": 31,
    "start_time": "2021-10-02T08:48:40.250Z"
   },
   {
    "duration": 10,
    "start_time": "2021-10-02T08:48:40.282Z"
   },
   {
    "duration": 4,
    "start_time": "2021-10-02T08:48:40.294Z"
   },
   {
    "duration": 3937,
    "start_time": "2021-10-02T08:48:40.299Z"
   },
   {
    "duration": 16,
    "start_time": "2021-10-02T08:48:44.238Z"
   },
   {
    "duration": 24,
    "start_time": "2021-10-02T08:48:44.257Z"
   },
   {
    "duration": 18,
    "start_time": "2021-10-02T08:48:44.283Z"
   },
   {
    "duration": 7,
    "start_time": "2021-10-02T08:48:44.303Z"
   },
   {
    "duration": 17,
    "start_time": "2021-10-02T08:48:44.312Z"
   },
   {
    "duration": 7,
    "start_time": "2021-10-02T08:48:44.330Z"
   },
   {
    "duration": 18,
    "start_time": "2021-10-02T08:49:20.564Z"
   },
   {
    "duration": 6,
    "start_time": "2021-10-02T08:49:23.080Z"
   },
   {
    "duration": 669,
    "start_time": "2021-10-02T09:06:34.420Z"
   },
   {
    "duration": 12,
    "start_time": "2021-10-02T09:06:35.091Z"
   },
   {
    "duration": 16,
    "start_time": "2021-10-02T09:06:35.105Z"
   },
   {
    "duration": 3,
    "start_time": "2021-10-02T09:06:35.123Z"
   },
   {
    "duration": 12,
    "start_time": "2021-10-02T09:06:35.128Z"
   },
   {
    "duration": 8,
    "start_time": "2021-10-02T09:06:35.142Z"
   },
   {
    "duration": 26,
    "start_time": "2021-10-02T09:06:35.152Z"
   },
   {
    "duration": 30,
    "start_time": "2021-10-02T09:06:35.180Z"
   },
   {
    "duration": 11,
    "start_time": "2021-10-02T09:06:35.213Z"
   },
   {
    "duration": 4,
    "start_time": "2021-10-02T09:06:35.227Z"
   },
   {
    "duration": 51,
    "start_time": "2021-10-02T09:06:35.233Z"
   },
   {
    "duration": 4,
    "start_time": "2021-10-02T09:06:35.286Z"
   },
   {
    "duration": 14,
    "start_time": "2021-10-02T09:06:35.292Z"
   },
   {
    "duration": 7,
    "start_time": "2021-10-02T09:06:35.308Z"
   },
   {
    "duration": 2,
    "start_time": "2021-10-02T09:06:35.317Z"
   },
   {
    "duration": 11,
    "start_time": "2021-10-02T09:06:35.321Z"
   },
   {
    "duration": 10,
    "start_time": "2021-10-02T09:06:35.335Z"
   },
   {
    "duration": 41,
    "start_time": "2021-10-02T09:06:35.347Z"
   },
   {
    "duration": 6,
    "start_time": "2021-10-02T09:06:35.389Z"
   },
   {
    "duration": 16,
    "start_time": "2021-10-02T09:06:35.396Z"
   },
   {
    "duration": 5,
    "start_time": "2021-10-02T09:06:35.414Z"
   },
   {
    "duration": 18,
    "start_time": "2021-10-02T09:06:35.421Z"
   },
   {
    "duration": 49,
    "start_time": "2021-10-02T09:06:35.441Z"
   },
   {
    "duration": 16,
    "start_time": "2021-10-02T09:06:35.492Z"
   },
   {
    "duration": 11,
    "start_time": "2021-10-02T09:06:35.510Z"
   },
   {
    "duration": 23,
    "start_time": "2021-10-02T09:06:35.523Z"
   },
   {
    "duration": 39,
    "start_time": "2021-10-02T09:06:35.549Z"
   },
   {
    "duration": 15,
    "start_time": "2021-10-02T09:06:35.590Z"
   },
   {
    "duration": 5,
    "start_time": "2021-10-02T09:06:35.607Z"
   },
   {
    "duration": 19,
    "start_time": "2021-10-02T09:06:35.613Z"
   },
   {
    "duration": 9,
    "start_time": "2021-10-02T09:06:35.634Z"
   },
   {
    "duration": 6,
    "start_time": "2021-10-02T09:06:35.645Z"
   },
   {
    "duration": 31,
    "start_time": "2021-10-02T09:06:35.653Z"
   },
   {
    "duration": 5,
    "start_time": "2021-10-02T09:06:35.685Z"
   },
   {
    "duration": 5,
    "start_time": "2021-10-02T09:06:35.692Z"
   },
   {
    "duration": 6,
    "start_time": "2021-10-02T09:06:35.699Z"
   },
   {
    "duration": 6,
    "start_time": "2021-10-02T09:06:35.706Z"
   },
   {
    "duration": 3,
    "start_time": "2021-10-02T09:06:35.714Z"
   },
   {
    "duration": 3663,
    "start_time": "2021-10-02T09:06:35.719Z"
   },
   {
    "duration": 15,
    "start_time": "2021-10-02T09:06:39.385Z"
   },
   {
    "duration": 9,
    "start_time": "2021-10-02T09:15:43.534Z"
   },
   {
    "duration": 8,
    "start_time": "2021-10-02T09:17:16.944Z"
   },
   {
    "duration": 7,
    "start_time": "2021-10-02T09:17:55.104Z"
   },
   {
    "duration": 6,
    "start_time": "2021-10-02T09:17:58.057Z"
   },
   {
    "duration": 11,
    "start_time": "2021-10-02T09:18:12.272Z"
   },
   {
    "duration": 11,
    "start_time": "2021-10-02T09:20:18.323Z"
   },
   {
    "duration": 5,
    "start_time": "2021-10-02T09:20:28.724Z"
   },
   {
    "duration": 6,
    "start_time": "2021-10-02T09:21:56.988Z"
   },
   {
    "duration": 18,
    "start_time": "2021-10-02T09:30:10.891Z"
   },
   {
    "duration": 12,
    "start_time": "2021-10-02T09:30:25.208Z"
   },
   {
    "duration": 8,
    "start_time": "2021-10-02T09:38:43.890Z"
   },
   {
    "duration": 8,
    "start_time": "2021-10-02T09:38:48.038Z"
   },
   {
    "duration": 437,
    "start_time": "2021-10-02T09:49:54.804Z"
   },
   {
    "duration": 5,
    "start_time": "2021-10-02T09:49:58.187Z"
   },
   {
    "duration": 9,
    "start_time": "2021-10-02T09:49:59.131Z"
   },
   {
    "duration": 10,
    "start_time": "2021-10-02T09:50:16.388Z"
   },
   {
    "duration": 6,
    "start_time": "2021-10-02T09:51:02.892Z"
   },
   {
    "duration": 11,
    "start_time": "2021-10-02T09:51:11.476Z"
   },
   {
    "duration": 7,
    "start_time": "2021-10-02T09:59:08.245Z"
   },
   {
    "duration": 6,
    "start_time": "2021-10-02T09:59:10.643Z"
   },
   {
    "duration": 6,
    "start_time": "2021-10-02T09:59:11.986Z"
   },
   {
    "duration": 5,
    "start_time": "2021-10-02T09:59:13.458Z"
   },
   {
    "duration": 6,
    "start_time": "2021-10-02T09:59:22.995Z"
   },
   {
    "duration": 7,
    "start_time": "2021-10-02T09:59:25.218Z"
   },
   {
    "duration": 4,
    "start_time": "2021-10-02T09:59:26.587Z"
   },
   {
    "duration": 4,
    "start_time": "2021-10-02T09:59:27.526Z"
   },
   {
    "duration": 7,
    "start_time": "2021-10-02T09:59:28.419Z"
   },
   {
    "duration": 713,
    "start_time": "2021-10-02T09:59:37.840Z"
   },
   {
    "duration": 11,
    "start_time": "2021-10-02T09:59:38.555Z"
   },
   {
    "duration": 14,
    "start_time": "2021-10-02T09:59:38.571Z"
   },
   {
    "duration": 4,
    "start_time": "2021-10-02T09:59:38.587Z"
   },
   {
    "duration": 15,
    "start_time": "2021-10-02T09:59:38.592Z"
   },
   {
    "duration": 21,
    "start_time": "2021-10-02T09:59:38.609Z"
   },
   {
    "duration": 5,
    "start_time": "2021-10-02T09:59:38.633Z"
   },
   {
    "duration": 42,
    "start_time": "2021-10-02T09:59:38.640Z"
   },
   {
    "duration": 9,
    "start_time": "2021-10-02T09:59:38.684Z"
   },
   {
    "duration": 4,
    "start_time": "2021-10-02T09:59:38.695Z"
   },
   {
    "duration": 16,
    "start_time": "2021-10-02T09:59:38.701Z"
   },
   {
    "duration": 4,
    "start_time": "2021-10-02T09:59:38.719Z"
   },
   {
    "duration": 22,
    "start_time": "2021-10-02T09:59:38.725Z"
   },
   {
    "duration": 30,
    "start_time": "2021-10-02T09:59:38.749Z"
   },
   {
    "duration": 3,
    "start_time": "2021-10-02T09:59:38.781Z"
   },
   {
    "duration": 7,
    "start_time": "2021-10-02T09:59:38.786Z"
   },
   {
    "duration": 6,
    "start_time": "2021-10-02T09:59:38.795Z"
   },
   {
    "duration": 16,
    "start_time": "2021-10-02T09:59:38.802Z"
   },
   {
    "duration": 5,
    "start_time": "2021-10-02T09:59:38.820Z"
   },
   {
    "duration": 58,
    "start_time": "2021-10-02T09:59:38.827Z"
   },
   {
    "duration": 6,
    "start_time": "2021-10-02T09:59:38.887Z"
   },
   {
    "duration": 17,
    "start_time": "2021-10-02T09:59:38.897Z"
   },
   {
    "duration": 18,
    "start_time": "2021-10-02T09:59:38.917Z"
   },
   {
    "duration": 49,
    "start_time": "2021-10-02T09:59:38.937Z"
   },
   {
    "duration": 11,
    "start_time": "2021-10-02T09:59:38.988Z"
   },
   {
    "duration": 20,
    "start_time": "2021-10-02T09:59:39.001Z"
   },
   {
    "duration": 18,
    "start_time": "2021-10-02T09:59:39.022Z"
   },
   {
    "duration": 51,
    "start_time": "2021-10-02T09:59:39.042Z"
   },
   {
    "duration": 6,
    "start_time": "2021-10-02T09:59:39.094Z"
   },
   {
    "duration": 14,
    "start_time": "2021-10-02T09:59:39.101Z"
   },
   {
    "duration": 7,
    "start_time": "2021-10-02T09:59:39.116Z"
   },
   {
    "duration": 6,
    "start_time": "2021-10-02T09:59:39.124Z"
   },
   {
    "duration": 12,
    "start_time": "2021-10-02T09:59:39.176Z"
   },
   {
    "duration": 7,
    "start_time": "2021-10-02T09:59:39.190Z"
   },
   {
    "duration": 5,
    "start_time": "2021-10-02T09:59:39.198Z"
   },
   {
    "duration": 9,
    "start_time": "2021-10-02T09:59:39.204Z"
   },
   {
    "duration": 6,
    "start_time": "2021-10-02T09:59:39.215Z"
   },
   {
    "duration": 3,
    "start_time": "2021-10-02T09:59:39.223Z"
   },
   {
    "duration": 4014,
    "start_time": "2021-10-02T09:59:39.228Z"
   },
   {
    "duration": 13,
    "start_time": "2021-10-02T09:59:43.244Z"
   },
   {
    "duration": 27,
    "start_time": "2021-10-02T09:59:43.259Z"
   },
   {
    "duration": 20,
    "start_time": "2021-10-02T09:59:43.288Z"
   },
   {
    "duration": 24,
    "start_time": "2021-10-02T09:59:43.310Z"
   },
   {
    "duration": 6,
    "start_time": "2021-10-02T09:59:43.336Z"
   },
   {
    "duration": 14,
    "start_time": "2021-10-02T09:59:43.344Z"
   },
   {
    "duration": 6,
    "start_time": "2021-10-02T09:59:43.361Z"
   },
   {
    "duration": 18,
    "start_time": "2021-10-02T09:59:43.369Z"
   },
   {
    "duration": 5,
    "start_time": "2021-10-02T09:59:43.389Z"
   },
   {
    "duration": 7,
    "start_time": "2021-10-02T10:00:03.384Z"
   },
   {
    "duration": 92,
    "start_time": "2021-10-02T10:00:24.226Z"
   },
   {
    "duration": 11,
    "start_time": "2021-10-02T10:00:24.320Z"
   },
   {
    "duration": 11,
    "start_time": "2021-10-02T10:00:24.334Z"
   },
   {
    "duration": 5,
    "start_time": "2021-10-02T10:00:24.378Z"
   },
   {
    "duration": 14,
    "start_time": "2021-10-02T10:00:24.385Z"
   },
   {
    "duration": 6,
    "start_time": "2021-10-02T10:00:24.402Z"
   },
   {
    "duration": 6,
    "start_time": "2021-10-02T10:00:24.410Z"
   },
   {
    "duration": 65,
    "start_time": "2021-10-02T10:00:24.420Z"
   },
   {
    "duration": 11,
    "start_time": "2021-10-02T10:00:24.488Z"
   },
   {
    "duration": 5,
    "start_time": "2021-10-02T10:00:24.502Z"
   },
   {
    "duration": 14,
    "start_time": "2021-10-02T10:00:24.509Z"
   },
   {
    "duration": 4,
    "start_time": "2021-10-02T10:00:24.525Z"
   },
   {
    "duration": 20,
    "start_time": "2021-10-02T10:00:24.531Z"
   },
   {
    "duration": 30,
    "start_time": "2021-10-02T10:00:24.553Z"
   },
   {
    "duration": 4,
    "start_time": "2021-10-02T10:00:24.585Z"
   },
   {
    "duration": 8,
    "start_time": "2021-10-02T10:00:24.591Z"
   },
   {
    "duration": 9,
    "start_time": "2021-10-02T10:00:24.601Z"
   },
   {
    "duration": 18,
    "start_time": "2021-10-02T10:00:24.613Z"
   },
   {
    "duration": 6,
    "start_time": "2021-10-02T10:00:24.633Z"
   },
   {
    "duration": 17,
    "start_time": "2021-10-02T10:00:24.677Z"
   },
   {
    "duration": 7,
    "start_time": "2021-10-02T10:00:24.696Z"
   },
   {
    "duration": 16,
    "start_time": "2021-10-02T10:00:24.705Z"
   },
   {
    "duration": 17,
    "start_time": "2021-10-02T10:00:24.726Z"
   },
   {
    "duration": 18,
    "start_time": "2021-10-02T10:00:24.778Z"
   },
   {
    "duration": 13,
    "start_time": "2021-10-02T10:00:24.798Z"
   },
   {
    "duration": 28,
    "start_time": "2021-10-02T10:00:24.813Z"
   },
   {
    "duration": 42,
    "start_time": "2021-10-02T10:00:24.843Z"
   },
   {
    "duration": 19,
    "start_time": "2021-10-02T10:00:24.887Z"
   },
   {
    "duration": 6,
    "start_time": "2021-10-02T10:00:24.908Z"
   },
   {
    "duration": 14,
    "start_time": "2021-10-02T10:00:24.916Z"
   },
   {
    "duration": 6,
    "start_time": "2021-10-02T10:00:24.932Z"
   },
   {
    "duration": 40,
    "start_time": "2021-10-02T10:00:24.940Z"
   },
   {
    "duration": 15,
    "start_time": "2021-10-02T10:00:24.982Z"
   },
   {
    "duration": 14,
    "start_time": "2021-10-02T10:00:24.999Z"
   },
   {
    "duration": 7,
    "start_time": "2021-10-02T10:00:25.015Z"
   },
   {
    "duration": 14,
    "start_time": "2021-10-02T10:00:25.025Z"
   },
   {
    "duration": 13,
    "start_time": "2021-10-02T10:00:25.041Z"
   },
   {
    "duration": 26,
    "start_time": "2021-10-02T10:00:25.056Z"
   },
   {
    "duration": 4167,
    "start_time": "2021-10-02T10:00:25.085Z"
   },
   {
    "duration": 27,
    "start_time": "2021-10-02T10:00:29.254Z"
   },
   {
    "duration": 12,
    "start_time": "2021-10-02T10:00:29.284Z"
   },
   {
    "duration": 10,
    "start_time": "2021-10-02T10:00:29.298Z"
   },
   {
    "duration": 6,
    "start_time": "2021-10-02T10:00:29.310Z"
   },
   {
    "duration": 6,
    "start_time": "2021-10-02T10:00:29.317Z"
   },
   {
    "duration": 9,
    "start_time": "2021-10-02T10:00:29.325Z"
   },
   {
    "duration": 7,
    "start_time": "2021-10-02T10:00:29.337Z"
   },
   {
    "duration": 33,
    "start_time": "2021-10-02T10:00:29.346Z"
   },
   {
    "duration": 5,
    "start_time": "2021-10-02T10:00:29.381Z"
   },
   {
    "duration": 7,
    "start_time": "2021-10-02T10:00:38.080Z"
   },
   {
    "duration": 6,
    "start_time": "2021-10-02T10:00:40.504Z"
   },
   {
    "duration": 4,
    "start_time": "2021-10-02T10:00:42.663Z"
   },
   {
    "duration": 5,
    "start_time": "2021-10-02T10:00:57.368Z"
   },
   {
    "duration": 6,
    "start_time": "2021-10-02T10:01:11.689Z"
   },
   {
    "duration": 404,
    "start_time": "2021-10-02T10:01:36.025Z"
   },
   {
    "duration": 5,
    "start_time": "2021-10-02T10:01:47.394Z"
   },
   {
    "duration": 7,
    "start_time": "2021-10-02T10:03:10.522Z"
   },
   {
    "duration": 4,
    "start_time": "2021-10-02T10:03:13.602Z"
   },
   {
    "duration": 13,
    "start_time": "2021-10-02T10:03:36.579Z"
   },
   {
    "duration": 4,
    "start_time": "2021-10-02T10:03:39.562Z"
   },
   {
    "duration": 125,
    "start_time": "2021-10-02T10:04:50.267Z"
   },
   {
    "duration": 125,
    "start_time": "2021-10-02T10:04:54.324Z"
   },
   {
    "duration": 8,
    "start_time": "2021-10-02T10:04:57.964Z"
   },
   {
    "duration": 3,
    "start_time": "2021-10-02T10:08:53.736Z"
   },
   {
    "duration": 18,
    "start_time": "2021-10-02T10:09:50.784Z"
   },
   {
    "duration": 8,
    "start_time": "2021-10-02T10:10:00.120Z"
   },
   {
    "duration": 5,
    "start_time": "2021-10-02T10:10:18.962Z"
   },
   {
    "duration": 19,
    "start_time": "2021-10-02T10:10:20.034Z"
   },
   {
    "duration": 15,
    "start_time": "2021-10-02T10:10:21.081Z"
   },
   {
    "duration": 6,
    "start_time": "2021-10-02T10:12:41.996Z"
   },
   {
    "duration": 20,
    "start_time": "2021-10-02T10:12:45.395Z"
   },
   {
    "duration": 15,
    "start_time": "2021-10-02T10:13:40.291Z"
   },
   {
    "duration": 5,
    "start_time": "2021-10-02T10:13:42.499Z"
   },
   {
    "duration": 4,
    "start_time": "2021-10-02T10:14:24.771Z"
   },
   {
    "duration": 3,
    "start_time": "2021-10-02T10:14:27.908Z"
   },
   {
    "duration": 15,
    "start_time": "2021-10-02T10:14:28.805Z"
   },
   {
    "duration": 10,
    "start_time": "2021-10-02T10:14:33.831Z"
   },
   {
    "duration": 5,
    "start_time": "2021-10-02T10:15:19.060Z"
   },
   {
    "duration": 27,
    "start_time": "2021-10-02T10:15:21.404Z"
   },
   {
    "duration": 5,
    "start_time": "2021-10-02T10:18:32.433Z"
   },
   {
    "duration": 21,
    "start_time": "2021-10-02T10:18:34.831Z"
   },
   {
    "duration": 8,
    "start_time": "2021-10-02T10:18:42.432Z"
   },
   {
    "duration": 4,
    "start_time": "2021-10-02T10:19:53.184Z"
   },
   {
    "duration": 22,
    "start_time": "2021-10-02T10:19:55.272Z"
   },
   {
    "duration": 8,
    "start_time": "2021-10-02T10:19:57.624Z"
   },
   {
    "duration": 4,
    "start_time": "2021-10-02T10:21:09.338Z"
   },
   {
    "duration": 17,
    "start_time": "2021-10-02T10:21:11.900Z"
   },
   {
    "duration": 13,
    "start_time": "2021-10-02T10:21:47.994Z"
   },
   {
    "duration": 4,
    "start_time": "2021-10-02T10:24:29.044Z"
   },
   {
    "duration": 19,
    "start_time": "2021-10-02T10:24:31.606Z"
   },
   {
    "duration": 10,
    "start_time": "2021-10-02T10:24:42.788Z"
   },
   {
    "duration": 4,
    "start_time": "2021-10-02T10:25:01.605Z"
   },
   {
    "duration": 16,
    "start_time": "2021-10-02T10:25:03.980Z"
   },
   {
    "duration": 4,
    "start_time": "2021-10-02T10:25:59.110Z"
   },
   {
    "duration": 17,
    "start_time": "2021-10-02T10:26:00.998Z"
   },
   {
    "duration": 8,
    "start_time": "2021-10-02T10:26:02.253Z"
   },
   {
    "duration": 4,
    "start_time": "2021-10-02T10:27:14.534Z"
   },
   {
    "duration": 16,
    "start_time": "2021-10-02T10:27:17.254Z"
   },
   {
    "duration": 8,
    "start_time": "2021-10-02T10:27:19.006Z"
   },
   {
    "duration": 671,
    "start_time": "2021-10-02T10:34:18.832Z"
   },
   {
    "duration": 13,
    "start_time": "2021-10-02T10:34:19.508Z"
   },
   {
    "duration": 11,
    "start_time": "2021-10-02T10:34:19.523Z"
   },
   {
    "duration": 4,
    "start_time": "2021-10-02T10:34:19.536Z"
   },
   {
    "duration": 42,
    "start_time": "2021-10-02T10:34:19.542Z"
   },
   {
    "duration": 5,
    "start_time": "2021-10-02T10:34:19.586Z"
   },
   {
    "duration": 4,
    "start_time": "2021-10-02T10:34:19.594Z"
   },
   {
    "duration": 27,
    "start_time": "2021-10-02T10:34:19.600Z"
   },
   {
    "duration": 9,
    "start_time": "2021-10-02T10:34:19.629Z"
   },
   {
    "duration": 36,
    "start_time": "2021-10-02T10:34:19.640Z"
   },
   {
    "duration": 12,
    "start_time": "2021-10-02T10:34:19.678Z"
   },
   {
    "duration": 3,
    "start_time": "2021-10-02T10:34:19.692Z"
   },
   {
    "duration": 14,
    "start_time": "2021-10-02T10:34:19.697Z"
   },
   {
    "duration": 8,
    "start_time": "2021-10-02T10:34:19.713Z"
   },
   {
    "duration": 2,
    "start_time": "2021-10-02T10:34:19.723Z"
   },
   {
    "duration": 6,
    "start_time": "2021-10-02T10:34:19.727Z"
   },
   {
    "duration": 44,
    "start_time": "2021-10-02T10:34:19.734Z"
   },
   {
    "duration": 16,
    "start_time": "2021-10-02T10:34:19.780Z"
   },
   {
    "duration": 6,
    "start_time": "2021-10-02T10:34:19.797Z"
   },
   {
    "duration": 18,
    "start_time": "2021-10-02T10:34:19.804Z"
   },
   {
    "duration": 6,
    "start_time": "2021-10-02T10:34:19.823Z"
   },
   {
    "duration": 45,
    "start_time": "2021-10-02T10:34:19.832Z"
   },
   {
    "duration": 17,
    "start_time": "2021-10-02T10:34:19.879Z"
   },
   {
    "duration": 14,
    "start_time": "2021-10-02T10:34:19.898Z"
   },
   {
    "duration": 11,
    "start_time": "2021-10-02T10:34:19.914Z"
   },
   {
    "duration": 20,
    "start_time": "2021-10-02T10:34:19.927Z"
   },
   {
    "duration": 43,
    "start_time": "2021-10-02T10:34:19.949Z"
   },
   {
    "duration": 16,
    "start_time": "2021-10-02T10:34:19.993Z"
   },
   {
    "duration": 5,
    "start_time": "2021-10-02T10:34:20.010Z"
   },
   {
    "duration": 15,
    "start_time": "2021-10-02T10:34:20.016Z"
   },
   {
    "duration": 6,
    "start_time": "2021-10-02T10:34:20.033Z"
   },
   {
    "duration": 36,
    "start_time": "2021-10-02T10:34:20.041Z"
   },
   {
    "duration": 11,
    "start_time": "2021-10-02T10:34:20.079Z"
   },
   {
    "duration": 6,
    "start_time": "2021-10-02T10:34:20.092Z"
   },
   {
    "duration": 7,
    "start_time": "2021-10-02T10:34:20.100Z"
   },
   {
    "duration": 7,
    "start_time": "2021-10-02T10:34:20.108Z"
   },
   {
    "duration": 7,
    "start_time": "2021-10-02T10:34:20.116Z"
   },
   {
    "duration": 5,
    "start_time": "2021-10-02T10:34:20.124Z"
   },
   {
    "duration": 3961,
    "start_time": "2021-10-02T10:34:20.131Z"
   },
   {
    "duration": 13,
    "start_time": "2021-10-02T10:34:24.095Z"
   },
   {
    "duration": 12,
    "start_time": "2021-10-02T10:34:24.110Z"
   },
   {
    "duration": 9,
    "start_time": "2021-10-02T10:34:24.123Z"
   },
   {
    "duration": 16,
    "start_time": "2021-10-02T10:34:24.134Z"
   },
   {
    "duration": 26,
    "start_time": "2021-10-02T10:34:24.152Z"
   },
   {
    "duration": 7,
    "start_time": "2021-10-02T10:34:24.180Z"
   },
   {
    "duration": 9,
    "start_time": "2021-10-02T10:34:24.189Z"
   },
   {
    "duration": 6,
    "start_time": "2021-10-02T10:34:24.200Z"
   },
   {
    "duration": 11,
    "start_time": "2021-10-02T10:34:24.208Z"
   },
   {
    "duration": 10,
    "start_time": "2021-10-02T10:34:24.221Z"
   },
   {
    "duration": 10,
    "start_time": "2021-10-02T10:34:24.233Z"
   },
   {
    "duration": 32,
    "start_time": "2021-10-02T10:34:24.244Z"
   },
   {
    "duration": 7,
    "start_time": "2021-10-02T10:34:24.278Z"
   },
   {
    "duration": 26,
    "start_time": "2021-10-02T10:34:24.287Z"
   },
   {
    "duration": 3,
    "start_time": "2021-10-02T10:36:07.184Z"
   },
   {
    "duration": 16,
    "start_time": "2021-10-02T10:36:08.969Z"
   },
   {
    "duration": 9,
    "start_time": "2021-10-02T10:36:36.167Z"
   },
   {
    "duration": 6,
    "start_time": "2021-10-02T10:38:16.256Z"
   },
   {
    "duration": 7,
    "start_time": "2021-10-02T10:38:17.521Z"
   },
   {
    "duration": 4,
    "start_time": "2021-10-02T10:39:17.498Z"
   },
   {
    "duration": 2711,
    "start_time": "2021-10-02T10:39:18.929Z"
   },
   {
    "duration": 4,
    "start_time": "2021-10-02T10:39:34.586Z"
   },
   {
    "duration": 17,
    "start_time": "2021-10-02T10:39:37.634Z"
   },
   {
    "duration": 8,
    "start_time": "2021-10-02T10:39:43.194Z"
   },
   {
    "duration": 8,
    "start_time": "2021-10-02T10:39:51.410Z"
   },
   {
    "duration": 9,
    "start_time": "2021-10-02T10:39:52.665Z"
   },
   {
    "duration": 8,
    "start_time": "2021-10-02T10:40:04.082Z"
   },
   {
    "duration": 773,
    "start_time": "2021-10-02T10:40:11.949Z"
   },
   {
    "duration": 13,
    "start_time": "2021-10-02T10:40:12.724Z"
   },
   {
    "duration": 13,
    "start_time": "2021-10-02T10:40:12.740Z"
   },
   {
    "duration": 23,
    "start_time": "2021-10-02T10:40:12.755Z"
   },
   {
    "duration": 11,
    "start_time": "2021-10-02T10:40:12.779Z"
   },
   {
    "duration": 7,
    "start_time": "2021-10-02T10:40:12.792Z"
   },
   {
    "duration": 7,
    "start_time": "2021-10-02T10:40:12.801Z"
   },
   {
    "duration": 27,
    "start_time": "2021-10-02T10:40:12.812Z"
   },
   {
    "duration": 39,
    "start_time": "2021-10-02T10:40:12.842Z"
   },
   {
    "duration": 4,
    "start_time": "2021-10-02T10:40:12.883Z"
   },
   {
    "duration": 14,
    "start_time": "2021-10-02T10:40:12.889Z"
   },
   {
    "duration": 4,
    "start_time": "2021-10-02T10:40:12.905Z"
   },
   {
    "duration": 13,
    "start_time": "2021-10-02T10:40:12.911Z"
   },
   {
    "duration": 8,
    "start_time": "2021-10-02T10:40:12.927Z"
   },
   {
    "duration": 41,
    "start_time": "2021-10-02T10:40:12.936Z"
   },
   {
    "duration": 6,
    "start_time": "2021-10-02T10:40:12.979Z"
   },
   {
    "duration": 7,
    "start_time": "2021-10-02T10:40:12.986Z"
   },
   {
    "duration": 14,
    "start_time": "2021-10-02T10:40:12.994Z"
   },
   {
    "duration": 6,
    "start_time": "2021-10-02T10:40:13.010Z"
   },
   {
    "duration": 14,
    "start_time": "2021-10-02T10:40:13.017Z"
   },
   {
    "duration": 46,
    "start_time": "2021-10-02T10:40:13.033Z"
   },
   {
    "duration": 16,
    "start_time": "2021-10-02T10:40:13.081Z"
   },
   {
    "duration": 18,
    "start_time": "2021-10-02T10:40:13.101Z"
   },
   {
    "duration": 15,
    "start_time": "2021-10-02T10:40:13.121Z"
   },
   {
    "duration": 11,
    "start_time": "2021-10-02T10:40:13.138Z"
   },
   {
    "duration": 42,
    "start_time": "2021-10-02T10:40:13.151Z"
   },
   {
    "duration": 18,
    "start_time": "2021-10-02T10:40:13.195Z"
   },
   {
    "duration": 15,
    "start_time": "2021-10-02T10:40:13.215Z"
   },
   {
    "duration": 4,
    "start_time": "2021-10-02T10:40:13.232Z"
   },
   {
    "duration": 42,
    "start_time": "2021-10-02T10:40:13.238Z"
   },
   {
    "duration": 5,
    "start_time": "2021-10-02T10:40:13.281Z"
   },
   {
    "duration": 12,
    "start_time": "2021-10-02T10:40:13.287Z"
   },
   {
    "duration": 16,
    "start_time": "2021-10-02T10:40:13.301Z"
   },
   {
    "duration": 8,
    "start_time": "2021-10-02T10:40:13.319Z"
   },
   {
    "duration": 5,
    "start_time": "2021-10-02T10:40:13.329Z"
   },
   {
    "duration": 5,
    "start_time": "2021-10-02T10:40:13.335Z"
   },
   {
    "duration": 35,
    "start_time": "2021-10-02T10:40:13.342Z"
   },
   {
    "duration": 3,
    "start_time": "2021-10-02T10:40:13.379Z"
   },
   {
    "duration": 3769,
    "start_time": "2021-10-02T10:40:13.384Z"
   },
   {
    "duration": 22,
    "start_time": "2021-10-02T10:40:17.156Z"
   },
   {
    "duration": 18,
    "start_time": "2021-10-02T10:40:17.180Z"
   },
   {
    "duration": 17,
    "start_time": "2021-10-02T10:40:17.200Z"
   },
   {
    "duration": 21,
    "start_time": "2021-10-02T10:40:17.219Z"
   },
   {
    "duration": 9,
    "start_time": "2021-10-02T10:40:17.241Z"
   },
   {
    "duration": 7,
    "start_time": "2021-10-02T10:40:17.252Z"
   },
   {
    "duration": 19,
    "start_time": "2021-10-02T10:40:17.261Z"
   },
   {
    "duration": 15,
    "start_time": "2021-10-02T10:40:17.282Z"
   },
   {
    "duration": 13,
    "start_time": "2021-10-02T10:40:17.299Z"
   },
   {
    "duration": 19,
    "start_time": "2021-10-02T10:40:17.314Z"
   },
   {
    "duration": 30,
    "start_time": "2021-10-02T10:40:17.335Z"
   },
   {
    "duration": 8,
    "start_time": "2021-10-02T10:40:17.367Z"
   },
   {
    "duration": 20,
    "start_time": "2021-10-02T10:40:17.377Z"
   },
   {
    "duration": 14,
    "start_time": "2021-10-02T10:40:17.399Z"
   },
   {
    "duration": 13,
    "start_time": "2021-10-02T10:40:54.909Z"
   },
   {
    "duration": 4,
    "start_time": "2021-10-02T10:46:19.858Z"
   },
   {
    "duration": 15,
    "start_time": "2021-10-02T10:46:22.307Z"
   },
   {
    "duration": 8,
    "start_time": "2021-10-02T10:46:24.139Z"
   },
   {
    "duration": 12,
    "start_time": "2021-10-02T10:46:29.122Z"
   },
   {
    "duration": 709,
    "start_time": "2021-10-02T10:46:37.054Z"
   },
   {
    "duration": 11,
    "start_time": "2021-10-02T10:46:37.765Z"
   },
   {
    "duration": 10,
    "start_time": "2021-10-02T10:46:37.778Z"
   },
   {
    "duration": 3,
    "start_time": "2021-10-02T10:46:37.790Z"
   },
   {
    "duration": 19,
    "start_time": "2021-10-02T10:46:37.795Z"
   },
   {
    "duration": 6,
    "start_time": "2021-10-02T10:46:37.816Z"
   },
   {
    "duration": 12,
    "start_time": "2021-10-02T10:46:37.824Z"
   },
   {
    "duration": 46,
    "start_time": "2021-10-02T10:46:37.839Z"
   },
   {
    "duration": 9,
    "start_time": "2021-10-02T10:46:37.887Z"
   },
   {
    "duration": 6,
    "start_time": "2021-10-02T10:46:37.898Z"
   },
   {
    "duration": 25,
    "start_time": "2021-10-02T10:46:37.905Z"
   },
   {
    "duration": 3,
    "start_time": "2021-10-02T10:46:37.932Z"
   },
   {
    "duration": 19,
    "start_time": "2021-10-02T10:46:37.937Z"
   },
   {
    "duration": 19,
    "start_time": "2021-10-02T10:46:37.958Z"
   },
   {
    "duration": 3,
    "start_time": "2021-10-02T10:46:37.979Z"
   },
   {
    "duration": 8,
    "start_time": "2021-10-02T10:46:37.984Z"
   },
   {
    "duration": 11,
    "start_time": "2021-10-02T10:46:37.993Z"
   },
   {
    "duration": 26,
    "start_time": "2021-10-02T10:46:38.005Z"
   },
   {
    "duration": 7,
    "start_time": "2021-10-02T10:46:38.032Z"
   },
   {
    "duration": 37,
    "start_time": "2021-10-02T10:46:38.040Z"
   },
   {
    "duration": 6,
    "start_time": "2021-10-02T10:46:38.079Z"
   },
   {
    "duration": 22,
    "start_time": "2021-10-02T10:46:38.087Z"
   },
   {
    "duration": 18,
    "start_time": "2021-10-02T10:46:38.113Z"
   },
   {
    "duration": 17,
    "start_time": "2021-10-02T10:46:38.134Z"
   },
   {
    "duration": 35,
    "start_time": "2021-10-02T10:46:38.152Z"
   },
   {
    "duration": 24,
    "start_time": "2021-10-02T10:46:38.189Z"
   },
   {
    "duration": 19,
    "start_time": "2021-10-02T10:46:38.214Z"
   },
   {
    "duration": 16,
    "start_time": "2021-10-02T10:46:38.235Z"
   },
   {
    "duration": 25,
    "start_time": "2021-10-02T10:46:38.253Z"
   },
   {
    "duration": 13,
    "start_time": "2021-10-02T10:46:38.280Z"
   },
   {
    "duration": 9,
    "start_time": "2021-10-02T10:46:38.295Z"
   },
   {
    "duration": 8,
    "start_time": "2021-10-02T10:46:38.305Z"
   },
   {
    "duration": 14,
    "start_time": "2021-10-02T10:46:38.315Z"
   },
   {
    "duration": 6,
    "start_time": "2021-10-02T10:46:38.330Z"
   },
   {
    "duration": 40,
    "start_time": "2021-10-02T10:46:38.338Z"
   },
   {
    "duration": 11,
    "start_time": "2021-10-02T10:46:38.380Z"
   },
   {
    "duration": 8,
    "start_time": "2021-10-02T10:46:38.392Z"
   },
   {
    "duration": 4,
    "start_time": "2021-10-02T10:46:38.401Z"
   },
   {
    "duration": 3991,
    "start_time": "2021-10-02T10:46:38.406Z"
   },
   {
    "duration": 18,
    "start_time": "2021-10-02T10:46:42.400Z"
   },
   {
    "duration": 11,
    "start_time": "2021-10-02T10:46:42.420Z"
   },
   {
    "duration": 9,
    "start_time": "2021-10-02T10:46:42.433Z"
   },
   {
    "duration": 45,
    "start_time": "2021-10-02T10:46:42.445Z"
   },
   {
    "duration": 5,
    "start_time": "2021-10-02T10:46:42.492Z"
   },
   {
    "duration": 5,
    "start_time": "2021-10-02T10:46:42.499Z"
   },
   {
    "duration": 11,
    "start_time": "2021-10-02T10:46:42.506Z"
   },
   {
    "duration": 5,
    "start_time": "2021-10-02T10:46:42.519Z"
   },
   {
    "duration": 12,
    "start_time": "2021-10-02T10:46:42.526Z"
   },
   {
    "duration": 4,
    "start_time": "2021-10-02T10:46:42.540Z"
   },
   {
    "duration": 24,
    "start_time": "2021-10-02T10:46:42.576Z"
   },
   {
    "duration": 10,
    "start_time": "2021-10-02T10:46:42.602Z"
   },
   {
    "duration": 10,
    "start_time": "2021-10-02T10:46:42.614Z"
   },
   {
    "duration": 9,
    "start_time": "2021-10-02T10:46:42.627Z"
   },
   {
    "duration": 13,
    "start_time": "2021-10-02T10:46:46.655Z"
   },
   {
    "duration": 114,
    "start_time": "2021-10-02T10:46:50.873Z"
   },
   {
    "duration": 13,
    "start_time": "2021-10-02T10:46:50.990Z"
   },
   {
    "duration": 11,
    "start_time": "2021-10-02T10:46:51.007Z"
   },
   {
    "duration": 4,
    "start_time": "2021-10-02T10:46:51.021Z"
   },
   {
    "duration": 55,
    "start_time": "2021-10-02T10:46:51.027Z"
   },
   {
    "duration": 7,
    "start_time": "2021-10-02T10:46:51.084Z"
   },
   {
    "duration": 15,
    "start_time": "2021-10-02T10:46:51.094Z"
   },
   {
    "duration": 64,
    "start_time": "2021-10-02T10:46:51.113Z"
   },
   {
    "duration": 16,
    "start_time": "2021-10-02T10:46:51.180Z"
   },
   {
    "duration": 5,
    "start_time": "2021-10-02T10:46:51.198Z"
   },
   {
    "duration": 18,
    "start_time": "2021-10-02T10:46:51.205Z"
   },
   {
    "duration": 5,
    "start_time": "2021-10-02T10:46:51.225Z"
   },
   {
    "duration": 50,
    "start_time": "2021-10-02T10:46:51.232Z"
   },
   {
    "duration": 10,
    "start_time": "2021-10-02T10:46:51.284Z"
   },
   {
    "duration": 7,
    "start_time": "2021-10-02T10:46:51.296Z"
   },
   {
    "duration": 9,
    "start_time": "2021-10-02T10:46:51.306Z"
   },
   {
    "duration": 8,
    "start_time": "2021-10-02T10:46:51.318Z"
   },
   {
    "duration": 49,
    "start_time": "2021-10-02T10:46:51.328Z"
   },
   {
    "duration": 8,
    "start_time": "2021-10-02T10:46:51.379Z"
   },
   {
    "duration": 17,
    "start_time": "2021-10-02T10:46:51.390Z"
   },
   {
    "duration": 7,
    "start_time": "2021-10-02T10:46:51.409Z"
   },
   {
    "duration": 19,
    "start_time": "2021-10-02T10:46:51.418Z"
   },
   {
    "duration": 51,
    "start_time": "2021-10-02T10:46:51.441Z"
   },
   {
    "duration": 16,
    "start_time": "2021-10-02T10:46:51.495Z"
   },
   {
    "duration": 13,
    "start_time": "2021-10-02T10:46:51.513Z"
   },
   {
    "duration": 27,
    "start_time": "2021-10-02T10:46:51.528Z"
   },
   {
    "duration": 35,
    "start_time": "2021-10-02T10:46:51.557Z"
   },
   {
    "duration": 16,
    "start_time": "2021-10-02T10:46:51.594Z"
   },
   {
    "duration": 7,
    "start_time": "2021-10-02T10:46:51.612Z"
   },
   {
    "duration": 56,
    "start_time": "2021-10-02T10:46:51.621Z"
   },
   {
    "duration": 6,
    "start_time": "2021-10-02T10:46:51.679Z"
   },
   {
    "duration": 18,
    "start_time": "2021-10-02T10:46:51.688Z"
   },
   {
    "duration": 25,
    "start_time": "2021-10-02T10:46:51.708Z"
   },
   {
    "duration": 6,
    "start_time": "2021-10-02T10:46:51.736Z"
   },
   {
    "duration": 8,
    "start_time": "2021-10-02T10:46:51.743Z"
   },
   {
    "duration": 26,
    "start_time": "2021-10-02T10:46:51.753Z"
   },
   {
    "duration": 18,
    "start_time": "2021-10-02T10:46:51.781Z"
   },
   {
    "duration": 7,
    "start_time": "2021-10-02T10:46:51.801Z"
   },
   {
    "duration": 4648,
    "start_time": "2021-10-02T10:46:51.810Z"
   },
   {
    "duration": 24,
    "start_time": "2021-10-02T10:46:56.460Z"
   },
   {
    "duration": 9,
    "start_time": "2021-10-02T10:46:56.486Z"
   },
   {
    "duration": 10,
    "start_time": "2021-10-02T10:46:56.497Z"
   },
   {
    "duration": 11,
    "start_time": "2021-10-02T10:46:56.509Z"
   },
   {
    "duration": 5,
    "start_time": "2021-10-02T10:46:56.522Z"
   },
   {
    "duration": 5,
    "start_time": "2021-10-02T10:46:56.529Z"
   },
   {
    "duration": 44,
    "start_time": "2021-10-02T10:46:56.536Z"
   },
   {
    "duration": 6,
    "start_time": "2021-10-02T10:46:56.582Z"
   },
   {
    "duration": 10,
    "start_time": "2021-10-02T10:46:56.590Z"
   },
   {
    "duration": 9,
    "start_time": "2021-10-02T10:46:56.602Z"
   },
   {
    "duration": 21,
    "start_time": "2021-10-02T10:46:56.613Z"
   },
   {
    "duration": 8,
    "start_time": "2021-10-02T10:46:56.636Z"
   },
   {
    "duration": 8,
    "start_time": "2021-10-02T10:46:56.646Z"
   },
   {
    "duration": 10,
    "start_time": "2021-10-02T10:46:56.677Z"
   },
   {
    "duration": 119,
    "start_time": "2021-10-02T10:49:19.346Z"
   },
   {
    "duration": 9,
    "start_time": "2021-10-02T10:49:24.616Z"
   },
   {
    "duration": 7,
    "start_time": "2021-10-02T10:50:15.394Z"
   },
   {
    "duration": 8,
    "start_time": "2021-10-02T10:50:18.707Z"
   },
   {
    "duration": 8,
    "start_time": "2021-10-02T10:50:25.842Z"
   },
   {
    "duration": 724,
    "start_time": "2021-10-02T10:53:06.143Z"
   },
   {
    "duration": 11,
    "start_time": "2021-10-02T10:53:06.869Z"
   },
   {
    "duration": 9,
    "start_time": "2021-10-02T10:53:06.882Z"
   },
   {
    "duration": 8,
    "start_time": "2021-10-02T10:53:06.893Z"
   },
   {
    "duration": 10,
    "start_time": "2021-10-02T10:53:06.903Z"
   },
   {
    "duration": 6,
    "start_time": "2021-10-02T10:53:06.915Z"
   },
   {
    "duration": 6,
    "start_time": "2021-10-02T10:53:06.922Z"
   },
   {
    "duration": 61,
    "start_time": "2021-10-02T10:53:06.930Z"
   },
   {
    "duration": 9,
    "start_time": "2021-10-02T10:53:06.993Z"
   },
   {
    "duration": 4,
    "start_time": "2021-10-02T10:53:07.004Z"
   },
   {
    "duration": 13,
    "start_time": "2021-10-02T10:53:07.010Z"
   },
   {
    "duration": 3,
    "start_time": "2021-10-02T10:53:07.025Z"
   },
   {
    "duration": 17,
    "start_time": "2021-10-02T10:53:07.030Z"
   },
   {
    "duration": 32,
    "start_time": "2021-10-02T10:53:07.048Z"
   },
   {
    "duration": 2,
    "start_time": "2021-10-02T10:53:07.082Z"
   },
   {
    "duration": 6,
    "start_time": "2021-10-02T10:53:07.086Z"
   },
   {
    "duration": 14,
    "start_time": "2021-10-02T10:53:07.094Z"
   },
   {
    "duration": 16,
    "start_time": "2021-10-02T10:53:07.110Z"
   },
   {
    "duration": 6,
    "start_time": "2021-10-02T10:53:07.128Z"
   },
   {
    "duration": 43,
    "start_time": "2021-10-02T10:53:07.135Z"
   },
   {
    "duration": 6,
    "start_time": "2021-10-02T10:53:07.180Z"
   },
   {
    "duration": 18,
    "start_time": "2021-10-02T10:53:07.187Z"
   },
   {
    "duration": 17,
    "start_time": "2021-10-02T10:53:07.208Z"
   },
   {
    "duration": 15,
    "start_time": "2021-10-02T10:53:07.227Z"
   },
   {
    "duration": 41,
    "start_time": "2021-10-02T10:53:07.244Z"
   },
   {
    "duration": 20,
    "start_time": "2021-10-02T10:53:07.287Z"
   },
   {
    "duration": 18,
    "start_time": "2021-10-02T10:53:07.309Z"
   },
   {
    "duration": 16,
    "start_time": "2021-10-02T10:53:07.329Z"
   },
   {
    "duration": 31,
    "start_time": "2021-10-02T10:53:07.347Z"
   },
   {
    "duration": 15,
    "start_time": "2021-10-02T10:53:07.380Z"
   },
   {
    "duration": 8,
    "start_time": "2021-10-02T10:53:07.397Z"
   },
   {
    "duration": 8,
    "start_time": "2021-10-02T10:53:07.407Z"
   },
   {
    "duration": 11,
    "start_time": "2021-10-02T10:53:07.417Z"
   },
   {
    "duration": 9,
    "start_time": "2021-10-02T10:53:07.430Z"
   },
   {
    "duration": 5,
    "start_time": "2021-10-02T10:53:07.441Z"
   },
   {
    "duration": 6,
    "start_time": "2021-10-02T10:53:07.477Z"
   },
   {
    "duration": 6,
    "start_time": "2021-10-02T10:53:07.485Z"
   },
   {
    "duration": 4,
    "start_time": "2021-10-02T10:53:07.493Z"
   },
   {
    "duration": 3740,
    "start_time": "2021-10-02T10:53:07.498Z"
   },
   {
    "duration": 13,
    "start_time": "2021-10-02T10:53:11.240Z"
   },
   {
    "duration": 22,
    "start_time": "2021-10-02T10:53:11.254Z"
   },
   {
    "duration": 13,
    "start_time": "2021-10-02T10:53:11.278Z"
   },
   {
    "duration": 12,
    "start_time": "2021-10-02T10:53:11.293Z"
   },
   {
    "duration": 20,
    "start_time": "2021-10-02T10:53:11.307Z"
   },
   {
    "duration": 5,
    "start_time": "2021-10-02T10:53:11.328Z"
   },
   {
    "duration": 25,
    "start_time": "2021-10-02T10:53:11.334Z"
   },
   {
    "duration": 7,
    "start_time": "2021-10-02T10:53:11.361Z"
   },
   {
    "duration": 8,
    "start_time": "2021-10-02T10:53:11.377Z"
   },
   {
    "duration": 8,
    "start_time": "2021-10-02T10:53:11.387Z"
   },
   {
    "duration": 12,
    "start_time": "2021-10-02T10:53:14.568Z"
   },
   {
    "duration": 3644,
    "start_time": "2021-10-02T11:08:49.757Z"
   },
   {
    "duration": 12,
    "start_time": "2021-10-02T11:08:53.404Z"
   },
   {
    "duration": 10,
    "start_time": "2021-10-02T11:08:53.418Z"
   },
   {
    "duration": 3,
    "start_time": "2021-10-02T11:08:53.431Z"
   },
   {
    "duration": 41,
    "start_time": "2021-10-02T11:08:53.436Z"
   },
   {
    "duration": 6,
    "start_time": "2021-10-02T11:08:53.479Z"
   },
   {
    "duration": 5,
    "start_time": "2021-10-02T11:08:53.487Z"
   },
   {
    "duration": 29,
    "start_time": "2021-10-02T11:08:53.495Z"
   },
   {
    "duration": 10,
    "start_time": "2021-10-02T11:08:53.526Z"
   },
   {
    "duration": 4,
    "start_time": "2021-10-02T11:08:53.577Z"
   },
   {
    "duration": 19,
    "start_time": "2021-10-02T11:08:53.583Z"
   },
   {
    "duration": 4,
    "start_time": "2021-10-02T11:08:53.604Z"
   },
   {
    "duration": 17,
    "start_time": "2021-10-02T11:08:53.611Z"
   },
   {
    "duration": 9,
    "start_time": "2021-10-02T11:08:53.631Z"
   },
   {
    "duration": 37,
    "start_time": "2021-10-02T11:08:53.641Z"
   },
   {
    "duration": 6,
    "start_time": "2021-10-02T11:08:53.681Z"
   },
   {
    "duration": 7,
    "start_time": "2021-10-02T11:08:53.690Z"
   },
   {
    "duration": 18,
    "start_time": "2021-10-02T11:08:53.700Z"
   },
   {
    "duration": 6,
    "start_time": "2021-10-02T11:08:53.720Z"
   },
   {
    "duration": 67,
    "start_time": "2021-10-02T11:08:53.728Z"
   },
   {
    "duration": 7,
    "start_time": "2021-10-02T11:08:53.796Z"
   },
   {
    "duration": 20,
    "start_time": "2021-10-02T11:08:53.805Z"
   },
   {
    "duration": 62,
    "start_time": "2021-10-02T11:08:53.829Z"
   },
   {
    "duration": 17,
    "start_time": "2021-10-02T11:08:53.893Z"
   },
   {
    "duration": 13,
    "start_time": "2021-10-02T11:08:53.913Z"
   },
   {
    "duration": 56,
    "start_time": "2021-10-02T11:08:53.928Z"
   },
   {
    "duration": 25,
    "start_time": "2021-10-02T11:08:53.987Z"
   },
   {
    "duration": 22,
    "start_time": "2021-10-02T11:08:54.014Z"
   },
   {
    "duration": 6,
    "start_time": "2021-10-02T11:08:54.039Z"
   },
   {
    "duration": 20,
    "start_time": "2021-10-02T11:08:54.076Z"
   },
   {
    "duration": 9,
    "start_time": "2021-10-02T11:08:54.098Z"
   },
   {
    "duration": 9,
    "start_time": "2021-10-02T11:08:54.109Z"
   },
   {
    "duration": 17,
    "start_time": "2021-10-02T11:08:54.120Z"
   },
   {
    "duration": 43,
    "start_time": "2021-10-02T11:08:54.139Z"
   },
   {
    "duration": 6,
    "start_time": "2021-10-02T11:08:54.184Z"
   },
   {
    "duration": 9,
    "start_time": "2021-10-02T11:08:54.192Z"
   },
   {
    "duration": 8,
    "start_time": "2021-10-02T11:08:54.203Z"
   },
   {
    "duration": 4,
    "start_time": "2021-10-02T11:08:54.213Z"
   },
   {
    "duration": 3903,
    "start_time": "2021-10-02T11:08:54.219Z"
   },
   {
    "duration": 14,
    "start_time": "2021-10-02T11:08:58.124Z"
   },
   {
    "duration": 5,
    "start_time": "2021-10-02T11:08:58.140Z"
   },
   {
    "duration": 30,
    "start_time": "2021-10-02T11:08:58.147Z"
   },
   {
    "duration": 5,
    "start_time": "2021-10-02T11:08:58.179Z"
   },
   {
    "duration": 10,
    "start_time": "2021-10-02T11:08:58.186Z"
   },
   {
    "duration": 3,
    "start_time": "2021-10-02T11:08:58.198Z"
   },
   {
    "duration": 18,
    "start_time": "2021-10-02T11:08:58.203Z"
   },
   {
    "duration": 426,
    "start_time": "2021-10-02T11:08:58.223Z"
   },
   {
    "duration": -153,
    "start_time": "2021-10-02T11:08:58.804Z"
   },
   {
    "duration": -157,
    "start_time": "2021-10-02T11:08:58.809Z"
   },
   {
    "duration": -161,
    "start_time": "2021-10-02T11:08:58.814Z"
   },
   {
    "duration": 7,
    "start_time": "2021-10-02T11:09:39.081Z"
   },
   {
    "duration": 11,
    "start_time": "2021-10-02T11:09:40.411Z"
   },
   {
    "duration": 583,
    "start_time": "2021-10-02T11:09:42.849Z"
   },
   {
    "duration": 3,
    "start_time": "2021-10-02T11:09:56.346Z"
   },
   {
    "duration": 11,
    "start_time": "2021-10-02T11:09:57.891Z"
   },
   {
    "duration": 350,
    "start_time": "2021-10-02T11:09:58.994Z"
   },
   {
    "duration": 121,
    "start_time": "2021-10-02T11:10:40.780Z"
   },
   {
    "duration": 3,
    "start_time": "2021-10-02T11:10:50.666Z"
   },
   {
    "duration": 4,
    "start_time": "2021-10-02T11:11:56.147Z"
   },
   {
    "duration": 6,
    "start_time": "2021-10-02T11:11:57.214Z"
   },
   {
    "duration": 338,
    "start_time": "2021-10-02T11:12:00.476Z"
   },
   {
    "duration": 3,
    "start_time": "2021-10-02T11:12:14.428Z"
   },
   {
    "duration": 6,
    "start_time": "2021-10-02T11:12:15.468Z"
   },
   {
    "duration": 408,
    "start_time": "2021-10-02T11:12:17.020Z"
   },
   {
    "duration": 662,
    "start_time": "2021-10-02T11:12:57.615Z"
   },
   {
    "duration": 10,
    "start_time": "2021-10-02T11:12:58.279Z"
   },
   {
    "duration": 17,
    "start_time": "2021-10-02T11:12:58.291Z"
   },
   {
    "duration": 10,
    "start_time": "2021-10-02T11:12:58.310Z"
   },
   {
    "duration": 13,
    "start_time": "2021-10-02T11:12:58.322Z"
   },
   {
    "duration": 5,
    "start_time": "2021-10-02T11:12:58.337Z"
   },
   {
    "duration": 5,
    "start_time": "2021-10-02T11:12:58.343Z"
   },
   {
    "duration": 29,
    "start_time": "2021-10-02T11:12:58.378Z"
   },
   {
    "duration": 9,
    "start_time": "2021-10-02T11:12:58.409Z"
   },
   {
    "duration": 3,
    "start_time": "2021-10-02T11:12:58.420Z"
   },
   {
    "duration": 13,
    "start_time": "2021-10-02T11:12:58.425Z"
   },
   {
    "duration": 38,
    "start_time": "2021-10-02T11:12:58.439Z"
   },
   {
    "duration": 11,
    "start_time": "2021-10-02T11:12:58.479Z"
   },
   {
    "duration": 7,
    "start_time": "2021-10-02T11:12:58.492Z"
   },
   {
    "duration": 4,
    "start_time": "2021-10-02T11:12:58.500Z"
   },
   {
    "duration": 8,
    "start_time": "2021-10-02T11:12:58.506Z"
   },
   {
    "duration": 7,
    "start_time": "2021-10-02T11:12:58.516Z"
   },
   {
    "duration": 52,
    "start_time": "2021-10-02T11:12:58.525Z"
   },
   {
    "duration": 5,
    "start_time": "2021-10-02T11:12:58.579Z"
   },
   {
    "duration": 16,
    "start_time": "2021-10-02T11:12:58.586Z"
   },
   {
    "duration": 6,
    "start_time": "2021-10-02T11:12:58.604Z"
   },
   {
    "duration": 17,
    "start_time": "2021-10-02T11:12:58.611Z"
   },
   {
    "duration": 50,
    "start_time": "2021-10-02T11:12:58.631Z"
   },
   {
    "duration": 15,
    "start_time": "2021-10-02T11:12:58.683Z"
   },
   {
    "duration": 11,
    "start_time": "2021-10-02T11:12:58.700Z"
   },
   {
    "duration": 21,
    "start_time": "2021-10-02T11:12:58.713Z"
   },
   {
    "duration": 46,
    "start_time": "2021-10-02T11:12:58.736Z"
   },
   {
    "duration": 15,
    "start_time": "2021-10-02T11:12:58.784Z"
   },
   {
    "duration": 5,
    "start_time": "2021-10-02T11:12:58.800Z"
   },
   {
    "duration": 12,
    "start_time": "2021-10-02T11:12:58.806Z"
   },
   {
    "duration": 7,
    "start_time": "2021-10-02T11:12:58.820Z"
   },
   {
    "duration": 7,
    "start_time": "2021-10-02T11:12:58.829Z"
   },
   {
    "duration": 44,
    "start_time": "2021-10-02T11:12:58.837Z"
   },
   {
    "duration": 9,
    "start_time": "2021-10-02T11:12:58.883Z"
   },
   {
    "duration": 5,
    "start_time": "2021-10-02T11:12:58.893Z"
   },
   {
    "duration": 7,
    "start_time": "2021-10-02T11:12:58.899Z"
   },
   {
    "duration": 5,
    "start_time": "2021-10-02T11:12:58.907Z"
   },
   {
    "duration": 3,
    "start_time": "2021-10-02T11:12:58.914Z"
   },
   {
    "duration": 3715,
    "start_time": "2021-10-02T11:12:58.918Z"
   },
   {
    "duration": 13,
    "start_time": "2021-10-02T11:13:02.635Z"
   },
   {
    "duration": 26,
    "start_time": "2021-10-02T11:13:02.650Z"
   },
   {
    "duration": 7,
    "start_time": "2021-10-02T11:13:02.678Z"
   },
   {
    "duration": 6,
    "start_time": "2021-10-02T11:13:02.686Z"
   },
   {
    "duration": 8,
    "start_time": "2021-10-02T11:13:02.694Z"
   },
   {
    "duration": 5,
    "start_time": "2021-10-02T11:13:02.703Z"
   },
   {
    "duration": 25,
    "start_time": "2021-10-02T11:13:02.709Z"
   },
   {
    "duration": 7,
    "start_time": "2021-10-02T11:13:02.736Z"
   },
   {
    "duration": 38,
    "start_time": "2021-10-02T11:13:02.744Z"
   },
   {
    "duration": 8,
    "start_time": "2021-10-02T11:13:02.784Z"
   },
   {
    "duration": 13,
    "start_time": "2021-10-02T11:13:09.977Z"
   },
   {
    "duration": 3,
    "start_time": "2021-10-02T11:23:25.882Z"
   },
   {
    "duration": 6,
    "start_time": "2021-10-02T11:23:28.402Z"
   },
   {
    "duration": 9,
    "start_time": "2021-10-02T11:23:32.139Z"
   },
   {
    "duration": 9,
    "start_time": "2021-10-02T11:23:36.714Z"
   },
   {
    "duration": 7,
    "start_time": "2021-10-02T11:23:42.657Z"
   },
   {
    "duration": 699,
    "start_time": "2021-10-02T11:23:51.891Z"
   },
   {
    "duration": 12,
    "start_time": "2021-10-02T11:23:52.592Z"
   },
   {
    "duration": 10,
    "start_time": "2021-10-02T11:23:52.607Z"
   },
   {
    "duration": 3,
    "start_time": "2021-10-02T11:23:52.619Z"
   },
   {
    "duration": 11,
    "start_time": "2021-10-02T11:23:52.624Z"
   },
   {
    "duration": 38,
    "start_time": "2021-10-02T11:23:52.637Z"
   },
   {
    "duration": 4,
    "start_time": "2021-10-02T11:23:52.678Z"
   },
   {
    "duration": 28,
    "start_time": "2021-10-02T11:23:52.685Z"
   },
   {
    "duration": 9,
    "start_time": "2021-10-02T11:23:52.715Z"
   },
   {
    "duration": 4,
    "start_time": "2021-10-02T11:23:52.726Z"
   },
   {
    "duration": 50,
    "start_time": "2021-10-02T11:23:52.732Z"
   },
   {
    "duration": 4,
    "start_time": "2021-10-02T11:23:52.783Z"
   },
   {
    "duration": 18,
    "start_time": "2021-10-02T11:23:52.788Z"
   },
   {
    "duration": 7,
    "start_time": "2021-10-02T11:23:52.807Z"
   },
   {
    "duration": 2,
    "start_time": "2021-10-02T11:23:52.816Z"
   },
   {
    "duration": 5,
    "start_time": "2021-10-02T11:23:52.820Z"
   },
   {
    "duration": 49,
    "start_time": "2021-10-02T11:23:52.827Z"
   },
   {
    "duration": 17,
    "start_time": "2021-10-02T11:23:52.878Z"
   },
   {
    "duration": 6,
    "start_time": "2021-10-02T11:23:52.896Z"
   },
   {
    "duration": 16,
    "start_time": "2021-10-02T11:23:52.903Z"
   },
   {
    "duration": 6,
    "start_time": "2021-10-02T11:23:52.921Z"
   },
   {
    "duration": 58,
    "start_time": "2021-10-02T11:23:52.928Z"
   },
   {
    "duration": 18,
    "start_time": "2021-10-02T11:23:52.989Z"
   },
   {
    "duration": 17,
    "start_time": "2021-10-02T11:23:53.009Z"
   },
   {
    "duration": 12,
    "start_time": "2021-10-02T11:23:53.027Z"
   },
   {
    "duration": 51,
    "start_time": "2021-10-02T11:23:53.041Z"
   },
   {
    "duration": 17,
    "start_time": "2021-10-02T11:23:53.094Z"
   },
   {
    "duration": 16,
    "start_time": "2021-10-02T11:23:53.113Z"
   },
   {
    "duration": 5,
    "start_time": "2021-10-02T11:23:53.131Z"
   },
   {
    "duration": 46,
    "start_time": "2021-10-02T11:23:53.138Z"
   },
   {
    "duration": 6,
    "start_time": "2021-10-02T11:23:53.186Z"
   },
   {
    "duration": 8,
    "start_time": "2021-10-02T11:23:53.194Z"
   },
   {
    "duration": 12,
    "start_time": "2021-10-02T11:23:53.203Z"
   },
   {
    "duration": 8,
    "start_time": "2021-10-02T11:23:53.217Z"
   },
   {
    "duration": 5,
    "start_time": "2021-10-02T11:23:53.226Z"
   },
   {
    "duration": 47,
    "start_time": "2021-10-02T11:23:53.232Z"
   },
   {
    "duration": 6,
    "start_time": "2021-10-02T11:23:53.281Z"
   },
   {
    "duration": 4,
    "start_time": "2021-10-02T11:23:53.289Z"
   },
   {
    "duration": 3708,
    "start_time": "2021-10-02T11:23:53.295Z"
   },
   {
    "duration": 17,
    "start_time": "2021-10-02T11:23:57.005Z"
   },
   {
    "duration": 5,
    "start_time": "2021-10-02T11:23:57.024Z"
   },
   {
    "duration": 9,
    "start_time": "2021-10-02T11:23:57.031Z"
   },
   {
    "duration": 34,
    "start_time": "2021-10-02T11:23:57.042Z"
   },
   {
    "duration": 7,
    "start_time": "2021-10-02T11:23:57.079Z"
   },
   {
    "duration": 5,
    "start_time": "2021-10-02T11:23:57.088Z"
   },
   {
    "duration": 19,
    "start_time": "2021-10-02T11:23:57.094Z"
   },
   {
    "duration": 17,
    "start_time": "2021-10-02T11:23:57.114Z"
   },
   {
    "duration": 9,
    "start_time": "2021-10-02T11:23:57.133Z"
   },
   {
    "duration": 10,
    "start_time": "2021-10-02T11:23:57.177Z"
   },
   {
    "duration": 10,
    "start_time": "2021-10-02T11:23:57.189Z"
   },
   {
    "duration": 10,
    "start_time": "2021-10-02T11:24:04.218Z"
   },
   {
    "duration": 725,
    "start_time": "2021-10-02T11:24:21.141Z"
   },
   {
    "duration": 11,
    "start_time": "2021-10-02T11:24:21.868Z"
   },
   {
    "duration": 10,
    "start_time": "2021-10-02T11:24:21.881Z"
   },
   {
    "duration": 3,
    "start_time": "2021-10-02T11:24:21.893Z"
   },
   {
    "duration": 11,
    "start_time": "2021-10-02T11:24:21.898Z"
   },
   {
    "duration": 5,
    "start_time": "2021-10-02T11:24:21.911Z"
   },
   {
    "duration": 5,
    "start_time": "2021-10-02T11:24:21.918Z"
   },
   {
    "duration": 75,
    "start_time": "2021-10-02T11:24:21.926Z"
   },
   {
    "duration": 10,
    "start_time": "2021-10-02T11:24:22.003Z"
   },
   {
    "duration": 8,
    "start_time": "2021-10-02T11:24:22.014Z"
   },
   {
    "duration": 12,
    "start_time": "2021-10-02T11:24:22.024Z"
   },
   {
    "duration": 3,
    "start_time": "2021-10-02T11:24:22.038Z"
   },
   {
    "duration": 45,
    "start_time": "2021-10-02T11:24:22.043Z"
   },
   {
    "duration": 9,
    "start_time": "2021-10-02T11:24:22.090Z"
   },
   {
    "duration": 3,
    "start_time": "2021-10-02T11:24:22.101Z"
   },
   {
    "duration": 6,
    "start_time": "2021-10-02T11:24:22.106Z"
   },
   {
    "duration": 7,
    "start_time": "2021-10-02T11:24:22.114Z"
   },
   {
    "duration": 60,
    "start_time": "2021-10-02T11:24:22.123Z"
   },
   {
    "duration": 6,
    "start_time": "2021-10-02T11:24:22.185Z"
   },
   {
    "duration": 16,
    "start_time": "2021-10-02T11:24:22.193Z"
   },
   {
    "duration": 6,
    "start_time": "2021-10-02T11:24:22.210Z"
   },
   {
    "duration": 19,
    "start_time": "2021-10-02T11:24:22.218Z"
   },
   {
    "duration": 52,
    "start_time": "2021-10-02T11:24:22.241Z"
   },
   {
    "duration": 16,
    "start_time": "2021-10-02T11:24:22.295Z"
   },
   {
    "duration": 13,
    "start_time": "2021-10-02T11:24:22.313Z"
   },
   {
    "duration": 54,
    "start_time": "2021-10-02T11:24:22.327Z"
   },
   {
    "duration": 18,
    "start_time": "2021-10-02T11:24:22.383Z"
   },
   {
    "duration": 16,
    "start_time": "2021-10-02T11:24:22.403Z"
   },
   {
    "duration": 5,
    "start_time": "2021-10-02T11:24:22.421Z"
   },
   {
    "duration": 51,
    "start_time": "2021-10-02T11:24:22.427Z"
   },
   {
    "duration": 5,
    "start_time": "2021-10-02T11:24:22.480Z"
   },
   {
    "duration": 8,
    "start_time": "2021-10-02T11:24:22.486Z"
   },
   {
    "duration": 11,
    "start_time": "2021-10-02T11:24:22.496Z"
   },
   {
    "duration": 7,
    "start_time": "2021-10-02T11:24:22.509Z"
   },
   {
    "duration": 5,
    "start_time": "2021-10-02T11:24:22.518Z"
   },
   {
    "duration": 56,
    "start_time": "2021-10-02T11:24:22.525Z"
   },
   {
    "duration": 6,
    "start_time": "2021-10-02T11:24:22.583Z"
   },
   {
    "duration": 4,
    "start_time": "2021-10-02T11:24:22.590Z"
   },
   {
    "duration": 3499,
    "start_time": "2021-10-02T11:24:22.596Z"
   },
   {
    "duration": 14,
    "start_time": "2021-10-02T11:24:26.097Z"
   },
   {
    "duration": 4,
    "start_time": "2021-10-02T11:24:26.113Z"
   },
   {
    "duration": 9,
    "start_time": "2021-10-02T11:24:26.119Z"
   },
   {
    "duration": 7,
    "start_time": "2021-10-02T11:24:26.129Z"
   },
   {
    "duration": 39,
    "start_time": "2021-10-02T11:24:26.138Z"
   },
   {
    "duration": 3,
    "start_time": "2021-10-02T11:24:26.178Z"
   },
   {
    "duration": 13,
    "start_time": "2021-10-02T11:24:26.183Z"
   },
   {
    "duration": 15,
    "start_time": "2021-10-02T11:24:26.197Z"
   },
   {
    "duration": 7,
    "start_time": "2021-10-02T11:24:26.213Z"
   },
   {
    "duration": 9,
    "start_time": "2021-10-02T11:24:26.222Z"
   },
   {
    "duration": 11,
    "start_time": "2021-10-02T11:24:26.233Z"
   },
   {
    "duration": 10,
    "start_time": "2021-10-02T11:24:36.601Z"
   },
   {
    "duration": 711,
    "start_time": "2021-10-02T11:24:46.459Z"
   },
   {
    "duration": 11,
    "start_time": "2021-10-02T11:24:47.172Z"
   },
   {
    "duration": 9,
    "start_time": "2021-10-02T11:24:47.185Z"
   },
   {
    "duration": 3,
    "start_time": "2021-10-02T11:24:47.197Z"
   },
   {
    "duration": 9,
    "start_time": "2021-10-02T11:24:47.202Z"
   },
   {
    "duration": 5,
    "start_time": "2021-10-02T11:24:47.213Z"
   },
   {
    "duration": 7,
    "start_time": "2021-10-02T11:24:47.220Z"
   },
   {
    "duration": 69,
    "start_time": "2021-10-02T11:24:47.229Z"
   },
   {
    "duration": 12,
    "start_time": "2021-10-02T11:24:47.301Z"
   },
   {
    "duration": 5,
    "start_time": "2021-10-02T11:24:47.315Z"
   },
   {
    "duration": 14,
    "start_time": "2021-10-02T11:24:47.322Z"
   },
   {
    "duration": 4,
    "start_time": "2021-10-02T11:24:47.338Z"
   },
   {
    "duration": 15,
    "start_time": "2021-10-02T11:24:47.377Z"
   },
   {
    "duration": 9,
    "start_time": "2021-10-02T11:24:47.395Z"
   },
   {
    "duration": 3,
    "start_time": "2021-10-02T11:24:47.407Z"
   },
   {
    "duration": 7,
    "start_time": "2021-10-02T11:24:47.413Z"
   },
   {
    "duration": 9,
    "start_time": "2021-10-02T11:24:47.422Z"
   },
   {
    "duration": 60,
    "start_time": "2021-10-02T11:24:47.432Z"
   },
   {
    "duration": 9,
    "start_time": "2021-10-02T11:24:47.494Z"
   },
   {
    "duration": 17,
    "start_time": "2021-10-02T11:24:47.505Z"
   },
   {
    "duration": 6,
    "start_time": "2021-10-02T11:24:47.524Z"
   },
   {
    "duration": 61,
    "start_time": "2021-10-02T11:24:47.532Z"
   },
   {
    "duration": 19,
    "start_time": "2021-10-02T11:24:47.598Z"
   },
   {
    "duration": 19,
    "start_time": "2021-10-02T11:24:47.619Z"
   },
   {
    "duration": 48,
    "start_time": "2021-10-02T11:24:47.640Z"
   },
   {
    "duration": 20,
    "start_time": "2021-10-02T11:24:47.690Z"
   },
   {
    "duration": 20,
    "start_time": "2021-10-02T11:24:47.712Z"
   },
   {
    "duration": 47,
    "start_time": "2021-10-02T11:24:47.734Z"
   },
   {
    "duration": 7,
    "start_time": "2021-10-02T11:24:47.783Z"
   },
   {
    "duration": 14,
    "start_time": "2021-10-02T11:24:47.792Z"
   },
   {
    "duration": 6,
    "start_time": "2021-10-02T11:24:47.808Z"
   },
   {
    "duration": 9,
    "start_time": "2021-10-02T11:24:47.816Z"
   },
   {
    "duration": 52,
    "start_time": "2021-10-02T11:24:47.827Z"
   },
   {
    "duration": 8,
    "start_time": "2021-10-02T11:24:47.881Z"
   },
   {
    "duration": 5,
    "start_time": "2021-10-02T11:24:47.890Z"
   },
   {
    "duration": 7,
    "start_time": "2021-10-02T11:24:47.896Z"
   },
   {
    "duration": 6,
    "start_time": "2021-10-02T11:24:47.904Z"
   },
   {
    "duration": 4,
    "start_time": "2021-10-02T11:24:47.911Z"
   },
   {
    "duration": 3688,
    "start_time": "2021-10-02T11:24:47.916Z"
   },
   {
    "duration": 13,
    "start_time": "2021-10-02T11:24:51.606Z"
   },
   {
    "duration": 14,
    "start_time": "2021-10-02T11:24:51.621Z"
   },
   {
    "duration": 14,
    "start_time": "2021-10-02T11:24:51.637Z"
   },
   {
    "duration": 20,
    "start_time": "2021-10-02T11:24:51.653Z"
   },
   {
    "duration": 12,
    "start_time": "2021-10-02T11:24:51.675Z"
   },
   {
    "duration": 11,
    "start_time": "2021-10-02T11:24:51.689Z"
   },
   {
    "duration": 17,
    "start_time": "2021-10-02T11:24:51.701Z"
   },
   {
    "duration": 17,
    "start_time": "2021-10-02T11:24:51.720Z"
   },
   {
    "duration": 8,
    "start_time": "2021-10-02T11:24:51.738Z"
   },
   {
    "duration": 30,
    "start_time": "2021-10-02T11:24:51.747Z"
   },
   {
    "duration": 8,
    "start_time": "2021-10-02T11:24:51.779Z"
   },
   {
    "duration": 9,
    "start_time": "2021-10-02T11:25:54.843Z"
   },
   {
    "duration": 415,
    "start_time": "2021-10-02T11:30:22.638Z"
   },
   {
    "duration": 378,
    "start_time": "2021-10-02T11:30:30.982Z"
   },
   {
    "duration": 4,
    "start_time": "2021-10-02T11:30:47.702Z"
   },
   {
    "duration": 4,
    "start_time": "2021-10-02T11:30:53.686Z"
   },
   {
    "duration": 8,
    "start_time": "2021-10-02T11:30:54.710Z"
   },
   {
    "duration": 5,
    "start_time": "2021-10-02T11:32:47.705Z"
   },
   {
    "duration": 5,
    "start_time": "2021-10-02T11:33:02.984Z"
   },
   {
    "duration": 3,
    "start_time": "2021-10-02T11:40:00.430Z"
   },
   {
    "duration": 3,
    "start_time": "2021-10-02T11:40:01.894Z"
   },
   {
    "duration": 117,
    "start_time": "2021-10-02T11:40:03.246Z"
   },
   {
    "duration": 126,
    "start_time": "2021-10-02T11:40:20.367Z"
   },
   {
    "duration": 3,
    "start_time": "2021-10-02T11:40:30.862Z"
   },
   {
    "duration": 3,
    "start_time": "2021-10-02T11:40:35.334Z"
   },
   {
    "duration": 3,
    "start_time": "2021-10-02T11:40:37.470Z"
   },
   {
    "duration": 3,
    "start_time": "2021-10-02T11:41:18.079Z"
   },
   {
    "duration": 812,
    "start_time": "2021-10-02T11:41:49.916Z"
   },
   {
    "duration": 10,
    "start_time": "2021-10-02T11:42:36.035Z"
   },
   {
    "duration": 3,
    "start_time": "2021-10-02T11:43:31.449Z"
   },
   {
    "duration": 4,
    "start_time": "2021-10-02T11:43:33.145Z"
   },
   {
    "duration": 5,
    "start_time": "2021-10-02T11:43:43.265Z"
   },
   {
    "duration": 4,
    "start_time": "2021-10-02T11:43:50.593Z"
   },
   {
    "duration": 3,
    "start_time": "2021-10-02T11:43:55.954Z"
   },
   {
    "duration": 4,
    "start_time": "2021-10-02T11:44:01.450Z"
   },
   {
    "duration": 164,
    "start_time": "2021-10-02T11:46:19.036Z"
   },
   {
    "duration": 3,
    "start_time": "2021-10-02T11:46:54.460Z"
   },
   {
    "duration": 152,
    "start_time": "2021-10-02T11:46:55.963Z"
   },
   {
    "duration": 7,
    "start_time": "2021-10-02T11:48:27.597Z"
   },
   {
    "duration": 156,
    "start_time": "2021-10-02T11:48:33.749Z"
   },
   {
    "duration": 152,
    "start_time": "2021-10-02T11:48:38.125Z"
   },
   {
    "duration": 3,
    "start_time": "2021-10-02T11:59:00.480Z"
   },
   {
    "duration": 107,
    "start_time": "2021-10-02T11:59:27.495Z"
   },
   {
    "duration": 4,
    "start_time": "2021-10-02T11:59:38.990Z"
   },
   {
    "duration": 252,
    "start_time": "2021-10-02T11:59:45.617Z"
   },
   {
    "duration": 9,
    "start_time": "2021-10-02T11:59:56.697Z"
   },
   {
    "duration": 9,
    "start_time": "2021-10-02T12:00:46.072Z"
   },
   {
    "duration": 353,
    "start_time": "2021-10-02T12:03:06.977Z"
   },
   {
    "duration": 4,
    "start_time": "2021-10-02T12:03:14.505Z"
   },
   {
    "duration": 20,
    "start_time": "2021-10-02T12:06:02.124Z"
   },
   {
    "duration": 9,
    "start_time": "2021-10-02T12:06:18.732Z"
   },
   {
    "duration": 13,
    "start_time": "2021-10-02T12:07:06.486Z"
   },
   {
    "duration": 9,
    "start_time": "2021-10-02T12:07:08.397Z"
   },
   {
    "duration": 5,
    "start_time": "2021-10-02T12:08:00.501Z"
   },
   {
    "duration": 9,
    "start_time": "2021-10-02T12:08:02.341Z"
   },
   {
    "duration": 7,
    "start_time": "2021-10-02T12:08:32.574Z"
   },
   {
    "duration": 9,
    "start_time": "2021-10-02T12:08:39.774Z"
   },
   {
    "duration": 3,
    "start_time": "2021-10-02T12:14:23.253Z"
   },
   {
    "duration": 3,
    "start_time": "2021-10-02T12:14:24.245Z"
   },
   {
    "duration": 3,
    "start_time": "2021-10-02T12:14:25.146Z"
   },
   {
    "duration": 3,
    "start_time": "2021-10-02T12:15:38.820Z"
   },
   {
    "duration": 155,
    "start_time": "2021-10-02T12:15:43.221Z"
   },
   {
    "duration": 8,
    "start_time": "2021-10-02T12:15:47.076Z"
   },
   {
    "duration": 8,
    "start_time": "2021-10-02T12:15:53.556Z"
   },
   {
    "duration": 753,
    "start_time": "2021-10-02T12:16:22.854Z"
   },
   {
    "duration": 11,
    "start_time": "2021-10-02T12:16:23.609Z"
   },
   {
    "duration": 15,
    "start_time": "2021-10-02T12:16:23.623Z"
   },
   {
    "duration": 6,
    "start_time": "2021-10-02T12:16:23.640Z"
   },
   {
    "duration": 33,
    "start_time": "2021-10-02T12:16:23.647Z"
   },
   {
    "duration": 5,
    "start_time": "2021-10-02T12:16:23.681Z"
   },
   {
    "duration": 5,
    "start_time": "2021-10-02T12:16:23.688Z"
   },
   {
    "duration": 29,
    "start_time": "2021-10-02T12:16:23.696Z"
   },
   {
    "duration": 10,
    "start_time": "2021-10-02T12:16:23.727Z"
   },
   {
    "duration": 40,
    "start_time": "2021-10-02T12:16:23.739Z"
   },
   {
    "duration": 14,
    "start_time": "2021-10-02T12:16:23.781Z"
   },
   {
    "duration": 4,
    "start_time": "2021-10-02T12:16:23.797Z"
   },
   {
    "duration": 17,
    "start_time": "2021-10-02T12:16:23.803Z"
   },
   {
    "duration": 7,
    "start_time": "2021-10-02T12:16:23.822Z"
   },
   {
    "duration": 7,
    "start_time": "2021-10-02T12:16:23.831Z"
   },
   {
    "duration": 4,
    "start_time": "2021-10-02T12:16:23.876Z"
   },
   {
    "duration": 7,
    "start_time": "2021-10-02T12:16:23.882Z"
   },
   {
    "duration": 18,
    "start_time": "2021-10-02T12:16:23.891Z"
   },
   {
    "duration": 6,
    "start_time": "2021-10-02T12:16:23.911Z"
   },
   {
    "duration": 16,
    "start_time": "2021-10-02T12:16:23.918Z"
   },
   {
    "duration": 43,
    "start_time": "2021-10-02T12:16:23.936Z"
   },
   {
    "duration": 16,
    "start_time": "2021-10-02T12:16:23.980Z"
   },
   {
    "duration": 18,
    "start_time": "2021-10-02T12:16:24.000Z"
   },
   {
    "duration": 15,
    "start_time": "2021-10-02T12:16:24.020Z"
   },
   {
    "duration": 56,
    "start_time": "2021-10-02T12:16:24.037Z"
   },
   {
    "duration": 19,
    "start_time": "2021-10-02T12:16:24.095Z"
   },
   {
    "duration": 18,
    "start_time": "2021-10-02T12:16:24.117Z"
   },
   {
    "duration": 47,
    "start_time": "2021-10-02T12:16:24.137Z"
   },
   {
    "duration": 6,
    "start_time": "2021-10-02T12:16:24.187Z"
   },
   {
    "duration": 16,
    "start_time": "2021-10-02T12:16:24.195Z"
   },
   {
    "duration": 9,
    "start_time": "2021-10-02T12:16:24.213Z"
   },
   {
    "duration": 25,
    "start_time": "2021-10-02T12:16:24.224Z"
   },
   {
    "duration": 37,
    "start_time": "2021-10-02T12:16:24.251Z"
   },
   {
    "duration": 8,
    "start_time": "2021-10-02T12:16:24.291Z"
   },
   {
    "duration": 7,
    "start_time": "2021-10-02T12:16:24.301Z"
   },
   {
    "duration": 10,
    "start_time": "2021-10-02T12:16:24.310Z"
   },
   {
    "duration": 5,
    "start_time": "2021-10-02T12:16:24.322Z"
   },
   {
    "duration": 4,
    "start_time": "2021-10-02T12:16:24.329Z"
   },
   {
    "duration": 3605,
    "start_time": "2021-10-02T12:16:24.377Z"
   },
   {
    "duration": 13,
    "start_time": "2021-10-02T12:16:27.984Z"
   },
   {
    "duration": 14,
    "start_time": "2021-10-02T12:16:27.999Z"
   },
   {
    "duration": 9,
    "start_time": "2021-10-02T12:16:28.015Z"
   },
   {
    "duration": 7,
    "start_time": "2021-10-02T12:16:28.026Z"
   },
   {
    "duration": 12,
    "start_time": "2021-10-02T12:16:28.035Z"
   },
   {
    "duration": 28,
    "start_time": "2021-10-02T12:16:28.049Z"
   },
   {
    "duration": 13,
    "start_time": "2021-10-02T12:16:28.079Z"
   },
   {
    "duration": 15,
    "start_time": "2021-10-02T12:16:28.094Z"
   },
   {
    "duration": 7,
    "start_time": "2021-10-02T12:16:28.111Z"
   },
   {
    "duration": 8,
    "start_time": "2021-10-02T12:16:28.120Z"
   },
   {
    "duration": 8,
    "start_time": "2021-10-02T12:16:28.130Z"
   },
   {
    "duration": 39,
    "start_time": "2021-10-02T12:16:28.140Z"
   },
   {
    "duration": 8,
    "start_time": "2021-10-02T12:16:28.181Z"
   },
   {
    "duration": 11,
    "start_time": "2021-10-02T12:16:28.190Z"
   },
   {
    "duration": 4,
    "start_time": "2021-10-02T12:16:28.202Z"
   },
   {
    "duration": 4,
    "start_time": "2021-10-02T12:16:28.208Z"
   },
   {
    "duration": 7,
    "start_time": "2021-10-02T12:16:28.213Z"
   },
   {
    "duration": 5,
    "start_time": "2021-10-02T12:16:28.222Z"
   },
   {
    "duration": 4,
    "start_time": "2021-10-02T12:16:28.229Z"
   },
   {
    "duration": 4,
    "start_time": "2021-10-02T12:16:28.235Z"
   },
   {
    "duration": 161,
    "start_time": "2021-10-02T12:16:28.277Z"
   },
   {
    "duration": 10,
    "start_time": "2021-10-02T12:16:28.440Z"
   },
   {
    "duration": 27,
    "start_time": "2021-10-02T12:16:28.451Z"
   },
   {
    "duration": 3,
    "start_time": "2021-10-02T12:16:28.480Z"
   },
   {
    "duration": 17,
    "start_time": "2021-10-02T12:16:28.485Z"
   },
   {
    "duration": 6,
    "start_time": "2021-10-02T12:16:28.504Z"
   },
   {
    "duration": 9,
    "start_time": "2021-10-02T12:16:28.512Z"
   },
   {
    "duration": 903,
    "start_time": "2021-10-02T12:16:46.268Z"
   },
   {
    "duration": 8,
    "start_time": "2021-10-02T12:16:53.242Z"
   },
   {
    "duration": 727,
    "start_time": "2021-10-02T12:19:49.874Z"
   },
   {
    "duration": 12,
    "start_time": "2021-10-02T12:19:50.602Z"
   },
   {
    "duration": 10,
    "start_time": "2021-10-02T12:19:50.616Z"
   },
   {
    "duration": 4,
    "start_time": "2021-10-02T12:19:50.628Z"
   },
   {
    "duration": 13,
    "start_time": "2021-10-02T12:19:50.634Z"
   },
   {
    "duration": 6,
    "start_time": "2021-10-02T12:19:50.677Z"
   },
   {
    "duration": 9,
    "start_time": "2021-10-02T12:19:50.685Z"
   },
   {
    "duration": 29,
    "start_time": "2021-10-02T12:19:50.696Z"
   },
   {
    "duration": 9,
    "start_time": "2021-10-02T12:19:50.727Z"
   },
   {
    "duration": 39,
    "start_time": "2021-10-02T12:19:50.738Z"
   },
   {
    "duration": 12,
    "start_time": "2021-10-02T12:19:50.778Z"
   },
   {
    "duration": 4,
    "start_time": "2021-10-02T12:19:50.792Z"
   },
   {
    "duration": 15,
    "start_time": "2021-10-02T12:19:50.798Z"
   },
   {
    "duration": 7,
    "start_time": "2021-10-02T12:19:50.815Z"
   },
   {
    "duration": 3,
    "start_time": "2021-10-02T12:19:50.824Z"
   },
   {
    "duration": 48,
    "start_time": "2021-10-02T12:19:50.829Z"
   },
   {
    "duration": 6,
    "start_time": "2021-10-02T12:19:50.879Z"
   },
   {
    "duration": 22,
    "start_time": "2021-10-02T12:19:50.887Z"
   },
   {
    "duration": 6,
    "start_time": "2021-10-02T12:19:50.912Z"
   },
   {
    "duration": 18,
    "start_time": "2021-10-02T12:19:50.919Z"
   },
   {
    "duration": 38,
    "start_time": "2021-10-02T12:19:50.939Z"
   },
   {
    "duration": 16,
    "start_time": "2021-10-02T12:19:50.978Z"
   },
   {
    "duration": 20,
    "start_time": "2021-10-02T12:19:50.998Z"
   },
   {
    "duration": 15,
    "start_time": "2021-10-02T12:19:51.021Z"
   },
   {
    "duration": 44,
    "start_time": "2021-10-02T12:19:51.038Z"
   },
   {
    "duration": 20,
    "start_time": "2021-10-02T12:19:51.084Z"
   },
   {
    "duration": 18,
    "start_time": "2021-10-02T12:19:51.106Z"
   },
   {
    "duration": 17,
    "start_time": "2021-10-02T12:19:51.126Z"
   },
   {
    "duration": 35,
    "start_time": "2021-10-02T12:19:51.144Z"
   },
   {
    "duration": 20,
    "start_time": "2021-10-02T12:19:51.181Z"
   },
   {
    "duration": 8,
    "start_time": "2021-10-02T12:19:51.203Z"
   },
   {
    "duration": 10,
    "start_time": "2021-10-02T12:19:51.213Z"
   },
   {
    "duration": 17,
    "start_time": "2021-10-02T12:19:51.225Z"
   },
   {
    "duration": 13,
    "start_time": "2021-10-02T12:19:51.245Z"
   },
   {
    "duration": 27,
    "start_time": "2021-10-02T12:19:51.260Z"
   },
   {
    "duration": 13,
    "start_time": "2021-10-02T12:19:51.289Z"
   },
   {
    "duration": 10,
    "start_time": "2021-10-02T12:19:51.304Z"
   },
   {
    "duration": 13,
    "start_time": "2021-10-02T12:19:51.316Z"
   },
   {
    "duration": 3603,
    "start_time": "2021-10-02T12:19:51.330Z"
   },
   {
    "duration": 12,
    "start_time": "2021-10-02T12:19:54.935Z"
   },
   {
    "duration": 13,
    "start_time": "2021-10-02T12:19:54.949Z"
   },
   {
    "duration": 20,
    "start_time": "2021-10-02T12:19:54.964Z"
   },
   {
    "duration": 26,
    "start_time": "2021-10-02T12:19:54.986Z"
   },
   {
    "duration": 20,
    "start_time": "2021-10-02T12:19:55.014Z"
   },
   {
    "duration": 12,
    "start_time": "2021-10-02T12:19:55.035Z"
   },
   {
    "duration": 17,
    "start_time": "2021-10-02T12:19:55.049Z"
   },
   {
    "duration": 16,
    "start_time": "2021-10-02T12:19:55.067Z"
   },
   {
    "duration": 7,
    "start_time": "2021-10-02T12:19:55.085Z"
   },
   {
    "duration": 9,
    "start_time": "2021-10-02T12:19:55.093Z"
   },
   {
    "duration": 10,
    "start_time": "2021-10-02T12:19:55.104Z"
   },
   {
    "duration": 4,
    "start_time": "2021-10-02T12:19:55.115Z"
   },
   {
    "duration": 6,
    "start_time": "2021-10-02T12:19:55.121Z"
   },
   {
    "duration": 9,
    "start_time": "2021-10-02T12:19:55.129Z"
   },
   {
    "duration": 39,
    "start_time": "2021-10-02T12:19:55.140Z"
   },
   {
    "duration": 7,
    "start_time": "2021-10-02T12:19:55.181Z"
   },
   {
    "duration": 9,
    "start_time": "2021-10-02T12:19:55.190Z"
   },
   {
    "duration": 5,
    "start_time": "2021-10-02T12:19:55.201Z"
   },
   {
    "duration": 6,
    "start_time": "2021-10-02T12:19:55.207Z"
   },
   {
    "duration": 4,
    "start_time": "2021-10-02T12:19:55.215Z"
   },
   {
    "duration": 171,
    "start_time": "2021-10-02T12:19:55.221Z"
   },
   {
    "duration": 10,
    "start_time": "2021-10-02T12:19:55.395Z"
   },
   {
    "duration": 10,
    "start_time": "2021-10-02T12:19:55.407Z"
   },
   {
    "duration": 4,
    "start_time": "2021-10-02T12:19:55.419Z"
   },
   {
    "duration": 17,
    "start_time": "2021-10-02T12:19:55.424Z"
   },
   {
    "duration": 39,
    "start_time": "2021-10-02T12:19:55.442Z"
   },
   {
    "duration": 13,
    "start_time": "2021-10-02T12:19:55.483Z"
   },
   {
    "duration": 9,
    "start_time": "2021-10-02T12:20:05.756Z"
   },
   {
    "duration": 7,
    "start_time": "2021-10-02T12:20:25.293Z"
   },
   {
    "duration": 806,
    "start_time": "2021-10-02T12:24:10.047Z"
   },
   {
    "duration": 11,
    "start_time": "2021-10-02T12:24:10.855Z"
   },
   {
    "duration": 31,
    "start_time": "2021-10-02T12:24:10.868Z"
   },
   {
    "duration": 83,
    "start_time": "2021-10-02T12:24:10.901Z"
   },
   {
    "duration": 35,
    "start_time": "2021-10-02T12:24:10.985Z"
   },
   {
    "duration": 16,
    "start_time": "2021-10-02T12:24:11.021Z"
   },
   {
    "duration": 12,
    "start_time": "2021-10-02T12:24:11.039Z"
   },
   {
    "duration": 28,
    "start_time": "2021-10-02T12:24:11.055Z"
   },
   {
    "duration": 11,
    "start_time": "2021-10-02T12:24:11.086Z"
   },
   {
    "duration": 3,
    "start_time": "2021-10-02T12:24:11.099Z"
   },
   {
    "duration": 14,
    "start_time": "2021-10-02T12:24:11.104Z"
   },
   {
    "duration": 3,
    "start_time": "2021-10-02T12:24:11.120Z"
   },
   {
    "duration": 14,
    "start_time": "2021-10-02T12:24:11.124Z"
   },
   {
    "duration": 37,
    "start_time": "2021-10-02T12:24:11.140Z"
   },
   {
    "duration": 3,
    "start_time": "2021-10-02T12:24:11.179Z"
   },
   {
    "duration": 10,
    "start_time": "2021-10-02T12:24:11.183Z"
   },
   {
    "duration": 7,
    "start_time": "2021-10-02T12:24:11.195Z"
   },
   {
    "duration": 18,
    "start_time": "2021-10-02T12:24:11.203Z"
   },
   {
    "duration": 6,
    "start_time": "2021-10-02T12:24:11.223Z"
   },
   {
    "duration": 17,
    "start_time": "2021-10-02T12:24:11.230Z"
   },
   {
    "duration": 6,
    "start_time": "2021-10-02T12:24:11.277Z"
   },
   {
    "duration": 18,
    "start_time": "2021-10-02T12:24:11.284Z"
   },
   {
    "duration": 19,
    "start_time": "2021-10-02T12:24:11.306Z"
   },
   {
    "duration": 15,
    "start_time": "2021-10-02T12:24:11.327Z"
   },
   {
    "duration": 35,
    "start_time": "2021-10-02T12:24:11.344Z"
   },
   {
    "duration": 19,
    "start_time": "2021-10-02T12:24:11.381Z"
   },
   {
    "duration": 17,
    "start_time": "2021-10-02T12:24:11.402Z"
   },
   {
    "duration": 16,
    "start_time": "2021-10-02T12:24:11.421Z"
   },
   {
    "duration": 5,
    "start_time": "2021-10-02T12:24:11.439Z"
   },
   {
    "duration": 13,
    "start_time": "2021-10-02T12:24:11.477Z"
   },
   {
    "duration": 8,
    "start_time": "2021-10-02T12:24:11.491Z"
   },
   {
    "duration": 6,
    "start_time": "2021-10-02T12:24:11.501Z"
   },
   {
    "duration": 14,
    "start_time": "2021-10-02T12:24:11.509Z"
   },
   {
    "duration": 8,
    "start_time": "2021-10-02T12:24:11.524Z"
   },
   {
    "duration": 10,
    "start_time": "2021-10-02T12:24:11.533Z"
   },
   {
    "duration": 35,
    "start_time": "2021-10-02T12:24:11.545Z"
   },
   {
    "duration": 8,
    "start_time": "2021-10-02T12:24:11.581Z"
   },
   {
    "duration": 4,
    "start_time": "2021-10-02T12:24:11.590Z"
   },
   {
    "duration": 3716,
    "start_time": "2021-10-02T12:24:11.596Z"
   },
   {
    "duration": 14,
    "start_time": "2021-10-02T12:24:15.315Z"
   },
   {
    "duration": 11,
    "start_time": "2021-10-02T12:24:15.330Z"
   },
   {
    "duration": 21,
    "start_time": "2021-10-02T12:24:15.343Z"
   },
   {
    "duration": 10,
    "start_time": "2021-10-02T12:24:15.366Z"
   },
   {
    "duration": 16,
    "start_time": "2021-10-02T12:24:15.378Z"
   },
   {
    "duration": 26,
    "start_time": "2021-10-02T12:24:15.396Z"
   },
   {
    "duration": 21,
    "start_time": "2021-10-02T12:24:15.424Z"
   },
   {
    "duration": 25,
    "start_time": "2021-10-02T12:24:15.447Z"
   },
   {
    "duration": 10,
    "start_time": "2021-10-02T12:24:15.474Z"
   },
   {
    "duration": 17,
    "start_time": "2021-10-02T12:24:15.486Z"
   },
   {
    "duration": 9,
    "start_time": "2021-10-02T12:24:15.504Z"
   },
   {
    "duration": 6,
    "start_time": "2021-10-02T12:24:15.515Z"
   },
   {
    "duration": 5,
    "start_time": "2021-10-02T12:24:15.523Z"
   },
   {
    "duration": 9,
    "start_time": "2021-10-02T12:24:15.530Z"
   },
   {
    "duration": 6,
    "start_time": "2021-10-02T12:24:15.541Z"
   },
   {
    "duration": 27,
    "start_time": "2021-10-02T12:24:15.549Z"
   },
   {
    "duration": 4,
    "start_time": "2021-10-02T12:24:15.579Z"
   },
   {
    "duration": 5,
    "start_time": "2021-10-02T12:24:15.585Z"
   },
   {
    "duration": 5,
    "start_time": "2021-10-02T12:24:15.592Z"
   },
   {
    "duration": 6,
    "start_time": "2021-10-02T12:24:15.599Z"
   },
   {
    "duration": 161,
    "start_time": "2021-10-02T12:24:15.607Z"
   },
   {
    "duration": 11,
    "start_time": "2021-10-02T12:24:15.771Z"
   },
   {
    "duration": 10,
    "start_time": "2021-10-02T12:24:15.785Z"
   },
   {
    "duration": 5,
    "start_time": "2021-10-02T12:24:15.797Z"
   },
   {
    "duration": 17,
    "start_time": "2021-10-02T12:24:15.804Z"
   },
   {
    "duration": 8,
    "start_time": "2021-10-02T12:24:15.822Z"
   },
   {
    "duration": 46,
    "start_time": "2021-10-02T12:24:15.832Z"
   },
   {
    "duration": 3,
    "start_time": "2021-10-02T12:33:51.254Z"
   },
   {
    "duration": 1750,
    "start_time": "2021-10-02T12:33:54.803Z"
   },
   {
    "duration": 8,
    "start_time": "2021-10-02T12:33:56.632Z"
   },
   {
    "duration": 1736,
    "start_time": "2021-10-02T12:34:09.613Z"
   },
   {
    "duration": 113,
    "start_time": "2021-10-02T12:34:28.406Z"
   },
   {
    "duration": 3,
    "start_time": "2021-10-02T12:34:38.071Z"
   },
   {
    "duration": 266,
    "start_time": "2021-10-02T12:34:40.440Z"
   },
   {
    "duration": 9,
    "start_time": "2021-10-02T12:34:44.789Z"
   },
   {
    "duration": 226,
    "start_time": "2021-10-02T12:35:05.830Z"
   },
   {
    "duration": 6,
    "start_time": "2021-10-02T12:37:18.216Z"
   },
   {
    "duration": 6,
    "start_time": "2021-10-02T12:37:25.304Z"
   },
   {
    "duration": 3,
    "start_time": "2021-10-02T12:37:48.688Z"
   },
   {
    "duration": 6,
    "start_time": "2021-10-02T12:37:55.656Z"
   },
   {
    "duration": 4,
    "start_time": "2021-10-02T12:38:48.641Z"
   },
   {
    "duration": 1701,
    "start_time": "2021-10-02T12:38:51.624Z"
   },
   {
    "duration": 122,
    "start_time": "2021-10-02T12:39:01.231Z"
   },
   {
    "duration": 3,
    "start_time": "2021-10-02T12:39:10.489Z"
   },
   {
    "duration": 273,
    "start_time": "2021-10-02T12:39:12.049Z"
   },
   {
    "duration": 13,
    "start_time": "2021-10-02T12:39:14.002Z"
   },
   {
    "duration": 3,
    "start_time": "2021-10-02T12:42:55.532Z"
   },
   {
    "duration": 1622,
    "start_time": "2021-10-02T12:42:57.814Z"
   },
   {
    "duration": 3,
    "start_time": "2021-10-02T12:43:49.581Z"
   },
   {
    "duration": 2214,
    "start_time": "2021-10-02T12:43:52.685Z"
   },
   {
    "duration": 692,
    "start_time": "2021-10-02T12:44:04.403Z"
   },
   {
    "duration": 11,
    "start_time": "2021-10-02T12:44:05.097Z"
   },
   {
    "duration": 25,
    "start_time": "2021-10-02T12:44:05.110Z"
   },
   {
    "duration": 5,
    "start_time": "2021-10-02T12:44:05.137Z"
   },
   {
    "duration": 11,
    "start_time": "2021-10-02T12:44:05.144Z"
   },
   {
    "duration": 7,
    "start_time": "2021-10-02T12:44:05.156Z"
   },
   {
    "duration": 5,
    "start_time": "2021-10-02T12:44:05.177Z"
   },
   {
    "duration": 28,
    "start_time": "2021-10-02T12:44:05.184Z"
   },
   {
    "duration": 9,
    "start_time": "2021-10-02T12:44:05.214Z"
   },
   {
    "duration": 4,
    "start_time": "2021-10-02T12:44:05.225Z"
   },
   {
    "duration": 16,
    "start_time": "2021-10-02T12:44:05.230Z"
   },
   {
    "duration": 29,
    "start_time": "2021-10-02T12:44:05.247Z"
   },
   {
    "duration": 12,
    "start_time": "2021-10-02T12:44:05.278Z"
   },
   {
    "duration": 7,
    "start_time": "2021-10-02T12:44:05.291Z"
   },
   {
    "duration": 7,
    "start_time": "2021-10-02T12:44:05.300Z"
   },
   {
    "duration": 5,
    "start_time": "2021-10-02T12:44:05.309Z"
   },
   {
    "duration": 12,
    "start_time": "2021-10-02T12:44:05.316Z"
   },
   {
    "duration": 16,
    "start_time": "2021-10-02T12:44:05.330Z"
   },
   {
    "duration": 7,
    "start_time": "2021-10-02T12:44:05.376Z"
   },
   {
    "duration": 15,
    "start_time": "2021-10-02T12:44:05.385Z"
   },
   {
    "duration": 7,
    "start_time": "2021-10-02T12:44:05.402Z"
   },
   {
    "duration": 18,
    "start_time": "2021-10-02T12:44:05.411Z"
   },
   {
    "duration": 53,
    "start_time": "2021-10-02T12:44:05.433Z"
   },
   {
    "duration": 16,
    "start_time": "2021-10-02T12:44:05.489Z"
   },
   {
    "duration": 12,
    "start_time": "2021-10-02T12:44:05.506Z"
   },
   {
    "duration": 20,
    "start_time": "2021-10-02T12:44:05.520Z"
   },
   {
    "duration": 39,
    "start_time": "2021-10-02T12:44:05.541Z"
   },
   {
    "duration": 16,
    "start_time": "2021-10-02T12:44:05.581Z"
   },
   {
    "duration": 4,
    "start_time": "2021-10-02T12:44:05.599Z"
   },
   {
    "duration": 13,
    "start_time": "2021-10-02T12:44:05.605Z"
   },
   {
    "duration": 7,
    "start_time": "2021-10-02T12:44:05.620Z"
   },
   {
    "duration": 8,
    "start_time": "2021-10-02T12:44:05.628Z"
   },
   {
    "duration": 46,
    "start_time": "2021-10-02T12:44:05.638Z"
   },
   {
    "duration": 5,
    "start_time": "2021-10-02T12:44:05.685Z"
   },
   {
    "duration": 5,
    "start_time": "2021-10-02T12:44:05.692Z"
   },
   {
    "duration": 7,
    "start_time": "2021-10-02T12:44:05.698Z"
   },
   {
    "duration": 10,
    "start_time": "2021-10-02T12:44:05.707Z"
   },
   {
    "duration": 3,
    "start_time": "2021-10-02T12:44:05.718Z"
   },
   {
    "duration": 3700,
    "start_time": "2021-10-02T12:44:05.723Z"
   },
   {
    "duration": 14,
    "start_time": "2021-10-02T12:44:09.425Z"
   },
   {
    "duration": 13,
    "start_time": "2021-10-02T12:44:09.441Z"
   },
   {
    "duration": 22,
    "start_time": "2021-10-02T12:44:09.455Z"
   },
   {
    "duration": 12,
    "start_time": "2021-10-02T12:44:09.479Z"
   },
   {
    "duration": 17,
    "start_time": "2021-10-02T12:44:09.493Z"
   },
   {
    "duration": 10,
    "start_time": "2021-10-02T12:44:09.512Z"
   },
   {
    "duration": 18,
    "start_time": "2021-10-02T12:44:09.524Z"
   },
   {
    "duration": 16,
    "start_time": "2021-10-02T12:44:09.544Z"
   },
   {
    "duration": 10,
    "start_time": "2021-10-02T12:44:09.562Z"
   },
   {
    "duration": 15,
    "start_time": "2021-10-02T12:44:09.574Z"
   },
   {
    "duration": 17,
    "start_time": "2021-10-02T12:44:09.591Z"
   },
   {
    "duration": 15,
    "start_time": "2021-10-02T12:44:09.610Z"
   },
   {
    "duration": 5,
    "start_time": "2021-10-02T12:44:09.627Z"
   },
   {
    "duration": 10,
    "start_time": "2021-10-02T12:44:09.634Z"
   },
   {
    "duration": 5,
    "start_time": "2021-10-02T12:44:09.645Z"
   },
   {
    "duration": 5,
    "start_time": "2021-10-02T12:44:09.652Z"
   },
   {
    "duration": 4,
    "start_time": "2021-10-02T12:44:09.658Z"
   },
   {
    "duration": 9,
    "start_time": "2021-10-02T12:44:09.676Z"
   },
   {
    "duration": 7,
    "start_time": "2021-10-02T12:44:09.687Z"
   },
   {
    "duration": 4,
    "start_time": "2021-10-02T12:44:09.696Z"
   },
   {
    "duration": 1736,
    "start_time": "2021-10-02T12:44:09.701Z"
   },
   {
    "duration": -80,
    "start_time": "2021-10-02T12:44:11.519Z"
   },
   {
    "duration": -83,
    "start_time": "2021-10-02T12:44:11.523Z"
   },
   {
    "duration": -86,
    "start_time": "2021-10-02T12:44:11.527Z"
   },
   {
    "duration": -92,
    "start_time": "2021-10-02T12:44:11.534Z"
   },
   {
    "duration": -96,
    "start_time": "2021-10-02T12:44:11.539Z"
   },
   {
    "duration": -102,
    "start_time": "2021-10-02T12:44:11.545Z"
   },
   {
    "duration": 6,
    "start_time": "2021-10-02T12:45:22.190Z"
   },
   {
    "duration": 3,
    "start_time": "2021-10-02T12:45:24.526Z"
   },
   {
    "duration": 1740,
    "start_time": "2021-10-02T12:45:26.687Z"
   },
   {
    "duration": 5,
    "start_time": "2021-10-02T12:46:01.535Z"
   },
   {
    "duration": 3,
    "start_time": "2021-10-02T12:46:15.296Z"
   },
   {
    "duration": 1742,
    "start_time": "2021-10-02T12:46:17.127Z"
   },
   {
    "duration": 3,
    "start_time": "2021-10-02T12:46:45.386Z"
   },
   {
    "duration": 145,
    "start_time": "2021-10-02T12:46:48.192Z"
   },
   {
    "duration": 7,
    "start_time": "2021-10-02T12:46:52.600Z"
   },
   {
    "duration": 10,
    "start_time": "2021-10-02T12:46:54.503Z"
   },
   {
    "duration": 4,
    "start_time": "2021-10-02T12:46:55.588Z"
   },
   {
    "duration": 15,
    "start_time": "2021-10-02T12:47:01.535Z"
   },
   {
    "duration": 7,
    "start_time": "2021-10-02T12:47:03.335Z"
   },
   {
    "duration": 9,
    "start_time": "2021-10-02T12:47:04.239Z"
   },
   {
    "duration": 3,
    "start_time": "2021-10-02T12:47:11.595Z"
   },
   {
    "duration": 3,
    "start_time": "2021-10-02T12:48:27.018Z"
   },
   {
    "duration": 3,
    "start_time": "2021-10-02T12:48:33.898Z"
   },
   {
    "duration": 148,
    "start_time": "2021-10-02T12:48:54.052Z"
   },
   {
    "duration": 9,
    "start_time": "2021-10-02T12:48:59.323Z"
   },
   {
    "duration": 8,
    "start_time": "2021-10-02T12:49:28.554Z"
   },
   {
    "duration": 4,
    "start_time": "2021-10-02T12:49:29.844Z"
   },
   {
    "duration": 16,
    "start_time": "2021-10-02T12:49:48.162Z"
   },
   {
    "duration": 5,
    "start_time": "2021-10-02T12:49:58.754Z"
   },
   {
    "duration": 9,
    "start_time": "2021-10-02T12:50:04.442Z"
   },
   {
    "duration": 920,
    "start_time": "2021-10-02T12:50:25.296Z"
   },
   {
    "duration": 17,
    "start_time": "2021-10-02T12:50:26.219Z"
   },
   {
    "duration": 16,
    "start_time": "2021-10-02T12:50:26.242Z"
   },
   {
    "duration": 4,
    "start_time": "2021-10-02T12:50:26.278Z"
   },
   {
    "duration": 15,
    "start_time": "2021-10-02T12:50:26.285Z"
   },
   {
    "duration": 8,
    "start_time": "2021-10-02T12:50:26.302Z"
   },
   {
    "duration": 5,
    "start_time": "2021-10-02T12:50:26.313Z"
   },
   {
    "duration": 57,
    "start_time": "2021-10-02T12:50:26.320Z"
   },
   {
    "duration": 11,
    "start_time": "2021-10-02T12:50:26.378Z"
   },
   {
    "duration": 4,
    "start_time": "2021-10-02T12:50:26.390Z"
   },
   {
    "duration": 14,
    "start_time": "2021-10-02T12:50:26.396Z"
   },
   {
    "duration": 4,
    "start_time": "2021-10-02T12:50:26.412Z"
   },
   {
    "duration": 18,
    "start_time": "2021-10-02T12:50:26.417Z"
   },
   {
    "duration": 15,
    "start_time": "2021-10-02T12:50:26.437Z"
   },
   {
    "duration": 3,
    "start_time": "2021-10-02T12:50:26.477Z"
   },
   {
    "duration": 7,
    "start_time": "2021-10-02T12:50:26.482Z"
   },
   {
    "duration": 6,
    "start_time": "2021-10-02T12:50:26.491Z"
   },
   {
    "duration": 18,
    "start_time": "2021-10-02T12:50:26.499Z"
   },
   {
    "duration": 5,
    "start_time": "2021-10-02T12:50:26.519Z"
   },
   {
    "duration": 20,
    "start_time": "2021-10-02T12:50:26.526Z"
   },
   {
    "duration": 33,
    "start_time": "2021-10-02T12:50:26.547Z"
   },
   {
    "duration": 17,
    "start_time": "2021-10-02T12:50:26.585Z"
   },
   {
    "duration": 26,
    "start_time": "2021-10-02T12:50:26.606Z"
   },
   {
    "duration": 47,
    "start_time": "2021-10-02T12:50:26.635Z"
   },
   {
    "duration": 19,
    "start_time": "2021-10-02T12:50:26.684Z"
   },
   {
    "duration": 35,
    "start_time": "2021-10-02T12:50:26.705Z"
   },
   {
    "duration": 39,
    "start_time": "2021-10-02T12:50:26.742Z"
   },
   {
    "duration": 24,
    "start_time": "2021-10-02T12:50:26.783Z"
   },
   {
    "duration": 7,
    "start_time": "2021-10-02T12:50:26.809Z"
   },
   {
    "duration": 21,
    "start_time": "2021-10-02T12:50:26.818Z"
   },
   {
    "duration": 7,
    "start_time": "2021-10-02T12:50:26.841Z"
   },
   {
    "duration": 9,
    "start_time": "2021-10-02T12:50:26.878Z"
   },
   {
    "duration": 21,
    "start_time": "2021-10-02T12:50:26.889Z"
   },
   {
    "duration": 7,
    "start_time": "2021-10-02T12:50:26.912Z"
   },
   {
    "duration": 9,
    "start_time": "2021-10-02T12:50:26.921Z"
   },
   {
    "duration": 9,
    "start_time": "2021-10-02T12:50:26.932Z"
   },
   {
    "duration": 41,
    "start_time": "2021-10-02T12:50:26.943Z"
   },
   {
    "duration": 5,
    "start_time": "2021-10-02T12:50:26.986Z"
   },
   {
    "duration": 4016,
    "start_time": "2021-10-02T12:50:26.993Z"
   },
   {
    "duration": 14,
    "start_time": "2021-10-02T12:50:31.011Z"
   },
   {
    "duration": 10,
    "start_time": "2021-10-02T12:50:31.027Z"
   },
   {
    "duration": 16,
    "start_time": "2021-10-02T12:50:31.038Z"
   },
   {
    "duration": 13,
    "start_time": "2021-10-02T12:50:31.056Z"
   },
   {
    "duration": 18,
    "start_time": "2021-10-02T12:50:31.076Z"
   },
   {
    "duration": 7,
    "start_time": "2021-10-02T12:50:31.096Z"
   },
   {
    "duration": 21,
    "start_time": "2021-10-02T12:50:31.105Z"
   },
   {
    "duration": 34,
    "start_time": "2021-10-02T12:50:31.128Z"
   },
   {
    "duration": 8,
    "start_time": "2021-10-02T12:50:31.165Z"
   },
   {
    "duration": 16,
    "start_time": "2021-10-02T12:50:31.175Z"
   },
   {
    "duration": 14,
    "start_time": "2021-10-02T12:50:31.193Z"
   },
   {
    "duration": 5,
    "start_time": "2021-10-02T12:50:31.209Z"
   },
   {
    "duration": 6,
    "start_time": "2021-10-02T12:50:31.217Z"
   },
   {
    "duration": 12,
    "start_time": "2021-10-02T12:50:31.226Z"
   },
   {
    "duration": 9,
    "start_time": "2021-10-02T12:50:31.240Z"
   },
   {
    "duration": 11,
    "start_time": "2021-10-02T12:50:31.251Z"
   },
   {
    "duration": 5,
    "start_time": "2021-10-02T12:50:31.277Z"
   },
   {
    "duration": 11,
    "start_time": "2021-10-02T12:50:31.284Z"
   },
   {
    "duration": 5,
    "start_time": "2021-10-02T12:50:31.298Z"
   },
   {
    "duration": 15,
    "start_time": "2021-10-02T12:50:31.305Z"
   },
   {
    "duration": 245,
    "start_time": "2021-10-02T12:50:31.322Z"
   },
   {
    "duration": 16,
    "start_time": "2021-10-02T12:50:31.569Z"
   },
   {
    "duration": 13,
    "start_time": "2021-10-02T12:50:31.587Z"
   },
   {
    "duration": 5,
    "start_time": "2021-10-02T12:50:31.602Z"
   },
   {
    "duration": 25,
    "start_time": "2021-10-02T12:50:31.609Z"
   },
   {
    "duration": 5,
    "start_time": "2021-10-02T12:50:31.637Z"
   },
   {
    "duration": 980,
    "start_time": "2021-10-02T12:50:31.644Z"
   },
   {
    "duration": 6,
    "start_time": "2021-10-02T12:51:33.667Z"
   },
   {
    "duration": 703,
    "start_time": "2021-10-02T12:51:57.589Z"
   },
   {
    "duration": 11,
    "start_time": "2021-10-02T12:51:58.294Z"
   },
   {
    "duration": 16,
    "start_time": "2021-10-02T12:51:58.308Z"
   },
   {
    "duration": 16,
    "start_time": "2021-10-02T12:51:58.326Z"
   },
   {
    "duration": 23,
    "start_time": "2021-10-02T12:51:58.344Z"
   },
   {
    "duration": 21,
    "start_time": "2021-10-02T12:51:58.369Z"
   },
   {
    "duration": 16,
    "start_time": "2021-10-02T12:51:58.392Z"
   },
   {
    "duration": 40,
    "start_time": "2021-10-02T12:51:58.410Z"
   },
   {
    "duration": 10,
    "start_time": "2021-10-02T12:51:58.452Z"
   },
   {
    "duration": 26,
    "start_time": "2021-10-02T12:51:58.463Z"
   },
   {
    "duration": 21,
    "start_time": "2021-10-02T12:51:58.490Z"
   },
   {
    "duration": 3,
    "start_time": "2021-10-02T12:51:58.513Z"
   },
   {
    "duration": 24,
    "start_time": "2021-10-02T12:51:58.518Z"
   },
   {
    "duration": 6,
    "start_time": "2021-10-02T12:51:58.544Z"
   },
   {
    "duration": 5,
    "start_time": "2021-10-02T12:51:58.552Z"
   },
   {
    "duration": 16,
    "start_time": "2021-10-02T12:51:58.558Z"
   },
   {
    "duration": 19,
    "start_time": "2021-10-02T12:51:58.575Z"
   },
   {
    "duration": 27,
    "start_time": "2021-10-02T12:51:58.596Z"
   },
   {
    "duration": 13,
    "start_time": "2021-10-02T12:51:58.625Z"
   },
   {
    "duration": 25,
    "start_time": "2021-10-02T12:51:58.640Z"
   },
   {
    "duration": 17,
    "start_time": "2021-10-02T12:51:58.667Z"
   },
   {
    "duration": 23,
    "start_time": "2021-10-02T12:51:58.686Z"
   },
   {
    "duration": 17,
    "start_time": "2021-10-02T12:51:58.713Z"
   },
   {
    "duration": 22,
    "start_time": "2021-10-02T12:51:58.734Z"
   },
   {
    "duration": 27,
    "start_time": "2021-10-02T12:51:58.758Z"
   },
   {
    "duration": 28,
    "start_time": "2021-10-02T12:51:58.786Z"
   },
   {
    "duration": 19,
    "start_time": "2021-10-02T12:51:58.815Z"
   },
   {
    "duration": 16,
    "start_time": "2021-10-02T12:51:58.835Z"
   },
   {
    "duration": 4,
    "start_time": "2021-10-02T12:51:58.853Z"
   },
   {
    "duration": 14,
    "start_time": "2021-10-02T12:51:58.877Z"
   },
   {
    "duration": 15,
    "start_time": "2021-10-02T12:51:58.893Z"
   },
   {
    "duration": 15,
    "start_time": "2021-10-02T12:51:58.910Z"
   },
   {
    "duration": 21,
    "start_time": "2021-10-02T12:51:58.927Z"
   },
   {
    "duration": 10,
    "start_time": "2021-10-02T12:51:58.950Z"
   },
   {
    "duration": 16,
    "start_time": "2021-10-02T12:51:58.962Z"
   },
   {
    "duration": 17,
    "start_time": "2021-10-02T12:51:58.980Z"
   },
   {
    "duration": 12,
    "start_time": "2021-10-02T12:51:58.999Z"
   },
   {
    "duration": 6,
    "start_time": "2021-10-02T12:51:59.013Z"
   },
   {
    "duration": 3856,
    "start_time": "2021-10-02T12:51:59.021Z"
   },
   {
    "duration": 13,
    "start_time": "2021-10-02T12:52:02.880Z"
   },
   {
    "duration": 17,
    "start_time": "2021-10-02T12:52:02.895Z"
   },
   {
    "duration": 31,
    "start_time": "2021-10-02T12:52:02.916Z"
   },
   {
    "duration": 21,
    "start_time": "2021-10-02T12:52:02.949Z"
   },
   {
    "duration": 30,
    "start_time": "2021-10-02T12:52:02.971Z"
   },
   {
    "duration": 27,
    "start_time": "2021-10-02T12:52:03.003Z"
   },
   {
    "duration": 34,
    "start_time": "2021-10-02T12:52:03.032Z"
   },
   {
    "duration": 24,
    "start_time": "2021-10-02T12:52:03.068Z"
   },
   {
    "duration": 12,
    "start_time": "2021-10-02T12:52:03.094Z"
   },
   {
    "duration": 21,
    "start_time": "2021-10-02T12:52:03.108Z"
   },
   {
    "duration": 31,
    "start_time": "2021-10-02T12:52:03.130Z"
   },
   {
    "duration": 25,
    "start_time": "2021-10-02T12:52:03.163Z"
   },
   {
    "duration": 12,
    "start_time": "2021-10-02T12:52:03.190Z"
   },
   {
    "duration": 31,
    "start_time": "2021-10-02T12:52:03.204Z"
   },
   {
    "duration": 27,
    "start_time": "2021-10-02T12:52:03.237Z"
   },
   {
    "duration": 17,
    "start_time": "2021-10-02T12:52:03.266Z"
   },
   {
    "duration": 19,
    "start_time": "2021-10-02T12:52:03.285Z"
   },
   {
    "duration": 27,
    "start_time": "2021-10-02T12:52:03.306Z"
   },
   {
    "duration": 36,
    "start_time": "2021-10-02T12:52:03.335Z"
   },
   {
    "duration": 20,
    "start_time": "2021-10-02T12:52:03.373Z"
   },
   {
    "duration": 162,
    "start_time": "2021-10-02T12:52:03.395Z"
   },
   {
    "duration": 8,
    "start_time": "2021-10-02T12:52:03.559Z"
   },
   {
    "duration": 23,
    "start_time": "2021-10-02T12:52:03.569Z"
   },
   {
    "duration": 14,
    "start_time": "2021-10-02T12:52:03.593Z"
   },
   {
    "duration": 31,
    "start_time": "2021-10-02T12:52:03.609Z"
   },
   {
    "duration": 21,
    "start_time": "2021-10-02T12:52:03.641Z"
   },
   {
    "duration": 19,
    "start_time": "2021-10-02T12:52:03.664Z"
   },
   {
    "duration": 23,
    "start_time": "2021-10-02T12:52:03.685Z"
   },
   {
    "duration": 4,
    "start_time": "2021-10-02T12:58:31.490Z"
   },
   {
    "duration": 10,
    "start_time": "2021-10-02T12:58:40.594Z"
   },
   {
    "duration": 6,
    "start_time": "2021-10-02T12:59:18.491Z"
   },
   {
    "duration": 8,
    "start_time": "2021-10-02T12:59:19.418Z"
   },
   {
    "duration": 12,
    "start_time": "2021-10-02T13:56:58.570Z"
   },
   {
    "duration": 7,
    "start_time": "2021-10-02T13:59:19.755Z"
   },
   {
    "duration": 6,
    "start_time": "2021-10-02T13:59:20.821Z"
   },
   {
    "duration": 4,
    "start_time": "2021-10-02T13:59:46.035Z"
   },
   {
    "duration": 5,
    "start_time": "2021-10-02T13:59:52.435Z"
   },
   {
    "duration": 4,
    "start_time": "2021-10-02T14:00:36.285Z"
   },
   {
    "duration": 6,
    "start_time": "2021-10-02T14:01:29.485Z"
   },
   {
    "duration": 5,
    "start_time": "2021-10-02T14:01:32.412Z"
   },
   {
    "duration": 5,
    "start_time": "2021-10-02T14:01:33.269Z"
   },
   {
    "duration": 905,
    "start_time": "2021-10-02T14:02:08.376Z"
   },
   {
    "duration": 11,
    "start_time": "2021-10-02T14:02:09.283Z"
   },
   {
    "duration": 11,
    "start_time": "2021-10-02T14:02:09.296Z"
   },
   {
    "duration": 5,
    "start_time": "2021-10-02T14:02:09.309Z"
   },
   {
    "duration": 12,
    "start_time": "2021-10-02T14:02:09.316Z"
   },
   {
    "duration": 47,
    "start_time": "2021-10-02T14:02:09.330Z"
   },
   {
    "duration": 6,
    "start_time": "2021-10-02T14:02:09.379Z"
   },
   {
    "duration": 29,
    "start_time": "2021-10-02T14:02:09.388Z"
   },
   {
    "duration": 12,
    "start_time": "2021-10-02T14:02:09.420Z"
   },
   {
    "duration": 4,
    "start_time": "2021-10-02T14:02:09.434Z"
   },
   {
    "duration": 47,
    "start_time": "2021-10-02T14:02:09.440Z"
   },
   {
    "duration": 4,
    "start_time": "2021-10-02T14:02:09.489Z"
   },
   {
    "duration": 13,
    "start_time": "2021-10-02T14:02:09.495Z"
   },
   {
    "duration": 8,
    "start_time": "2021-10-02T14:02:09.510Z"
   },
   {
    "duration": 14,
    "start_time": "2021-10-02T14:02:09.520Z"
   },
   {
    "duration": 61,
    "start_time": "2021-10-02T14:02:09.536Z"
   },
   {
    "duration": 56,
    "start_time": "2021-10-02T14:02:09.599Z"
   },
   {
    "duration": 62,
    "start_time": "2021-10-02T14:02:09.658Z"
   },
   {
    "duration": 24,
    "start_time": "2021-10-02T14:02:09.722Z"
   },
   {
    "duration": 25,
    "start_time": "2021-10-02T14:02:09.748Z"
   },
   {
    "duration": 32,
    "start_time": "2021-10-02T14:02:09.775Z"
   },
   {
    "duration": 33,
    "start_time": "2021-10-02T14:02:09.808Z"
   },
   {
    "duration": 23,
    "start_time": "2021-10-02T14:02:09.846Z"
   },
   {
    "duration": 24,
    "start_time": "2021-10-02T14:02:09.872Z"
   },
   {
    "duration": 12,
    "start_time": "2021-10-02T14:02:09.898Z"
   },
   {
    "duration": 34,
    "start_time": "2021-10-02T14:02:09.911Z"
   },
   {
    "duration": 18,
    "start_time": "2021-10-02T14:02:09.947Z"
   },
   {
    "duration": 16,
    "start_time": "2021-10-02T14:02:09.966Z"
   },
   {
    "duration": 5,
    "start_time": "2021-10-02T14:02:09.984Z"
   },
   {
    "duration": 13,
    "start_time": "2021-10-02T14:02:09.991Z"
   },
   {
    "duration": 9,
    "start_time": "2021-10-02T14:02:10.005Z"
   },
   {
    "duration": 6,
    "start_time": "2021-10-02T14:02:10.016Z"
   },
   {
    "duration": 15,
    "start_time": "2021-10-02T14:02:10.024Z"
   },
   {
    "duration": 40,
    "start_time": "2021-10-02T14:02:10.041Z"
   },
   {
    "duration": 8,
    "start_time": "2021-10-02T14:02:10.083Z"
   },
   {
    "duration": 10,
    "start_time": "2021-10-02T14:02:10.093Z"
   },
   {
    "duration": 6,
    "start_time": "2021-10-02T14:02:10.104Z"
   },
   {
    "duration": 3,
    "start_time": "2021-10-02T14:02:10.112Z"
   },
   {
    "duration": 3705,
    "start_time": "2021-10-02T14:02:10.117Z"
   },
   {
    "duration": 12,
    "start_time": "2021-10-02T14:02:13.825Z"
   },
   {
    "duration": 5,
    "start_time": "2021-10-02T14:02:13.839Z"
   },
   {
    "duration": 9,
    "start_time": "2021-10-02T14:02:13.846Z"
   },
   {
    "duration": 22,
    "start_time": "2021-10-02T14:02:13.857Z"
   },
   {
    "duration": 17,
    "start_time": "2021-10-02T14:02:13.881Z"
   },
   {
    "duration": 9,
    "start_time": "2021-10-02T14:02:13.900Z"
   },
   {
    "duration": 9,
    "start_time": "2021-10-02T14:02:13.910Z"
   },
   {
    "duration": 24,
    "start_time": "2021-10-02T14:02:13.921Z"
   },
   {
    "duration": 5,
    "start_time": "2021-10-02T14:02:13.947Z"
   },
   {
    "duration": 5,
    "start_time": "2021-10-02T14:02:13.954Z"
   },
   {
    "duration": 18,
    "start_time": "2021-10-02T14:02:13.961Z"
   },
   {
    "duration": 15,
    "start_time": "2021-10-02T14:02:13.981Z"
   },
   {
    "duration": 18,
    "start_time": "2021-10-02T14:02:13.998Z"
   },
   {
    "duration": 8,
    "start_time": "2021-10-02T14:02:14.017Z"
   },
   {
    "duration": 16,
    "start_time": "2021-10-02T14:02:14.027Z"
   },
   {
    "duration": 36,
    "start_time": "2021-10-02T14:02:14.045Z"
   },
   {
    "duration": 10,
    "start_time": "2021-10-02T14:02:14.083Z"
   },
   {
    "duration": 9,
    "start_time": "2021-10-02T14:02:14.095Z"
   },
   {
    "duration": 5,
    "start_time": "2021-10-02T14:02:14.106Z"
   },
   {
    "duration": 14,
    "start_time": "2021-10-02T14:02:14.112Z"
   },
   {
    "duration": 5,
    "start_time": "2021-10-02T14:02:14.127Z"
   },
   {
    "duration": 10,
    "start_time": "2021-10-02T14:02:14.134Z"
   },
   {
    "duration": 6,
    "start_time": "2021-10-02T14:02:14.146Z"
   },
   {
    "duration": 25,
    "start_time": "2021-10-02T14:02:14.153Z"
   },
   {
    "duration": 151,
    "start_time": "2021-10-02T14:02:14.179Z"
   },
   {
    "duration": 7,
    "start_time": "2021-10-02T14:02:14.332Z"
   },
   {
    "duration": 12,
    "start_time": "2021-10-02T14:02:14.341Z"
   },
   {
    "duration": 3,
    "start_time": "2021-10-02T14:02:14.355Z"
   },
   {
    "duration": 28,
    "start_time": "2021-10-02T14:02:14.363Z"
   },
   {
    "duration": 11,
    "start_time": "2021-10-02T14:02:14.394Z"
   },
   {
    "duration": 7,
    "start_time": "2021-10-02T14:02:14.406Z"
   },
   {
    "duration": 7,
    "start_time": "2021-10-02T14:02:14.415Z"
   },
   {
    "duration": 15,
    "start_time": "2021-10-02T14:02:14.424Z"
   },
   {
    "duration": 414,
    "start_time": "2021-10-02T14:02:14.440Z"
   },
   {
    "duration": 1719,
    "start_time": "2021-10-02T14:02:47.940Z"
   },
   {
    "duration": 11,
    "start_time": "2021-10-02T14:02:49.661Z"
   },
   {
    "duration": 27,
    "start_time": "2021-10-02T14:02:49.674Z"
   },
   {
    "duration": 41,
    "start_time": "2021-10-02T14:02:49.703Z"
   },
   {
    "duration": 37,
    "start_time": "2021-10-02T14:02:49.745Z"
   },
   {
    "duration": 26,
    "start_time": "2021-10-02T14:02:49.784Z"
   },
   {
    "duration": 27,
    "start_time": "2021-10-02T14:02:49.811Z"
   },
   {
    "duration": 46,
    "start_time": "2021-10-02T14:02:49.841Z"
   },
   {
    "duration": 10,
    "start_time": "2021-10-02T14:02:49.889Z"
   },
   {
    "duration": 25,
    "start_time": "2021-10-02T14:02:49.900Z"
   },
   {
    "duration": 22,
    "start_time": "2021-10-02T14:02:49.927Z"
   },
   {
    "duration": 12,
    "start_time": "2021-10-02T14:02:49.951Z"
   },
   {
    "duration": 41,
    "start_time": "2021-10-02T14:02:49.965Z"
   },
   {
    "duration": 18,
    "start_time": "2021-10-02T14:02:50.008Z"
   },
   {
    "duration": 30,
    "start_time": "2021-10-02T14:02:50.028Z"
   },
   {
    "duration": 19,
    "start_time": "2021-10-02T14:02:50.060Z"
   },
   {
    "duration": 30,
    "start_time": "2021-10-02T14:02:50.081Z"
   },
   {
    "duration": 35,
    "start_time": "2021-10-02T14:02:50.113Z"
   },
   {
    "duration": 21,
    "start_time": "2021-10-02T14:02:50.150Z"
   },
   {
    "duration": 38,
    "start_time": "2021-10-02T14:02:50.173Z"
   },
   {
    "duration": 12,
    "start_time": "2021-10-02T14:02:50.213Z"
   },
   {
    "duration": 32,
    "start_time": "2021-10-02T14:02:50.227Z"
   },
   {
    "duration": 32,
    "start_time": "2021-10-02T14:02:50.263Z"
   },
   {
    "duration": 14,
    "start_time": "2021-10-02T14:02:50.298Z"
   },
   {
    "duration": 26,
    "start_time": "2021-10-02T14:02:50.314Z"
   },
   {
    "duration": 25,
    "start_time": "2021-10-02T14:02:50.342Z"
   },
   {
    "duration": 30,
    "start_time": "2021-10-02T14:02:50.369Z"
   },
   {
    "duration": 18,
    "start_time": "2021-10-02T14:02:50.401Z"
   },
   {
    "duration": 18,
    "start_time": "2021-10-02T14:02:50.421Z"
   },
   {
    "duration": 35,
    "start_time": "2021-10-02T14:02:50.441Z"
   },
   {
    "duration": 23,
    "start_time": "2021-10-02T14:02:50.478Z"
   },
   {
    "duration": 26,
    "start_time": "2021-10-02T14:02:50.502Z"
   },
   {
    "duration": 39,
    "start_time": "2021-10-02T14:02:50.530Z"
   },
   {
    "duration": 31,
    "start_time": "2021-10-02T14:02:50.570Z"
   },
   {
    "duration": 26,
    "start_time": "2021-10-02T14:02:50.603Z"
   },
   {
    "duration": 16,
    "start_time": "2021-10-02T14:02:50.631Z"
   },
   {
    "duration": 18,
    "start_time": "2021-10-02T14:02:50.648Z"
   },
   {
    "duration": 19,
    "start_time": "2021-10-02T14:02:50.668Z"
   },
   {
    "duration": 3715,
    "start_time": "2021-10-02T14:02:50.689Z"
   },
   {
    "duration": 14,
    "start_time": "2021-10-02T14:02:54.407Z"
   },
   {
    "duration": 5,
    "start_time": "2021-10-02T14:02:54.423Z"
   },
   {
    "duration": 15,
    "start_time": "2021-10-02T14:02:54.430Z"
   },
   {
    "duration": 16,
    "start_time": "2021-10-02T14:02:54.447Z"
   },
   {
    "duration": 24,
    "start_time": "2021-10-02T14:02:54.465Z"
   },
   {
    "duration": 10,
    "start_time": "2021-10-02T14:02:54.491Z"
   },
   {
    "duration": 16,
    "start_time": "2021-10-02T14:02:54.502Z"
   },
   {
    "duration": 24,
    "start_time": "2021-10-02T14:02:54.520Z"
   },
   {
    "duration": 4,
    "start_time": "2021-10-02T14:02:54.546Z"
   },
   {
    "duration": 14,
    "start_time": "2021-10-02T14:02:54.552Z"
   },
   {
    "duration": 18,
    "start_time": "2021-10-02T14:02:54.568Z"
   },
   {
    "duration": 12,
    "start_time": "2021-10-02T14:02:54.588Z"
   },
   {
    "duration": 23,
    "start_time": "2021-10-02T14:02:54.601Z"
   },
   {
    "duration": 7,
    "start_time": "2021-10-02T14:02:54.626Z"
   },
   {
    "duration": 18,
    "start_time": "2021-10-02T14:02:54.635Z"
   },
   {
    "duration": 14,
    "start_time": "2021-10-02T14:02:54.655Z"
   },
   {
    "duration": 9,
    "start_time": "2021-10-02T14:02:54.670Z"
   },
   {
    "duration": 9,
    "start_time": "2021-10-02T14:02:54.680Z"
   },
   {
    "duration": 24,
    "start_time": "2021-10-02T14:02:54.691Z"
   },
   {
    "duration": 11,
    "start_time": "2021-10-02T14:02:54.717Z"
   },
   {
    "duration": 12,
    "start_time": "2021-10-02T14:02:54.730Z"
   },
   {
    "duration": 9,
    "start_time": "2021-10-02T14:02:54.744Z"
   },
   {
    "duration": 12,
    "start_time": "2021-10-02T14:02:54.754Z"
   },
   {
    "duration": 14,
    "start_time": "2021-10-02T14:02:54.767Z"
   },
   {
    "duration": 154,
    "start_time": "2021-10-02T14:02:54.783Z"
   },
   {
    "duration": 7,
    "start_time": "2021-10-02T14:02:54.939Z"
   },
   {
    "duration": 27,
    "start_time": "2021-10-02T14:02:54.948Z"
   },
   {
    "duration": 4,
    "start_time": "2021-10-02T14:02:54.977Z"
   },
   {
    "duration": 32,
    "start_time": "2021-10-02T14:02:54.986Z"
   },
   {
    "duration": 14,
    "start_time": "2021-10-02T14:02:55.020Z"
   },
   {
    "duration": 15,
    "start_time": "2021-10-02T14:02:55.036Z"
   },
   {
    "duration": 26,
    "start_time": "2021-10-02T14:02:55.053Z"
   },
   {
    "duration": 21,
    "start_time": "2021-10-02T14:02:55.081Z"
   },
   {
    "duration": 446,
    "start_time": "2021-10-02T14:02:55.104Z"
   },
   {
    "duration": 6,
    "start_time": "2021-10-02T14:03:54.737Z"
   },
   {
    "duration": 8,
    "start_time": "2021-10-02T14:03:54.745Z"
   },
   {
    "duration": 5,
    "start_time": "2021-10-02T14:03:56.406Z"
   },
   {
    "duration": 5,
    "start_time": "2021-10-02T14:03:58.645Z"
   },
   {
    "duration": 86,
    "start_time": "2021-10-02T14:04:52.445Z"
   },
   {
    "duration": 11,
    "start_time": "2021-10-02T14:04:52.533Z"
   },
   {
    "duration": 31,
    "start_time": "2021-10-02T14:04:52.546Z"
   },
   {
    "duration": 3,
    "start_time": "2021-10-02T14:04:52.579Z"
   },
   {
    "duration": 15,
    "start_time": "2021-10-02T14:04:52.584Z"
   },
   {
    "duration": 9,
    "start_time": "2021-10-02T14:04:52.600Z"
   },
   {
    "duration": 7,
    "start_time": "2021-10-02T14:04:52.611Z"
   },
   {
    "duration": 57,
    "start_time": "2021-10-02T14:04:52.621Z"
   },
   {
    "duration": 10,
    "start_time": "2021-10-02T14:04:52.680Z"
   },
   {
    "duration": 4,
    "start_time": "2021-10-02T14:04:52.691Z"
   },
   {
    "duration": 12,
    "start_time": "2021-10-02T14:04:52.697Z"
   },
   {
    "duration": 3,
    "start_time": "2021-10-02T14:04:52.711Z"
   },
   {
    "duration": 21,
    "start_time": "2021-10-02T14:04:52.716Z"
   },
   {
    "duration": 42,
    "start_time": "2021-10-02T14:04:52.739Z"
   },
   {
    "duration": 3,
    "start_time": "2021-10-02T14:04:52.783Z"
   },
   {
    "duration": 6,
    "start_time": "2021-10-02T14:04:52.788Z"
   },
   {
    "duration": 7,
    "start_time": "2021-10-02T14:04:52.796Z"
   },
   {
    "duration": 15,
    "start_time": "2021-10-02T14:04:52.805Z"
   },
   {
    "duration": 7,
    "start_time": "2021-10-02T14:04:52.823Z"
   },
   {
    "duration": 56,
    "start_time": "2021-10-02T14:04:52.832Z"
   },
   {
    "duration": 7,
    "start_time": "2021-10-02T14:04:52.890Z"
   },
   {
    "duration": 18,
    "start_time": "2021-10-02T14:04:52.899Z"
   },
   {
    "duration": 19,
    "start_time": "2021-10-02T14:04:52.922Z"
   },
   {
    "duration": 46,
    "start_time": "2021-10-02T14:04:52.944Z"
   },
   {
    "duration": 12,
    "start_time": "2021-10-02T14:04:52.992Z"
   },
   {
    "duration": 20,
    "start_time": "2021-10-02T14:04:53.006Z"
   },
   {
    "duration": 17,
    "start_time": "2021-10-02T14:04:53.028Z"
   },
   {
    "duration": 43,
    "start_time": "2021-10-02T14:04:53.047Z"
   },
   {
    "duration": 5,
    "start_time": "2021-10-02T14:04:53.092Z"
   },
   {
    "duration": 19,
    "start_time": "2021-10-02T14:04:53.098Z"
   },
   {
    "duration": 8,
    "start_time": "2021-10-02T14:04:53.119Z"
   },
   {
    "duration": 7,
    "start_time": "2021-10-02T14:04:53.129Z"
   },
   {
    "duration": 42,
    "start_time": "2021-10-02T14:04:53.138Z"
   },
   {
    "duration": 6,
    "start_time": "2021-10-02T14:04:53.181Z"
   },
   {
    "duration": 5,
    "start_time": "2021-10-02T14:04:53.189Z"
   },
   {
    "duration": 6,
    "start_time": "2021-10-02T14:04:53.196Z"
   },
   {
    "duration": 9,
    "start_time": "2021-10-02T14:04:53.204Z"
   },
   {
    "duration": 6,
    "start_time": "2021-10-02T14:04:53.214Z"
   },
   {
    "duration": 3855,
    "start_time": "2021-10-02T14:04:53.222Z"
   },
   {
    "duration": 12,
    "start_time": "2021-10-02T14:04:57.080Z"
   },
   {
    "duration": 18,
    "start_time": "2021-10-02T14:04:57.094Z"
   },
   {
    "duration": 21,
    "start_time": "2021-10-02T14:04:57.113Z"
   },
   {
    "duration": 13,
    "start_time": "2021-10-02T14:04:57.136Z"
   },
   {
    "duration": 25,
    "start_time": "2021-10-02T14:04:57.150Z"
   },
   {
    "duration": 23,
    "start_time": "2021-10-02T14:04:57.177Z"
   },
   {
    "duration": 15,
    "start_time": "2021-10-02T14:04:57.202Z"
   },
   {
    "duration": 18,
    "start_time": "2021-10-02T14:04:57.219Z"
   },
   {
    "duration": 35,
    "start_time": "2021-10-02T14:04:57.239Z"
   },
   {
    "duration": 7,
    "start_time": "2021-10-02T14:04:57.276Z"
   },
   {
    "duration": 18,
    "start_time": "2021-10-02T14:04:57.285Z"
   },
   {
    "duration": 10,
    "start_time": "2021-10-02T14:04:57.305Z"
   },
   {
    "duration": 23,
    "start_time": "2021-10-02T14:04:57.317Z"
   },
   {
    "duration": 7,
    "start_time": "2021-10-02T14:04:57.341Z"
   },
   {
    "duration": 17,
    "start_time": "2021-10-02T14:04:57.350Z"
   },
   {
    "duration": 18,
    "start_time": "2021-10-02T14:04:57.369Z"
   },
   {
    "duration": 13,
    "start_time": "2021-10-02T14:04:57.389Z"
   },
   {
    "duration": 28,
    "start_time": "2021-10-02T14:04:57.404Z"
   },
   {
    "duration": 15,
    "start_time": "2021-10-02T14:04:57.433Z"
   },
   {
    "duration": 24,
    "start_time": "2021-10-02T14:04:57.450Z"
   },
   {
    "duration": 18,
    "start_time": "2021-10-02T14:04:57.476Z"
   },
   {
    "duration": 16,
    "start_time": "2021-10-02T14:04:57.495Z"
   },
   {
    "duration": 20,
    "start_time": "2021-10-02T14:04:57.513Z"
   },
   {
    "duration": 19,
    "start_time": "2021-10-02T14:04:57.535Z"
   },
   {
    "duration": 160,
    "start_time": "2021-10-02T14:04:57.556Z"
   },
   {
    "duration": 7,
    "start_time": "2021-10-02T14:04:57.718Z"
   },
   {
    "duration": 26,
    "start_time": "2021-10-02T14:04:57.727Z"
   },
   {
    "duration": 16,
    "start_time": "2021-10-02T14:04:57.754Z"
   },
   {
    "duration": 26,
    "start_time": "2021-10-02T14:04:57.777Z"
   },
   {
    "duration": 12,
    "start_time": "2021-10-02T14:04:57.805Z"
   },
   {
    "duration": 12,
    "start_time": "2021-10-02T14:04:57.818Z"
   },
   {
    "duration": 25,
    "start_time": "2021-10-02T14:04:57.832Z"
   },
   {
    "duration": 23,
    "start_time": "2021-10-02T14:04:57.859Z"
   },
   {
    "duration": 352,
    "start_time": "2021-10-02T14:04:57.883Z"
   },
   {
    "duration": 4,
    "start_time": "2021-10-02T14:05:35.385Z"
   },
   {
    "duration": 4,
    "start_time": "2021-10-02T14:06:18.169Z"
   },
   {
    "duration": 5,
    "start_time": "2021-10-02T14:06:19.322Z"
   },
   {
    "duration": 5,
    "start_time": "2021-10-02T14:06:20.193Z"
   },
   {
    "duration": 5,
    "start_time": "2021-10-02T14:06:21.817Z"
   },
   {
    "duration": 5,
    "start_time": "2021-10-02T14:06:23.020Z"
   },
   {
    "duration": 345,
    "start_time": "2021-10-02T14:07:12.827Z"
   },
   {
    "duration": 362,
    "start_time": "2021-10-02T14:07:27.194Z"
   },
   {
    "duration": 351,
    "start_time": "2021-10-02T14:07:34.234Z"
   },
   {
    "duration": 11,
    "start_time": "2021-10-02T14:07:59.668Z"
   },
   {
    "duration": 331,
    "start_time": "2021-10-02T14:08:35.737Z"
   },
   {
    "duration": 13,
    "start_time": "2021-10-02T14:08:38.075Z"
   },
   {
    "duration": 717,
    "start_time": "2021-10-02T14:08:45.276Z"
   },
   {
    "duration": 11,
    "start_time": "2021-10-02T14:08:45.995Z"
   },
   {
    "duration": 9,
    "start_time": "2021-10-02T14:08:46.008Z"
   },
   {
    "duration": 5,
    "start_time": "2021-10-02T14:08:46.018Z"
   },
   {
    "duration": 12,
    "start_time": "2021-10-02T14:08:46.024Z"
   },
   {
    "duration": 6,
    "start_time": "2021-10-02T14:08:46.038Z"
   },
   {
    "duration": 33,
    "start_time": "2021-10-02T14:08:46.045Z"
   },
   {
    "duration": 28,
    "start_time": "2021-10-02T14:08:46.080Z"
   },
   {
    "duration": 10,
    "start_time": "2021-10-02T14:08:46.110Z"
   },
   {
    "duration": 5,
    "start_time": "2021-10-02T14:08:46.122Z"
   },
   {
    "duration": 18,
    "start_time": "2021-10-02T14:08:46.129Z"
   },
   {
    "duration": 29,
    "start_time": "2021-10-02T14:08:46.149Z"
   },
   {
    "duration": 15,
    "start_time": "2021-10-02T14:08:46.180Z"
   },
   {
    "duration": 7,
    "start_time": "2021-10-02T14:08:46.197Z"
   },
   {
    "duration": 3,
    "start_time": "2021-10-02T14:08:46.206Z"
   },
   {
    "duration": 5,
    "start_time": "2021-10-02T14:08:46.211Z"
   },
   {
    "duration": 10,
    "start_time": "2021-10-02T14:08:46.218Z"
   },
   {
    "duration": 46,
    "start_time": "2021-10-02T14:08:46.230Z"
   },
   {
    "duration": 6,
    "start_time": "2021-10-02T14:08:46.278Z"
   },
   {
    "duration": 16,
    "start_time": "2021-10-02T14:08:46.285Z"
   },
   {
    "duration": 5,
    "start_time": "2021-10-02T14:08:46.302Z"
   },
   {
    "duration": 18,
    "start_time": "2021-10-02T14:08:46.309Z"
   },
   {
    "duration": 18,
    "start_time": "2021-10-02T14:08:46.331Z"
   },
   {
    "duration": 16,
    "start_time": "2021-10-02T14:08:46.376Z"
   },
   {
    "duration": 11,
    "start_time": "2021-10-02T14:08:46.393Z"
   },
   {
    "duration": 20,
    "start_time": "2021-10-02T14:08:46.406Z"
   },
   {
    "duration": 17,
    "start_time": "2021-10-02T14:08:46.427Z"
   },
   {
    "duration": 44,
    "start_time": "2021-10-02T14:08:46.446Z"
   },
   {
    "duration": 4,
    "start_time": "2021-10-02T14:08:46.492Z"
   },
   {
    "duration": 11,
    "start_time": "2021-10-02T14:08:46.498Z"
   },
   {
    "duration": 5,
    "start_time": "2021-10-02T14:08:46.511Z"
   },
   {
    "duration": 7,
    "start_time": "2021-10-02T14:08:46.517Z"
   },
   {
    "duration": 12,
    "start_time": "2021-10-02T14:08:46.526Z"
   },
   {
    "duration": 38,
    "start_time": "2021-10-02T14:08:46.539Z"
   },
   {
    "duration": 7,
    "start_time": "2021-10-02T14:08:46.578Z"
   },
   {
    "duration": 11,
    "start_time": "2021-10-02T14:08:46.586Z"
   },
   {
    "duration": 6,
    "start_time": "2021-10-02T14:08:46.598Z"
   },
   {
    "duration": 4,
    "start_time": "2021-10-02T14:08:46.606Z"
   },
   {
    "duration": 3734,
    "start_time": "2021-10-02T14:08:46.612Z"
   },
   {
    "duration": 12,
    "start_time": "2021-10-02T14:08:50.348Z"
   },
   {
    "duration": 15,
    "start_time": "2021-10-02T14:08:50.362Z"
   },
   {
    "duration": 9,
    "start_time": "2021-10-02T14:08:50.379Z"
   },
   {
    "duration": 5,
    "start_time": "2021-10-02T14:08:50.390Z"
   },
   {
    "duration": 9,
    "start_time": "2021-10-02T14:08:50.396Z"
   },
   {
    "duration": 4,
    "start_time": "2021-10-02T14:08:50.407Z"
   },
   {
    "duration": 14,
    "start_time": "2021-10-02T14:08:50.412Z"
   },
   {
    "duration": 4,
    "start_time": "2021-10-02T14:08:50.428Z"
   },
   {
    "duration": 49,
    "start_time": "2021-10-02T14:08:50.434Z"
   },
   {
    "duration": 8,
    "start_time": "2021-10-02T14:08:50.485Z"
   },
   {
    "duration": 8,
    "start_time": "2021-10-02T14:08:50.495Z"
   },
   {
    "duration": 9,
    "start_time": "2021-10-02T14:08:50.505Z"
   },
   {
    "duration": 4,
    "start_time": "2021-10-02T14:08:50.516Z"
   },
   {
    "duration": 10,
    "start_time": "2021-10-02T14:08:50.521Z"
   },
   {
    "duration": 5,
    "start_time": "2021-10-02T14:08:50.532Z"
   },
   {
    "duration": 39,
    "start_time": "2021-10-02T14:08:50.539Z"
   },
   {
    "duration": 8,
    "start_time": "2021-10-02T14:08:50.580Z"
   },
   {
    "duration": 12,
    "start_time": "2021-10-02T14:08:50.590Z"
   },
   {
    "duration": 10,
    "start_time": "2021-10-02T14:08:50.604Z"
   },
   {
    "duration": 7,
    "start_time": "2021-10-02T14:08:50.616Z"
   },
   {
    "duration": 145,
    "start_time": "2021-10-02T14:08:50.625Z"
   },
   {
    "duration": 9,
    "start_time": "2021-10-02T14:08:50.772Z"
   },
   {
    "duration": 392,
    "start_time": "2021-10-02T14:08:50.783Z"
   },
   {
    "duration": -8,
    "start_time": "2021-10-02T14:08:51.185Z"
   },
   {
    "duration": -17,
    "start_time": "2021-10-02T14:08:51.195Z"
   },
   {
    "duration": -21,
    "start_time": "2021-10-02T14:08:51.200Z"
   },
   {
    "duration": -23,
    "start_time": "2021-10-02T14:08:51.203Z"
   },
   {
    "duration": -27,
    "start_time": "2021-10-02T14:08:51.208Z"
   },
   {
    "duration": -29,
    "start_time": "2021-10-02T14:08:51.211Z"
   },
   {
    "duration": -32,
    "start_time": "2021-10-02T14:08:51.215Z"
   },
   {
    "duration": 10,
    "start_time": "2021-10-02T14:09:07.759Z"
   },
   {
    "duration": 10,
    "start_time": "2021-10-02T14:14:46.221Z"
   },
   {
    "duration": 4,
    "start_time": "2021-10-02T14:18:44.520Z"
   },
   {
    "duration": 8,
    "start_time": "2021-10-02T14:18:45.935Z"
   },
   {
    "duration": 8,
    "start_time": "2021-10-02T14:18:55.975Z"
   },
   {
    "duration": 3,
    "start_time": "2021-10-02T14:18:59.544Z"
   },
   {
    "duration": 3,
    "start_time": "2021-10-02T14:19:00.344Z"
   },
   {
    "duration": 3,
    "start_time": "2021-10-02T14:19:01.719Z"
   },
   {
    "duration": 3,
    "start_time": "2021-10-02T14:19:02.855Z"
   },
   {
    "duration": 3,
    "start_time": "2021-10-02T14:19:03.887Z"
   },
   {
    "duration": 3,
    "start_time": "2021-10-02T14:19:05.054Z"
   },
   {
    "duration": 13,
    "start_time": "2021-10-02T14:19:07.608Z"
   },
   {
    "duration": 9,
    "start_time": "2021-10-02T14:19:09.520Z"
   },
   {
    "duration": 10,
    "start_time": "2021-10-02T14:19:13.952Z"
   },
   {
    "duration": 10,
    "start_time": "2021-10-02T14:19:28.408Z"
   },
   {
    "duration": 17,
    "start_time": "2021-10-02T14:19:39.345Z"
   },
   {
    "duration": 12,
    "start_time": "2021-10-02T14:19:44.512Z"
   },
   {
    "duration": 9,
    "start_time": "2021-10-02T14:19:53.329Z"
   },
   {
    "duration": 467,
    "start_time": "2021-10-02T14:20:03.272Z"
   },
   {
    "duration": 9,
    "start_time": "2021-10-02T14:20:07.656Z"
   },
   {
    "duration": 10,
    "start_time": "2021-10-02T14:20:17.567Z"
   },
   {
    "duration": 5,
    "start_time": "2021-10-02T14:20:38.272Z"
   },
   {
    "duration": 8,
    "start_time": "2021-10-02T14:20:39.830Z"
   },
   {
    "duration": 8,
    "start_time": "2021-10-02T14:20:41.201Z"
   },
   {
    "duration": 10,
    "start_time": "2021-10-02T14:20:46.217Z"
   },
   {
    "duration": 4,
    "start_time": "2021-10-02T14:21:22.860Z"
   },
   {
    "duration": 4,
    "start_time": "2021-10-02T15:38:45.003Z"
   },
   {
    "duration": 380,
    "start_time": "2021-10-02T15:39:11.399Z"
   },
   {
    "duration": 391,
    "start_time": "2021-10-02T15:39:17.249Z"
   },
   {
    "duration": 6,
    "start_time": "2021-10-02T15:39:34.019Z"
   },
   {
    "duration": 348,
    "start_time": "2021-10-02T15:39:38.913Z"
   },
   {
    "duration": 344,
    "start_time": "2021-10-02T15:40:08.882Z"
   },
   {
    "duration": 4,
    "start_time": "2021-10-02T15:40:28.393Z"
   },
   {
    "duration": 3,
    "start_time": "2021-10-02T15:41:28.357Z"
   },
   {
    "duration": 3,
    "start_time": "2021-10-02T15:41:29.458Z"
   },
   {
    "duration": 5,
    "start_time": "2021-10-02T15:41:30.820Z"
   },
   {
    "duration": 341,
    "start_time": "2021-10-02T15:41:38.107Z"
   },
   {
    "duration": 5,
    "start_time": "2021-10-02T15:41:41.770Z"
   },
   {
    "duration": 3,
    "start_time": "2021-10-02T15:42:13.316Z"
   },
   {
    "duration": 3,
    "start_time": "2021-10-02T15:42:24.363Z"
   },
   {
    "duration": 2,
    "start_time": "2021-10-02T15:42:26.707Z"
   },
   {
    "duration": 3,
    "start_time": "2021-10-02T15:42:28.348Z"
   },
   {
    "duration": 333,
    "start_time": "2021-10-02T15:42:29.322Z"
   },
   {
    "duration": 3,
    "start_time": "2021-10-02T15:42:30.940Z"
   },
   {
    "duration": 3,
    "start_time": "2021-10-02T15:42:36.289Z"
   },
   {
    "duration": 2,
    "start_time": "2021-10-02T15:42:37.628Z"
   },
   {
    "duration": 3,
    "start_time": "2021-10-02T15:42:38.836Z"
   },
   {
    "duration": 333,
    "start_time": "2021-10-02T15:42:39.658Z"
   },
   {
    "duration": 85,
    "start_time": "2021-10-02T15:43:04.345Z"
   },
   {
    "duration": 3,
    "start_time": "2021-10-02T15:43:14.868Z"
   },
   {
    "duration": 2,
    "start_time": "2021-10-02T15:43:15.636Z"
   },
   {
    "duration": 4,
    "start_time": "2021-10-02T15:43:16.703Z"
   },
   {
    "duration": 344,
    "start_time": "2021-10-02T15:43:17.884Z"
   },
   {
    "duration": 3,
    "start_time": "2021-10-02T15:43:19.876Z"
   },
   {
    "duration": 4,
    "start_time": "2021-10-02T15:44:16.342Z"
   },
   {
    "duration": 3,
    "start_time": "2021-10-02T15:44:17.862Z"
   },
   {
    "duration": 3,
    "start_time": "2021-10-02T15:44:18.996Z"
   },
   {
    "duration": 366,
    "start_time": "2021-10-02T15:44:19.916Z"
   },
   {
    "duration": 3,
    "start_time": "2021-10-02T15:44:22.334Z"
   },
   {
    "duration": 6,
    "start_time": "2021-10-02T15:44:45.023Z"
   },
   {
    "duration": 4,
    "start_time": "2021-10-02T15:44:47.852Z"
   },
   {
    "duration": 4,
    "start_time": "2021-10-02T15:44:52.031Z"
   },
   {
    "duration": 6,
    "start_time": "2021-10-02T15:45:08.294Z"
   },
   {
    "duration": 346,
    "start_time": "2021-10-02T15:45:33.334Z"
   },
   {
    "duration": 6,
    "start_time": "2021-10-02T15:45:40.558Z"
   },
   {
    "duration": 6,
    "start_time": "2021-10-02T15:46:04.494Z"
   },
   {
    "duration": 2,
    "start_time": "2021-10-02T15:46:22.142Z"
   },
   {
    "duration": 5,
    "start_time": "2021-10-02T15:46:24.766Z"
   },
   {
    "duration": 4,
    "start_time": "2021-10-02T15:46:28.431Z"
   },
   {
    "duration": 4,
    "start_time": "2021-10-02T15:46:29.632Z"
   },
   {
    "duration": 6,
    "start_time": "2021-10-02T15:46:33.830Z"
   },
   {
    "duration": 945,
    "start_time": "2021-10-02T15:56:07.563Z"
   },
   {
    "duration": 16,
    "start_time": "2021-10-02T15:56:08.511Z"
   },
   {
    "duration": 15,
    "start_time": "2021-10-02T15:56:08.530Z"
   },
   {
    "duration": 5,
    "start_time": "2021-10-02T15:56:08.547Z"
   },
   {
    "duration": 37,
    "start_time": "2021-10-02T15:56:08.554Z"
   },
   {
    "duration": 8,
    "start_time": "2021-10-02T15:56:08.593Z"
   },
   {
    "duration": 6,
    "start_time": "2021-10-02T15:56:08.603Z"
   },
   {
    "duration": 69,
    "start_time": "2021-10-02T15:56:08.612Z"
   },
   {
    "duration": 15,
    "start_time": "2021-10-02T15:56:08.684Z"
   },
   {
    "duration": 4,
    "start_time": "2021-10-02T15:56:08.701Z"
   },
   {
    "duration": 15,
    "start_time": "2021-10-02T15:56:08.706Z"
   },
   {
    "duration": 4,
    "start_time": "2021-10-02T15:56:08.723Z"
   },
   {
    "duration": 13,
    "start_time": "2021-10-02T15:56:08.729Z"
   },
   {
    "duration": 38,
    "start_time": "2021-10-02T15:56:08.744Z"
   },
   {
    "duration": 3,
    "start_time": "2021-10-02T15:56:08.784Z"
   },
   {
    "duration": 5,
    "start_time": "2021-10-02T15:56:08.789Z"
   },
   {
    "duration": 9,
    "start_time": "2021-10-02T15:56:08.796Z"
   },
   {
    "duration": 15,
    "start_time": "2021-10-02T15:56:08.807Z"
   },
   {
    "duration": 5,
    "start_time": "2021-10-02T15:56:08.824Z"
   },
   {
    "duration": 51,
    "start_time": "2021-10-02T15:56:08.831Z"
   },
   {
    "duration": 7,
    "start_time": "2021-10-02T15:56:08.884Z"
   },
   {
    "duration": 18,
    "start_time": "2021-10-02T15:56:08.893Z"
   },
   {
    "duration": 17,
    "start_time": "2021-10-02T15:56:08.915Z"
   },
   {
    "duration": 48,
    "start_time": "2021-10-02T15:56:08.935Z"
   },
   {
    "duration": 12,
    "start_time": "2021-10-02T15:56:08.985Z"
   },
   {
    "duration": 22,
    "start_time": "2021-10-02T15:56:08.999Z"
   },
   {
    "duration": 19,
    "start_time": "2021-10-02T15:56:09.022Z"
   },
   {
    "duration": 40,
    "start_time": "2021-10-02T15:56:09.043Z"
   },
   {
    "duration": 5,
    "start_time": "2021-10-02T15:56:09.085Z"
   },
   {
    "duration": 14,
    "start_time": "2021-10-02T15:56:09.091Z"
   },
   {
    "duration": 8,
    "start_time": "2021-10-02T15:56:09.107Z"
   },
   {
    "duration": 7,
    "start_time": "2021-10-02T15:56:09.116Z"
   },
   {
    "duration": 12,
    "start_time": "2021-10-02T15:56:09.124Z"
   },
   {
    "duration": 40,
    "start_time": "2021-10-02T15:56:09.138Z"
   },
   {
    "duration": 6,
    "start_time": "2021-10-02T15:56:09.180Z"
   },
   {
    "duration": 6,
    "start_time": "2021-10-02T15:56:09.188Z"
   },
   {
    "duration": 6,
    "start_time": "2021-10-02T15:56:09.196Z"
   },
   {
    "duration": 5,
    "start_time": "2021-10-02T15:56:09.204Z"
   },
   {
    "duration": 4098,
    "start_time": "2021-10-02T15:56:09.211Z"
   },
   {
    "duration": 20,
    "start_time": "2021-10-02T15:56:13.311Z"
   },
   {
    "duration": 7,
    "start_time": "2021-10-02T15:56:13.334Z"
   },
   {
    "duration": 9,
    "start_time": "2021-10-02T15:56:13.343Z"
   },
   {
    "duration": 27,
    "start_time": "2021-10-02T15:56:13.354Z"
   },
   {
    "duration": 12,
    "start_time": "2021-10-02T15:56:13.383Z"
   },
   {
    "duration": 4,
    "start_time": "2021-10-02T15:56:13.397Z"
   },
   {
    "duration": 16,
    "start_time": "2021-10-02T15:56:13.403Z"
   },
   {
    "duration": 21,
    "start_time": "2021-10-02T15:56:13.422Z"
   },
   {
    "duration": 37,
    "start_time": "2021-10-02T15:56:13.445Z"
   },
   {
    "duration": 10,
    "start_time": "2021-10-02T15:56:13.484Z"
   },
   {
    "duration": 12,
    "start_time": "2021-10-02T15:56:13.496Z"
   },
   {
    "duration": 115,
    "start_time": "2021-10-02T15:56:13.510Z"
   },
   {
    "duration": -122,
    "start_time": "2021-10-02T15:56:13.750Z"
   },
   {
    "duration": -126,
    "start_time": "2021-10-02T15:56:13.755Z"
   },
   {
    "duration": -131,
    "start_time": "2021-10-02T15:56:13.762Z"
   },
   {
    "duration": -134,
    "start_time": "2021-10-02T15:56:13.766Z"
   },
   {
    "duration": -137,
    "start_time": "2021-10-02T15:56:13.771Z"
   },
   {
    "duration": -142,
    "start_time": "2021-10-02T15:56:13.777Z"
   },
   {
    "duration": -144,
    "start_time": "2021-10-02T15:56:13.781Z"
   },
   {
    "duration": -148,
    "start_time": "2021-10-02T15:56:13.786Z"
   },
   {
    "duration": -152,
    "start_time": "2021-10-02T15:56:13.792Z"
   },
   {
    "duration": -155,
    "start_time": "2021-10-02T15:56:13.796Z"
   },
   {
    "duration": -158,
    "start_time": "2021-10-02T15:56:13.801Z"
   },
   {
    "duration": -163,
    "start_time": "2021-10-02T15:56:13.807Z"
   },
   {
    "duration": -165,
    "start_time": "2021-10-02T15:56:13.811Z"
   },
   {
    "duration": -168,
    "start_time": "2021-10-02T15:56:13.815Z"
   },
   {
    "duration": -171,
    "start_time": "2021-10-02T15:56:13.820Z"
   },
   {
    "duration": -176,
    "start_time": "2021-10-02T15:56:13.826Z"
   },
   {
    "duration": -178,
    "start_time": "2021-10-02T15:56:13.830Z"
   },
   {
    "duration": 9,
    "start_time": "2021-10-02T15:56:24.828Z"
   },
   {
    "duration": 4,
    "start_time": "2021-10-02T15:56:51.916Z"
   },
   {
    "duration": 7,
    "start_time": "2021-10-02T15:56:54.667Z"
   },
   {
    "duration": 433,
    "start_time": "2021-10-02T15:57:02.388Z"
   },
   {
    "duration": 3,
    "start_time": "2021-10-02T15:57:27.204Z"
   },
   {
    "duration": 4,
    "start_time": "2021-10-02T15:57:28.540Z"
   },
   {
    "duration": 3,
    "start_time": "2021-10-02T15:57:29.899Z"
   },
   {
    "duration": 2,
    "start_time": "2021-10-02T15:57:30.692Z"
   },
   {
    "duration": 3,
    "start_time": "2021-10-02T15:57:31.531Z"
   },
   {
    "duration": 3,
    "start_time": "2021-10-02T15:57:32.836Z"
   },
   {
    "duration": 14,
    "start_time": "2021-10-02T15:57:34.460Z"
   },
   {
    "duration": 8,
    "start_time": "2021-10-02T15:57:36.981Z"
   },
   {
    "duration": 336,
    "start_time": "2021-10-02T15:58:42.636Z"
   },
   {
    "duration": 344,
    "start_time": "2021-10-02T15:58:51.246Z"
   },
   {
    "duration": 9,
    "start_time": "2021-10-02T15:59:04.326Z"
   },
   {
    "duration": 16,
    "start_time": "2021-10-02T15:59:06.758Z"
   },
   {
    "duration": 9,
    "start_time": "2021-10-02T15:59:08.166Z"
   },
   {
    "duration": 342,
    "start_time": "2021-10-02T15:59:12.974Z"
   },
   {
    "duration": 5,
    "start_time": "2021-10-02T15:59:28.094Z"
   },
   {
    "duration": 333,
    "start_time": "2021-10-02T15:59:36.645Z"
   },
   {
    "duration": 9,
    "start_time": "2021-10-02T15:59:44.392Z"
   },
   {
    "duration": 17,
    "start_time": "2021-10-02T15:59:45.678Z"
   },
   {
    "duration": 9,
    "start_time": "2021-10-02T16:00:19.991Z"
   },
   {
    "duration": 13,
    "start_time": "2021-10-02T16:00:21.007Z"
   },
   {
    "duration": 746,
    "start_time": "2021-10-02T16:00:28.284Z"
   },
   {
    "duration": 10,
    "start_time": "2021-10-02T16:00:29.032Z"
   },
   {
    "duration": 15,
    "start_time": "2021-10-02T16:00:29.044Z"
   },
   {
    "duration": 15,
    "start_time": "2021-10-02T16:00:29.061Z"
   },
   {
    "duration": 9,
    "start_time": "2021-10-02T16:00:29.078Z"
   },
   {
    "duration": 16,
    "start_time": "2021-10-02T16:00:29.089Z"
   },
   {
    "duration": 6,
    "start_time": "2021-10-02T16:00:29.107Z"
   },
   {
    "duration": 30,
    "start_time": "2021-10-02T16:00:29.116Z"
   },
   {
    "duration": 10,
    "start_time": "2021-10-02T16:00:29.148Z"
   },
   {
    "duration": 4,
    "start_time": "2021-10-02T16:00:29.177Z"
   },
   {
    "duration": 22,
    "start_time": "2021-10-02T16:00:29.182Z"
   },
   {
    "duration": 3,
    "start_time": "2021-10-02T16:00:29.206Z"
   },
   {
    "duration": 19,
    "start_time": "2021-10-02T16:00:29.211Z"
   },
   {
    "duration": 7,
    "start_time": "2021-10-02T16:00:29.232Z"
   },
   {
    "duration": 13,
    "start_time": "2021-10-02T16:00:29.241Z"
   },
   {
    "duration": 20,
    "start_time": "2021-10-02T16:00:29.256Z"
   },
   {
    "duration": 6,
    "start_time": "2021-10-02T16:00:29.278Z"
   },
   {
    "duration": 26,
    "start_time": "2021-10-02T16:00:29.286Z"
   },
   {
    "duration": 5,
    "start_time": "2021-10-02T16:00:29.313Z"
   },
   {
    "duration": 23,
    "start_time": "2021-10-02T16:00:29.320Z"
   },
   {
    "duration": 5,
    "start_time": "2021-10-02T16:00:29.345Z"
   },
   {
    "duration": 31,
    "start_time": "2021-10-02T16:00:29.352Z"
   },
   {
    "duration": 18,
    "start_time": "2021-10-02T16:00:29.388Z"
   },
   {
    "duration": 16,
    "start_time": "2021-10-02T16:00:29.408Z"
   },
   {
    "duration": 13,
    "start_time": "2021-10-02T16:00:29.426Z"
   },
   {
    "duration": 46,
    "start_time": "2021-10-02T16:00:29.441Z"
   },
   {
    "duration": 18,
    "start_time": "2021-10-02T16:00:29.489Z"
   },
   {
    "duration": 17,
    "start_time": "2021-10-02T16:00:29.509Z"
   },
   {
    "duration": 6,
    "start_time": "2021-10-02T16:00:29.528Z"
   },
   {
    "duration": 43,
    "start_time": "2021-10-02T16:00:29.536Z"
   },
   {
    "duration": 10,
    "start_time": "2021-10-02T16:00:29.581Z"
   },
   {
    "duration": 17,
    "start_time": "2021-10-02T16:00:29.593Z"
   },
   {
    "duration": 26,
    "start_time": "2021-10-02T16:00:29.612Z"
   },
   {
    "duration": 12,
    "start_time": "2021-10-02T16:00:29.640Z"
   },
   {
    "duration": 8,
    "start_time": "2021-10-02T16:00:29.653Z"
   },
   {
    "duration": 17,
    "start_time": "2021-10-02T16:00:29.663Z"
   },
   {
    "duration": 14,
    "start_time": "2021-10-02T16:00:29.682Z"
   },
   {
    "duration": 10,
    "start_time": "2021-10-02T16:00:29.698Z"
   },
   {
    "duration": 3831,
    "start_time": "2021-10-02T16:00:29.709Z"
   },
   {
    "duration": 13,
    "start_time": "2021-10-02T16:00:33.542Z"
   },
   {
    "duration": 20,
    "start_time": "2021-10-02T16:00:33.557Z"
   },
   {
    "duration": 9,
    "start_time": "2021-10-02T16:00:33.578Z"
   },
   {
    "duration": 11,
    "start_time": "2021-10-02T16:00:33.588Z"
   },
   {
    "duration": 9,
    "start_time": "2021-10-02T16:00:33.600Z"
   },
   {
    "duration": 4,
    "start_time": "2021-10-02T16:00:33.610Z"
   },
   {
    "duration": 14,
    "start_time": "2021-10-02T16:00:33.615Z"
   },
   {
    "duration": 15,
    "start_time": "2021-10-02T16:00:33.631Z"
   },
   {
    "duration": 30,
    "start_time": "2021-10-02T16:00:33.648Z"
   },
   {
    "duration": 9,
    "start_time": "2021-10-02T16:00:33.679Z"
   },
   {
    "duration": 8,
    "start_time": "2021-10-02T16:00:33.689Z"
   },
   {
    "duration": 5,
    "start_time": "2021-10-02T16:00:33.699Z"
   },
   {
    "duration": 12,
    "start_time": "2021-10-02T16:00:33.706Z"
   },
   {
    "duration": 3,
    "start_time": "2021-10-02T16:00:33.719Z"
   },
   {
    "duration": 5,
    "start_time": "2021-10-02T16:00:33.724Z"
   },
   {
    "duration": 7,
    "start_time": "2021-10-02T16:00:33.731Z"
   },
   {
    "duration": 5,
    "start_time": "2021-10-02T16:00:33.739Z"
   },
   {
    "duration": 8,
    "start_time": "2021-10-02T16:00:33.745Z"
   },
   {
    "duration": 23,
    "start_time": "2021-10-02T16:00:33.755Z"
   },
   {
    "duration": 16,
    "start_time": "2021-10-02T16:00:33.780Z"
   },
   {
    "duration": 7,
    "start_time": "2021-10-02T16:00:33.798Z"
   },
   {
    "duration": 6,
    "start_time": "2021-10-02T16:00:33.807Z"
   },
   {
    "duration": 8,
    "start_time": "2021-10-02T16:00:33.815Z"
   },
   {
    "duration": 11,
    "start_time": "2021-10-02T16:00:33.824Z"
   },
   {
    "duration": 14,
    "start_time": "2021-10-02T16:00:33.837Z"
   },
   {
    "duration": 29,
    "start_time": "2021-10-02T16:00:33.853Z"
   },
   {
    "duration": 12,
    "start_time": "2021-10-02T16:00:33.883Z"
   },
   {
    "duration": 11,
    "start_time": "2021-10-02T16:00:33.897Z"
   },
   {
    "duration": 11,
    "start_time": "2021-10-02T16:00:33.913Z"
   },
   {
    "duration": 722,
    "start_time": "2021-10-02T16:09:26.773Z"
   },
   {
    "duration": 11,
    "start_time": "2021-10-02T16:09:27.497Z"
   },
   {
    "duration": 18,
    "start_time": "2021-10-02T16:09:27.512Z"
   },
   {
    "duration": 4,
    "start_time": "2021-10-02T16:09:27.532Z"
   },
   {
    "duration": 11,
    "start_time": "2021-10-02T16:09:27.537Z"
   },
   {
    "duration": 27,
    "start_time": "2021-10-02T16:09:27.550Z"
   },
   {
    "duration": 4,
    "start_time": "2021-10-02T16:09:27.580Z"
   },
   {
    "duration": 32,
    "start_time": "2021-10-02T16:09:27.586Z"
   },
   {
    "duration": 10,
    "start_time": "2021-10-02T16:09:27.619Z"
   },
   {
    "duration": 4,
    "start_time": "2021-10-02T16:09:27.630Z"
   },
   {
    "duration": 14,
    "start_time": "2021-10-02T16:09:27.636Z"
   },
   {
    "duration": 27,
    "start_time": "2021-10-02T16:09:27.651Z"
   },
   {
    "duration": 14,
    "start_time": "2021-10-02T16:09:27.680Z"
   },
   {
    "duration": 8,
    "start_time": "2021-10-02T16:09:27.695Z"
   },
   {
    "duration": 11,
    "start_time": "2021-10-02T16:09:27.705Z"
   },
   {
    "duration": 18,
    "start_time": "2021-10-02T16:09:27.717Z"
   },
   {
    "duration": 8,
    "start_time": "2021-10-02T16:09:27.737Z"
   },
   {
    "duration": 32,
    "start_time": "2021-10-02T16:09:27.746Z"
   },
   {
    "duration": 6,
    "start_time": "2021-10-02T16:09:27.780Z"
   },
   {
    "duration": 17,
    "start_time": "2021-10-02T16:09:27.787Z"
   },
   {
    "duration": 6,
    "start_time": "2021-10-02T16:09:27.806Z"
   },
   {
    "duration": 16,
    "start_time": "2021-10-02T16:09:27.816Z"
   },
   {
    "duration": 50,
    "start_time": "2021-10-02T16:09:27.835Z"
   },
   {
    "duration": 16,
    "start_time": "2021-10-02T16:09:27.887Z"
   },
   {
    "duration": 11,
    "start_time": "2021-10-02T16:09:27.905Z"
   },
   {
    "duration": 24,
    "start_time": "2021-10-02T16:09:27.919Z"
   },
   {
    "duration": 38,
    "start_time": "2021-10-02T16:09:27.945Z"
   },
   {
    "duration": 16,
    "start_time": "2021-10-02T16:09:27.984Z"
   },
   {
    "duration": 5,
    "start_time": "2021-10-02T16:09:28.001Z"
   },
   {
    "duration": 18,
    "start_time": "2021-10-02T16:09:28.007Z"
   },
   {
    "duration": 8,
    "start_time": "2021-10-02T16:09:28.027Z"
   },
   {
    "duration": 7,
    "start_time": "2021-10-02T16:09:28.037Z"
   },
   {
    "duration": 39,
    "start_time": "2021-10-02T16:09:28.046Z"
   },
   {
    "duration": 26,
    "start_time": "2021-10-02T16:09:28.086Z"
   },
   {
    "duration": 30,
    "start_time": "2021-10-02T16:09:28.114Z"
   },
   {
    "duration": 20,
    "start_time": "2021-10-02T16:09:28.145Z"
   },
   {
    "duration": 25,
    "start_time": "2021-10-02T16:09:28.166Z"
   },
   {
    "duration": 8,
    "start_time": "2021-10-02T16:09:28.192Z"
   },
   {
    "duration": 3791,
    "start_time": "2021-10-02T16:09:28.201Z"
   },
   {
    "duration": 31,
    "start_time": "2021-10-02T16:09:31.998Z"
   },
   {
    "duration": 11,
    "start_time": "2021-10-02T16:09:32.031Z"
   },
   {
    "duration": 15,
    "start_time": "2021-10-02T16:09:32.044Z"
   },
   {
    "duration": 14,
    "start_time": "2021-10-02T16:09:32.062Z"
   },
   {
    "duration": 14,
    "start_time": "2021-10-02T16:09:32.079Z"
   },
   {
    "duration": 6,
    "start_time": "2021-10-02T16:09:32.095Z"
   },
   {
    "duration": 8,
    "start_time": "2021-10-02T16:09:32.103Z"
   },
   {
    "duration": 14,
    "start_time": "2021-10-02T16:09:32.113Z"
   },
   {
    "duration": 6,
    "start_time": "2021-10-02T16:09:32.130Z"
   },
   {
    "duration": 9,
    "start_time": "2021-10-02T16:09:32.139Z"
   },
   {
    "duration": 11,
    "start_time": "2021-10-02T16:09:32.150Z"
   },
   {
    "duration": 12,
    "start_time": "2021-10-02T16:09:32.164Z"
   },
   {
    "duration": 11,
    "start_time": "2021-10-02T16:09:32.178Z"
   },
   {
    "duration": 5,
    "start_time": "2021-10-02T16:09:32.190Z"
   },
   {
    "duration": 10,
    "start_time": "2021-10-02T16:09:32.196Z"
   },
   {
    "duration": 6,
    "start_time": "2021-10-02T16:09:32.208Z"
   },
   {
    "duration": 13,
    "start_time": "2021-10-02T16:09:32.215Z"
   },
   {
    "duration": 9,
    "start_time": "2021-10-02T16:09:32.230Z"
   },
   {
    "duration": 8,
    "start_time": "2021-10-02T16:09:32.241Z"
   },
   {
    "duration": 20,
    "start_time": "2021-10-02T16:09:32.251Z"
   },
   {
    "duration": 7,
    "start_time": "2021-10-02T16:09:32.273Z"
   },
   {
    "duration": 19,
    "start_time": "2021-10-02T16:09:32.281Z"
   },
   {
    "duration": 8,
    "start_time": "2021-10-02T16:09:32.301Z"
   },
   {
    "duration": 28,
    "start_time": "2021-10-02T16:09:32.311Z"
   },
   {
    "duration": 17,
    "start_time": "2021-10-02T16:09:32.341Z"
   },
   {
    "duration": 7,
    "start_time": "2021-10-02T16:09:32.360Z"
   },
   {
    "duration": 6,
    "start_time": "2021-10-02T16:09:32.369Z"
   },
   {
    "duration": 15,
    "start_time": "2021-10-02T16:09:32.379Z"
   },
   {
    "duration": 8,
    "start_time": "2021-10-02T16:09:32.396Z"
   },
   {
    "duration": 3,
    "start_time": "2021-10-02T16:14:04.168Z"
   },
   {
    "duration": 456,
    "start_time": "2021-10-02T16:15:31.129Z"
   },
   {
    "duration": 4,
    "start_time": "2021-10-02T16:15:51.880Z"
   },
   {
    "duration": 8,
    "start_time": "2021-10-02T16:16:28.329Z"
   },
   {
    "duration": 8,
    "start_time": "2021-10-02T16:16:30.106Z"
   },
   {
    "duration": 3,
    "start_time": "2021-10-02T16:16:40.921Z"
   },
   {
    "duration": 8,
    "start_time": "2021-10-02T16:16:42.377Z"
   },
   {
    "duration": 8,
    "start_time": "2021-10-02T16:16:43.634Z"
   },
   {
    "duration": 7,
    "start_time": "2021-10-02T16:16:54.554Z"
   },
   {
    "duration": 9,
    "start_time": "2021-10-02T16:18:40.795Z"
   },
   {
    "duration": 16,
    "start_time": "2021-10-02T16:19:21.838Z"
   },
   {
    "duration": 9,
    "start_time": "2021-10-02T16:19:33.876Z"
   },
   {
    "duration": 4,
    "start_time": "2021-10-02T16:20:36.348Z"
   },
   {
    "duration": 7,
    "start_time": "2021-10-02T16:20:55.958Z"
   },
   {
    "duration": 8,
    "start_time": "2021-10-02T16:21:03.204Z"
   },
   {
    "duration": 3,
    "start_time": "2021-10-02T16:22:12.862Z"
   },
   {
    "duration": 8,
    "start_time": "2021-10-02T16:22:16.459Z"
   },
   {
    "duration": 9,
    "start_time": "2021-10-02T16:22:18.023Z"
   },
   {
    "duration": 723,
    "start_time": "2021-10-02T16:22:27.707Z"
   },
   {
    "duration": 11,
    "start_time": "2021-10-02T16:22:28.432Z"
   },
   {
    "duration": 10,
    "start_time": "2021-10-02T16:22:28.447Z"
   },
   {
    "duration": 17,
    "start_time": "2021-10-02T16:22:28.459Z"
   },
   {
    "duration": 17,
    "start_time": "2021-10-02T16:22:28.478Z"
   },
   {
    "duration": 9,
    "start_time": "2021-10-02T16:22:28.497Z"
   },
   {
    "duration": 7,
    "start_time": "2021-10-02T16:22:28.508Z"
   },
   {
    "duration": 26,
    "start_time": "2021-10-02T16:22:28.517Z"
   },
   {
    "duration": 9,
    "start_time": "2021-10-02T16:22:28.545Z"
   },
   {
    "duration": 23,
    "start_time": "2021-10-02T16:22:28.555Z"
   },
   {
    "duration": 13,
    "start_time": "2021-10-02T16:22:28.580Z"
   },
   {
    "duration": 3,
    "start_time": "2021-10-02T16:22:28.594Z"
   },
   {
    "duration": 14,
    "start_time": "2021-10-02T16:22:28.599Z"
   },
   {
    "duration": 7,
    "start_time": "2021-10-02T16:22:28.614Z"
   },
   {
    "duration": 6,
    "start_time": "2021-10-02T16:22:28.622Z"
   },
   {
    "duration": 7,
    "start_time": "2021-10-02T16:22:28.629Z"
   },
   {
    "duration": 18,
    "start_time": "2021-10-02T16:22:28.637Z"
   },
   {
    "duration": 15,
    "start_time": "2021-10-02T16:22:28.677Z"
   },
   {
    "duration": 5,
    "start_time": "2021-10-02T16:22:28.694Z"
   },
   {
    "duration": 16,
    "start_time": "2021-10-02T16:22:28.700Z"
   },
   {
    "duration": 5,
    "start_time": "2021-10-02T16:22:28.718Z"
   },
   {
    "duration": 15,
    "start_time": "2021-10-02T16:22:28.727Z"
   },
   {
    "duration": 47,
    "start_time": "2021-10-02T16:22:28.744Z"
   },
   {
    "duration": 16,
    "start_time": "2021-10-02T16:22:28.793Z"
   },
   {
    "duration": 12,
    "start_time": "2021-10-02T16:22:28.810Z"
   },
   {
    "duration": 18,
    "start_time": "2021-10-02T16:22:28.823Z"
   },
   {
    "duration": 46,
    "start_time": "2021-10-02T16:22:28.843Z"
   },
   {
    "duration": 15,
    "start_time": "2021-10-02T16:22:28.890Z"
   },
   {
    "duration": 4,
    "start_time": "2021-10-02T16:22:28.907Z"
   },
   {
    "duration": 14,
    "start_time": "2021-10-02T16:22:28.913Z"
   },
   {
    "duration": 11,
    "start_time": "2021-10-02T16:22:28.929Z"
   },
   {
    "duration": 10,
    "start_time": "2021-10-02T16:22:28.942Z"
   },
   {
    "duration": 12,
    "start_time": "2021-10-02T16:22:28.977Z"
   },
   {
    "duration": 9,
    "start_time": "2021-10-02T16:22:28.991Z"
   },
   {
    "duration": 15,
    "start_time": "2021-10-02T16:22:29.001Z"
   },
   {
    "duration": 8,
    "start_time": "2021-10-02T16:22:29.017Z"
   },
   {
    "duration": 9,
    "start_time": "2021-10-02T16:22:29.027Z"
   },
   {
    "duration": 4,
    "start_time": "2021-10-02T16:22:29.038Z"
   },
   {
    "duration": 3697,
    "start_time": "2021-10-02T16:22:29.045Z"
   },
   {
    "duration": 13,
    "start_time": "2021-10-02T16:22:32.744Z"
   },
   {
    "duration": 18,
    "start_time": "2021-10-02T16:22:32.758Z"
   },
   {
    "duration": 2,
    "start_time": "2021-10-02T16:22:32.778Z"
   },
   {
    "duration": 5,
    "start_time": "2021-10-02T16:22:32.782Z"
   },
   {
    "duration": 4,
    "start_time": "2021-10-02T16:22:32.788Z"
   },
   {
    "duration": 5,
    "start_time": "2021-10-02T16:22:32.794Z"
   },
   {
    "duration": 4,
    "start_time": "2021-10-02T16:22:32.801Z"
   },
   {
    "duration": 5,
    "start_time": "2021-10-02T16:22:32.806Z"
   },
   {
    "duration": 5,
    "start_time": "2021-10-02T16:22:32.812Z"
   },
   {
    "duration": 5,
    "start_time": "2021-10-02T16:22:32.818Z"
   },
   {
    "duration": 4,
    "start_time": "2021-10-02T16:22:32.825Z"
   },
   {
    "duration": 5,
    "start_time": "2021-10-02T16:22:32.830Z"
   },
   {
    "duration": 4,
    "start_time": "2021-10-02T16:22:32.837Z"
   },
   {
    "duration": 35,
    "start_time": "2021-10-02T16:22:32.842Z"
   },
   {
    "duration": 7,
    "start_time": "2021-10-02T16:22:32.879Z"
   },
   {
    "duration": 7,
    "start_time": "2021-10-02T16:22:32.887Z"
   },
   {
    "duration": 9,
    "start_time": "2021-10-02T16:22:32.895Z"
   },
   {
    "duration": 5,
    "start_time": "2021-10-02T16:22:32.906Z"
   },
   {
    "duration": 5,
    "start_time": "2021-10-02T16:22:32.912Z"
   },
   {
    "duration": 3,
    "start_time": "2021-10-02T16:22:32.919Z"
   },
   {
    "duration": 4,
    "start_time": "2021-10-02T16:22:32.924Z"
   },
   {
    "duration": 4,
    "start_time": "2021-10-02T16:22:32.930Z"
   },
   {
    "duration": 5,
    "start_time": "2021-10-02T16:22:32.936Z"
   },
   {
    "duration": 38,
    "start_time": "2021-10-02T16:22:32.943Z"
   },
   {
    "duration": 8,
    "start_time": "2021-10-02T16:22:32.983Z"
   },
   {
    "duration": 3,
    "start_time": "2021-10-02T16:22:32.993Z"
   },
   {
    "duration": 5,
    "start_time": "2021-10-02T16:22:32.997Z"
   },
   {
    "duration": 15,
    "start_time": "2021-10-02T16:22:33.006Z"
   },
   {
    "duration": 22,
    "start_time": "2021-10-02T16:22:33.023Z"
   },
   {
    "duration": 37,
    "start_time": "2021-10-02T16:22:33.047Z"
   },
   {
    "duration": 7,
    "start_time": "2021-10-02T16:22:33.085Z"
   },
   {
    "duration": 8,
    "start_time": "2021-10-02T16:22:33.093Z"
   },
   {
    "duration": 7,
    "start_time": "2021-10-02T16:22:33.102Z"
   },
   {
    "duration": 10,
    "start_time": "2021-10-02T16:22:33.111Z"
   },
   {
    "duration": 14,
    "start_time": "2021-10-02T16:22:33.122Z"
   },
   {
    "duration": 8,
    "start_time": "2021-10-02T16:22:33.137Z"
   },
   {
    "duration": 32,
    "start_time": "2021-10-02T16:22:33.146Z"
   },
   {
    "duration": 6,
    "start_time": "2021-10-02T16:22:33.179Z"
   },
   {
    "duration": 8,
    "start_time": "2021-10-02T16:22:33.186Z"
   },
   {
    "duration": 3,
    "start_time": "2021-10-02T16:23:59.728Z"
   },
   {
    "duration": 709,
    "start_time": "2021-10-02T16:24:05.509Z"
   },
   {
    "duration": 11,
    "start_time": "2021-10-02T16:24:06.220Z"
   },
   {
    "duration": 9,
    "start_time": "2021-10-02T16:24:06.233Z"
   },
   {
    "duration": 5,
    "start_time": "2021-10-02T16:24:06.244Z"
   },
   {
    "duration": 29,
    "start_time": "2021-10-02T16:24:06.251Z"
   },
   {
    "duration": 7,
    "start_time": "2021-10-02T16:24:06.282Z"
   },
   {
    "duration": 7,
    "start_time": "2021-10-02T16:24:06.291Z"
   },
   {
    "duration": 28,
    "start_time": "2021-10-02T16:24:06.301Z"
   },
   {
    "duration": 9,
    "start_time": "2021-10-02T16:24:06.332Z"
   },
   {
    "duration": 34,
    "start_time": "2021-10-02T16:24:06.343Z"
   },
   {
    "duration": 12,
    "start_time": "2021-10-02T16:24:06.379Z"
   },
   {
    "duration": 3,
    "start_time": "2021-10-02T16:24:06.393Z"
   },
   {
    "duration": 13,
    "start_time": "2021-10-02T16:24:06.398Z"
   },
   {
    "duration": 7,
    "start_time": "2021-10-02T16:24:06.413Z"
   },
   {
    "duration": 5,
    "start_time": "2021-10-02T16:24:06.421Z"
   },
   {
    "duration": 6,
    "start_time": "2021-10-02T16:24:06.427Z"
   },
   {
    "duration": 44,
    "start_time": "2021-10-02T16:24:06.435Z"
   },
   {
    "duration": 15,
    "start_time": "2021-10-02T16:24:06.480Z"
   },
   {
    "duration": 5,
    "start_time": "2021-10-02T16:24:06.497Z"
   },
   {
    "duration": 22,
    "start_time": "2021-10-02T16:24:06.504Z"
   },
   {
    "duration": 5,
    "start_time": "2021-10-02T16:24:06.527Z"
   },
   {
    "duration": 18,
    "start_time": "2021-10-02T16:24:06.534Z"
   },
   {
    "duration": 18,
    "start_time": "2021-10-02T16:24:06.577Z"
   },
   {
    "duration": 16,
    "start_time": "2021-10-02T16:24:06.597Z"
   },
   {
    "duration": 11,
    "start_time": "2021-10-02T16:24:06.614Z"
   },
   {
    "duration": 20,
    "start_time": "2021-10-02T16:24:06.627Z"
   },
   {
    "duration": 41,
    "start_time": "2021-10-02T16:24:06.649Z"
   },
   {
    "duration": 15,
    "start_time": "2021-10-02T16:24:06.692Z"
   },
   {
    "duration": 4,
    "start_time": "2021-10-02T16:24:06.709Z"
   },
   {
    "duration": 15,
    "start_time": "2021-10-02T16:24:06.715Z"
   },
   {
    "duration": 6,
    "start_time": "2021-10-02T16:24:06.732Z"
   },
   {
    "duration": 8,
    "start_time": "2021-10-02T16:24:06.740Z"
   },
   {
    "duration": 37,
    "start_time": "2021-10-02T16:24:06.750Z"
   },
   {
    "duration": 7,
    "start_time": "2021-10-02T16:24:06.789Z"
   },
   {
    "duration": 7,
    "start_time": "2021-10-02T16:24:06.797Z"
   },
   {
    "duration": 10,
    "start_time": "2021-10-02T16:24:06.806Z"
   },
   {
    "duration": 19,
    "start_time": "2021-10-02T16:24:06.818Z"
   },
   {
    "duration": 6,
    "start_time": "2021-10-02T16:24:06.839Z"
   },
   {
    "duration": 3529,
    "start_time": "2021-10-02T16:24:06.847Z"
   },
   {
    "duration": 14,
    "start_time": "2021-10-02T16:24:10.378Z"
   },
   {
    "duration": 4,
    "start_time": "2021-10-02T16:24:10.393Z"
   },
   {
    "duration": 4,
    "start_time": "2021-10-02T16:24:10.399Z"
   },
   {
    "duration": 4,
    "start_time": "2021-10-02T16:24:10.405Z"
   },
   {
    "duration": 4,
    "start_time": "2021-10-02T16:24:10.410Z"
   },
   {
    "duration": 4,
    "start_time": "2021-10-02T16:24:10.416Z"
   },
   {
    "duration": 6,
    "start_time": "2021-10-02T16:24:10.421Z"
   },
   {
    "duration": 3,
    "start_time": "2021-10-02T16:24:10.429Z"
   },
   {
    "duration": 4,
    "start_time": "2021-10-02T16:24:10.434Z"
   },
   {
    "duration": 7,
    "start_time": "2021-10-02T16:24:10.440Z"
   },
   {
    "duration": 30,
    "start_time": "2021-10-02T16:24:10.449Z"
   },
   {
    "duration": 7,
    "start_time": "2021-10-02T16:24:10.480Z"
   },
   {
    "duration": 7,
    "start_time": "2021-10-02T16:24:10.488Z"
   },
   {
    "duration": 10,
    "start_time": "2021-10-02T16:24:10.496Z"
   },
   {
    "duration": 10,
    "start_time": "2021-10-02T16:24:10.508Z"
   },
   {
    "duration": 4,
    "start_time": "2021-10-02T16:24:10.520Z"
   },
   {
    "duration": 9,
    "start_time": "2021-10-02T16:24:10.526Z"
   },
   {
    "duration": 4,
    "start_time": "2021-10-02T16:24:10.537Z"
   },
   {
    "duration": 34,
    "start_time": "2021-10-02T16:24:10.543Z"
   },
   {
    "duration": 3,
    "start_time": "2021-10-02T16:24:10.579Z"
   },
   {
    "duration": 5,
    "start_time": "2021-10-02T16:24:10.584Z"
   },
   {
    "duration": 5,
    "start_time": "2021-10-02T16:24:10.590Z"
   },
   {
    "duration": 6,
    "start_time": "2021-10-02T16:24:10.596Z"
   },
   {
    "duration": 18,
    "start_time": "2021-10-02T16:24:10.603Z"
   },
   {
    "duration": 8,
    "start_time": "2021-10-02T16:24:10.623Z"
   },
   {
    "duration": 3,
    "start_time": "2021-10-02T16:24:10.633Z"
   },
   {
    "duration": 8,
    "start_time": "2021-10-02T16:24:10.638Z"
   },
   {
    "duration": 18,
    "start_time": "2021-10-02T16:24:10.677Z"
   },
   {
    "duration": 13,
    "start_time": "2021-10-02T16:24:10.701Z"
   },
   {
    "duration": 8,
    "start_time": "2021-10-02T16:24:10.717Z"
   },
   {
    "duration": 5,
    "start_time": "2021-10-02T16:24:10.727Z"
   },
   {
    "duration": 9,
    "start_time": "2021-10-02T16:24:10.733Z"
   },
   {
    "duration": 37,
    "start_time": "2021-10-02T16:24:10.743Z"
   },
   {
    "duration": 11,
    "start_time": "2021-10-02T16:24:10.781Z"
   },
   {
    "duration": 15,
    "start_time": "2021-10-02T16:24:10.794Z"
   },
   {
    "duration": 8,
    "start_time": "2021-10-02T16:24:10.810Z"
   },
   {
    "duration": 6,
    "start_time": "2021-10-02T16:24:10.820Z"
   },
   {
    "duration": 13,
    "start_time": "2021-10-02T16:24:10.827Z"
   },
   {
    "duration": 7,
    "start_time": "2021-10-02T16:24:10.842Z"
   },
   {
    "duration": 8,
    "start_time": "2021-10-02T16:25:37.928Z"
   },
   {
    "duration": 14,
    "start_time": "2021-10-02T16:26:35.713Z"
   },
   {
    "duration": 453,
    "start_time": "2021-10-02T16:33:07.981Z"
   },
   {
    "duration": 355,
    "start_time": "2021-10-02T16:33:09.863Z"
   },
   {
    "duration": 4,
    "start_time": "2021-10-02T16:33:25.700Z"
   },
   {
    "duration": 7,
    "start_time": "2021-10-02T16:33:26.723Z"
   },
   {
    "duration": 5,
    "start_time": "2021-10-02T16:34:03.603Z"
   },
   {
    "duration": 7,
    "start_time": "2021-10-02T16:34:10.541Z"
   },
   {
    "duration": 339,
    "start_time": "2021-10-02T16:37:45.664Z"
   },
   {
    "duration": 4,
    "start_time": "2021-10-02T16:37:59.794Z"
   },
   {
    "duration": 677,
    "start_time": "2021-10-02T16:38:16.976Z"
   },
   {
    "duration": 7,
    "start_time": "2021-10-02T16:38:46.544Z"
   },
   {
    "duration": 13,
    "start_time": "2021-10-02T16:40:04.329Z"
   },
   {
    "duration": 8,
    "start_time": "2021-10-02T16:40:16.041Z"
   },
   {
    "duration": 8,
    "start_time": "2021-10-02T16:41:13.762Z"
   },
   {
    "duration": 8,
    "start_time": "2021-10-02T16:42:49.739Z"
   },
   {
    "duration": 8,
    "start_time": "2021-10-02T16:43:00.971Z"
   },
   {
    "duration": 722,
    "start_time": "2021-10-02T16:47:59.697Z"
   },
   {
    "duration": 12,
    "start_time": "2021-10-02T16:48:00.421Z"
   },
   {
    "duration": 11,
    "start_time": "2021-10-02T16:48:00.435Z"
   },
   {
    "duration": 15,
    "start_time": "2021-10-02T16:48:00.448Z"
   },
   {
    "duration": 10,
    "start_time": "2021-10-02T16:48:00.477Z"
   },
   {
    "duration": 12,
    "start_time": "2021-10-02T16:48:00.489Z"
   },
   {
    "duration": 9,
    "start_time": "2021-10-02T16:48:00.503Z"
   },
   {
    "duration": 35,
    "start_time": "2021-10-02T16:48:00.514Z"
   },
   {
    "duration": 8,
    "start_time": "2021-10-02T16:48:00.551Z"
   },
   {
    "duration": 18,
    "start_time": "2021-10-02T16:48:00.561Z"
   },
   {
    "duration": 19,
    "start_time": "2021-10-02T16:48:00.580Z"
   },
   {
    "duration": 7,
    "start_time": "2021-10-02T16:48:00.601Z"
   },
   {
    "duration": 19,
    "start_time": "2021-10-02T16:48:00.609Z"
   },
   {
    "duration": 13,
    "start_time": "2021-10-02T16:48:00.630Z"
   },
   {
    "duration": 20,
    "start_time": "2021-10-02T16:48:00.645Z"
   },
   {
    "duration": 21,
    "start_time": "2021-10-02T16:48:00.667Z"
   },
   {
    "duration": 8,
    "start_time": "2021-10-02T16:48:00.689Z"
   },
   {
    "duration": 26,
    "start_time": "2021-10-02T16:48:00.699Z"
   },
   {
    "duration": 6,
    "start_time": "2021-10-02T16:48:00.727Z"
   },
   {
    "duration": 19,
    "start_time": "2021-10-02T16:48:00.734Z"
   },
   {
    "duration": 21,
    "start_time": "2021-10-02T16:48:00.755Z"
   },
   {
    "duration": 22,
    "start_time": "2021-10-02T16:48:00.779Z"
   },
   {
    "duration": 17,
    "start_time": "2021-10-02T16:48:00.805Z"
   },
   {
    "duration": 16,
    "start_time": "2021-10-02T16:48:00.825Z"
   },
   {
    "duration": 12,
    "start_time": "2021-10-02T16:48:00.842Z"
   },
   {
    "duration": 37,
    "start_time": "2021-10-02T16:48:00.855Z"
   },
   {
    "duration": 18,
    "start_time": "2021-10-02T16:48:00.894Z"
   },
   {
    "duration": 17,
    "start_time": "2021-10-02T16:48:00.914Z"
   },
   {
    "duration": 15,
    "start_time": "2021-10-02T16:48:00.934Z"
   },
   {
    "duration": 30,
    "start_time": "2021-10-02T16:48:00.951Z"
   },
   {
    "duration": 24,
    "start_time": "2021-10-02T16:48:00.982Z"
   },
   {
    "duration": 28,
    "start_time": "2021-10-02T16:48:01.008Z"
   },
   {
    "duration": 21,
    "start_time": "2021-10-02T16:48:01.038Z"
   },
   {
    "duration": 22,
    "start_time": "2021-10-02T16:48:01.061Z"
   },
   {
    "duration": 28,
    "start_time": "2021-10-02T16:48:01.085Z"
   },
   {
    "duration": 26,
    "start_time": "2021-10-02T16:48:01.114Z"
   },
   {
    "duration": 15,
    "start_time": "2021-10-02T16:48:01.141Z"
   },
   {
    "duration": 15,
    "start_time": "2021-10-02T16:48:01.158Z"
   },
   {
    "duration": 3614,
    "start_time": "2021-10-02T16:48:01.175Z"
   },
   {
    "duration": 14,
    "start_time": "2021-10-02T16:48:04.791Z"
   },
   {
    "duration": 16,
    "start_time": "2021-10-02T16:48:04.807Z"
   },
   {
    "duration": 21,
    "start_time": "2021-10-02T16:48:04.825Z"
   },
   {
    "duration": 15,
    "start_time": "2021-10-02T16:48:04.848Z"
   },
   {
    "duration": 16,
    "start_time": "2021-10-02T16:48:04.865Z"
   },
   {
    "duration": 18,
    "start_time": "2021-10-02T16:48:04.883Z"
   },
   {
    "duration": 15,
    "start_time": "2021-10-02T16:48:04.903Z"
   },
   {
    "duration": 20,
    "start_time": "2021-10-02T16:48:04.920Z"
   },
   {
    "duration": 11,
    "start_time": "2021-10-02T16:48:04.942Z"
   },
   {
    "duration": 14,
    "start_time": "2021-10-02T16:48:04.955Z"
   },
   {
    "duration": 16,
    "start_time": "2021-10-02T16:48:04.971Z"
   },
   {
    "duration": 16,
    "start_time": "2021-10-02T16:48:04.989Z"
   },
   {
    "duration": 29,
    "start_time": "2021-10-02T16:48:05.007Z"
   },
   {
    "duration": 26,
    "start_time": "2021-10-02T16:48:05.038Z"
   },
   {
    "duration": 19,
    "start_time": "2021-10-02T16:48:05.066Z"
   },
   {
    "duration": 23,
    "start_time": "2021-10-02T16:48:05.088Z"
   },
   {
    "duration": 27,
    "start_time": "2021-10-02T16:48:05.113Z"
   },
   {
    "duration": 14,
    "start_time": "2021-10-02T16:48:05.141Z"
   },
   {
    "duration": 14,
    "start_time": "2021-10-02T16:48:05.157Z"
   },
   {
    "duration": 8,
    "start_time": "2021-10-02T16:48:05.173Z"
   },
   {
    "duration": 13,
    "start_time": "2021-10-02T16:48:05.183Z"
   },
   {
    "duration": 8,
    "start_time": "2021-10-02T16:48:05.198Z"
   },
   {
    "duration": 13,
    "start_time": "2021-10-02T16:48:05.207Z"
   },
   {
    "duration": 9,
    "start_time": "2021-10-02T16:48:05.222Z"
   },
   {
    "duration": 27,
    "start_time": "2021-10-02T16:48:05.233Z"
   },
   {
    "duration": 4,
    "start_time": "2021-10-02T16:48:05.262Z"
   },
   {
    "duration": 11,
    "start_time": "2021-10-02T16:48:05.268Z"
   },
   {
    "duration": 25,
    "start_time": "2021-10-02T16:48:05.280Z"
   },
   {
    "duration": 8,
    "start_time": "2021-10-02T16:48:05.310Z"
   },
   {
    "duration": 16,
    "start_time": "2021-10-02T16:48:05.320Z"
   },
   {
    "duration": 12,
    "start_time": "2021-10-02T16:48:05.337Z"
   },
   {
    "duration": 7,
    "start_time": "2021-10-02T16:48:05.351Z"
   },
   {
    "duration": 19,
    "start_time": "2021-10-02T16:48:05.360Z"
   },
   {
    "duration": 8,
    "start_time": "2021-10-02T16:48:05.381Z"
   },
   {
    "duration": 8,
    "start_time": "2021-10-02T16:48:05.391Z"
   },
   {
    "duration": 7,
    "start_time": "2021-10-02T16:48:05.401Z"
   },
   {
    "duration": 19,
    "start_time": "2021-10-02T16:48:05.410Z"
   },
   {
    "duration": 10,
    "start_time": "2021-10-02T16:48:05.431Z"
   },
   {
    "duration": 11,
    "start_time": "2021-10-02T16:48:05.442Z"
   },
   {
    "duration": 29,
    "start_time": "2021-10-02T16:48:05.455Z"
   },
   {
    "duration": 14,
    "start_time": "2021-10-02T16:48:05.486Z"
   },
   {
    "duration": 16,
    "start_time": "2021-10-02T16:48:05.502Z"
   },
   {
    "duration": 7,
    "start_time": "2021-10-02T16:48:05.519Z"
   },
   {
    "duration": 13,
    "start_time": "2021-10-02T16:48:05.528Z"
   },
   {
    "duration": 11,
    "start_time": "2021-10-02T16:48:05.543Z"
   },
   {
    "duration": 21,
    "start_time": "2021-10-02T16:48:05.556Z"
   },
   {
    "duration": 10,
    "start_time": "2021-10-02T16:48:10.719Z"
   },
   {
    "duration": 649,
    "start_time": "2021-10-02T16:56:47.415Z"
   },
   {
    "duration": 4,
    "start_time": "2021-10-02T16:56:50.234Z"
   },
   {
    "duration": 7,
    "start_time": "2021-10-02T16:56:51.102Z"
   },
   {
    "duration": 14,
    "start_time": "2021-10-02T16:59:20.704Z"
   },
   {
    "duration": 21,
    "start_time": "2021-10-02T16:59:21.581Z"
   },
   {
    "duration": 9,
    "start_time": "2021-10-02T16:59:30.898Z"
   },
   {
    "duration": 5,
    "start_time": "2021-10-02T17:00:07.409Z"
   },
   {
    "duration": 6,
    "start_time": "2021-10-02T17:00:11.393Z"
   },
   {
    "duration": 8,
    "start_time": "2021-10-02T17:00:20.658Z"
   },
   {
    "duration": 337,
    "start_time": "2021-10-02T17:05:51.127Z"
   },
   {
    "duration": 3,
    "start_time": "2021-10-02T17:05:54.026Z"
   },
   {
    "duration": 331,
    "start_time": "2021-10-02T17:05:54.991Z"
   },
   {
    "duration": 322,
    "start_time": "2021-10-02T17:06:31.169Z"
   },
   {
    "duration": 2,
    "start_time": "2021-10-02T17:06:36.320Z"
   },
   {
    "duration": 370,
    "start_time": "2021-10-02T17:06:37.158Z"
   },
   {
    "duration": 5,
    "start_time": "2021-10-02T17:07:13.015Z"
   },
   {
    "duration": 111,
    "start_time": "2021-10-02T17:08:35.636Z"
   },
   {
    "duration": 20,
    "start_time": "2021-10-02T17:08:45.298Z"
   },
   {
    "duration": 7,
    "start_time": "2021-10-02T17:09:38.323Z"
   },
   {
    "duration": 22,
    "start_time": "2021-10-02T17:10:55.362Z"
   },
   {
    "duration": 706,
    "start_time": "2021-10-02T17:11:32.409Z"
   },
   {
    "duration": 14,
    "start_time": "2021-10-02T17:11:33.118Z"
   },
   {
    "duration": 10,
    "start_time": "2021-10-02T17:11:33.137Z"
   },
   {
    "duration": 27,
    "start_time": "2021-10-02T17:11:33.149Z"
   },
   {
    "duration": 10,
    "start_time": "2021-10-02T17:11:33.178Z"
   },
   {
    "duration": 6,
    "start_time": "2021-10-02T17:11:33.190Z"
   },
   {
    "duration": 8,
    "start_time": "2021-10-02T17:11:33.198Z"
   },
   {
    "duration": 34,
    "start_time": "2021-10-02T17:11:33.208Z"
   },
   {
    "duration": 33,
    "start_time": "2021-10-02T17:11:33.243Z"
   },
   {
    "duration": 5,
    "start_time": "2021-10-02T17:11:33.278Z"
   },
   {
    "duration": 17,
    "start_time": "2021-10-02T17:11:33.284Z"
   },
   {
    "duration": 4,
    "start_time": "2021-10-02T17:11:33.303Z"
   },
   {
    "duration": 16,
    "start_time": "2021-10-02T17:11:33.308Z"
   },
   {
    "duration": 7,
    "start_time": "2021-10-02T17:11:33.325Z"
   },
   {
    "duration": 3,
    "start_time": "2021-10-02T17:11:33.334Z"
   },
   {
    "duration": 39,
    "start_time": "2021-10-02T17:11:33.338Z"
   },
   {
    "duration": 12,
    "start_time": "2021-10-02T17:11:33.379Z"
   },
   {
    "duration": 18,
    "start_time": "2021-10-02T17:11:33.393Z"
   },
   {
    "duration": 5,
    "start_time": "2021-10-02T17:11:33.413Z"
   },
   {
    "duration": 15,
    "start_time": "2021-10-02T17:11:33.420Z"
   },
   {
    "duration": 7,
    "start_time": "2021-10-02T17:11:33.437Z"
   },
   {
    "duration": 40,
    "start_time": "2021-10-02T17:11:33.450Z"
   },
   {
    "duration": 18,
    "start_time": "2021-10-02T17:11:33.493Z"
   },
   {
    "duration": 14,
    "start_time": "2021-10-02T17:11:33.513Z"
   },
   {
    "duration": 12,
    "start_time": "2021-10-02T17:11:33.529Z"
   },
   {
    "duration": 59,
    "start_time": "2021-10-02T17:11:33.542Z"
   },
   {
    "duration": 20,
    "start_time": "2021-10-02T17:11:33.603Z"
   },
   {
    "duration": 15,
    "start_time": "2021-10-02T17:11:33.625Z"
   },
   {
    "duration": 5,
    "start_time": "2021-10-02T17:11:33.642Z"
   },
   {
    "duration": 21,
    "start_time": "2021-10-02T17:11:33.648Z"
   },
   {
    "duration": 10,
    "start_time": "2021-10-02T17:11:33.671Z"
   },
   {
    "duration": 14,
    "start_time": "2021-10-02T17:11:33.683Z"
   },
   {
    "duration": 21,
    "start_time": "2021-10-02T17:11:33.698Z"
   },
   {
    "duration": 9,
    "start_time": "2021-10-02T17:11:33.721Z"
   },
   {
    "duration": 4,
    "start_time": "2021-10-02T17:11:33.732Z"
   },
   {
    "duration": 8,
    "start_time": "2021-10-02T17:11:33.738Z"
   },
   {
    "duration": 9,
    "start_time": "2021-10-02T17:11:33.748Z"
   },
   {
    "duration": 18,
    "start_time": "2021-10-02T17:11:33.759Z"
   },
   {
    "duration": 3715,
    "start_time": "2021-10-02T17:11:33.778Z"
   },
   {
    "duration": 14,
    "start_time": "2021-10-02T17:11:37.496Z"
   },
   {
    "duration": 4,
    "start_time": "2021-10-02T17:11:37.512Z"
   },
   {
    "duration": 20,
    "start_time": "2021-10-02T17:11:37.518Z"
   },
   {
    "duration": 13,
    "start_time": "2021-10-02T17:11:37.540Z"
   },
   {
    "duration": 7,
    "start_time": "2021-10-02T17:11:37.554Z"
   },
   {
    "duration": 22,
    "start_time": "2021-10-02T17:11:37.563Z"
   },
   {
    "duration": 6,
    "start_time": "2021-10-02T17:11:37.587Z"
   },
   {
    "duration": 17,
    "start_time": "2021-10-02T17:11:37.594Z"
   },
   {
    "duration": 8,
    "start_time": "2021-10-02T17:11:37.613Z"
   },
   {
    "duration": 18,
    "start_time": "2021-10-02T17:11:37.623Z"
   },
   {
    "duration": 14,
    "start_time": "2021-10-02T17:11:37.643Z"
   },
   {
    "duration": 19,
    "start_time": "2021-10-02T17:11:37.659Z"
   },
   {
    "duration": 29,
    "start_time": "2021-10-02T17:11:37.680Z"
   },
   {
    "duration": 17,
    "start_time": "2021-10-02T17:11:37.711Z"
   },
   {
    "duration": 10,
    "start_time": "2021-10-02T17:11:37.730Z"
   },
   {
    "duration": 7,
    "start_time": "2021-10-02T17:11:37.742Z"
   },
   {
    "duration": 19,
    "start_time": "2021-10-02T17:11:37.750Z"
   },
   {
    "duration": 17,
    "start_time": "2021-10-02T17:11:37.771Z"
   },
   {
    "duration": 19,
    "start_time": "2021-10-02T17:11:37.790Z"
   },
   {
    "duration": 5,
    "start_time": "2021-10-02T17:11:37.811Z"
   },
   {
    "duration": 17,
    "start_time": "2021-10-02T17:11:37.818Z"
   },
   {
    "duration": 6,
    "start_time": "2021-10-02T17:11:37.837Z"
   },
   {
    "duration": 17,
    "start_time": "2021-10-02T17:11:37.844Z"
   },
   {
    "duration": 22,
    "start_time": "2021-10-02T17:11:37.862Z"
   },
   {
    "duration": 15,
    "start_time": "2021-10-02T17:11:37.886Z"
   },
   {
    "duration": 17,
    "start_time": "2021-10-02T17:11:37.903Z"
   },
   {
    "duration": 4,
    "start_time": "2021-10-02T17:11:37.922Z"
   },
   {
    "duration": 28,
    "start_time": "2021-10-02T17:11:37.932Z"
   },
   {
    "duration": 6,
    "start_time": "2021-10-02T17:11:37.963Z"
   },
   {
    "duration": 6,
    "start_time": "2021-10-02T17:11:37.971Z"
   },
   {
    "duration": 27,
    "start_time": "2021-10-02T17:11:37.978Z"
   },
   {
    "duration": 18,
    "start_time": "2021-10-02T17:11:38.007Z"
   },
   {
    "duration": 24,
    "start_time": "2021-10-02T17:11:38.026Z"
   },
   {
    "duration": 8,
    "start_time": "2021-10-02T17:11:38.052Z"
   },
   {
    "duration": 21,
    "start_time": "2021-10-02T17:11:38.062Z"
   },
   {
    "duration": 11,
    "start_time": "2021-10-02T17:11:38.085Z"
   },
   {
    "duration": 15,
    "start_time": "2021-10-02T17:11:38.098Z"
   },
   {
    "duration": 26,
    "start_time": "2021-10-02T17:11:38.114Z"
   },
   {
    "duration": 16,
    "start_time": "2021-10-02T17:11:38.141Z"
   },
   {
    "duration": 7,
    "start_time": "2021-10-02T17:11:38.159Z"
   },
   {
    "duration": 12,
    "start_time": "2021-10-02T17:11:38.168Z"
   },
   {
    "duration": 29,
    "start_time": "2021-10-02T17:11:38.182Z"
   },
   {
    "duration": 12,
    "start_time": "2021-10-02T17:11:38.213Z"
   },
   {
    "duration": 15,
    "start_time": "2021-10-02T17:11:38.226Z"
   },
   {
    "duration": 8,
    "start_time": "2021-10-02T17:11:38.243Z"
   },
   {
    "duration": 10,
    "start_time": "2021-10-02T17:11:38.252Z"
   },
   {
    "duration": 28,
    "start_time": "2021-10-02T17:11:38.263Z"
   },
   {
    "duration": 16,
    "start_time": "2021-10-02T17:11:38.293Z"
   },
   {
    "duration": 17,
    "start_time": "2021-10-02T17:11:38.311Z"
   },
   {
    "duration": 27,
    "start_time": "2021-10-02T17:11:38.330Z"
   },
   {
    "duration": 9,
    "start_time": "2021-10-02T17:11:38.359Z"
   },
   {
    "duration": 25,
    "start_time": "2021-10-02T17:11:38.370Z"
   },
   {
    "duration": 14,
    "start_time": "2021-10-02T17:11:38.397Z"
   },
   {
    "duration": 12,
    "start_time": "2021-10-02T17:11:38.413Z"
   },
   {
    "duration": 36,
    "start_time": "2021-10-02T17:11:38.427Z"
   },
   {
    "duration": 12,
    "start_time": "2021-10-02T17:11:57.233Z"
   },
   {
    "duration": 10,
    "start_time": "2021-10-02T17:12:36.405Z"
   },
   {
    "duration": 10,
    "start_time": "2021-10-02T17:18:27.377Z"
   },
   {
    "duration": 12,
    "start_time": "2021-10-02T17:18:51.209Z"
   },
   {
    "duration": 996,
    "start_time": "2021-10-02T17:21:09.708Z"
   },
   {
    "duration": 844,
    "start_time": "2021-10-02T17:21:23.212Z"
   },
   {
    "duration": 430,
    "start_time": "2021-10-02T17:21:38.198Z"
   },
   {
    "duration": 372,
    "start_time": "2021-10-02T17:23:17.672Z"
   },
   {
    "duration": 22,
    "start_time": "2021-10-02T17:23:53.139Z"
   },
   {
    "duration": 23,
    "start_time": "2021-10-02T17:25:07.663Z"
   },
   {
    "duration": 22,
    "start_time": "2021-10-02T17:31:13.117Z"
   },
   {
    "duration": 22,
    "start_time": "2021-10-02T17:48:34.306Z"
   },
   {
    "duration": 22,
    "start_time": "2021-10-02T17:48:52.851Z"
   },
   {
    "duration": 29,
    "start_time": "2021-10-02T17:55:11.008Z"
   },
   {
    "duration": 25,
    "start_time": "2021-10-02T17:57:01.282Z"
   },
   {
    "duration": 22,
    "start_time": "2021-10-02T18:02:23.312Z"
   },
   {
    "duration": 23,
    "start_time": "2021-10-02T18:02:42.917Z"
   },
   {
    "duration": 48,
    "start_time": "2021-10-02T18:57:47.423Z"
   },
   {
    "duration": 44,
    "start_time": "2021-10-02T18:58:48.933Z"
   },
   {
    "duration": 338,
    "start_time": "2021-10-02T19:01:58.072Z"
   },
   {
    "duration": 42,
    "start_time": "2021-10-02T19:02:07.287Z"
   },
   {
    "duration": 9,
    "start_time": "2021-10-02T19:02:08.759Z"
   },
   {
    "duration": 6,
    "start_time": "2021-10-02T19:03:01.084Z"
   },
   {
    "duration": 39,
    "start_time": "2021-10-02T19:03:20.386Z"
   },
   {
    "duration": 12,
    "start_time": "2021-10-02T19:03:21.280Z"
   },
   {
    "duration": 731,
    "start_time": "2021-10-02T19:03:28.303Z"
   },
   {
    "duration": 12,
    "start_time": "2021-10-02T19:03:29.036Z"
   },
   {
    "duration": 28,
    "start_time": "2021-10-02T19:03:29.050Z"
   },
   {
    "duration": 4,
    "start_time": "2021-10-02T19:03:29.080Z"
   },
   {
    "duration": 10,
    "start_time": "2021-10-02T19:03:29.086Z"
   },
   {
    "duration": 7,
    "start_time": "2021-10-02T19:03:29.098Z"
   },
   {
    "duration": 5,
    "start_time": "2021-10-02T19:03:29.107Z"
   },
   {
    "duration": 30,
    "start_time": "2021-10-02T19:03:29.114Z"
   },
   {
    "duration": 34,
    "start_time": "2021-10-02T19:03:29.147Z"
   },
   {
    "duration": 4,
    "start_time": "2021-10-02T19:03:29.183Z"
   },
   {
    "duration": 18,
    "start_time": "2021-10-02T19:03:29.189Z"
   },
   {
    "duration": 4,
    "start_time": "2021-10-02T19:03:29.209Z"
   },
   {
    "duration": 16,
    "start_time": "2021-10-02T19:03:29.214Z"
   },
   {
    "duration": 8,
    "start_time": "2021-10-02T19:03:29.232Z"
   },
   {
    "duration": 35,
    "start_time": "2021-10-02T19:03:29.242Z"
   },
   {
    "duration": 5,
    "start_time": "2021-10-02T19:03:29.279Z"
   },
   {
    "duration": 7,
    "start_time": "2021-10-02T19:03:29.287Z"
   },
   {
    "duration": 16,
    "start_time": "2021-10-02T19:03:29.296Z"
   },
   {
    "duration": 26,
    "start_time": "2021-10-02T19:03:29.314Z"
   },
   {
    "duration": 37,
    "start_time": "2021-10-02T19:03:29.342Z"
   },
   {
    "duration": 8,
    "start_time": "2021-10-02T19:03:29.381Z"
   },
   {
    "duration": 17,
    "start_time": "2021-10-02T19:03:29.391Z"
   },
   {
    "duration": 18,
    "start_time": "2021-10-02T19:03:29.413Z"
   },
   {
    "duration": 46,
    "start_time": "2021-10-02T19:03:29.435Z"
   },
   {
    "duration": 13,
    "start_time": "2021-10-02T19:03:29.483Z"
   },
   {
    "duration": 20,
    "start_time": "2021-10-02T19:03:29.498Z"
   },
   {
    "duration": 19,
    "start_time": "2021-10-02T19:03:29.520Z"
   },
   {
    "duration": 46,
    "start_time": "2021-10-02T19:03:29.541Z"
   },
   {
    "duration": 6,
    "start_time": "2021-10-02T19:03:29.590Z"
   },
   {
    "duration": 14,
    "start_time": "2021-10-02T19:03:29.598Z"
   },
   {
    "duration": 9,
    "start_time": "2021-10-02T19:03:29.614Z"
   },
   {
    "duration": 8,
    "start_time": "2021-10-02T19:03:29.625Z"
   },
   {
    "duration": 43,
    "start_time": "2021-10-02T19:03:29.635Z"
   },
   {
    "duration": 7,
    "start_time": "2021-10-02T19:03:29.680Z"
   },
   {
    "duration": 7,
    "start_time": "2021-10-02T19:03:29.688Z"
   },
   {
    "duration": 6,
    "start_time": "2021-10-02T19:03:29.697Z"
   },
   {
    "duration": 6,
    "start_time": "2021-10-02T19:03:29.704Z"
   },
   {
    "duration": 3,
    "start_time": "2021-10-02T19:03:29.712Z"
   },
   {
    "duration": 3695,
    "start_time": "2021-10-02T19:03:29.717Z"
   },
   {
    "duration": 13,
    "start_time": "2021-10-02T19:03:33.414Z"
   },
   {
    "duration": 7,
    "start_time": "2021-10-02T19:03:33.428Z"
   },
   {
    "duration": 6,
    "start_time": "2021-10-02T19:03:33.437Z"
   },
   {
    "duration": 6,
    "start_time": "2021-10-02T19:03:33.445Z"
   },
   {
    "duration": 5,
    "start_time": "2021-10-02T19:03:33.453Z"
   },
   {
    "duration": 16,
    "start_time": "2021-10-02T19:03:33.460Z"
   },
   {
    "duration": 7,
    "start_time": "2021-10-02T19:03:33.478Z"
   },
   {
    "duration": 5,
    "start_time": "2021-10-02T19:03:33.487Z"
   },
   {
    "duration": 7,
    "start_time": "2021-10-02T19:03:33.493Z"
   },
   {
    "duration": 5,
    "start_time": "2021-10-02T19:03:33.502Z"
   },
   {
    "duration": 8,
    "start_time": "2021-10-02T19:03:33.508Z"
   },
   {
    "duration": 8,
    "start_time": "2021-10-02T19:03:33.517Z"
   },
   {
    "duration": 15,
    "start_time": "2021-10-02T19:03:33.526Z"
   },
   {
    "duration": 11,
    "start_time": "2021-10-02T19:03:33.543Z"
   },
   {
    "duration": 10,
    "start_time": "2021-10-02T19:03:33.556Z"
   },
   {
    "duration": 12,
    "start_time": "2021-10-02T19:03:33.568Z"
   },
   {
    "duration": 10,
    "start_time": "2021-10-02T19:03:33.582Z"
   },
   {
    "duration": 5,
    "start_time": "2021-10-02T19:03:33.594Z"
   },
   {
    "duration": 8,
    "start_time": "2021-10-02T19:03:33.600Z"
   },
   {
    "duration": 4,
    "start_time": "2021-10-02T19:03:33.610Z"
   },
   {
    "duration": 10,
    "start_time": "2021-10-02T19:03:33.616Z"
   },
   {
    "duration": 5,
    "start_time": "2021-10-02T19:03:33.627Z"
   },
   {
    "duration": 11,
    "start_time": "2021-10-02T19:03:33.634Z"
   },
   {
    "duration": 7,
    "start_time": "2021-10-02T19:03:33.646Z"
   },
   {
    "duration": 22,
    "start_time": "2021-10-02T19:03:33.655Z"
   },
   {
    "duration": 10,
    "start_time": "2021-10-02T19:03:33.678Z"
   },
   {
    "duration": 6,
    "start_time": "2021-10-02T19:03:33.690Z"
   },
   {
    "duration": 16,
    "start_time": "2021-10-02T19:03:33.698Z"
   },
   {
    "duration": 7,
    "start_time": "2021-10-02T19:03:33.720Z"
   },
   {
    "duration": 8,
    "start_time": "2021-10-02T19:03:33.729Z"
   },
   {
    "duration": 10,
    "start_time": "2021-10-02T19:03:33.739Z"
   },
   {
    "duration": 36,
    "start_time": "2021-10-02T19:03:33.751Z"
   },
   {
    "duration": 12,
    "start_time": "2021-10-02T19:03:33.788Z"
   },
   {
    "duration": 7,
    "start_time": "2021-10-02T19:03:33.802Z"
   },
   {
    "duration": 6,
    "start_time": "2021-10-02T19:03:33.811Z"
   },
   {
    "duration": 8,
    "start_time": "2021-10-02T19:03:33.818Z"
   },
   {
    "duration": 7,
    "start_time": "2021-10-02T19:03:33.828Z"
   },
   {
    "duration": 7,
    "start_time": "2021-10-02T19:03:33.837Z"
   },
   {
    "duration": 42,
    "start_time": "2021-10-02T19:03:33.846Z"
   },
   {
    "duration": 7,
    "start_time": "2021-10-02T19:03:33.890Z"
   },
   {
    "duration": 17,
    "start_time": "2021-10-02T19:03:33.899Z"
   },
   {
    "duration": 9,
    "start_time": "2021-10-02T19:03:33.918Z"
   },
   {
    "duration": 14,
    "start_time": "2021-10-02T19:03:33.929Z"
   },
   {
    "duration": 40,
    "start_time": "2021-10-02T19:03:33.944Z"
   },
   {
    "duration": 8,
    "start_time": "2021-10-02T19:03:33.986Z"
   },
   {
    "duration": 13,
    "start_time": "2021-10-02T19:03:33.995Z"
   },
   {
    "duration": 9,
    "start_time": "2021-10-02T19:03:34.009Z"
   },
   {
    "duration": 8,
    "start_time": "2021-10-02T19:03:34.020Z"
   },
   {
    "duration": 11,
    "start_time": "2021-10-02T19:03:34.029Z"
   },
   {
    "duration": 34,
    "start_time": "2021-10-02T19:03:34.042Z"
   },
   {
    "duration": 7,
    "start_time": "2021-10-02T19:03:34.078Z"
   },
   {
    "duration": 22,
    "start_time": "2021-10-02T19:03:34.087Z"
   },
   {
    "duration": 9,
    "start_time": "2021-10-02T19:03:34.111Z"
   },
   {
    "duration": 9,
    "start_time": "2021-10-02T19:03:34.122Z"
   },
   {
    "duration": 42,
    "start_time": "2021-10-02T19:03:34.133Z"
   },
   {
    "duration": 8,
    "start_time": "2021-10-02T19:03:34.176Z"
   },
   {
    "duration": 8,
    "start_time": "2021-10-02T19:04:10.378Z"
   },
   {
    "duration": 37,
    "start_time": "2021-10-02T19:04:15.124Z"
   },
   {
    "duration": 8,
    "start_time": "2021-10-02T19:04:16.376Z"
   },
   {
    "duration": 721,
    "start_time": "2021-10-02T19:04:22.534Z"
   },
   {
    "duration": 11,
    "start_time": "2021-10-02T19:04:23.257Z"
   },
   {
    "duration": 10,
    "start_time": "2021-10-02T19:04:23.270Z"
   },
   {
    "duration": 3,
    "start_time": "2021-10-02T19:04:23.282Z"
   },
   {
    "duration": 11,
    "start_time": "2021-10-02T19:04:23.287Z"
   },
   {
    "duration": 5,
    "start_time": "2021-10-02T19:04:23.300Z"
   },
   {
    "duration": 4,
    "start_time": "2021-10-02T19:04:23.307Z"
   },
   {
    "duration": 28,
    "start_time": "2021-10-02T19:04:23.314Z"
   },
   {
    "duration": 41,
    "start_time": "2021-10-02T19:04:23.345Z"
   },
   {
    "duration": 4,
    "start_time": "2021-10-02T19:04:23.388Z"
   },
   {
    "duration": 13,
    "start_time": "2021-10-02T19:04:23.393Z"
   },
   {
    "duration": 3,
    "start_time": "2021-10-02T19:04:23.408Z"
   },
   {
    "duration": 16,
    "start_time": "2021-10-02T19:04:23.413Z"
   },
   {
    "duration": 7,
    "start_time": "2021-10-02T19:04:23.431Z"
   },
   {
    "duration": 37,
    "start_time": "2021-10-02T19:04:23.439Z"
   },
   {
    "duration": 6,
    "start_time": "2021-10-02T19:04:23.478Z"
   },
   {
    "duration": 11,
    "start_time": "2021-10-02T19:04:23.486Z"
   },
   {
    "duration": 20,
    "start_time": "2021-10-02T19:04:23.499Z"
   },
   {
    "duration": 6,
    "start_time": "2021-10-02T19:04:23.521Z"
   },
   {
    "duration": 20,
    "start_time": "2021-10-02T19:04:23.528Z"
   },
   {
    "duration": 28,
    "start_time": "2021-10-02T19:04:23.550Z"
   },
   {
    "duration": 15,
    "start_time": "2021-10-02T19:04:23.579Z"
   },
   {
    "duration": 17,
    "start_time": "2021-10-02T19:04:23.598Z"
   },
   {
    "duration": 16,
    "start_time": "2021-10-02T19:04:23.617Z"
   },
   {
    "duration": 12,
    "start_time": "2021-10-02T19:04:23.635Z"
   },
   {
    "duration": 17,
    "start_time": "2021-10-02T19:04:23.677Z"
   },
   {
    "duration": 17,
    "start_time": "2021-10-02T19:04:23.696Z"
   },
   {
    "duration": 16,
    "start_time": "2021-10-02T19:04:23.715Z"
   },
   {
    "duration": 5,
    "start_time": "2021-10-02T19:04:23.732Z"
   },
   {
    "duration": 43,
    "start_time": "2021-10-02T19:04:23.738Z"
   },
   {
    "duration": 9,
    "start_time": "2021-10-02T19:04:23.782Z"
   },
   {
    "duration": 6,
    "start_time": "2021-10-02T19:04:23.793Z"
   },
   {
    "duration": 12,
    "start_time": "2021-10-02T19:04:23.801Z"
   },
   {
    "duration": 8,
    "start_time": "2021-10-02T19:04:23.814Z"
   },
   {
    "duration": 6,
    "start_time": "2021-10-02T19:04:23.823Z"
   },
   {
    "duration": 9,
    "start_time": "2021-10-02T19:04:23.830Z"
   },
   {
    "duration": 5,
    "start_time": "2021-10-02T19:04:23.841Z"
   },
   {
    "duration": 30,
    "start_time": "2021-10-02T19:04:23.848Z"
   },
   {
    "duration": 3869,
    "start_time": "2021-10-02T19:04:23.879Z"
   },
   {
    "duration": 12,
    "start_time": "2021-10-02T19:04:27.750Z"
   },
   {
    "duration": 15,
    "start_time": "2021-10-02T19:04:27.764Z"
   },
   {
    "duration": 5,
    "start_time": "2021-10-02T19:04:27.781Z"
   },
   {
    "duration": 4,
    "start_time": "2021-10-02T19:04:27.788Z"
   },
   {
    "duration": 4,
    "start_time": "2021-10-02T19:04:27.794Z"
   },
   {
    "duration": 5,
    "start_time": "2021-10-02T19:04:27.799Z"
   },
   {
    "duration": 8,
    "start_time": "2021-10-02T19:04:27.806Z"
   },
   {
    "duration": 4,
    "start_time": "2021-10-02T19:04:27.816Z"
   },
   {
    "duration": 5,
    "start_time": "2021-10-02T19:04:27.822Z"
   },
   {
    "duration": 5,
    "start_time": "2021-10-02T19:04:27.829Z"
   },
   {
    "duration": 5,
    "start_time": "2021-10-02T19:04:27.835Z"
   },
   {
    "duration": 35,
    "start_time": "2021-10-02T19:04:27.842Z"
   },
   {
    "duration": 3,
    "start_time": "2021-10-02T19:04:27.879Z"
   },
   {
    "duration": 11,
    "start_time": "2021-10-02T19:04:27.884Z"
   },
   {
    "duration": 9,
    "start_time": "2021-10-02T19:04:27.897Z"
   },
   {
    "duration": 5,
    "start_time": "2021-10-02T19:04:27.907Z"
   },
   {
    "duration": 16,
    "start_time": "2021-10-02T19:04:27.914Z"
   },
   {
    "duration": 6,
    "start_time": "2021-10-02T19:04:27.932Z"
   },
   {
    "duration": 9,
    "start_time": "2021-10-02T19:04:27.940Z"
   },
   {
    "duration": 27,
    "start_time": "2021-10-02T19:04:27.951Z"
   },
   {
    "duration": 11,
    "start_time": "2021-10-02T19:04:27.980Z"
   },
   {
    "duration": 6,
    "start_time": "2021-10-02T19:04:27.993Z"
   },
   {
    "duration": 6,
    "start_time": "2021-10-02T19:04:28.000Z"
   },
   {
    "duration": 4,
    "start_time": "2021-10-02T19:04:28.008Z"
   },
   {
    "duration": 5,
    "start_time": "2021-10-02T19:04:28.014Z"
   },
   {
    "duration": 5,
    "start_time": "2021-10-02T19:04:28.021Z"
   },
   {
    "duration": 5,
    "start_time": "2021-10-02T19:04:28.027Z"
   },
   {
    "duration": 47,
    "start_time": "2021-10-02T19:04:28.033Z"
   },
   {
    "duration": 7,
    "start_time": "2021-10-02T19:04:28.085Z"
   },
   {
    "duration": 6,
    "start_time": "2021-10-02T19:04:28.094Z"
   },
   {
    "duration": 8,
    "start_time": "2021-10-02T19:04:28.102Z"
   },
   {
    "duration": 15,
    "start_time": "2021-10-02T19:04:28.112Z"
   },
   {
    "duration": 13,
    "start_time": "2021-10-02T19:04:28.129Z"
   },
   {
    "duration": 34,
    "start_time": "2021-10-02T19:04:28.144Z"
   },
   {
    "duration": 6,
    "start_time": "2021-10-02T19:04:28.180Z"
   },
   {
    "duration": 8,
    "start_time": "2021-10-02T19:04:28.188Z"
   },
   {
    "duration": 7,
    "start_time": "2021-10-02T19:04:28.198Z"
   },
   {
    "duration": 7,
    "start_time": "2021-10-02T19:04:28.207Z"
   },
   {
    "duration": 13,
    "start_time": "2021-10-02T19:04:28.216Z"
   },
   {
    "duration": 7,
    "start_time": "2021-10-02T19:04:28.231Z"
   },
   {
    "duration": 41,
    "start_time": "2021-10-02T19:04:28.239Z"
   },
   {
    "duration": 8,
    "start_time": "2021-10-02T19:04:28.282Z"
   },
   {
    "duration": 10,
    "start_time": "2021-10-02T19:04:28.291Z"
   },
   {
    "duration": 14,
    "start_time": "2021-10-02T19:04:28.302Z"
   },
   {
    "duration": 8,
    "start_time": "2021-10-02T19:04:28.318Z"
   },
   {
    "duration": 8,
    "start_time": "2021-10-02T19:04:28.327Z"
   },
   {
    "duration": 11,
    "start_time": "2021-10-02T19:04:28.337Z"
   },
   {
    "duration": 8,
    "start_time": "2021-10-02T19:04:28.377Z"
   },
   {
    "duration": 13,
    "start_time": "2021-10-02T19:04:28.386Z"
   },
   {
    "duration": 14,
    "start_time": "2021-10-02T19:04:28.401Z"
   },
   {
    "duration": 6,
    "start_time": "2021-10-02T19:04:28.417Z"
   },
   {
    "duration": 6,
    "start_time": "2021-10-02T19:04:28.425Z"
   },
   {
    "duration": 9,
    "start_time": "2021-10-02T19:04:28.432Z"
   },
   {
    "duration": 36,
    "start_time": "2021-10-02T19:04:28.442Z"
   },
   {
    "duration": 41,
    "start_time": "2021-10-02T19:04:28.479Z"
   },
   {
    "duration": 7,
    "start_time": "2021-10-02T19:04:28.522Z"
   },
   {
    "duration": 9,
    "start_time": "2021-10-02T19:04:56.032Z"
   },
   {
    "duration": 11,
    "start_time": "2021-10-02T19:06:30.762Z"
   },
   {
    "duration": 11,
    "start_time": "2021-10-02T19:06:41.850Z"
   },
   {
    "duration": 8,
    "start_time": "2021-10-02T19:07:06.033Z"
   },
   {
    "duration": 8,
    "start_time": "2021-10-02T19:07:13.377Z"
   },
   {
    "duration": 7,
    "start_time": "2021-10-02T19:13:05.408Z"
   },
   {
    "duration": 9,
    "start_time": "2021-10-02T19:13:14.326Z"
   },
   {
    "duration": 7,
    "start_time": "2021-10-02T19:13:31.783Z"
   },
   {
    "duration": 9,
    "start_time": "2021-10-02T19:13:34.298Z"
   },
   {
    "duration": 6,
    "start_time": "2021-10-02T19:13:52.656Z"
   },
   {
    "duration": 8,
    "start_time": "2021-10-02T19:13:55.527Z"
   },
   {
    "duration": 10,
    "start_time": "2021-10-02T19:16:26.600Z"
   },
   {
    "duration": 5,
    "start_time": "2021-10-02T19:25:14.796Z"
   },
   {
    "duration": 5,
    "start_time": "2021-10-02T19:26:12.505Z"
   },
   {
    "duration": 3,
    "start_time": "2021-10-02T19:35:48.786Z"
   },
   {
    "duration": 6288,
    "start_time": "2021-10-02T19:37:22.329Z"
   },
   {
    "duration": 2,
    "start_time": "2021-10-02T19:37:37.570Z"
   },
   {
    "duration": 7,
    "start_time": "2021-10-02T19:37:38.834Z"
   },
   {
    "duration": 2083,
    "start_time": "2021-10-02T19:37:48.115Z"
   },
   {
    "duration": 12,
    "start_time": "2021-10-02T19:37:50.200Z"
   },
   {
    "duration": 9,
    "start_time": "2021-10-02T19:37:50.214Z"
   },
   {
    "duration": 4,
    "start_time": "2021-10-02T19:37:50.225Z"
   },
   {
    "duration": 11,
    "start_time": "2021-10-02T19:37:50.231Z"
   },
   {
    "duration": 33,
    "start_time": "2021-10-02T19:37:50.244Z"
   },
   {
    "duration": 5,
    "start_time": "2021-10-02T19:37:50.278Z"
   },
   {
    "duration": 27,
    "start_time": "2021-10-02T19:37:50.285Z"
   },
   {
    "duration": 9,
    "start_time": "2021-10-02T19:37:50.315Z"
   },
   {
    "duration": 3,
    "start_time": "2021-10-02T19:37:50.326Z"
   },
   {
    "duration": 13,
    "start_time": "2021-10-02T19:37:50.331Z"
   },
   {
    "duration": 32,
    "start_time": "2021-10-02T19:37:50.346Z"
   },
   {
    "duration": 15,
    "start_time": "2021-10-02T19:37:50.380Z"
   },
   {
    "duration": 7,
    "start_time": "2021-10-02T19:37:50.397Z"
   },
   {
    "duration": 3,
    "start_time": "2021-10-02T19:37:50.405Z"
   },
   {
    "duration": 26,
    "start_time": "2021-10-02T19:37:50.410Z"
   },
   {
    "duration": 7,
    "start_time": "2021-10-02T19:37:50.438Z"
   },
   {
    "duration": 33,
    "start_time": "2021-10-02T19:37:50.447Z"
   },
   {
    "duration": 8,
    "start_time": "2021-10-02T19:37:50.482Z"
   },
   {
    "duration": 32,
    "start_time": "2021-10-02T19:37:50.491Z"
   },
   {
    "duration": 7,
    "start_time": "2021-10-02T19:37:50.525Z"
   },
   {
    "duration": 19,
    "start_time": "2021-10-02T19:37:50.534Z"
   },
   {
    "duration": 34,
    "start_time": "2021-10-02T19:37:50.558Z"
   },
   {
    "duration": 15,
    "start_time": "2021-10-02T19:37:50.595Z"
   },
   {
    "duration": 11,
    "start_time": "2021-10-02T19:37:50.611Z"
   },
   {
    "duration": 18,
    "start_time": "2021-10-02T19:37:50.624Z"
   },
   {
    "duration": 41,
    "start_time": "2021-10-02T19:37:50.644Z"
   },
   {
    "duration": 15,
    "start_time": "2021-10-02T19:37:50.686Z"
   },
   {
    "duration": 4,
    "start_time": "2021-10-02T19:37:50.703Z"
   },
   {
    "duration": 13,
    "start_time": "2021-10-02T19:37:50.709Z"
   },
   {
    "duration": 7,
    "start_time": "2021-10-02T19:37:50.723Z"
   },
   {
    "duration": 7,
    "start_time": "2021-10-02T19:37:50.731Z"
   },
   {
    "duration": 37,
    "start_time": "2021-10-02T19:37:50.740Z"
   },
   {
    "duration": 5,
    "start_time": "2021-10-02T19:37:50.779Z"
   },
   {
    "duration": 12,
    "start_time": "2021-10-02T19:37:50.785Z"
   },
   {
    "duration": 7,
    "start_time": "2021-10-02T19:37:50.799Z"
   },
   {
    "duration": 6,
    "start_time": "2021-10-02T19:37:50.807Z"
   },
   {
    "duration": 5,
    "start_time": "2021-10-02T19:37:50.815Z"
   },
   {
    "duration": 3442,
    "start_time": "2021-10-02T19:37:50.823Z"
   },
   {
    "duration": 12,
    "start_time": "2021-10-02T19:37:54.277Z"
   },
   {
    "duration": 6,
    "start_time": "2021-10-02T19:37:54.290Z"
   },
   {
    "duration": 4,
    "start_time": "2021-10-02T19:37:54.297Z"
   },
   {
    "duration": 4,
    "start_time": "2021-10-02T19:37:54.303Z"
   },
   {
    "duration": 4,
    "start_time": "2021-10-02T19:37:54.309Z"
   },
   {
    "duration": 5,
    "start_time": "2021-10-02T19:37:54.315Z"
   },
   {
    "duration": 7,
    "start_time": "2021-10-02T19:37:54.321Z"
   },
   {
    "duration": 7,
    "start_time": "2021-10-02T19:37:54.330Z"
   },
   {
    "duration": 10,
    "start_time": "2021-10-02T19:37:54.339Z"
   },
   {
    "duration": 5,
    "start_time": "2021-10-02T19:37:54.350Z"
   },
   {
    "duration": 19,
    "start_time": "2021-10-02T19:37:54.356Z"
   },
   {
    "duration": 5,
    "start_time": "2021-10-02T19:37:54.377Z"
   },
   {
    "duration": 4,
    "start_time": "2021-10-02T19:37:54.384Z"
   },
   {
    "duration": 10,
    "start_time": "2021-10-02T19:37:54.389Z"
   },
   {
    "duration": 8,
    "start_time": "2021-10-02T19:37:54.401Z"
   },
   {
    "duration": 5,
    "start_time": "2021-10-02T19:37:54.410Z"
   },
   {
    "duration": 9,
    "start_time": "2021-10-02T19:37:54.416Z"
   },
   {
    "duration": 6,
    "start_time": "2021-10-02T19:37:54.427Z"
   },
   {
    "duration": 7,
    "start_time": "2021-10-02T19:37:54.477Z"
   },
   {
    "duration": 5,
    "start_time": "2021-10-02T19:37:54.486Z"
   },
   {
    "duration": 14,
    "start_time": "2021-10-02T19:37:54.493Z"
   },
   {
    "duration": 10,
    "start_time": "2021-10-02T19:37:54.509Z"
   },
   {
    "duration": 12,
    "start_time": "2021-10-02T19:37:54.521Z"
   },
   {
    "duration": 16,
    "start_time": "2021-10-02T19:37:54.535Z"
   },
   {
    "duration": 11,
    "start_time": "2021-10-02T19:37:54.553Z"
   },
   {
    "duration": 6,
    "start_time": "2021-10-02T19:37:54.566Z"
   },
   {
    "duration": 8,
    "start_time": "2021-10-02T19:37:54.574Z"
   },
   {
    "duration": 15,
    "start_time": "2021-10-02T19:37:54.583Z"
   },
   {
    "duration": 7,
    "start_time": "2021-10-02T19:37:54.604Z"
   },
   {
    "duration": 10,
    "start_time": "2021-10-02T19:37:54.614Z"
   },
   {
    "duration": 13,
    "start_time": "2021-10-02T19:37:54.626Z"
   },
   {
    "duration": 32,
    "start_time": "2021-10-02T19:37:54.642Z"
   },
   {
    "duration": 5,
    "start_time": "2021-10-02T19:37:54.676Z"
   },
   {
    "duration": 4,
    "start_time": "2021-10-02T19:37:54.683Z"
   },
   {
    "duration": 5940,
    "start_time": "2021-10-02T19:37:54.688Z"
   },
   {
    "duration": 228,
    "start_time": "2021-10-02T19:38:00.403Z"
   },
   {
    "duration": 220,
    "start_time": "2021-10-02T19:38:00.413Z"
   },
   {
    "duration": 214,
    "start_time": "2021-10-02T19:38:00.420Z"
   },
   {
    "duration": 210,
    "start_time": "2021-10-02T19:38:00.426Z"
   },
   {
    "duration": 208,
    "start_time": "2021-10-02T19:38:00.430Z"
   },
   {
    "duration": 203,
    "start_time": "2021-10-02T19:38:00.436Z"
   },
   {
    "duration": 199,
    "start_time": "2021-10-02T19:38:00.441Z"
   },
   {
    "duration": 196,
    "start_time": "2021-10-02T19:38:00.446Z"
   },
   {
    "duration": 192,
    "start_time": "2021-10-02T19:38:00.451Z"
   },
   {
    "duration": 189,
    "start_time": "2021-10-02T19:38:00.456Z"
   },
   {
    "duration": 186,
    "start_time": "2021-10-02T19:38:00.460Z"
   },
   {
    "duration": 182,
    "start_time": "2021-10-02T19:38:00.466Z"
   },
   {
    "duration": 179,
    "start_time": "2021-10-02T19:38:00.470Z"
   },
   {
    "duration": 175,
    "start_time": "2021-10-02T19:38:00.476Z"
   },
   {
    "duration": 172,
    "start_time": "2021-10-02T19:38:00.480Z"
   },
   {
    "duration": 169,
    "start_time": "2021-10-02T19:38:00.485Z"
   },
   {
    "duration": 165,
    "start_time": "2021-10-02T19:38:00.490Z"
   },
   {
    "duration": 162,
    "start_time": "2021-10-02T19:38:00.495Z"
   },
   {
    "duration": 158,
    "start_time": "2021-10-02T19:38:00.500Z"
   },
   {
    "duration": 145,
    "start_time": "2021-10-02T19:38:00.515Z"
   },
   {
    "duration": 139,
    "start_time": "2021-10-02T19:38:00.522Z"
   },
   {
    "duration": 134,
    "start_time": "2021-10-02T19:38:00.529Z"
   },
   {
    "duration": 131,
    "start_time": "2021-10-02T19:38:00.533Z"
   },
   {
    "duration": 128,
    "start_time": "2021-10-02T19:38:00.538Z"
   },
   {
    "duration": 132,
    "start_time": "2021-10-02T19:38:00.543Z"
   },
   {
    "duration": 129,
    "start_time": "2021-10-02T19:38:00.548Z"
   },
   {
    "duration": 125,
    "start_time": "2021-10-02T19:38:00.553Z"
   },
   {
    "duration": 373,
    "start_time": "2021-10-02T19:39:18.407Z"
   },
   {
    "duration": 352,
    "start_time": "2021-10-02T19:39:27.416Z"
   },
   {
    "duration": 4,
    "start_time": "2021-10-02T19:40:44.197Z"
   },
   {
    "duration": 3,
    "start_time": "2021-10-02T19:47:08.167Z"
   },
   {
    "duration": 5,
    "start_time": "2021-10-02T19:47:20.918Z"
   },
   {
    "duration": 365,
    "start_time": "2021-10-02T19:51:38.483Z"
   },
   {
    "duration": 9,
    "start_time": "2021-10-02T19:57:04.496Z"
   },
   {
    "duration": 7,
    "start_time": "2021-10-02T19:57:52.871Z"
   },
   {
    "duration": 2,
    "start_time": "2021-10-02T20:09:20.409Z"
   },
   {
    "duration": 5,
    "start_time": "2021-10-02T20:09:32.561Z"
   },
   {
    "duration": 2,
    "start_time": "2021-10-02T20:09:46.698Z"
   },
   {
    "duration": 3,
    "start_time": "2021-10-02T20:09:50.981Z"
   },
   {
    "duration": 124,
    "start_time": "2021-10-02T20:18:29.066Z"
   },
   {
    "duration": 108,
    "start_time": "2021-10-02T20:18:38.938Z"
   },
   {
    "duration": 3,
    "start_time": "2021-10-02T20:19:15.977Z"
   },
   {
    "duration": 2,
    "start_time": "2021-10-02T20:20:11.789Z"
   },
   {
    "duration": 4,
    "start_time": "2021-10-02T20:20:30.963Z"
   },
   {
    "duration": 8,
    "start_time": "2021-10-02T20:20:38.702Z"
   },
   {
    "duration": 3,
    "start_time": "2021-10-02T20:21:23.339Z"
   },
   {
    "duration": 4,
    "start_time": "2021-10-02T20:21:25.875Z"
   },
   {
    "duration": 8,
    "start_time": "2021-10-02T20:21:27.117Z"
   },
   {
    "duration": 3,
    "start_time": "2021-10-02T20:22:07.004Z"
   },
   {
    "duration": 4,
    "start_time": "2021-10-02T20:22:09.867Z"
   },
   {
    "duration": 6,
    "start_time": "2021-10-02T20:22:10.702Z"
   },
   {
    "duration": 3,
    "start_time": "2021-10-02T20:22:51.573Z"
   },
   {
    "duration": 3,
    "start_time": "2021-10-02T20:22:53.903Z"
   },
   {
    "duration": 6,
    "start_time": "2021-10-02T20:22:54.957Z"
   },
   {
    "duration": 4,
    "start_time": "2021-10-02T20:25:19.864Z"
   },
   {
    "duration": 5,
    "start_time": "2021-10-02T20:25:32.032Z"
   },
   {
    "duration": 721,
    "start_time": "2021-10-02T20:31:03.284Z"
   },
   {
    "duration": 9,
    "start_time": "2021-10-02T20:31:04.007Z"
   },
   {
    "duration": 9,
    "start_time": "2021-10-02T20:31:04.018Z"
   },
   {
    "duration": 3,
    "start_time": "2021-10-02T20:31:04.028Z"
   },
   {
    "duration": 11,
    "start_time": "2021-10-02T20:31:04.033Z"
   },
   {
    "duration": 32,
    "start_time": "2021-10-02T20:31:04.045Z"
   },
   {
    "duration": 4,
    "start_time": "2021-10-02T20:31:04.078Z"
   },
   {
    "duration": 28,
    "start_time": "2021-10-02T20:31:04.085Z"
   },
   {
    "duration": 9,
    "start_time": "2021-10-02T20:31:04.115Z"
   },
   {
    "duration": 8,
    "start_time": "2021-10-02T20:31:04.126Z"
   },
   {
    "duration": 13,
    "start_time": "2021-10-02T20:31:04.135Z"
   },
   {
    "duration": 29,
    "start_time": "2021-10-02T20:31:04.149Z"
   },
   {
    "duration": 26,
    "start_time": "2021-10-02T20:31:04.180Z"
   },
   {
    "duration": 7,
    "start_time": "2021-10-02T20:31:04.207Z"
   },
   {
    "duration": 3,
    "start_time": "2021-10-02T20:31:04.216Z"
   },
   {
    "duration": 6,
    "start_time": "2021-10-02T20:31:04.221Z"
   },
   {
    "duration": 10,
    "start_time": "2021-10-02T20:31:04.228Z"
   },
   {
    "duration": 38,
    "start_time": "2021-10-02T20:31:04.239Z"
   },
   {
    "duration": 6,
    "start_time": "2021-10-02T20:31:04.278Z"
   },
   {
    "duration": 15,
    "start_time": "2021-10-02T20:31:04.286Z"
   },
   {
    "duration": 6,
    "start_time": "2021-10-02T20:31:04.302Z"
   },
   {
    "duration": 18,
    "start_time": "2021-10-02T20:31:04.309Z"
   },
   {
    "duration": 16,
    "start_time": "2021-10-02T20:31:04.331Z"
   },
   {
    "duration": 40,
    "start_time": "2021-10-02T20:31:04.350Z"
   },
   {
    "duration": 11,
    "start_time": "2021-10-02T20:31:04.391Z"
   },
   {
    "duration": 18,
    "start_time": "2021-10-02T20:31:04.404Z"
   },
   {
    "duration": 16,
    "start_time": "2021-10-02T20:31:04.424Z"
   },
   {
    "duration": 40,
    "start_time": "2021-10-02T20:31:04.442Z"
   },
   {
    "duration": 5,
    "start_time": "2021-10-02T20:31:04.484Z"
   },
   {
    "duration": 12,
    "start_time": "2021-10-02T20:31:04.490Z"
   },
   {
    "duration": 6,
    "start_time": "2021-10-02T20:31:04.504Z"
   },
   {
    "duration": 6,
    "start_time": "2021-10-02T20:31:04.512Z"
   },
   {
    "duration": 16,
    "start_time": "2021-10-02T20:31:04.519Z"
   },
   {
    "duration": 6,
    "start_time": "2021-10-02T20:31:04.536Z"
   },
   {
    "duration": 33,
    "start_time": "2021-10-02T20:31:04.544Z"
   },
   {
    "duration": 7,
    "start_time": "2021-10-02T20:31:04.579Z"
   },
   {
    "duration": 6,
    "start_time": "2021-10-02T20:31:04.588Z"
   },
   {
    "duration": 4,
    "start_time": "2021-10-02T20:31:04.595Z"
   },
   {
    "duration": 3840,
    "start_time": "2021-10-02T20:31:04.600Z"
   },
   {
    "duration": 13,
    "start_time": "2021-10-02T20:31:08.442Z"
   },
   {
    "duration": 4,
    "start_time": "2021-10-02T20:31:08.457Z"
   },
   {
    "duration": 2,
    "start_time": "2021-10-02T20:31:08.477Z"
   },
   {
    "duration": 4,
    "start_time": "2021-10-02T20:31:08.481Z"
   },
   {
    "duration": 5,
    "start_time": "2021-10-02T20:31:08.487Z"
   },
   {
    "duration": 7,
    "start_time": "2021-10-02T20:31:08.494Z"
   },
   {
    "duration": 6,
    "start_time": "2021-10-02T20:31:08.503Z"
   },
   {
    "duration": 5,
    "start_time": "2021-10-02T20:31:08.510Z"
   },
   {
    "duration": 4,
    "start_time": "2021-10-02T20:31:08.516Z"
   },
   {
    "duration": 4,
    "start_time": "2021-10-02T20:31:08.522Z"
   },
   {
    "duration": 4,
    "start_time": "2021-10-02T20:31:08.527Z"
   },
   {
    "duration": 6,
    "start_time": "2021-10-02T20:31:08.533Z"
   },
   {
    "duration": 4,
    "start_time": "2021-10-02T20:31:08.541Z"
   },
   {
    "duration": 36,
    "start_time": "2021-10-02T20:31:08.546Z"
   },
   {
    "duration": 7,
    "start_time": "2021-10-02T20:31:08.584Z"
   },
   {
    "duration": 6,
    "start_time": "2021-10-02T20:31:08.593Z"
   },
   {
    "duration": 18,
    "start_time": "2021-10-02T20:31:08.600Z"
   },
   {
    "duration": 5,
    "start_time": "2021-10-02T20:31:08.620Z"
   },
   {
    "duration": 9,
    "start_time": "2021-10-02T20:31:08.626Z"
   },
   {
    "duration": 4,
    "start_time": "2021-10-02T20:31:08.636Z"
   },
   {
    "duration": 10,
    "start_time": "2021-10-02T20:31:08.642Z"
   },
   {
    "duration": 25,
    "start_time": "2021-10-02T20:31:08.653Z"
   },
   {
    "duration": 6,
    "start_time": "2021-10-02T20:31:08.680Z"
   },
   {
    "duration": 8,
    "start_time": "2021-10-02T20:31:08.687Z"
   },
   {
    "duration": 4,
    "start_time": "2021-10-02T20:31:08.697Z"
   },
   {
    "duration": 14,
    "start_time": "2021-10-02T20:31:08.703Z"
   },
   {
    "duration": 21,
    "start_time": "2021-10-02T20:31:08.719Z"
   },
   {
    "duration": 17,
    "start_time": "2021-10-02T20:31:08.742Z"
   },
   {
    "duration": 7,
    "start_time": "2021-10-02T20:31:08.764Z"
   },
   {
    "duration": 5,
    "start_time": "2021-10-02T20:31:08.773Z"
   },
   {
    "duration": 12,
    "start_time": "2021-10-02T20:31:08.780Z"
   },
   {
    "duration": 15,
    "start_time": "2021-10-02T20:31:08.794Z"
   },
   {
    "duration": 11,
    "start_time": "2021-10-02T20:31:08.811Z"
   },
   {
    "duration": 9,
    "start_time": "2021-10-02T20:31:08.823Z"
   },
   {
    "duration": 7,
    "start_time": "2021-10-02T20:31:08.834Z"
   },
   {
    "duration": 8,
    "start_time": "2021-10-02T20:31:08.842Z"
   },
   {
    "duration": 28,
    "start_time": "2021-10-02T20:31:08.852Z"
   },
   {
    "duration": 7,
    "start_time": "2021-10-02T20:31:08.882Z"
   },
   {
    "duration": 5,
    "start_time": "2021-10-02T20:31:08.890Z"
   },
   {
    "duration": 13,
    "start_time": "2021-10-02T20:31:08.897Z"
   },
   {
    "duration": 7,
    "start_time": "2021-10-02T20:31:08.912Z"
   },
   {
    "duration": 11,
    "start_time": "2021-10-02T20:31:08.920Z"
   },
   {
    "duration": 9,
    "start_time": "2021-10-02T20:31:08.933Z"
   },
   {
    "duration": 39,
    "start_time": "2021-10-02T20:31:08.943Z"
   },
   {
    "duration": 15,
    "start_time": "2021-10-02T20:31:08.983Z"
   },
   {
    "duration": 6,
    "start_time": "2021-10-02T20:31:09.000Z"
   },
   {
    "duration": 7,
    "start_time": "2021-10-02T20:31:09.008Z"
   },
   {
    "duration": 8,
    "start_time": "2021-10-02T20:31:09.017Z"
   },
   {
    "duration": 9,
    "start_time": "2021-10-02T20:31:09.026Z"
   },
   {
    "duration": 13,
    "start_time": "2021-10-02T20:31:09.036Z"
   },
   {
    "duration": 36,
    "start_time": "2021-10-02T20:31:09.051Z"
   },
   {
    "duration": 7,
    "start_time": "2021-10-02T20:31:09.089Z"
   },
   {
    "duration": 4,
    "start_time": "2021-10-02T20:31:09.098Z"
   },
   {
    "duration": 8,
    "start_time": "2021-10-02T20:31:09.104Z"
   },
   {
    "duration": 8,
    "start_time": "2021-10-02T20:31:09.114Z"
   },
   {
    "duration": 70,
    "start_time": "2021-10-02T20:31:09.123Z"
   },
   {
    "duration": 7,
    "start_time": "2021-10-02T20:31:09.195Z"
   },
   {
    "duration": 26,
    "start_time": "2021-10-02T20:31:09.204Z"
   },
   {
    "duration": 9,
    "start_time": "2021-10-02T20:31:09.232Z"
   },
   {
    "duration": 87,
    "start_time": "2021-10-02T20:33:27.172Z"
   },
   {
    "duration": 35,
    "start_time": "2021-10-02T20:45:42.963Z"
   },
   {
    "duration": 4,
    "start_time": "2021-10-02T20:46:18.741Z"
   },
   {
    "duration": 2,
    "start_time": "2021-10-02T20:49:53.447Z"
   },
   {
    "duration": 3,
    "start_time": "2021-10-02T20:49:56.560Z"
   },
   {
    "duration": 3,
    "start_time": "2021-10-02T21:03:23.169Z"
   },
   {
    "duration": 5,
    "start_time": "2021-10-02T21:05:10.874Z"
   },
   {
    "duration": 8,
    "start_time": "2021-10-02T21:05:15.180Z"
   },
   {
    "duration": 11,
    "start_time": "2021-10-02T21:06:00.788Z"
   },
   {
    "duration": 731,
    "start_time": "2021-10-02T21:06:15.361Z"
   },
   {
    "duration": 11,
    "start_time": "2021-10-02T21:06:16.094Z"
   },
   {
    "duration": 9,
    "start_time": "2021-10-02T21:06:16.107Z"
   },
   {
    "duration": 4,
    "start_time": "2021-10-02T21:06:16.118Z"
   },
   {
    "duration": 15,
    "start_time": "2021-10-02T21:06:16.123Z"
   },
   {
    "duration": 6,
    "start_time": "2021-10-02T21:06:16.140Z"
   },
   {
    "duration": 30,
    "start_time": "2021-10-02T21:06:16.148Z"
   },
   {
    "duration": 29,
    "start_time": "2021-10-02T21:06:16.180Z"
   },
   {
    "duration": 10,
    "start_time": "2021-10-02T21:06:16.211Z"
   },
   {
    "duration": 6,
    "start_time": "2021-10-02T21:06:16.222Z"
   },
   {
    "duration": 15,
    "start_time": "2021-10-02T21:06:16.230Z"
   },
   {
    "duration": 33,
    "start_time": "2021-10-02T21:06:16.246Z"
   },
   {
    "duration": 15,
    "start_time": "2021-10-02T21:06:16.280Z"
   },
   {
    "duration": 7,
    "start_time": "2021-10-02T21:06:16.297Z"
   },
   {
    "duration": 3,
    "start_time": "2021-10-02T21:06:16.306Z"
   },
   {
    "duration": 7,
    "start_time": "2021-10-02T21:06:16.310Z"
   },
   {
    "duration": 10,
    "start_time": "2021-10-02T21:06:16.319Z"
   },
   {
    "duration": 50,
    "start_time": "2021-10-02T21:06:16.331Z"
   },
   {
    "duration": 7,
    "start_time": "2021-10-02T21:06:16.383Z"
   },
   {
    "duration": 18,
    "start_time": "2021-10-02T21:06:16.392Z"
   },
   {
    "duration": 7,
    "start_time": "2021-10-02T21:06:16.412Z"
   },
   {
    "duration": 17,
    "start_time": "2021-10-02T21:06:16.421Z"
   },
   {
    "duration": 19,
    "start_time": "2021-10-02T21:06:16.476Z"
   },
   {
    "duration": 18,
    "start_time": "2021-10-02T21:06:16.499Z"
   },
   {
    "duration": 14,
    "start_time": "2021-10-02T21:06:16.519Z"
   },
   {
    "duration": 50,
    "start_time": "2021-10-02T21:06:16.536Z"
   },
   {
    "duration": 18,
    "start_time": "2021-10-02T21:06:16.589Z"
   },
   {
    "duration": 15,
    "start_time": "2021-10-02T21:06:16.609Z"
   },
   {
    "duration": 5,
    "start_time": "2021-10-02T21:06:16.626Z"
   },
   {
    "duration": 13,
    "start_time": "2021-10-02T21:06:16.633Z"
   },
   {
    "duration": 34,
    "start_time": "2021-10-02T21:06:16.648Z"
   },
   {
    "duration": 7,
    "start_time": "2021-10-02T21:06:16.684Z"
   },
   {
    "duration": 11,
    "start_time": "2021-10-02T21:06:16.693Z"
   },
   {
    "duration": 5,
    "start_time": "2021-10-02T21:06:16.706Z"
   },
   {
    "duration": 7,
    "start_time": "2021-10-02T21:06:16.713Z"
   },
   {
    "duration": 8,
    "start_time": "2021-10-02T21:06:16.721Z"
   },
   {
    "duration": 8,
    "start_time": "2021-10-02T21:06:16.731Z"
   },
   {
    "duration": 38,
    "start_time": "2021-10-02T21:06:16.741Z"
   },
   {
    "duration": 3662,
    "start_time": "2021-10-02T21:06:16.781Z"
   },
   {
    "duration": 14,
    "start_time": "2021-10-02T21:06:20.445Z"
   },
   {
    "duration": 3,
    "start_time": "2021-10-02T21:06:20.476Z"
   },
   {
    "duration": 19,
    "start_time": "2021-10-02T21:06:20.481Z"
   },
   {
    "duration": 9,
    "start_time": "2021-10-02T21:06:20.502Z"
   },
   {
    "duration": 21,
    "start_time": "2021-10-02T21:06:20.513Z"
   },
   {
    "duration": 24,
    "start_time": "2021-10-02T21:06:20.536Z"
   },
   {
    "duration": 11,
    "start_time": "2021-10-02T21:06:20.562Z"
   },
   {
    "duration": 14,
    "start_time": "2021-10-02T21:06:20.575Z"
   },
   {
    "duration": 15,
    "start_time": "2021-10-02T21:06:20.591Z"
   },
   {
    "duration": 13,
    "start_time": "2021-10-02T21:06:20.608Z"
   },
   {
    "duration": 8,
    "start_time": "2021-10-02T21:06:20.623Z"
   },
   {
    "duration": 17,
    "start_time": "2021-10-02T21:06:20.633Z"
   },
   {
    "duration": 10,
    "start_time": "2021-10-02T21:06:20.652Z"
   },
   {
    "duration": 23,
    "start_time": "2021-10-02T21:06:20.663Z"
   },
   {
    "duration": 14,
    "start_time": "2021-10-02T21:06:20.688Z"
   },
   {
    "duration": 13,
    "start_time": "2021-10-02T21:06:20.703Z"
   },
   {
    "duration": 20,
    "start_time": "2021-10-02T21:06:20.718Z"
   },
   {
    "duration": 13,
    "start_time": "2021-10-02T21:06:20.740Z"
   },
   {
    "duration": 29,
    "start_time": "2021-10-02T21:06:20.755Z"
   },
   {
    "duration": 12,
    "start_time": "2021-10-02T21:06:20.786Z"
   },
   {
    "duration": 18,
    "start_time": "2021-10-02T21:06:20.800Z"
   },
   {
    "duration": 21,
    "start_time": "2021-10-02T21:06:20.820Z"
   },
   {
    "duration": 22,
    "start_time": "2021-10-02T21:06:20.842Z"
   },
   {
    "duration": 10,
    "start_time": "2021-10-02T21:06:20.866Z"
   },
   {
    "duration": 27,
    "start_time": "2021-10-02T21:06:20.878Z"
   },
   {
    "duration": 10,
    "start_time": "2021-10-02T21:06:20.907Z"
   },
   {
    "duration": 21,
    "start_time": "2021-10-02T21:06:20.919Z"
   },
   {
    "duration": 22,
    "start_time": "2021-10-02T21:06:20.942Z"
   },
   {
    "duration": 12,
    "start_time": "2021-10-02T21:06:20.969Z"
   },
   {
    "duration": 24,
    "start_time": "2021-10-02T21:06:20.983Z"
   },
   {
    "duration": 21,
    "start_time": "2021-10-02T21:06:21.009Z"
   },
   {
    "duration": 24,
    "start_time": "2021-10-02T21:06:21.032Z"
   },
   {
    "duration": 11,
    "start_time": "2021-10-02T21:06:21.058Z"
   },
   {
    "duration": 7,
    "start_time": "2021-10-02T21:06:21.071Z"
   },
   {
    "duration": 10,
    "start_time": "2021-10-02T21:06:21.080Z"
   },
   {
    "duration": 14,
    "start_time": "2021-10-02T21:06:21.092Z"
   },
   {
    "duration": 7,
    "start_time": "2021-10-02T21:06:21.108Z"
   },
   {
    "duration": 5,
    "start_time": "2021-10-02T21:06:21.116Z"
   },
   {
    "duration": 8,
    "start_time": "2021-10-02T21:06:21.123Z"
   },
   {
    "duration": 8,
    "start_time": "2021-10-02T21:06:21.133Z"
   },
   {
    "duration": 34,
    "start_time": "2021-10-02T21:06:21.143Z"
   },
   {
    "duration": 21,
    "start_time": "2021-10-02T21:06:21.178Z"
   },
   {
    "duration": 8,
    "start_time": "2021-10-02T21:06:21.200Z"
   },
   {
    "duration": 9,
    "start_time": "2021-10-02T21:06:21.210Z"
   },
   {
    "duration": 8,
    "start_time": "2021-10-02T21:06:21.221Z"
   },
   {
    "duration": 9,
    "start_time": "2021-10-02T21:06:21.231Z"
   },
   {
    "duration": 64,
    "start_time": "2021-10-02T21:06:21.242Z"
   },
   {
    "duration": 8,
    "start_time": "2021-10-02T21:06:21.308Z"
   },
   {
    "duration": 7,
    "start_time": "2021-10-02T21:06:21.318Z"
   },
   {
    "duration": 10,
    "start_time": "2021-10-02T21:06:21.326Z"
   },
   {
    "duration": 5,
    "start_time": "2021-10-02T21:07:58.094Z"
   },
   {
    "duration": 9,
    "start_time": "2021-10-02T21:08:01.710Z"
   },
   {
    "duration": 9,
    "start_time": "2021-10-02T21:08:46.263Z"
   },
   {
    "duration": 5,
    "start_time": "2021-10-02T21:11:16.609Z"
   },
   {
    "duration": 4,
    "start_time": "2021-10-02T21:11:33.409Z"
   },
   {
    "duration": 4,
    "start_time": "2021-10-02T21:12:00.257Z"
   },
   {
    "duration": 8,
    "start_time": "2021-10-02T21:12:05.640Z"
   },
   {
    "duration": 8,
    "start_time": "2021-10-02T21:14:24.027Z"
   },
   {
    "duration": 404,
    "start_time": "2021-10-02T21:15:55.253Z"
   },
   {
    "duration": 10876,
    "start_time": "2021-10-02T21:20:58.410Z"
   },
   {
    "duration": 114,
    "start_time": "2021-10-02T21:26:00.253Z"
   },
   {
    "duration": 119,
    "start_time": "2021-10-02T21:34:23.347Z"
   },
   {
    "duration": 721,
    "start_time": "2021-10-02T21:34:34.282Z"
   },
   {
    "duration": 12,
    "start_time": "2021-10-02T21:34:35.005Z"
   },
   {
    "duration": 13,
    "start_time": "2021-10-02T21:34:35.019Z"
   },
   {
    "duration": 17,
    "start_time": "2021-10-02T21:34:35.034Z"
   },
   {
    "duration": 20,
    "start_time": "2021-10-02T21:34:35.053Z"
   },
   {
    "duration": 15,
    "start_time": "2021-10-02T21:34:35.075Z"
   },
   {
    "duration": 10,
    "start_time": "2021-10-02T21:34:35.091Z"
   },
   {
    "duration": 37,
    "start_time": "2021-10-02T21:34:35.103Z"
   },
   {
    "duration": 10,
    "start_time": "2021-10-02T21:34:35.143Z"
   },
   {
    "duration": 3,
    "start_time": "2021-10-02T21:34:35.155Z"
   },
   {
    "duration": 16,
    "start_time": "2021-10-02T21:34:35.160Z"
   },
   {
    "duration": 3,
    "start_time": "2021-10-02T21:34:35.178Z"
   },
   {
    "duration": 17,
    "start_time": "2021-10-02T21:34:35.183Z"
   },
   {
    "duration": 7,
    "start_time": "2021-10-02T21:34:35.202Z"
   },
   {
    "duration": 2,
    "start_time": "2021-10-02T21:34:35.211Z"
   },
   {
    "duration": 5,
    "start_time": "2021-10-02T21:34:35.215Z"
   },
   {
    "duration": 9,
    "start_time": "2021-10-02T21:34:35.222Z"
   },
   {
    "duration": 48,
    "start_time": "2021-10-02T21:34:35.233Z"
   },
   {
    "duration": 5,
    "start_time": "2021-10-02T21:34:35.283Z"
   },
   {
    "duration": 17,
    "start_time": "2021-10-02T21:34:35.289Z"
   },
   {
    "duration": 6,
    "start_time": "2021-10-02T21:34:35.307Z"
   },
   {
    "duration": 64,
    "start_time": "2021-10-02T21:34:35.314Z"
   },
   {
    "duration": 17,
    "start_time": "2021-10-02T21:34:35.380Z"
   },
   {
    "duration": 16,
    "start_time": "2021-10-02T21:34:35.399Z"
   },
   {
    "duration": 12,
    "start_time": "2021-10-02T21:34:35.416Z"
   },
   {
    "duration": 18,
    "start_time": "2021-10-02T21:34:35.429Z"
   },
   {
    "duration": 29,
    "start_time": "2021-10-02T21:34:35.451Z"
   },
   {
    "duration": 15,
    "start_time": "2021-10-02T21:34:35.483Z"
   },
   {
    "duration": 5,
    "start_time": "2021-10-02T21:34:35.499Z"
   },
   {
    "duration": 12,
    "start_time": "2021-10-02T21:34:35.505Z"
   },
   {
    "duration": 7,
    "start_time": "2021-10-02T21:34:35.519Z"
   },
   {
    "duration": 20,
    "start_time": "2021-10-02T21:34:35.527Z"
   },
   {
    "duration": 22,
    "start_time": "2021-10-02T21:34:35.549Z"
   },
   {
    "duration": 10,
    "start_time": "2021-10-02T21:34:35.573Z"
   },
   {
    "duration": 5,
    "start_time": "2021-10-02T21:34:35.585Z"
   },
   {
    "duration": 8,
    "start_time": "2021-10-02T21:34:35.591Z"
   },
   {
    "duration": 12,
    "start_time": "2021-10-02T21:34:35.600Z"
   },
   {
    "duration": 4,
    "start_time": "2021-10-02T21:34:35.614Z"
   },
   {
    "duration": 4095,
    "start_time": "2021-10-02T21:34:35.619Z"
   },
   {
    "duration": 13,
    "start_time": "2021-10-02T21:34:39.716Z"
   },
   {
    "duration": 4,
    "start_time": "2021-10-02T21:34:39.731Z"
   },
   {
    "duration": 7,
    "start_time": "2021-10-02T21:34:39.736Z"
   },
   {
    "duration": 5,
    "start_time": "2021-10-02T21:34:39.744Z"
   },
   {
    "duration": 28,
    "start_time": "2021-10-02T21:34:39.750Z"
   },
   {
    "duration": 7,
    "start_time": "2021-10-02T21:34:39.780Z"
   },
   {
    "duration": 5,
    "start_time": "2021-10-02T21:34:39.789Z"
   },
   {
    "duration": 10,
    "start_time": "2021-10-02T21:34:39.795Z"
   },
   {
    "duration": 7,
    "start_time": "2021-10-02T21:34:39.807Z"
   },
   {
    "duration": 8,
    "start_time": "2021-10-02T21:34:39.816Z"
   },
   {
    "duration": 5,
    "start_time": "2021-10-02T21:34:39.826Z"
   },
   {
    "duration": 7,
    "start_time": "2021-10-02T21:34:39.833Z"
   },
   {
    "duration": 36,
    "start_time": "2021-10-02T21:34:39.842Z"
   },
   {
    "duration": 3,
    "start_time": "2021-10-02T21:34:39.880Z"
   },
   {
    "duration": 3,
    "start_time": "2021-10-02T21:34:39.886Z"
   },
   {
    "duration": 7,
    "start_time": "2021-10-02T21:34:39.891Z"
   },
   {
    "duration": 5,
    "start_time": "2021-10-02T21:34:39.900Z"
   },
   {
    "duration": 4,
    "start_time": "2021-10-02T21:34:39.907Z"
   },
   {
    "duration": 18,
    "start_time": "2021-10-02T21:34:39.913Z"
   },
   {
    "duration": 44,
    "start_time": "2021-10-02T21:34:39.934Z"
   },
   {
    "duration": 5,
    "start_time": "2021-10-02T21:34:39.980Z"
   },
   {
    "duration": 9,
    "start_time": "2021-10-02T21:34:39.986Z"
   },
   {
    "duration": 15,
    "start_time": "2021-10-02T21:34:39.998Z"
   },
   {
    "duration": 5,
    "start_time": "2021-10-02T21:34:40.015Z"
   },
   {
    "duration": 11,
    "start_time": "2021-10-02T21:34:40.022Z"
   },
   {
    "duration": 128,
    "start_time": "2021-10-02T21:34:40.036Z"
   },
   {
    "duration": -85,
    "start_time": "2021-10-02T21:34:40.252Z"
   },
   {
    "duration": -90,
    "start_time": "2021-10-02T21:34:40.258Z"
   },
   {
    "duration": -93,
    "start_time": "2021-10-02T21:34:40.263Z"
   },
   {
    "duration": -96,
    "start_time": "2021-10-02T21:34:40.267Z"
   },
   {
    "duration": -100,
    "start_time": "2021-10-02T21:34:40.272Z"
   },
   {
    "duration": -103,
    "start_time": "2021-10-02T21:34:40.277Z"
   },
   {
    "duration": -106,
    "start_time": "2021-10-02T21:34:40.281Z"
   },
   {
    "duration": -109,
    "start_time": "2021-10-02T21:34:40.286Z"
   },
   {
    "duration": -113,
    "start_time": "2021-10-02T21:34:40.291Z"
   },
   {
    "duration": -117,
    "start_time": "2021-10-02T21:34:40.296Z"
   },
   {
    "duration": -119,
    "start_time": "2021-10-02T21:34:40.300Z"
   },
   {
    "duration": -123,
    "start_time": "2021-10-02T21:34:40.305Z"
   },
   {
    "duration": -125,
    "start_time": "2021-10-02T21:34:40.309Z"
   },
   {
    "duration": -129,
    "start_time": "2021-10-02T21:34:40.314Z"
   },
   {
    "duration": -135,
    "start_time": "2021-10-02T21:34:40.321Z"
   },
   {
    "duration": -139,
    "start_time": "2021-10-02T21:34:40.327Z"
   },
   {
    "duration": -142,
    "start_time": "2021-10-02T21:34:40.331Z"
   },
   {
    "duration": -153,
    "start_time": "2021-10-02T21:34:40.344Z"
   },
   {
    "duration": -159,
    "start_time": "2021-10-02T21:34:40.351Z"
   },
   {
    "duration": -166,
    "start_time": "2021-10-02T21:34:40.359Z"
   },
   {
    "duration": -168,
    "start_time": "2021-10-02T21:34:40.363Z"
   },
   {
    "duration": -172,
    "start_time": "2021-10-02T21:34:40.368Z"
   },
   {
    "duration": -175,
    "start_time": "2021-10-02T21:34:40.373Z"
   },
   {
    "duration": -179,
    "start_time": "2021-10-02T21:34:40.378Z"
   },
   {
    "duration": -182,
    "start_time": "2021-10-02T21:34:40.383Z"
   },
   {
    "duration": -188,
    "start_time": "2021-10-02T21:34:40.390Z"
   },
   {
    "duration": 10019,
    "start_time": "2021-10-02T21:35:28.127Z"
   },
   {
    "duration": 8269,
    "start_time": "2021-10-02T21:40:01.527Z"
   },
   {
    "duration": 10585,
    "start_time": "2021-10-02T21:40:42.612Z"
   },
   {
    "duration": 650,
    "start_time": "2021-10-02T21:48:09.926Z"
   },
   {
    "duration": 11,
    "start_time": "2021-10-02T21:48:10.578Z"
   },
   {
    "duration": 11,
    "start_time": "2021-10-02T21:48:10.592Z"
   },
   {
    "duration": 4,
    "start_time": "2021-10-02T21:48:10.605Z"
   },
   {
    "duration": 10,
    "start_time": "2021-10-02T21:48:10.611Z"
   },
   {
    "duration": 7,
    "start_time": "2021-10-02T21:48:10.623Z"
   },
   {
    "duration": 7,
    "start_time": "2021-10-02T21:48:10.631Z"
   },
   {
    "duration": 64,
    "start_time": "2021-10-02T21:48:10.640Z"
   },
   {
    "duration": 11,
    "start_time": "2021-10-02T21:48:10.707Z"
   },
   {
    "duration": 4,
    "start_time": "2021-10-02T21:48:10.720Z"
   },
   {
    "duration": 12,
    "start_time": "2021-10-02T21:48:10.726Z"
   },
   {
    "duration": 36,
    "start_time": "2021-10-02T21:48:10.740Z"
   },
   {
    "duration": 13,
    "start_time": "2021-10-02T21:48:10.779Z"
   },
   {
    "duration": 8,
    "start_time": "2021-10-02T21:48:10.795Z"
   },
   {
    "duration": 3,
    "start_time": "2021-10-02T21:48:10.805Z"
   },
   {
    "duration": 5,
    "start_time": "2021-10-02T21:48:10.811Z"
   },
   {
    "duration": 6,
    "start_time": "2021-10-02T21:48:10.817Z"
   },
   {
    "duration": 59,
    "start_time": "2021-10-02T21:48:10.825Z"
   },
   {
    "duration": 6,
    "start_time": "2021-10-02T21:48:10.886Z"
   },
   {
    "duration": 18,
    "start_time": "2021-10-02T21:48:10.894Z"
   },
   {
    "duration": 6,
    "start_time": "2021-10-02T21:48:10.914Z"
   },
   {
    "duration": 16,
    "start_time": "2021-10-02T21:48:10.921Z"
   },
   {
    "duration": 46,
    "start_time": "2021-10-02T21:48:10.942Z"
   },
   {
    "duration": 14,
    "start_time": "2021-10-02T21:48:10.991Z"
   },
   {
    "duration": 11,
    "start_time": "2021-10-02T21:48:11.007Z"
   },
   {
    "duration": 18,
    "start_time": "2021-10-02T21:48:11.020Z"
   },
   {
    "duration": 42,
    "start_time": "2021-10-02T21:48:11.040Z"
   },
   {
    "duration": 15,
    "start_time": "2021-10-02T21:48:11.084Z"
   },
   {
    "duration": 5,
    "start_time": "2021-10-02T21:48:11.101Z"
   },
   {
    "duration": 13,
    "start_time": "2021-10-02T21:48:11.107Z"
   },
   {
    "duration": 8,
    "start_time": "2021-10-02T21:48:11.122Z"
   },
   {
    "duration": 7,
    "start_time": "2021-10-02T21:48:11.131Z"
   },
   {
    "duration": 40,
    "start_time": "2021-10-02T21:48:11.140Z"
   },
   {
    "duration": 9,
    "start_time": "2021-10-02T21:48:11.182Z"
   },
   {
    "duration": 6,
    "start_time": "2021-10-02T21:48:11.193Z"
   },
   {
    "duration": 5,
    "start_time": "2021-10-02T21:48:11.200Z"
   },
   {
    "duration": 6,
    "start_time": "2021-10-02T21:48:11.207Z"
   },
   {
    "duration": 3,
    "start_time": "2021-10-02T21:48:11.215Z"
   },
   {
    "duration": 3602,
    "start_time": "2021-10-02T21:48:11.220Z"
   },
   {
    "duration": 12,
    "start_time": "2021-10-02T21:48:14.824Z"
   },
   {
    "duration": 8,
    "start_time": "2021-10-02T21:48:14.838Z"
   },
   {
    "duration": 6,
    "start_time": "2021-10-02T21:48:14.848Z"
   },
   {
    "duration": 5,
    "start_time": "2021-10-02T21:48:14.855Z"
   },
   {
    "duration": 13,
    "start_time": "2021-10-02T21:48:14.877Z"
   },
   {
    "duration": 9,
    "start_time": "2021-10-02T21:48:14.892Z"
   },
   {
    "duration": 5,
    "start_time": "2021-10-02T21:48:14.903Z"
   },
   {
    "duration": 8,
    "start_time": "2021-10-02T21:48:14.909Z"
   },
   {
    "duration": 10,
    "start_time": "2021-10-02T21:48:14.919Z"
   },
   {
    "duration": 8,
    "start_time": "2021-10-02T21:48:14.930Z"
   },
   {
    "duration": 4,
    "start_time": "2021-10-02T21:48:14.940Z"
   },
   {
    "duration": 33,
    "start_time": "2021-10-02T21:48:14.945Z"
   },
   {
    "duration": 11,
    "start_time": "2021-10-02T21:48:14.980Z"
   },
   {
    "duration": 5,
    "start_time": "2021-10-02T21:48:14.992Z"
   },
   {
    "duration": 26,
    "start_time": "2021-10-02T21:48:14.998Z"
   },
   {
    "duration": 12,
    "start_time": "2021-10-02T21:48:15.026Z"
   },
   {
    "duration": 10,
    "start_time": "2021-10-02T21:48:15.040Z"
   },
   {
    "duration": 6,
    "start_time": "2021-10-02T21:48:15.052Z"
   },
   {
    "duration": 16,
    "start_time": "2021-10-02T21:48:15.060Z"
   },
   {
    "duration": 6,
    "start_time": "2021-10-02T21:48:15.078Z"
   },
   {
    "duration": 8,
    "start_time": "2021-10-02T21:48:15.086Z"
   },
   {
    "duration": 11,
    "start_time": "2021-10-02T21:48:15.095Z"
   },
   {
    "duration": 14,
    "start_time": "2021-10-02T21:48:15.108Z"
   },
   {
    "duration": 4,
    "start_time": "2021-10-02T21:48:15.123Z"
   },
   {
    "duration": 12,
    "start_time": "2021-10-02T21:48:15.129Z"
   },
   {
    "duration": 6,
    "start_time": "2021-10-02T21:48:15.142Z"
   },
   {
    "duration": 10050,
    "start_time": "2021-10-02T21:48:15.150Z"
   },
   {
    "duration": 356,
    "start_time": "2021-10-02T21:48:24.847Z"
   },
   {
    "duration": 353,
    "start_time": "2021-10-02T21:48:24.852Z"
   },
   {
    "duration": 343,
    "start_time": "2021-10-02T21:48:24.863Z"
   },
   {
    "duration": 335,
    "start_time": "2021-10-02T21:48:24.872Z"
   },
   {
    "duration": 328,
    "start_time": "2021-10-02T21:48:24.880Z"
   },
   {
    "duration": 323,
    "start_time": "2021-10-02T21:48:24.886Z"
   },
   {
    "duration": 315,
    "start_time": "2021-10-02T21:48:24.895Z"
   },
   {
    "duration": 311,
    "start_time": "2021-10-02T21:48:24.900Z"
   },
   {
    "duration": 306,
    "start_time": "2021-10-02T21:48:24.906Z"
   },
   {
    "duration": 301,
    "start_time": "2021-10-02T21:48:24.912Z"
   },
   {
    "duration": 297,
    "start_time": "2021-10-02T21:48:24.917Z"
   },
   {
    "duration": 293,
    "start_time": "2021-10-02T21:48:24.922Z"
   },
   {
    "duration": 287,
    "start_time": "2021-10-02T21:48:24.929Z"
   },
   {
    "duration": 283,
    "start_time": "2021-10-02T21:48:24.934Z"
   },
   {
    "duration": 267,
    "start_time": "2021-10-02T21:48:24.951Z"
   },
   {
    "duration": 257,
    "start_time": "2021-10-02T21:48:24.962Z"
   },
   {
    "duration": 252,
    "start_time": "2021-10-02T21:48:24.968Z"
   },
   {
    "duration": 247,
    "start_time": "2021-10-02T21:48:24.974Z"
   },
   {
    "duration": 242,
    "start_time": "2021-10-02T21:48:24.980Z"
   },
   {
    "duration": 239,
    "start_time": "2021-10-02T21:48:24.984Z"
   },
   {
    "duration": 235,
    "start_time": "2021-10-02T21:48:24.989Z"
   },
   {
    "duration": 230,
    "start_time": "2021-10-02T21:48:24.995Z"
   },
   {
    "duration": 226,
    "start_time": "2021-10-02T21:48:25.000Z"
   },
   {
    "duration": 222,
    "start_time": "2021-10-02T21:48:25.004Z"
   },
   {
    "duration": 217,
    "start_time": "2021-10-02T21:48:25.010Z"
   },
   {
    "duration": 787,
    "start_time": "2021-10-02T21:48:43.653Z"
   },
   {
    "duration": 11,
    "start_time": "2021-10-02T21:48:44.442Z"
   },
   {
    "duration": 8,
    "start_time": "2021-10-02T21:48:44.455Z"
   },
   {
    "duration": 11,
    "start_time": "2021-10-02T21:48:44.465Z"
   },
   {
    "duration": 8,
    "start_time": "2021-10-02T21:48:44.478Z"
   },
   {
    "duration": 5,
    "start_time": "2021-10-02T21:48:44.488Z"
   },
   {
    "duration": 3,
    "start_time": "2021-10-02T21:48:44.495Z"
   },
   {
    "duration": 27,
    "start_time": "2021-10-02T21:48:44.501Z"
   },
   {
    "duration": 10,
    "start_time": "2021-10-02T21:48:44.530Z"
   },
   {
    "duration": 37,
    "start_time": "2021-10-02T21:48:44.541Z"
   },
   {
    "duration": 13,
    "start_time": "2021-10-02T21:48:44.580Z"
   },
   {
    "duration": 4,
    "start_time": "2021-10-02T21:48:44.595Z"
   },
   {
    "duration": 12,
    "start_time": "2021-10-02T21:48:44.601Z"
   },
   {
    "duration": 7,
    "start_time": "2021-10-02T21:48:44.615Z"
   },
   {
    "duration": 3,
    "start_time": "2021-10-02T21:48:44.624Z"
   },
   {
    "duration": 5,
    "start_time": "2021-10-02T21:48:44.629Z"
   },
   {
    "duration": 7,
    "start_time": "2021-10-02T21:48:44.677Z"
   },
   {
    "duration": 16,
    "start_time": "2021-10-02T21:48:44.686Z"
   },
   {
    "duration": 7,
    "start_time": "2021-10-02T21:48:44.703Z"
   },
   {
    "duration": 16,
    "start_time": "2021-10-02T21:48:44.712Z"
   },
   {
    "duration": 6,
    "start_time": "2021-10-02T21:48:44.730Z"
   },
   {
    "duration": 21,
    "start_time": "2021-10-02T21:48:44.777Z"
   },
   {
    "duration": 17,
    "start_time": "2021-10-02T21:48:44.804Z"
   },
   {
    "duration": 16,
    "start_time": "2021-10-02T21:48:44.824Z"
   },
   {
    "duration": 37,
    "start_time": "2021-10-02T21:48:44.842Z"
   },
   {
    "duration": 19,
    "start_time": "2021-10-02T21:48:44.881Z"
   },
   {
    "duration": 18,
    "start_time": "2021-10-02T21:48:44.901Z"
   },
   {
    "duration": 15,
    "start_time": "2021-10-02T21:48:44.921Z"
   },
   {
    "duration": 4,
    "start_time": "2021-10-02T21:48:44.938Z"
   },
   {
    "duration": 16,
    "start_time": "2021-10-02T21:48:44.977Z"
   },
   {
    "duration": 65,
    "start_time": "2021-10-02T21:48:44.994Z"
   },
   {
    "duration": 7,
    "start_time": "2021-10-02T21:48:45.061Z"
   },
   {
    "duration": 14,
    "start_time": "2021-10-02T21:48:45.070Z"
   },
   {
    "duration": 6,
    "start_time": "2021-10-02T21:48:45.086Z"
   },
   {
    "duration": 9,
    "start_time": "2021-10-02T21:48:45.093Z"
   },
   {
    "duration": 6,
    "start_time": "2021-10-02T21:48:45.104Z"
   },
   {
    "duration": 9,
    "start_time": "2021-10-02T21:48:45.111Z"
   },
   {
    "duration": 4,
    "start_time": "2021-10-02T21:48:45.121Z"
   },
   {
    "duration": 3686,
    "start_time": "2021-10-02T21:48:45.126Z"
   },
   {
    "duration": 13,
    "start_time": "2021-10-02T21:48:48.814Z"
   },
   {
    "duration": 4,
    "start_time": "2021-10-02T21:48:48.829Z"
   },
   {
    "duration": 5,
    "start_time": "2021-10-02T21:48:48.835Z"
   },
   {
    "duration": 4,
    "start_time": "2021-10-02T21:48:48.842Z"
   },
   {
    "duration": 12,
    "start_time": "2021-10-02T21:48:48.847Z"
   },
   {
    "duration": 8,
    "start_time": "2021-10-02T21:48:48.877Z"
   },
   {
    "duration": 5,
    "start_time": "2021-10-02T21:48:48.887Z"
   },
   {
    "duration": 8,
    "start_time": "2021-10-02T21:48:48.893Z"
   },
   {
    "duration": 9,
    "start_time": "2021-10-02T21:48:48.903Z"
   },
   {
    "duration": 13,
    "start_time": "2021-10-02T21:48:48.914Z"
   },
   {
    "duration": 4,
    "start_time": "2021-10-02T21:48:48.929Z"
   },
   {
    "duration": 8,
    "start_time": "2021-10-02T21:48:48.935Z"
   },
   {
    "duration": 31,
    "start_time": "2021-10-02T21:48:48.945Z"
   },
   {
    "duration": 3,
    "start_time": "2021-10-02T21:48:48.978Z"
   },
   {
    "duration": 4,
    "start_time": "2021-10-02T21:48:48.983Z"
   },
   {
    "duration": 3,
    "start_time": "2021-10-02T21:48:48.989Z"
   },
   {
    "duration": 5,
    "start_time": "2021-10-02T21:48:48.994Z"
   },
   {
    "duration": 6,
    "start_time": "2021-10-02T21:48:49.001Z"
   },
   {
    "duration": 15,
    "start_time": "2021-10-02T21:48:49.009Z"
   },
   {
    "duration": 6,
    "start_time": "2021-10-02T21:48:49.026Z"
   },
   {
    "duration": 4,
    "start_time": "2021-10-02T21:48:49.034Z"
   },
   {
    "duration": 37,
    "start_time": "2021-10-02T21:48:49.040Z"
   },
   {
    "duration": 17,
    "start_time": "2021-10-02T21:48:49.079Z"
   },
   {
    "duration": 4,
    "start_time": "2021-10-02T21:48:49.098Z"
   },
   {
    "duration": 9,
    "start_time": "2021-10-02T21:48:49.104Z"
   },
   {
    "duration": 3,
    "start_time": "2021-10-02T21:48:49.114Z"
   },
   {
    "duration": 4,
    "start_time": "2021-10-02T21:48:49.119Z"
   },
   {
    "duration": 13,
    "start_time": "2021-10-02T21:48:49.124Z"
   },
   {
    "duration": 390,
    "start_time": "2021-10-02T21:48:49.143Z"
   },
   {
    "duration": 86,
    "start_time": "2021-10-02T21:48:49.450Z"
   },
   {
    "duration": 83,
    "start_time": "2021-10-02T21:48:49.454Z"
   },
   {
    "duration": 79,
    "start_time": "2021-10-02T21:48:49.459Z"
   },
   {
    "duration": 76,
    "start_time": "2021-10-02T21:48:49.464Z"
   },
   {
    "duration": 74,
    "start_time": "2021-10-02T21:48:49.468Z"
   },
   {
    "duration": 71,
    "start_time": "2021-10-02T21:48:49.472Z"
   },
   {
    "duration": 67,
    "start_time": "2021-10-02T21:48:49.477Z"
   },
   {
    "duration": 64,
    "start_time": "2021-10-02T21:48:49.482Z"
   },
   {
    "duration": 53,
    "start_time": "2021-10-02T21:48:49.494Z"
   },
   {
    "duration": 46,
    "start_time": "2021-10-02T21:48:49.503Z"
   },
   {
    "duration": 41,
    "start_time": "2021-10-02T21:48:49.509Z"
   },
   {
    "duration": 37,
    "start_time": "2021-10-02T21:48:49.515Z"
   },
   {
    "duration": 34,
    "start_time": "2021-10-02T21:48:49.519Z"
   },
   {
    "duration": 30,
    "start_time": "2021-10-02T21:48:49.525Z"
   },
   {
    "duration": 27,
    "start_time": "2021-10-02T21:48:49.529Z"
   },
   {
    "duration": 23,
    "start_time": "2021-10-02T21:48:49.535Z"
   },
   {
    "duration": 19,
    "start_time": "2021-10-02T21:48:49.540Z"
   },
   {
    "duration": 15,
    "start_time": "2021-10-02T21:48:49.545Z"
   },
   {
    "duration": 13,
    "start_time": "2021-10-02T21:48:49.549Z"
   },
   {
    "duration": 9,
    "start_time": "2021-10-02T21:48:49.554Z"
   },
   {
    "duration": 7,
    "start_time": "2021-10-02T21:48:49.558Z"
   },
   {
    "duration": 3,
    "start_time": "2021-10-02T21:48:49.563Z"
   },
   {
    "duration": 0,
    "start_time": "2021-10-02T21:48:49.567Z"
   },
   {
    "duration": 699,
    "start_time": "2021-10-02T21:49:06.391Z"
   },
   {
    "duration": 11,
    "start_time": "2021-10-02T21:49:07.092Z"
   },
   {
    "duration": 14,
    "start_time": "2021-10-02T21:49:07.105Z"
   },
   {
    "duration": 10,
    "start_time": "2021-10-02T21:49:07.121Z"
   },
   {
    "duration": 20,
    "start_time": "2021-10-02T21:49:07.133Z"
   },
   {
    "duration": 6,
    "start_time": "2021-10-02T21:49:07.154Z"
   },
   {
    "duration": 16,
    "start_time": "2021-10-02T21:49:07.161Z"
   },
   {
    "duration": 27,
    "start_time": "2021-10-02T21:49:07.180Z"
   },
   {
    "duration": 9,
    "start_time": "2021-10-02T21:49:07.209Z"
   },
   {
    "duration": 5,
    "start_time": "2021-10-02T21:49:07.220Z"
   },
   {
    "duration": 22,
    "start_time": "2021-10-02T21:49:07.226Z"
   },
   {
    "duration": 27,
    "start_time": "2021-10-02T21:49:07.250Z"
   },
   {
    "duration": 19,
    "start_time": "2021-10-02T21:49:07.279Z"
   },
   {
    "duration": 7,
    "start_time": "2021-10-02T21:49:07.300Z"
   },
   {
    "duration": 2,
    "start_time": "2021-10-02T21:49:07.309Z"
   },
   {
    "duration": 6,
    "start_time": "2021-10-02T21:49:07.313Z"
   },
   {
    "duration": 19,
    "start_time": "2021-10-02T21:49:07.321Z"
   },
   {
    "duration": 14,
    "start_time": "2021-10-02T21:49:07.342Z"
   },
   {
    "duration": 22,
    "start_time": "2021-10-02T21:49:07.358Z"
   },
   {
    "duration": 15,
    "start_time": "2021-10-02T21:49:07.382Z"
   },
   {
    "duration": 5,
    "start_time": "2021-10-02T21:49:07.399Z"
   },
   {
    "duration": 16,
    "start_time": "2021-10-02T21:49:07.406Z"
   },
   {
    "duration": 17,
    "start_time": "2021-10-02T21:49:07.426Z"
   },
   {
    "duration": 44,
    "start_time": "2021-10-02T21:49:07.446Z"
   },
   {
    "duration": 12,
    "start_time": "2021-10-02T21:49:07.492Z"
   },
   {
    "duration": 23,
    "start_time": "2021-10-02T21:49:07.506Z"
   },
   {
    "duration": 17,
    "start_time": "2021-10-02T21:49:07.531Z"
   },
   {
    "duration": 35,
    "start_time": "2021-10-02T21:49:07.550Z"
   },
   {
    "duration": 5,
    "start_time": "2021-10-02T21:49:07.587Z"
   },
   {
    "duration": 14,
    "start_time": "2021-10-02T21:49:07.594Z"
   },
   {
    "duration": 6,
    "start_time": "2021-10-02T21:49:07.610Z"
   },
   {
    "duration": 7,
    "start_time": "2021-10-02T21:49:07.618Z"
   },
   {
    "duration": 11,
    "start_time": "2021-10-02T21:49:07.626Z"
   },
   {
    "duration": 39,
    "start_time": "2021-10-02T21:49:07.639Z"
   },
   {
    "duration": 6,
    "start_time": "2021-10-02T21:49:07.679Z"
   },
   {
    "duration": 6,
    "start_time": "2021-10-02T21:49:07.687Z"
   },
   {
    "duration": 6,
    "start_time": "2021-10-02T21:49:07.694Z"
   },
   {
    "duration": 3,
    "start_time": "2021-10-02T21:49:07.701Z"
   },
   {
    "duration": 3653,
    "start_time": "2021-10-02T21:49:07.706Z"
   },
   {
    "duration": 26,
    "start_time": "2021-10-02T21:49:11.361Z"
   },
   {
    "duration": 4,
    "start_time": "2021-10-02T21:49:11.390Z"
   },
   {
    "duration": 5,
    "start_time": "2021-10-02T21:49:11.396Z"
   },
   {
    "duration": 5,
    "start_time": "2021-10-02T21:49:11.403Z"
   },
   {
    "duration": 12,
    "start_time": "2021-10-02T21:49:11.410Z"
   },
   {
    "duration": 8,
    "start_time": "2021-10-02T21:49:11.425Z"
   },
   {
    "duration": 42,
    "start_time": "2021-10-02T21:49:11.435Z"
   },
   {
    "duration": 7,
    "start_time": "2021-10-02T21:49:11.479Z"
   },
   {
    "duration": 6,
    "start_time": "2021-10-02T21:49:11.488Z"
   },
   {
    "duration": 8,
    "start_time": "2021-10-02T21:49:11.496Z"
   },
   {
    "duration": 4,
    "start_time": "2021-10-02T21:49:11.506Z"
   },
   {
    "duration": 8,
    "start_time": "2021-10-02T21:49:11.512Z"
   },
   {
    "duration": 4,
    "start_time": "2021-10-02T21:49:11.521Z"
   },
   {
    "duration": 5,
    "start_time": "2021-10-02T21:49:11.527Z"
   },
   {
    "duration": 4,
    "start_time": "2021-10-02T21:49:11.534Z"
   },
   {
    "duration": 8,
    "start_time": "2021-10-02T21:49:11.577Z"
   },
   {
    "duration": 7,
    "start_time": "2021-10-02T21:49:11.587Z"
   },
   {
    "duration": 6,
    "start_time": "2021-10-02T21:49:11.596Z"
   },
   {
    "duration": 15,
    "start_time": "2021-10-02T21:49:11.604Z"
   },
   {
    "duration": 8,
    "start_time": "2021-10-02T21:49:11.621Z"
   },
   {
    "duration": 4,
    "start_time": "2021-10-02T21:49:11.631Z"
   },
   {
    "duration": 8,
    "start_time": "2021-10-02T21:49:11.637Z"
   },
   {
    "duration": 39,
    "start_time": "2021-10-02T21:49:11.647Z"
   },
   {
    "duration": 5,
    "start_time": "2021-10-02T21:49:11.688Z"
   },
   {
    "duration": 10,
    "start_time": "2021-10-02T21:49:11.694Z"
   },
   {
    "duration": 5,
    "start_time": "2021-10-02T21:49:11.705Z"
   },
   {
    "duration": 4,
    "start_time": "2021-10-02T21:49:11.712Z"
   },
   {
    "duration": 10,
    "start_time": "2021-10-02T21:49:11.718Z"
   },
   {
    "duration": 2,
    "start_time": "2021-10-02T21:49:11.734Z"
   },
   {
    "duration": 4,
    "start_time": "2021-10-02T21:49:11.738Z"
   },
   {
    "duration": 5,
    "start_time": "2021-10-02T21:49:11.743Z"
   },
   {
    "duration": 7,
    "start_time": "2021-10-02T21:49:11.777Z"
   },
   {
    "duration": 15,
    "start_time": "2021-10-02T21:49:11.787Z"
   },
   {
    "duration": 7,
    "start_time": "2021-10-02T21:49:11.804Z"
   },
   {
    "duration": 12,
    "start_time": "2021-10-02T21:49:11.813Z"
   },
   {
    "duration": 9,
    "start_time": "2021-10-02T21:49:11.826Z"
   },
   {
    "duration": 45,
    "start_time": "2021-10-02T21:49:11.837Z"
   },
   {
    "duration": 15,
    "start_time": "2021-10-02T21:49:11.884Z"
   },
   {
    "duration": 7,
    "start_time": "2021-10-02T21:49:11.901Z"
   },
   {
    "duration": 5,
    "start_time": "2021-10-02T21:49:11.910Z"
   },
   {
    "duration": 8,
    "start_time": "2021-10-02T21:49:11.916Z"
   },
   {
    "duration": 8,
    "start_time": "2021-10-02T21:49:11.925Z"
   },
   {
    "duration": 10,
    "start_time": "2021-10-02T21:49:11.934Z"
   },
   {
    "duration": 44,
    "start_time": "2021-10-02T21:49:11.945Z"
   },
   {
    "duration": 7,
    "start_time": "2021-10-02T21:49:11.991Z"
   },
   {
    "duration": 9,
    "start_time": "2021-10-02T21:49:11.999Z"
   },
   {
    "duration": 8,
    "start_time": "2021-10-02T21:49:12.010Z"
   },
   {
    "duration": 8,
    "start_time": "2021-10-02T21:49:12.019Z"
   },
   {
    "duration": 72,
    "start_time": "2021-10-02T21:49:12.028Z"
   },
   {
    "duration": 8,
    "start_time": "2021-10-02T21:49:12.101Z"
   },
   {
    "duration": 8,
    "start_time": "2021-10-02T21:49:12.110Z"
   },
   {
    "duration": 9,
    "start_time": "2021-10-02T21:49:12.120Z"
   },
   {
    "duration": 11,
    "start_time": "2021-10-02T21:53:02.554Z"
   },
   {
    "duration": 13,
    "start_time": "2021-10-02T21:53:19.252Z"
   },
   {
    "duration": 693,
    "start_time": "2021-10-02T21:54:05.604Z"
   },
   {
    "duration": 11,
    "start_time": "2021-10-02T21:54:06.300Z"
   },
   {
    "duration": 9,
    "start_time": "2021-10-02T21:54:06.315Z"
   },
   {
    "duration": 4,
    "start_time": "2021-10-02T21:54:06.326Z"
   },
   {
    "duration": 11,
    "start_time": "2021-10-02T21:54:06.331Z"
   },
   {
    "duration": 5,
    "start_time": "2021-10-02T21:54:06.344Z"
   },
   {
    "duration": 5,
    "start_time": "2021-10-02T21:54:06.378Z"
   },
   {
    "duration": 27,
    "start_time": "2021-10-02T21:54:06.385Z"
   },
   {
    "duration": 8,
    "start_time": "2021-10-02T21:54:06.414Z"
   },
   {
    "duration": 4,
    "start_time": "2021-10-02T21:54:06.424Z"
   },
   {
    "duration": 15,
    "start_time": "2021-10-02T21:54:06.429Z"
   },
   {
    "duration": 31,
    "start_time": "2021-10-02T21:54:06.446Z"
   },
   {
    "duration": 11,
    "start_time": "2021-10-02T21:54:06.479Z"
   },
   {
    "duration": 7,
    "start_time": "2021-10-02T21:54:06.492Z"
   },
   {
    "duration": 2,
    "start_time": "2021-10-02T21:54:06.501Z"
   },
   {
    "duration": 6,
    "start_time": "2021-10-02T21:54:06.505Z"
   },
   {
    "duration": 9,
    "start_time": "2021-10-02T21:54:06.513Z"
   },
   {
    "duration": 14,
    "start_time": "2021-10-02T21:54:06.523Z"
   },
   {
    "duration": 39,
    "start_time": "2021-10-02T21:54:06.539Z"
   },
   {
    "duration": 15,
    "start_time": "2021-10-02T21:54:06.579Z"
   },
   {
    "duration": 5,
    "start_time": "2021-10-02T21:54:06.596Z"
   },
   {
    "duration": 17,
    "start_time": "2021-10-02T21:54:06.605Z"
   },
   {
    "duration": 18,
    "start_time": "2021-10-02T21:54:06.625Z"
   },
   {
    "duration": 16,
    "start_time": "2021-10-02T21:54:06.677Z"
   },
   {
    "duration": 12,
    "start_time": "2021-10-02T21:54:06.695Z"
   },
   {
    "duration": 18,
    "start_time": "2021-10-02T21:54:06.709Z"
   },
   {
    "duration": 17,
    "start_time": "2021-10-02T21:54:06.729Z"
   },
   {
    "duration": 40,
    "start_time": "2021-10-02T21:54:06.747Z"
   },
   {
    "duration": 4,
    "start_time": "2021-10-02T21:54:06.789Z"
   },
   {
    "duration": 13,
    "start_time": "2021-10-02T21:54:06.795Z"
   },
   {
    "duration": 5,
    "start_time": "2021-10-02T21:54:06.809Z"
   },
   {
    "duration": 7,
    "start_time": "2021-10-02T21:54:06.815Z"
   },
   {
    "duration": 11,
    "start_time": "2021-10-02T21:54:06.824Z"
   },
   {
    "duration": 42,
    "start_time": "2021-10-02T21:54:06.837Z"
   },
   {
    "duration": 5,
    "start_time": "2021-10-02T21:54:06.881Z"
   },
   {
    "duration": 6,
    "start_time": "2021-10-02T21:54:06.887Z"
   },
   {
    "duration": 6,
    "start_time": "2021-10-02T21:54:06.895Z"
   },
   {
    "duration": 4,
    "start_time": "2021-10-02T21:54:06.902Z"
   },
   {
    "duration": 3796,
    "start_time": "2021-10-02T21:54:06.908Z"
   },
   {
    "duration": 12,
    "start_time": "2021-10-02T21:54:10.706Z"
   },
   {
    "duration": 6,
    "start_time": "2021-10-02T21:54:10.720Z"
   },
   {
    "duration": 7,
    "start_time": "2021-10-02T21:54:10.728Z"
   },
   {
    "duration": 11,
    "start_time": "2021-10-02T21:54:10.737Z"
   },
   {
    "duration": 10,
    "start_time": "2021-10-02T21:54:10.750Z"
   },
   {
    "duration": 25,
    "start_time": "2021-10-02T21:54:10.761Z"
   },
   {
    "duration": 6,
    "start_time": "2021-10-02T21:54:10.787Z"
   },
   {
    "duration": 9,
    "start_time": "2021-10-02T21:54:10.795Z"
   },
   {
    "duration": 6,
    "start_time": "2021-10-02T21:54:10.806Z"
   },
   {
    "duration": 5,
    "start_time": "2021-10-02T21:54:10.813Z"
   },
   {
    "duration": 9,
    "start_time": "2021-10-02T21:54:10.819Z"
   },
   {
    "duration": 4,
    "start_time": "2021-10-02T21:54:10.829Z"
   },
   {
    "duration": 8,
    "start_time": "2021-10-02T21:54:10.835Z"
   },
   {
    "duration": 4,
    "start_time": "2021-10-02T21:54:10.877Z"
   },
   {
    "duration": 7,
    "start_time": "2021-10-02T21:54:10.882Z"
   },
   {
    "duration": 4,
    "start_time": "2021-10-02T21:54:10.890Z"
   },
   {
    "duration": 4,
    "start_time": "2021-10-02T21:54:10.896Z"
   },
   {
    "duration": 5,
    "start_time": "2021-10-02T21:54:10.902Z"
   },
   {
    "duration": 4,
    "start_time": "2021-10-02T21:54:10.909Z"
   },
   {
    "duration": 15,
    "start_time": "2021-10-02T21:54:10.914Z"
   },
   {
    "duration": 8,
    "start_time": "2021-10-02T21:54:10.931Z"
   },
   {
    "duration": 5,
    "start_time": "2021-10-02T21:54:10.978Z"
   },
   {
    "duration": 8,
    "start_time": "2021-10-02T21:54:10.985Z"
   },
   {
    "duration": 784,
    "start_time": "2021-10-02T21:54:10.995Z"
   },
   {
    "duration": 347,
    "start_time": "2021-10-02T21:54:11.435Z"
   },
   {
    "duration": 338,
    "start_time": "2021-10-02T21:54:11.445Z"
   },
   {
    "duration": 331,
    "start_time": "2021-10-02T21:54:11.453Z"
   },
   {
    "duration": 326,
    "start_time": "2021-10-02T21:54:11.460Z"
   },
   {
    "duration": 323,
    "start_time": "2021-10-02T21:54:11.464Z"
   },
   {
    "duration": 321,
    "start_time": "2021-10-02T21:54:11.468Z"
   },
   {
    "duration": 318,
    "start_time": "2021-10-02T21:54:11.472Z"
   },
   {
    "duration": 313,
    "start_time": "2021-10-02T21:54:11.478Z"
   },
   {
    "duration": 310,
    "start_time": "2021-10-02T21:54:11.483Z"
   },
   {
    "duration": 305,
    "start_time": "2021-10-02T21:54:11.489Z"
   },
   {
    "duration": 288,
    "start_time": "2021-10-02T21:54:11.508Z"
   },
   {
    "duration": 283,
    "start_time": "2021-10-02T21:54:11.514Z"
   },
   {
    "duration": 280,
    "start_time": "2021-10-02T21:54:11.518Z"
   },
   {
    "duration": 277,
    "start_time": "2021-10-02T21:54:11.523Z"
   },
   {
    "duration": 267,
    "start_time": "2021-10-02T21:54:11.534Z"
   },
   {
    "duration": 263,
    "start_time": "2021-10-02T21:54:11.540Z"
   },
   {
    "duration": 255,
    "start_time": "2021-10-02T21:54:11.550Z"
   },
   {
    "duration": 250,
    "start_time": "2021-10-02T21:54:11.556Z"
   },
   {
    "duration": 242,
    "start_time": "2021-10-02T21:54:11.566Z"
   },
   {
    "duration": 238,
    "start_time": "2021-10-02T21:54:11.571Z"
   },
   {
    "duration": 229,
    "start_time": "2021-10-02T21:54:11.582Z"
   },
   {
    "duration": 225,
    "start_time": "2021-10-02T21:54:11.587Z"
   },
   {
    "duration": 223,
    "start_time": "2021-10-02T21:54:11.591Z"
   },
   {
    "duration": 14,
    "start_time": "2021-10-02T21:54:57.482Z"
   },
   {
    "duration": 4,
    "start_time": "2021-10-02T21:54:59.768Z"
   },
   {
    "duration": 8,
    "start_time": "2021-10-02T21:55:01.290Z"
   },
   {
    "duration": 345,
    "start_time": "2021-10-02T22:00:38.420Z"
   },
   {
    "duration": 3,
    "start_time": "2021-10-02T22:01:13.766Z"
   },
   {
    "duration": 5,
    "start_time": "2021-10-02T22:01:15.597Z"
   },
   {
    "duration": 27,
    "start_time": "2021-10-02T22:01:20.717Z"
   },
   {
    "duration": 698,
    "start_time": "2021-10-02T22:01:34.426Z"
   },
   {
    "duration": 11,
    "start_time": "2021-10-02T22:01:35.126Z"
   },
   {
    "duration": 15,
    "start_time": "2021-10-02T22:01:35.139Z"
   },
   {
    "duration": 5,
    "start_time": "2021-10-02T22:01:35.156Z"
   },
   {
    "duration": 19,
    "start_time": "2021-10-02T22:01:35.162Z"
   },
   {
    "duration": 6,
    "start_time": "2021-10-02T22:01:35.183Z"
   },
   {
    "duration": 5,
    "start_time": "2021-10-02T22:01:35.190Z"
   },
   {
    "duration": 5,
    "start_time": "2021-10-02T22:01:35.197Z"
   },
   {
    "duration": 7,
    "start_time": "2021-10-02T22:01:35.204Z"
   },
   {
    "duration": 30,
    "start_time": "2021-10-02T22:01:35.212Z"
   },
   {
    "duration": 37,
    "start_time": "2021-10-02T22:01:35.244Z"
   },
   {
    "duration": 4,
    "start_time": "2021-10-02T22:01:35.283Z"
   },
   {
    "duration": 15,
    "start_time": "2021-10-02T22:01:35.288Z"
   },
   {
    "duration": 3,
    "start_time": "2021-10-02T22:01:35.304Z"
   },
   {
    "duration": 13,
    "start_time": "2021-10-02T22:01:35.309Z"
   },
   {
    "duration": 7,
    "start_time": "2021-10-02T22:01:35.323Z"
   },
   {
    "duration": 4,
    "start_time": "2021-10-02T22:01:35.331Z"
   },
   {
    "duration": 42,
    "start_time": "2021-10-02T22:01:35.336Z"
   },
   {
    "duration": 10,
    "start_time": "2021-10-02T22:01:35.379Z"
   },
   {
    "duration": 16,
    "start_time": "2021-10-02T22:01:35.391Z"
   },
   {
    "duration": 6,
    "start_time": "2021-10-02T22:01:35.409Z"
   },
   {
    "duration": 17,
    "start_time": "2021-10-02T22:01:35.416Z"
   },
   {
    "duration": 6,
    "start_time": "2021-10-02T22:01:35.437Z"
   },
   {
    "duration": 15,
    "start_time": "2021-10-02T22:01:35.478Z"
   },
   {
    "duration": 17,
    "start_time": "2021-10-02T22:01:35.495Z"
   },
   {
    "duration": 15,
    "start_time": "2021-10-02T22:01:35.513Z"
   },
   {
    "duration": 11,
    "start_time": "2021-10-02T22:01:35.529Z"
   },
   {
    "duration": 46,
    "start_time": "2021-10-02T22:01:35.542Z"
   },
   {
    "duration": 17,
    "start_time": "2021-10-02T22:01:35.590Z"
   },
   {
    "duration": 16,
    "start_time": "2021-10-02T22:01:35.609Z"
   },
   {
    "duration": 5,
    "start_time": "2021-10-02T22:01:35.626Z"
   },
   {
    "duration": 13,
    "start_time": "2021-10-02T22:01:35.633Z"
   },
   {
    "duration": 30,
    "start_time": "2021-10-02T22:01:35.648Z"
   },
   {
    "duration": 13,
    "start_time": "2021-10-02T22:01:35.679Z"
   },
   {
    "duration": 16,
    "start_time": "2021-10-02T22:01:35.694Z"
   },
   {
    "duration": 9,
    "start_time": "2021-10-02T22:01:35.712Z"
   },
   {
    "duration": 7,
    "start_time": "2021-10-02T22:01:35.723Z"
   },
   {
    "duration": 10,
    "start_time": "2021-10-02T22:01:35.731Z"
   },
   {
    "duration": 17,
    "start_time": "2021-10-02T22:01:35.743Z"
   },
   {
    "duration": 4,
    "start_time": "2021-10-02T22:01:35.761Z"
   },
   {
    "duration": 3610,
    "start_time": "2021-10-02T22:01:35.777Z"
   },
   {
    "duration": 13,
    "start_time": "2021-10-02T22:01:39.389Z"
   },
   {
    "duration": 9,
    "start_time": "2021-10-02T22:01:39.403Z"
   },
   {
    "duration": 20,
    "start_time": "2021-10-02T22:01:39.413Z"
   },
   {
    "duration": 21,
    "start_time": "2021-10-02T22:01:39.434Z"
   },
   {
    "duration": 16,
    "start_time": "2021-10-02T22:01:39.457Z"
   },
   {
    "duration": 30,
    "start_time": "2021-10-02T22:01:39.475Z"
   },
   {
    "duration": 13,
    "start_time": "2021-10-02T22:01:39.506Z"
   },
   {
    "duration": 8,
    "start_time": "2021-10-02T22:01:39.520Z"
   },
   {
    "duration": 18,
    "start_time": "2021-10-02T22:01:39.530Z"
   },
   {
    "duration": 15,
    "start_time": "2021-10-02T22:01:39.550Z"
   },
   {
    "duration": 16,
    "start_time": "2021-10-02T22:01:39.566Z"
   },
   {
    "duration": 14,
    "start_time": "2021-10-02T22:01:39.584Z"
   },
   {
    "duration": 20,
    "start_time": "2021-10-02T22:01:39.599Z"
   },
   {
    "duration": 15,
    "start_time": "2021-10-02T22:01:39.620Z"
   },
   {
    "duration": 26,
    "start_time": "2021-10-02T22:01:39.637Z"
   },
   {
    "duration": 16,
    "start_time": "2021-10-02T22:01:39.665Z"
   },
   {
    "duration": 14,
    "start_time": "2021-10-02T22:01:39.683Z"
   },
   {
    "duration": 9,
    "start_time": "2021-10-02T22:01:39.699Z"
   },
   {
    "duration": 33,
    "start_time": "2021-10-02T22:01:39.709Z"
   },
   {
    "duration": 20,
    "start_time": "2021-10-02T22:01:39.744Z"
   },
   {
    "duration": 17,
    "start_time": "2021-10-02T22:01:39.766Z"
   },
   {
    "duration": 19,
    "start_time": "2021-10-02T22:01:39.785Z"
   },
   {
    "duration": 26,
    "start_time": "2021-10-02T22:01:39.806Z"
   },
   {
    "duration": 9,
    "start_time": "2021-10-02T22:01:39.833Z"
   },
   {
    "duration": 16,
    "start_time": "2021-10-02T22:01:39.844Z"
   },
   {
    "duration": 15,
    "start_time": "2021-10-02T22:01:39.861Z"
   },
   {
    "duration": 24,
    "start_time": "2021-10-02T22:01:39.881Z"
   },
   {
    "duration": 12,
    "start_time": "2021-10-02T22:01:39.908Z"
   },
   {
    "duration": 17,
    "start_time": "2021-10-02T22:01:39.922Z"
   },
   {
    "duration": 15,
    "start_time": "2021-10-02T22:01:39.941Z"
   },
   {
    "duration": 10,
    "start_time": "2021-10-02T22:01:39.957Z"
   },
   {
    "duration": 16,
    "start_time": "2021-10-02T22:01:39.969Z"
   },
   {
    "duration": 7,
    "start_time": "2021-10-02T22:01:39.987Z"
   },
   {
    "duration": 17,
    "start_time": "2021-10-02T22:01:39.996Z"
   },
   {
    "duration": 23,
    "start_time": "2021-10-02T22:01:40.014Z"
   },
   {
    "duration": 9,
    "start_time": "2021-10-02T22:01:40.038Z"
   },
   {
    "duration": 17,
    "start_time": "2021-10-02T22:01:40.049Z"
   },
   {
    "duration": 21,
    "start_time": "2021-10-02T22:01:40.068Z"
   },
   {
    "duration": 7,
    "start_time": "2021-10-02T22:01:40.091Z"
   },
   {
    "duration": 11,
    "start_time": "2021-10-02T22:01:40.100Z"
   },
   {
    "duration": 13,
    "start_time": "2021-10-02T22:01:40.113Z"
   },
   {
    "duration": 14,
    "start_time": "2021-10-02T22:01:40.127Z"
   },
   {
    "duration": 48,
    "start_time": "2021-10-02T22:01:40.143Z"
   },
   {
    "duration": 8,
    "start_time": "2021-10-02T22:01:40.193Z"
   },
   {
    "duration": 7,
    "start_time": "2021-10-02T22:01:40.203Z"
   },
   {
    "duration": 11,
    "start_time": "2021-10-02T22:01:40.211Z"
   },
   {
    "duration": 794,
    "start_time": "2021-10-02T22:03:20.361Z"
   },
   {
    "duration": 11,
    "start_time": "2021-10-02T22:03:21.157Z"
   },
   {
    "duration": 10,
    "start_time": "2021-10-02T22:03:21.170Z"
   },
   {
    "duration": 4,
    "start_time": "2021-10-02T22:03:21.182Z"
   },
   {
    "duration": 14,
    "start_time": "2021-10-02T22:03:21.187Z"
   },
   {
    "duration": 10,
    "start_time": "2021-10-02T22:03:21.202Z"
   },
   {
    "duration": 6,
    "start_time": "2021-10-02T22:03:21.213Z"
   },
   {
    "duration": 57,
    "start_time": "2021-10-02T22:03:21.220Z"
   },
   {
    "duration": 10,
    "start_time": "2021-10-02T22:03:21.279Z"
   },
   {
    "duration": 6,
    "start_time": "2021-10-02T22:03:21.291Z"
   },
   {
    "duration": 17,
    "start_time": "2021-10-02T22:03:21.298Z"
   },
   {
    "duration": 3,
    "start_time": "2021-10-02T22:03:21.316Z"
   },
   {
    "duration": 18,
    "start_time": "2021-10-02T22:03:21.321Z"
   },
   {
    "duration": 8,
    "start_time": "2021-10-02T22:03:21.341Z"
   },
   {
    "duration": 28,
    "start_time": "2021-10-02T22:03:21.351Z"
   },
   {
    "duration": 5,
    "start_time": "2021-10-02T22:03:21.381Z"
   },
   {
    "duration": 6,
    "start_time": "2021-10-02T22:03:21.388Z"
   },
   {
    "duration": 15,
    "start_time": "2021-10-02T22:03:21.396Z"
   },
   {
    "duration": 6,
    "start_time": "2021-10-02T22:03:21.413Z"
   },
   {
    "duration": 20,
    "start_time": "2021-10-02T22:03:21.420Z"
   },
   {
    "duration": 38,
    "start_time": "2021-10-02T22:03:21.441Z"
   },
   {
    "duration": 17,
    "start_time": "2021-10-02T22:03:21.481Z"
   },
   {
    "duration": 18,
    "start_time": "2021-10-02T22:03:21.499Z"
   },
   {
    "duration": 15,
    "start_time": "2021-10-02T22:03:21.519Z"
   },
   {
    "duration": 40,
    "start_time": "2021-10-02T22:03:21.536Z"
   },
   {
    "duration": 19,
    "start_time": "2021-10-02T22:03:21.578Z"
   },
   {
    "duration": 19,
    "start_time": "2021-10-02T22:03:21.601Z"
   },
   {
    "duration": 16,
    "start_time": "2021-10-02T22:03:21.623Z"
   },
   {
    "duration": 5,
    "start_time": "2021-10-02T22:03:21.641Z"
   },
   {
    "duration": 12,
    "start_time": "2021-10-02T22:03:21.678Z"
   },
   {
    "duration": 11,
    "start_time": "2021-10-02T22:03:21.692Z"
   },
   {
    "duration": 8,
    "start_time": "2021-10-02T22:03:21.705Z"
   },
   {
    "duration": 13,
    "start_time": "2021-10-02T22:03:21.715Z"
   },
   {
    "duration": 7,
    "start_time": "2021-10-02T22:03:21.730Z"
   },
   {
    "duration": 5,
    "start_time": "2021-10-02T22:03:21.739Z"
   },
   {
    "duration": 32,
    "start_time": "2021-10-02T22:03:21.746Z"
   },
   {
    "duration": 17,
    "start_time": "2021-10-02T22:03:21.780Z"
   },
   {
    "duration": 4,
    "start_time": "2021-10-02T22:03:21.798Z"
   },
   {
    "duration": 3561,
    "start_time": "2021-10-02T22:03:21.803Z"
   },
   {
    "duration": 21,
    "start_time": "2021-10-02T22:03:25.366Z"
   },
   {
    "duration": 7,
    "start_time": "2021-10-02T22:03:25.389Z"
   },
   {
    "duration": 20,
    "start_time": "2021-10-02T22:03:25.398Z"
   },
   {
    "duration": 11,
    "start_time": "2021-10-02T22:03:25.420Z"
   },
   {
    "duration": 23,
    "start_time": "2021-10-02T22:03:25.433Z"
   },
   {
    "duration": 23,
    "start_time": "2021-10-02T22:03:25.458Z"
   },
   {
    "duration": 19,
    "start_time": "2021-10-02T22:03:25.483Z"
   },
   {
    "duration": 17,
    "start_time": "2021-10-02T22:03:25.504Z"
   },
   {
    "duration": 17,
    "start_time": "2021-10-02T22:03:25.522Z"
   },
   {
    "duration": 16,
    "start_time": "2021-10-02T22:03:25.541Z"
   },
   {
    "duration": 11,
    "start_time": "2021-10-02T22:03:25.559Z"
   },
   {
    "duration": 19,
    "start_time": "2021-10-02T22:03:25.571Z"
   },
   {
    "duration": 7,
    "start_time": "2021-10-02T22:03:25.592Z"
   },
   {
    "duration": 16,
    "start_time": "2021-10-02T22:03:25.601Z"
   },
   {
    "duration": 16,
    "start_time": "2021-10-02T22:03:25.618Z"
   },
   {
    "duration": 10,
    "start_time": "2021-10-02T22:03:25.636Z"
   },
   {
    "duration": 14,
    "start_time": "2021-10-02T22:03:25.648Z"
   },
   {
    "duration": 20,
    "start_time": "2021-10-02T22:03:25.664Z"
   },
   {
    "duration": 22,
    "start_time": "2021-10-02T22:03:25.686Z"
   },
   {
    "duration": 8,
    "start_time": "2021-10-02T22:03:25.710Z"
   },
   {
    "duration": 15,
    "start_time": "2021-10-02T22:03:25.720Z"
   },
   {
    "duration": 17,
    "start_time": "2021-10-02T22:03:25.737Z"
   },
   {
    "duration": 28,
    "start_time": "2021-10-02T22:03:25.756Z"
   },
   {
    "duration": 4,
    "start_time": "2021-10-02T22:03:25.786Z"
   },
   {
    "duration": 14,
    "start_time": "2021-10-02T22:03:25.792Z"
   },
   {
    "duration": 16,
    "start_time": "2021-10-02T22:03:25.808Z"
   },
   {
    "duration": 25,
    "start_time": "2021-10-02T22:03:25.826Z"
   },
   {
    "duration": 7,
    "start_time": "2021-10-02T22:03:25.853Z"
   },
   {
    "duration": 16,
    "start_time": "2021-10-02T22:03:25.861Z"
   },
   {
    "duration": 13,
    "start_time": "2021-10-02T22:03:25.879Z"
   },
   {
    "duration": 17,
    "start_time": "2021-10-02T22:03:25.894Z"
   },
   {
    "duration": 21,
    "start_time": "2021-10-02T22:03:25.913Z"
   },
   {
    "duration": 13,
    "start_time": "2021-10-02T22:03:25.936Z"
   },
   {
    "duration": 14,
    "start_time": "2021-10-02T22:03:25.951Z"
   },
   {
    "duration": 14,
    "start_time": "2021-10-02T22:03:25.967Z"
   },
   {
    "duration": 12,
    "start_time": "2021-10-02T22:03:25.983Z"
   },
   {
    "duration": 19,
    "start_time": "2021-10-02T22:03:25.996Z"
   },
   {
    "duration": 16,
    "start_time": "2021-10-02T22:03:26.017Z"
   },
   {
    "duration": 18,
    "start_time": "2021-10-02T22:03:26.035Z"
   },
   {
    "duration": 13,
    "start_time": "2021-10-02T22:03:26.055Z"
   },
   {
    "duration": 15,
    "start_time": "2021-10-02T22:03:26.070Z"
   },
   {
    "duration": 16,
    "start_time": "2021-10-02T22:03:26.090Z"
   },
   {
    "duration": 51,
    "start_time": "2021-10-02T22:03:26.108Z"
   },
   {
    "duration": 8,
    "start_time": "2021-10-02T22:03:26.161Z"
   },
   {
    "duration": 16,
    "start_time": "2021-10-02T22:03:26.171Z"
   },
   {
    "duration": 18,
    "start_time": "2021-10-02T22:03:26.188Z"
   },
   {
    "duration": 208,
    "start_time": "2021-10-03T08:35:45.418Z"
   },
   {
    "duration": 643,
    "start_time": "2021-10-03T08:52:15.671Z"
   },
   {
    "duration": 85,
    "start_time": "2021-10-03T08:56:54.963Z"
   },
   {
    "duration": 84,
    "start_time": "2021-10-03T08:57:53.506Z"
   },
   {
    "duration": 6,
    "start_time": "2021-10-03T09:01:19.109Z"
   },
   {
    "duration": 6,
    "start_time": "2021-10-03T09:04:44.618Z"
   },
   {
    "duration": 17,
    "start_time": "2021-10-03T09:10:57.559Z"
   },
   {
    "duration": 6,
    "start_time": "2021-10-03T09:11:20.380Z"
   },
   {
    "duration": 13,
    "start_time": "2021-10-03T09:11:37.957Z"
   },
   {
    "duration": 16,
    "start_time": "2021-10-03T09:12:04.832Z"
   },
   {
    "duration": 5,
    "start_time": "2021-10-03T09:12:21.302Z"
   },
   {
    "duration": 6,
    "start_time": "2021-10-03T09:13:50.767Z"
   },
   {
    "duration": 719,
    "start_time": "2021-10-03T09:14:00.544Z"
   },
   {
    "duration": 9,
    "start_time": "2021-10-03T09:14:01.265Z"
   },
   {
    "duration": 27,
    "start_time": "2021-10-03T09:14:01.276Z"
   },
   {
    "duration": 29,
    "start_time": "2021-10-03T09:14:01.305Z"
   },
   {
    "duration": 11,
    "start_time": "2021-10-03T09:14:01.335Z"
   },
   {
    "duration": 21,
    "start_time": "2021-10-03T09:14:01.347Z"
   },
   {
    "duration": 6,
    "start_time": "2021-10-03T09:14:01.369Z"
   },
   {
    "duration": 20,
    "start_time": "2021-10-03T09:14:01.378Z"
   },
   {
    "duration": 12,
    "start_time": "2021-10-03T09:14:01.400Z"
   },
   {
    "duration": 22,
    "start_time": "2021-10-03T09:14:01.414Z"
   },
   {
    "duration": 9,
    "start_time": "2021-10-03T09:14:01.438Z"
   },
   {
    "duration": 21,
    "start_time": "2021-10-03T09:14:01.448Z"
   },
   {
    "duration": 42,
    "start_time": "2021-10-03T09:14:01.470Z"
   },
   {
    "duration": 8,
    "start_time": "2021-10-03T09:14:01.514Z"
   },
   {
    "duration": 9,
    "start_time": "2021-10-03T09:14:01.523Z"
   },
   {
    "duration": 18,
    "start_time": "2021-10-03T09:14:01.533Z"
   },
   {
    "duration": 8,
    "start_time": "2021-10-03T09:14:01.552Z"
   },
   {
    "duration": 26,
    "start_time": "2021-10-03T09:14:01.561Z"
   },
   {
    "duration": 6,
    "start_time": "2021-10-03T09:14:01.589Z"
   },
   {
    "duration": 14,
    "start_time": "2021-10-03T09:14:01.596Z"
   },
   {
    "duration": 17,
    "start_time": "2021-10-03T09:14:01.611Z"
   },
   {
    "duration": 24,
    "start_time": "2021-10-03T09:14:01.629Z"
   },
   {
    "duration": 20,
    "start_time": "2021-10-03T09:14:01.656Z"
   },
   {
    "duration": 17,
    "start_time": "2021-10-03T09:14:01.678Z"
   },
   {
    "duration": 14,
    "start_time": "2021-10-03T09:14:01.697Z"
   },
   {
    "duration": 30,
    "start_time": "2021-10-03T09:14:01.713Z"
   },
   {
    "duration": 16,
    "start_time": "2021-10-03T09:14:01.744Z"
   },
   {
    "duration": 23,
    "start_time": "2021-10-03T09:14:01.762Z"
   },
   {
    "duration": 18,
    "start_time": "2021-10-03T09:14:01.787Z"
   },
   {
    "duration": 27,
    "start_time": "2021-10-03T09:14:01.806Z"
   },
   {
    "duration": 27,
    "start_time": "2021-10-03T09:14:01.834Z"
   },
   {
    "duration": 27,
    "start_time": "2021-10-03T09:14:01.863Z"
   },
   {
    "duration": 46,
    "start_time": "2021-10-03T09:14:01.891Z"
   },
   {
    "duration": 36,
    "start_time": "2021-10-03T09:14:01.938Z"
   },
   {
    "duration": 19,
    "start_time": "2021-10-03T09:14:01.976Z"
   },
   {
    "duration": 39,
    "start_time": "2021-10-03T09:14:01.996Z"
   },
   {
    "duration": 20,
    "start_time": "2021-10-03T09:14:02.036Z"
   },
   {
    "duration": 31,
    "start_time": "2021-10-03T09:14:02.057Z"
   },
   {
    "duration": 3414,
    "start_time": "2021-10-03T09:14:02.090Z"
   },
   {
    "duration": 12,
    "start_time": "2021-10-03T09:14:05.506Z"
   },
   {
    "duration": 32,
    "start_time": "2021-10-03T09:14:05.519Z"
   },
   {
    "duration": 21,
    "start_time": "2021-10-03T09:14:05.553Z"
   },
   {
    "duration": 26,
    "start_time": "2021-10-03T09:14:05.576Z"
   },
   {
    "duration": 35,
    "start_time": "2021-10-03T09:14:05.603Z"
   },
   {
    "duration": 31,
    "start_time": "2021-10-03T09:14:05.640Z"
   },
   {
    "duration": 20,
    "start_time": "2021-10-03T09:14:05.673Z"
   },
   {
    "duration": 16,
    "start_time": "2021-10-03T09:14:05.694Z"
   },
   {
    "duration": 27,
    "start_time": "2021-10-03T09:14:05.712Z"
   },
   {
    "duration": 25,
    "start_time": "2021-10-03T09:14:05.741Z"
   },
   {
    "duration": 31,
    "start_time": "2021-10-03T09:14:05.768Z"
   },
   {
    "duration": 20,
    "start_time": "2021-10-03T09:14:05.800Z"
   },
   {
    "duration": 18,
    "start_time": "2021-10-03T09:14:05.822Z"
   },
   {
    "duration": 13,
    "start_time": "2021-10-03T09:14:05.841Z"
   },
   {
    "duration": 17,
    "start_time": "2021-10-03T09:14:05.855Z"
   },
   {
    "duration": 18,
    "start_time": "2021-10-03T09:14:05.874Z"
   },
   {
    "duration": 20,
    "start_time": "2021-10-03T09:14:05.894Z"
   },
   {
    "duration": 16,
    "start_time": "2021-10-03T09:14:05.916Z"
   },
   {
    "duration": 18,
    "start_time": "2021-10-03T09:14:05.934Z"
   },
   {
    "duration": 20,
    "start_time": "2021-10-03T09:14:05.954Z"
   },
   {
    "duration": 16,
    "start_time": "2021-10-03T09:14:05.976Z"
   },
   {
    "duration": 26,
    "start_time": "2021-10-03T09:14:05.994Z"
   },
   {
    "duration": 28,
    "start_time": "2021-10-03T09:14:06.022Z"
   },
   {
    "duration": 16,
    "start_time": "2021-10-03T09:14:06.052Z"
   },
   {
    "duration": 21,
    "start_time": "2021-10-03T09:14:06.069Z"
   },
   {
    "duration": 27,
    "start_time": "2021-10-03T09:14:06.091Z"
   },
   {
    "duration": 28,
    "start_time": "2021-10-03T09:14:06.120Z"
   },
   {
    "duration": 11,
    "start_time": "2021-10-03T09:14:06.150Z"
   },
   {
    "duration": 16,
    "start_time": "2021-10-03T09:14:06.166Z"
   },
   {
    "duration": 18,
    "start_time": "2021-10-03T09:14:06.184Z"
   },
   {
    "duration": 23,
    "start_time": "2021-10-03T09:14:06.203Z"
   },
   {
    "duration": 17,
    "start_time": "2021-10-03T09:14:06.227Z"
   },
   {
    "duration": 16,
    "start_time": "2021-10-03T09:14:06.245Z"
   },
   {
    "duration": 13,
    "start_time": "2021-10-03T09:14:06.263Z"
   },
   {
    "duration": 26,
    "start_time": "2021-10-03T09:14:06.278Z"
   },
   {
    "duration": 19,
    "start_time": "2021-10-03T09:14:06.306Z"
   },
   {
    "duration": 21,
    "start_time": "2021-10-03T09:14:06.327Z"
   },
   {
    "duration": 17,
    "start_time": "2021-10-03T09:14:06.349Z"
   },
   {
    "duration": 29,
    "start_time": "2021-10-03T09:14:06.368Z"
   },
   {
    "duration": 17,
    "start_time": "2021-10-03T09:14:06.398Z"
   },
   {
    "duration": 10,
    "start_time": "2021-10-03T09:14:06.416Z"
   },
   {
    "duration": 17,
    "start_time": "2021-10-03T09:14:06.428Z"
   },
   {
    "duration": 44,
    "start_time": "2021-10-03T09:14:06.447Z"
   },
   {
    "duration": 7,
    "start_time": "2021-10-03T09:14:06.492Z"
   },
   {
    "duration": 24,
    "start_time": "2021-10-03T09:14:06.501Z"
   },
   {
    "duration": 19,
    "start_time": "2021-10-03T09:14:06.527Z"
   },
   {
    "duration": 4,
    "start_time": "2021-10-03T09:16:10.213Z"
   },
   {
    "duration": 657,
    "start_time": "2021-10-03T09:18:53.117Z"
   },
   {
    "duration": 10,
    "start_time": "2021-10-03T09:18:53.776Z"
   },
   {
    "duration": 5,
    "start_time": "2021-10-03T09:18:53.788Z"
   },
   {
    "duration": 17,
    "start_time": "2021-10-03T09:18:53.794Z"
   },
   {
    "duration": 4,
    "start_time": "2021-10-03T09:18:53.813Z"
   },
   {
    "duration": 30,
    "start_time": "2021-10-03T09:18:53.819Z"
   },
   {
    "duration": 4,
    "start_time": "2021-10-03T09:18:53.851Z"
   },
   {
    "duration": 4,
    "start_time": "2021-10-03T09:18:53.858Z"
   },
   {
    "duration": 5,
    "start_time": "2021-10-03T09:18:53.864Z"
   },
   {
    "duration": 12,
    "start_time": "2021-10-03T09:18:53.870Z"
   },
   {
    "duration": 6,
    "start_time": "2021-10-03T09:18:53.883Z"
   },
   {
    "duration": 13,
    "start_time": "2021-10-03T09:18:53.890Z"
   },
   {
    "duration": 47,
    "start_time": "2021-10-03T09:18:53.904Z"
   },
   {
    "duration": 4,
    "start_time": "2021-10-03T09:18:53.953Z"
   },
   {
    "duration": 10,
    "start_time": "2021-10-03T09:18:53.958Z"
   },
   {
    "duration": 6,
    "start_time": "2021-10-03T09:18:53.969Z"
   },
   {
    "duration": 4,
    "start_time": "2021-10-03T09:18:53.977Z"
   },
   {
    "duration": 66,
    "start_time": "2021-10-03T09:18:53.982Z"
   },
   {
    "duration": 9,
    "start_time": "2021-10-03T09:18:54.049Z"
   },
   {
    "duration": 6,
    "start_time": "2021-10-03T09:18:54.060Z"
   },
   {
    "duration": 15,
    "start_time": "2021-10-03T09:18:54.067Z"
   },
   {
    "duration": 3,
    "start_time": "2021-10-03T09:18:54.084Z"
   },
   {
    "duration": 11,
    "start_time": "2021-10-03T09:18:54.090Z"
   },
   {
    "duration": 6,
    "start_time": "2021-10-03T09:18:54.104Z"
   },
   {
    "duration": 2,
    "start_time": "2021-10-03T09:18:54.145Z"
   },
   {
    "duration": 5,
    "start_time": "2021-10-03T09:18:54.149Z"
   },
   {
    "duration": 14,
    "start_time": "2021-10-03T09:18:54.156Z"
   },
   {
    "duration": 14,
    "start_time": "2021-10-03T09:18:54.172Z"
   },
   {
    "duration": 13,
    "start_time": "2021-10-03T09:18:54.188Z"
   },
   {
    "duration": 47,
    "start_time": "2021-10-03T09:18:54.203Z"
   },
   {
    "duration": 19,
    "start_time": "2021-10-03T09:18:54.252Z"
   },
   {
    "duration": 15,
    "start_time": "2021-10-03T09:18:54.273Z"
   },
   {
    "duration": 13,
    "start_time": "2021-10-03T09:18:54.290Z"
   },
   {
    "duration": 5,
    "start_time": "2021-10-03T09:18:54.304Z"
   },
   {
    "duration": 41,
    "start_time": "2021-10-03T09:18:54.311Z"
   },
   {
    "duration": 11,
    "start_time": "2021-10-03T09:18:54.354Z"
   },
   {
    "duration": 6,
    "start_time": "2021-10-03T09:18:54.367Z"
   },
   {
    "duration": 4,
    "start_time": "2021-10-03T09:18:54.376Z"
   },
   {
    "duration": 3185,
    "start_time": "2021-10-03T09:18:54.381Z"
   },
   {
    "duration": 13,
    "start_time": "2021-10-03T09:18:57.568Z"
   },
   {
    "duration": 9,
    "start_time": "2021-10-03T09:18:57.582Z"
   },
   {
    "duration": 8,
    "start_time": "2021-10-03T09:18:57.592Z"
   },
   {
    "duration": 6,
    "start_time": "2021-10-03T09:18:57.602Z"
   },
   {
    "duration": 9,
    "start_time": "2021-10-03T09:18:57.610Z"
   },
   {
    "duration": 29,
    "start_time": "2021-10-03T09:18:57.621Z"
   },
   {
    "duration": 9,
    "start_time": "2021-10-03T09:18:57.651Z"
   },
   {
    "duration": 5,
    "start_time": "2021-10-03T09:18:57.662Z"
   },
   {
    "duration": 6,
    "start_time": "2021-10-03T09:18:57.668Z"
   },
   {
    "duration": 11,
    "start_time": "2021-10-03T09:18:57.675Z"
   },
   {
    "duration": 5,
    "start_time": "2021-10-03T09:18:57.688Z"
   },
   {
    "duration": 7,
    "start_time": "2021-10-03T09:18:57.694Z"
   },
   {
    "duration": 5,
    "start_time": "2021-10-03T09:18:57.702Z"
   },
   {
    "duration": 38,
    "start_time": "2021-10-03T09:18:57.708Z"
   },
   {
    "duration": 4,
    "start_time": "2021-10-03T09:18:57.748Z"
   },
   {
    "duration": 5,
    "start_time": "2021-10-03T09:18:57.754Z"
   },
   {
    "duration": 5,
    "start_time": "2021-10-03T09:18:57.760Z"
   },
   {
    "duration": 6,
    "start_time": "2021-10-03T09:18:57.766Z"
   },
   {
    "duration": 16,
    "start_time": "2021-10-03T09:18:57.773Z"
   },
   {
    "duration": 6,
    "start_time": "2021-10-03T09:18:57.790Z"
   },
   {
    "duration": 5,
    "start_time": "2021-10-03T09:18:57.798Z"
   },
   {
    "duration": 44,
    "start_time": "2021-10-03T09:18:57.805Z"
   },
   {
    "duration": 13,
    "start_time": "2021-10-03T09:18:57.851Z"
   },
   {
    "duration": 3,
    "start_time": "2021-10-03T09:18:57.866Z"
   },
   {
    "duration": 11,
    "start_time": "2021-10-03T09:18:57.870Z"
   },
   {
    "duration": 8,
    "start_time": "2021-10-03T09:18:57.882Z"
   },
   {
    "duration": 13,
    "start_time": "2021-10-03T09:18:57.891Z"
   },
   {
    "duration": 8,
    "start_time": "2021-10-03T09:18:57.905Z"
   },
   {
    "duration": 9,
    "start_time": "2021-10-03T09:18:57.945Z"
   },
   {
    "duration": 7,
    "start_time": "2021-10-03T09:18:57.956Z"
   },
   {
    "duration": 10,
    "start_time": "2021-10-03T09:18:57.965Z"
   },
   {
    "duration": 23,
    "start_time": "2021-10-03T09:18:57.976Z"
   },
   {
    "duration": 7,
    "start_time": "2021-10-03T09:18:58.000Z"
   },
   {
    "duration": 10,
    "start_time": "2021-10-03T09:18:58.009Z"
   },
   {
    "duration": 25,
    "start_time": "2021-10-03T09:18:58.020Z"
   },
   {
    "duration": 7,
    "start_time": "2021-10-03T09:18:58.047Z"
   },
   {
    "duration": 19,
    "start_time": "2021-10-03T09:18:58.055Z"
   },
   {
    "duration": 16,
    "start_time": "2021-10-03T09:18:58.075Z"
   },
   {
    "duration": 7,
    "start_time": "2021-10-03T09:18:58.092Z"
   },
   {
    "duration": 7,
    "start_time": "2021-10-03T09:18:58.101Z"
   },
   {
    "duration": 35,
    "start_time": "2021-10-03T09:18:58.109Z"
   },
   {
    "duration": 7,
    "start_time": "2021-10-03T09:18:58.146Z"
   },
   {
    "duration": 39,
    "start_time": "2021-10-03T09:18:58.154Z"
   },
   {
    "duration": 7,
    "start_time": "2021-10-03T09:18:58.195Z"
   },
   {
    "duration": 11,
    "start_time": "2021-10-03T09:18:58.203Z"
   },
   {
    "duration": 30,
    "start_time": "2021-10-03T09:18:58.215Z"
   },
   {
    "duration": 629,
    "start_time": "2021-10-03T09:23:13.076Z"
   },
   {
    "duration": 10,
    "start_time": "2021-10-03T09:23:13.707Z"
   },
   {
    "duration": 6,
    "start_time": "2021-10-03T09:23:13.721Z"
   },
   {
    "duration": 25,
    "start_time": "2021-10-03T09:23:13.728Z"
   },
   {
    "duration": 5,
    "start_time": "2021-10-03T09:23:13.755Z"
   },
   {
    "duration": 14,
    "start_time": "2021-10-03T09:23:13.761Z"
   },
   {
    "duration": 5,
    "start_time": "2021-10-03T09:23:13.777Z"
   },
   {
    "duration": 16,
    "start_time": "2021-10-03T09:23:13.784Z"
   },
   {
    "duration": 3,
    "start_time": "2021-10-03T09:23:13.802Z"
   },
   {
    "duration": 42,
    "start_time": "2021-10-03T09:23:13.806Z"
   },
   {
    "duration": 5,
    "start_time": "2021-10-03T09:23:13.849Z"
   },
   {
    "duration": 5,
    "start_time": "2021-10-03T09:23:13.855Z"
   },
   {
    "duration": 32,
    "start_time": "2021-10-03T09:23:13.861Z"
   },
   {
    "duration": 8,
    "start_time": "2021-10-03T09:23:13.894Z"
   },
   {
    "duration": 40,
    "start_time": "2021-10-03T09:23:13.904Z"
   },
   {
    "duration": 12,
    "start_time": "2021-10-03T09:23:13.946Z"
   },
   {
    "duration": 7,
    "start_time": "2021-10-03T09:23:13.960Z"
   },
   {
    "duration": 41,
    "start_time": "2021-10-03T09:23:13.969Z"
   },
   {
    "duration": 26,
    "start_time": "2021-10-03T09:23:14.012Z"
   },
   {
    "duration": 13,
    "start_time": "2021-10-03T09:23:14.040Z"
   },
   {
    "duration": 28,
    "start_time": "2021-10-03T09:23:14.054Z"
   },
   {
    "duration": 33,
    "start_time": "2021-10-03T09:23:14.087Z"
   },
   {
    "duration": 34,
    "start_time": "2021-10-03T09:23:14.124Z"
   },
   {
    "duration": 31,
    "start_time": "2021-10-03T09:23:14.160Z"
   },
   {
    "duration": 31,
    "start_time": "2021-10-03T09:23:14.193Z"
   },
   {
    "duration": 35,
    "start_time": "2021-10-03T09:23:14.226Z"
   },
   {
    "duration": 27,
    "start_time": "2021-10-03T09:23:14.263Z"
   },
   {
    "duration": 16,
    "start_time": "2021-10-03T09:23:14.292Z"
   },
   {
    "duration": 13,
    "start_time": "2021-10-03T09:23:14.310Z"
   },
   {
    "duration": 30,
    "start_time": "2021-10-03T09:23:14.325Z"
   },
   {
    "duration": 8,
    "start_time": "2021-10-03T09:23:14.357Z"
   },
   {
    "duration": 11,
    "start_time": "2021-10-03T09:23:14.367Z"
   },
   {
    "duration": 14,
    "start_time": "2021-10-03T09:23:14.380Z"
   },
   {
    "duration": 6,
    "start_time": "2021-10-03T09:23:14.396Z"
   },
   {
    "duration": 5,
    "start_time": "2021-10-03T09:23:14.404Z"
   },
   {
    "duration": 38,
    "start_time": "2021-10-03T09:23:14.411Z"
   },
   {
    "duration": 8,
    "start_time": "2021-10-03T09:23:14.450Z"
   },
   {
    "duration": 3,
    "start_time": "2021-10-03T09:23:14.460Z"
   },
   {
    "duration": 3559,
    "start_time": "2021-10-03T09:23:14.465Z"
   },
   {
    "duration": 20,
    "start_time": "2021-10-03T09:23:18.026Z"
   },
   {
    "duration": 4,
    "start_time": "2021-10-03T09:23:18.048Z"
   },
   {
    "duration": 6,
    "start_time": "2021-10-03T09:23:18.054Z"
   },
   {
    "duration": 6,
    "start_time": "2021-10-03T09:23:18.061Z"
   },
   {
    "duration": 11,
    "start_time": "2021-10-03T09:23:18.068Z"
   },
   {
    "duration": 12,
    "start_time": "2021-10-03T09:23:18.080Z"
   },
   {
    "duration": 7,
    "start_time": "2021-10-03T09:23:18.094Z"
   },
   {
    "duration": 43,
    "start_time": "2021-10-03T09:23:18.103Z"
   },
   {
    "duration": 6,
    "start_time": "2021-10-03T09:23:18.147Z"
   },
   {
    "duration": 8,
    "start_time": "2021-10-03T09:23:18.154Z"
   },
   {
    "duration": 4,
    "start_time": "2021-10-03T09:23:18.164Z"
   },
   {
    "duration": 7,
    "start_time": "2021-10-03T09:23:18.170Z"
   },
   {
    "duration": 4,
    "start_time": "2021-10-03T09:23:18.178Z"
   },
   {
    "duration": 3,
    "start_time": "2021-10-03T09:23:18.184Z"
   },
   {
    "duration": 4,
    "start_time": "2021-10-03T09:23:18.189Z"
   },
   {
    "duration": 50,
    "start_time": "2021-10-03T09:23:18.195Z"
   },
   {
    "duration": 3,
    "start_time": "2021-10-03T09:23:18.246Z"
   },
   {
    "duration": 4,
    "start_time": "2021-10-03T09:23:18.251Z"
   },
   {
    "duration": 13,
    "start_time": "2021-10-03T09:23:18.257Z"
   },
   {
    "duration": 7,
    "start_time": "2021-10-03T09:23:18.272Z"
   },
   {
    "duration": 5,
    "start_time": "2021-10-03T09:23:18.280Z"
   },
   {
    "duration": 9,
    "start_time": "2021-10-03T09:23:18.286Z"
   },
   {
    "duration": 55,
    "start_time": "2021-10-03T09:23:18.297Z"
   },
   {
    "duration": 3,
    "start_time": "2021-10-03T09:23:18.354Z"
   },
   {
    "duration": 9,
    "start_time": "2021-10-03T09:23:18.359Z"
   },
   {
    "duration": 6,
    "start_time": "2021-10-03T09:23:18.370Z"
   },
   {
    "duration": 13,
    "start_time": "2021-10-03T09:23:18.378Z"
   },
   {
    "duration": 7,
    "start_time": "2021-10-03T09:23:18.395Z"
   },
   {
    "duration": 44,
    "start_time": "2021-10-03T09:23:18.404Z"
   },
   {
    "duration": 8,
    "start_time": "2021-10-03T09:23:18.449Z"
   },
   {
    "duration": 13,
    "start_time": "2021-10-03T09:23:18.458Z"
   },
   {
    "duration": 13,
    "start_time": "2021-10-03T09:23:18.472Z"
   },
   {
    "duration": 7,
    "start_time": "2021-10-03T09:23:18.487Z"
   },
   {
    "duration": 4,
    "start_time": "2021-10-03T09:23:18.496Z"
   },
   {
    "duration": 44,
    "start_time": "2021-10-03T09:23:18.502Z"
   },
   {
    "duration": 6,
    "start_time": "2021-10-03T09:23:18.548Z"
   },
   {
    "duration": 9,
    "start_time": "2021-10-03T09:23:18.556Z"
   },
   {
    "duration": 14,
    "start_time": "2021-10-03T09:23:18.566Z"
   },
   {
    "duration": 6,
    "start_time": "2021-10-03T09:23:18.581Z"
   },
   {
    "duration": 5,
    "start_time": "2021-10-03T09:23:18.589Z"
   },
   {
    "duration": 12,
    "start_time": "2021-10-03T09:23:18.595Z"
   },
   {
    "duration": 41,
    "start_time": "2021-10-03T09:23:18.608Z"
   },
   {
    "duration": 37,
    "start_time": "2021-10-03T09:23:18.650Z"
   },
   {
    "duration": 7,
    "start_time": "2021-10-03T09:23:18.689Z"
   },
   {
    "duration": 9,
    "start_time": "2021-10-03T09:23:18.697Z"
   },
   {
    "duration": 37,
    "start_time": "2021-10-03T09:23:18.707Z"
   },
   {
    "duration": 8,
    "start_time": "2021-10-03T09:28:58.210Z"
   },
   {
    "duration": 3,
    "start_time": "2021-10-03T09:29:00.927Z"
   },
   {
    "duration": 4,
    "start_time": "2021-10-03T09:29:06.292Z"
   },
   {
    "duration": 89,
    "start_time": "2021-10-03T09:36:26.785Z"
   },
   {
    "duration": 27,
    "start_time": "2021-10-03T09:47:00.512Z"
   },
   {
    "duration": 241,
    "start_time": "2021-10-03T09:47:40.000Z"
   },
   {
    "duration": 16,
    "start_time": "2021-10-03T09:55:02.856Z"
   },
   {
    "duration": 696,
    "start_time": "2021-10-03T09:55:16.944Z"
   },
   {
    "duration": 12,
    "start_time": "2021-10-03T09:55:17.642Z"
   },
   {
    "duration": 6,
    "start_time": "2021-10-03T09:55:17.657Z"
   },
   {
    "duration": 17,
    "start_time": "2021-10-03T09:55:17.665Z"
   },
   {
    "duration": 6,
    "start_time": "2021-10-03T09:55:17.683Z"
   },
   {
    "duration": 56,
    "start_time": "2021-10-03T09:55:17.691Z"
   },
   {
    "duration": 7,
    "start_time": "2021-10-03T09:55:17.749Z"
   },
   {
    "duration": 8,
    "start_time": "2021-10-03T09:55:17.759Z"
   },
   {
    "duration": 3,
    "start_time": "2021-10-03T09:55:17.770Z"
   },
   {
    "duration": 8,
    "start_time": "2021-10-03T09:55:17.775Z"
   },
   {
    "duration": 21,
    "start_time": "2021-10-03T09:55:17.785Z"
   },
   {
    "duration": 36,
    "start_time": "2021-10-03T09:55:17.808Z"
   },
   {
    "duration": 12,
    "start_time": "2021-10-03T09:55:17.846Z"
   },
   {
    "duration": 5,
    "start_time": "2021-10-03T09:55:17.860Z"
   },
   {
    "duration": 7,
    "start_time": "2021-10-03T09:55:17.866Z"
   },
   {
    "duration": 28,
    "start_time": "2021-10-03T09:55:17.875Z"
   },
   {
    "duration": 8,
    "start_time": "2021-10-03T09:55:17.904Z"
   },
   {
    "duration": 31,
    "start_time": "2021-10-03T09:55:17.913Z"
   },
   {
    "duration": 10,
    "start_time": "2021-10-03T09:55:17.946Z"
   },
   {
    "duration": 4,
    "start_time": "2021-10-03T09:55:17.957Z"
   },
   {
    "duration": 15,
    "start_time": "2021-10-03T09:55:17.963Z"
   },
   {
    "duration": 12,
    "start_time": "2021-10-03T09:55:17.980Z"
   },
   {
    "duration": 15,
    "start_time": "2021-10-03T09:55:17.996Z"
   },
   {
    "duration": 44,
    "start_time": "2021-10-03T09:55:18.013Z"
   },
   {
    "duration": 11,
    "start_time": "2021-10-03T09:55:18.059Z"
   },
   {
    "duration": 22,
    "start_time": "2021-10-03T09:55:18.072Z"
   },
   {
    "duration": 16,
    "start_time": "2021-10-03T09:55:18.096Z"
   },
   {
    "duration": 40,
    "start_time": "2021-10-03T09:55:18.113Z"
   },
   {
    "duration": 4,
    "start_time": "2021-10-03T09:55:18.155Z"
   },
   {
    "duration": 13,
    "start_time": "2021-10-03T09:55:18.161Z"
   },
   {
    "duration": 11,
    "start_time": "2021-10-03T09:55:18.175Z"
   },
   {
    "duration": 18,
    "start_time": "2021-10-03T09:55:18.187Z"
   },
   {
    "duration": 20,
    "start_time": "2021-10-03T09:55:18.207Z"
   },
   {
    "duration": 19,
    "start_time": "2021-10-03T09:55:18.229Z"
   },
   {
    "duration": 13,
    "start_time": "2021-10-03T09:55:18.249Z"
   },
   {
    "duration": 14,
    "start_time": "2021-10-03T09:55:18.263Z"
   },
   {
    "duration": 12,
    "start_time": "2021-10-03T09:55:18.278Z"
   },
   {
    "duration": 5,
    "start_time": "2021-10-03T09:55:18.291Z"
   },
   {
    "duration": 3300,
    "start_time": "2021-10-03T09:55:18.297Z"
   },
   {
    "duration": 14,
    "start_time": "2021-10-03T09:55:21.599Z"
   },
   {
    "duration": 6,
    "start_time": "2021-10-03T09:55:21.614Z"
   },
   {
    "duration": 24,
    "start_time": "2021-10-03T09:55:21.621Z"
   },
   {
    "duration": 13,
    "start_time": "2021-10-03T09:55:21.647Z"
   },
   {
    "duration": 16,
    "start_time": "2021-10-03T09:55:21.662Z"
   },
   {
    "duration": 14,
    "start_time": "2021-10-03T09:55:21.679Z"
   },
   {
    "duration": 13,
    "start_time": "2021-10-03T09:55:21.695Z"
   },
   {
    "duration": 17,
    "start_time": "2021-10-03T09:55:21.710Z"
   },
   {
    "duration": 11,
    "start_time": "2021-10-03T09:55:21.728Z"
   },
   {
    "duration": 10,
    "start_time": "2021-10-03T09:55:21.740Z"
   },
   {
    "duration": 7,
    "start_time": "2021-10-03T09:55:21.751Z"
   },
   {
    "duration": 8,
    "start_time": "2021-10-03T09:55:21.759Z"
   },
   {
    "duration": 5,
    "start_time": "2021-10-03T09:55:21.769Z"
   },
   {
    "duration": 5,
    "start_time": "2021-10-03T09:55:21.775Z"
   },
   {
    "duration": 9,
    "start_time": "2021-10-03T09:55:21.781Z"
   },
   {
    "duration": 12,
    "start_time": "2021-10-03T09:55:21.792Z"
   },
   {
    "duration": 16,
    "start_time": "2021-10-03T09:55:21.806Z"
   },
   {
    "duration": 9,
    "start_time": "2021-10-03T09:55:21.824Z"
   },
   {
    "duration": 19,
    "start_time": "2021-10-03T09:55:21.835Z"
   },
   {
    "duration": 6,
    "start_time": "2021-10-03T09:55:21.856Z"
   },
   {
    "duration": 5,
    "start_time": "2021-10-03T09:55:21.864Z"
   },
   {
    "duration": 8,
    "start_time": "2021-10-03T09:55:21.871Z"
   },
   {
    "duration": 17,
    "start_time": "2021-10-03T09:55:21.880Z"
   },
   {
    "duration": 4,
    "start_time": "2021-10-03T09:55:21.898Z"
   },
   {
    "duration": 15,
    "start_time": "2021-10-03T09:55:21.903Z"
   },
   {
    "duration": 29,
    "start_time": "2021-10-03T09:55:21.919Z"
   },
   {
    "duration": 13,
    "start_time": "2021-10-03T09:55:21.950Z"
   },
   {
    "duration": 6,
    "start_time": "2021-10-03T09:55:21.965Z"
   },
   {
    "duration": 10,
    "start_time": "2021-10-03T09:55:21.976Z"
   },
   {
    "duration": 7,
    "start_time": "2021-10-03T09:55:21.988Z"
   },
   {
    "duration": 13,
    "start_time": "2021-10-03T09:55:21.997Z"
   },
   {
    "duration": 15,
    "start_time": "2021-10-03T09:55:22.044Z"
   },
   {
    "duration": 8,
    "start_time": "2021-10-03T09:55:22.060Z"
   },
   {
    "duration": 10,
    "start_time": "2021-10-03T09:55:22.069Z"
   },
   {
    "duration": 8,
    "start_time": "2021-10-03T09:55:22.081Z"
   },
   {
    "duration": 10,
    "start_time": "2021-10-03T09:55:22.091Z"
   },
   {
    "duration": 14,
    "start_time": "2021-10-03T09:55:22.102Z"
   },
   {
    "duration": 38,
    "start_time": "2021-10-03T09:55:22.117Z"
   },
   {
    "duration": 7,
    "start_time": "2021-10-03T09:55:22.157Z"
   },
   {
    "duration": 5,
    "start_time": "2021-10-03T09:55:22.165Z"
   },
   {
    "duration": 8,
    "start_time": "2021-10-03T09:55:22.172Z"
   },
   {
    "duration": 9,
    "start_time": "2021-10-03T09:55:22.181Z"
   },
   {
    "duration": 70,
    "start_time": "2021-10-03T09:55:22.191Z"
   },
   {
    "duration": 7,
    "start_time": "2021-10-03T09:55:22.262Z"
   },
   {
    "duration": 8,
    "start_time": "2021-10-03T09:55:22.271Z"
   },
   {
    "duration": 11,
    "start_time": "2021-10-03T09:55:22.281Z"
   },
   {
    "duration": 94,
    "start_time": "2021-10-03T09:59:32.220Z"
   },
   {
    "duration": 85,
    "start_time": "2021-10-03T10:00:28.236Z"
   },
   {
    "duration": 3,
    "start_time": "2021-10-03T10:09:25.852Z"
   },
   {
    "duration": 3,
    "start_time": "2021-10-03T10:11:54.246Z"
   },
   {
    "duration": 3,
    "start_time": "2021-10-03T10:18:16.723Z"
   },
   {
    "duration": 4,
    "start_time": "2021-10-03T10:18:54.188Z"
   },
   {
    "duration": 3,
    "start_time": "2021-10-03T10:19:54.749Z"
   },
   {
    "duration": 3,
    "start_time": "2021-10-03T10:20:12.373Z"
   },
   {
    "duration": 7,
    "start_time": "2021-10-03T10:20:15.133Z"
   },
   {
    "duration": 13,
    "start_time": "2021-10-03T10:20:17.918Z"
   },
   {
    "duration": 592,
    "start_time": "2021-10-03T10:20:27.902Z"
   },
   {
    "duration": 10,
    "start_time": "2021-10-03T10:20:28.495Z"
   },
   {
    "duration": 9,
    "start_time": "2021-10-03T10:20:28.507Z"
   },
   {
    "duration": 31,
    "start_time": "2021-10-03T10:20:28.518Z"
   },
   {
    "duration": 5,
    "start_time": "2021-10-03T10:20:28.550Z"
   },
   {
    "duration": 17,
    "start_time": "2021-10-03T10:20:28.557Z"
   },
   {
    "duration": 4,
    "start_time": "2021-10-03T10:20:28.576Z"
   },
   {
    "duration": 8,
    "start_time": "2021-10-03T10:20:28.583Z"
   },
   {
    "duration": 20,
    "start_time": "2021-10-03T10:20:28.593Z"
   },
   {
    "duration": 9,
    "start_time": "2021-10-03T10:20:28.614Z"
   },
   {
    "duration": 24,
    "start_time": "2021-10-03T10:20:28.625Z"
   },
   {
    "duration": 3,
    "start_time": "2021-10-03T10:20:28.651Z"
   },
   {
    "duration": 10,
    "start_time": "2021-10-03T10:20:28.655Z"
   },
   {
    "duration": 6,
    "start_time": "2021-10-03T10:20:28.667Z"
   },
   {
    "duration": 4,
    "start_time": "2021-10-03T10:20:28.675Z"
   },
   {
    "duration": 29,
    "start_time": "2021-10-03T10:20:28.680Z"
   },
   {
    "duration": 37,
    "start_time": "2021-10-03T10:20:28.710Z"
   },
   {
    "duration": 7,
    "start_time": "2021-10-03T10:20:28.748Z"
   },
   {
    "duration": 13,
    "start_time": "2021-10-03T10:20:28.756Z"
   },
   {
    "duration": 3,
    "start_time": "2021-10-03T10:20:28.770Z"
   },
   {
    "duration": 12,
    "start_time": "2021-10-03T10:20:28.775Z"
   },
   {
    "duration": 13,
    "start_time": "2021-10-03T10:20:28.789Z"
   },
   {
    "duration": 54,
    "start_time": "2021-10-03T10:20:28.806Z"
   },
   {
    "duration": 16,
    "start_time": "2021-10-03T10:20:28.862Z"
   },
   {
    "duration": 11,
    "start_time": "2021-10-03T10:20:28.880Z"
   },
   {
    "duration": 30,
    "start_time": "2021-10-03T10:20:28.893Z"
   },
   {
    "duration": 35,
    "start_time": "2021-10-03T10:20:28.925Z"
   },
   {
    "duration": 16,
    "start_time": "2021-10-03T10:20:28.962Z"
   },
   {
    "duration": 6,
    "start_time": "2021-10-03T10:20:28.981Z"
   },
   {
    "duration": 15,
    "start_time": "2021-10-03T10:20:28.989Z"
   },
   {
    "duration": 6,
    "start_time": "2021-10-03T10:20:29.045Z"
   },
   {
    "duration": 10,
    "start_time": "2021-10-03T10:20:29.053Z"
   },
   {
    "duration": 16,
    "start_time": "2021-10-03T10:20:29.065Z"
   },
   {
    "duration": 19,
    "start_time": "2021-10-03T10:20:29.083Z"
   },
   {
    "duration": 11,
    "start_time": "2021-10-03T10:20:29.104Z"
   },
   {
    "duration": 27,
    "start_time": "2021-10-03T10:20:29.118Z"
   },
   {
    "duration": 8,
    "start_time": "2021-10-03T10:20:29.147Z"
   },
   {
    "duration": 8,
    "start_time": "2021-10-03T10:20:29.156Z"
   },
   {
    "duration": 3544,
    "start_time": "2021-10-03T10:20:29.166Z"
   },
   {
    "duration": 12,
    "start_time": "2021-10-03T10:20:32.712Z"
   },
   {
    "duration": 6,
    "start_time": "2021-10-03T10:20:32.726Z"
   },
   {
    "duration": 2,
    "start_time": "2021-10-03T10:20:32.744Z"
   },
   {
    "duration": 13,
    "start_time": "2021-10-03T10:20:32.747Z"
   },
   {
    "duration": 23,
    "start_time": "2021-10-03T10:20:32.762Z"
   },
   {
    "duration": 17,
    "start_time": "2021-10-03T10:20:32.787Z"
   },
   {
    "duration": 11,
    "start_time": "2021-10-03T10:20:32.806Z"
   },
   {
    "duration": 6,
    "start_time": "2021-10-03T10:20:32.818Z"
   },
   {
    "duration": 20,
    "start_time": "2021-10-03T10:20:32.825Z"
   },
   {
    "duration": 12,
    "start_time": "2021-10-03T10:20:32.847Z"
   },
   {
    "duration": 9,
    "start_time": "2021-10-03T10:20:32.861Z"
   },
   {
    "duration": 15,
    "start_time": "2021-10-03T10:20:32.872Z"
   },
   {
    "duration": 5,
    "start_time": "2021-10-03T10:20:32.889Z"
   },
   {
    "duration": 6,
    "start_time": "2021-10-03T10:20:32.895Z"
   },
   {
    "duration": 8,
    "start_time": "2021-10-03T10:20:32.902Z"
   },
   {
    "duration": 12,
    "start_time": "2021-10-03T10:20:32.912Z"
   },
   {
    "duration": 5,
    "start_time": "2021-10-03T10:20:32.926Z"
   },
   {
    "duration": 14,
    "start_time": "2021-10-03T10:20:32.933Z"
   },
   {
    "duration": 20,
    "start_time": "2021-10-03T10:20:32.949Z"
   },
   {
    "duration": 10,
    "start_time": "2021-10-03T10:20:32.970Z"
   },
   {
    "duration": 6,
    "start_time": "2021-10-03T10:20:32.981Z"
   },
   {
    "duration": 16,
    "start_time": "2021-10-03T10:20:32.988Z"
   },
   {
    "duration": 16,
    "start_time": "2021-10-03T10:20:33.006Z"
   },
   {
    "duration": 4,
    "start_time": "2021-10-03T10:20:33.024Z"
   },
   {
    "duration": 19,
    "start_time": "2021-10-03T10:20:33.030Z"
   },
   {
    "duration": 14,
    "start_time": "2021-10-03T10:20:33.051Z"
   },
   {
    "duration": 15,
    "start_time": "2021-10-03T10:20:33.066Z"
   },
   {
    "duration": 7,
    "start_time": "2021-10-03T10:20:33.082Z"
   },
   {
    "duration": 18,
    "start_time": "2021-10-03T10:20:33.094Z"
   },
   {
    "duration": 16,
    "start_time": "2021-10-03T10:20:33.114Z"
   },
   {
    "duration": 7,
    "start_time": "2021-10-03T10:20:33.145Z"
   },
   {
    "duration": 13,
    "start_time": "2021-10-03T10:20:33.154Z"
   },
   {
    "duration": 13,
    "start_time": "2021-10-03T10:20:33.169Z"
   },
   {
    "duration": 19,
    "start_time": "2021-10-03T10:20:33.184Z"
   },
   {
    "duration": 14,
    "start_time": "2021-10-03T10:20:33.205Z"
   },
   {
    "duration": 27,
    "start_time": "2021-10-03T10:20:33.221Z"
   },
   {
    "duration": 32,
    "start_time": "2021-10-03T10:20:33.250Z"
   },
   {
    "duration": 29,
    "start_time": "2021-10-03T10:20:33.283Z"
   },
   {
    "duration": 14,
    "start_time": "2021-10-03T10:20:33.314Z"
   },
   {
    "duration": 15,
    "start_time": "2021-10-03T10:20:33.330Z"
   },
   {
    "duration": 21,
    "start_time": "2021-10-03T10:20:33.346Z"
   },
   {
    "duration": 20,
    "start_time": "2021-10-03T10:20:33.368Z"
   },
   {
    "duration": 49,
    "start_time": "2021-10-03T10:20:33.389Z"
   },
   {
    "duration": 7,
    "start_time": "2021-10-03T10:20:33.440Z"
   },
   {
    "duration": 14,
    "start_time": "2021-10-03T10:20:33.449Z"
   },
   {
    "duration": 15,
    "start_time": "2021-10-03T10:20:33.465Z"
   },
   {
    "duration": 11,
    "start_time": "2021-10-03T10:20:45.091Z"
   },
   {
    "duration": 3,
    "start_time": "2021-10-03T10:21:50.643Z"
   },
   {
    "duration": 8,
    "start_time": "2021-10-03T10:21:51.539Z"
   },
   {
    "duration": 11,
    "start_time": "2021-10-03T10:21:53.406Z"
   },
   {
    "duration": 11,
    "start_time": "2021-10-03T10:24:03.982Z"
   },
   {
    "duration": 12,
    "start_time": "2021-10-03T10:24:34.550Z"
   },
   {
    "duration": 82,
    "start_time": "2021-10-03T10:33:13.639Z"
   },
   {
    "duration": 12,
    "start_time": "2021-10-03T10:46:50.010Z"
   },
   {
    "duration": 87,
    "start_time": "2021-10-03T10:49:59.868Z"
   },
   {
    "duration": 6,
    "start_time": "2021-10-03T11:11:38.765Z"
   },
   {
    "duration": 4,
    "start_time": "2021-10-03T11:11:49.293Z"
   },
   {
    "duration": 4,
    "start_time": "2021-10-03T11:17:22.186Z"
   },
   {
    "duration": 3,
    "start_time": "2021-10-03T11:17:23.201Z"
   },
   {
    "duration": 3,
    "start_time": "2021-10-03T11:17:24.600Z"
   },
   {
    "duration": 327,
    "start_time": "2021-10-03T11:17:26.088Z"
   },
   {
    "duration": 3,
    "start_time": "2021-10-03T11:17:49.706Z"
   },
   {
    "duration": 1087,
    "start_time": "2021-10-03T11:18:53.003Z"
   },
   {
    "duration": 14,
    "start_time": "2021-10-03T11:18:54.092Z"
   },
   {
    "duration": 7,
    "start_time": "2021-10-03T11:18:54.108Z"
   },
   {
    "duration": 28,
    "start_time": "2021-10-03T11:18:54.117Z"
   },
   {
    "duration": 8,
    "start_time": "2021-10-03T11:18:54.146Z"
   },
   {
    "duration": 21,
    "start_time": "2021-10-03T11:18:54.156Z"
   },
   {
    "duration": 6,
    "start_time": "2021-10-03T11:18:54.179Z"
   },
   {
    "duration": 7,
    "start_time": "2021-10-03T11:18:54.188Z"
   },
   {
    "duration": 8,
    "start_time": "2021-10-03T11:18:54.197Z"
   },
   {
    "duration": 6,
    "start_time": "2021-10-03T11:18:54.207Z"
   },
   {
    "duration": 42,
    "start_time": "2021-10-03T11:18:54.215Z"
   },
   {
    "duration": 8,
    "start_time": "2021-10-03T11:18:54.259Z"
   },
   {
    "duration": 20,
    "start_time": "2021-10-03T11:18:54.269Z"
   },
   {
    "duration": 16,
    "start_time": "2021-10-03T11:18:54.290Z"
   },
   {
    "duration": 18,
    "start_time": "2021-10-03T11:18:54.307Z"
   },
   {
    "duration": 44,
    "start_time": "2021-10-03T11:18:54.327Z"
   },
   {
    "duration": 11,
    "start_time": "2021-10-03T11:18:54.373Z"
   },
   {
    "duration": 26,
    "start_time": "2021-10-03T11:18:54.385Z"
   },
   {
    "duration": 32,
    "start_time": "2021-10-03T11:18:54.413Z"
   },
   {
    "duration": 15,
    "start_time": "2021-10-03T11:18:54.448Z"
   },
   {
    "duration": 28,
    "start_time": "2021-10-03T11:18:54.465Z"
   },
   {
    "duration": 17,
    "start_time": "2021-10-03T11:18:54.495Z"
   },
   {
    "duration": 26,
    "start_time": "2021-10-03T11:18:54.516Z"
   },
   {
    "duration": 19,
    "start_time": "2021-10-03T11:18:54.544Z"
   },
   {
    "duration": 14,
    "start_time": "2021-10-03T11:18:54.565Z"
   },
   {
    "duration": 36,
    "start_time": "2021-10-03T11:18:54.581Z"
   },
   {
    "duration": 33,
    "start_time": "2021-10-03T11:18:54.619Z"
   },
   {
    "duration": 19,
    "start_time": "2021-10-03T11:18:54.654Z"
   },
   {
    "duration": 10,
    "start_time": "2021-10-03T11:18:54.676Z"
   },
   {
    "duration": 21,
    "start_time": "2021-10-03T11:18:54.688Z"
   },
   {
    "duration": 23,
    "start_time": "2021-10-03T11:18:54.711Z"
   },
   {
    "duration": 22,
    "start_time": "2021-10-03T11:18:54.736Z"
   },
   {
    "duration": 23,
    "start_time": "2021-10-03T11:18:54.760Z"
   },
   {
    "duration": 9,
    "start_time": "2021-10-03T11:18:54.785Z"
   },
   {
    "duration": 11,
    "start_time": "2021-10-03T11:18:54.797Z"
   },
   {
    "duration": 12,
    "start_time": "2021-10-03T11:18:54.810Z"
   },
   {
    "duration": 18,
    "start_time": "2021-10-03T11:18:54.823Z"
   },
   {
    "duration": 21,
    "start_time": "2021-10-03T11:18:54.842Z"
   },
   {
    "duration": 3458,
    "start_time": "2021-10-03T11:18:54.865Z"
   },
   {
    "duration": 12,
    "start_time": "2021-10-03T11:18:58.324Z"
   },
   {
    "duration": 15,
    "start_time": "2021-10-03T11:18:58.337Z"
   },
   {
    "duration": 7,
    "start_time": "2021-10-03T11:18:58.355Z"
   },
   {
    "duration": 15,
    "start_time": "2021-10-03T11:18:58.363Z"
   },
   {
    "duration": 317,
    "start_time": "2021-10-03T11:18:58.380Z"
   },
   {
    "duration": -54,
    "start_time": "2021-10-03T11:18:58.753Z"
   },
   {
    "duration": -57,
    "start_time": "2021-10-03T11:18:58.757Z"
   },
   {
    "duration": -63,
    "start_time": "2021-10-03T11:18:58.764Z"
   },
   {
    "duration": -67,
    "start_time": "2021-10-03T11:18:58.769Z"
   },
   {
    "duration": -75,
    "start_time": "2021-10-03T11:18:58.778Z"
   },
   {
    "duration": -80,
    "start_time": "2021-10-03T11:18:58.784Z"
   },
   {
    "duration": -84,
    "start_time": "2021-10-03T11:18:58.789Z"
   },
   {
    "duration": -88,
    "start_time": "2021-10-03T11:18:58.794Z"
   },
   {
    "duration": -93,
    "start_time": "2021-10-03T11:18:58.800Z"
   },
   {
    "duration": -97,
    "start_time": "2021-10-03T11:18:58.805Z"
   },
   {
    "duration": -102,
    "start_time": "2021-10-03T11:18:58.810Z"
   },
   {
    "duration": -106,
    "start_time": "2021-10-03T11:18:58.815Z"
   },
   {
    "duration": -123,
    "start_time": "2021-10-03T11:18:58.833Z"
   },
   {
    "duration": -128,
    "start_time": "2021-10-03T11:18:58.839Z"
   },
   {
    "duration": -133,
    "start_time": "2021-10-03T11:18:58.845Z"
   },
   {
    "duration": -137,
    "start_time": "2021-10-03T11:18:58.850Z"
   },
   {
    "duration": -142,
    "start_time": "2021-10-03T11:18:58.856Z"
   },
   {
    "duration": -146,
    "start_time": "2021-10-03T11:18:58.861Z"
   },
   {
    "duration": -151,
    "start_time": "2021-10-03T11:18:58.867Z"
   },
   {
    "duration": -155,
    "start_time": "2021-10-03T11:18:58.872Z"
   },
   {
    "duration": -159,
    "start_time": "2021-10-03T11:18:58.877Z"
   },
   {
    "duration": -165,
    "start_time": "2021-10-03T11:18:58.884Z"
   },
   {
    "duration": -170,
    "start_time": "2021-10-03T11:18:58.889Z"
   },
   {
    "duration": -174,
    "start_time": "2021-10-03T11:18:58.894Z"
   },
   {
    "duration": -179,
    "start_time": "2021-10-03T11:18:58.900Z"
   },
   {
    "duration": -184,
    "start_time": "2021-10-03T11:18:58.906Z"
   },
   {
    "duration": -188,
    "start_time": "2021-10-03T11:18:58.911Z"
   },
   {
    "duration": -191,
    "start_time": "2021-10-03T11:18:58.915Z"
   },
   {
    "duration": -196,
    "start_time": "2021-10-03T11:18:58.921Z"
   },
   {
    "duration": -199,
    "start_time": "2021-10-03T11:18:58.925Z"
   },
   {
    "duration": -215,
    "start_time": "2021-10-03T11:18:58.941Z"
   },
   {
    "duration": -219,
    "start_time": "2021-10-03T11:18:58.946Z"
   },
   {
    "duration": -224,
    "start_time": "2021-10-03T11:18:58.952Z"
   },
   {
    "duration": -227,
    "start_time": "2021-10-03T11:18:58.956Z"
   },
   {
    "duration": -232,
    "start_time": "2021-10-03T11:18:58.962Z"
   },
   {
    "duration": -236,
    "start_time": "2021-10-03T11:18:58.966Z"
   },
   {
    "duration": -240,
    "start_time": "2021-10-03T11:18:58.971Z"
   },
   {
    "duration": 3,
    "start_time": "2021-10-03T11:19:56.019Z"
   },
   {
    "duration": 3,
    "start_time": "2021-10-03T11:19:57.170Z"
   },
   {
    "duration": 657,
    "start_time": "2021-10-03T11:20:03.364Z"
   },
   {
    "duration": 9,
    "start_time": "2021-10-03T11:20:04.023Z"
   },
   {
    "duration": 5,
    "start_time": "2021-10-03T11:20:04.034Z"
   },
   {
    "duration": 14,
    "start_time": "2021-10-03T11:20:04.053Z"
   },
   {
    "duration": 5,
    "start_time": "2021-10-03T11:20:04.069Z"
   },
   {
    "duration": 13,
    "start_time": "2021-10-03T11:20:04.076Z"
   },
   {
    "duration": 5,
    "start_time": "2021-10-03T11:20:04.091Z"
   },
   {
    "duration": 7,
    "start_time": "2021-10-03T11:20:04.099Z"
   },
   {
    "duration": 7,
    "start_time": "2021-10-03T11:20:04.107Z"
   },
   {
    "duration": 38,
    "start_time": "2021-10-03T11:20:04.115Z"
   },
   {
    "duration": 13,
    "start_time": "2021-10-03T11:20:04.155Z"
   },
   {
    "duration": 21,
    "start_time": "2021-10-03T11:20:04.169Z"
   },
   {
    "duration": 17,
    "start_time": "2021-10-03T11:20:04.191Z"
   },
   {
    "duration": 18,
    "start_time": "2021-10-03T11:20:04.209Z"
   },
   {
    "duration": 11,
    "start_time": "2021-10-03T11:20:04.229Z"
   },
   {
    "duration": 38,
    "start_time": "2021-10-03T11:20:04.241Z"
   },
   {
    "duration": 8,
    "start_time": "2021-10-03T11:20:04.281Z"
   },
   {
    "duration": 13,
    "start_time": "2021-10-03T11:20:04.291Z"
   },
   {
    "duration": 19,
    "start_time": "2021-10-03T11:20:04.306Z"
   },
   {
    "duration": 10,
    "start_time": "2021-10-03T11:20:04.327Z"
   },
   {
    "duration": 29,
    "start_time": "2021-10-03T11:20:04.338Z"
   },
   {
    "duration": 18,
    "start_time": "2021-10-03T11:20:04.369Z"
   },
   {
    "duration": 22,
    "start_time": "2021-10-03T11:20:04.392Z"
   },
   {
    "duration": 28,
    "start_time": "2021-10-03T11:20:04.417Z"
   },
   {
    "duration": 14,
    "start_time": "2021-10-03T11:20:04.447Z"
   },
   {
    "duration": 38,
    "start_time": "2021-10-03T11:20:04.463Z"
   },
   {
    "duration": 15,
    "start_time": "2021-10-03T11:20:04.502Z"
   },
   {
    "duration": 14,
    "start_time": "2021-10-03T11:20:04.518Z"
   },
   {
    "duration": 23,
    "start_time": "2021-10-03T11:20:04.534Z"
   },
   {
    "duration": 12,
    "start_time": "2021-10-03T11:20:04.559Z"
   },
   {
    "duration": 7,
    "start_time": "2021-10-03T11:20:04.572Z"
   },
   {
    "duration": 15,
    "start_time": "2021-10-03T11:20:04.581Z"
   },
   {
    "duration": 13,
    "start_time": "2021-10-03T11:20:04.597Z"
   },
   {
    "duration": 4,
    "start_time": "2021-10-03T11:20:04.611Z"
   },
   {
    "duration": 9,
    "start_time": "2021-10-03T11:20:04.617Z"
   },
   {
    "duration": 21,
    "start_time": "2021-10-03T11:20:04.627Z"
   },
   {
    "duration": 7,
    "start_time": "2021-10-03T11:20:04.650Z"
   },
   {
    "duration": 4,
    "start_time": "2021-10-03T11:20:04.659Z"
   },
   {
    "duration": 3365,
    "start_time": "2021-10-03T11:20:04.664Z"
   },
   {
    "duration": 25,
    "start_time": "2021-10-03T11:20:08.030Z"
   },
   {
    "duration": 5,
    "start_time": "2021-10-03T11:20:08.057Z"
   },
   {
    "duration": 13,
    "start_time": "2021-10-03T11:20:08.063Z"
   },
   {
    "duration": 13,
    "start_time": "2021-10-03T11:20:08.077Z"
   },
   {
    "duration": 5,
    "start_time": "2021-10-03T11:20:08.091Z"
   },
   {
    "duration": 5,
    "start_time": "2021-10-03T11:20:08.097Z"
   },
   {
    "duration": 6,
    "start_time": "2021-10-03T11:20:08.104Z"
   },
   {
    "duration": 8,
    "start_time": "2021-10-03T11:20:08.111Z"
   },
   {
    "duration": 4,
    "start_time": "2021-10-03T11:20:08.120Z"
   },
   {
    "duration": 5,
    "start_time": "2021-10-03T11:20:08.126Z"
   },
   {
    "duration": 27,
    "start_time": "2021-10-03T11:20:08.133Z"
   },
   {
    "duration": 11,
    "start_time": "2021-10-03T11:20:08.162Z"
   },
   {
    "duration": 11,
    "start_time": "2021-10-03T11:20:08.174Z"
   },
   {
    "duration": 8,
    "start_time": "2021-10-03T11:20:08.186Z"
   },
   {
    "duration": 7,
    "start_time": "2021-10-03T11:20:08.195Z"
   },
   {
    "duration": 6,
    "start_time": "2021-10-03T11:20:08.203Z"
   },
   {
    "duration": -44,
    "start_time": "2021-10-03T11:21:59.175Z"
   },
   {
    "duration": -58,
    "start_time": "2021-10-03T11:21:59.190Z"
   },
   {
    "duration": -70,
    "start_time": "2021-10-03T11:21:59.204Z"
   },
   {
    "duration": -74,
    "start_time": "2021-10-03T11:21:59.209Z"
   },
   {
    "duration": -79,
    "start_time": "2021-10-03T11:21:59.215Z"
   },
   {
    "duration": -81,
    "start_time": "2021-10-03T11:21:59.219Z"
   },
   {
    "duration": -86,
    "start_time": "2021-10-03T11:21:59.225Z"
   },
   {
    "duration": -90,
    "start_time": "2021-10-03T11:21:59.231Z"
   },
   {
    "duration": -95,
    "start_time": "2021-10-03T11:21:59.237Z"
   },
   {
    "duration": -99,
    "start_time": "2021-10-03T11:21:59.242Z"
   },
   {
    "duration": -103,
    "start_time": "2021-10-03T11:21:59.247Z"
   },
   {
    "duration": -104,
    "start_time": "2021-10-03T11:21:59.251Z"
   },
   {
    "duration": -107,
    "start_time": "2021-10-03T11:21:59.256Z"
   },
   {
    "duration": -111,
    "start_time": "2021-10-03T11:21:59.261Z"
   },
   {
    "duration": -114,
    "start_time": "2021-10-03T11:21:59.266Z"
   },
   {
    "duration": -117,
    "start_time": "2021-10-03T11:21:59.270Z"
   },
   {
    "duration": -120,
    "start_time": "2021-10-03T11:21:59.275Z"
   },
   {
    "duration": -124,
    "start_time": "2021-10-03T11:21:59.280Z"
   },
   {
    "duration": -127,
    "start_time": "2021-10-03T11:21:59.285Z"
   },
   {
    "duration": -131,
    "start_time": "2021-10-03T11:21:59.290Z"
   },
   {
    "duration": -135,
    "start_time": "2021-10-03T11:21:59.295Z"
   },
   {
    "duration": -137,
    "start_time": "2021-10-03T11:21:59.299Z"
   },
   {
    "duration": -141,
    "start_time": "2021-10-03T11:21:59.304Z"
   },
   {
    "duration": -144,
    "start_time": "2021-10-03T11:21:59.309Z"
   },
   {
    "duration": -148,
    "start_time": "2021-10-03T11:21:59.314Z"
   },
   {
    "duration": -152,
    "start_time": "2021-10-03T11:21:59.319Z"
   },
   {
    "duration": -155,
    "start_time": "2021-10-03T11:21:59.324Z"
   },
   {
    "duration": -159,
    "start_time": "2021-10-03T11:21:59.329Z"
   },
   {
    "duration": 697,
    "start_time": "2021-10-03T11:24:08.725Z"
   },
   {
    "duration": 12,
    "start_time": "2021-10-03T11:24:09.424Z"
   },
   {
    "duration": 9,
    "start_time": "2021-10-03T11:24:09.438Z"
   },
   {
    "duration": 20,
    "start_time": "2021-10-03T11:24:09.450Z"
   },
   {
    "duration": 6,
    "start_time": "2021-10-03T11:24:09.471Z"
   },
   {
    "duration": 15,
    "start_time": "2021-10-03T11:24:09.479Z"
   },
   {
    "duration": 5,
    "start_time": "2021-10-03T11:24:09.495Z"
   },
   {
    "duration": 11,
    "start_time": "2021-10-03T11:24:09.502Z"
   },
   {
    "duration": 3,
    "start_time": "2021-10-03T11:24:09.515Z"
   },
   {
    "duration": 12,
    "start_time": "2021-10-03T11:24:09.545Z"
   },
   {
    "duration": 11,
    "start_time": "2021-10-03T11:24:09.559Z"
   },
   {
    "duration": 8,
    "start_time": "2021-10-03T11:24:09.571Z"
   },
   {
    "duration": 11,
    "start_time": "2021-10-03T11:24:09.581Z"
   },
   {
    "duration": 5,
    "start_time": "2021-10-03T11:24:09.594Z"
   },
   {
    "duration": 10,
    "start_time": "2021-10-03T11:24:09.600Z"
   },
   {
    "duration": 52,
    "start_time": "2021-10-03T11:24:09.611Z"
   },
   {
    "duration": 9,
    "start_time": "2021-10-03T11:24:09.664Z"
   },
   {
    "duration": 4,
    "start_time": "2021-10-03T11:24:09.674Z"
   },
   {
    "duration": 12,
    "start_time": "2021-10-03T11:24:09.680Z"
   },
   {
    "duration": 3,
    "start_time": "2021-10-03T11:24:09.693Z"
   },
   {
    "duration": 13,
    "start_time": "2021-10-03T11:24:09.698Z"
   },
   {
    "duration": 42,
    "start_time": "2021-10-03T11:24:09.713Z"
   },
   {
    "duration": 18,
    "start_time": "2021-10-03T11:24:09.760Z"
   },
   {
    "duration": 16,
    "start_time": "2021-10-03T11:24:09.781Z"
   },
   {
    "duration": 12,
    "start_time": "2021-10-03T11:24:09.798Z"
   },
   {
    "duration": 44,
    "start_time": "2021-10-03T11:24:09.811Z"
   },
   {
    "duration": 16,
    "start_time": "2021-10-03T11:24:09.857Z"
   },
   {
    "duration": 15,
    "start_time": "2021-10-03T11:24:09.874Z"
   },
   {
    "duration": 5,
    "start_time": "2021-10-03T11:24:09.891Z"
   },
   {
    "duration": 13,
    "start_time": "2021-10-03T11:24:09.897Z"
   },
   {
    "duration": 18,
    "start_time": "2021-10-03T11:24:09.912Z"
   },
   {
    "duration": 14,
    "start_time": "2021-10-03T11:24:09.944Z"
   },
   {
    "duration": 25,
    "start_time": "2021-10-03T11:24:09.961Z"
   },
   {
    "duration": 11,
    "start_time": "2021-10-03T11:24:09.988Z"
   },
   {
    "duration": 23,
    "start_time": "2021-10-03T11:24:10.001Z"
   },
   {
    "duration": 32,
    "start_time": "2021-10-03T11:24:10.025Z"
   },
   {
    "duration": 18,
    "start_time": "2021-10-03T11:24:10.058Z"
   },
   {
    "duration": 33,
    "start_time": "2021-10-03T11:24:10.077Z"
   },
   {
    "duration": 3526,
    "start_time": "2021-10-03T11:24:10.111Z"
   },
   {
    "duration": 14,
    "start_time": "2021-10-03T11:24:13.639Z"
   },
   {
    "duration": 12,
    "start_time": "2021-10-03T11:24:13.655Z"
   },
   {
    "duration": 30,
    "start_time": "2021-10-03T11:24:13.668Z"
   },
   {
    "duration": 19,
    "start_time": "2021-10-03T11:24:13.700Z"
   },
   {
    "duration": 8,
    "start_time": "2021-10-03T11:24:13.721Z"
   },
   {
    "duration": 23,
    "start_time": "2021-10-03T11:24:13.731Z"
   },
   {
    "duration": 22,
    "start_time": "2021-10-03T11:24:13.756Z"
   },
   {
    "duration": 19,
    "start_time": "2021-10-03T11:24:13.780Z"
   },
   {
    "duration": 25,
    "start_time": "2021-10-03T11:24:13.801Z"
   },
   {
    "duration": 11,
    "start_time": "2021-10-03T11:24:13.828Z"
   },
   {
    "duration": 38,
    "start_time": "2021-10-03T11:24:13.841Z"
   },
   {
    "duration": 24,
    "start_time": "2021-10-03T11:24:13.881Z"
   },
   {
    "duration": 11,
    "start_time": "2021-10-03T11:24:13.906Z"
   },
   {
    "duration": 47,
    "start_time": "2021-10-03T11:24:13.919Z"
   },
   {
    "duration": 5,
    "start_time": "2021-10-03T11:24:13.968Z"
   },
   {
    "duration": 24,
    "start_time": "2021-10-03T11:24:13.974Z"
   },
   {
    "duration": 340,
    "start_time": "2021-10-03T11:24:13.999Z"
   },
   {
    "duration": -63,
    "start_time": "2021-10-03T11:24:14.404Z"
   },
   {
    "duration": -68,
    "start_time": "2021-10-03T11:24:14.410Z"
   },
   {
    "duration": -72,
    "start_time": "2021-10-03T11:24:14.415Z"
   },
   {
    "duration": -77,
    "start_time": "2021-10-03T11:24:14.421Z"
   },
   {
    "duration": -81,
    "start_time": "2021-10-03T11:24:14.426Z"
   },
   {
    "duration": -85,
    "start_time": "2021-10-03T11:24:14.431Z"
   },
   {
    "duration": -89,
    "start_time": "2021-10-03T11:24:14.436Z"
   },
   {
    "duration": -94,
    "start_time": "2021-10-03T11:24:14.442Z"
   },
   {
    "duration": -98,
    "start_time": "2021-10-03T11:24:14.447Z"
   },
   {
    "duration": -102,
    "start_time": "2021-10-03T11:24:14.452Z"
   },
   {
    "duration": -106,
    "start_time": "2021-10-03T11:24:14.457Z"
   },
   {
    "duration": -111,
    "start_time": "2021-10-03T11:24:14.463Z"
   },
   {
    "duration": -114,
    "start_time": "2021-10-03T11:24:14.467Z"
   },
   {
    "duration": -118,
    "start_time": "2021-10-03T11:24:14.472Z"
   },
   {
    "duration": -124,
    "start_time": "2021-10-03T11:24:14.479Z"
   },
   {
    "duration": -129,
    "start_time": "2021-10-03T11:24:14.485Z"
   },
   {
    "duration": -134,
    "start_time": "2021-10-03T11:24:14.491Z"
   },
   {
    "duration": -139,
    "start_time": "2021-10-03T11:24:14.497Z"
   },
   {
    "duration": -144,
    "start_time": "2021-10-03T11:24:14.502Z"
   },
   {
    "duration": -158,
    "start_time": "2021-10-03T11:24:14.517Z"
   },
   {
    "duration": 84,
    "start_time": "2021-10-03T11:54:36.789Z"
   },
   {
    "duration": 93,
    "start_time": "2021-10-03T11:57:10.118Z"
   },
   {
    "duration": 7,
    "start_time": "2021-10-03T11:58:26.256Z"
   },
   {
    "duration": 85,
    "start_time": "2021-10-03T11:59:47.817Z"
   },
   {
    "duration": 95,
    "start_time": "2021-10-03T12:03:26.972Z"
   },
   {
    "duration": 3,
    "start_time": "2021-10-03T12:10:54.483Z"
   },
   {
    "duration": 11,
    "start_time": "2021-10-03T12:11:01.769Z"
   },
   {
    "duration": 6,
    "start_time": "2021-10-03T12:11:34.820Z"
   },
   {
    "duration": 1437,
    "start_time": "2021-10-03T12:12:09.003Z"
   },
   {
    "duration": 18,
    "start_time": "2021-10-03T12:12:45.636Z"
   },
   {
    "duration": 6,
    "start_time": "2021-10-03T12:12:53.323Z"
   },
   {
    "duration": 3,
    "start_time": "2021-10-03T12:14:12.958Z"
   },
   {
    "duration": 606,
    "start_time": "2021-10-03T12:17:49.798Z"
   },
   {
    "duration": 9,
    "start_time": "2021-10-03T12:17:50.406Z"
   },
   {
    "duration": 5,
    "start_time": "2021-10-03T12:17:50.417Z"
   },
   {
    "duration": 6,
    "start_time": "2021-10-03T12:17:50.423Z"
   },
   {
    "duration": 4,
    "start_time": "2021-10-03T12:17:50.431Z"
   },
   {
    "duration": 15,
    "start_time": "2021-10-03T12:17:50.436Z"
   },
   {
    "duration": 16,
    "start_time": "2021-10-03T12:17:50.453Z"
   },
   {
    "duration": 13,
    "start_time": "2021-10-03T12:17:50.472Z"
   },
   {
    "duration": 4,
    "start_time": "2021-10-03T12:17:50.487Z"
   },
   {
    "duration": 5,
    "start_time": "2021-10-03T12:17:50.493Z"
   },
   {
    "duration": 8,
    "start_time": "2021-10-03T12:17:50.499Z"
   },
   {
    "duration": 41,
    "start_time": "2021-10-03T12:17:50.509Z"
   },
   {
    "duration": 3,
    "start_time": "2021-10-03T12:17:50.556Z"
   },
   {
    "duration": 11,
    "start_time": "2021-10-03T12:17:50.560Z"
   },
   {
    "duration": 5,
    "start_time": "2021-10-03T12:17:50.572Z"
   },
   {
    "duration": 5,
    "start_time": "2021-10-03T12:17:50.579Z"
   },
   {
    "duration": 25,
    "start_time": "2021-10-03T12:17:50.585Z"
   },
   {
    "duration": 8,
    "start_time": "2021-10-03T12:17:50.612Z"
   },
   {
    "duration": 4,
    "start_time": "2021-10-03T12:17:50.647Z"
   },
   {
    "duration": 27,
    "start_time": "2021-10-03T12:17:50.654Z"
   },
   {
    "duration": 5,
    "start_time": "2021-10-03T12:17:50.682Z"
   },
   {
    "duration": 12,
    "start_time": "2021-10-03T12:17:50.688Z"
   },
   {
    "duration": 13,
    "start_time": "2021-10-03T12:17:50.704Z"
   },
   {
    "duration": 16,
    "start_time": "2021-10-03T12:17:50.719Z"
   },
   {
    "duration": 16,
    "start_time": "2021-10-03T12:17:50.745Z"
   },
   {
    "duration": 10,
    "start_time": "2021-10-03T12:17:50.763Z"
   },
   {
    "duration": 18,
    "start_time": "2021-10-03T12:17:50.774Z"
   },
   {
    "duration": 15,
    "start_time": "2021-10-03T12:17:50.793Z"
   },
   {
    "duration": 38,
    "start_time": "2021-10-03T12:17:50.810Z"
   },
   {
    "duration": 5,
    "start_time": "2021-10-03T12:17:50.853Z"
   },
   {
    "duration": 28,
    "start_time": "2021-10-03T12:17:50.860Z"
   },
   {
    "duration": 10,
    "start_time": "2021-10-03T12:17:50.890Z"
   },
   {
    "duration": 8,
    "start_time": "2021-10-03T12:17:50.901Z"
   },
   {
    "duration": 15,
    "start_time": "2021-10-03T12:17:50.910Z"
   },
   {
    "duration": 25,
    "start_time": "2021-10-03T12:17:50.926Z"
   },
   {
    "duration": 7,
    "start_time": "2021-10-03T12:17:50.953Z"
   },
   {
    "duration": 14,
    "start_time": "2021-10-03T12:17:50.961Z"
   },
   {
    "duration": 7,
    "start_time": "2021-10-03T12:17:50.976Z"
   },
   {
    "duration": 7,
    "start_time": "2021-10-03T12:17:50.984Z"
   },
   {
    "duration": 3375,
    "start_time": "2021-10-03T12:17:50.993Z"
   },
   {
    "duration": 12,
    "start_time": "2021-10-03T12:17:54.370Z"
   },
   {
    "duration": 14,
    "start_time": "2021-10-03T12:17:54.384Z"
   },
   {
    "duration": 17,
    "start_time": "2021-10-03T12:17:54.400Z"
   },
   {
    "duration": 21,
    "start_time": "2021-10-03T12:17:54.419Z"
   },
   {
    "duration": 17,
    "start_time": "2021-10-03T12:17:54.442Z"
   },
   {
    "duration": 29,
    "start_time": "2021-10-03T12:17:54.461Z"
   },
   {
    "duration": 32,
    "start_time": "2021-10-03T12:17:54.492Z"
   },
   {
    "duration": 29,
    "start_time": "2021-10-03T12:17:54.525Z"
   },
   {
    "duration": 26,
    "start_time": "2021-10-03T12:17:54.557Z"
   },
   {
    "duration": 33,
    "start_time": "2021-10-03T12:17:54.585Z"
   },
   {
    "duration": 47,
    "start_time": "2021-10-03T12:17:54.620Z"
   },
   {
    "duration": 31,
    "start_time": "2021-10-03T12:17:54.669Z"
   },
   {
    "duration": 26,
    "start_time": "2021-10-03T12:17:54.702Z"
   },
   {
    "duration": 43,
    "start_time": "2021-10-03T12:17:54.729Z"
   },
   {
    "duration": 23,
    "start_time": "2021-10-03T12:17:54.774Z"
   },
   {
    "duration": 27,
    "start_time": "2021-10-03T12:17:54.798Z"
   },
   {
    "duration": 337,
    "start_time": "2021-10-03T12:17:54.827Z"
   },
   {
    "duration": -5,
    "start_time": "2021-10-03T12:17:55.171Z"
   },
   {
    "duration": -9,
    "start_time": "2021-10-03T12:17:55.177Z"
   },
   {
    "duration": -13,
    "start_time": "2021-10-03T12:17:55.182Z"
   },
   {
    "duration": -18,
    "start_time": "2021-10-03T12:17:55.187Z"
   },
   {
    "duration": -22,
    "start_time": "2021-10-03T12:17:55.192Z"
   },
   {
    "duration": -26,
    "start_time": "2021-10-03T12:17:55.197Z"
   },
   {
    "duration": -30,
    "start_time": "2021-10-03T12:17:55.202Z"
   },
   {
    "duration": -34,
    "start_time": "2021-10-03T12:17:55.207Z"
   },
   {
    "duration": -38,
    "start_time": "2021-10-03T12:17:55.212Z"
   },
   {
    "duration": -42,
    "start_time": "2021-10-03T12:17:55.217Z"
   },
   {
    "duration": -45,
    "start_time": "2021-10-03T12:17:55.221Z"
   },
   {
    "duration": -50,
    "start_time": "2021-10-03T12:17:55.227Z"
   },
   {
    "duration": -53,
    "start_time": "2021-10-03T12:17:55.231Z"
   },
   {
    "duration": -57,
    "start_time": "2021-10-03T12:17:55.236Z"
   },
   {
    "duration": -61,
    "start_time": "2021-10-03T12:17:55.241Z"
   },
   {
    "duration": -65,
    "start_time": "2021-10-03T12:17:55.246Z"
   },
   {
    "duration": -69,
    "start_time": "2021-10-03T12:17:55.251Z"
   },
   {
    "duration": -73,
    "start_time": "2021-10-03T12:17:55.256Z"
   },
   {
    "duration": -76,
    "start_time": "2021-10-03T12:17:55.260Z"
   },
   {
    "duration": -80,
    "start_time": "2021-10-03T12:17:55.265Z"
   },
   {
    "duration": 8,
    "start_time": "2021-10-03T12:56:04.958Z"
   },
   {
    "duration": 262,
    "start_time": "2021-10-03T12:57:33.153Z"
   },
   {
    "duration": 246,
    "start_time": "2021-10-03T12:57:38.975Z"
   },
   {
    "duration": 264,
    "start_time": "2021-10-03T12:57:48.945Z"
   },
   {
    "duration": 3,
    "start_time": "2021-10-03T12:57:54.480Z"
   },
   {
    "duration": 252,
    "start_time": "2021-10-03T12:57:59.336Z"
   },
   {
    "duration": 9,
    "start_time": "2021-10-03T12:58:05.711Z"
   },
   {
    "duration": 79,
    "start_time": "2021-10-03T12:58:21.758Z"
   },
   {
    "duration": 592,
    "start_time": "2021-10-03T12:58:31.208Z"
   },
   {
    "duration": 684,
    "start_time": "2021-10-03T12:58:46.965Z"
   },
   {
    "duration": 12,
    "start_time": "2021-10-03T12:58:47.651Z"
   },
   {
    "duration": 6,
    "start_time": "2021-10-03T12:58:47.665Z"
   },
   {
    "duration": 6,
    "start_time": "2021-10-03T12:58:47.672Z"
   },
   {
    "duration": 2,
    "start_time": "2021-10-03T12:58:47.680Z"
   },
   {
    "duration": 14,
    "start_time": "2021-10-03T12:58:47.684Z"
   },
   {
    "duration": 21,
    "start_time": "2021-10-03T12:58:47.700Z"
   },
   {
    "duration": 33,
    "start_time": "2021-10-03T12:58:47.723Z"
   },
   {
    "duration": 5,
    "start_time": "2021-10-03T12:58:47.758Z"
   },
   {
    "duration": 5,
    "start_time": "2021-10-03T12:58:47.765Z"
   },
   {
    "duration": 9,
    "start_time": "2021-10-03T12:58:47.771Z"
   },
   {
    "duration": 15,
    "start_time": "2021-10-03T12:58:47.781Z"
   },
   {
    "duration": 3,
    "start_time": "2021-10-03T12:58:47.797Z"
   },
   {
    "duration": 14,
    "start_time": "2021-10-03T12:58:47.801Z"
   },
   {
    "duration": 7,
    "start_time": "2021-10-03T12:58:47.816Z"
   },
   {
    "duration": 24,
    "start_time": "2021-10-03T12:58:47.824Z"
   },
   {
    "duration": 30,
    "start_time": "2021-10-03T12:58:47.850Z"
   },
   {
    "duration": 10,
    "start_time": "2021-10-03T12:58:47.881Z"
   },
   {
    "duration": 6,
    "start_time": "2021-10-03T12:58:47.892Z"
   },
   {
    "duration": 13,
    "start_time": "2021-10-03T12:58:47.899Z"
   },
   {
    "duration": 36,
    "start_time": "2021-10-03T12:58:47.914Z"
   },
   {
    "duration": 14,
    "start_time": "2021-10-03T12:58:47.952Z"
   },
   {
    "duration": 13,
    "start_time": "2021-10-03T12:58:47.970Z"
   },
   {
    "duration": 15,
    "start_time": "2021-10-03T12:58:47.986Z"
   },
   {
    "duration": 14,
    "start_time": "2021-10-03T12:58:48.003Z"
   },
   {
    "duration": 41,
    "start_time": "2021-10-03T12:58:48.018Z"
   },
   {
    "duration": 15,
    "start_time": "2021-10-03T12:58:48.061Z"
   },
   {
    "duration": 15,
    "start_time": "2021-10-03T12:58:48.078Z"
   },
   {
    "duration": 13,
    "start_time": "2021-10-03T12:58:48.094Z"
   },
   {
    "duration": 4,
    "start_time": "2021-10-03T12:58:48.109Z"
   },
   {
    "duration": 44,
    "start_time": "2021-10-03T12:58:48.114Z"
   },
   {
    "duration": 4,
    "start_time": "2021-10-03T12:58:48.160Z"
   },
   {
    "duration": 8,
    "start_time": "2021-10-03T12:58:48.165Z"
   },
   {
    "duration": 13,
    "start_time": "2021-10-03T12:58:48.175Z"
   },
   {
    "duration": 6,
    "start_time": "2021-10-03T12:58:48.189Z"
   },
   {
    "duration": 6,
    "start_time": "2021-10-03T12:58:48.196Z"
   },
   {
    "duration": 6,
    "start_time": "2021-10-03T12:58:48.203Z"
   },
   {
    "duration": 4,
    "start_time": "2021-10-03T12:58:48.211Z"
   },
   {
    "duration": 39,
    "start_time": "2021-10-03T12:58:48.217Z"
   },
   {
    "duration": 3588,
    "start_time": "2021-10-03T12:58:48.257Z"
   },
   {
    "duration": 16,
    "start_time": "2021-10-03T12:58:51.847Z"
   },
   {
    "duration": 3,
    "start_time": "2021-10-03T12:58:51.864Z"
   },
   {
    "duration": 16,
    "start_time": "2021-10-03T12:58:51.868Z"
   },
   {
    "duration": 15,
    "start_time": "2021-10-03T12:58:51.886Z"
   },
   {
    "duration": 5,
    "start_time": "2021-10-03T12:58:51.903Z"
   },
   {
    "duration": 6,
    "start_time": "2021-10-03T12:58:51.909Z"
   },
   {
    "duration": 4,
    "start_time": "2021-10-03T12:58:51.917Z"
   },
   {
    "duration": 5,
    "start_time": "2021-10-03T12:58:51.923Z"
   },
   {
    "duration": 15,
    "start_time": "2021-10-03T12:58:51.929Z"
   },
   {
    "duration": 4,
    "start_time": "2021-10-03T12:58:51.945Z"
   },
   {
    "duration": 17,
    "start_time": "2021-10-03T12:58:51.952Z"
   },
   {
    "duration": 14,
    "start_time": "2021-10-03T12:58:51.970Z"
   },
   {
    "duration": 4,
    "start_time": "2021-10-03T12:58:51.986Z"
   },
   {
    "duration": 22,
    "start_time": "2021-10-03T12:58:51.991Z"
   },
   {
    "duration": 4,
    "start_time": "2021-10-03T12:58:52.014Z"
   },
   {
    "duration": 32,
    "start_time": "2021-10-03T12:58:52.020Z"
   },
   {
    "duration": 311,
    "start_time": "2021-10-03T12:58:52.054Z"
   },
   {
    "duration": -92,
    "start_time": "2021-10-03T12:58:52.459Z"
   },
   {
    "duration": -98,
    "start_time": "2021-10-03T12:58:52.466Z"
   },
   {
    "duration": -105,
    "start_time": "2021-10-03T12:58:52.474Z"
   },
   {
    "duration": -109,
    "start_time": "2021-10-03T12:58:52.479Z"
   },
   {
    "duration": -114,
    "start_time": "2021-10-03T12:58:52.485Z"
   },
   {
    "duration": -119,
    "start_time": "2021-10-03T12:58:52.491Z"
   },
   {
    "duration": -124,
    "start_time": "2021-10-03T12:58:52.496Z"
   },
   {
    "duration": -138,
    "start_time": "2021-10-03T12:58:52.511Z"
   },
   {
    "duration": -143,
    "start_time": "2021-10-03T12:58:52.517Z"
   },
   {
    "duration": -148,
    "start_time": "2021-10-03T12:58:52.523Z"
   },
   {
    "duration": -152,
    "start_time": "2021-10-03T12:58:52.528Z"
   },
   {
    "duration": -156,
    "start_time": "2021-10-03T12:58:52.533Z"
   },
   {
    "duration": -161,
    "start_time": "2021-10-03T12:58:52.539Z"
   },
   {
    "duration": -164,
    "start_time": "2021-10-03T12:58:52.543Z"
   },
   {
    "duration": -169,
    "start_time": "2021-10-03T12:58:52.549Z"
   },
   {
    "duration": -173,
    "start_time": "2021-10-03T12:58:52.554Z"
   },
   {
    "duration": -178,
    "start_time": "2021-10-03T12:58:52.559Z"
   },
   {
    "duration": -181,
    "start_time": "2021-10-03T12:58:52.563Z"
   },
   {
    "duration": -186,
    "start_time": "2021-10-03T12:58:52.569Z"
   },
   {
    "duration": -188,
    "start_time": "2021-10-03T12:58:52.573Z"
   },
   {
    "duration": 8,
    "start_time": "2021-10-03T13:01:20.027Z"
   },
   {
    "duration": 36,
    "start_time": "2021-10-03T13:08:00.159Z"
   },
   {
    "duration": 8,
    "start_time": "2021-10-03T13:08:12.025Z"
   },
   {
    "duration": 269,
    "start_time": "2021-10-03T13:09:08.383Z"
   },
   {
    "duration": 269,
    "start_time": "2021-10-03T13:11:21.915Z"
   },
   {
    "duration": 6,
    "start_time": "2021-10-03T13:11:57.987Z"
   },
   {
    "duration": 4,
    "start_time": "2021-10-03T13:12:04.794Z"
   },
   {
    "duration": 8,
    "start_time": "2021-10-03T13:12:08.754Z"
   },
   {
    "duration": 36,
    "start_time": "2021-10-03T13:12:20.715Z"
   },
   {
    "duration": 7,
    "start_time": "2021-10-03T13:12:22.163Z"
   },
   {
    "duration": 7,
    "start_time": "2021-10-03T13:12:26.707Z"
   },
   {
    "duration": 8,
    "start_time": "2021-10-03T13:12:34.091Z"
   },
   {
    "duration": 4,
    "start_time": "2021-10-03T13:12:45.667Z"
   },
   {
    "duration": 3,
    "start_time": "2021-10-03T13:12:50.524Z"
   },
   {
    "duration": 6,
    "start_time": "2021-10-03T13:12:51.299Z"
   },
   {
    "duration": 7,
    "start_time": "2021-10-03T13:12:52.173Z"
   },
   {
    "duration": 4,
    "start_time": "2021-10-03T13:14:42.777Z"
   },
   {
    "duration": 7,
    "start_time": "2021-10-03T13:14:45.470Z"
   },
   {
    "duration": 8,
    "start_time": "2021-10-03T13:14:46.869Z"
   },
   {
    "duration": 735,
    "start_time": "2021-10-03T13:14:54.029Z"
   },
   {
    "duration": 9,
    "start_time": "2021-10-03T13:14:54.766Z"
   },
   {
    "duration": 7,
    "start_time": "2021-10-03T13:14:54.777Z"
   },
   {
    "duration": 6,
    "start_time": "2021-10-03T13:14:54.785Z"
   },
   {
    "duration": 2,
    "start_time": "2021-10-03T13:14:54.793Z"
   },
   {
    "duration": 4,
    "start_time": "2021-10-03T13:14:54.797Z"
   },
   {
    "duration": 46,
    "start_time": "2021-10-03T13:14:54.803Z"
   },
   {
    "duration": 14,
    "start_time": "2021-10-03T13:14:54.853Z"
   },
   {
    "duration": 6,
    "start_time": "2021-10-03T13:14:54.869Z"
   },
   {
    "duration": 6,
    "start_time": "2021-10-03T13:14:54.876Z"
   },
   {
    "duration": 9,
    "start_time": "2021-10-03T13:14:54.883Z"
   },
   {
    "duration": 14,
    "start_time": "2021-10-03T13:14:54.893Z"
   },
   {
    "duration": 6,
    "start_time": "2021-10-03T13:14:54.908Z"
   },
   {
    "duration": 30,
    "start_time": "2021-10-03T13:14:54.915Z"
   },
   {
    "duration": 8,
    "start_time": "2021-10-03T13:14:54.949Z"
   },
   {
    "duration": 6,
    "start_time": "2021-10-03T13:14:54.959Z"
   },
   {
    "duration": 40,
    "start_time": "2021-10-03T13:14:54.966Z"
   },
   {
    "duration": 8,
    "start_time": "2021-10-03T13:14:55.007Z"
   },
   {
    "duration": 14,
    "start_time": "2021-10-03T13:14:55.017Z"
   },
   {
    "duration": 18,
    "start_time": "2021-10-03T13:14:55.032Z"
   },
   {
    "duration": 8,
    "start_time": "2021-10-03T13:14:55.052Z"
   },
   {
    "duration": 24,
    "start_time": "2021-10-03T13:14:55.062Z"
   },
   {
    "duration": 13,
    "start_time": "2021-10-03T13:14:55.090Z"
   },
   {
    "duration": 16,
    "start_time": "2021-10-03T13:14:55.106Z"
   },
   {
    "duration": 26,
    "start_time": "2021-10-03T13:14:55.124Z"
   },
   {
    "duration": 15,
    "start_time": "2021-10-03T13:14:55.152Z"
   },
   {
    "duration": 20,
    "start_time": "2021-10-03T13:14:55.169Z"
   },
   {
    "duration": 16,
    "start_time": "2021-10-03T13:14:55.191Z"
   },
   {
    "duration": 13,
    "start_time": "2021-10-03T13:14:55.209Z"
   },
   {
    "duration": 24,
    "start_time": "2021-10-03T13:14:55.223Z"
   },
   {
    "duration": 15,
    "start_time": "2021-10-03T13:14:55.249Z"
   },
   {
    "duration": 11,
    "start_time": "2021-10-03T13:14:55.265Z"
   },
   {
    "duration": 13,
    "start_time": "2021-10-03T13:14:55.278Z"
   },
   {
    "duration": 22,
    "start_time": "2021-10-03T13:14:55.293Z"
   },
   {
    "duration": 17,
    "start_time": "2021-10-03T13:14:55.317Z"
   },
   {
    "duration": 17,
    "start_time": "2021-10-03T13:14:55.336Z"
   },
   {
    "duration": 6,
    "start_time": "2021-10-03T13:14:55.356Z"
   },
   {
    "duration": 5,
    "start_time": "2021-10-03T13:14:55.364Z"
   },
   {
    "duration": 3,
    "start_time": "2021-10-03T13:14:55.371Z"
   },
   {
    "duration": 3624,
    "start_time": "2021-10-03T13:14:55.376Z"
   },
   {
    "duration": 11,
    "start_time": "2021-10-03T13:14:59.002Z"
   },
   {
    "duration": 5,
    "start_time": "2021-10-03T13:14:59.015Z"
   },
   {
    "duration": 11,
    "start_time": "2021-10-03T13:14:59.021Z"
   },
   {
    "duration": 20,
    "start_time": "2021-10-03T13:14:59.033Z"
   },
   {
    "duration": 5,
    "start_time": "2021-10-03T13:14:59.055Z"
   },
   {
    "duration": 6,
    "start_time": "2021-10-03T13:14:59.062Z"
   },
   {
    "duration": 10,
    "start_time": "2021-10-03T13:14:59.069Z"
   },
   {
    "duration": 6,
    "start_time": "2021-10-03T13:14:59.080Z"
   },
   {
    "duration": 5,
    "start_time": "2021-10-03T13:14:59.087Z"
   },
   {
    "duration": 5,
    "start_time": "2021-10-03T13:14:59.094Z"
   },
   {
    "duration": 14,
    "start_time": "2021-10-03T13:14:59.100Z"
   },
   {
    "duration": 13,
    "start_time": "2021-10-03T13:14:59.115Z"
   },
   {
    "duration": 4,
    "start_time": "2021-10-03T13:14:59.130Z"
   },
   {
    "duration": 21,
    "start_time": "2021-10-03T13:14:59.144Z"
   },
   {
    "duration": 3,
    "start_time": "2021-10-03T13:14:59.167Z"
   },
   {
    "duration": 10,
    "start_time": "2021-10-03T13:14:59.172Z"
   },
   {
    "duration": 8,
    "start_time": "2021-10-03T13:14:59.184Z"
   },
   {
    "duration": 33,
    "start_time": "2021-10-03T13:14:59.194Z"
   },
   {
    "duration": 19,
    "start_time": "2021-10-03T13:14:59.229Z"
   },
   {
    "duration": 13,
    "start_time": "2021-10-03T13:14:59.250Z"
   },
   {
    "duration": 13,
    "start_time": "2021-10-03T13:14:59.265Z"
   },
   {
    "duration": 347,
    "start_time": "2021-10-03T13:14:59.280Z"
   },
   {
    "duration": -359,
    "start_time": "2021-10-03T13:14:59.989Z"
   },
   {
    "duration": -364,
    "start_time": "2021-10-03T13:14:59.995Z"
   },
   {
    "duration": -367,
    "start_time": "2021-10-03T13:15:00.000Z"
   },
   {
    "duration": -374,
    "start_time": "2021-10-03T13:15:00.008Z"
   },
   {
    "duration": -379,
    "start_time": "2021-10-03T13:15:00.015Z"
   },
   {
    "duration": -384,
    "start_time": "2021-10-03T13:15:00.021Z"
   },
   {
    "duration": -387,
    "start_time": "2021-10-03T13:15:00.025Z"
   },
   {
    "duration": -391,
    "start_time": "2021-10-03T13:15:00.031Z"
   },
   {
    "duration": -414,
    "start_time": "2021-10-03T13:15:00.055Z"
   },
   {
    "duration": -420,
    "start_time": "2021-10-03T13:15:00.063Z"
   },
   {
    "duration": -427,
    "start_time": "2021-10-03T13:15:00.071Z"
   },
   {
    "duration": -431,
    "start_time": "2021-10-03T13:15:00.078Z"
   },
   {
    "duration": -434,
    "start_time": "2021-10-03T13:15:00.083Z"
   },
   {
    "duration": -436,
    "start_time": "2021-10-03T13:15:00.088Z"
   },
   {
    "duration": -439,
    "start_time": "2021-10-03T13:15:00.093Z"
   },
   {
    "duration": -441,
    "start_time": "2021-10-03T13:15:00.098Z"
   },
   {
    "duration": -463,
    "start_time": "2021-10-03T13:15:00.122Z"
   },
   {
    "duration": -468,
    "start_time": "2021-10-03T13:15:00.128Z"
   },
   {
    "duration": -470,
    "start_time": "2021-10-03T13:15:00.132Z"
   },
   {
    "duration": -485,
    "start_time": "2021-10-03T13:15:00.148Z"
   },
   {
    "duration": 675,
    "start_time": "2021-10-03T13:16:11.218Z"
   },
   {
    "duration": 10,
    "start_time": "2021-10-03T13:16:11.895Z"
   },
   {
    "duration": 5,
    "start_time": "2021-10-03T13:16:11.908Z"
   },
   {
    "duration": 8,
    "start_time": "2021-10-03T13:16:11.915Z"
   },
   {
    "duration": 23,
    "start_time": "2021-10-03T13:16:11.925Z"
   },
   {
    "duration": 9,
    "start_time": "2021-10-03T13:16:11.950Z"
   },
   {
    "duration": 15,
    "start_time": "2021-10-03T13:16:11.961Z"
   },
   {
    "duration": 14,
    "start_time": "2021-10-03T13:16:11.979Z"
   },
   {
    "duration": 5,
    "start_time": "2021-10-03T13:16:11.995Z"
   },
   {
    "duration": 4,
    "start_time": "2021-10-03T13:16:12.002Z"
   },
   {
    "duration": 8,
    "start_time": "2021-10-03T13:16:12.007Z"
   },
   {
    "duration": 32,
    "start_time": "2021-10-03T13:16:12.017Z"
   },
   {
    "duration": 4,
    "start_time": "2021-10-03T13:16:12.051Z"
   },
   {
    "duration": 17,
    "start_time": "2021-10-03T13:16:12.057Z"
   },
   {
    "duration": 7,
    "start_time": "2021-10-03T13:16:12.076Z"
   },
   {
    "duration": 5,
    "start_time": "2021-10-03T13:16:12.085Z"
   },
   {
    "duration": 56,
    "start_time": "2021-10-03T13:16:12.092Z"
   },
   {
    "duration": 14,
    "start_time": "2021-10-03T13:16:12.150Z"
   },
   {
    "duration": 4,
    "start_time": "2021-10-03T13:16:12.166Z"
   },
   {
    "duration": 13,
    "start_time": "2021-10-03T13:16:12.172Z"
   },
   {
    "duration": 4,
    "start_time": "2021-10-03T13:16:12.187Z"
   },
   {
    "duration": 17,
    "start_time": "2021-10-03T13:16:12.193Z"
   },
   {
    "duration": 47,
    "start_time": "2021-10-03T13:16:12.214Z"
   },
   {
    "duration": 17,
    "start_time": "2021-10-03T13:16:12.263Z"
   },
   {
    "duration": 14,
    "start_time": "2021-10-03T13:16:12.282Z"
   },
   {
    "duration": 11,
    "start_time": "2021-10-03T13:16:12.298Z"
   },
   {
    "duration": 51,
    "start_time": "2021-10-03T13:16:12.310Z"
   },
   {
    "duration": 16,
    "start_time": "2021-10-03T13:16:12.363Z"
   },
   {
    "duration": 14,
    "start_time": "2021-10-03T13:16:12.381Z"
   },
   {
    "duration": 4,
    "start_time": "2021-10-03T13:16:12.397Z"
   },
   {
    "duration": 12,
    "start_time": "2021-10-03T13:16:12.403Z"
   },
   {
    "duration": 8,
    "start_time": "2021-10-03T13:16:12.417Z"
   },
   {
    "duration": 30,
    "start_time": "2021-10-03T13:16:12.426Z"
   },
   {
    "duration": 11,
    "start_time": "2021-10-03T13:16:12.458Z"
   },
   {
    "duration": 27,
    "start_time": "2021-10-03T13:16:12.470Z"
   },
   {
    "duration": 7,
    "start_time": "2021-10-03T13:16:12.500Z"
   },
   {
    "duration": 8,
    "start_time": "2021-10-03T13:16:12.508Z"
   },
   {
    "duration": 8,
    "start_time": "2021-10-03T13:16:12.518Z"
   },
   {
    "duration": 4,
    "start_time": "2021-10-03T13:16:12.527Z"
   },
   {
    "duration": 3765,
    "start_time": "2021-10-03T13:16:12.532Z"
   },
   {
    "duration": 13,
    "start_time": "2021-10-03T13:16:16.299Z"
   },
   {
    "duration": 9,
    "start_time": "2021-10-03T13:16:16.313Z"
   },
   {
    "duration": 10,
    "start_time": "2021-10-03T13:16:16.323Z"
   },
   {
    "duration": 27,
    "start_time": "2021-10-03T13:16:16.334Z"
   },
   {
    "duration": 5,
    "start_time": "2021-10-03T13:16:16.362Z"
   },
   {
    "duration": 6,
    "start_time": "2021-10-03T13:16:16.368Z"
   },
   {
    "duration": 4,
    "start_time": "2021-10-03T13:16:16.376Z"
   },
   {
    "duration": 7,
    "start_time": "2021-10-03T13:16:16.382Z"
   },
   {
    "duration": 5,
    "start_time": "2021-10-03T13:16:16.390Z"
   },
   {
    "duration": 9,
    "start_time": "2021-10-03T13:16:16.396Z"
   },
   {
    "duration": 14,
    "start_time": "2021-10-03T13:16:16.406Z"
   },
   {
    "duration": 12,
    "start_time": "2021-10-03T13:16:16.421Z"
   },
   {
    "duration": 15,
    "start_time": "2021-10-03T13:16:16.434Z"
   },
   {
    "duration": 23,
    "start_time": "2021-10-03T13:16:16.451Z"
   },
   {
    "duration": 4,
    "start_time": "2021-10-03T13:16:16.476Z"
   },
   {
    "duration": 11,
    "start_time": "2021-10-03T13:16:16.481Z"
   },
   {
    "duration": 10,
    "start_time": "2021-10-03T13:16:16.494Z"
   },
   {
    "duration": 45,
    "start_time": "2021-10-03T13:16:16.506Z"
   },
   {
    "duration": 6,
    "start_time": "2021-10-03T13:16:16.554Z"
   },
   {
    "duration": 14,
    "start_time": "2021-10-03T13:16:16.562Z"
   },
   {
    "duration": 11,
    "start_time": "2021-10-03T13:16:16.578Z"
   },
   {
    "duration": 318,
    "start_time": "2021-10-03T13:16:16.590Z"
   },
   {
    "duration": -242,
    "start_time": "2021-10-03T13:16:17.153Z"
   },
   {
    "duration": -247,
    "start_time": "2021-10-03T13:16:17.159Z"
   },
   {
    "duration": -251,
    "start_time": "2021-10-03T13:16:17.164Z"
   },
   {
    "duration": -281,
    "start_time": "2021-10-03T13:16:17.195Z"
   },
   {
    "duration": -288,
    "start_time": "2021-10-03T13:16:17.203Z"
   },
   {
    "duration": -294,
    "start_time": "2021-10-03T13:16:17.209Z"
   },
   {
    "duration": -300,
    "start_time": "2021-10-03T13:16:17.216Z"
   },
   {
    "duration": -305,
    "start_time": "2021-10-03T13:16:17.222Z"
   },
   {
    "duration": -309,
    "start_time": "2021-10-03T13:16:17.227Z"
   },
   {
    "duration": -314,
    "start_time": "2021-10-03T13:16:17.233Z"
   },
   {
    "duration": -318,
    "start_time": "2021-10-03T13:16:17.238Z"
   },
   {
    "duration": -323,
    "start_time": "2021-10-03T13:16:17.244Z"
   },
   {
    "duration": -333,
    "start_time": "2021-10-03T13:16:17.255Z"
   },
   {
    "duration": -338,
    "start_time": "2021-10-03T13:16:17.261Z"
   },
   {
    "duration": -343,
    "start_time": "2021-10-03T13:16:17.267Z"
   },
   {
    "duration": -347,
    "start_time": "2021-10-03T13:16:17.272Z"
   },
   {
    "duration": -351,
    "start_time": "2021-10-03T13:16:17.277Z"
   },
   {
    "duration": -356,
    "start_time": "2021-10-03T13:16:17.283Z"
   },
   {
    "duration": -360,
    "start_time": "2021-10-03T13:16:17.288Z"
   },
   {
    "duration": -376,
    "start_time": "2021-10-03T13:16:17.305Z"
   },
   {
    "duration": 33,
    "start_time": "2021-10-03T13:19:57.552Z"
   },
   {
    "duration": 4,
    "start_time": "2021-10-03T13:20:12.896Z"
   },
   {
    "duration": 7,
    "start_time": "2021-10-03T13:21:17.409Z"
   },
   {
    "duration": 86,
    "start_time": "2021-10-03T13:22:24.786Z"
   },
   {
    "duration": 4,
    "start_time": "2021-10-03T13:25:03.444Z"
   },
   {
    "duration": 11,
    "start_time": "2021-10-03T13:27:58.232Z"
   },
   {
    "duration": 4,
    "start_time": "2021-10-03T13:28:33.359Z"
   },
   {
    "duration": 4,
    "start_time": "2021-10-03T13:29:13.054Z"
   },
   {
    "duration": 6,
    "start_time": "2021-10-03T13:29:41.136Z"
   },
   {
    "duration": 8,
    "start_time": "2021-10-03T13:29:59.153Z"
   },
   {
    "duration": 47,
    "start_time": "2021-10-03T13:31:58.722Z"
   },
   {
    "duration": 4,
    "start_time": "2021-10-03T13:32:21.163Z"
   },
   {
    "duration": 6,
    "start_time": "2021-10-03T13:33:25.708Z"
   },
   {
    "duration": 7,
    "start_time": "2021-10-03T13:33:41.027Z"
   },
   {
    "duration": 259,
    "start_time": "2021-10-03T13:34:00.771Z"
   },
   {
    "duration": 10,
    "start_time": "2021-10-03T13:34:06.995Z"
   },
   {
    "duration": 9,
    "start_time": "2021-10-03T14:30:16.928Z"
   },
   {
    "duration": 4,
    "start_time": "2021-10-03T14:30:47.529Z"
   },
   {
    "duration": 4,
    "start_time": "2021-10-03T14:31:30.737Z"
   },
   {
    "duration": 7,
    "start_time": "2021-10-03T14:32:07.150Z"
   },
   {
    "duration": 323,
    "start_time": "2021-10-03T14:32:18.595Z"
   },
   {
    "duration": 9,
    "start_time": "2021-10-03T14:32:23.269Z"
   },
   {
    "duration": 252,
    "start_time": "2021-10-03T14:38:22.599Z"
   },
   {
    "duration": 7,
    "start_time": "2021-10-03T14:40:15.345Z"
   },
   {
    "duration": 412,
    "start_time": "2021-10-03T14:40:36.818Z"
   },
   {
    "duration": 669,
    "start_time": "2021-10-03T14:40:44.310Z"
   },
   {
    "duration": 10,
    "start_time": "2021-10-03T14:40:44.981Z"
   },
   {
    "duration": 17,
    "start_time": "2021-10-03T14:40:44.993Z"
   },
   {
    "duration": 20,
    "start_time": "2021-10-03T14:40:45.012Z"
   },
   {
    "duration": 11,
    "start_time": "2021-10-03T14:40:45.034Z"
   },
   {
    "duration": 23,
    "start_time": "2021-10-03T14:40:45.046Z"
   },
   {
    "duration": 37,
    "start_time": "2021-10-03T14:40:45.070Z"
   },
   {
    "duration": 25,
    "start_time": "2021-10-03T14:40:45.110Z"
   },
   {
    "duration": 12,
    "start_time": "2021-10-03T14:40:45.136Z"
   },
   {
    "duration": 20,
    "start_time": "2021-10-03T14:40:45.149Z"
   },
   {
    "duration": 19,
    "start_time": "2021-10-03T14:40:45.171Z"
   },
   {
    "duration": 29,
    "start_time": "2021-10-03T14:40:45.191Z"
   },
   {
    "duration": 10,
    "start_time": "2021-10-03T14:40:45.222Z"
   },
   {
    "duration": 25,
    "start_time": "2021-10-03T14:40:45.234Z"
   },
   {
    "duration": 19,
    "start_time": "2021-10-03T14:40:45.260Z"
   },
   {
    "duration": 16,
    "start_time": "2021-10-03T14:40:45.281Z"
   },
   {
    "duration": 43,
    "start_time": "2021-10-03T14:40:45.299Z"
   },
   {
    "duration": 8,
    "start_time": "2021-10-03T14:40:45.344Z"
   },
   {
    "duration": 16,
    "start_time": "2021-10-03T14:40:45.353Z"
   },
   {
    "duration": 25,
    "start_time": "2021-10-03T14:40:45.370Z"
   },
   {
    "duration": 4,
    "start_time": "2021-10-03T14:40:45.397Z"
   },
   {
    "duration": 28,
    "start_time": "2021-10-03T14:40:45.402Z"
   },
   {
    "duration": 30,
    "start_time": "2021-10-03T14:40:45.435Z"
   },
   {
    "duration": 15,
    "start_time": "2021-10-03T14:40:45.468Z"
   },
   {
    "duration": 15,
    "start_time": "2021-10-03T14:40:45.484Z"
   },
   {
    "duration": 11,
    "start_time": "2021-10-03T14:40:45.500Z"
   },
   {
    "duration": 25,
    "start_time": "2021-10-03T14:40:45.512Z"
   },
   {
    "duration": 16,
    "start_time": "2021-10-03T14:40:45.545Z"
   },
   {
    "duration": 20,
    "start_time": "2021-10-03T14:40:45.562Z"
   },
   {
    "duration": 17,
    "start_time": "2021-10-03T14:40:45.584Z"
   },
   {
    "duration": 40,
    "start_time": "2021-10-03T14:40:45.603Z"
   },
   {
    "duration": 11,
    "start_time": "2021-10-03T14:40:45.645Z"
   },
   {
    "duration": 28,
    "start_time": "2021-10-03T14:40:45.657Z"
   },
   {
    "duration": 23,
    "start_time": "2021-10-03T14:40:45.687Z"
   },
   {
    "duration": 21,
    "start_time": "2021-10-03T14:40:45.712Z"
   },
   {
    "duration": 18,
    "start_time": "2021-10-03T14:40:45.735Z"
   },
   {
    "duration": 25,
    "start_time": "2021-10-03T14:40:45.755Z"
   },
   {
    "duration": 17,
    "start_time": "2021-10-03T14:40:45.781Z"
   },
   {
    "duration": 11,
    "start_time": "2021-10-03T14:40:45.799Z"
   },
   {
    "duration": 3521,
    "start_time": "2021-10-03T14:40:45.812Z"
   },
   {
    "duration": 13,
    "start_time": "2021-10-03T14:40:49.344Z"
   },
   {
    "duration": 14,
    "start_time": "2021-10-03T14:40:49.359Z"
   },
   {
    "duration": 28,
    "start_time": "2021-10-03T14:40:49.375Z"
   },
   {
    "duration": 25,
    "start_time": "2021-10-03T14:40:49.404Z"
   },
   {
    "duration": 18,
    "start_time": "2021-10-03T14:40:49.430Z"
   },
   {
    "duration": 17,
    "start_time": "2021-10-03T14:40:49.450Z"
   },
   {
    "duration": 12,
    "start_time": "2021-10-03T14:40:49.469Z"
   },
   {
    "duration": 30,
    "start_time": "2021-10-03T14:40:49.483Z"
   },
   {
    "duration": 17,
    "start_time": "2021-10-03T14:40:49.515Z"
   },
   {
    "duration": 19,
    "start_time": "2021-10-03T14:40:49.534Z"
   },
   {
    "duration": 25,
    "start_time": "2021-10-03T14:40:49.555Z"
   },
   {
    "duration": 21,
    "start_time": "2021-10-03T14:40:49.582Z"
   },
   {
    "duration": 21,
    "start_time": "2021-10-03T14:40:49.605Z"
   },
   {
    "duration": 37,
    "start_time": "2021-10-03T14:40:49.628Z"
   },
   {
    "duration": 4,
    "start_time": "2021-10-03T14:40:49.666Z"
   },
   {
    "duration": 6,
    "start_time": "2021-10-03T14:40:49.672Z"
   },
   {
    "duration": 14,
    "start_time": "2021-10-03T14:40:49.680Z"
   },
   {
    "duration": 38,
    "start_time": "2021-10-03T14:40:49.695Z"
   },
   {
    "duration": 4,
    "start_time": "2021-10-03T14:40:49.735Z"
   },
   {
    "duration": 7,
    "start_time": "2021-10-03T14:40:49.745Z"
   },
   {
    "duration": 9,
    "start_time": "2021-10-03T14:40:49.754Z"
   },
   {
    "duration": 14,
    "start_time": "2021-10-03T14:40:49.765Z"
   },
   {
    "duration": 6,
    "start_time": "2021-10-03T14:40:49.781Z"
   },
   {
    "duration": 6,
    "start_time": "2021-10-03T14:40:49.789Z"
   },
   {
    "duration": 13,
    "start_time": "2021-10-03T14:40:49.797Z"
   },
   {
    "duration": 63,
    "start_time": "2021-10-03T14:40:49.812Z"
   },
   {
    "duration": 4,
    "start_time": "2021-10-03T14:40:49.877Z"
   },
   {
    "duration": 12,
    "start_time": "2021-10-03T14:40:49.886Z"
   },
   {
    "duration": 11,
    "start_time": "2021-10-03T14:40:49.900Z"
   },
   {
    "duration": 10,
    "start_time": "2021-10-03T14:40:49.913Z"
   },
   {
    "duration": 388,
    "start_time": "2021-10-03T14:40:49.925Z"
   },
   {
    "duration": -49,
    "start_time": "2021-10-03T14:40:50.364Z"
   },
   {
    "duration": -54,
    "start_time": "2021-10-03T14:40:50.370Z"
   },
   {
    "duration": -59,
    "start_time": "2021-10-03T14:40:50.376Z"
   },
   {
    "duration": -63,
    "start_time": "2021-10-03T14:40:50.381Z"
   },
   {
    "duration": -68,
    "start_time": "2021-10-03T14:40:50.386Z"
   },
   {
    "duration": -73,
    "start_time": "2021-10-03T14:40:50.392Z"
   },
   {
    "duration": -77,
    "start_time": "2021-10-03T14:40:50.397Z"
   },
   {
    "duration": -82,
    "start_time": "2021-10-03T14:40:50.403Z"
   },
   {
    "duration": -87,
    "start_time": "2021-10-03T14:40:50.409Z"
   },
   {
    "duration": -91,
    "start_time": "2021-10-03T14:40:50.414Z"
   },
   {
    "duration": -96,
    "start_time": "2021-10-03T14:40:50.419Z"
   },
   {
    "duration": -101,
    "start_time": "2021-10-03T14:40:50.425Z"
   },
   {
    "duration": -105,
    "start_time": "2021-10-03T14:40:50.430Z"
   },
   {
    "duration": -120,
    "start_time": "2021-10-03T14:40:50.446Z"
   },
   {
    "duration": 4,
    "start_time": "2021-10-03T14:42:45.505Z"
   },
   {
    "duration": 5,
    "start_time": "2021-10-03T14:42:57.234Z"
   },
   {
    "duration": 4,
    "start_time": "2021-10-03T14:43:32.491Z"
   },
   {
    "duration": 5,
    "start_time": "2021-10-03T14:43:33.731Z"
   },
   {
    "duration": 6,
    "start_time": "2021-10-03T14:43:45.189Z"
   },
   {
    "duration": 681,
    "start_time": "2021-10-03T14:46:32.226Z"
   },
   {
    "duration": 10,
    "start_time": "2021-10-03T14:46:32.909Z"
   },
   {
    "duration": 20,
    "start_time": "2021-10-03T14:46:32.921Z"
   },
   {
    "duration": 27,
    "start_time": "2021-10-03T14:46:32.943Z"
   },
   {
    "duration": 7,
    "start_time": "2021-10-03T14:46:32.972Z"
   },
   {
    "duration": 23,
    "start_time": "2021-10-03T14:46:32.980Z"
   },
   {
    "duration": 31,
    "start_time": "2021-10-03T14:46:33.004Z"
   },
   {
    "duration": 18,
    "start_time": "2021-10-03T14:46:33.037Z"
   },
   {
    "duration": 17,
    "start_time": "2021-10-03T14:46:33.057Z"
   },
   {
    "duration": 19,
    "start_time": "2021-10-03T14:46:33.075Z"
   },
   {
    "duration": 26,
    "start_time": "2021-10-03T14:46:33.095Z"
   },
   {
    "duration": 21,
    "start_time": "2021-10-03T14:46:33.122Z"
   },
   {
    "duration": 6,
    "start_time": "2021-10-03T14:46:33.144Z"
   },
   {
    "duration": 29,
    "start_time": "2021-10-03T14:46:33.152Z"
   },
   {
    "duration": 22,
    "start_time": "2021-10-03T14:46:33.182Z"
   },
   {
    "duration": 18,
    "start_time": "2021-10-03T14:46:33.206Z"
   },
   {
    "duration": 31,
    "start_time": "2021-10-03T14:46:33.226Z"
   },
   {
    "duration": 8,
    "start_time": "2021-10-03T14:46:33.258Z"
   },
   {
    "duration": 20,
    "start_time": "2021-10-03T14:46:33.268Z"
   },
   {
    "duration": 25,
    "start_time": "2021-10-03T14:46:33.290Z"
   },
   {
    "duration": 3,
    "start_time": "2021-10-03T14:46:33.317Z"
   },
   {
    "duration": 19,
    "start_time": "2021-10-03T14:46:33.321Z"
   },
   {
    "duration": 14,
    "start_time": "2021-10-03T14:46:33.344Z"
   },
   {
    "duration": 23,
    "start_time": "2021-10-03T14:46:33.360Z"
   },
   {
    "duration": 14,
    "start_time": "2021-10-03T14:46:33.385Z"
   },
   {
    "duration": 10,
    "start_time": "2021-10-03T14:46:33.400Z"
   },
   {
    "duration": 34,
    "start_time": "2021-10-03T14:46:33.412Z"
   },
   {
    "duration": 16,
    "start_time": "2021-10-03T14:46:33.448Z"
   },
   {
    "duration": 15,
    "start_time": "2021-10-03T14:46:33.466Z"
   },
   {
    "duration": 5,
    "start_time": "2021-10-03T14:46:33.482Z"
   },
   {
    "duration": 18,
    "start_time": "2021-10-03T14:46:33.488Z"
   },
   {
    "duration": 15,
    "start_time": "2021-10-03T14:46:33.508Z"
   },
   {
    "duration": 20,
    "start_time": "2021-10-03T14:46:33.525Z"
   },
   {
    "duration": 32,
    "start_time": "2021-10-03T14:46:33.547Z"
   },
   {
    "duration": 10,
    "start_time": "2021-10-03T14:46:33.581Z"
   },
   {
    "duration": 23,
    "start_time": "2021-10-03T14:46:33.594Z"
   },
   {
    "duration": 15,
    "start_time": "2021-10-03T14:46:33.619Z"
   },
   {
    "duration": 10,
    "start_time": "2021-10-03T14:46:33.635Z"
   },
   {
    "duration": 11,
    "start_time": "2021-10-03T14:46:33.646Z"
   },
   {
    "duration": 3397,
    "start_time": "2021-10-03T14:46:33.658Z"
   },
   {
    "duration": 11,
    "start_time": "2021-10-03T14:46:37.057Z"
   },
   {
    "duration": 21,
    "start_time": "2021-10-03T14:46:37.070Z"
   },
   {
    "duration": 23,
    "start_time": "2021-10-03T14:46:37.092Z"
   },
   {
    "duration": 25,
    "start_time": "2021-10-03T14:46:37.117Z"
   },
   {
    "duration": 20,
    "start_time": "2021-10-03T14:46:37.143Z"
   },
   {
    "duration": 15,
    "start_time": "2021-10-03T14:46:37.165Z"
   },
   {
    "duration": 19,
    "start_time": "2021-10-03T14:46:37.181Z"
   },
   {
    "duration": 26,
    "start_time": "2021-10-03T14:46:37.201Z"
   },
   {
    "duration": 24,
    "start_time": "2021-10-03T14:46:37.228Z"
   },
   {
    "duration": 24,
    "start_time": "2021-10-03T14:46:37.254Z"
   },
   {
    "duration": 39,
    "start_time": "2021-10-03T14:46:37.279Z"
   },
   {
    "duration": 27,
    "start_time": "2021-10-03T14:46:37.320Z"
   },
   {
    "duration": 11,
    "start_time": "2021-10-03T14:46:37.348Z"
   },
   {
    "duration": 37,
    "start_time": "2021-10-03T14:46:37.361Z"
   },
   {
    "duration": 8,
    "start_time": "2021-10-03T14:46:37.399Z"
   },
   {
    "duration": 20,
    "start_time": "2021-10-03T14:46:37.409Z"
   },
   {
    "duration": 24,
    "start_time": "2021-10-03T14:46:37.431Z"
   },
   {
    "duration": 43,
    "start_time": "2021-10-03T14:46:37.457Z"
   },
   {
    "duration": 3,
    "start_time": "2021-10-03T14:46:37.502Z"
   },
   {
    "duration": 10,
    "start_time": "2021-10-03T14:46:37.506Z"
   },
   {
    "duration": 11,
    "start_time": "2021-10-03T14:46:37.517Z"
   },
   {
    "duration": 25,
    "start_time": "2021-10-03T14:46:37.529Z"
   },
   {
    "duration": 14,
    "start_time": "2021-10-03T14:46:37.555Z"
   },
   {
    "duration": 21,
    "start_time": "2021-10-03T14:46:37.570Z"
   },
   {
    "duration": 22,
    "start_time": "2021-10-03T14:46:37.593Z"
   },
   {
    "duration": 43,
    "start_time": "2021-10-03T14:46:37.616Z"
   },
   {
    "duration": 3,
    "start_time": "2021-10-03T14:46:37.661Z"
   },
   {
    "duration": 23,
    "start_time": "2021-10-03T14:46:37.669Z"
   },
   {
    "duration": 18,
    "start_time": "2021-10-03T14:46:37.694Z"
   },
   {
    "duration": 17,
    "start_time": "2021-10-03T14:46:37.714Z"
   },
   {
    "duration": 21,
    "start_time": "2021-10-03T14:46:37.733Z"
   },
   {
    "duration": 25,
    "start_time": "2021-10-03T14:46:37.756Z"
   },
   {
    "duration": 27,
    "start_time": "2021-10-03T14:46:37.782Z"
   },
   {
    "duration": 16,
    "start_time": "2021-10-03T14:46:37.811Z"
   },
   {
    "duration": 41,
    "start_time": "2021-10-03T14:46:37.829Z"
   },
   {
    "duration": 336,
    "start_time": "2021-10-03T14:46:37.871Z"
   },
   {
    "duration": -232,
    "start_time": "2021-10-03T14:46:38.441Z"
   },
   {
    "duration": -255,
    "start_time": "2021-10-03T14:46:38.465Z"
   },
   {
    "duration": -260,
    "start_time": "2021-10-03T14:46:38.471Z"
   },
   {
    "duration": -269,
    "start_time": "2021-10-03T14:46:38.481Z"
   },
   {
    "duration": -273,
    "start_time": "2021-10-03T14:46:38.486Z"
   },
   {
    "duration": -288,
    "start_time": "2021-10-03T14:46:38.502Z"
   },
   {
    "duration": -293,
    "start_time": "2021-10-03T14:46:38.508Z"
   },
   {
    "duration": -298,
    "start_time": "2021-10-03T14:46:38.514Z"
   },
   {
    "duration": -304,
    "start_time": "2021-10-03T14:46:38.520Z"
   },
   {
    "duration": -308,
    "start_time": "2021-10-03T14:46:38.526Z"
   },
   {
    "duration": 5,
    "start_time": "2021-10-03T14:47:33.143Z"
   },
   {
    "duration": 8,
    "start_time": "2021-10-03T14:47:40.536Z"
   },
   {
    "duration": 4,
    "start_time": "2021-10-03T14:48:38.287Z"
   },
   {
    "duration": 7,
    "start_time": "2021-10-03T14:48:41.144Z"
   },
   {
    "duration": 133,
    "start_time": "2021-10-03T14:53:29.548Z"
   },
   {
    "duration": 306,
    "start_time": "2021-10-03T14:53:54.549Z"
   },
   {
    "duration": 9,
    "start_time": "2021-10-03T14:55:01.644Z"
   },
   {
    "duration": 7,
    "start_time": "2021-10-03T14:55:17.029Z"
   },
   {
    "duration": 583,
    "start_time": "2021-10-03T14:55:36.001Z"
   },
   {
    "duration": 9,
    "start_time": "2021-10-03T14:55:36.586Z"
   },
   {
    "duration": 8,
    "start_time": "2021-10-03T14:55:36.596Z"
   },
   {
    "duration": 12,
    "start_time": "2021-10-03T14:55:36.606Z"
   },
   {
    "duration": 3,
    "start_time": "2021-10-03T14:55:36.620Z"
   },
   {
    "duration": 7,
    "start_time": "2021-10-03T14:55:36.624Z"
   },
   {
    "duration": 21,
    "start_time": "2021-10-03T14:55:36.632Z"
   },
   {
    "duration": 16,
    "start_time": "2021-10-03T14:55:36.654Z"
   },
   {
    "duration": 4,
    "start_time": "2021-10-03T14:55:36.673Z"
   },
   {
    "duration": 11,
    "start_time": "2021-10-03T14:55:36.679Z"
   },
   {
    "duration": 8,
    "start_time": "2021-10-03T14:55:36.691Z"
   },
   {
    "duration": 11,
    "start_time": "2021-10-03T14:55:36.700Z"
   },
   {
    "duration": 10,
    "start_time": "2021-10-03T14:55:36.712Z"
   },
   {
    "duration": 21,
    "start_time": "2021-10-03T14:55:36.723Z"
   },
   {
    "duration": 6,
    "start_time": "2021-10-03T14:55:36.746Z"
   },
   {
    "duration": 10,
    "start_time": "2021-10-03T14:55:36.753Z"
   },
   {
    "duration": 26,
    "start_time": "2021-10-03T14:55:36.764Z"
   },
   {
    "duration": 8,
    "start_time": "2021-10-03T14:55:36.792Z"
   },
   {
    "duration": 8,
    "start_time": "2021-10-03T14:55:36.801Z"
   },
   {
    "duration": 13,
    "start_time": "2021-10-03T14:55:36.810Z"
   },
   {
    "duration": 21,
    "start_time": "2021-10-03T14:55:36.824Z"
   },
   {
    "duration": 17,
    "start_time": "2021-10-03T14:55:36.847Z"
   },
   {
    "duration": 17,
    "start_time": "2021-10-03T14:55:36.866Z"
   },
   {
    "duration": 15,
    "start_time": "2021-10-03T14:55:36.885Z"
   },
   {
    "duration": 13,
    "start_time": "2021-10-03T14:55:36.902Z"
   },
   {
    "duration": 27,
    "start_time": "2021-10-03T14:55:36.917Z"
   },
   {
    "duration": 17,
    "start_time": "2021-10-03T14:55:36.948Z"
   },
   {
    "duration": 16,
    "start_time": "2021-10-03T14:55:36.967Z"
   },
   {
    "duration": 14,
    "start_time": "2021-10-03T14:55:36.985Z"
   },
   {
    "duration": 4,
    "start_time": "2021-10-03T14:55:37.001Z"
   },
   {
    "duration": 40,
    "start_time": "2021-10-03T14:55:37.007Z"
   },
   {
    "duration": 6,
    "start_time": "2021-10-03T14:55:37.049Z"
   },
   {
    "duration": 7,
    "start_time": "2021-10-03T14:55:37.057Z"
   },
   {
    "duration": 11,
    "start_time": "2021-10-03T14:55:37.066Z"
   },
   {
    "duration": 8,
    "start_time": "2021-10-03T14:55:37.079Z"
   },
   {
    "duration": 4,
    "start_time": "2021-10-03T14:55:37.089Z"
   },
   {
    "duration": 8,
    "start_time": "2021-10-03T14:55:37.094Z"
   },
   {
    "duration": 10,
    "start_time": "2021-10-03T14:55:37.104Z"
   },
   {
    "duration": 8,
    "start_time": "2021-10-03T14:55:37.115Z"
   },
   {
    "duration": 3076,
    "start_time": "2021-10-03T14:55:37.144Z"
   },
   {
    "duration": 29,
    "start_time": "2021-10-03T14:55:40.222Z"
   },
   {
    "duration": 8,
    "start_time": "2021-10-03T14:55:40.253Z"
   },
   {
    "duration": 11,
    "start_time": "2021-10-03T14:55:40.263Z"
   },
   {
    "duration": 15,
    "start_time": "2021-10-03T14:55:40.276Z"
   },
   {
    "duration": 5,
    "start_time": "2021-10-03T14:55:40.293Z"
   },
   {
    "duration": 7,
    "start_time": "2021-10-03T14:55:40.299Z"
   },
   {
    "duration": 9,
    "start_time": "2021-10-03T14:55:40.308Z"
   },
   {
    "duration": 11,
    "start_time": "2021-10-03T14:55:40.318Z"
   },
   {
    "duration": 5,
    "start_time": "2021-10-03T14:55:40.330Z"
   },
   {
    "duration": 8,
    "start_time": "2021-10-03T14:55:40.337Z"
   },
   {
    "duration": 17,
    "start_time": "2021-10-03T14:55:40.346Z"
   },
   {
    "duration": 14,
    "start_time": "2021-10-03T14:55:40.365Z"
   },
   {
    "duration": 9,
    "start_time": "2021-10-03T14:55:40.380Z"
   },
   {
    "duration": 24,
    "start_time": "2021-10-03T14:55:40.390Z"
   },
   {
    "duration": 4,
    "start_time": "2021-10-03T14:55:40.415Z"
   },
   {
    "duration": 9,
    "start_time": "2021-10-03T14:55:40.420Z"
   },
   {
    "duration": 11,
    "start_time": "2021-10-03T14:55:40.431Z"
   },
   {
    "duration": 40,
    "start_time": "2021-10-03T14:55:40.444Z"
   },
   {
    "duration": 3,
    "start_time": "2021-10-03T14:55:40.485Z"
   },
   {
    "duration": 13,
    "start_time": "2021-10-03T14:55:40.490Z"
   },
   {
    "duration": 16,
    "start_time": "2021-10-03T14:55:40.505Z"
   },
   {
    "duration": 13,
    "start_time": "2021-10-03T14:55:40.523Z"
   },
   {
    "duration": 6,
    "start_time": "2021-10-03T14:55:40.537Z"
   },
   {
    "duration": 10,
    "start_time": "2021-10-03T14:55:40.544Z"
   },
   {
    "duration": 10,
    "start_time": "2021-10-03T14:55:40.555Z"
   },
   {
    "duration": 9,
    "start_time": "2021-10-03T14:55:40.567Z"
   },
   {
    "duration": 41,
    "start_time": "2021-10-03T14:55:40.578Z"
   },
   {
    "duration": 3,
    "start_time": "2021-10-03T14:55:40.621Z"
   },
   {
    "duration": 14,
    "start_time": "2021-10-03T14:55:40.625Z"
   },
   {
    "duration": 12,
    "start_time": "2021-10-03T14:55:40.641Z"
   },
   {
    "duration": 15,
    "start_time": "2021-10-03T14:55:40.654Z"
   },
   {
    "duration": 4,
    "start_time": "2021-10-03T14:55:40.670Z"
   },
   {
    "duration": 9,
    "start_time": "2021-10-03T14:55:40.676Z"
   },
   {
    "duration": 9,
    "start_time": "2021-10-03T14:55:40.687Z"
   },
   {
    "duration": 12,
    "start_time": "2021-10-03T14:55:40.698Z"
   },
   {
    "duration": 315,
    "start_time": "2021-10-03T14:55:40.712Z"
   },
   {
    "duration": -42,
    "start_time": "2021-10-03T14:55:41.071Z"
   },
   {
    "duration": -47,
    "start_time": "2021-10-03T14:55:41.077Z"
   },
   {
    "duration": -51,
    "start_time": "2021-10-03T14:55:41.083Z"
   },
   {
    "duration": -55,
    "start_time": "2021-10-03T14:55:41.088Z"
   },
   {
    "duration": -60,
    "start_time": "2021-10-03T14:55:41.094Z"
   },
   {
    "duration": -63,
    "start_time": "2021-10-03T14:55:41.098Z"
   },
   {
    "duration": -68,
    "start_time": "2021-10-03T14:55:41.104Z"
   },
   {
    "duration": -73,
    "start_time": "2021-10-03T14:55:41.110Z"
   },
   {
    "duration": -77,
    "start_time": "2021-10-03T14:55:41.115Z"
   },
   {
    "duration": -101,
    "start_time": "2021-10-03T14:55:41.140Z"
   },
   {
    "duration": 3,
    "start_time": "2021-10-03T14:55:55.568Z"
   },
   {
    "duration": 4,
    "start_time": "2021-10-03T14:55:59.029Z"
   },
   {
    "duration": 7,
    "start_time": "2021-10-03T14:56:01.431Z"
   },
   {
    "duration": 7,
    "start_time": "2021-10-03T14:56:19.199Z"
   },
   {
    "duration": 622,
    "start_time": "2021-10-03T14:58:28.570Z"
   },
   {
    "duration": 9,
    "start_time": "2021-10-03T14:58:29.194Z"
   },
   {
    "duration": 8,
    "start_time": "2021-10-03T14:58:29.205Z"
   },
   {
    "duration": 11,
    "start_time": "2021-10-03T14:58:29.215Z"
   },
   {
    "duration": 14,
    "start_time": "2021-10-03T14:58:29.228Z"
   },
   {
    "duration": 15,
    "start_time": "2021-10-03T14:58:29.244Z"
   },
   {
    "duration": 19,
    "start_time": "2021-10-03T14:58:29.261Z"
   },
   {
    "duration": 20,
    "start_time": "2021-10-03T14:58:29.283Z"
   },
   {
    "duration": 11,
    "start_time": "2021-10-03T14:58:29.305Z"
   },
   {
    "duration": 11,
    "start_time": "2021-10-03T14:58:29.318Z"
   },
   {
    "duration": 9,
    "start_time": "2021-10-03T14:58:29.330Z"
   },
   {
    "duration": 18,
    "start_time": "2021-10-03T14:58:29.341Z"
   },
   {
    "duration": 11,
    "start_time": "2021-10-03T14:58:29.360Z"
   },
   {
    "duration": 13,
    "start_time": "2021-10-03T14:58:29.373Z"
   },
   {
    "duration": 12,
    "start_time": "2021-10-03T14:58:29.388Z"
   },
   {
    "duration": 11,
    "start_time": "2021-10-03T14:58:29.402Z"
   },
   {
    "duration": 40,
    "start_time": "2021-10-03T14:58:29.414Z"
   },
   {
    "duration": 10,
    "start_time": "2021-10-03T14:58:29.456Z"
   },
   {
    "duration": 13,
    "start_time": "2021-10-03T14:58:29.468Z"
   },
   {
    "duration": 15,
    "start_time": "2021-10-03T14:58:29.483Z"
   },
   {
    "duration": 9,
    "start_time": "2021-10-03T14:58:29.500Z"
   },
   {
    "duration": 31,
    "start_time": "2021-10-03T14:58:29.510Z"
   },
   {
    "duration": 13,
    "start_time": "2021-10-03T14:58:29.546Z"
   },
   {
    "duration": 16,
    "start_time": "2021-10-03T14:58:29.562Z"
   },
   {
    "duration": 18,
    "start_time": "2021-10-03T14:58:29.579Z"
   },
   {
    "duration": 11,
    "start_time": "2021-10-03T14:58:29.599Z"
   },
   {
    "duration": 37,
    "start_time": "2021-10-03T14:58:29.612Z"
   },
   {
    "duration": 16,
    "start_time": "2021-10-03T14:58:29.650Z"
   },
   {
    "duration": 14,
    "start_time": "2021-10-03T14:58:29.668Z"
   },
   {
    "duration": 4,
    "start_time": "2021-10-03T14:58:29.684Z"
   },
   {
    "duration": 14,
    "start_time": "2021-10-03T14:58:29.690Z"
   },
   {
    "duration": 7,
    "start_time": "2021-10-03T14:58:29.706Z"
   },
   {
    "duration": 33,
    "start_time": "2021-10-03T14:58:29.714Z"
   },
   {
    "duration": 11,
    "start_time": "2021-10-03T14:58:29.748Z"
   },
   {
    "duration": 9,
    "start_time": "2021-10-03T14:58:29.760Z"
   },
   {
    "duration": 3,
    "start_time": "2021-10-03T14:58:29.772Z"
   },
   {
    "duration": 7,
    "start_time": "2021-10-03T14:58:29.777Z"
   },
   {
    "duration": 12,
    "start_time": "2021-10-03T14:58:29.785Z"
   },
   {
    "duration": 3,
    "start_time": "2021-10-03T14:58:29.798Z"
   },
   {
    "duration": 3305,
    "start_time": "2021-10-03T14:58:29.803Z"
   },
   {
    "duration": 12,
    "start_time": "2021-10-03T14:58:33.110Z"
   },
   {
    "duration": 6,
    "start_time": "2021-10-03T14:58:33.124Z"
   },
   {
    "duration": 10,
    "start_time": "2021-10-03T14:58:33.144Z"
   },
   {
    "duration": 12,
    "start_time": "2021-10-03T14:58:33.156Z"
   },
   {
    "duration": 5,
    "start_time": "2021-10-03T14:58:33.169Z"
   },
   {
    "duration": 12,
    "start_time": "2021-10-03T14:58:33.175Z"
   },
   {
    "duration": 5,
    "start_time": "2021-10-03T14:58:33.188Z"
   },
   {
    "duration": 7,
    "start_time": "2021-10-03T14:58:33.194Z"
   },
   {
    "duration": 8,
    "start_time": "2021-10-03T14:58:33.202Z"
   },
   {
    "duration": 5,
    "start_time": "2021-10-03T14:58:33.212Z"
   },
   {
    "duration": 39,
    "start_time": "2021-10-03T14:58:33.219Z"
   },
   {
    "duration": 29,
    "start_time": "2021-10-03T14:58:33.259Z"
   },
   {
    "duration": 19,
    "start_time": "2021-10-03T14:58:33.289Z"
   },
   {
    "duration": 28,
    "start_time": "2021-10-03T14:58:33.310Z"
   },
   {
    "duration": 7,
    "start_time": "2021-10-03T14:58:33.339Z"
   },
   {
    "duration": 16,
    "start_time": "2021-10-03T14:58:33.347Z"
   },
   {
    "duration": 11,
    "start_time": "2021-10-03T14:58:33.365Z"
   },
   {
    "duration": 11,
    "start_time": "2021-10-03T14:58:33.377Z"
   },
   {
    "duration": 44,
    "start_time": "2021-10-03T14:58:33.390Z"
   },
   {
    "duration": 4,
    "start_time": "2021-10-03T14:58:33.435Z"
   },
   {
    "duration": 26,
    "start_time": "2021-10-03T14:58:33.440Z"
   },
   {
    "duration": 25,
    "start_time": "2021-10-03T14:58:33.467Z"
   },
   {
    "duration": 29,
    "start_time": "2021-10-03T14:58:33.494Z"
   },
   {
    "duration": 11,
    "start_time": "2021-10-03T14:58:33.525Z"
   },
   {
    "duration": 7,
    "start_time": "2021-10-03T14:58:33.537Z"
   },
   {
    "duration": 13,
    "start_time": "2021-10-03T14:58:33.545Z"
   },
   {
    "duration": 22,
    "start_time": "2021-10-03T14:58:33.560Z"
   },
   {
    "duration": 41,
    "start_time": "2021-10-03T14:58:33.587Z"
   },
   {
    "duration": 3,
    "start_time": "2021-10-03T14:58:33.630Z"
   },
   {
    "duration": 15,
    "start_time": "2021-10-03T14:58:33.635Z"
   },
   {
    "duration": 10,
    "start_time": "2021-10-03T14:58:33.651Z"
   },
   {
    "duration": 27,
    "start_time": "2021-10-03T14:58:33.663Z"
   },
   {
    "duration": 9,
    "start_time": "2021-10-03T14:58:33.691Z"
   },
   {
    "duration": 6,
    "start_time": "2021-10-03T14:58:33.701Z"
   },
   {
    "duration": 7,
    "start_time": "2021-10-03T14:58:33.708Z"
   },
   {
    "duration": 9,
    "start_time": "2021-10-03T14:58:33.717Z"
   },
   {
    "duration": 306,
    "start_time": "2021-10-03T14:58:33.727Z"
   },
   {
    "duration": -199,
    "start_time": "2021-10-03T14:58:34.234Z"
   },
   {
    "duration": -204,
    "start_time": "2021-10-03T14:58:34.240Z"
   },
   {
    "duration": -209,
    "start_time": "2021-10-03T14:58:34.245Z"
   },
   {
    "duration": -214,
    "start_time": "2021-10-03T14:58:34.251Z"
   },
   {
    "duration": -218,
    "start_time": "2021-10-03T14:58:34.256Z"
   },
   {
    "duration": -223,
    "start_time": "2021-10-03T14:58:34.262Z"
   },
   {
    "duration": -227,
    "start_time": "2021-10-03T14:58:34.267Z"
   },
   {
    "duration": -253,
    "start_time": "2021-10-03T14:58:34.294Z"
   },
   {
    "duration": -260,
    "start_time": "2021-10-03T14:58:34.302Z"
   },
   {
    "duration": -266,
    "start_time": "2021-10-03T14:58:34.309Z"
   },
   {
    "duration": 38,
    "start_time": "2021-10-03T15:00:49.993Z"
   },
   {
    "duration": 4,
    "start_time": "2021-10-03T15:01:24.891Z"
   },
   {
    "duration": 6,
    "start_time": "2021-10-03T15:02:10.381Z"
   },
   {
    "duration": 9,
    "start_time": "2021-10-03T15:02:37.923Z"
   },
   {
    "duration": 9,
    "start_time": "2021-10-03T15:22:01.669Z"
   },
   {
    "duration": 4,
    "start_time": "2021-10-03T15:22:30.652Z"
   },
   {
    "duration": 5,
    "start_time": "2021-10-03T15:23:01.060Z"
   },
   {
    "duration": 5,
    "start_time": "2021-10-03T15:23:27.446Z"
   },
   {
    "duration": 9,
    "start_time": "2021-10-03T15:24:05.414Z"
   },
   {
    "duration": 48,
    "start_time": "2021-10-03T15:25:22.735Z"
   },
   {
    "duration": 4,
    "start_time": "2021-10-03T15:26:02.647Z"
   },
   {
    "duration": 282,
    "start_time": "2021-10-03T15:26:37.192Z"
   },
   {
    "duration": 268,
    "start_time": "2021-10-03T15:26:51.544Z"
   },
   {
    "duration": 4,
    "start_time": "2021-10-03T15:27:28.048Z"
   },
   {
    "duration": 4,
    "start_time": "2021-10-03T15:27:30.953Z"
   },
   {
    "duration": 8,
    "start_time": "2021-10-03T15:27:32.127Z"
   },
   {
    "duration": 692,
    "start_time": "2021-10-03T15:27:38.051Z"
   },
   {
    "duration": 10,
    "start_time": "2021-10-03T15:27:38.745Z"
   },
   {
    "duration": 17,
    "start_time": "2021-10-03T15:27:38.757Z"
   },
   {
    "duration": 9,
    "start_time": "2021-10-03T15:27:38.776Z"
   },
   {
    "duration": 9,
    "start_time": "2021-10-03T15:27:38.786Z"
   },
   {
    "duration": 7,
    "start_time": "2021-10-03T15:27:38.796Z"
   },
   {
    "duration": 17,
    "start_time": "2021-10-03T15:27:38.804Z"
   },
   {
    "duration": 29,
    "start_time": "2021-10-03T15:27:38.822Z"
   },
   {
    "duration": 6,
    "start_time": "2021-10-03T15:27:38.855Z"
   },
   {
    "duration": 8,
    "start_time": "2021-10-03T15:27:38.863Z"
   },
   {
    "duration": 7,
    "start_time": "2021-10-03T15:27:38.873Z"
   },
   {
    "duration": 10,
    "start_time": "2021-10-03T15:27:38.882Z"
   },
   {
    "duration": 5,
    "start_time": "2021-10-03T15:27:38.894Z"
   },
   {
    "duration": 21,
    "start_time": "2021-10-03T15:27:38.901Z"
   },
   {
    "duration": 26,
    "start_time": "2021-10-03T15:27:38.924Z"
   },
   {
    "duration": 9,
    "start_time": "2021-10-03T15:27:38.952Z"
   },
   {
    "duration": 25,
    "start_time": "2021-10-03T15:27:38.962Z"
   },
   {
    "duration": 8,
    "start_time": "2021-10-03T15:27:38.989Z"
   },
   {
    "duration": 3,
    "start_time": "2021-10-03T15:27:38.998Z"
   },
   {
    "duration": 13,
    "start_time": "2021-10-03T15:27:39.003Z"
   },
   {
    "duration": 28,
    "start_time": "2021-10-03T15:27:39.018Z"
   },
   {
    "duration": 19,
    "start_time": "2021-10-03T15:27:39.048Z"
   },
   {
    "duration": 14,
    "start_time": "2021-10-03T15:27:39.069Z"
   },
   {
    "duration": 16,
    "start_time": "2021-10-03T15:27:39.084Z"
   },
   {
    "duration": 14,
    "start_time": "2021-10-03T15:27:39.101Z"
   },
   {
    "duration": 34,
    "start_time": "2021-10-03T15:27:39.117Z"
   },
   {
    "duration": 15,
    "start_time": "2021-10-03T15:27:39.155Z"
   },
   {
    "duration": 15,
    "start_time": "2021-10-03T15:27:39.173Z"
   },
   {
    "duration": 14,
    "start_time": "2021-10-03T15:27:39.190Z"
   },
   {
    "duration": 4,
    "start_time": "2021-10-03T15:27:39.205Z"
   },
   {
    "duration": 41,
    "start_time": "2021-10-03T15:27:39.211Z"
   },
   {
    "duration": 4,
    "start_time": "2021-10-03T15:27:39.254Z"
   },
   {
    "duration": 5,
    "start_time": "2021-10-03T15:27:39.260Z"
   },
   {
    "duration": 11,
    "start_time": "2021-10-03T15:27:39.267Z"
   },
   {
    "duration": 11,
    "start_time": "2021-10-03T15:27:39.279Z"
   },
   {
    "duration": 4,
    "start_time": "2021-10-03T15:27:39.292Z"
   },
   {
    "duration": 6,
    "start_time": "2021-10-03T15:27:39.298Z"
   },
   {
    "duration": 5,
    "start_time": "2021-10-03T15:27:39.306Z"
   },
   {
    "duration": 3,
    "start_time": "2021-10-03T15:27:39.345Z"
   },
   {
    "duration": 3875,
    "start_time": "2021-10-03T15:27:39.350Z"
   },
   {
    "duration": 21,
    "start_time": "2021-10-03T15:27:43.226Z"
   },
   {
    "duration": 5,
    "start_time": "2021-10-03T15:27:43.249Z"
   },
   {
    "duration": 12,
    "start_time": "2021-10-03T15:27:43.256Z"
   },
   {
    "duration": 12,
    "start_time": "2021-10-03T15:27:43.270Z"
   },
   {
    "duration": 9,
    "start_time": "2021-10-03T15:27:43.284Z"
   },
   {
    "duration": 6,
    "start_time": "2021-10-03T15:27:43.294Z"
   },
   {
    "duration": 7,
    "start_time": "2021-10-03T15:27:43.301Z"
   },
   {
    "duration": 4,
    "start_time": "2021-10-03T15:27:43.310Z"
   },
   {
    "duration": 4,
    "start_time": "2021-10-03T15:27:43.315Z"
   },
   {
    "duration": 4,
    "start_time": "2021-10-03T15:27:43.321Z"
   },
   {
    "duration": 12,
    "start_time": "2021-10-03T15:27:43.345Z"
   },
   {
    "duration": 13,
    "start_time": "2021-10-03T15:27:43.358Z"
   },
   {
    "duration": 5,
    "start_time": "2021-10-03T15:27:43.372Z"
   },
   {
    "duration": 20,
    "start_time": "2021-10-03T15:27:43.378Z"
   },
   {
    "duration": 3,
    "start_time": "2021-10-03T15:27:43.400Z"
   },
   {
    "duration": 6,
    "start_time": "2021-10-03T15:27:43.405Z"
   },
   {
    "duration": 6,
    "start_time": "2021-10-03T15:27:43.413Z"
   },
   {
    "duration": 28,
    "start_time": "2021-10-03T15:27:43.421Z"
   },
   {
    "duration": 35,
    "start_time": "2021-10-03T15:27:43.450Z"
   },
   {
    "duration": 3,
    "start_time": "2021-10-03T15:27:43.487Z"
   },
   {
    "duration": 9,
    "start_time": "2021-10-03T15:27:43.492Z"
   },
   {
    "duration": 13,
    "start_time": "2021-10-03T15:27:43.502Z"
   },
   {
    "duration": 29,
    "start_time": "2021-10-03T15:27:43.517Z"
   },
   {
    "duration": 4,
    "start_time": "2021-10-03T15:27:43.548Z"
   },
   {
    "duration": 7,
    "start_time": "2021-10-03T15:27:43.553Z"
   },
   {
    "duration": 9,
    "start_time": "2021-10-03T15:27:43.562Z"
   },
   {
    "duration": 15,
    "start_time": "2021-10-03T15:27:43.572Z"
   },
   {
    "duration": 41,
    "start_time": "2021-10-03T15:27:43.589Z"
   },
   {
    "duration": 4,
    "start_time": "2021-10-03T15:27:43.631Z"
   },
   {
    "duration": 11,
    "start_time": "2021-10-03T15:27:43.645Z"
   },
   {
    "duration": 20,
    "start_time": "2021-10-03T15:27:43.657Z"
   },
   {
    "duration": 16,
    "start_time": "2021-10-03T15:27:43.678Z"
   },
   {
    "duration": 8,
    "start_time": "2021-10-03T15:27:43.696Z"
   },
   {
    "duration": 19,
    "start_time": "2021-10-03T15:27:43.705Z"
   },
   {
    "duration": 7,
    "start_time": "2021-10-03T15:27:43.726Z"
   },
   {
    "duration": 24,
    "start_time": "2021-10-03T15:27:43.734Z"
   },
   {
    "duration": 41,
    "start_time": "2021-10-03T15:27:43.759Z"
   },
   {
    "duration": 3,
    "start_time": "2021-10-03T15:27:43.802Z"
   },
   {
    "duration": 14,
    "start_time": "2021-10-03T15:27:43.806Z"
   },
   {
    "duration": 25,
    "start_time": "2021-10-03T15:27:43.821Z"
   },
   {
    "duration": 598,
    "start_time": "2021-10-03T15:27:43.850Z"
   },
   {
    "duration": -37,
    "start_time": "2021-10-03T15:27:44.487Z"
   },
   {
    "duration": -42,
    "start_time": "2021-10-03T15:27:44.493Z"
   },
   {
    "duration": -49,
    "start_time": "2021-10-03T15:27:44.500Z"
   },
   {
    "duration": -54,
    "start_time": "2021-10-03T15:27:44.506Z"
   },
   {
    "duration": -59,
    "start_time": "2021-10-03T15:27:44.512Z"
   },
   {
    "duration": -64,
    "start_time": "2021-10-03T15:27:44.518Z"
   },
   {
    "duration": -69,
    "start_time": "2021-10-03T15:27:44.524Z"
   },
   {
    "duration": 651,
    "start_time": "2021-10-03T15:28:13.202Z"
   },
   {
    "duration": 10,
    "start_time": "2021-10-03T15:28:13.855Z"
   },
   {
    "duration": 5,
    "start_time": "2021-10-03T15:28:13.867Z"
   },
   {
    "duration": 8,
    "start_time": "2021-10-03T15:28:13.873Z"
   },
   {
    "duration": 2,
    "start_time": "2021-10-03T15:28:13.883Z"
   },
   {
    "duration": 13,
    "start_time": "2021-10-03T15:28:13.887Z"
   },
   {
    "duration": 15,
    "start_time": "2021-10-03T15:28:13.901Z"
   },
   {
    "duration": 37,
    "start_time": "2021-10-03T15:28:13.919Z"
   },
   {
    "duration": 5,
    "start_time": "2021-10-03T15:28:13.958Z"
   },
   {
    "duration": 3,
    "start_time": "2021-10-03T15:28:13.964Z"
   },
   {
    "duration": 9,
    "start_time": "2021-10-03T15:28:13.969Z"
   },
   {
    "duration": 12,
    "start_time": "2021-10-03T15:28:13.979Z"
   },
   {
    "duration": 3,
    "start_time": "2021-10-03T15:28:13.993Z"
   },
   {
    "duration": 48,
    "start_time": "2021-10-03T15:28:13.997Z"
   },
   {
    "duration": 5,
    "start_time": "2021-10-03T15:28:14.046Z"
   },
   {
    "duration": 8,
    "start_time": "2021-10-03T15:28:14.053Z"
   },
   {
    "duration": 26,
    "start_time": "2021-10-03T15:28:14.063Z"
   },
   {
    "duration": 8,
    "start_time": "2021-10-03T15:28:14.090Z"
   },
   {
    "duration": 5,
    "start_time": "2021-10-03T15:28:14.100Z"
   },
   {
    "duration": 38,
    "start_time": "2021-10-03T15:28:14.106Z"
   },
   {
    "duration": 3,
    "start_time": "2021-10-03T15:28:14.146Z"
   },
   {
    "duration": 16,
    "start_time": "2021-10-03T15:28:14.150Z"
   },
   {
    "duration": 13,
    "start_time": "2021-10-03T15:28:14.170Z"
   },
   {
    "duration": 16,
    "start_time": "2021-10-03T15:28:14.186Z"
   },
   {
    "duration": 40,
    "start_time": "2021-10-03T15:28:14.203Z"
   },
   {
    "duration": 11,
    "start_time": "2021-10-03T15:28:14.245Z"
   },
   {
    "duration": 18,
    "start_time": "2021-10-03T15:28:14.258Z"
   },
   {
    "duration": 16,
    "start_time": "2021-10-03T15:28:14.277Z"
   },
   {
    "duration": 14,
    "start_time": "2021-10-03T15:28:14.295Z"
   },
   {
    "duration": 5,
    "start_time": "2021-10-03T15:28:14.310Z"
   },
   {
    "duration": 46,
    "start_time": "2021-10-03T15:28:14.316Z"
   },
   {
    "duration": 6,
    "start_time": "2021-10-03T15:28:14.364Z"
   },
   {
    "duration": 9,
    "start_time": "2021-10-03T15:28:14.372Z"
   },
   {
    "duration": 14,
    "start_time": "2021-10-03T15:28:14.382Z"
   },
   {
    "duration": 7,
    "start_time": "2021-10-03T15:28:14.398Z"
   },
   {
    "duration": 39,
    "start_time": "2021-10-03T15:28:14.408Z"
   },
   {
    "duration": 6,
    "start_time": "2021-10-03T15:28:14.449Z"
   },
   {
    "duration": 8,
    "start_time": "2021-10-03T15:28:14.456Z"
   },
   {
    "duration": 5,
    "start_time": "2021-10-03T15:28:14.465Z"
   },
   {
    "duration": 3680,
    "start_time": "2021-10-03T15:28:14.472Z"
   },
   {
    "duration": 11,
    "start_time": "2021-10-03T15:28:18.154Z"
   },
   {
    "duration": 5,
    "start_time": "2021-10-03T15:28:18.167Z"
   },
   {
    "duration": 13,
    "start_time": "2021-10-03T15:28:18.173Z"
   },
   {
    "duration": 14,
    "start_time": "2021-10-03T15:28:18.188Z"
   },
   {
    "duration": 4,
    "start_time": "2021-10-03T15:28:18.204Z"
   },
   {
    "duration": 4,
    "start_time": "2021-10-03T15:28:18.210Z"
   },
   {
    "duration": 5,
    "start_time": "2021-10-03T15:28:18.215Z"
   },
   {
    "duration": 4,
    "start_time": "2021-10-03T15:28:18.222Z"
   },
   {
    "duration": 2,
    "start_time": "2021-10-03T15:28:18.245Z"
   },
   {
    "duration": 5,
    "start_time": "2021-10-03T15:28:18.249Z"
   },
   {
    "duration": 21,
    "start_time": "2021-10-03T15:28:18.255Z"
   },
   {
    "duration": 16,
    "start_time": "2021-10-03T15:28:18.278Z"
   },
   {
    "duration": 4,
    "start_time": "2021-10-03T15:28:18.296Z"
   },
   {
    "duration": 23,
    "start_time": "2021-10-03T15:28:18.301Z"
   },
   {
    "duration": 20,
    "start_time": "2021-10-03T15:28:18.325Z"
   },
   {
    "duration": 13,
    "start_time": "2021-10-03T15:28:18.347Z"
   },
   {
    "duration": 12,
    "start_time": "2021-10-03T15:28:18.362Z"
   },
   {
    "duration": 17,
    "start_time": "2021-10-03T15:28:18.375Z"
   },
   {
    "duration": 38,
    "start_time": "2021-10-03T15:28:18.393Z"
   },
   {
    "duration": 3,
    "start_time": "2021-10-03T15:28:18.433Z"
   },
   {
    "duration": 13,
    "start_time": "2021-10-03T15:28:18.438Z"
   },
   {
    "duration": 21,
    "start_time": "2021-10-03T15:28:18.452Z"
   },
   {
    "duration": 20,
    "start_time": "2021-10-03T15:28:18.475Z"
   },
   {
    "duration": 9,
    "start_time": "2021-10-03T15:28:18.497Z"
   },
   {
    "duration": 24,
    "start_time": "2021-10-03T15:28:18.508Z"
   },
   {
    "duration": 26,
    "start_time": "2021-10-03T15:28:18.533Z"
   },
   {
    "duration": 26,
    "start_time": "2021-10-03T15:28:18.561Z"
   },
   {
    "duration": 43,
    "start_time": "2021-10-03T15:28:18.592Z"
   },
   {
    "duration": 4,
    "start_time": "2021-10-03T15:28:18.637Z"
   },
   {
    "duration": 19,
    "start_time": "2021-10-03T15:28:18.642Z"
   },
   {
    "duration": 18,
    "start_time": "2021-10-03T15:28:18.662Z"
   },
   {
    "duration": 22,
    "start_time": "2021-10-03T15:28:18.681Z"
   },
   {
    "duration": 15,
    "start_time": "2021-10-03T15:28:18.704Z"
   },
   {
    "duration": 22,
    "start_time": "2021-10-03T15:28:18.720Z"
   },
   {
    "duration": 18,
    "start_time": "2021-10-03T15:28:18.743Z"
   },
   {
    "duration": 34,
    "start_time": "2021-10-03T15:28:18.763Z"
   },
   {
    "duration": 54,
    "start_time": "2021-10-03T15:28:18.799Z"
   },
   {
    "duration": 5,
    "start_time": "2021-10-03T15:28:18.855Z"
   },
   {
    "duration": 22,
    "start_time": "2021-10-03T15:28:18.862Z"
   },
   {
    "duration": 28,
    "start_time": "2021-10-03T15:28:18.885Z"
   },
   {
    "duration": 22,
    "start_time": "2021-10-03T15:28:18.915Z"
   },
   {
    "duration": 14,
    "start_time": "2021-10-03T15:28:18.938Z"
   },
   {
    "duration": 25,
    "start_time": "2021-10-03T15:28:18.954Z"
   },
   {
    "duration": 29,
    "start_time": "2021-10-03T15:28:18.980Z"
   },
   {
    "duration": 21,
    "start_time": "2021-10-03T15:28:19.010Z"
   },
   {
    "duration": 53,
    "start_time": "2021-10-03T15:28:19.032Z"
   },
   {
    "duration": 4,
    "start_time": "2021-10-03T15:28:19.087Z"
   },
   {
    "duration": 23,
    "start_time": "2021-10-03T15:28:19.093Z"
   },
   {
    "duration": 8,
    "start_time": "2021-10-03T15:28:35.658Z"
   },
   {
    "duration": 10,
    "start_time": "2021-10-03T16:02:23.877Z"
   },
   {
    "duration": 314,
    "start_time": "2021-10-03T16:03:01.669Z"
   },
   {
    "duration": 10,
    "start_time": "2021-10-03T16:03:06.101Z"
   },
   {
    "duration": 9,
    "start_time": "2021-10-03T16:04:49.783Z"
   },
   {
    "duration": 87,
    "start_time": "2021-10-03T16:15:19.926Z"
   },
   {
    "duration": 85,
    "start_time": "2021-10-03T16:25:09.193Z"
   },
   {
    "duration": 89,
    "start_time": "2021-10-03T16:25:14.335Z"
   },
   {
    "duration": 85,
    "start_time": "2021-10-03T16:25:24.863Z"
   },
   {
    "duration": 181,
    "start_time": "2021-10-03T16:26:50.385Z"
   },
   {
    "duration": 87,
    "start_time": "2021-10-03T16:28:35.234Z"
   },
   {
    "duration": 8160,
    "start_time": "2021-10-03T16:30:12.597Z"
   },
   {
    "duration": 275,
    "start_time": "2021-10-03T16:30:46.900Z"
   },
   {
    "duration": 105,
    "start_time": "2021-10-03T16:35:19.481Z"
   },
   {
    "duration": 4,
    "start_time": "2021-10-03T16:35:25.599Z"
   },
   {
    "duration": 6,
    "start_time": "2021-10-03T16:35:27.223Z"
   },
   {
    "duration": 3,
    "start_time": "2021-10-03T16:36:05.747Z"
   },
   {
    "duration": 6,
    "start_time": "2021-10-03T16:36:06.928Z"
   },
   {
    "duration": 4,
    "start_time": "2021-10-03T16:38:25.507Z"
   },
   {
    "duration": 7,
    "start_time": "2021-10-03T16:38:28.298Z"
   },
   {
    "duration": 4,
    "start_time": "2021-10-03T16:40:43.244Z"
   },
   {
    "duration": 7,
    "start_time": "2021-10-03T16:40:45.956Z"
   },
   {
    "duration": 296,
    "start_time": "2021-10-03T16:45:51.209Z"
   },
   {
    "duration": 3,
    "start_time": "2021-10-03T16:45:52.641Z"
   },
   {
    "duration": 3,
    "start_time": "2021-10-03T16:45:53.618Z"
   },
   {
    "duration": 250,
    "start_time": "2021-10-03T16:46:11.408Z"
   },
   {
    "duration": 4,
    "start_time": "2021-10-03T16:46:14.944Z"
   },
   {
    "duration": 4,
    "start_time": "2021-10-03T16:46:15.919Z"
   },
   {
    "duration": 6,
    "start_time": "2021-10-03T16:49:51.301Z"
   },
   {
    "duration": 8,
    "start_time": "2021-10-03T16:50:19.997Z"
   },
   {
    "duration": 4,
    "start_time": "2021-10-03T16:50:36.147Z"
   },
   {
    "duration": 6,
    "start_time": "2021-10-03T16:50:53.631Z"
   },
   {
    "duration": 3,
    "start_time": "2021-10-03T16:50:55.094Z"
   },
   {
    "duration": 657,
    "start_time": "2021-10-03T16:51:14.505Z"
   },
   {
    "duration": 10,
    "start_time": "2021-10-03T16:51:15.164Z"
   },
   {
    "duration": 5,
    "start_time": "2021-10-03T16:51:15.176Z"
   },
   {
    "duration": 6,
    "start_time": "2021-10-03T16:51:15.183Z"
   },
   {
    "duration": 3,
    "start_time": "2021-10-03T16:51:15.190Z"
   },
   {
    "duration": 6,
    "start_time": "2021-10-03T16:51:15.194Z"
   },
   {
    "duration": 42,
    "start_time": "2021-10-03T16:51:15.202Z"
   },
   {
    "duration": 14,
    "start_time": "2021-10-03T16:51:15.247Z"
   },
   {
    "duration": 9,
    "start_time": "2021-10-03T16:51:15.263Z"
   },
   {
    "duration": 7,
    "start_time": "2021-10-03T16:51:15.273Z"
   },
   {
    "duration": 10,
    "start_time": "2021-10-03T16:51:15.282Z"
   },
   {
    "duration": 11,
    "start_time": "2021-10-03T16:51:15.293Z"
   },
   {
    "duration": 4,
    "start_time": "2021-10-03T16:51:15.305Z"
   },
   {
    "duration": 10,
    "start_time": "2021-10-03T16:51:15.310Z"
   },
   {
    "duration": 6,
    "start_time": "2021-10-03T16:51:15.344Z"
   },
   {
    "duration": 6,
    "start_time": "2021-10-03T16:51:15.351Z"
   },
   {
    "duration": 25,
    "start_time": "2021-10-03T16:51:15.358Z"
   },
   {
    "duration": 8,
    "start_time": "2021-10-03T16:51:15.384Z"
   },
   {
    "duration": 3,
    "start_time": "2021-10-03T16:51:15.394Z"
   },
   {
    "duration": 13,
    "start_time": "2021-10-03T16:51:15.398Z"
   },
   {
    "duration": 32,
    "start_time": "2021-10-03T16:51:15.413Z"
   },
   {
    "duration": 17,
    "start_time": "2021-10-03T16:51:15.447Z"
   },
   {
    "duration": 12,
    "start_time": "2021-10-03T16:51:15.468Z"
   },
   {
    "duration": 15,
    "start_time": "2021-10-03T16:51:15.483Z"
   },
   {
    "duration": 12,
    "start_time": "2021-10-03T16:51:15.500Z"
   },
   {
    "duration": 32,
    "start_time": "2021-10-03T16:51:15.514Z"
   },
   {
    "duration": 16,
    "start_time": "2021-10-03T16:51:15.547Z"
   },
   {
    "duration": 16,
    "start_time": "2021-10-03T16:51:15.565Z"
   },
   {
    "duration": 14,
    "start_time": "2021-10-03T16:51:15.583Z"
   },
   {
    "duration": 5,
    "start_time": "2021-10-03T16:51:15.598Z"
   },
   {
    "duration": 42,
    "start_time": "2021-10-03T16:51:15.604Z"
   },
   {
    "duration": 6,
    "start_time": "2021-10-03T16:51:15.648Z"
   },
   {
    "duration": 6,
    "start_time": "2021-10-03T16:51:15.656Z"
   },
   {
    "duration": 13,
    "start_time": "2021-10-03T16:51:15.664Z"
   },
   {
    "duration": 6,
    "start_time": "2021-10-03T16:51:15.678Z"
   },
   {
    "duration": 9,
    "start_time": "2021-10-03T16:51:15.686Z"
   },
   {
    "duration": 7,
    "start_time": "2021-10-03T16:51:15.696Z"
   },
   {
    "duration": 9,
    "start_time": "2021-10-03T16:51:15.705Z"
   },
   {
    "duration": 29,
    "start_time": "2021-10-03T16:51:15.716Z"
   },
   {
    "duration": 3524,
    "start_time": "2021-10-03T16:51:15.747Z"
   },
   {
    "duration": 11,
    "start_time": "2021-10-03T16:51:19.273Z"
   },
   {
    "duration": 9,
    "start_time": "2021-10-03T16:51:19.286Z"
   },
   {
    "duration": 20,
    "start_time": "2021-10-03T16:51:19.297Z"
   },
   {
    "duration": 17,
    "start_time": "2021-10-03T16:51:19.318Z"
   },
   {
    "duration": 9,
    "start_time": "2021-10-03T16:51:19.336Z"
   },
   {
    "duration": 10,
    "start_time": "2021-10-03T16:51:19.346Z"
   },
   {
    "duration": 24,
    "start_time": "2021-10-03T16:51:19.358Z"
   },
   {
    "duration": 11,
    "start_time": "2021-10-03T16:51:19.384Z"
   },
   {
    "duration": 16,
    "start_time": "2021-10-03T16:51:19.397Z"
   },
   {
    "duration": 13,
    "start_time": "2021-10-03T16:51:19.415Z"
   },
   {
    "duration": 41,
    "start_time": "2021-10-03T16:51:19.430Z"
   },
   {
    "duration": 21,
    "start_time": "2021-10-03T16:51:19.473Z"
   },
   {
    "duration": 9,
    "start_time": "2021-10-03T16:51:19.495Z"
   },
   {
    "duration": 16,
    "start_time": "2021-10-03T16:51:19.506Z"
   },
   {
    "duration": 18,
    "start_time": "2021-10-03T16:51:19.524Z"
   },
   {
    "duration": 15,
    "start_time": "2021-10-03T16:51:19.544Z"
   },
   {
    "duration": 22,
    "start_time": "2021-10-03T16:51:19.561Z"
   },
   {
    "duration": 17,
    "start_time": "2021-10-03T16:51:19.585Z"
   },
   {
    "duration": 20,
    "start_time": "2021-10-03T16:51:19.603Z"
   },
   {
    "duration": 10,
    "start_time": "2021-10-03T16:51:19.625Z"
   },
   {
    "duration": 17,
    "start_time": "2021-10-03T16:51:19.636Z"
   },
   {
    "duration": 29,
    "start_time": "2021-10-03T16:51:19.655Z"
   },
   {
    "duration": 12,
    "start_time": "2021-10-03T16:51:19.685Z"
   },
   {
    "duration": 19,
    "start_time": "2021-10-03T16:51:19.698Z"
   },
   {
    "duration": 21,
    "start_time": "2021-10-03T16:51:19.718Z"
   },
   {
    "duration": 20,
    "start_time": "2021-10-03T16:51:19.740Z"
   },
   {
    "duration": 50,
    "start_time": "2021-10-03T16:51:19.761Z"
   },
   {
    "duration": 3,
    "start_time": "2021-10-03T16:51:19.817Z"
   },
   {
    "duration": 23,
    "start_time": "2021-10-03T16:51:19.822Z"
   },
   {
    "duration": 29,
    "start_time": "2021-10-03T16:51:19.847Z"
   },
   {
    "duration": 23,
    "start_time": "2021-10-03T16:51:19.878Z"
   },
   {
    "duration": 8,
    "start_time": "2021-10-03T16:51:19.903Z"
   },
   {
    "duration": 18,
    "start_time": "2021-10-03T16:51:19.912Z"
   },
   {
    "duration": 22,
    "start_time": "2021-10-03T16:51:19.931Z"
   },
   {
    "duration": 16,
    "start_time": "2021-10-03T16:51:19.955Z"
   },
   {
    "duration": 41,
    "start_time": "2021-10-03T16:51:19.973Z"
   },
   {
    "duration": 4,
    "start_time": "2021-10-03T16:51:20.016Z"
   },
   {
    "duration": 25,
    "start_time": "2021-10-03T16:51:20.022Z"
   },
   {
    "duration": 21,
    "start_time": "2021-10-03T16:51:20.049Z"
   },
   {
    "duration": 21,
    "start_time": "2021-10-03T16:51:20.071Z"
   },
   {
    "duration": 7,
    "start_time": "2021-10-03T16:51:20.094Z"
   },
   {
    "duration": 22,
    "start_time": "2021-10-03T16:51:20.103Z"
   },
   {
    "duration": 12,
    "start_time": "2021-10-03T16:51:20.127Z"
   },
   {
    "duration": 17,
    "start_time": "2021-10-03T16:51:20.140Z"
   },
   {
    "duration": 51,
    "start_time": "2021-10-03T16:51:20.158Z"
   },
   {
    "duration": 3,
    "start_time": "2021-10-03T16:51:20.211Z"
   },
   {
    "duration": 21,
    "start_time": "2021-10-03T16:51:20.216Z"
   },
   {
    "duration": 11,
    "start_time": "2021-10-03T16:51:20.239Z"
   },
   {
    "duration": 16,
    "start_time": "2021-10-03T16:51:20.252Z"
   },
   {
    "duration": 11,
    "start_time": "2021-10-03T16:51:20.269Z"
   },
   {
    "duration": 7,
    "start_time": "2021-10-03T16:51:20.281Z"
   },
   {
    "duration": 17,
    "start_time": "2021-10-03T16:51:20.290Z"
   },
   {
    "duration": 27,
    "start_time": "2021-10-03T16:51:20.308Z"
   },
   {
    "duration": 43,
    "start_time": "2021-10-03T16:51:20.336Z"
   },
   {
    "duration": 3,
    "start_time": "2021-10-03T16:51:20.381Z"
   },
   {
    "duration": 23,
    "start_time": "2021-10-03T16:51:20.386Z"
   },
   {
    "duration": 26,
    "start_time": "2021-10-03T16:51:20.411Z"
   },
   {
    "duration": 27,
    "start_time": "2021-10-03T16:51:20.439Z"
   },
   {
    "duration": 19,
    "start_time": "2021-10-03T16:51:20.468Z"
   },
   {
    "duration": 319,
    "start_time": "2021-10-03T16:52:26.514Z"
   },
   {
    "duration": 6,
    "start_time": "2021-10-03T16:52:35.954Z"
   },
   {
    "duration": 4,
    "start_time": "2021-10-03T16:52:38.125Z"
   },
   {
    "duration": 690,
    "start_time": "2021-10-03T16:52:44.266Z"
   },
   {
    "duration": 11,
    "start_time": "2021-10-03T16:52:44.958Z"
   },
   {
    "duration": 18,
    "start_time": "2021-10-03T16:52:44.971Z"
   },
   {
    "duration": 18,
    "start_time": "2021-10-03T16:52:44.991Z"
   },
   {
    "duration": 3,
    "start_time": "2021-10-03T16:52:45.046Z"
   },
   {
    "duration": 23,
    "start_time": "2021-10-03T16:52:45.051Z"
   },
   {
    "duration": 38,
    "start_time": "2021-10-03T16:52:45.076Z"
   },
   {
    "duration": 19,
    "start_time": "2021-10-03T16:52:45.117Z"
   },
   {
    "duration": 13,
    "start_time": "2021-10-03T16:52:45.138Z"
   },
   {
    "duration": 14,
    "start_time": "2021-10-03T16:52:45.153Z"
   },
   {
    "duration": 24,
    "start_time": "2021-10-03T16:52:45.169Z"
   },
   {
    "duration": 26,
    "start_time": "2021-10-03T16:52:45.195Z"
   },
   {
    "duration": 12,
    "start_time": "2021-10-03T16:52:45.222Z"
   },
   {
    "duration": 28,
    "start_time": "2021-10-03T16:52:45.235Z"
   },
   {
    "duration": 17,
    "start_time": "2021-10-03T16:52:45.264Z"
   },
   {
    "duration": 10,
    "start_time": "2021-10-03T16:52:45.283Z"
   },
   {
    "duration": 54,
    "start_time": "2021-10-03T16:52:45.295Z"
   },
   {
    "duration": 15,
    "start_time": "2021-10-03T16:52:45.351Z"
   },
   {
    "duration": 24,
    "start_time": "2021-10-03T16:52:45.368Z"
   },
   {
    "duration": 29,
    "start_time": "2021-10-03T16:52:45.395Z"
   },
   {
    "duration": 6,
    "start_time": "2021-10-03T16:52:45.426Z"
   },
   {
    "duration": 33,
    "start_time": "2021-10-03T16:52:45.434Z"
   },
   {
    "duration": 27,
    "start_time": "2021-10-03T16:52:45.473Z"
   },
   {
    "duration": 24,
    "start_time": "2021-10-03T16:52:45.504Z"
   },
   {
    "duration": 25,
    "start_time": "2021-10-03T16:52:45.530Z"
   },
   {
    "duration": 18,
    "start_time": "2021-10-03T16:52:45.558Z"
   },
   {
    "duration": 54,
    "start_time": "2021-10-03T16:52:45.578Z"
   },
   {
    "duration": 20,
    "start_time": "2021-10-03T16:52:45.634Z"
   },
   {
    "duration": 17,
    "start_time": "2021-10-03T16:52:45.656Z"
   },
   {
    "duration": 11,
    "start_time": "2021-10-03T16:52:45.675Z"
   },
   {
    "duration": 26,
    "start_time": "2021-10-03T16:52:45.688Z"
   },
   {
    "duration": 20,
    "start_time": "2021-10-03T16:52:45.716Z"
   },
   {
    "duration": 19,
    "start_time": "2021-10-03T16:52:45.738Z"
   },
   {
    "duration": 27,
    "start_time": "2021-10-03T16:52:45.759Z"
   },
   {
    "duration": 13,
    "start_time": "2021-10-03T16:52:45.788Z"
   },
   {
    "duration": 26,
    "start_time": "2021-10-03T16:52:45.802Z"
   },
   {
    "duration": 11,
    "start_time": "2021-10-03T16:52:45.830Z"
   },
   {
    "duration": 30,
    "start_time": "2021-10-03T16:52:45.842Z"
   },
   {
    "duration": 10,
    "start_time": "2021-10-03T16:52:45.874Z"
   },
   {
    "duration": 3833,
    "start_time": "2021-10-03T16:52:45.886Z"
   },
   {
    "duration": 24,
    "start_time": "2021-10-03T16:52:49.721Z"
   },
   {
    "duration": 4,
    "start_time": "2021-10-03T16:52:49.748Z"
   },
   {
    "duration": 8,
    "start_time": "2021-10-03T16:52:49.753Z"
   },
   {
    "duration": 12,
    "start_time": "2021-10-03T16:52:49.763Z"
   },
   {
    "duration": 4,
    "start_time": "2021-10-03T16:52:49.777Z"
   },
   {
    "duration": 6,
    "start_time": "2021-10-03T16:52:49.783Z"
   },
   {
    "duration": 13,
    "start_time": "2021-10-03T16:52:49.790Z"
   },
   {
    "duration": 5,
    "start_time": "2021-10-03T16:52:49.805Z"
   },
   {
    "duration": 7,
    "start_time": "2021-10-03T16:52:49.812Z"
   },
   {
    "duration": 11,
    "start_time": "2021-10-03T16:52:49.821Z"
   },
   {
    "duration": 15,
    "start_time": "2021-10-03T16:52:49.845Z"
   },
   {
    "duration": 13,
    "start_time": "2021-10-03T16:52:49.861Z"
   },
   {
    "duration": 9,
    "start_time": "2021-10-03T16:52:49.875Z"
   },
   {
    "duration": 19,
    "start_time": "2021-10-03T16:52:49.885Z"
   },
   {
    "duration": 4,
    "start_time": "2021-10-03T16:52:49.906Z"
   },
   {
    "duration": 5,
    "start_time": "2021-10-03T16:52:49.912Z"
   },
   {
    "duration": 11,
    "start_time": "2021-10-03T16:52:49.919Z"
   },
   {
    "duration": 17,
    "start_time": "2021-10-03T16:52:49.931Z"
   },
   {
    "duration": 3,
    "start_time": "2021-10-03T16:52:49.950Z"
   },
   {
    "duration": 7,
    "start_time": "2021-10-03T16:52:49.955Z"
   },
   {
    "duration": 5,
    "start_time": "2021-10-03T16:52:49.964Z"
   },
   {
    "duration": 17,
    "start_time": "2021-10-03T16:52:49.971Z"
   },
   {
    "duration": 5,
    "start_time": "2021-10-03T16:52:49.990Z"
   },
   {
    "duration": 6,
    "start_time": "2021-10-03T16:52:49.996Z"
   },
   {
    "duration": 12,
    "start_time": "2021-10-03T16:52:50.004Z"
   },
   {
    "duration": 10,
    "start_time": "2021-10-03T16:52:50.017Z"
   },
   {
    "duration": 47,
    "start_time": "2021-10-03T16:52:50.029Z"
   },
   {
    "duration": 4,
    "start_time": "2021-10-03T16:52:50.081Z"
   },
   {
    "duration": 10,
    "start_time": "2021-10-03T16:52:50.087Z"
   },
   {
    "duration": 10,
    "start_time": "2021-10-03T16:52:50.099Z"
   },
   {
    "duration": 41,
    "start_time": "2021-10-03T16:52:50.111Z"
   },
   {
    "duration": 5,
    "start_time": "2021-10-03T16:52:50.154Z"
   },
   {
    "duration": 9,
    "start_time": "2021-10-03T16:52:50.161Z"
   },
   {
    "duration": 11,
    "start_time": "2021-10-03T16:52:50.173Z"
   },
   {
    "duration": 13,
    "start_time": "2021-10-03T16:52:50.186Z"
   },
   {
    "duration": 51,
    "start_time": "2021-10-03T16:52:50.201Z"
   },
   {
    "duration": 4,
    "start_time": "2021-10-03T16:52:50.253Z"
   },
   {
    "duration": 10,
    "start_time": "2021-10-03T16:52:50.258Z"
   },
   {
    "duration": 10,
    "start_time": "2021-10-03T16:52:50.270Z"
   },
   {
    "duration": 13,
    "start_time": "2021-10-03T16:52:50.283Z"
   },
   {
    "duration": 5,
    "start_time": "2021-10-03T16:52:50.298Z"
   },
   {
    "duration": 13,
    "start_time": "2021-10-03T16:52:50.305Z"
   },
   {
    "duration": 24,
    "start_time": "2021-10-03T16:52:50.320Z"
   },
   {
    "duration": 22,
    "start_time": "2021-10-03T16:52:50.346Z"
   },
   {
    "duration": 52,
    "start_time": "2021-10-03T16:52:50.371Z"
   },
   {
    "duration": 5,
    "start_time": "2021-10-03T16:52:50.425Z"
   },
   {
    "duration": 16,
    "start_time": "2021-10-03T16:52:50.432Z"
   },
   {
    "duration": 13,
    "start_time": "2021-10-03T16:52:50.450Z"
   },
   {
    "duration": 21,
    "start_time": "2021-10-03T16:52:50.465Z"
   },
   {
    "duration": 4,
    "start_time": "2021-10-03T16:52:50.488Z"
   },
   {
    "duration": 10,
    "start_time": "2021-10-03T16:52:50.494Z"
   },
   {
    "duration": 11,
    "start_time": "2021-10-03T16:52:50.506Z"
   },
   {
    "duration": 9,
    "start_time": "2021-10-03T16:52:50.519Z"
   },
   {
    "duration": 43,
    "start_time": "2021-10-03T16:52:50.530Z"
   },
   {
    "duration": 4,
    "start_time": "2021-10-03T16:52:50.575Z"
   },
   {
    "duration": 8,
    "start_time": "2021-10-03T16:52:50.581Z"
   },
   {
    "duration": 12,
    "start_time": "2021-10-03T16:52:50.591Z"
   },
   {
    "duration": 7,
    "start_time": "2021-10-03T16:52:50.605Z"
   },
   {
    "duration": 24,
    "start_time": "2021-10-03T16:52:50.614Z"
   },
   {
    "duration": 20,
    "start_time": "2021-10-03T16:53:51.755Z"
   },
   {
    "duration": 4,
    "start_time": "2021-10-03T16:53:53.210Z"
   },
   {
    "duration": 3,
    "start_time": "2021-10-03T16:53:54.835Z"
   },
   {
    "duration": 673,
    "start_time": "2021-10-03T16:54:04.530Z"
   },
   {
    "duration": 10,
    "start_time": "2021-10-03T16:54:05.204Z"
   },
   {
    "duration": 8,
    "start_time": "2021-10-03T16:54:05.216Z"
   },
   {
    "duration": 6,
    "start_time": "2021-10-03T16:54:05.226Z"
   },
   {
    "duration": 11,
    "start_time": "2021-10-03T16:54:05.234Z"
   },
   {
    "duration": 6,
    "start_time": "2021-10-03T16:54:05.246Z"
   },
   {
    "duration": 16,
    "start_time": "2021-10-03T16:54:05.254Z"
   },
   {
    "duration": 15,
    "start_time": "2021-10-03T16:54:05.272Z"
   },
   {
    "duration": 5,
    "start_time": "2021-10-03T16:54:05.289Z"
   },
   {
    "duration": 5,
    "start_time": "2021-10-03T16:54:05.295Z"
   },
   {
    "duration": 11,
    "start_time": "2021-10-03T16:54:05.302Z"
   },
   {
    "duration": 33,
    "start_time": "2021-10-03T16:54:05.315Z"
   },
   {
    "duration": 4,
    "start_time": "2021-10-03T16:54:05.349Z"
   },
   {
    "duration": 11,
    "start_time": "2021-10-03T16:54:05.355Z"
   },
   {
    "duration": 7,
    "start_time": "2021-10-03T16:54:05.367Z"
   },
   {
    "duration": 7,
    "start_time": "2021-10-03T16:54:05.376Z"
   },
   {
    "duration": 27,
    "start_time": "2021-10-03T16:54:05.384Z"
   },
   {
    "duration": 33,
    "start_time": "2021-10-03T16:54:05.413Z"
   },
   {
    "duration": 4,
    "start_time": "2021-10-03T16:54:05.447Z"
   },
   {
    "duration": 16,
    "start_time": "2021-10-03T16:54:05.452Z"
   },
   {
    "duration": 4,
    "start_time": "2021-10-03T16:54:05.469Z"
   },
   {
    "duration": 15,
    "start_time": "2021-10-03T16:54:05.474Z"
   },
   {
    "duration": 13,
    "start_time": "2021-10-03T16:54:05.492Z"
   },
   {
    "duration": 41,
    "start_time": "2021-10-03T16:54:05.508Z"
   },
   {
    "duration": 14,
    "start_time": "2021-10-03T16:54:05.551Z"
   },
   {
    "duration": 12,
    "start_time": "2021-10-03T16:54:05.567Z"
   },
   {
    "duration": 21,
    "start_time": "2021-10-03T16:54:05.581Z"
   },
   {
    "duration": 16,
    "start_time": "2021-10-03T16:54:05.603Z"
   },
   {
    "duration": 32,
    "start_time": "2021-10-03T16:54:05.621Z"
   },
   {
    "duration": 4,
    "start_time": "2021-10-03T16:54:05.655Z"
   },
   {
    "duration": 12,
    "start_time": "2021-10-03T16:54:05.661Z"
   },
   {
    "duration": 6,
    "start_time": "2021-10-03T16:54:05.675Z"
   },
   {
    "duration": 8,
    "start_time": "2021-10-03T16:54:05.682Z"
   },
   {
    "duration": 13,
    "start_time": "2021-10-03T16:54:05.691Z"
   },
   {
    "duration": 42,
    "start_time": "2021-10-03T16:54:05.705Z"
   },
   {
    "duration": 6,
    "start_time": "2021-10-03T16:54:05.748Z"
   },
   {
    "duration": 7,
    "start_time": "2021-10-03T16:54:05.755Z"
   },
   {
    "duration": 11,
    "start_time": "2021-10-03T16:54:05.764Z"
   },
   {
    "duration": 6,
    "start_time": "2021-10-03T16:54:05.777Z"
   },
   {
    "duration": 3246,
    "start_time": "2021-10-03T16:54:05.784Z"
   },
   {
    "duration": 21,
    "start_time": "2021-10-03T16:54:09.032Z"
   },
   {
    "duration": 6,
    "start_time": "2021-10-03T16:54:09.055Z"
   },
   {
    "duration": 11,
    "start_time": "2021-10-03T16:54:09.062Z"
   },
   {
    "duration": 16,
    "start_time": "2021-10-03T16:54:09.074Z"
   },
   {
    "duration": 8,
    "start_time": "2021-10-03T16:54:09.091Z"
   },
   {
    "duration": 9,
    "start_time": "2021-10-03T16:54:09.101Z"
   },
   {
    "duration": 5,
    "start_time": "2021-10-03T16:54:09.112Z"
   },
   {
    "duration": 5,
    "start_time": "2021-10-03T16:54:09.118Z"
   },
   {
    "duration": 5,
    "start_time": "2021-10-03T16:54:09.125Z"
   },
   {
    "duration": 3,
    "start_time": "2021-10-03T16:54:09.136Z"
   },
   {
    "duration": 20,
    "start_time": "2021-10-03T16:54:09.140Z"
   },
   {
    "duration": 15,
    "start_time": "2021-10-03T16:54:09.161Z"
   },
   {
    "duration": 6,
    "start_time": "2021-10-03T16:54:09.177Z"
   },
   {
    "duration": 5,
    "start_time": "2021-10-03T16:54:09.184Z"
   },
   {
    "duration": 5,
    "start_time": "2021-10-03T16:54:09.191Z"
   },
   {
    "duration": 8,
    "start_time": "2021-10-03T16:54:09.197Z"
   },
   {
    "duration": 12,
    "start_time": "2021-10-03T16:54:09.207Z"
   },
   {
    "duration": 34,
    "start_time": "2021-10-03T16:54:09.221Z"
   },
   {
    "duration": 3,
    "start_time": "2021-10-03T16:54:09.257Z"
   },
   {
    "duration": 6,
    "start_time": "2021-10-03T16:54:09.262Z"
   },
   {
    "duration": 8,
    "start_time": "2021-10-03T16:54:09.270Z"
   },
   {
    "duration": 20,
    "start_time": "2021-10-03T16:54:09.279Z"
   },
   {
    "duration": 4,
    "start_time": "2021-10-03T16:54:09.301Z"
   },
   {
    "duration": 8,
    "start_time": "2021-10-03T16:54:09.306Z"
   },
   {
    "duration": 11,
    "start_time": "2021-10-03T16:54:09.316Z"
   },
   {
    "duration": 18,
    "start_time": "2021-10-03T16:54:09.328Z"
   },
   {
    "duration": 39,
    "start_time": "2021-10-03T16:54:09.347Z"
   },
   {
    "duration": 4,
    "start_time": "2021-10-03T16:54:09.391Z"
   },
   {
    "duration": 11,
    "start_time": "2021-10-03T16:54:09.397Z"
   },
   {
    "duration": 9,
    "start_time": "2021-10-03T16:54:09.410Z"
   },
   {
    "duration": 26,
    "start_time": "2021-10-03T16:54:09.421Z"
   },
   {
    "duration": 4,
    "start_time": "2021-10-03T16:54:09.449Z"
   },
   {
    "duration": 6,
    "start_time": "2021-10-03T16:54:09.454Z"
   },
   {
    "duration": 6,
    "start_time": "2021-10-03T16:54:09.462Z"
   },
   {
    "duration": 10,
    "start_time": "2021-10-03T16:54:09.469Z"
   },
   {
    "duration": 40,
    "start_time": "2021-10-03T16:54:09.480Z"
   },
   {
    "duration": 22,
    "start_time": "2021-10-03T16:54:09.522Z"
   },
   {
    "duration": 9,
    "start_time": "2021-10-03T16:54:09.546Z"
   },
   {
    "duration": 14,
    "start_time": "2021-10-03T16:54:09.557Z"
   },
   {
    "duration": 10,
    "start_time": "2021-10-03T16:54:09.572Z"
   },
   {
    "duration": 3,
    "start_time": "2021-10-03T16:54:09.584Z"
   },
   {
    "duration": 7,
    "start_time": "2021-10-03T16:54:09.589Z"
   },
   {
    "duration": 6,
    "start_time": "2021-10-03T16:54:09.598Z"
   },
   {
    "duration": 9,
    "start_time": "2021-10-03T16:54:09.605Z"
   },
   {
    "duration": 51,
    "start_time": "2021-10-03T16:54:09.616Z"
   },
   {
    "duration": 3,
    "start_time": "2021-10-03T16:54:09.668Z"
   },
   {
    "duration": 16,
    "start_time": "2021-10-03T16:54:09.672Z"
   },
   {
    "duration": 10,
    "start_time": "2021-10-03T16:54:09.689Z"
   },
   {
    "duration": 10,
    "start_time": "2021-10-03T16:54:09.701Z"
   },
   {
    "duration": 4,
    "start_time": "2021-10-03T16:54:09.712Z"
   },
   {
    "duration": 5,
    "start_time": "2021-10-03T16:54:09.717Z"
   },
   {
    "duration": 6,
    "start_time": "2021-10-03T16:54:09.723Z"
   },
   {
    "duration": 7,
    "start_time": "2021-10-03T16:54:09.744Z"
   },
   {
    "duration": 33,
    "start_time": "2021-10-03T16:54:09.753Z"
   },
   {
    "duration": 4,
    "start_time": "2021-10-03T16:54:09.787Z"
   },
   {
    "duration": 9,
    "start_time": "2021-10-03T16:54:09.792Z"
   },
   {
    "duration": 10,
    "start_time": "2021-10-03T16:54:09.803Z"
   },
   {
    "duration": 6,
    "start_time": "2021-10-03T16:54:09.815Z"
   },
   {
    "duration": 28,
    "start_time": "2021-10-03T16:54:09.823Z"
   },
   {
    "duration": 5,
    "start_time": "2021-10-03T16:54:39.331Z"
   },
   {
    "duration": 3,
    "start_time": "2021-10-03T16:54:55.532Z"
   },
   {
    "duration": 3,
    "start_time": "2021-10-03T16:56:54.206Z"
   },
   {
    "duration": 12,
    "start_time": "2021-10-03T16:57:36.976Z"
   },
   {
    "duration": 681,
    "start_time": "2021-10-03T16:57:51.503Z"
   },
   {
    "duration": 11,
    "start_time": "2021-10-03T16:57:52.186Z"
   },
   {
    "duration": 5,
    "start_time": "2021-10-03T16:57:52.199Z"
   },
   {
    "duration": 11,
    "start_time": "2021-10-03T16:57:52.206Z"
   },
   {
    "duration": 4,
    "start_time": "2021-10-03T16:57:52.219Z"
   },
   {
    "duration": 22,
    "start_time": "2021-10-03T16:57:52.225Z"
   },
   {
    "duration": 23,
    "start_time": "2021-10-03T16:57:52.249Z"
   },
   {
    "duration": 15,
    "start_time": "2021-10-03T16:57:52.275Z"
   },
   {
    "duration": 6,
    "start_time": "2021-10-03T16:57:52.292Z"
   },
   {
    "duration": 4,
    "start_time": "2021-10-03T16:57:52.299Z"
   },
   {
    "duration": 11,
    "start_time": "2021-10-03T16:57:52.304Z"
   },
   {
    "duration": 32,
    "start_time": "2021-10-03T16:57:52.316Z"
   },
   {
    "duration": 3,
    "start_time": "2021-10-03T16:57:52.350Z"
   },
   {
    "duration": 11,
    "start_time": "2021-10-03T16:57:52.355Z"
   },
   {
    "duration": 5,
    "start_time": "2021-10-03T16:57:52.368Z"
   },
   {
    "duration": 5,
    "start_time": "2021-10-03T16:57:52.375Z"
   },
   {
    "duration": 27,
    "start_time": "2021-10-03T16:57:52.382Z"
   },
   {
    "duration": 39,
    "start_time": "2021-10-03T16:57:52.411Z"
   },
   {
    "duration": 3,
    "start_time": "2021-10-03T16:57:52.452Z"
   },
   {
    "duration": 16,
    "start_time": "2021-10-03T16:57:52.457Z"
   },
   {
    "duration": 4,
    "start_time": "2021-10-03T16:57:52.475Z"
   },
   {
    "duration": 13,
    "start_time": "2021-10-03T16:57:52.480Z"
   },
   {
    "duration": 47,
    "start_time": "2021-10-03T16:57:52.498Z"
   },
   {
    "duration": 18,
    "start_time": "2021-10-03T16:57:52.548Z"
   },
   {
    "duration": 15,
    "start_time": "2021-10-03T16:57:52.567Z"
   },
   {
    "duration": 10,
    "start_time": "2021-10-03T16:57:52.584Z"
   },
   {
    "duration": 19,
    "start_time": "2021-10-03T16:57:52.596Z"
   },
   {
    "duration": 41,
    "start_time": "2021-10-03T16:57:52.617Z"
   },
   {
    "duration": 14,
    "start_time": "2021-10-03T16:57:52.660Z"
   },
   {
    "duration": 5,
    "start_time": "2021-10-03T16:57:52.675Z"
   },
   {
    "duration": 13,
    "start_time": "2021-10-03T16:57:52.681Z"
   },
   {
    "duration": 9,
    "start_time": "2021-10-03T16:57:52.696Z"
   },
   {
    "duration": 9,
    "start_time": "2021-10-03T16:57:52.706Z"
   },
   {
    "duration": 36,
    "start_time": "2021-10-03T16:57:52.717Z"
   },
   {
    "duration": 6,
    "start_time": "2021-10-03T16:57:52.754Z"
   },
   {
    "duration": 5,
    "start_time": "2021-10-03T16:57:52.763Z"
   },
   {
    "duration": 7,
    "start_time": "2021-10-03T16:57:52.770Z"
   },
   {
    "duration": 7,
    "start_time": "2021-10-03T16:57:52.778Z"
   },
   {
    "duration": 3,
    "start_time": "2021-10-03T16:57:52.787Z"
   },
   {
    "duration": 3539,
    "start_time": "2021-10-03T16:57:52.791Z"
   },
   {
    "duration": 21,
    "start_time": "2021-10-03T16:57:56.332Z"
   },
   {
    "duration": 9,
    "start_time": "2021-10-03T16:57:56.354Z"
   },
   {
    "duration": 13,
    "start_time": "2021-10-03T16:57:56.365Z"
   },
   {
    "duration": 24,
    "start_time": "2021-10-03T16:57:56.379Z"
   },
   {
    "duration": 5,
    "start_time": "2021-10-03T16:57:56.405Z"
   },
   {
    "duration": 8,
    "start_time": "2021-10-03T16:57:56.412Z"
   },
   {
    "duration": 4,
    "start_time": "2021-10-03T16:57:56.422Z"
   },
   {
    "duration": 5,
    "start_time": "2021-10-03T16:57:56.428Z"
   },
   {
    "duration": 5,
    "start_time": "2021-10-03T16:57:56.435Z"
   },
   {
    "duration": 3,
    "start_time": "2021-10-03T16:57:56.444Z"
   },
   {
    "duration": 16,
    "start_time": "2021-10-03T16:57:56.449Z"
   },
   {
    "duration": 14,
    "start_time": "2021-10-03T16:57:56.467Z"
   },
   {
    "duration": 5,
    "start_time": "2021-10-03T16:57:56.482Z"
   },
   {
    "duration": 6,
    "start_time": "2021-10-03T16:57:56.488Z"
   },
   {
    "duration": 5,
    "start_time": "2021-10-03T16:57:56.496Z"
   },
   {
    "duration": 6,
    "start_time": "2021-10-03T16:57:56.502Z"
   },
   {
    "duration": 40,
    "start_time": "2021-10-03T16:57:56.510Z"
   },
   {
    "duration": 19,
    "start_time": "2021-10-03T16:57:56.551Z"
   },
   {
    "duration": 3,
    "start_time": "2021-10-03T16:57:56.572Z"
   },
   {
    "duration": 6,
    "start_time": "2021-10-03T16:57:56.576Z"
   },
   {
    "duration": 10,
    "start_time": "2021-10-03T16:57:56.584Z"
   },
   {
    "duration": 5,
    "start_time": "2021-10-03T16:57:56.595Z"
   },
   {
    "duration": 19,
    "start_time": "2021-10-03T16:57:56.602Z"
   },
   {
    "duration": 22,
    "start_time": "2021-10-03T16:57:56.623Z"
   },
   {
    "duration": 7,
    "start_time": "2021-10-03T16:57:56.647Z"
   },
   {
    "duration": 7,
    "start_time": "2021-10-03T16:57:56.656Z"
   },
   {
    "duration": 8,
    "start_time": "2021-10-03T16:57:56.665Z"
   },
   {
    "duration": 34,
    "start_time": "2021-10-03T16:57:56.678Z"
   },
   {
    "duration": 4,
    "start_time": "2021-10-03T16:57:56.714Z"
   },
   {
    "duration": 25,
    "start_time": "2021-10-03T16:57:56.719Z"
   },
   {
    "duration": 10,
    "start_time": "2021-10-03T16:57:56.746Z"
   },
   {
    "duration": 14,
    "start_time": "2021-10-03T16:57:56.758Z"
   },
   {
    "duration": 4,
    "start_time": "2021-10-03T16:57:56.773Z"
   },
   {
    "duration": 6,
    "start_time": "2021-10-03T16:57:56.779Z"
   },
   {
    "duration": 6,
    "start_time": "2021-10-03T16:57:56.786Z"
   },
   {
    "duration": 10,
    "start_time": "2021-10-03T16:57:56.794Z"
   },
   {
    "duration": 64,
    "start_time": "2021-10-03T16:57:56.806Z"
   },
   {
    "duration": 3,
    "start_time": "2021-10-03T16:57:56.872Z"
   },
   {
    "duration": 9,
    "start_time": "2021-10-03T16:57:56.877Z"
   },
   {
    "duration": 11,
    "start_time": "2021-10-03T16:57:56.888Z"
   },
   {
    "duration": 11,
    "start_time": "2021-10-03T16:57:56.900Z"
   },
   {
    "duration": 4,
    "start_time": "2021-10-03T16:57:56.913Z"
   },
   {
    "duration": 5,
    "start_time": "2021-10-03T16:57:56.919Z"
   },
   {
    "duration": 4,
    "start_time": "2021-10-03T16:57:56.944Z"
   },
   {
    "duration": 11,
    "start_time": "2021-10-03T16:57:56.950Z"
   },
   {
    "duration": 36,
    "start_time": "2021-10-03T16:57:56.962Z"
   },
   {
    "duration": 4,
    "start_time": "2021-10-03T16:57:57.000Z"
   },
   {
    "duration": 11,
    "start_time": "2021-10-03T16:57:57.005Z"
   },
   {
    "duration": 29,
    "start_time": "2021-10-03T16:57:57.018Z"
   },
   {
    "duration": 12,
    "start_time": "2021-10-03T16:57:57.049Z"
   },
   {
    "duration": 4,
    "start_time": "2021-10-03T16:57:57.063Z"
   },
   {
    "duration": 6,
    "start_time": "2021-10-03T16:57:57.068Z"
   },
   {
    "duration": 5,
    "start_time": "2021-10-03T16:57:57.076Z"
   },
   {
    "duration": 11,
    "start_time": "2021-10-03T16:57:57.083Z"
   },
   {
    "duration": 51,
    "start_time": "2021-10-03T16:57:57.096Z"
   },
   {
    "duration": 4,
    "start_time": "2021-10-03T16:57:57.148Z"
   },
   {
    "duration": 11,
    "start_time": "2021-10-03T16:57:57.153Z"
   },
   {
    "duration": 11,
    "start_time": "2021-10-03T16:57:57.166Z"
   },
   {
    "duration": 16,
    "start_time": "2021-10-03T16:57:57.178Z"
   },
   {
    "duration": 17,
    "start_time": "2021-10-03T16:57:57.195Z"
   },
   {
    "duration": 12,
    "start_time": "2021-10-03T16:58:14.702Z"
   },
   {
    "duration": 6,
    "start_time": "2021-10-03T16:59:36.595Z"
   },
   {
    "duration": 5,
    "start_time": "2021-10-03T17:00:02.785Z"
   },
   {
    "duration": 4,
    "start_time": "2021-10-03T17:00:35.625Z"
   },
   {
    "duration": 10,
    "start_time": "2021-10-03T17:00:58.952Z"
   },
   {
    "duration": 7,
    "start_time": "2021-10-03T17:01:25.555Z"
   },
   {
    "duration": 4,
    "start_time": "2021-10-03T17:01:26.738Z"
   },
   {
    "duration": 4,
    "start_time": "2021-10-03T17:01:28.233Z"
   },
   {
    "duration": 7,
    "start_time": "2021-10-03T17:01:30.498Z"
   },
   {
    "duration": 634,
    "start_time": "2021-10-03T17:02:03.580Z"
   },
   {
    "duration": 10,
    "start_time": "2021-10-03T17:02:04.216Z"
   },
   {
    "duration": 10,
    "start_time": "2021-10-03T17:02:04.228Z"
   },
   {
    "duration": 8,
    "start_time": "2021-10-03T17:02:04.240Z"
   },
   {
    "duration": 4,
    "start_time": "2021-10-03T17:02:04.250Z"
   },
   {
    "duration": 6,
    "start_time": "2021-10-03T17:02:04.256Z"
   },
   {
    "duration": 16,
    "start_time": "2021-10-03T17:02:04.264Z"
   },
   {
    "duration": 16,
    "start_time": "2021-10-03T17:02:04.283Z"
   },
   {
    "duration": 5,
    "start_time": "2021-10-03T17:02:04.301Z"
   },
   {
    "duration": 37,
    "start_time": "2021-10-03T17:02:04.307Z"
   },
   {
    "duration": 8,
    "start_time": "2021-10-03T17:02:04.346Z"
   },
   {
    "duration": 11,
    "start_time": "2021-10-03T17:02:04.356Z"
   },
   {
    "duration": 3,
    "start_time": "2021-10-03T17:02:04.369Z"
   },
   {
    "duration": 16,
    "start_time": "2021-10-03T17:02:04.373Z"
   },
   {
    "duration": 5,
    "start_time": "2021-10-03T17:02:04.391Z"
   },
   {
    "duration": 6,
    "start_time": "2021-10-03T17:02:04.397Z"
   },
   {
    "duration": 59,
    "start_time": "2021-10-03T17:02:04.405Z"
   },
   {
    "duration": 9,
    "start_time": "2021-10-03T17:02:04.466Z"
   },
   {
    "duration": 3,
    "start_time": "2021-10-03T17:02:04.477Z"
   },
   {
    "duration": 14,
    "start_time": "2021-10-03T17:02:04.481Z"
   },
   {
    "duration": 3,
    "start_time": "2021-10-03T17:02:04.496Z"
   },
   {
    "duration": 43,
    "start_time": "2021-10-03T17:02:04.501Z"
   },
   {
    "duration": 14,
    "start_time": "2021-10-03T17:02:04.548Z"
   },
   {
    "duration": 16,
    "start_time": "2021-10-03T17:02:04.565Z"
   },
   {
    "duration": 14,
    "start_time": "2021-10-03T17:02:04.582Z"
   },
   {
    "duration": 11,
    "start_time": "2021-10-03T17:02:04.597Z"
   },
   {
    "duration": 47,
    "start_time": "2021-10-03T17:02:04.609Z"
   },
   {
    "duration": 18,
    "start_time": "2021-10-03T17:02:04.657Z"
   },
   {
    "duration": 14,
    "start_time": "2021-10-03T17:02:04.677Z"
   },
   {
    "duration": 5,
    "start_time": "2021-10-03T17:02:04.692Z"
   },
   {
    "duration": 13,
    "start_time": "2021-10-03T17:02:04.698Z"
   },
   {
    "duration": 33,
    "start_time": "2021-10-03T17:02:04.712Z"
   },
   {
    "duration": 12,
    "start_time": "2021-10-03T17:02:04.747Z"
   },
   {
    "duration": 23,
    "start_time": "2021-10-03T17:02:04.762Z"
   },
   {
    "duration": 17,
    "start_time": "2021-10-03T17:02:04.787Z"
   },
   {
    "duration": 24,
    "start_time": "2021-10-03T17:02:04.808Z"
   },
   {
    "duration": 17,
    "start_time": "2021-10-03T17:02:04.834Z"
   },
   {
    "duration": 19,
    "start_time": "2021-10-03T17:02:04.853Z"
   },
   {
    "duration": 9,
    "start_time": "2021-10-03T17:02:04.874Z"
   },
   {
    "duration": 3459,
    "start_time": "2021-10-03T17:02:04.885Z"
   },
   {
    "duration": 13,
    "start_time": "2021-10-03T17:02:08.346Z"
   },
   {
    "duration": 4,
    "start_time": "2021-10-03T17:02:08.361Z"
   },
   {
    "duration": 10,
    "start_time": "2021-10-03T17:02:08.367Z"
   },
   {
    "duration": 11,
    "start_time": "2021-10-03T17:02:08.378Z"
   },
   {
    "duration": 4,
    "start_time": "2021-10-03T17:02:08.390Z"
   },
   {
    "duration": 6,
    "start_time": "2021-10-03T17:02:08.395Z"
   },
   {
    "duration": 5,
    "start_time": "2021-10-03T17:02:08.402Z"
   },
   {
    "duration": 10,
    "start_time": "2021-10-03T17:02:08.408Z"
   },
   {
    "duration": 5,
    "start_time": "2021-10-03T17:02:08.420Z"
   },
   {
    "duration": 4,
    "start_time": "2021-10-03T17:02:08.445Z"
   },
   {
    "duration": 15,
    "start_time": "2021-10-03T17:02:08.451Z"
   },
   {
    "duration": 14,
    "start_time": "2021-10-03T17:02:08.468Z"
   },
   {
    "duration": 6,
    "start_time": "2021-10-03T17:02:08.484Z"
   },
   {
    "duration": 4,
    "start_time": "2021-10-03T17:02:08.492Z"
   },
   {
    "duration": 5,
    "start_time": "2021-10-03T17:02:08.498Z"
   },
   {
    "duration": 8,
    "start_time": "2021-10-03T17:02:08.504Z"
   },
   {
    "duration": 33,
    "start_time": "2021-10-03T17:02:08.514Z"
   },
   {
    "duration": 23,
    "start_time": "2021-10-03T17:02:08.548Z"
   },
   {
    "duration": 4,
    "start_time": "2021-10-03T17:02:08.573Z"
   },
   {
    "duration": 6,
    "start_time": "2021-10-03T17:02:08.578Z"
   },
   {
    "duration": 9,
    "start_time": "2021-10-03T17:02:08.586Z"
   },
   {
    "duration": 11,
    "start_time": "2021-10-03T17:02:08.596Z"
   },
   {
    "duration": 8,
    "start_time": "2021-10-03T17:02:08.609Z"
   },
   {
    "duration": 42,
    "start_time": "2021-10-03T17:02:08.619Z"
   },
   {
    "duration": 4,
    "start_time": "2021-10-03T17:02:08.663Z"
   },
   {
    "duration": 7,
    "start_time": "2021-10-03T17:02:08.668Z"
   },
   {
    "duration": 9,
    "start_time": "2021-10-03T17:02:08.677Z"
   },
   {
    "duration": 6,
    "start_time": "2021-10-03T17:02:08.692Z"
   },
   {
    "duration": 47,
    "start_time": "2021-10-03T17:02:08.701Z"
   },
   {
    "duration": 4,
    "start_time": "2021-10-03T17:02:08.749Z"
   },
   {
    "duration": 10,
    "start_time": "2021-10-03T17:02:08.754Z"
   },
   {
    "duration": 9,
    "start_time": "2021-10-03T17:02:08.766Z"
   },
   {
    "duration": 14,
    "start_time": "2021-10-03T17:02:08.776Z"
   },
   {
    "duration": 3,
    "start_time": "2021-10-03T17:02:08.792Z"
   },
   {
    "duration": 6,
    "start_time": "2021-10-03T17:02:08.797Z"
   },
   {
    "duration": 10,
    "start_time": "2021-10-03T17:02:08.805Z"
   },
   {
    "duration": 30,
    "start_time": "2021-10-03T17:02:08.816Z"
   },
   {
    "duration": 38,
    "start_time": "2021-10-03T17:02:08.848Z"
   },
   {
    "duration": 4,
    "start_time": "2021-10-03T17:02:08.887Z"
   },
   {
    "duration": 8,
    "start_time": "2021-10-03T17:02:08.892Z"
   },
   {
    "duration": 10,
    "start_time": "2021-10-03T17:02:08.902Z"
   },
   {
    "duration": 10,
    "start_time": "2021-10-03T17:02:08.914Z"
   },
   {
    "duration": 20,
    "start_time": "2021-10-03T17:02:08.926Z"
   },
   {
    "duration": 5,
    "start_time": "2021-10-03T17:02:08.948Z"
   },
   {
    "duration": 6,
    "start_time": "2021-10-03T17:02:08.955Z"
   },
   {
    "duration": 10,
    "start_time": "2021-10-03T17:02:08.963Z"
   },
   {
    "duration": 38,
    "start_time": "2021-10-03T17:02:08.974Z"
   },
   {
    "duration": 3,
    "start_time": "2021-10-03T17:02:09.014Z"
   },
   {
    "duration": 26,
    "start_time": "2021-10-03T17:02:09.019Z"
   },
   {
    "duration": 9,
    "start_time": "2021-10-03T17:02:09.046Z"
   },
   {
    "duration": 11,
    "start_time": "2021-10-03T17:02:09.057Z"
   },
   {
    "duration": 3,
    "start_time": "2021-10-03T17:02:09.070Z"
   },
   {
    "duration": 5,
    "start_time": "2021-10-03T17:02:09.075Z"
   },
   {
    "duration": 6,
    "start_time": "2021-10-03T17:02:09.081Z"
   },
   {
    "duration": 9,
    "start_time": "2021-10-03T17:02:09.088Z"
   },
   {
    "duration": 59,
    "start_time": "2021-10-03T17:02:09.098Z"
   },
   {
    "duration": 4,
    "start_time": "2021-10-03T17:02:09.158Z"
   },
   {
    "duration": 9,
    "start_time": "2021-10-03T17:02:09.164Z"
   },
   {
    "duration": 12,
    "start_time": "2021-10-03T17:02:09.175Z"
   },
   {
    "duration": 9,
    "start_time": "2021-10-03T17:02:09.189Z"
   },
   {
    "duration": 3,
    "start_time": "2021-10-03T17:02:09.200Z"
   },
   {
    "duration": 7,
    "start_time": "2021-10-03T17:02:09.204Z"
   },
   {
    "duration": 10,
    "start_time": "2021-10-03T17:02:09.212Z"
   },
   {
    "duration": 22,
    "start_time": "2021-10-03T17:02:09.224Z"
   },
   {
    "duration": 9,
    "start_time": "2021-10-03T17:02:09.248Z"
   },
   {
    "duration": 84,
    "start_time": "2021-10-03T17:04:35.653Z"
   },
   {
    "duration": 305,
    "start_time": "2021-10-03T17:04:40.045Z"
   },
   {
    "duration": 8,
    "start_time": "2021-10-03T17:04:54.388Z"
   },
   {
    "duration": 86,
    "start_time": "2021-10-03T17:06:07.270Z"
   },
   {
    "duration": 7,
    "start_time": "2021-10-03T17:06:10.750Z"
   },
   {
    "duration": 276,
    "start_time": "2021-10-03T17:06:59.917Z"
   },
   {
    "duration": 4,
    "start_time": "2021-10-03T17:07:11.106Z"
   },
   {
    "duration": 19,
    "start_time": "2021-10-03T17:08:30.637Z"
   },
   {
    "duration": 664,
    "start_time": "2021-10-03T17:09:06.230Z"
   },
   {
    "duration": 10,
    "start_time": "2021-10-03T17:09:06.895Z"
   },
   {
    "duration": 5,
    "start_time": "2021-10-03T17:09:06.907Z"
   },
   {
    "duration": 8,
    "start_time": "2021-10-03T17:09:06.913Z"
   },
   {
    "duration": 22,
    "start_time": "2021-10-03T17:09:06.923Z"
   },
   {
    "duration": 3,
    "start_time": "2021-10-03T17:09:06.947Z"
   },
   {
    "duration": 17,
    "start_time": "2021-10-03T17:09:06.951Z"
   },
   {
    "duration": 12,
    "start_time": "2021-10-03T17:09:06.971Z"
   },
   {
    "duration": 4,
    "start_time": "2021-10-03T17:09:06.985Z"
   },
   {
    "duration": 7,
    "start_time": "2021-10-03T17:09:06.991Z"
   },
   {
    "duration": 17,
    "start_time": "2021-10-03T17:09:07.000Z"
   },
   {
    "duration": 25,
    "start_time": "2021-10-03T17:09:07.019Z"
   },
   {
    "duration": 3,
    "start_time": "2021-10-03T17:09:07.046Z"
   },
   {
    "duration": 11,
    "start_time": "2021-10-03T17:09:07.051Z"
   },
   {
    "duration": 10,
    "start_time": "2021-10-03T17:09:07.064Z"
   },
   {
    "duration": 4,
    "start_time": "2021-10-03T17:09:07.076Z"
   },
   {
    "duration": 11,
    "start_time": "2021-10-03T17:09:07.082Z"
   },
   {
    "duration": 6,
    "start_time": "2021-10-03T17:09:07.095Z"
   },
   {
    "duration": 5,
    "start_time": "2021-10-03T17:09:07.103Z"
   },
   {
    "duration": 28,
    "start_time": "2021-10-03T17:09:07.145Z"
   },
   {
    "duration": 10,
    "start_time": "2021-10-03T17:09:07.175Z"
   },
   {
    "duration": 5,
    "start_time": "2021-10-03T17:09:07.187Z"
   },
   {
    "duration": 10,
    "start_time": "2021-10-03T17:09:07.196Z"
   },
   {
    "duration": 3,
    "start_time": "2021-10-03T17:09:07.209Z"
   },
   {
    "duration": 40,
    "start_time": "2021-10-03T17:09:07.213Z"
   },
   {
    "duration": 15,
    "start_time": "2021-10-03T17:09:07.254Z"
   },
   {
    "duration": 16,
    "start_time": "2021-10-03T17:09:07.271Z"
   },
   {
    "duration": 15,
    "start_time": "2021-10-03T17:09:07.289Z"
   },
   {
    "duration": 40,
    "start_time": "2021-10-03T17:09:07.306Z"
   },
   {
    "duration": 22,
    "start_time": "2021-10-03T17:09:07.348Z"
   },
   {
    "duration": 22,
    "start_time": "2021-10-03T17:09:07.372Z"
   },
   {
    "duration": 14,
    "start_time": "2021-10-03T17:09:07.396Z"
   },
   {
    "duration": 5,
    "start_time": "2021-10-03T17:09:07.411Z"
   },
   {
    "duration": 36,
    "start_time": "2021-10-03T17:09:07.417Z"
   },
   {
    "duration": 5,
    "start_time": "2021-10-03T17:09:07.455Z"
   },
   {
    "duration": 12,
    "start_time": "2021-10-03T17:09:07.461Z"
   },
   {
    "duration": 19,
    "start_time": "2021-10-03T17:09:07.475Z"
   },
   {
    "duration": 9,
    "start_time": "2021-10-03T17:09:07.495Z"
   },
   {
    "duration": 5,
    "start_time": "2021-10-03T17:09:07.505Z"
   },
   {
    "duration": 8,
    "start_time": "2021-10-03T17:09:07.511Z"
   },
   {
    "duration": 6,
    "start_time": "2021-10-03T17:09:07.520Z"
   },
   {
    "duration": 3,
    "start_time": "2021-10-03T17:09:07.544Z"
   },
   {
    "duration": 3556,
    "start_time": "2021-10-03T17:09:07.549Z"
   },
   {
    "duration": 11,
    "start_time": "2021-10-03T17:09:11.107Z"
   },
   {
    "duration": 5,
    "start_time": "2021-10-03T17:09:11.120Z"
   },
   {
    "duration": 18,
    "start_time": "2021-10-03T17:09:11.126Z"
   },
   {
    "duration": 13,
    "start_time": "2021-10-03T17:09:11.146Z"
   },
   {
    "duration": 7,
    "start_time": "2021-10-03T17:09:11.160Z"
   },
   {
    "duration": 6,
    "start_time": "2021-10-03T17:09:11.168Z"
   },
   {
    "duration": 6,
    "start_time": "2021-10-03T17:09:11.175Z"
   },
   {
    "duration": 5,
    "start_time": "2021-10-03T17:09:11.182Z"
   },
   {
    "duration": 10,
    "start_time": "2021-10-03T17:09:11.188Z"
   },
   {
    "duration": 12,
    "start_time": "2021-10-03T17:09:11.199Z"
   },
   {
    "duration": 15,
    "start_time": "2021-10-03T17:09:11.212Z"
   },
   {
    "duration": 20,
    "start_time": "2021-10-03T17:09:11.229Z"
   },
   {
    "duration": 6,
    "start_time": "2021-10-03T17:09:11.251Z"
   },
   {
    "duration": 7,
    "start_time": "2021-10-03T17:09:11.258Z"
   },
   {
    "duration": 7,
    "start_time": "2021-10-03T17:09:11.266Z"
   },
   {
    "duration": 7,
    "start_time": "2021-10-03T17:09:11.274Z"
   },
   {
    "duration": 19,
    "start_time": "2021-10-03T17:09:11.282Z"
   },
   {
    "duration": 18,
    "start_time": "2021-10-03T17:09:11.303Z"
   },
   {
    "duration": 3,
    "start_time": "2021-10-03T17:09:11.322Z"
   },
   {
    "duration": 19,
    "start_time": "2021-10-03T17:09:11.326Z"
   },
   {
    "duration": 9,
    "start_time": "2021-10-03T17:09:11.347Z"
   },
   {
    "duration": 14,
    "start_time": "2021-10-03T17:09:11.358Z"
   },
   {
    "duration": 15,
    "start_time": "2021-10-03T17:09:11.374Z"
   },
   {
    "duration": 17,
    "start_time": "2021-10-03T17:09:11.390Z"
   },
   {
    "duration": 5,
    "start_time": "2021-10-03T17:09:11.413Z"
   },
   {
    "duration": 10,
    "start_time": "2021-10-03T17:09:11.420Z"
   },
   {
    "duration": 24,
    "start_time": "2021-10-03T17:09:11.431Z"
   },
   {
    "duration": 4,
    "start_time": "2021-10-03T17:09:11.456Z"
   },
   {
    "duration": 17,
    "start_time": "2021-10-03T17:09:11.461Z"
   },
   {
    "duration": 13,
    "start_time": "2021-10-03T17:09:11.479Z"
   },
   {
    "duration": 13,
    "start_time": "2021-10-03T17:09:11.493Z"
   },
   {
    "duration": 41,
    "start_time": "2021-10-03T17:09:11.508Z"
   },
   {
    "duration": 3,
    "start_time": "2021-10-03T17:09:11.551Z"
   },
   {
    "duration": 15,
    "start_time": "2021-10-03T17:09:11.556Z"
   },
   {
    "duration": 17,
    "start_time": "2021-10-03T17:09:11.572Z"
   },
   {
    "duration": 18,
    "start_time": "2021-10-03T17:09:11.591Z"
   },
   {
    "duration": 5,
    "start_time": "2021-10-03T17:09:11.610Z"
   },
   {
    "duration": 12,
    "start_time": "2021-10-03T17:09:11.616Z"
   },
   {
    "duration": 7,
    "start_time": "2021-10-03T17:09:11.630Z"
   },
   {
    "duration": 11,
    "start_time": "2021-10-03T17:09:11.639Z"
   },
   {
    "duration": 39,
    "start_time": "2021-10-03T17:09:11.651Z"
   },
   {
    "duration": 3,
    "start_time": "2021-10-03T17:09:11.692Z"
   },
   {
    "duration": 9,
    "start_time": "2021-10-03T17:09:11.697Z"
   },
   {
    "duration": 17,
    "start_time": "2021-10-03T17:09:11.708Z"
   },
   {
    "duration": 8,
    "start_time": "2021-10-03T17:09:11.727Z"
   },
   {
    "duration": 17,
    "start_time": "2021-10-03T17:09:11.737Z"
   },
   {
    "duration": 7,
    "start_time": "2021-10-03T17:09:11.756Z"
   },
   {
    "duration": 13,
    "start_time": "2021-10-03T17:09:11.764Z"
   },
   {
    "duration": 14,
    "start_time": "2021-10-03T17:09:11.778Z"
   },
   {
    "duration": 42,
    "start_time": "2021-10-03T17:09:11.794Z"
   },
   {
    "duration": 4,
    "start_time": "2021-10-03T17:09:11.838Z"
   },
   {
    "duration": 20,
    "start_time": "2021-10-03T17:09:11.844Z"
   },
   {
    "duration": 22,
    "start_time": "2021-10-03T17:09:11.866Z"
   },
   {
    "duration": 24,
    "start_time": "2021-10-03T17:09:11.889Z"
   },
   {
    "duration": 8,
    "start_time": "2021-10-03T17:09:11.915Z"
   },
   {
    "duration": 14,
    "start_time": "2021-10-03T17:09:11.924Z"
   },
   {
    "duration": 19,
    "start_time": "2021-10-03T17:09:11.940Z"
   },
   {
    "duration": 19,
    "start_time": "2021-10-03T17:09:11.961Z"
   },
   {
    "duration": 52,
    "start_time": "2021-10-03T17:09:11.981Z"
   },
   {
    "duration": 3,
    "start_time": "2021-10-03T17:09:12.034Z"
   },
   {
    "duration": 27,
    "start_time": "2021-10-03T17:09:12.039Z"
   },
   {
    "duration": 23,
    "start_time": "2021-10-03T17:09:12.068Z"
   },
   {
    "duration": 19,
    "start_time": "2021-10-03T17:09:12.093Z"
   },
   {
    "duration": 7,
    "start_time": "2021-10-03T17:09:12.114Z"
   },
   {
    "duration": 15,
    "start_time": "2021-10-03T17:09:12.123Z"
   },
   {
    "duration": 17,
    "start_time": "2021-10-03T17:09:12.140Z"
   },
   {
    "duration": 5,
    "start_time": "2021-10-03T17:09:12.158Z"
   },
   {
    "duration": 11,
    "start_time": "2021-10-03T17:09:12.165Z"
   },
   {
    "duration": 674,
    "start_time": "2021-10-03T17:10:12.000Z"
   },
   {
    "duration": 16,
    "start_time": "2021-10-03T17:10:12.676Z"
   },
   {
    "duration": 6,
    "start_time": "2021-10-03T17:10:12.695Z"
   },
   {
    "duration": 17,
    "start_time": "2021-10-03T17:10:12.704Z"
   },
   {
    "duration": 3,
    "start_time": "2021-10-03T17:10:12.723Z"
   },
   {
    "duration": 3,
    "start_time": "2021-10-03T17:10:12.745Z"
   },
   {
    "duration": 22,
    "start_time": "2021-10-03T17:10:12.749Z"
   },
   {
    "duration": 14,
    "start_time": "2021-10-03T17:10:12.773Z"
   },
   {
    "duration": 5,
    "start_time": "2021-10-03T17:10:12.789Z"
   },
   {
    "duration": 11,
    "start_time": "2021-10-03T17:10:12.795Z"
   },
   {
    "duration": 8,
    "start_time": "2021-10-03T17:10:12.807Z"
   },
   {
    "duration": 36,
    "start_time": "2021-10-03T17:10:12.817Z"
   },
   {
    "duration": 4,
    "start_time": "2021-10-03T17:10:12.855Z"
   },
   {
    "duration": 14,
    "start_time": "2021-10-03T17:10:12.861Z"
   },
   {
    "duration": 6,
    "start_time": "2021-10-03T17:10:12.877Z"
   },
   {
    "duration": 9,
    "start_time": "2021-10-03T17:10:12.885Z"
   },
   {
    "duration": 59,
    "start_time": "2021-10-03T17:10:12.896Z"
   },
   {
    "duration": 9,
    "start_time": "2021-10-03T17:10:12.956Z"
   },
   {
    "duration": 3,
    "start_time": "2021-10-03T17:10:12.966Z"
   },
   {
    "duration": 16,
    "start_time": "2021-10-03T17:10:12.971Z"
   },
   {
    "duration": 4,
    "start_time": "2021-10-03T17:10:12.989Z"
   },
   {
    "duration": 13,
    "start_time": "2021-10-03T17:10:12.994Z"
   },
   {
    "duration": 38,
    "start_time": "2021-10-03T17:10:13.011Z"
   },
   {
    "duration": 15,
    "start_time": "2021-10-03T17:10:13.052Z"
   },
   {
    "duration": 15,
    "start_time": "2021-10-03T17:10:13.069Z"
   },
   {
    "duration": 15,
    "start_time": "2021-10-03T17:10:13.085Z"
   },
   {
    "duration": 44,
    "start_time": "2021-10-03T17:10:13.101Z"
   },
   {
    "duration": 17,
    "start_time": "2021-10-03T17:10:13.147Z"
   },
   {
    "duration": 15,
    "start_time": "2021-10-03T17:10:13.165Z"
   },
   {
    "duration": 5,
    "start_time": "2021-10-03T17:10:13.181Z"
   },
   {
    "duration": 15,
    "start_time": "2021-10-03T17:10:13.187Z"
   },
   {
    "duration": 8,
    "start_time": "2021-10-03T17:10:13.203Z"
   },
   {
    "duration": 31,
    "start_time": "2021-10-03T17:10:13.213Z"
   },
   {
    "duration": 11,
    "start_time": "2021-10-03T17:10:13.246Z"
   },
   {
    "duration": 8,
    "start_time": "2021-10-03T17:10:13.258Z"
   },
   {
    "duration": 6,
    "start_time": "2021-10-03T17:10:13.269Z"
   },
   {
    "duration": 6,
    "start_time": "2021-10-03T17:10:13.276Z"
   },
   {
    "duration": 7,
    "start_time": "2021-10-03T17:10:13.284Z"
   },
   {
    "duration": 4,
    "start_time": "2021-10-03T17:10:13.292Z"
   },
   {
    "duration": 3428,
    "start_time": "2021-10-03T17:10:13.298Z"
   },
   {
    "duration": 20,
    "start_time": "2021-10-03T17:10:16.728Z"
   },
   {
    "duration": 7,
    "start_time": "2021-10-03T17:10:16.749Z"
   },
   {
    "duration": 12,
    "start_time": "2021-10-03T17:10:16.758Z"
   },
   {
    "duration": 14,
    "start_time": "2021-10-03T17:10:16.772Z"
   },
   {
    "duration": 9,
    "start_time": "2021-10-03T17:10:16.787Z"
   },
   {
    "duration": 12,
    "start_time": "2021-10-03T17:10:16.797Z"
   },
   {
    "duration": 7,
    "start_time": "2021-10-03T17:10:16.811Z"
   },
   {
    "duration": 15,
    "start_time": "2021-10-03T17:10:16.820Z"
   },
   {
    "duration": 6,
    "start_time": "2021-10-03T17:10:16.836Z"
   },
   {
    "duration": 6,
    "start_time": "2021-10-03T17:10:16.844Z"
   },
   {
    "duration": 20,
    "start_time": "2021-10-03T17:10:16.851Z"
   },
   {
    "duration": 11,
    "start_time": "2021-10-03T17:10:16.873Z"
   },
   {
    "duration": 6,
    "start_time": "2021-10-03T17:10:16.886Z"
   },
   {
    "duration": 12,
    "start_time": "2021-10-03T17:10:16.893Z"
   },
   {
    "duration": 9,
    "start_time": "2021-10-03T17:10:16.907Z"
   },
   {
    "duration": 6,
    "start_time": "2021-10-03T17:10:16.917Z"
   },
   {
    "duration": 25,
    "start_time": "2021-10-03T17:10:16.925Z"
   },
   {
    "duration": 18,
    "start_time": "2021-10-03T17:10:16.952Z"
   },
   {
    "duration": 3,
    "start_time": "2021-10-03T17:10:16.972Z"
   },
   {
    "duration": 6,
    "start_time": "2021-10-03T17:10:16.976Z"
   },
   {
    "duration": 10,
    "start_time": "2021-10-03T17:10:16.984Z"
   },
   {
    "duration": 23,
    "start_time": "2021-10-03T17:10:16.995Z"
   },
   {
    "duration": 34,
    "start_time": "2021-10-03T17:10:17.020Z"
   },
   {
    "duration": 17,
    "start_time": "2021-10-03T17:10:17.056Z"
   },
   {
    "duration": 18,
    "start_time": "2021-10-03T17:10:17.075Z"
   },
   {
    "duration": 14,
    "start_time": "2021-10-03T17:10:17.094Z"
   },
   {
    "duration": 30,
    "start_time": "2021-10-03T17:10:17.109Z"
   },
   {
    "duration": 10,
    "start_time": "2021-10-03T17:10:17.144Z"
   },
   {
    "duration": 31,
    "start_time": "2021-10-03T17:10:17.156Z"
   },
   {
    "duration": 16,
    "start_time": "2021-10-03T17:10:17.189Z"
   },
   {
    "duration": 47,
    "start_time": "2021-10-03T17:10:17.207Z"
   },
   {
    "duration": 60,
    "start_time": "2021-10-03T17:10:17.256Z"
   },
   {
    "duration": 13,
    "start_time": "2021-10-03T17:10:17.318Z"
   },
   {
    "duration": 33,
    "start_time": "2021-10-03T17:10:17.333Z"
   },
   {
    "duration": 36,
    "start_time": "2021-10-03T17:10:17.367Z"
   },
   {
    "duration": 34,
    "start_time": "2021-10-03T17:10:17.405Z"
   },
   {
    "duration": 24,
    "start_time": "2021-10-03T17:10:17.441Z"
   },
   {
    "duration": 30,
    "start_time": "2021-10-03T17:10:17.466Z"
   },
   {
    "duration": 16,
    "start_time": "2021-10-03T17:10:17.497Z"
   },
   {
    "duration": 27,
    "start_time": "2021-10-03T17:10:17.515Z"
   },
   {
    "duration": 50,
    "start_time": "2021-10-03T17:10:17.544Z"
   },
   {
    "duration": 3,
    "start_time": "2021-10-03T17:10:17.596Z"
   },
   {
    "duration": 25,
    "start_time": "2021-10-03T17:10:17.601Z"
   },
   {
    "duration": 29,
    "start_time": "2021-10-03T17:10:17.628Z"
   },
   {
    "duration": 25,
    "start_time": "2021-10-03T17:10:17.659Z"
   },
   {
    "duration": 11,
    "start_time": "2021-10-03T17:10:17.686Z"
   },
   {
    "duration": 11,
    "start_time": "2021-10-03T17:10:17.699Z"
   },
   {
    "duration": 10,
    "start_time": "2021-10-03T17:10:17.711Z"
   },
   {
    "duration": 9,
    "start_time": "2021-10-03T17:10:17.723Z"
   },
   {
    "duration": 38,
    "start_time": "2021-10-03T17:10:17.734Z"
   },
   {
    "duration": 3,
    "start_time": "2021-10-03T17:10:17.774Z"
   },
   {
    "duration": 15,
    "start_time": "2021-10-03T17:10:17.779Z"
   },
   {
    "duration": 17,
    "start_time": "2021-10-03T17:10:17.795Z"
   },
   {
    "duration": 16,
    "start_time": "2021-10-03T17:10:17.813Z"
   },
   {
    "duration": 6,
    "start_time": "2021-10-03T17:10:17.831Z"
   },
   {
    "duration": 8,
    "start_time": "2021-10-03T17:10:17.839Z"
   },
   {
    "duration": 8,
    "start_time": "2021-10-03T17:10:17.848Z"
   },
   {
    "duration": 11,
    "start_time": "2021-10-03T17:10:17.858Z"
   },
   {
    "duration": 35,
    "start_time": "2021-10-03T17:10:17.870Z"
   },
   {
    "duration": 3,
    "start_time": "2021-10-03T17:10:17.907Z"
   },
   {
    "duration": 31,
    "start_time": "2021-10-03T17:10:17.911Z"
   },
   {
    "duration": 35,
    "start_time": "2021-10-03T17:10:17.944Z"
   },
   {
    "duration": 34,
    "start_time": "2021-10-03T17:10:17.981Z"
   },
   {
    "duration": 11,
    "start_time": "2021-10-03T17:10:18.017Z"
   },
   {
    "duration": 18,
    "start_time": "2021-10-03T17:10:18.030Z"
   },
   {
    "duration": 32,
    "start_time": "2021-10-03T17:10:18.049Z"
   },
   {
    "duration": 22,
    "start_time": "2021-10-03T17:10:18.083Z"
   },
   {
    "duration": 31,
    "start_time": "2021-10-03T17:10:18.106Z"
   },
   {
    "duration": 726,
    "start_time": "2021-10-03T17:10:49.443Z"
   },
   {
    "duration": 11,
    "start_time": "2021-10-03T17:10:50.172Z"
   },
   {
    "duration": 7,
    "start_time": "2021-10-03T17:10:50.185Z"
   },
   {
    "duration": 6,
    "start_time": "2021-10-03T17:10:50.194Z"
   },
   {
    "duration": 4,
    "start_time": "2021-10-03T17:10:50.202Z"
   },
   {
    "duration": 40,
    "start_time": "2021-10-03T17:10:50.207Z"
   },
   {
    "duration": 15,
    "start_time": "2021-10-03T17:10:50.249Z"
   },
   {
    "duration": 15,
    "start_time": "2021-10-03T17:10:50.267Z"
   },
   {
    "duration": 6,
    "start_time": "2021-10-03T17:10:50.284Z"
   },
   {
    "duration": 9,
    "start_time": "2021-10-03T17:10:50.291Z"
   },
   {
    "duration": 10,
    "start_time": "2021-10-03T17:10:50.302Z"
   },
   {
    "duration": 43,
    "start_time": "2021-10-03T17:10:50.313Z"
   },
   {
    "duration": 8,
    "start_time": "2021-10-03T17:10:50.358Z"
   },
   {
    "duration": 17,
    "start_time": "2021-10-03T17:10:50.368Z"
   },
   {
    "duration": 16,
    "start_time": "2021-10-03T17:10:50.386Z"
   },
   {
    "duration": 11,
    "start_time": "2021-10-03T17:10:50.404Z"
   },
   {
    "duration": 40,
    "start_time": "2021-10-03T17:10:50.417Z"
   },
   {
    "duration": 9,
    "start_time": "2021-10-03T17:10:50.459Z"
   },
   {
    "duration": 11,
    "start_time": "2021-10-03T17:10:50.469Z"
   },
   {
    "duration": 34,
    "start_time": "2021-10-03T17:10:50.481Z"
   },
   {
    "duration": 6,
    "start_time": "2021-10-03T17:10:50.517Z"
   },
   {
    "duration": 20,
    "start_time": "2021-10-03T17:10:50.524Z"
   },
   {
    "duration": 13,
    "start_time": "2021-10-03T17:10:50.548Z"
   },
   {
    "duration": 16,
    "start_time": "2021-10-03T17:10:50.563Z"
   },
   {
    "duration": 18,
    "start_time": "2021-10-03T17:10:50.581Z"
   },
   {
    "duration": 10,
    "start_time": "2021-10-03T17:10:50.601Z"
   },
   {
    "duration": 32,
    "start_time": "2021-10-03T17:10:50.613Z"
   },
   {
    "duration": 17,
    "start_time": "2021-10-03T17:10:50.646Z"
   },
   {
    "duration": 13,
    "start_time": "2021-10-03T17:10:50.665Z"
   },
   {
    "duration": 4,
    "start_time": "2021-10-03T17:10:50.680Z"
   },
   {
    "duration": 26,
    "start_time": "2021-10-03T17:10:50.685Z"
   },
   {
    "duration": 14,
    "start_time": "2021-10-03T17:10:50.713Z"
   },
   {
    "duration": 20,
    "start_time": "2021-10-03T17:10:50.729Z"
   },
   {
    "duration": 23,
    "start_time": "2021-10-03T17:10:50.750Z"
   },
   {
    "duration": 22,
    "start_time": "2021-10-03T17:10:50.774Z"
   },
   {
    "duration": 12,
    "start_time": "2021-10-03T17:10:50.797Z"
   },
   {
    "duration": 21,
    "start_time": "2021-10-03T17:10:50.810Z"
   },
   {
    "duration": 13,
    "start_time": "2021-10-03T17:10:50.833Z"
   },
   {
    "duration": 19,
    "start_time": "2021-10-03T17:10:50.848Z"
   },
   {
    "duration": 3160,
    "start_time": "2021-10-03T17:10:50.868Z"
   },
   {
    "duration": 21,
    "start_time": "2021-10-03T17:10:54.030Z"
   },
   {
    "duration": 8,
    "start_time": "2021-10-03T17:10:54.053Z"
   },
   {
    "duration": 8,
    "start_time": "2021-10-03T17:10:54.063Z"
   },
   {
    "duration": 26,
    "start_time": "2021-10-03T17:10:54.073Z"
   },
   {
    "duration": 30,
    "start_time": "2021-10-03T17:10:54.101Z"
   },
   {
    "duration": 25,
    "start_time": "2021-10-03T17:10:54.133Z"
   },
   {
    "duration": 24,
    "start_time": "2021-10-03T17:10:54.160Z"
   },
   {
    "duration": 17,
    "start_time": "2021-10-03T17:10:54.185Z"
   },
   {
    "duration": 20,
    "start_time": "2021-10-03T17:10:54.204Z"
   },
   {
    "duration": 23,
    "start_time": "2021-10-03T17:10:54.226Z"
   },
   {
    "duration": 31,
    "start_time": "2021-10-03T17:10:54.251Z"
   },
   {
    "duration": 19,
    "start_time": "2021-10-03T17:10:54.283Z"
   },
   {
    "duration": 18,
    "start_time": "2021-10-03T17:10:54.303Z"
   },
   {
    "duration": 12,
    "start_time": "2021-10-03T17:10:54.322Z"
   },
   {
    "duration": 39,
    "start_time": "2021-10-03T17:10:54.336Z"
   },
   {
    "duration": 22,
    "start_time": "2021-10-03T17:10:54.377Z"
   },
   {
    "duration": 26,
    "start_time": "2021-10-03T17:10:54.401Z"
   },
   {
    "duration": 31,
    "start_time": "2021-10-03T17:10:54.429Z"
   },
   {
    "duration": 22,
    "start_time": "2021-10-03T17:10:54.462Z"
   },
   {
    "duration": 9,
    "start_time": "2021-10-03T17:10:54.486Z"
   },
   {
    "duration": 17,
    "start_time": "2021-10-03T17:10:54.497Z"
   },
   {
    "duration": 18,
    "start_time": "2021-10-03T17:10:54.516Z"
   },
   {
    "duration": 30,
    "start_time": "2021-10-03T17:10:54.535Z"
   },
   {
    "duration": 27,
    "start_time": "2021-10-03T17:10:54.566Z"
   },
   {
    "duration": 20,
    "start_time": "2021-10-03T17:10:54.594Z"
   },
   {
    "duration": 25,
    "start_time": "2021-10-03T17:10:54.615Z"
   },
   {
    "duration": 32,
    "start_time": "2021-10-03T17:10:54.641Z"
   },
   {
    "duration": 53,
    "start_time": "2021-10-03T17:10:54.678Z"
   },
   {
    "duration": 17,
    "start_time": "2021-10-03T17:10:54.734Z"
   },
   {
    "duration": 24,
    "start_time": "2021-10-03T17:10:54.752Z"
   },
   {
    "duration": 30,
    "start_time": "2021-10-03T17:10:54.777Z"
   },
   {
    "duration": 21,
    "start_time": "2021-10-03T17:10:54.809Z"
   },
   {
    "duration": 55,
    "start_time": "2021-10-03T17:10:54.831Z"
   },
   {
    "duration": 3,
    "start_time": "2021-10-03T17:10:54.888Z"
   },
   {
    "duration": 30,
    "start_time": "2021-10-03T17:10:54.892Z"
   },
   {
    "duration": 22,
    "start_time": "2021-10-03T17:10:54.924Z"
   },
   {
    "duration": 21,
    "start_time": "2021-10-03T17:10:54.948Z"
   },
   {
    "duration": 11,
    "start_time": "2021-10-03T17:10:54.971Z"
   },
   {
    "duration": 22,
    "start_time": "2021-10-03T17:10:54.984Z"
   },
   {
    "duration": 28,
    "start_time": "2021-10-03T17:10:55.008Z"
   },
   {
    "duration": 28,
    "start_time": "2021-10-03T17:10:55.038Z"
   },
   {
    "duration": 52,
    "start_time": "2021-10-03T17:10:55.068Z"
   },
   {
    "duration": 4,
    "start_time": "2021-10-03T17:10:55.122Z"
   },
   {
    "duration": 23,
    "start_time": "2021-10-03T17:10:55.127Z"
   },
   {
    "duration": 32,
    "start_time": "2021-10-03T17:10:55.152Z"
   },
   {
    "duration": 15,
    "start_time": "2021-10-03T17:10:55.186Z"
   },
   {
    "duration": 23,
    "start_time": "2021-10-03T17:10:55.203Z"
   },
   {
    "duration": 25,
    "start_time": "2021-10-03T17:10:55.227Z"
   },
   {
    "duration": 25,
    "start_time": "2021-10-03T17:10:55.254Z"
   },
   {
    "duration": 26,
    "start_time": "2021-10-03T17:10:55.281Z"
   },
   {
    "duration": 44,
    "start_time": "2021-10-03T17:10:55.308Z"
   },
   {
    "duration": 3,
    "start_time": "2021-10-03T17:10:55.354Z"
   },
   {
    "duration": 21,
    "start_time": "2021-10-03T17:10:55.359Z"
   },
   {
    "duration": 24,
    "start_time": "2021-10-03T17:10:55.381Z"
   },
   {
    "duration": 20,
    "start_time": "2021-10-03T17:10:55.407Z"
   },
   {
    "duration": 10,
    "start_time": "2021-10-03T17:10:55.429Z"
   },
   {
    "duration": 10,
    "start_time": "2021-10-03T17:10:55.440Z"
   },
   {
    "duration": 18,
    "start_time": "2021-10-03T17:10:55.451Z"
   },
   {
    "duration": 12,
    "start_time": "2021-10-03T17:10:55.471Z"
   },
   {
    "duration": 42,
    "start_time": "2021-10-03T17:10:55.484Z"
   },
   {
    "duration": 3,
    "start_time": "2021-10-03T17:10:55.528Z"
   },
   {
    "duration": 20,
    "start_time": "2021-10-03T17:10:55.533Z"
   },
   {
    "duration": 33,
    "start_time": "2021-10-03T17:10:55.555Z"
   },
   {
    "duration": 20,
    "start_time": "2021-10-03T17:10:55.590Z"
   },
   {
    "duration": 17,
    "start_time": "2021-10-03T17:10:55.612Z"
   },
   {
    "duration": 33,
    "start_time": "2021-10-03T17:10:55.631Z"
   },
   {
    "duration": 17,
    "start_time": "2021-10-03T17:10:55.666Z"
   },
   {
    "duration": 21,
    "start_time": "2021-10-03T17:10:55.684Z"
   },
   {
    "duration": 18,
    "start_time": "2021-10-03T17:10:55.707Z"
   },
   {
    "duration": 617,
    "start_time": "2021-10-03T17:11:12.597Z"
   },
   {
    "duration": 10,
    "start_time": "2021-10-03T17:11:13.215Z"
   },
   {
    "duration": 7,
    "start_time": "2021-10-03T17:11:13.227Z"
   },
   {
    "duration": 18,
    "start_time": "2021-10-03T17:11:13.236Z"
   },
   {
    "duration": 11,
    "start_time": "2021-10-03T17:11:13.255Z"
   },
   {
    "duration": 13,
    "start_time": "2021-10-03T17:11:13.268Z"
   },
   {
    "duration": 26,
    "start_time": "2021-10-03T17:11:13.282Z"
   },
   {
    "duration": 12,
    "start_time": "2021-10-03T17:11:13.310Z"
   },
   {
    "duration": 10,
    "start_time": "2021-10-03T17:11:13.324Z"
   },
   {
    "duration": 31,
    "start_time": "2021-10-03T17:11:13.336Z"
   },
   {
    "duration": 11,
    "start_time": "2021-10-03T17:11:13.368Z"
   },
   {
    "duration": 17,
    "start_time": "2021-10-03T17:11:13.381Z"
   },
   {
    "duration": 9,
    "start_time": "2021-10-03T17:11:13.399Z"
   },
   {
    "duration": 18,
    "start_time": "2021-10-03T17:11:13.410Z"
   },
   {
    "duration": 10,
    "start_time": "2021-10-03T17:11:13.429Z"
   },
   {
    "duration": 15,
    "start_time": "2021-10-03T17:11:13.440Z"
   },
   {
    "duration": 32,
    "start_time": "2021-10-03T17:11:13.456Z"
   },
   {
    "duration": 9,
    "start_time": "2021-10-03T17:11:13.489Z"
   },
   {
    "duration": 11,
    "start_time": "2021-10-03T17:11:13.499Z"
   },
   {
    "duration": 27,
    "start_time": "2021-10-03T17:11:13.511Z"
   },
   {
    "duration": 3,
    "start_time": "2021-10-03T17:11:13.540Z"
   },
   {
    "duration": 14,
    "start_time": "2021-10-03T17:11:13.545Z"
   },
   {
    "duration": 13,
    "start_time": "2021-10-03T17:11:13.563Z"
   },
   {
    "duration": 16,
    "start_time": "2021-10-03T17:11:13.578Z"
   },
   {
    "duration": 21,
    "start_time": "2021-10-03T17:11:13.595Z"
   },
   {
    "duration": 27,
    "start_time": "2021-10-03T17:11:13.617Z"
   },
   {
    "duration": 17,
    "start_time": "2021-10-03T17:11:13.646Z"
   },
   {
    "duration": 16,
    "start_time": "2021-10-03T17:11:13.664Z"
   },
   {
    "duration": 14,
    "start_time": "2021-10-03T17:11:13.682Z"
   },
   {
    "duration": 5,
    "start_time": "2021-10-03T17:11:13.697Z"
   },
   {
    "duration": 15,
    "start_time": "2021-10-03T17:11:13.703Z"
   },
   {
    "duration": 27,
    "start_time": "2021-10-03T17:11:13.720Z"
   },
   {
    "duration": 15,
    "start_time": "2021-10-03T17:11:13.749Z"
   },
   {
    "duration": 33,
    "start_time": "2021-10-03T17:11:13.765Z"
   },
   {
    "duration": 19,
    "start_time": "2021-10-03T17:11:13.800Z"
   },
   {
    "duration": 14,
    "start_time": "2021-10-03T17:11:13.821Z"
   },
   {
    "duration": 13,
    "start_time": "2021-10-03T17:11:13.837Z"
   },
   {
    "duration": 24,
    "start_time": "2021-10-03T17:11:13.852Z"
   },
   {
    "duration": 9,
    "start_time": "2021-10-03T17:11:13.878Z"
   },
   {
    "duration": 3493,
    "start_time": "2021-10-03T17:11:13.888Z"
   },
   {
    "duration": 12,
    "start_time": "2021-10-03T17:11:17.383Z"
   },
   {
    "duration": 17,
    "start_time": "2021-10-03T17:11:17.396Z"
   },
   {
    "duration": 9,
    "start_time": "2021-10-03T17:11:17.415Z"
   },
   {
    "duration": 13,
    "start_time": "2021-10-03T17:11:17.426Z"
   },
   {
    "duration": 6,
    "start_time": "2021-10-03T17:11:17.441Z"
   },
   {
    "duration": 6,
    "start_time": "2021-10-03T17:11:17.448Z"
   },
   {
    "duration": 5,
    "start_time": "2021-10-03T17:11:17.455Z"
   },
   {
    "duration": 5,
    "start_time": "2021-10-03T17:11:17.461Z"
   },
   {
    "duration": 4,
    "start_time": "2021-10-03T17:11:17.468Z"
   },
   {
    "duration": 7,
    "start_time": "2021-10-03T17:11:17.474Z"
   },
   {
    "duration": 5,
    "start_time": "2021-10-03T17:11:17.483Z"
   },
   {
    "duration": 15,
    "start_time": "2021-10-03T17:11:17.490Z"
   },
   {
    "duration": 12,
    "start_time": "2021-10-03T17:11:17.507Z"
   },
   {
    "duration": 4,
    "start_time": "2021-10-03T17:11:17.520Z"
   },
   {
    "duration": 3,
    "start_time": "2021-10-03T17:11:17.545Z"
   },
   {
    "duration": 4,
    "start_time": "2021-10-03T17:11:17.549Z"
   },
   {
    "duration": 5,
    "start_time": "2021-10-03T17:11:17.555Z"
   },
   {
    "duration": 12,
    "start_time": "2021-10-03T17:11:17.561Z"
   },
   {
    "duration": 18,
    "start_time": "2021-10-03T17:11:17.574Z"
   },
   {
    "duration": 3,
    "start_time": "2021-10-03T17:11:17.593Z"
   },
   {
    "duration": 5,
    "start_time": "2021-10-03T17:11:17.597Z"
   },
   {
    "duration": 8,
    "start_time": "2021-10-03T17:11:17.604Z"
   },
   {
    "duration": 36,
    "start_time": "2021-10-03T17:11:17.613Z"
   },
   {
    "duration": 14,
    "start_time": "2021-10-03T17:11:17.650Z"
   },
   {
    "duration": 6,
    "start_time": "2021-10-03T17:11:17.666Z"
   },
   {
    "duration": 5,
    "start_time": "2021-10-03T17:11:17.673Z"
   },
   {
    "duration": 7,
    "start_time": "2021-10-03T17:11:17.679Z"
   },
   {
    "duration": 17,
    "start_time": "2021-10-03T17:11:17.690Z"
   },
   {
    "duration": 3,
    "start_time": "2021-10-03T17:11:17.709Z"
   },
   {
    "duration": 31,
    "start_time": "2021-10-03T17:11:17.713Z"
   },
   {
    "duration": 6,
    "start_time": "2021-10-03T17:11:17.746Z"
   },
   {
    "duration": 11,
    "start_time": "2021-10-03T17:11:17.753Z"
   },
   {
    "duration": 33,
    "start_time": "2021-10-03T17:11:17.766Z"
   },
   {
    "duration": 3,
    "start_time": "2021-10-03T17:11:17.801Z"
   },
   {
    "duration": 15,
    "start_time": "2021-10-03T17:11:17.806Z"
   },
   {
    "duration": 9,
    "start_time": "2021-10-03T17:11:17.822Z"
   },
   {
    "duration": 16,
    "start_time": "2021-10-03T17:11:17.833Z"
   },
   {
    "duration": 7,
    "start_time": "2021-10-03T17:11:17.851Z"
   },
   {
    "duration": 7,
    "start_time": "2021-10-03T17:11:17.859Z"
   },
   {
    "duration": 6,
    "start_time": "2021-10-03T17:11:17.867Z"
   },
   {
    "duration": 13,
    "start_time": "2021-10-03T17:11:17.874Z"
   },
   {
    "duration": 39,
    "start_time": "2021-10-03T17:11:17.888Z"
   },
   {
    "duration": 3,
    "start_time": "2021-10-03T17:11:17.929Z"
   },
   {
    "duration": 6,
    "start_time": "2021-10-03T17:11:17.944Z"
   },
   {
    "duration": 14,
    "start_time": "2021-10-03T17:11:17.951Z"
   },
   {
    "duration": 7,
    "start_time": "2021-10-03T17:11:17.967Z"
   },
   {
    "duration": 3,
    "start_time": "2021-10-03T17:11:17.976Z"
   },
   {
    "duration": 5,
    "start_time": "2021-10-03T17:11:17.980Z"
   },
   {
    "duration": 5,
    "start_time": "2021-10-03T17:11:17.986Z"
   },
   {
    "duration": 8,
    "start_time": "2021-10-03T17:11:17.993Z"
   },
   {
    "duration": 64,
    "start_time": "2021-10-03T17:11:18.003Z"
   },
   {
    "duration": 3,
    "start_time": "2021-10-03T17:11:18.068Z"
   },
   {
    "duration": 8,
    "start_time": "2021-10-03T17:11:18.073Z"
   },
   {
    "duration": 9,
    "start_time": "2021-10-03T17:11:18.082Z"
   },
   {
    "duration": 10,
    "start_time": "2021-10-03T17:11:18.093Z"
   },
   {
    "duration": 3,
    "start_time": "2021-10-03T17:11:18.105Z"
   },
   {
    "duration": 7,
    "start_time": "2021-10-03T17:11:18.110Z"
   },
   {
    "duration": 5,
    "start_time": "2021-10-03T17:11:18.119Z"
   },
   {
    "duration": 24,
    "start_time": "2021-10-03T17:11:18.125Z"
   },
   {
    "duration": 35,
    "start_time": "2021-10-03T17:11:18.150Z"
   },
   {
    "duration": 4,
    "start_time": "2021-10-03T17:11:18.186Z"
   },
   {
    "duration": 8,
    "start_time": "2021-10-03T17:11:18.192Z"
   },
   {
    "duration": 10,
    "start_time": "2021-10-03T17:11:18.202Z"
   },
   {
    "duration": 31,
    "start_time": "2021-10-03T17:11:18.213Z"
   },
   {
    "duration": 4,
    "start_time": "2021-10-03T17:11:18.246Z"
   },
   {
    "duration": 6,
    "start_time": "2021-10-03T17:11:18.251Z"
   },
   {
    "duration": 9,
    "start_time": "2021-10-03T17:11:18.258Z"
   },
   {
    "duration": 4,
    "start_time": "2021-10-03T17:11:18.269Z"
   },
   {
    "duration": 10,
    "start_time": "2021-10-03T17:11:18.275Z"
   },
   {
    "duration": 5,
    "start_time": "2021-10-03T17:12:05.222Z"
   },
   {
    "duration": 5,
    "start_time": "2021-10-03T17:12:17.013Z"
   },
   {
    "duration": 5,
    "start_time": "2021-10-03T17:12:27.373Z"
   },
   {
    "duration": 4,
    "start_time": "2021-10-03T17:12:48.704Z"
   },
   {
    "duration": 5,
    "start_time": "2021-10-03T17:13:04.441Z"
   },
   {
    "duration": 728,
    "start_time": "2021-10-03T17:13:30.245Z"
   },
   {
    "duration": 12,
    "start_time": "2021-10-03T17:13:30.975Z"
   },
   {
    "duration": 6,
    "start_time": "2021-10-03T17:13:30.989Z"
   },
   {
    "duration": 16,
    "start_time": "2021-10-03T17:13:30.997Z"
   },
   {
    "duration": 16,
    "start_time": "2021-10-03T17:13:31.014Z"
   },
   {
    "duration": 8,
    "start_time": "2021-10-03T17:13:31.031Z"
   },
   {
    "duration": 17,
    "start_time": "2021-10-03T17:13:31.044Z"
   },
   {
    "duration": 15,
    "start_time": "2021-10-03T17:13:31.063Z"
   },
   {
    "duration": 18,
    "start_time": "2021-10-03T17:13:31.080Z"
   },
   {
    "duration": 7,
    "start_time": "2021-10-03T17:13:31.100Z"
   },
   {
    "duration": 16,
    "start_time": "2021-10-03T17:13:31.109Z"
   },
   {
    "duration": 18,
    "start_time": "2021-10-03T17:13:31.127Z"
   },
   {
    "duration": 17,
    "start_time": "2021-10-03T17:13:31.147Z"
   },
   {
    "duration": 20,
    "start_time": "2021-10-03T17:13:31.166Z"
   },
   {
    "duration": 14,
    "start_time": "2021-10-03T17:13:31.188Z"
   },
   {
    "duration": 11,
    "start_time": "2021-10-03T17:13:31.204Z"
   },
   {
    "duration": 40,
    "start_time": "2021-10-03T17:13:31.217Z"
   },
   {
    "duration": 8,
    "start_time": "2021-10-03T17:13:31.259Z"
   },
   {
    "duration": 17,
    "start_time": "2021-10-03T17:13:31.269Z"
   },
   {
    "duration": 26,
    "start_time": "2021-10-03T17:13:31.288Z"
   },
   {
    "duration": 13,
    "start_time": "2021-10-03T17:13:31.315Z"
   },
   {
    "duration": 35,
    "start_time": "2021-10-03T17:13:31.330Z"
   },
   {
    "duration": 31,
    "start_time": "2021-10-03T17:13:31.368Z"
   },
   {
    "duration": 23,
    "start_time": "2021-10-03T17:13:31.402Z"
   },
   {
    "duration": 16,
    "start_time": "2021-10-03T17:13:31.427Z"
   },
   {
    "duration": 38,
    "start_time": "2021-10-03T17:13:31.444Z"
   },
   {
    "duration": 23,
    "start_time": "2021-10-03T17:13:31.484Z"
   },
   {
    "duration": 41,
    "start_time": "2021-10-03T17:13:31.508Z"
   },
   {
    "duration": 14,
    "start_time": "2021-10-03T17:13:31.550Z"
   },
   {
    "duration": 5,
    "start_time": "2021-10-03T17:13:31.566Z"
   },
   {
    "duration": 31,
    "start_time": "2021-10-03T17:13:31.572Z"
   },
   {
    "duration": 21,
    "start_time": "2021-10-03T17:13:31.605Z"
   },
   {
    "duration": 7,
    "start_time": "2021-10-03T17:13:31.628Z"
   },
   {
    "duration": 12,
    "start_time": "2021-10-03T17:13:31.637Z"
   },
   {
    "duration": 20,
    "start_time": "2021-10-03T17:13:31.651Z"
   },
   {
    "duration": 18,
    "start_time": "2021-10-03T17:13:31.673Z"
   },
   {
    "duration": 9,
    "start_time": "2021-10-03T17:13:31.692Z"
   },
   {
    "duration": 13,
    "start_time": "2021-10-03T17:13:31.702Z"
   },
   {
    "duration": 16,
    "start_time": "2021-10-03T17:13:31.716Z"
   },
   {
    "duration": 3360,
    "start_time": "2021-10-03T17:13:31.734Z"
   },
   {
    "duration": 13,
    "start_time": "2021-10-03T17:13:35.096Z"
   },
   {
    "duration": 18,
    "start_time": "2021-10-03T17:13:35.110Z"
   },
   {
    "duration": 16,
    "start_time": "2021-10-03T17:13:35.130Z"
   },
   {
    "duration": 14,
    "start_time": "2021-10-03T17:13:35.147Z"
   },
   {
    "duration": 27,
    "start_time": "2021-10-03T17:13:35.162Z"
   },
   {
    "duration": 15,
    "start_time": "2021-10-03T17:13:35.191Z"
   },
   {
    "duration": 21,
    "start_time": "2021-10-03T17:13:35.208Z"
   },
   {
    "duration": 19,
    "start_time": "2021-10-03T17:13:35.230Z"
   },
   {
    "duration": 16,
    "start_time": "2021-10-03T17:13:35.251Z"
   },
   {
    "duration": 16,
    "start_time": "2021-10-03T17:13:35.269Z"
   },
   {
    "duration": 16,
    "start_time": "2021-10-03T17:13:35.286Z"
   },
   {
    "duration": 19,
    "start_time": "2021-10-03T17:13:35.304Z"
   },
   {
    "duration": 34,
    "start_time": "2021-10-03T17:13:35.325Z"
   },
   {
    "duration": 33,
    "start_time": "2021-10-03T17:13:35.361Z"
   },
   {
    "duration": 10,
    "start_time": "2021-10-03T17:13:35.395Z"
   },
   {
    "duration": 22,
    "start_time": "2021-10-03T17:13:35.407Z"
   },
   {
    "duration": 22,
    "start_time": "2021-10-03T17:13:35.430Z"
   },
   {
    "duration": 22,
    "start_time": "2021-10-03T17:13:35.454Z"
   },
   {
    "duration": 22,
    "start_time": "2021-10-03T17:13:35.478Z"
   },
   {
    "duration": 29,
    "start_time": "2021-10-03T17:13:35.502Z"
   },
   {
    "duration": 4,
    "start_time": "2021-10-03T17:13:35.532Z"
   },
   {
    "duration": 26,
    "start_time": "2021-10-03T17:13:35.538Z"
   },
   {
    "duration": 19,
    "start_time": "2021-10-03T17:13:35.566Z"
   },
   {
    "duration": 35,
    "start_time": "2021-10-03T17:13:35.587Z"
   },
   {
    "duration": 23,
    "start_time": "2021-10-03T17:13:35.624Z"
   },
   {
    "duration": 11,
    "start_time": "2021-10-03T17:13:35.649Z"
   },
   {
    "duration": 15,
    "start_time": "2021-10-03T17:13:35.661Z"
   },
   {
    "duration": 14,
    "start_time": "2021-10-03T17:13:35.683Z"
   },
   {
    "duration": 31,
    "start_time": "2021-10-03T17:13:35.700Z"
   },
   {
    "duration": 10,
    "start_time": "2021-10-03T17:13:35.732Z"
   },
   {
    "duration": 16,
    "start_time": "2021-10-03T17:13:35.743Z"
   },
   {
    "duration": 20,
    "start_time": "2021-10-03T17:13:35.761Z"
   },
   {
    "duration": 26,
    "start_time": "2021-10-03T17:13:35.783Z"
   },
   {
    "duration": 41,
    "start_time": "2021-10-03T17:13:35.811Z"
   },
   {
    "duration": 4,
    "start_time": "2021-10-03T17:13:35.854Z"
   },
   {
    "duration": 29,
    "start_time": "2021-10-03T17:13:35.860Z"
   },
   {
    "duration": 24,
    "start_time": "2021-10-03T17:13:35.891Z"
   },
   {
    "duration": 29,
    "start_time": "2021-10-03T17:13:35.916Z"
   },
   {
    "duration": 6,
    "start_time": "2021-10-03T17:13:35.947Z"
   },
   {
    "duration": 10,
    "start_time": "2021-10-03T17:13:35.954Z"
   },
   {
    "duration": 7,
    "start_time": "2021-10-03T17:13:35.966Z"
   },
   {
    "duration": 16,
    "start_time": "2021-10-03T17:13:35.974Z"
   },
   {
    "duration": 42,
    "start_time": "2021-10-03T17:13:35.992Z"
   },
   {
    "duration": 3,
    "start_time": "2021-10-03T17:13:36.036Z"
   },
   {
    "duration": 15,
    "start_time": "2021-10-03T17:13:36.041Z"
   },
   {
    "duration": 14,
    "start_time": "2021-10-03T17:13:36.058Z"
   },
   {
    "duration": 9,
    "start_time": "2021-10-03T17:13:36.074Z"
   },
   {
    "duration": 4,
    "start_time": "2021-10-03T17:13:36.085Z"
   },
   {
    "duration": 5,
    "start_time": "2021-10-03T17:13:36.090Z"
   },
   {
    "duration": 6,
    "start_time": "2021-10-03T17:13:36.097Z"
   },
   {
    "duration": 10,
    "start_time": "2021-10-03T17:13:36.105Z"
   },
   {
    "duration": 49,
    "start_time": "2021-10-03T17:13:36.117Z"
   },
   {
    "duration": 4,
    "start_time": "2021-10-03T17:13:36.167Z"
   },
   {
    "duration": 12,
    "start_time": "2021-10-03T17:13:36.173Z"
   },
   {
    "duration": 10,
    "start_time": "2021-10-03T17:13:36.187Z"
   },
   {
    "duration": 12,
    "start_time": "2021-10-03T17:13:36.199Z"
   },
   {
    "duration": 4,
    "start_time": "2021-10-03T17:13:36.212Z"
   },
   {
    "duration": 5,
    "start_time": "2021-10-03T17:13:36.218Z"
   },
   {
    "duration": 21,
    "start_time": "2021-10-03T17:13:36.225Z"
   },
   {
    "duration": 11,
    "start_time": "2021-10-03T17:13:36.248Z"
   },
   {
    "duration": 36,
    "start_time": "2021-10-03T17:13:36.261Z"
   },
   {
    "duration": 3,
    "start_time": "2021-10-03T17:13:36.299Z"
   },
   {
    "duration": 8,
    "start_time": "2021-10-03T17:13:36.303Z"
   },
   {
    "duration": 10,
    "start_time": "2021-10-03T17:13:36.313Z"
   },
   {
    "duration": 7,
    "start_time": "2021-10-03T17:13:36.344Z"
   },
   {
    "duration": 4,
    "start_time": "2021-10-03T17:13:36.353Z"
   },
   {
    "duration": 5,
    "start_time": "2021-10-03T17:13:36.358Z"
   },
   {
    "duration": 9,
    "start_time": "2021-10-03T17:13:36.365Z"
   },
   {
    "duration": 4,
    "start_time": "2021-10-03T17:13:36.375Z"
   },
   {
    "duration": 9,
    "start_time": "2021-10-03T17:13:36.381Z"
   },
   {
    "duration": 625,
    "start_time": "2021-10-03T17:14:08.483Z"
   },
   {
    "duration": 10,
    "start_time": "2021-10-03T17:14:09.110Z"
   },
   {
    "duration": 6,
    "start_time": "2021-10-03T17:14:09.122Z"
   },
   {
    "duration": 16,
    "start_time": "2021-10-03T17:14:09.129Z"
   },
   {
    "duration": 4,
    "start_time": "2021-10-03T17:14:09.147Z"
   },
   {
    "duration": 8,
    "start_time": "2021-10-03T17:14:09.153Z"
   },
   {
    "duration": 17,
    "start_time": "2021-10-03T17:14:09.162Z"
   },
   {
    "duration": 14,
    "start_time": "2021-10-03T17:14:09.181Z"
   },
   {
    "duration": 4,
    "start_time": "2021-10-03T17:14:09.197Z"
   },
   {
    "duration": 4,
    "start_time": "2021-10-03T17:14:09.203Z"
   },
   {
    "duration": 8,
    "start_time": "2021-10-03T17:14:09.208Z"
   },
   {
    "duration": 9,
    "start_time": "2021-10-03T17:14:09.245Z"
   },
   {
    "duration": 3,
    "start_time": "2021-10-03T17:14:09.255Z"
   },
   {
    "duration": 10,
    "start_time": "2021-10-03T17:14:09.260Z"
   },
   {
    "duration": 5,
    "start_time": "2021-10-03T17:14:09.271Z"
   },
   {
    "duration": 4,
    "start_time": "2021-10-03T17:14:09.277Z"
   },
   {
    "duration": 26,
    "start_time": "2021-10-03T17:14:09.283Z"
   },
   {
    "duration": 38,
    "start_time": "2021-10-03T17:14:09.310Z"
   },
   {
    "duration": 3,
    "start_time": "2021-10-03T17:14:09.350Z"
   },
   {
    "duration": 15,
    "start_time": "2021-10-03T17:14:09.355Z"
   },
   {
    "duration": 4,
    "start_time": "2021-10-03T17:14:09.371Z"
   },
   {
    "duration": 14,
    "start_time": "2021-10-03T17:14:09.376Z"
   },
   {
    "duration": 14,
    "start_time": "2021-10-03T17:14:09.394Z"
   },
   {
    "duration": 48,
    "start_time": "2021-10-03T17:14:09.411Z"
   },
   {
    "duration": 15,
    "start_time": "2021-10-03T17:14:09.460Z"
   },
   {
    "duration": 11,
    "start_time": "2021-10-03T17:14:09.476Z"
   },
   {
    "duration": 18,
    "start_time": "2021-10-03T17:14:09.488Z"
   },
   {
    "duration": 45,
    "start_time": "2021-10-03T17:14:09.507Z"
   },
   {
    "duration": 14,
    "start_time": "2021-10-03T17:14:09.553Z"
   },
   {
    "duration": 5,
    "start_time": "2021-10-03T17:14:09.568Z"
   },
   {
    "duration": 16,
    "start_time": "2021-10-03T17:14:09.574Z"
   },
   {
    "duration": 12,
    "start_time": "2021-10-03T17:14:09.592Z"
   },
   {
    "duration": 25,
    "start_time": "2021-10-03T17:14:09.605Z"
   },
   {
    "duration": 19,
    "start_time": "2021-10-03T17:14:09.632Z"
   },
   {
    "duration": 19,
    "start_time": "2021-10-03T17:14:09.653Z"
   },
   {
    "duration": 29,
    "start_time": "2021-10-03T17:14:09.673Z"
   },
   {
    "duration": 17,
    "start_time": "2021-10-03T17:14:09.704Z"
   },
   {
    "duration": 23,
    "start_time": "2021-10-03T17:14:09.722Z"
   },
   {
    "duration": 5,
    "start_time": "2021-10-03T17:14:09.747Z"
   },
   {
    "duration": 3375,
    "start_time": "2021-10-03T17:14:09.754Z"
   },
   {
    "duration": 21,
    "start_time": "2021-10-03T17:14:13.131Z"
   },
   {
    "duration": 12,
    "start_time": "2021-10-03T17:14:13.154Z"
   },
   {
    "duration": 11,
    "start_time": "2021-10-03T17:14:13.168Z"
   },
   {
    "duration": 14,
    "start_time": "2021-10-03T17:14:13.180Z"
   },
   {
    "duration": 5,
    "start_time": "2021-10-03T17:14:13.195Z"
   },
   {
    "duration": 5,
    "start_time": "2021-10-03T17:14:13.201Z"
   },
   {
    "duration": 5,
    "start_time": "2021-10-03T17:14:13.208Z"
   },
   {
    "duration": 7,
    "start_time": "2021-10-03T17:14:13.214Z"
   },
   {
    "duration": 7,
    "start_time": "2021-10-03T17:14:13.223Z"
   },
   {
    "duration": 3,
    "start_time": "2021-10-03T17:14:13.244Z"
   },
   {
    "duration": 19,
    "start_time": "2021-10-03T17:14:13.248Z"
   },
   {
    "duration": 15,
    "start_time": "2021-10-03T17:14:13.268Z"
   },
   {
    "duration": 6,
    "start_time": "2021-10-03T17:14:13.284Z"
   },
   {
    "duration": 8,
    "start_time": "2021-10-03T17:14:13.291Z"
   },
   {
    "duration": 7,
    "start_time": "2021-10-03T17:14:13.301Z"
   },
   {
    "duration": 6,
    "start_time": "2021-10-03T17:14:13.309Z"
   },
   {
    "duration": 7,
    "start_time": "2021-10-03T17:14:13.316Z"
   },
   {
    "duration": 25,
    "start_time": "2021-10-03T17:14:13.324Z"
   },
   {
    "duration": 16,
    "start_time": "2021-10-03T17:14:13.351Z"
   },
   {
    "duration": 2,
    "start_time": "2021-10-03T17:14:13.369Z"
   },
   {
    "duration": 11,
    "start_time": "2021-10-03T17:14:13.373Z"
   },
   {
    "duration": 10,
    "start_time": "2021-10-03T17:14:13.386Z"
   },
   {
    "duration": 14,
    "start_time": "2021-10-03T17:14:13.397Z"
   },
   {
    "duration": 12,
    "start_time": "2021-10-03T17:14:13.413Z"
   },
   {
    "duration": 23,
    "start_time": "2021-10-03T17:14:13.426Z"
   },
   {
    "duration": 7,
    "start_time": "2021-10-03T17:14:13.450Z"
   },
   {
    "duration": 7,
    "start_time": "2021-10-03T17:14:13.458Z"
   },
   {
    "duration": 12,
    "start_time": "2021-10-03T17:14:13.470Z"
   },
   {
    "duration": 4,
    "start_time": "2021-10-03T17:14:13.484Z"
   },
   {
    "duration": 8,
    "start_time": "2021-10-03T17:14:13.489Z"
   },
   {
    "duration": 6,
    "start_time": "2021-10-03T17:14:13.499Z"
   },
   {
    "duration": 14,
    "start_time": "2021-10-03T17:14:13.507Z"
   },
   {
    "duration": 52,
    "start_time": "2021-10-03T17:14:13.523Z"
   },
   {
    "duration": 4,
    "start_time": "2021-10-03T17:14:13.577Z"
   },
   {
    "duration": 20,
    "start_time": "2021-10-03T17:14:13.583Z"
   },
   {
    "duration": 11,
    "start_time": "2021-10-03T17:14:13.604Z"
   },
   {
    "duration": 14,
    "start_time": "2021-10-03T17:14:13.616Z"
   },
   {
    "duration": 3,
    "start_time": "2021-10-03T17:14:13.631Z"
   },
   {
    "duration": 7,
    "start_time": "2021-10-03T17:14:13.644Z"
   },
   {
    "duration": 7,
    "start_time": "2021-10-03T17:14:13.652Z"
   },
   {
    "duration": 13,
    "start_time": "2021-10-03T17:14:13.660Z"
   },
   {
    "duration": 34,
    "start_time": "2021-10-03T17:14:13.675Z"
   },
   {
    "duration": 3,
    "start_time": "2021-10-03T17:14:13.711Z"
   },
   {
    "duration": 8,
    "start_time": "2021-10-03T17:14:13.716Z"
   },
   {
    "duration": 19,
    "start_time": "2021-10-03T17:14:13.725Z"
   },
   {
    "duration": 11,
    "start_time": "2021-10-03T17:14:13.746Z"
   },
   {
    "duration": 3,
    "start_time": "2021-10-03T17:14:13.758Z"
   },
   {
    "duration": 8,
    "start_time": "2021-10-03T17:14:13.763Z"
   },
   {
    "duration": 8,
    "start_time": "2021-10-03T17:14:13.772Z"
   },
   {
    "duration": 9,
    "start_time": "2021-10-03T17:14:13.782Z"
   },
   {
    "duration": 35,
    "start_time": "2021-10-03T17:14:13.793Z"
   },
   {
    "duration": 14,
    "start_time": "2021-10-03T17:14:13.830Z"
   },
   {
    "duration": 6,
    "start_time": "2021-10-03T17:14:13.846Z"
   },
   {
    "duration": 10,
    "start_time": "2021-10-03T17:14:13.854Z"
   },
   {
    "duration": 14,
    "start_time": "2021-10-03T17:14:13.866Z"
   },
   {
    "duration": 4,
    "start_time": "2021-10-03T17:14:13.881Z"
   },
   {
    "duration": 10,
    "start_time": "2021-10-03T17:14:13.887Z"
   },
   {
    "duration": 7,
    "start_time": "2021-10-03T17:14:13.899Z"
   },
   {
    "duration": 15,
    "start_time": "2021-10-03T17:14:13.908Z"
   },
   {
    "duration": 47,
    "start_time": "2021-10-03T17:14:13.924Z"
   },
   {
    "duration": 3,
    "start_time": "2021-10-03T17:14:13.973Z"
   },
   {
    "duration": 20,
    "start_time": "2021-10-03T17:14:13.977Z"
   },
   {
    "duration": 11,
    "start_time": "2021-10-03T17:14:13.999Z"
   },
   {
    "duration": 7,
    "start_time": "2021-10-03T17:14:14.011Z"
   },
   {
    "duration": 4,
    "start_time": "2021-10-03T17:14:14.020Z"
   },
   {
    "duration": 20,
    "start_time": "2021-10-03T17:14:14.025Z"
   },
   {
    "duration": 17,
    "start_time": "2021-10-03T17:14:14.046Z"
   },
   {
    "duration": 8,
    "start_time": "2021-10-03T17:14:14.065Z"
   },
   {
    "duration": 10,
    "start_time": "2021-10-03T17:14:14.074Z"
   },
   {
    "duration": 657,
    "start_time": "2021-10-03T17:14:40.844Z"
   },
   {
    "duration": 11,
    "start_time": "2021-10-03T17:14:41.502Z"
   },
   {
    "duration": 6,
    "start_time": "2021-10-03T17:14:41.516Z"
   },
   {
    "duration": 23,
    "start_time": "2021-10-03T17:14:41.524Z"
   },
   {
    "duration": 3,
    "start_time": "2021-10-03T17:14:41.549Z"
   },
   {
    "duration": 6,
    "start_time": "2021-10-03T17:14:41.554Z"
   },
   {
    "duration": 14,
    "start_time": "2021-10-03T17:14:41.562Z"
   },
   {
    "duration": 14,
    "start_time": "2021-10-03T17:14:41.579Z"
   },
   {
    "duration": 6,
    "start_time": "2021-10-03T17:14:41.595Z"
   },
   {
    "duration": 4,
    "start_time": "2021-10-03T17:14:41.603Z"
   },
   {
    "duration": 8,
    "start_time": "2021-10-03T17:14:41.645Z"
   },
   {
    "duration": 11,
    "start_time": "2021-10-03T17:14:41.654Z"
   },
   {
    "duration": 4,
    "start_time": "2021-10-03T17:14:41.666Z"
   },
   {
    "duration": 14,
    "start_time": "2021-10-03T17:14:41.672Z"
   },
   {
    "duration": 6,
    "start_time": "2021-10-03T17:14:41.688Z"
   },
   {
    "duration": 9,
    "start_time": "2021-10-03T17:14:41.695Z"
   },
   {
    "duration": 52,
    "start_time": "2021-10-03T17:14:41.705Z"
   },
   {
    "duration": 8,
    "start_time": "2021-10-03T17:14:41.759Z"
   },
   {
    "duration": 3,
    "start_time": "2021-10-03T17:14:41.768Z"
   },
   {
    "duration": 12,
    "start_time": "2021-10-03T17:14:41.773Z"
   },
   {
    "duration": 3,
    "start_time": "2021-10-03T17:14:41.787Z"
   },
   {
    "duration": 13,
    "start_time": "2021-10-03T17:14:41.791Z"
   },
   {
    "duration": 38,
    "start_time": "2021-10-03T17:14:41.808Z"
   },
   {
    "duration": 16,
    "start_time": "2021-10-03T17:14:41.848Z"
   },
   {
    "duration": 14,
    "start_time": "2021-10-03T17:14:41.866Z"
   },
   {
    "duration": 10,
    "start_time": "2021-10-03T17:14:41.881Z"
   },
   {
    "duration": 19,
    "start_time": "2021-10-03T17:14:41.892Z"
   },
   {
    "duration": 45,
    "start_time": "2021-10-03T17:14:41.912Z"
   },
   {
    "duration": 14,
    "start_time": "2021-10-03T17:14:41.959Z"
   },
   {
    "duration": 4,
    "start_time": "2021-10-03T17:14:41.975Z"
   },
   {
    "duration": 16,
    "start_time": "2021-10-03T17:14:41.981Z"
   },
   {
    "duration": 6,
    "start_time": "2021-10-03T17:14:41.999Z"
   },
   {
    "duration": 9,
    "start_time": "2021-10-03T17:14:42.006Z"
   },
   {
    "duration": 33,
    "start_time": "2021-10-03T17:14:42.016Z"
   },
   {
    "duration": 7,
    "start_time": "2021-10-03T17:14:42.050Z"
   },
   {
    "duration": 6,
    "start_time": "2021-10-03T17:14:42.058Z"
   },
   {
    "duration": 5,
    "start_time": "2021-10-03T17:14:42.065Z"
   },
   {
    "duration": 5,
    "start_time": "2021-10-03T17:14:42.072Z"
   },
   {
    "duration": 3,
    "start_time": "2021-10-03T17:14:42.079Z"
   },
   {
    "duration": 3565,
    "start_time": "2021-10-03T17:14:42.084Z"
   },
   {
    "duration": 13,
    "start_time": "2021-10-03T17:14:45.651Z"
   },
   {
    "duration": 4,
    "start_time": "2021-10-03T17:14:45.666Z"
   },
   {
    "duration": 8,
    "start_time": "2021-10-03T17:14:45.672Z"
   },
   {
    "duration": 13,
    "start_time": "2021-10-03T17:14:45.682Z"
   },
   {
    "duration": 3,
    "start_time": "2021-10-03T17:14:45.697Z"
   },
   {
    "duration": 4,
    "start_time": "2021-10-03T17:14:45.702Z"
   },
   {
    "duration": 7,
    "start_time": "2021-10-03T17:14:45.708Z"
   },
   {
    "duration": 29,
    "start_time": "2021-10-03T17:14:45.716Z"
   },
   {
    "duration": 5,
    "start_time": "2021-10-03T17:14:45.746Z"
   },
   {
    "duration": 9,
    "start_time": "2021-10-03T17:14:45.753Z"
   },
   {
    "duration": 14,
    "start_time": "2021-10-03T17:14:45.764Z"
   },
   {
    "duration": 12,
    "start_time": "2021-10-03T17:14:45.780Z"
   },
   {
    "duration": 7,
    "start_time": "2021-10-03T17:14:45.794Z"
   },
   {
    "duration": 6,
    "start_time": "2021-10-03T17:14:45.802Z"
   },
   {
    "duration": 5,
    "start_time": "2021-10-03T17:14:45.809Z"
   },
   {
    "duration": 5,
    "start_time": "2021-10-03T17:14:45.816Z"
   },
   {
    "duration": 33,
    "start_time": "2021-10-03T17:14:45.822Z"
   },
   {
    "duration": 17,
    "start_time": "2021-10-03T17:14:45.857Z"
   },
   {
    "duration": 4,
    "start_time": "2021-10-03T17:14:45.876Z"
   },
   {
    "duration": 5,
    "start_time": "2021-10-03T17:14:45.882Z"
   },
   {
    "duration": 5,
    "start_time": "2021-10-03T17:14:45.889Z"
   },
   {
    "duration": 10,
    "start_time": "2021-10-03T17:14:45.895Z"
   },
   {
    "duration": 39,
    "start_time": "2021-10-03T17:14:45.907Z"
   },
   {
    "duration": 12,
    "start_time": "2021-10-03T17:14:45.948Z"
   },
   {
    "duration": 7,
    "start_time": "2021-10-03T17:14:45.961Z"
   },
   {
    "duration": 5,
    "start_time": "2021-10-03T17:14:45.970Z"
   },
   {
    "duration": 6,
    "start_time": "2021-10-03T17:14:45.977Z"
   },
   {
    "duration": 19,
    "start_time": "2021-10-03T17:14:45.989Z"
   },
   {
    "duration": 3,
    "start_time": "2021-10-03T17:14:46.010Z"
   },
   {
    "duration": 6,
    "start_time": "2021-10-03T17:14:46.015Z"
   },
   {
    "duration": 24,
    "start_time": "2021-10-03T17:14:46.022Z"
   },
   {
    "duration": 16,
    "start_time": "2021-10-03T17:14:46.048Z"
   },
   {
    "duration": 36,
    "start_time": "2021-10-03T17:14:46.066Z"
   },
   {
    "duration": 3,
    "start_time": "2021-10-03T17:14:46.104Z"
   },
   {
    "duration": 9,
    "start_time": "2021-10-03T17:14:46.108Z"
   },
   {
    "duration": 10,
    "start_time": "2021-10-03T17:14:46.118Z"
   },
   {
    "duration": 24,
    "start_time": "2021-10-03T17:14:46.130Z"
   },
   {
    "duration": 4,
    "start_time": "2021-10-03T17:14:46.156Z"
   },
   {
    "duration": 5,
    "start_time": "2021-10-03T17:14:46.162Z"
   },
   {
    "duration": 8,
    "start_time": "2021-10-03T17:14:46.169Z"
   },
   {
    "duration": 13,
    "start_time": "2021-10-03T17:14:46.179Z"
   },
   {
    "duration": 51,
    "start_time": "2021-10-03T17:14:46.193Z"
   },
   {
    "duration": 4,
    "start_time": "2021-10-03T17:14:46.246Z"
   },
   {
    "duration": 9,
    "start_time": "2021-10-03T17:14:46.252Z"
   },
   {
    "duration": 11,
    "start_time": "2021-10-03T17:14:46.262Z"
   },
   {
    "duration": 9,
    "start_time": "2021-10-03T17:14:46.275Z"
   },
   {
    "duration": 4,
    "start_time": "2021-10-03T17:14:46.286Z"
   },
   {
    "duration": 9,
    "start_time": "2021-10-03T17:14:46.291Z"
   },
   {
    "duration": 8,
    "start_time": "2021-10-03T17:14:46.301Z"
   },
   {
    "duration": 13,
    "start_time": "2021-10-03T17:14:46.311Z"
   },
   {
    "duration": 52,
    "start_time": "2021-10-03T17:14:46.325Z"
   },
   {
    "duration": 4,
    "start_time": "2021-10-03T17:14:46.378Z"
   },
   {
    "duration": 15,
    "start_time": "2021-10-03T17:14:46.383Z"
   },
   {
    "duration": 19,
    "start_time": "2021-10-03T17:14:46.399Z"
   },
   {
    "duration": 10,
    "start_time": "2021-10-03T17:14:46.420Z"
   },
   {
    "duration": 9,
    "start_time": "2021-10-03T17:14:46.431Z"
   },
   {
    "duration": 21,
    "start_time": "2021-10-03T17:14:46.441Z"
   },
   {
    "duration": 22,
    "start_time": "2021-10-03T17:14:46.464Z"
   },
   {
    "duration": 20,
    "start_time": "2021-10-03T17:14:46.488Z"
   },
   {
    "duration": 47,
    "start_time": "2021-10-03T17:14:46.509Z"
   },
   {
    "duration": 4,
    "start_time": "2021-10-03T17:14:46.557Z"
   },
   {
    "duration": 21,
    "start_time": "2021-10-03T17:14:46.563Z"
   },
   {
    "duration": 16,
    "start_time": "2021-10-03T17:14:46.586Z"
   },
   {
    "duration": 18,
    "start_time": "2021-10-03T17:14:46.604Z"
   },
   {
    "duration": 6,
    "start_time": "2021-10-03T17:14:46.624Z"
   },
   {
    "duration": 7,
    "start_time": "2021-10-03T17:14:46.631Z"
   },
   {
    "duration": 27,
    "start_time": "2021-10-03T17:14:46.640Z"
   },
   {
    "duration": 16,
    "start_time": "2021-10-03T17:14:46.669Z"
   },
   {
    "duration": 24,
    "start_time": "2021-10-03T17:14:46.687Z"
   },
   {
    "duration": 17,
    "start_time": "2021-10-03T17:15:28.854Z"
   },
   {
    "duration": 5,
    "start_time": "2021-10-03T17:15:30.520Z"
   },
   {
    "duration": 663,
    "start_time": "2021-10-03T17:15:36.298Z"
   },
   {
    "duration": 11,
    "start_time": "2021-10-03T17:15:36.964Z"
   },
   {
    "duration": 10,
    "start_time": "2021-10-03T17:15:36.977Z"
   },
   {
    "duration": 8,
    "start_time": "2021-10-03T17:15:36.989Z"
   },
   {
    "duration": 7,
    "start_time": "2021-10-03T17:15:36.999Z"
   },
   {
    "duration": 6,
    "start_time": "2021-10-03T17:15:37.008Z"
   },
   {
    "duration": 39,
    "start_time": "2021-10-03T17:15:37.016Z"
   },
   {
    "duration": 15,
    "start_time": "2021-10-03T17:15:37.058Z"
   },
   {
    "duration": 6,
    "start_time": "2021-10-03T17:15:37.075Z"
   },
   {
    "duration": 3,
    "start_time": "2021-10-03T17:15:37.083Z"
   },
   {
    "duration": 7,
    "start_time": "2021-10-03T17:15:37.088Z"
   },
   {
    "duration": 10,
    "start_time": "2021-10-03T17:15:37.096Z"
   },
   {
    "duration": 38,
    "start_time": "2021-10-03T17:15:37.107Z"
   },
   {
    "duration": 9,
    "start_time": "2021-10-03T17:15:37.147Z"
   },
   {
    "duration": 6,
    "start_time": "2021-10-03T17:15:37.158Z"
   },
   {
    "duration": 5,
    "start_time": "2021-10-03T17:15:37.166Z"
   },
   {
    "duration": 28,
    "start_time": "2021-10-03T17:15:37.173Z"
   },
   {
    "duration": 8,
    "start_time": "2021-10-03T17:15:37.203Z"
   },
   {
    "duration": 31,
    "start_time": "2021-10-03T17:15:37.213Z"
   },
   {
    "duration": 11,
    "start_time": "2021-10-03T17:15:37.246Z"
   },
   {
    "duration": 3,
    "start_time": "2021-10-03T17:15:37.259Z"
   },
   {
    "duration": 14,
    "start_time": "2021-10-03T17:15:37.263Z"
   },
   {
    "duration": 14,
    "start_time": "2021-10-03T17:15:37.281Z"
   },
   {
    "duration": 16,
    "start_time": "2021-10-03T17:15:37.297Z"
   },
   {
    "duration": 43,
    "start_time": "2021-10-03T17:15:37.314Z"
   },
   {
    "duration": 12,
    "start_time": "2021-10-03T17:15:37.358Z"
   },
   {
    "duration": 20,
    "start_time": "2021-10-03T17:15:37.371Z"
   },
   {
    "duration": 17,
    "start_time": "2021-10-03T17:15:37.392Z"
   },
   {
    "duration": 35,
    "start_time": "2021-10-03T17:15:37.410Z"
   },
   {
    "duration": 5,
    "start_time": "2021-10-03T17:15:37.446Z"
   },
   {
    "duration": 17,
    "start_time": "2021-10-03T17:15:37.452Z"
   },
   {
    "duration": 6,
    "start_time": "2021-10-03T17:15:37.471Z"
   },
   {
    "duration": 6,
    "start_time": "2021-10-03T17:15:37.479Z"
   },
   {
    "duration": 13,
    "start_time": "2021-10-03T17:15:37.487Z"
   },
   {
    "duration": 7,
    "start_time": "2021-10-03T17:15:37.501Z"
   },
   {
    "duration": 6,
    "start_time": "2021-10-03T17:15:37.510Z"
   },
   {
    "duration": 30,
    "start_time": "2021-10-03T17:15:37.518Z"
   },
   {
    "duration": 7,
    "start_time": "2021-10-03T17:15:37.549Z"
   },
   {
    "duration": 3,
    "start_time": "2021-10-03T17:15:37.558Z"
   },
   {
    "duration": 3594,
    "start_time": "2021-10-03T17:15:37.562Z"
   },
   {
    "duration": 12,
    "start_time": "2021-10-03T17:15:41.158Z"
   },
   {
    "duration": 8,
    "start_time": "2021-10-03T17:15:41.172Z"
   },
   {
    "duration": 27,
    "start_time": "2021-10-03T17:15:41.182Z"
   },
   {
    "duration": 17,
    "start_time": "2021-10-03T17:15:41.211Z"
   },
   {
    "duration": 4,
    "start_time": "2021-10-03T17:15:41.229Z"
   },
   {
    "duration": 12,
    "start_time": "2021-10-03T17:15:41.235Z"
   },
   {
    "duration": 11,
    "start_time": "2021-10-03T17:15:41.249Z"
   },
   {
    "duration": 17,
    "start_time": "2021-10-03T17:15:41.261Z"
   },
   {
    "duration": 16,
    "start_time": "2021-10-03T17:15:41.280Z"
   },
   {
    "duration": 20,
    "start_time": "2021-10-03T17:15:41.298Z"
   },
   {
    "duration": 28,
    "start_time": "2021-10-03T17:15:41.320Z"
   },
   {
    "duration": 14,
    "start_time": "2021-10-03T17:15:41.350Z"
   },
   {
    "duration": 7,
    "start_time": "2021-10-03T17:15:41.365Z"
   },
   {
    "duration": 5,
    "start_time": "2021-10-03T17:15:41.373Z"
   },
   {
    "duration": 4,
    "start_time": "2021-10-03T17:15:41.380Z"
   },
   {
    "duration": 7,
    "start_time": "2021-10-03T17:15:41.386Z"
   },
   {
    "duration": 17,
    "start_time": "2021-10-03T17:15:41.395Z"
   },
   {
    "duration": 31,
    "start_time": "2021-10-03T17:15:41.413Z"
   },
   {
    "duration": 4,
    "start_time": "2021-10-03T17:15:41.446Z"
   },
   {
    "duration": 7,
    "start_time": "2021-10-03T17:15:41.452Z"
   },
   {
    "duration": 7,
    "start_time": "2021-10-03T17:15:41.460Z"
   },
   {
    "duration": 12,
    "start_time": "2021-10-03T17:15:41.469Z"
   },
   {
    "duration": 20,
    "start_time": "2021-10-03T17:15:41.482Z"
   },
   {
    "duration": 14,
    "start_time": "2021-10-03T17:15:41.504Z"
   },
   {
    "duration": 8,
    "start_time": "2021-10-03T17:15:41.519Z"
   },
   {
    "duration": 17,
    "start_time": "2021-10-03T17:15:41.528Z"
   },
   {
    "duration": 7,
    "start_time": "2021-10-03T17:15:41.546Z"
   },
   {
    "duration": 13,
    "start_time": "2021-10-03T17:15:41.558Z"
   },
   {
    "duration": 3,
    "start_time": "2021-10-03T17:15:41.573Z"
   },
   {
    "duration": 11,
    "start_time": "2021-10-03T17:15:41.578Z"
   },
   {
    "duration": 9,
    "start_time": "2021-10-03T17:15:41.591Z"
   },
   {
    "duration": 9,
    "start_time": "2021-10-03T17:15:41.601Z"
   },
   {
    "duration": 39,
    "start_time": "2021-10-03T17:15:41.611Z"
   },
   {
    "duration": 3,
    "start_time": "2021-10-03T17:15:41.652Z"
   },
   {
    "duration": 10,
    "start_time": "2021-10-03T17:15:41.656Z"
   },
   {
    "duration": 12,
    "start_time": "2021-10-03T17:15:41.667Z"
   },
   {
    "duration": 14,
    "start_time": "2021-10-03T17:15:41.681Z"
   },
   {
    "duration": 4,
    "start_time": "2021-10-03T17:15:41.697Z"
   },
   {
    "duration": 6,
    "start_time": "2021-10-03T17:15:41.702Z"
   },
   {
    "duration": 9,
    "start_time": "2021-10-03T17:15:41.709Z"
   },
   {
    "duration": 27,
    "start_time": "2021-10-03T17:15:41.719Z"
   },
   {
    "duration": 36,
    "start_time": "2021-10-03T17:15:41.748Z"
   },
   {
    "duration": 3,
    "start_time": "2021-10-03T17:15:41.786Z"
   },
   {
    "duration": 7,
    "start_time": "2021-10-03T17:15:41.791Z"
   },
   {
    "duration": 13,
    "start_time": "2021-10-03T17:15:41.800Z"
   },
   {
    "duration": 29,
    "start_time": "2021-10-03T17:15:41.815Z"
   },
   {
    "duration": 5,
    "start_time": "2021-10-03T17:15:41.846Z"
   },
   {
    "duration": 10,
    "start_time": "2021-10-03T17:15:41.852Z"
   },
   {
    "duration": 27,
    "start_time": "2021-10-03T17:15:41.863Z"
   },
   {
    "duration": 25,
    "start_time": "2021-10-03T17:15:41.892Z"
   },
   {
    "duration": 48,
    "start_time": "2021-10-03T17:15:41.918Z"
   },
   {
    "duration": 3,
    "start_time": "2021-10-03T17:15:41.968Z"
   },
   {
    "duration": 9,
    "start_time": "2021-10-03T17:15:41.973Z"
   },
   {
    "duration": 17,
    "start_time": "2021-10-03T17:15:41.984Z"
   },
   {
    "duration": 23,
    "start_time": "2021-10-03T17:15:42.002Z"
   },
   {
    "duration": 13,
    "start_time": "2021-10-03T17:15:42.026Z"
   },
   {
    "duration": 6,
    "start_time": "2021-10-03T17:15:42.041Z"
   },
   {
    "duration": 22,
    "start_time": "2021-10-03T17:15:42.048Z"
   },
   {
    "duration": 11,
    "start_time": "2021-10-03T17:15:42.071Z"
   },
   {
    "duration": 33,
    "start_time": "2021-10-03T17:15:42.083Z"
   },
   {
    "duration": 4,
    "start_time": "2021-10-03T17:15:42.117Z"
   },
   {
    "duration": 16,
    "start_time": "2021-10-03T17:15:42.123Z"
   },
   {
    "duration": 15,
    "start_time": "2021-10-03T17:15:42.141Z"
   },
   {
    "duration": 24,
    "start_time": "2021-10-03T17:15:42.158Z"
   },
   {
    "duration": 14,
    "start_time": "2021-10-03T17:15:42.183Z"
   },
   {
    "duration": 12,
    "start_time": "2021-10-03T17:15:42.199Z"
   },
   {
    "duration": 16,
    "start_time": "2021-10-03T17:15:42.213Z"
   },
   {
    "duration": 10,
    "start_time": "2021-10-03T17:15:42.231Z"
   },
   {
    "duration": 14,
    "start_time": "2021-10-03T17:15:42.242Z"
   },
   {
    "duration": 6703,
    "start_time": "2021-10-03T17:16:12.839Z"
   },
   {
    "duration": 298,
    "start_time": "2021-10-03T17:16:48.569Z"
   },
   {
    "duration": 1839,
    "start_time": "2021-10-03T17:17:37.873Z"
   },
   {
    "duration": 5,
    "start_time": "2021-10-03T17:17:49.176Z"
   },
   {
    "duration": 4,
    "start_time": "2021-10-03T17:17:52.999Z"
   },
   {
    "duration": 684,
    "start_time": "2021-10-03T17:17:59.146Z"
   },
   {
    "duration": 12,
    "start_time": "2021-10-03T17:17:59.832Z"
   },
   {
    "duration": 6,
    "start_time": "2021-10-03T17:17:59.849Z"
   },
   {
    "duration": 5,
    "start_time": "2021-10-03T17:17:59.857Z"
   },
   {
    "duration": 3,
    "start_time": "2021-10-03T17:17:59.863Z"
   },
   {
    "duration": 8,
    "start_time": "2021-10-03T17:17:59.868Z"
   },
   {
    "duration": 16,
    "start_time": "2021-10-03T17:17:59.878Z"
   },
   {
    "duration": 14,
    "start_time": "2021-10-03T17:17:59.896Z"
   },
   {
    "duration": 37,
    "start_time": "2021-10-03T17:17:59.911Z"
   },
   {
    "duration": 7,
    "start_time": "2021-10-03T17:17:59.949Z"
   },
   {
    "duration": 11,
    "start_time": "2021-10-03T17:17:59.957Z"
   },
   {
    "duration": 12,
    "start_time": "2021-10-03T17:17:59.970Z"
   },
   {
    "duration": 4,
    "start_time": "2021-10-03T17:17:59.983Z"
   },
   {
    "duration": 10,
    "start_time": "2021-10-03T17:17:59.988Z"
   },
   {
    "duration": 7,
    "start_time": "2021-10-03T17:18:00.000Z"
   },
   {
    "duration": 7,
    "start_time": "2021-10-03T17:18:00.009Z"
   },
   {
    "duration": 52,
    "start_time": "2021-10-03T17:18:00.018Z"
   },
   {
    "duration": 9,
    "start_time": "2021-10-03T17:18:00.071Z"
   },
   {
    "duration": 15,
    "start_time": "2021-10-03T17:18:00.081Z"
   },
   {
    "duration": 30,
    "start_time": "2021-10-03T17:18:00.097Z"
   },
   {
    "duration": 17,
    "start_time": "2021-10-03T17:18:00.129Z"
   },
   {
    "duration": 53,
    "start_time": "2021-10-03T17:18:00.149Z"
   },
   {
    "duration": 34,
    "start_time": "2021-10-03T17:18:00.205Z"
   },
   {
    "duration": 30,
    "start_time": "2021-10-03T17:18:00.241Z"
   },
   {
    "duration": 30,
    "start_time": "2021-10-03T17:18:00.273Z"
   },
   {
    "duration": 19,
    "start_time": "2021-10-03T17:18:00.305Z"
   },
   {
    "duration": 42,
    "start_time": "2021-10-03T17:18:00.325Z"
   },
   {
    "duration": 21,
    "start_time": "2021-10-03T17:18:00.369Z"
   },
   {
    "duration": 26,
    "start_time": "2021-10-03T17:18:00.391Z"
   },
   {
    "duration": 14,
    "start_time": "2021-10-03T17:18:00.419Z"
   },
   {
    "duration": 38,
    "start_time": "2021-10-03T17:18:00.434Z"
   },
   {
    "duration": 29,
    "start_time": "2021-10-03T17:18:00.474Z"
   },
   {
    "duration": 14,
    "start_time": "2021-10-03T17:18:00.505Z"
   },
   {
    "duration": 20,
    "start_time": "2021-10-03T17:18:00.520Z"
   },
   {
    "duration": 22,
    "start_time": "2021-10-03T17:18:00.542Z"
   },
   {
    "duration": 22,
    "start_time": "2021-10-03T17:18:00.565Z"
   },
   {
    "duration": 30,
    "start_time": "2021-10-03T17:18:00.588Z"
   },
   {
    "duration": 32,
    "start_time": "2021-10-03T17:18:00.619Z"
   },
   {
    "duration": 11,
    "start_time": "2021-10-03T17:18:00.653Z"
   },
   {
    "duration": 3505,
    "start_time": "2021-10-03T17:18:00.665Z"
   },
   {
    "duration": 14,
    "start_time": "2021-10-03T17:18:04.172Z"
   },
   {
    "duration": 7,
    "start_time": "2021-10-03T17:18:04.188Z"
   },
   {
    "duration": 8,
    "start_time": "2021-10-03T17:18:04.197Z"
   },
   {
    "duration": 10,
    "start_time": "2021-10-03T17:18:04.207Z"
   },
   {
    "duration": 3,
    "start_time": "2021-10-03T17:18:04.219Z"
   },
   {
    "duration": 3,
    "start_time": "2021-10-03T17:18:04.245Z"
   },
   {
    "duration": 8,
    "start_time": "2021-10-03T17:18:04.249Z"
   },
   {
    "duration": 12,
    "start_time": "2021-10-03T17:18:04.258Z"
   },
   {
    "duration": 5,
    "start_time": "2021-10-03T17:18:04.272Z"
   },
   {
    "duration": 6,
    "start_time": "2021-10-03T17:18:04.279Z"
   },
   {
    "duration": 17,
    "start_time": "2021-10-03T17:18:04.287Z"
   },
   {
    "duration": 13,
    "start_time": "2021-10-03T17:18:04.305Z"
   },
   {
    "duration": 14,
    "start_time": "2021-10-03T17:18:04.320Z"
   },
   {
    "duration": 10,
    "start_time": "2021-10-03T17:18:04.336Z"
   },
   {
    "duration": 3,
    "start_time": "2021-10-03T17:18:04.348Z"
   },
   {
    "duration": 6,
    "start_time": "2021-10-03T17:18:04.353Z"
   },
   {
    "duration": 16,
    "start_time": "2021-10-03T17:18:04.361Z"
   },
   {
    "duration": 8,
    "start_time": "2021-10-03T17:18:04.379Z"
   },
   {
    "duration": 11,
    "start_time": "2021-10-03T17:18:04.389Z"
   },
   {
    "duration": 3,
    "start_time": "2021-10-03T17:18:04.402Z"
   },
   {
    "duration": 7,
    "start_time": "2021-10-03T17:18:04.407Z"
   },
   {
    "duration": 11,
    "start_time": "2021-10-03T17:18:04.445Z"
   },
   {
    "duration": 18,
    "start_time": "2021-10-03T17:18:04.458Z"
   },
   {
    "duration": 16,
    "start_time": "2021-10-03T17:18:04.478Z"
   },
   {
    "duration": 9,
    "start_time": "2021-10-03T17:18:04.496Z"
   },
   {
    "duration": 7,
    "start_time": "2021-10-03T17:18:04.507Z"
   },
   {
    "duration": 3,
    "start_time": "2021-10-03T17:18:04.547Z"
   },
   {
    "duration": 16,
    "start_time": "2021-10-03T17:18:04.553Z"
   },
   {
    "duration": 4,
    "start_time": "2021-10-03T17:18:04.571Z"
   },
   {
    "duration": 7,
    "start_time": "2021-10-03T17:18:04.576Z"
   },
   {
    "duration": 9,
    "start_time": "2021-10-03T17:18:04.584Z"
   },
   {
    "duration": 9,
    "start_time": "2021-10-03T17:18:04.595Z"
   },
   {
    "duration": 55,
    "start_time": "2021-10-03T17:18:04.606Z"
   },
   {
    "duration": 3,
    "start_time": "2021-10-03T17:18:04.663Z"
   },
   {
    "duration": 12,
    "start_time": "2021-10-03T17:18:04.668Z"
   },
   {
    "duration": 9,
    "start_time": "2021-10-03T17:18:04.682Z"
   },
   {
    "duration": 13,
    "start_time": "2021-10-03T17:18:04.692Z"
   },
   {
    "duration": 3,
    "start_time": "2021-10-03T17:18:04.707Z"
   },
   {
    "duration": 11,
    "start_time": "2021-10-03T17:18:04.711Z"
   },
   {
    "duration": 7,
    "start_time": "2021-10-03T17:18:04.723Z"
   },
   {
    "duration": 14,
    "start_time": "2021-10-03T17:18:04.731Z"
   },
   {
    "duration": 37,
    "start_time": "2021-10-03T17:18:04.747Z"
   },
   {
    "duration": 4,
    "start_time": "2021-10-03T17:18:04.785Z"
   },
   {
    "duration": 10,
    "start_time": "2021-10-03T17:18:04.790Z"
   },
   {
    "duration": 10,
    "start_time": "2021-10-03T17:18:04.801Z"
   },
   {
    "duration": 9,
    "start_time": "2021-10-03T17:18:04.812Z"
   },
   {
    "duration": 23,
    "start_time": "2021-10-03T17:18:04.822Z"
   },
   {
    "duration": 6,
    "start_time": "2021-10-03T17:18:04.847Z"
   },
   {
    "duration": 6,
    "start_time": "2021-10-03T17:18:04.854Z"
   },
   {
    "duration": 11,
    "start_time": "2021-10-03T17:18:04.861Z"
   },
   {
    "duration": 33,
    "start_time": "2021-10-03T17:18:04.874Z"
   },
   {
    "duration": 3,
    "start_time": "2021-10-03T17:18:04.909Z"
   },
   {
    "duration": 9,
    "start_time": "2021-10-03T17:18:04.914Z"
   },
   {
    "duration": 26,
    "start_time": "2021-10-03T17:18:04.925Z"
   },
   {
    "duration": 9,
    "start_time": "2021-10-03T17:18:04.953Z"
   },
   {
    "duration": 3,
    "start_time": "2021-10-03T17:18:04.964Z"
   },
   {
    "duration": 5,
    "start_time": "2021-10-03T17:18:04.968Z"
   },
   {
    "duration": 5,
    "start_time": "2021-10-03T17:18:04.975Z"
   },
   {
    "duration": 9,
    "start_time": "2021-10-03T17:18:04.982Z"
   },
   {
    "duration": 54,
    "start_time": "2021-10-03T17:18:04.992Z"
   },
   {
    "duration": 3,
    "start_time": "2021-10-03T17:18:05.048Z"
   },
   {
    "duration": 8,
    "start_time": "2021-10-03T17:18:05.053Z"
   },
   {
    "duration": 24,
    "start_time": "2021-10-03T17:18:05.063Z"
   },
   {
    "duration": 19,
    "start_time": "2021-10-03T17:18:05.088Z"
   },
   {
    "duration": 4,
    "start_time": "2021-10-03T17:18:05.108Z"
   },
   {
    "duration": 9,
    "start_time": "2021-10-03T17:18:05.113Z"
   },
   {
    "duration": 10,
    "start_time": "2021-10-03T17:18:05.124Z"
   },
   {
    "duration": 5,
    "start_time": "2021-10-03T17:18:05.135Z"
   },
   {
    "duration": 13,
    "start_time": "2021-10-03T17:18:05.141Z"
   },
   {
    "duration": 429,
    "start_time": "2021-10-03T17:20:27.745Z"
   },
   {
    "duration": 259,
    "start_time": "2021-10-03T17:20:45.674Z"
   },
   {
    "duration": 10,
    "start_time": "2021-10-03T17:21:14.123Z"
   },
   {
    "duration": 14,
    "start_time": "2021-10-03T17:21:51.851Z"
   },
   {
    "duration": 4,
    "start_time": "2021-10-03T17:30:55.130Z"
   },
   {
    "duration": 669,
    "start_time": "2021-10-03T17:31:27.523Z"
   },
   {
    "duration": 9,
    "start_time": "2021-10-03T17:31:28.194Z"
   },
   {
    "duration": 25,
    "start_time": "2021-10-03T17:31:28.205Z"
   },
   {
    "duration": 13,
    "start_time": "2021-10-03T17:31:28.232Z"
   },
   {
    "duration": 3,
    "start_time": "2021-10-03T17:31:28.246Z"
   },
   {
    "duration": 7,
    "start_time": "2021-10-03T17:31:28.250Z"
   },
   {
    "duration": 19,
    "start_time": "2021-10-03T17:31:28.259Z"
   },
   {
    "duration": 14,
    "start_time": "2021-10-03T17:31:28.280Z"
   },
   {
    "duration": 6,
    "start_time": "2021-10-03T17:31:28.296Z"
   },
   {
    "duration": 3,
    "start_time": "2021-10-03T17:31:28.304Z"
   },
   {
    "duration": 8,
    "start_time": "2021-10-03T17:31:28.345Z"
   },
   {
    "duration": 14,
    "start_time": "2021-10-03T17:31:28.355Z"
   },
   {
    "duration": 3,
    "start_time": "2021-10-03T17:31:28.371Z"
   },
   {
    "duration": 10,
    "start_time": "2021-10-03T17:31:28.376Z"
   },
   {
    "duration": 21,
    "start_time": "2021-10-03T17:31:28.388Z"
   },
   {
    "duration": 15,
    "start_time": "2021-10-03T17:31:28.411Z"
   },
   {
    "duration": 29,
    "start_time": "2021-10-03T17:31:28.428Z"
   },
   {
    "duration": 10,
    "start_time": "2021-10-03T17:31:28.458Z"
   },
   {
    "duration": 6,
    "start_time": "2021-10-03T17:31:28.469Z"
   },
   {
    "duration": 18,
    "start_time": "2021-10-03T17:31:28.476Z"
   },
   {
    "duration": 5,
    "start_time": "2021-10-03T17:31:28.496Z"
   },
   {
    "duration": 17,
    "start_time": "2021-10-03T17:31:28.502Z"
   },
   {
    "duration": 18,
    "start_time": "2021-10-03T17:31:28.548Z"
   },
   {
    "duration": 15,
    "start_time": "2021-10-03T17:31:28.569Z"
   },
   {
    "duration": 14,
    "start_time": "2021-10-03T17:31:28.585Z"
   },
   {
    "duration": 10,
    "start_time": "2021-10-03T17:31:28.601Z"
   },
   {
    "duration": 42,
    "start_time": "2021-10-03T17:31:28.612Z"
   },
   {
    "duration": 17,
    "start_time": "2021-10-03T17:31:28.655Z"
   },
   {
    "duration": 13,
    "start_time": "2021-10-03T17:31:28.674Z"
   },
   {
    "duration": 4,
    "start_time": "2021-10-03T17:31:28.689Z"
   },
   {
    "duration": 11,
    "start_time": "2021-10-03T17:31:28.695Z"
   },
   {
    "duration": 6,
    "start_time": "2021-10-03T17:31:28.708Z"
   },
   {
    "duration": 6,
    "start_time": "2021-10-03T17:31:28.744Z"
   },
   {
    "duration": 12,
    "start_time": "2021-10-03T17:31:28.751Z"
   },
   {
    "duration": 7,
    "start_time": "2021-10-03T17:31:28.765Z"
   },
   {
    "duration": 5,
    "start_time": "2021-10-03T17:31:28.773Z"
   },
   {
    "duration": 5,
    "start_time": "2021-10-03T17:31:28.780Z"
   },
   {
    "duration": 8,
    "start_time": "2021-10-03T17:31:28.786Z"
   },
   {
    "duration": 4,
    "start_time": "2021-10-03T17:31:28.795Z"
   },
   {
    "duration": 3782,
    "start_time": "2021-10-03T17:31:28.801Z"
   },
   {
    "duration": 12,
    "start_time": "2021-10-03T17:31:32.585Z"
   },
   {
    "duration": 16,
    "start_time": "2021-10-03T17:31:32.599Z"
   },
   {
    "duration": 11,
    "start_time": "2021-10-03T17:31:32.617Z"
   },
   {
    "duration": 20,
    "start_time": "2021-10-03T17:31:32.630Z"
   },
   {
    "duration": 6,
    "start_time": "2021-10-03T17:31:32.652Z"
   },
   {
    "duration": 11,
    "start_time": "2021-10-03T17:31:32.660Z"
   },
   {
    "duration": 10,
    "start_time": "2021-10-03T17:31:32.672Z"
   },
   {
    "duration": 12,
    "start_time": "2021-10-03T17:31:32.683Z"
   },
   {
    "duration": 5,
    "start_time": "2021-10-03T17:31:32.697Z"
   },
   {
    "duration": 7,
    "start_time": "2021-10-03T17:31:32.704Z"
   },
   {
    "duration": 14,
    "start_time": "2021-10-03T17:31:32.713Z"
   },
   {
    "duration": 27,
    "start_time": "2021-10-03T17:31:32.729Z"
   },
   {
    "duration": 5,
    "start_time": "2021-10-03T17:31:32.757Z"
   },
   {
    "duration": 7,
    "start_time": "2021-10-03T17:31:32.764Z"
   },
   {
    "duration": 5,
    "start_time": "2021-10-03T17:31:32.773Z"
   },
   {
    "duration": 7,
    "start_time": "2021-10-03T17:31:32.780Z"
   },
   {
    "duration": 17,
    "start_time": "2021-10-03T17:31:32.789Z"
   },
   {
    "duration": 8,
    "start_time": "2021-10-03T17:31:32.808Z"
   },
   {
    "duration": 7,
    "start_time": "2021-10-03T17:31:32.817Z"
   },
   {
    "duration": 21,
    "start_time": "2021-10-03T17:31:32.825Z"
   },
   {
    "duration": 5,
    "start_time": "2021-10-03T17:31:32.848Z"
   },
   {
    "duration": 16,
    "start_time": "2021-10-03T17:31:32.855Z"
   },
   {
    "duration": 16,
    "start_time": "2021-10-03T17:31:32.872Z"
   },
   {
    "duration": 11,
    "start_time": "2021-10-03T17:31:32.890Z"
   },
   {
    "duration": 7,
    "start_time": "2021-10-03T17:31:32.903Z"
   },
   {
    "duration": 34,
    "start_time": "2021-10-03T17:31:32.911Z"
   },
   {
    "duration": 3,
    "start_time": "2021-10-03T17:31:32.947Z"
   },
   {
    "duration": 22,
    "start_time": "2021-10-03T17:31:32.956Z"
   },
   {
    "duration": 3,
    "start_time": "2021-10-03T17:31:32.980Z"
   },
   {
    "duration": 10,
    "start_time": "2021-10-03T17:31:32.985Z"
   },
   {
    "duration": 20,
    "start_time": "2021-10-03T17:31:32.996Z"
   },
   {
    "duration": 25,
    "start_time": "2021-10-03T17:31:33.018Z"
   },
   {
    "duration": 41,
    "start_time": "2021-10-03T17:31:33.045Z"
   },
   {
    "duration": 3,
    "start_time": "2021-10-03T17:31:33.088Z"
   },
   {
    "duration": 12,
    "start_time": "2021-10-03T17:31:33.093Z"
   },
   {
    "duration": 12,
    "start_time": "2021-10-03T17:31:33.107Z"
   },
   {
    "duration": 25,
    "start_time": "2021-10-03T17:31:33.121Z"
   },
   {
    "duration": 12,
    "start_time": "2021-10-03T17:31:33.148Z"
   },
   {
    "duration": 20,
    "start_time": "2021-10-03T17:31:33.161Z"
   },
   {
    "duration": 23,
    "start_time": "2021-10-03T17:31:33.183Z"
   },
   {
    "duration": 14,
    "start_time": "2021-10-03T17:31:33.207Z"
   },
   {
    "duration": 20,
    "start_time": "2021-10-03T17:31:33.223Z"
   },
   {
    "duration": 17,
    "start_time": "2021-10-03T17:31:33.245Z"
   },
   {
    "duration": 17,
    "start_time": "2021-10-03T17:31:33.264Z"
   },
   {
    "duration": 13,
    "start_time": "2021-10-03T17:31:33.283Z"
   },
   {
    "duration": 108,
    "start_time": "2021-10-03T17:31:33.298Z"
   },
   {
    "duration": -711,
    "start_time": "2021-10-03T17:31:34.119Z"
   },
   {
    "duration": -717,
    "start_time": "2021-10-03T17:31:34.126Z"
   },
   {
    "duration": -724,
    "start_time": "2021-10-03T17:31:34.134Z"
   },
   {
    "duration": -729,
    "start_time": "2021-10-03T17:31:34.140Z"
   },
   {
    "duration": -734,
    "start_time": "2021-10-03T17:31:34.146Z"
   },
   {
    "duration": -740,
    "start_time": "2021-10-03T17:31:34.153Z"
   },
   {
    "duration": -745,
    "start_time": "2021-10-03T17:31:34.159Z"
   },
   {
    "duration": -750,
    "start_time": "2021-10-03T17:31:34.165Z"
   },
   {
    "duration": -768,
    "start_time": "2021-10-03T17:31:34.184Z"
   },
   {
    "duration": -774,
    "start_time": "2021-10-03T17:31:34.191Z"
   },
   {
    "duration": -780,
    "start_time": "2021-10-03T17:31:34.198Z"
   },
   {
    "duration": -786,
    "start_time": "2021-10-03T17:31:34.205Z"
   },
   {
    "duration": -792,
    "start_time": "2021-10-03T17:31:34.212Z"
   },
   {
    "duration": -817,
    "start_time": "2021-10-03T17:31:34.238Z"
   },
   {
    "duration": -823,
    "start_time": "2021-10-03T17:31:34.245Z"
   },
   {
    "duration": -828,
    "start_time": "2021-10-03T17:31:34.251Z"
   },
   {
    "duration": -835,
    "start_time": "2021-10-03T17:31:34.259Z"
   },
   {
    "duration": -840,
    "start_time": "2021-10-03T17:31:34.265Z"
   },
   {
    "duration": -864,
    "start_time": "2021-10-03T17:31:34.290Z"
   },
   {
    "duration": -870,
    "start_time": "2021-10-03T17:31:34.297Z"
   },
   {
    "duration": -885,
    "start_time": "2021-10-03T17:31:34.313Z"
   },
   {
    "duration": -890,
    "start_time": "2021-10-03T17:31:34.319Z"
   },
   {
    "duration": -896,
    "start_time": "2021-10-03T17:31:34.326Z"
   },
   {
    "duration": -901,
    "start_time": "2021-10-03T17:31:34.332Z"
   },
   {
    "duration": -907,
    "start_time": "2021-10-03T17:31:34.339Z"
   },
   {
    "duration": 693,
    "start_time": "2021-10-03T17:32:05.018Z"
   },
   {
    "duration": 10,
    "start_time": "2021-10-03T17:32:05.714Z"
   },
   {
    "duration": 14,
    "start_time": "2021-10-03T17:32:05.726Z"
   },
   {
    "duration": 22,
    "start_time": "2021-10-03T17:32:05.742Z"
   },
   {
    "duration": 14,
    "start_time": "2021-10-03T17:32:05.765Z"
   },
   {
    "duration": 9,
    "start_time": "2021-10-03T17:32:05.780Z"
   },
   {
    "duration": 30,
    "start_time": "2021-10-03T17:32:05.791Z"
   },
   {
    "duration": 22,
    "start_time": "2021-10-03T17:32:05.823Z"
   },
   {
    "duration": 24,
    "start_time": "2021-10-03T17:32:05.846Z"
   },
   {
    "duration": 24,
    "start_time": "2021-10-03T17:32:05.871Z"
   },
   {
    "duration": 27,
    "start_time": "2021-10-03T17:32:05.897Z"
   },
   {
    "duration": 19,
    "start_time": "2021-10-03T17:32:05.926Z"
   },
   {
    "duration": 21,
    "start_time": "2021-10-03T17:32:05.946Z"
   },
   {
    "duration": 23,
    "start_time": "2021-10-03T17:32:05.969Z"
   },
   {
    "duration": 27,
    "start_time": "2021-10-03T17:32:05.993Z"
   },
   {
    "duration": 22,
    "start_time": "2021-10-03T17:32:06.022Z"
   },
   {
    "duration": 49,
    "start_time": "2021-10-03T17:32:06.045Z"
   },
   {
    "duration": 8,
    "start_time": "2021-10-03T17:32:06.096Z"
   },
   {
    "duration": 9,
    "start_time": "2021-10-03T17:32:06.106Z"
   },
   {
    "duration": 23,
    "start_time": "2021-10-03T17:32:06.116Z"
   },
   {
    "duration": 8,
    "start_time": "2021-10-03T17:32:06.140Z"
   },
   {
    "duration": 24,
    "start_time": "2021-10-03T17:32:06.152Z"
   },
   {
    "duration": 17,
    "start_time": "2021-10-03T17:32:06.179Z"
   },
   {
    "duration": 22,
    "start_time": "2021-10-03T17:32:06.198Z"
   },
   {
    "duration": 17,
    "start_time": "2021-10-03T17:32:06.221Z"
   },
   {
    "duration": 20,
    "start_time": "2021-10-03T17:32:06.239Z"
   },
   {
    "duration": 32,
    "start_time": "2021-10-03T17:32:06.260Z"
   },
   {
    "duration": 15,
    "start_time": "2021-10-03T17:32:06.294Z"
   },
   {
    "duration": 18,
    "start_time": "2021-10-03T17:32:06.310Z"
   },
   {
    "duration": 5,
    "start_time": "2021-10-03T17:32:06.329Z"
   },
   {
    "duration": 23,
    "start_time": "2021-10-03T17:32:06.336Z"
   },
   {
    "duration": 17,
    "start_time": "2021-10-03T17:32:06.360Z"
   },
   {
    "duration": 31,
    "start_time": "2021-10-03T17:32:06.378Z"
   },
   {
    "duration": 22,
    "start_time": "2021-10-03T17:32:06.411Z"
   },
   {
    "duration": 26,
    "start_time": "2021-10-03T17:32:06.434Z"
   },
   {
    "duration": 7,
    "start_time": "2021-10-03T17:32:06.461Z"
   },
   {
    "duration": 16,
    "start_time": "2021-10-03T17:32:06.469Z"
   },
   {
    "duration": 9,
    "start_time": "2021-10-03T17:32:06.486Z"
   },
   {
    "duration": 6,
    "start_time": "2021-10-03T17:32:06.497Z"
   },
   {
    "duration": 3312,
    "start_time": "2021-10-03T17:32:06.504Z"
   },
   {
    "duration": 12,
    "start_time": "2021-10-03T17:32:09.818Z"
   },
   {
    "duration": 22,
    "start_time": "2021-10-03T17:32:09.832Z"
   },
   {
    "duration": 18,
    "start_time": "2021-10-03T17:32:09.855Z"
   },
   {
    "duration": 26,
    "start_time": "2021-10-03T17:32:09.875Z"
   },
   {
    "duration": 11,
    "start_time": "2021-10-03T17:32:09.902Z"
   },
   {
    "duration": 17,
    "start_time": "2021-10-03T17:32:09.915Z"
   },
   {
    "duration": 13,
    "start_time": "2021-10-03T17:32:09.934Z"
   },
   {
    "duration": 20,
    "start_time": "2021-10-03T17:32:09.948Z"
   },
   {
    "duration": 13,
    "start_time": "2021-10-03T17:32:09.970Z"
   },
   {
    "duration": 21,
    "start_time": "2021-10-03T17:32:09.985Z"
   },
   {
    "duration": 38,
    "start_time": "2021-10-03T17:32:10.008Z"
   },
   {
    "duration": 36,
    "start_time": "2021-10-03T17:32:10.048Z"
   },
   {
    "duration": 16,
    "start_time": "2021-10-03T17:32:10.085Z"
   },
   {
    "duration": 21,
    "start_time": "2021-10-03T17:32:10.103Z"
   },
   {
    "duration": 32,
    "start_time": "2021-10-03T17:32:10.126Z"
   },
   {
    "duration": 24,
    "start_time": "2021-10-03T17:32:10.160Z"
   },
   {
    "duration": 13,
    "start_time": "2021-10-03T17:32:10.186Z"
   },
   {
    "duration": 10,
    "start_time": "2021-10-03T17:32:10.201Z"
   },
   {
    "duration": 22,
    "start_time": "2021-10-03T17:32:10.212Z"
   },
   {
    "duration": 9,
    "start_time": "2021-10-03T17:32:10.236Z"
   },
   {
    "duration": 10,
    "start_time": "2021-10-03T17:32:10.246Z"
   },
   {
    "duration": 16,
    "start_time": "2021-10-03T17:32:10.257Z"
   },
   {
    "duration": 29,
    "start_time": "2021-10-03T17:32:10.275Z"
   },
   {
    "duration": 25,
    "start_time": "2021-10-03T17:32:10.305Z"
   },
   {
    "duration": 16,
    "start_time": "2021-10-03T17:32:10.331Z"
   },
   {
    "duration": 21,
    "start_time": "2021-10-03T17:32:10.349Z"
   },
   {
    "duration": 20,
    "start_time": "2021-10-03T17:32:10.375Z"
   },
   {
    "duration": 36,
    "start_time": "2021-10-03T17:32:10.397Z"
   },
   {
    "duration": 4,
    "start_time": "2021-10-03T17:32:10.435Z"
   },
   {
    "duration": 15,
    "start_time": "2021-10-03T17:32:10.440Z"
   },
   {
    "duration": 15,
    "start_time": "2021-10-03T17:32:10.456Z"
   },
   {
    "duration": 32,
    "start_time": "2021-10-03T17:32:10.472Z"
   },
   {
    "duration": 45,
    "start_time": "2021-10-03T17:32:10.506Z"
   },
   {
    "duration": 3,
    "start_time": "2021-10-03T17:32:10.553Z"
   },
   {
    "duration": 11,
    "start_time": "2021-10-03T17:32:10.558Z"
   },
   {
    "duration": 24,
    "start_time": "2021-10-03T17:32:10.571Z"
   },
   {
    "duration": 22,
    "start_time": "2021-10-03T17:32:10.596Z"
   },
   {
    "duration": 3,
    "start_time": "2021-10-03T17:32:10.620Z"
   },
   {
    "duration": 13,
    "start_time": "2021-10-03T17:32:10.625Z"
   },
   {
    "duration": 13,
    "start_time": "2021-10-03T17:32:10.639Z"
   },
   {
    "duration": 16,
    "start_time": "2021-10-03T17:32:10.653Z"
   },
   {
    "duration": 12,
    "start_time": "2021-10-03T17:32:10.670Z"
   },
   {
    "duration": 3,
    "start_time": "2021-10-03T17:32:10.684Z"
   },
   {
    "duration": 6,
    "start_time": "2021-10-03T17:32:10.689Z"
   },
   {
    "duration": 8,
    "start_time": "2021-10-03T17:32:10.696Z"
   },
   {
    "duration": 10,
    "start_time": "2021-10-03T17:32:10.705Z"
   },
   {
    "duration": 40,
    "start_time": "2021-10-03T17:32:10.717Z"
   },
   {
    "duration": 2,
    "start_time": "2021-10-03T17:32:10.759Z"
   },
   {
    "duration": 7,
    "start_time": "2021-10-03T17:32:10.763Z"
   },
   {
    "duration": 15,
    "start_time": "2021-10-03T17:32:10.771Z"
   },
   {
    "duration": 9,
    "start_time": "2021-10-03T17:32:10.787Z"
   },
   {
    "duration": 7,
    "start_time": "2021-10-03T17:32:10.798Z"
   },
   {
    "duration": 14,
    "start_time": "2021-10-03T17:32:10.806Z"
   },
   {
    "duration": 8,
    "start_time": "2021-10-03T17:32:10.821Z"
   },
   {
    "duration": 9,
    "start_time": "2021-10-03T17:32:10.830Z"
   },
   {
    "duration": 39,
    "start_time": "2021-10-03T17:32:10.840Z"
   },
   {
    "duration": 3,
    "start_time": "2021-10-03T17:32:10.881Z"
   },
   {
    "duration": 11,
    "start_time": "2021-10-03T17:32:10.885Z"
   },
   {
    "duration": 11,
    "start_time": "2021-10-03T17:32:10.898Z"
   },
   {
    "duration": 16,
    "start_time": "2021-10-03T17:32:10.911Z"
   },
   {
    "duration": 4,
    "start_time": "2021-10-03T17:32:10.929Z"
   },
   {
    "duration": 16,
    "start_time": "2021-10-03T17:32:10.934Z"
   },
   {
    "duration": 11,
    "start_time": "2021-10-03T17:32:10.951Z"
   },
   {
    "duration": 17,
    "start_time": "2021-10-03T17:32:10.964Z"
   },
   {
    "duration": 34,
    "start_time": "2021-10-03T17:32:10.982Z"
   },
   {
    "duration": 3,
    "start_time": "2021-10-03T17:32:11.018Z"
   },
   {
    "duration": 15,
    "start_time": "2021-10-03T17:32:11.023Z"
   },
   {
    "duration": 14,
    "start_time": "2021-10-03T17:32:11.039Z"
   },
   {
    "duration": 11,
    "start_time": "2021-10-03T17:32:11.055Z"
   },
   {
    "duration": 16,
    "start_time": "2021-10-03T17:32:11.068Z"
   },
   {
    "duration": 98,
    "start_time": "2021-10-03T17:36:12.154Z"
   },
   {
    "duration": 85,
    "start_time": "2021-10-03T17:41:06.904Z"
   },
   {
    "duration": 7,
    "start_time": "2021-10-03T17:46:09.235Z"
   },
   {
    "duration": 5,
    "start_time": "2021-10-03T17:46:10.668Z"
   },
   {
    "duration": 28,
    "start_time": "2021-10-03T17:47:48.853Z"
   },
   {
    "duration": 6,
    "start_time": "2021-10-03T17:49:43.174Z"
   },
   {
    "duration": 6,
    "start_time": "2021-10-03T17:51:12.451Z"
   },
   {
    "duration": 610,
    "start_time": "2021-10-03T17:51:41.293Z"
   },
   {
    "duration": 10,
    "start_time": "2021-10-03T17:51:41.905Z"
   },
   {
    "duration": 15,
    "start_time": "2021-10-03T17:51:41.917Z"
   },
   {
    "duration": 16,
    "start_time": "2021-10-03T17:51:41.934Z"
   },
   {
    "duration": 8,
    "start_time": "2021-10-03T17:51:41.952Z"
   },
   {
    "duration": 20,
    "start_time": "2021-10-03T17:51:41.962Z"
   },
   {
    "duration": 22,
    "start_time": "2021-10-03T17:51:41.984Z"
   },
   {
    "duration": 20,
    "start_time": "2021-10-03T17:51:42.008Z"
   },
   {
    "duration": 16,
    "start_time": "2021-10-03T17:51:42.030Z"
   },
   {
    "duration": 13,
    "start_time": "2021-10-03T17:51:42.048Z"
   },
   {
    "duration": 25,
    "start_time": "2021-10-03T17:51:42.062Z"
   },
   {
    "duration": 23,
    "start_time": "2021-10-03T17:51:42.089Z"
   },
   {
    "duration": 24,
    "start_time": "2021-10-03T17:51:42.113Z"
   },
   {
    "duration": 29,
    "start_time": "2021-10-03T17:51:42.138Z"
   },
   {
    "duration": 7,
    "start_time": "2021-10-03T17:51:42.169Z"
   },
   {
    "duration": 34,
    "start_time": "2021-10-03T17:51:42.177Z"
   },
   {
    "duration": 50,
    "start_time": "2021-10-03T17:51:42.213Z"
   },
   {
    "duration": 15,
    "start_time": "2021-10-03T17:51:42.265Z"
   },
   {
    "duration": 17,
    "start_time": "2021-10-03T17:51:42.282Z"
   },
   {
    "duration": 23,
    "start_time": "2021-10-03T17:51:42.300Z"
   },
   {
    "duration": 27,
    "start_time": "2021-10-03T17:51:42.324Z"
   },
   {
    "duration": 33,
    "start_time": "2021-10-03T17:51:42.353Z"
   },
   {
    "duration": 3,
    "start_time": "2021-10-03T17:51:42.391Z"
   },
   {
    "duration": 20,
    "start_time": "2021-10-03T17:51:42.397Z"
   },
   {
    "duration": 14,
    "start_time": "2021-10-03T17:51:42.419Z"
   },
   {
    "duration": 31,
    "start_time": "2021-10-03T17:51:42.434Z"
   },
   {
    "duration": 14,
    "start_time": "2021-10-03T17:51:42.467Z"
   },
   {
    "duration": 15,
    "start_time": "2021-10-03T17:51:42.483Z"
   },
   {
    "duration": 15,
    "start_time": "2021-10-03T17:51:42.499Z"
   },
   {
    "duration": 11,
    "start_time": "2021-10-03T17:51:42.515Z"
   },
   {
    "duration": 29,
    "start_time": "2021-10-03T17:51:42.527Z"
   },
   {
    "duration": 17,
    "start_time": "2021-10-03T17:51:42.557Z"
   },
   {
    "duration": 22,
    "start_time": "2021-10-03T17:51:42.576Z"
   },
   {
    "duration": 5,
    "start_time": "2021-10-03T17:51:42.599Z"
   },
   {
    "duration": 18,
    "start_time": "2021-10-03T17:51:42.605Z"
   },
   {
    "duration": 20,
    "start_time": "2021-10-03T17:51:42.625Z"
   },
   {
    "duration": 11,
    "start_time": "2021-10-03T17:51:42.646Z"
   },
   {
    "duration": 18,
    "start_time": "2021-10-03T17:51:42.659Z"
   },
   {
    "duration": 17,
    "start_time": "2021-10-03T17:51:42.678Z"
   },
   {
    "duration": 7,
    "start_time": "2021-10-03T17:51:42.697Z"
   },
   {
    "duration": 20,
    "start_time": "2021-10-03T17:51:42.705Z"
   },
   {
    "duration": 18,
    "start_time": "2021-10-03T17:51:42.727Z"
   },
   {
    "duration": 12,
    "start_time": "2021-10-03T17:51:42.746Z"
   },
   {
    "duration": 3512,
    "start_time": "2021-10-03T17:51:42.760Z"
   },
   {
    "duration": 14,
    "start_time": "2021-10-03T17:51:46.274Z"
   },
   {
    "duration": 6,
    "start_time": "2021-10-03T17:51:46.290Z"
   },
   {
    "duration": 12,
    "start_time": "2021-10-03T17:51:46.298Z"
   },
   {
    "duration": 15,
    "start_time": "2021-10-03T17:51:46.312Z"
   },
   {
    "duration": 16,
    "start_time": "2021-10-03T17:51:46.328Z"
   },
   {
    "duration": 9,
    "start_time": "2021-10-03T17:51:46.345Z"
   },
   {
    "duration": 5,
    "start_time": "2021-10-03T17:51:46.356Z"
   },
   {
    "duration": 7,
    "start_time": "2021-10-03T17:51:46.363Z"
   },
   {
    "duration": 11,
    "start_time": "2021-10-03T17:51:46.372Z"
   },
   {
    "duration": 9,
    "start_time": "2021-10-03T17:51:46.384Z"
   },
   {
    "duration": 23,
    "start_time": "2021-10-03T17:51:46.395Z"
   },
   {
    "duration": 22,
    "start_time": "2021-10-03T17:51:46.420Z"
   },
   {
    "duration": 91,
    "start_time": "2021-10-03T17:51:46.443Z"
   },
   {
    "duration": -796,
    "start_time": "2021-10-03T17:51:47.333Z"
   },
   {
    "duration": -806,
    "start_time": "2021-10-03T17:51:47.344Z"
   },
   {
    "duration": -813,
    "start_time": "2021-10-03T17:51:47.352Z"
   },
   {
    "duration": -819,
    "start_time": "2021-10-03T17:51:47.359Z"
   },
   {
    "duration": -825,
    "start_time": "2021-10-03T17:51:47.366Z"
   },
   {
    "duration": -832,
    "start_time": "2021-10-03T17:51:47.374Z"
   },
   {
    "duration": -837,
    "start_time": "2021-10-03T17:51:47.380Z"
   },
   {
    "duration": -844,
    "start_time": "2021-10-03T17:51:47.388Z"
   },
   {
    "duration": -849,
    "start_time": "2021-10-03T17:51:47.394Z"
   },
   {
    "duration": -855,
    "start_time": "2021-10-03T17:51:47.401Z"
   },
   {
    "duration": -860,
    "start_time": "2021-10-03T17:51:47.407Z"
   },
   {
    "duration": -866,
    "start_time": "2021-10-03T17:51:47.414Z"
   },
   {
    "duration": -871,
    "start_time": "2021-10-03T17:51:47.420Z"
   },
   {
    "duration": -877,
    "start_time": "2021-10-03T17:51:47.427Z"
   },
   {
    "duration": -901,
    "start_time": "2021-10-03T17:51:47.452Z"
   },
   {
    "duration": -910,
    "start_time": "2021-10-03T17:51:47.462Z"
   },
   {
    "duration": -916,
    "start_time": "2021-10-03T17:51:47.469Z"
   },
   {
    "duration": -922,
    "start_time": "2021-10-03T17:51:47.476Z"
   },
   {
    "duration": -927,
    "start_time": "2021-10-03T17:51:47.482Z"
   },
   {
    "duration": -935,
    "start_time": "2021-10-03T17:51:47.491Z"
   },
   {
    "duration": -942,
    "start_time": "2021-10-03T17:51:47.499Z"
   },
   {
    "duration": -949,
    "start_time": "2021-10-03T17:51:47.507Z"
   },
   {
    "duration": -955,
    "start_time": "2021-10-03T17:51:47.513Z"
   },
   {
    "duration": -961,
    "start_time": "2021-10-03T17:51:47.520Z"
   },
   {
    "duration": -967,
    "start_time": "2021-10-03T17:51:47.527Z"
   },
   {
    "duration": -974,
    "start_time": "2021-10-03T17:51:47.535Z"
   },
   {
    "duration": -980,
    "start_time": "2021-10-03T17:51:47.542Z"
   },
   {
    "duration": -1002,
    "start_time": "2021-10-03T17:51:47.565Z"
   },
   {
    "duration": -1024,
    "start_time": "2021-10-03T17:51:47.588Z"
   },
   {
    "duration": -1075,
    "start_time": "2021-10-03T17:51:47.639Z"
   },
   {
    "duration": -1108,
    "start_time": "2021-10-03T17:51:47.673Z"
   },
   {
    "duration": -1142,
    "start_time": "2021-10-03T17:51:47.708Z"
   },
   {
    "duration": -1178,
    "start_time": "2021-10-03T17:51:47.745Z"
   },
   {
    "duration": -1187,
    "start_time": "2021-10-03T17:51:47.755Z"
   },
   {
    "duration": -1194,
    "start_time": "2021-10-03T17:51:47.763Z"
   },
   {
    "duration": -1202,
    "start_time": "2021-10-03T17:51:47.771Z"
   },
   {
    "duration": -1207,
    "start_time": "2021-10-03T17:51:47.777Z"
   },
   {
    "duration": -1213,
    "start_time": "2021-10-03T17:51:47.784Z"
   },
   {
    "duration": -1218,
    "start_time": "2021-10-03T17:51:47.790Z"
   },
   {
    "duration": -1224,
    "start_time": "2021-10-03T17:51:47.797Z"
   },
   {
    "duration": -1230,
    "start_time": "2021-10-03T17:51:47.804Z"
   },
   {
    "duration": -1237,
    "start_time": "2021-10-03T17:51:47.811Z"
   },
   {
    "duration": -1241,
    "start_time": "2021-10-03T17:51:47.817Z"
   },
   {
    "duration": -1248,
    "start_time": "2021-10-03T17:51:47.824Z"
   },
   {
    "duration": -1253,
    "start_time": "2021-10-03T17:51:47.830Z"
   },
   {
    "duration": -1259,
    "start_time": "2021-10-03T17:51:47.838Z"
   },
   {
    "duration": -1278,
    "start_time": "2021-10-03T17:51:47.858Z"
   },
   {
    "duration": -1289,
    "start_time": "2021-10-03T17:51:47.869Z"
   },
   {
    "duration": -1294,
    "start_time": "2021-10-03T17:51:47.875Z"
   },
   {
    "duration": -1300,
    "start_time": "2021-10-03T17:51:47.882Z"
   },
   {
    "duration": -1305,
    "start_time": "2021-10-03T17:51:47.888Z"
   },
   {
    "duration": 10,
    "start_time": "2021-10-03T17:52:20.143Z"
   },
   {
    "duration": 3188,
    "start_time": "2021-10-03T17:52:44.806Z"
   },
   {
    "duration": 223,
    "start_time": "2021-10-03T17:52:47.773Z"
   },
   {
    "duration": 4542,
    "start_time": "2021-10-03T17:53:30.616Z"
   },
   {
    "duration": 223,
    "start_time": "2021-10-03T17:53:34.937Z"
   },
   {
    "duration": 83,
    "start_time": "2021-10-03T17:56:30.469Z"
   },
   {
    "duration": 3338,
    "start_time": "2021-10-03T17:56:50.685Z"
   },
   {
    "duration": 243,
    "start_time": "2021-10-03T17:56:53.782Z"
   },
   {
    "duration": 3430,
    "start_time": "2021-10-03T17:56:57.785Z"
   },
   {
    "duration": 626,
    "start_time": "2021-10-03T17:57:18.193Z"
   },
   {
    "duration": 11,
    "start_time": "2021-10-03T17:57:18.821Z"
   },
   {
    "duration": 23,
    "start_time": "2021-10-03T17:57:18.834Z"
   },
   {
    "duration": 26,
    "start_time": "2021-10-03T17:57:18.859Z"
   },
   {
    "duration": 16,
    "start_time": "2021-10-03T17:57:18.886Z"
   },
   {
    "duration": 28,
    "start_time": "2021-10-03T17:57:18.903Z"
   },
   {
    "duration": 2590,
    "start_time": "2021-10-03T17:57:18.933Z"
   },
   {
    "duration": 256,
    "start_time": "2021-10-03T17:57:21.271Z"
   },
   {
    "duration": 239,
    "start_time": "2021-10-03T17:57:21.289Z"
   },
   {
    "duration": 234,
    "start_time": "2021-10-03T17:57:21.295Z"
   },
   {
    "duration": 227,
    "start_time": "2021-10-03T17:57:21.303Z"
   },
   {
    "duration": 219,
    "start_time": "2021-10-03T17:57:21.312Z"
   },
   {
    "duration": 212,
    "start_time": "2021-10-03T17:57:21.320Z"
   },
   {
    "duration": 207,
    "start_time": "2021-10-03T17:57:21.326Z"
   },
   {
    "duration": 198,
    "start_time": "2021-10-03T17:57:21.336Z"
   },
   {
    "duration": 190,
    "start_time": "2021-10-03T17:57:21.344Z"
   },
   {
    "duration": 182,
    "start_time": "2021-10-03T17:57:21.353Z"
   },
   {
    "duration": 176,
    "start_time": "2021-10-03T17:57:21.360Z"
   },
   {
    "duration": 170,
    "start_time": "2021-10-03T17:57:21.367Z"
   },
   {
    "duration": 164,
    "start_time": "2021-10-03T17:57:21.374Z"
   },
   {
    "duration": 157,
    "start_time": "2021-10-03T17:57:21.382Z"
   },
   {
    "duration": 142,
    "start_time": "2021-10-03T17:57:21.398Z"
   },
   {
    "duration": 135,
    "start_time": "2021-10-03T17:57:21.406Z"
   },
   {
    "duration": 128,
    "start_time": "2021-10-03T17:57:21.413Z"
   },
   {
    "duration": 122,
    "start_time": "2021-10-03T17:57:21.420Z"
   },
   {
    "duration": 116,
    "start_time": "2021-10-03T17:57:21.427Z"
   },
   {
    "duration": 109,
    "start_time": "2021-10-03T17:57:21.435Z"
   },
   {
    "duration": 103,
    "start_time": "2021-10-03T17:57:21.442Z"
   },
   {
    "duration": 96,
    "start_time": "2021-10-03T17:57:21.450Z"
   },
   {
    "duration": 89,
    "start_time": "2021-10-03T17:57:21.458Z"
   },
   {
    "duration": 81,
    "start_time": "2021-10-03T17:57:21.467Z"
   },
   {
    "duration": 75,
    "start_time": "2021-10-03T17:57:21.474Z"
   },
   {
    "duration": 68,
    "start_time": "2021-10-03T17:57:21.482Z"
   },
   {
    "duration": 61,
    "start_time": "2021-10-03T17:57:21.489Z"
   },
   {
    "duration": 43,
    "start_time": "2021-10-03T17:57:21.508Z"
   },
   {
    "duration": 37,
    "start_time": "2021-10-03T17:57:21.515Z"
   },
   {
    "duration": 30,
    "start_time": "2021-10-03T17:57:21.523Z"
   },
   {
    "duration": 23,
    "start_time": "2021-10-03T17:57:21.530Z"
   },
   {
    "duration": 16,
    "start_time": "2021-10-03T17:57:21.538Z"
   },
   {
    "duration": 11,
    "start_time": "2021-10-03T17:57:21.544Z"
   },
   {
    "duration": 4,
    "start_time": "2021-10-03T17:57:21.552Z"
   },
   {
    "duration": -1,
    "start_time": "2021-10-03T17:57:21.558Z"
   },
   {
    "duration": -8,
    "start_time": "2021-10-03T17:57:21.565Z"
   },
   {
    "duration": -13,
    "start_time": "2021-10-03T17:57:21.571Z"
   },
   {
    "duration": -19,
    "start_time": "2021-10-03T17:57:21.578Z"
   },
   {
    "duration": -25,
    "start_time": "2021-10-03T17:57:21.585Z"
   },
   {
    "duration": -31,
    "start_time": "2021-10-03T17:57:21.592Z"
   },
   {
    "duration": -37,
    "start_time": "2021-10-03T17:57:21.598Z"
   },
   {
    "duration": -43,
    "start_time": "2021-10-03T17:57:21.605Z"
   },
   {
    "duration": -58,
    "start_time": "2021-10-03T17:57:21.621Z"
   },
   {
    "duration": -65,
    "start_time": "2021-10-03T17:57:21.629Z"
   },
   {
    "duration": -70,
    "start_time": "2021-10-03T17:57:21.635Z"
   },
   {
    "duration": -76,
    "start_time": "2021-10-03T17:57:21.642Z"
   },
   {
    "duration": -81,
    "start_time": "2021-10-03T17:57:21.648Z"
   },
   {
    "duration": -87,
    "start_time": "2021-10-03T17:57:21.655Z"
   },
   {
    "duration": -93,
    "start_time": "2021-10-03T17:57:21.662Z"
   },
   {
    "duration": -100,
    "start_time": "2021-10-03T17:57:21.670Z"
   },
   {
    "duration": -106,
    "start_time": "2021-10-03T17:57:21.677Z"
   },
   {
    "duration": -112,
    "start_time": "2021-10-03T17:57:21.684Z"
   },
   {
    "duration": -118,
    "start_time": "2021-10-03T17:57:21.691Z"
   },
   {
    "duration": -178,
    "start_time": "2021-10-03T17:57:21.752Z"
   },
   {
    "duration": -184,
    "start_time": "2021-10-03T17:57:21.759Z"
   },
   {
    "duration": -189,
    "start_time": "2021-10-03T17:57:21.765Z"
   },
   {
    "duration": -195,
    "start_time": "2021-10-03T17:57:21.772Z"
   },
   {
    "duration": -203,
    "start_time": "2021-10-03T17:57:21.781Z"
   },
   {
    "duration": -209,
    "start_time": "2021-10-03T17:57:21.788Z"
   },
   {
    "duration": -215,
    "start_time": "2021-10-03T17:57:21.795Z"
   },
   {
    "duration": -220,
    "start_time": "2021-10-03T17:57:21.801Z"
   },
   {
    "duration": -228,
    "start_time": "2021-10-03T17:57:21.809Z"
   },
   {
    "duration": -233,
    "start_time": "2021-10-03T17:57:21.815Z"
   },
   {
    "duration": -178,
    "start_time": "2021-10-03T17:57:21.822Z"
   },
   {
    "duration": -183,
    "start_time": "2021-10-03T17:57:21.828Z"
   },
   {
    "duration": -190,
    "start_time": "2021-10-03T17:57:21.836Z"
   },
   {
    "duration": -196,
    "start_time": "2021-10-03T17:57:21.843Z"
   },
   {
    "duration": -202,
    "start_time": "2021-10-03T17:57:21.850Z"
   },
   {
    "duration": -216,
    "start_time": "2021-10-03T17:57:21.865Z"
   },
   {
    "duration": -237,
    "start_time": "2021-10-03T17:57:21.887Z"
   },
   {
    "duration": -257,
    "start_time": "2021-10-03T17:57:21.908Z"
   },
   {
    "duration": -292,
    "start_time": "2021-10-03T17:57:21.944Z"
   },
   {
    "duration": -366,
    "start_time": "2021-10-03T17:57:22.019Z"
   },
   {
    "duration": -519,
    "start_time": "2021-10-03T17:57:22.173Z"
   },
   {
    "duration": -618,
    "start_time": "2021-10-03T17:57:22.273Z"
   },
   {
    "duration": -625,
    "start_time": "2021-10-03T17:57:22.281Z"
   },
   {
    "duration": -631,
    "start_time": "2021-10-03T17:57:22.288Z"
   },
   {
    "duration": -637,
    "start_time": "2021-10-03T17:57:22.295Z"
   },
   {
    "duration": -642,
    "start_time": "2021-10-03T17:57:22.301Z"
   },
   {
    "duration": -649,
    "start_time": "2021-10-03T17:57:22.308Z"
   },
   {
    "duration": -663,
    "start_time": "2021-10-03T17:57:22.323Z"
   },
   {
    "duration": -669,
    "start_time": "2021-10-03T17:57:22.330Z"
   },
   {
    "duration": -675,
    "start_time": "2021-10-03T17:57:22.337Z"
   },
   {
    "duration": -681,
    "start_time": "2021-10-03T17:57:22.344Z"
   },
   {
    "duration": -685,
    "start_time": "2021-10-03T17:57:22.350Z"
   },
   {
    "duration": -692,
    "start_time": "2021-10-03T17:57:22.357Z"
   },
   {
    "duration": -697,
    "start_time": "2021-10-03T17:57:22.363Z"
   },
   {
    "duration": -703,
    "start_time": "2021-10-03T17:57:22.370Z"
   },
   {
    "duration": -709,
    "start_time": "2021-10-03T17:57:22.377Z"
   },
   {
    "duration": -715,
    "start_time": "2021-10-03T17:57:22.384Z"
   },
   {
    "duration": -720,
    "start_time": "2021-10-03T17:57:22.390Z"
   },
   {
    "duration": -738,
    "start_time": "2021-10-03T17:57:22.409Z"
   },
   {
    "duration": -743,
    "start_time": "2021-10-03T17:57:22.415Z"
   },
   {
    "duration": -759,
    "start_time": "2021-10-03T17:57:22.432Z"
   },
   {
    "duration": -765,
    "start_time": "2021-10-03T17:57:22.439Z"
   },
   {
    "duration": -771,
    "start_time": "2021-10-03T17:57:22.446Z"
   },
   {
    "duration": -777,
    "start_time": "2021-10-03T17:57:22.453Z"
   },
   {
    "duration": -790,
    "start_time": "2021-10-03T17:57:22.466Z"
   },
   {
    "duration": -796,
    "start_time": "2021-10-03T17:57:22.473Z"
   },
   {
    "duration": -802,
    "start_time": "2021-10-03T17:57:22.480Z"
   },
   {
    "duration": -808,
    "start_time": "2021-10-03T17:57:22.487Z"
   },
   {
    "duration": 7,
    "start_time": "2021-10-03T17:58:23.489Z"
   },
   {
    "duration": 5,
    "start_time": "2021-10-03T17:58:31.801Z"
   },
   {
    "duration": 6,
    "start_time": "2021-10-03T17:59:01.608Z"
   },
   {
    "duration": 274,
    "start_time": "2021-10-03T17:59:03.416Z"
   },
   {
    "duration": 7,
    "start_time": "2021-10-03T17:59:15.658Z"
   },
   {
    "duration": 7,
    "start_time": "2021-10-03T17:59:16.962Z"
   },
   {
    "duration": 5,
    "start_time": "2021-10-03T18:01:32.078Z"
   },
   {
    "duration": 5,
    "start_time": "2021-10-03T18:02:29.908Z"
   },
   {
    "duration": 85,
    "start_time": "2021-10-03T18:04:57.250Z"
   },
   {
    "duration": 90,
    "start_time": "2021-10-03T18:05:45.558Z"
   },
   {
    "duration": 89,
    "start_time": "2021-10-03T18:05:53.895Z"
   },
   {
    "duration": 82,
    "start_time": "2021-10-03T18:06:17.342Z"
   },
   {
    "duration": 5,
    "start_time": "2021-10-03T18:06:41.424Z"
   },
   {
    "duration": 636,
    "start_time": "2021-10-03T18:11:38.091Z"
   },
   {
    "duration": 10,
    "start_time": "2021-10-03T18:11:38.729Z"
   },
   {
    "duration": 5,
    "start_time": "2021-10-03T18:11:38.744Z"
   },
   {
    "duration": 14,
    "start_time": "2021-10-03T18:11:38.751Z"
   },
   {
    "duration": 15,
    "start_time": "2021-10-03T18:11:38.767Z"
   },
   {
    "duration": 18,
    "start_time": "2021-10-03T18:11:38.784Z"
   },
   {
    "duration": 9,
    "start_time": "2021-10-03T18:11:38.803Z"
   },
   {
    "duration": 19,
    "start_time": "2021-10-03T18:11:38.815Z"
   },
   {
    "duration": 15,
    "start_time": "2021-10-03T18:11:38.836Z"
   },
   {
    "duration": 12,
    "start_time": "2021-10-03T18:11:38.853Z"
   },
   {
    "duration": 18,
    "start_time": "2021-10-03T18:11:38.867Z"
   },
   {
    "duration": 13,
    "start_time": "2021-10-03T18:11:38.886Z"
   },
   {
    "duration": 13,
    "start_time": "2021-10-03T18:11:38.900Z"
   },
   {
    "duration": 25,
    "start_time": "2021-10-03T18:11:38.914Z"
   },
   {
    "duration": 12,
    "start_time": "2021-10-03T18:11:38.941Z"
   },
   {
    "duration": 27,
    "start_time": "2021-10-03T18:11:38.954Z"
   },
   {
    "duration": 15,
    "start_time": "2021-10-03T18:11:38.983Z"
   },
   {
    "duration": 8,
    "start_time": "2021-10-03T18:11:39.000Z"
   },
   {
    "duration": 32,
    "start_time": "2021-10-03T18:11:39.010Z"
   },
   {
    "duration": 8,
    "start_time": "2021-10-03T18:11:39.044Z"
   },
   {
    "duration": 10,
    "start_time": "2021-10-03T18:11:39.054Z"
   },
   {
    "duration": 20,
    "start_time": "2021-10-03T18:11:39.065Z"
   },
   {
    "duration": 35,
    "start_time": "2021-10-03T18:11:39.089Z"
   },
   {
    "duration": 5,
    "start_time": "2021-10-03T18:11:39.126Z"
   },
   {
    "duration": 15,
    "start_time": "2021-10-03T18:11:39.132Z"
   },
   {
    "duration": 27,
    "start_time": "2021-10-03T18:11:39.149Z"
   },
   {
    "duration": 7,
    "start_time": "2021-10-03T18:11:39.177Z"
   },
   {
    "duration": 23,
    "start_time": "2021-10-03T18:11:39.185Z"
   },
   {
    "duration": 20,
    "start_time": "2021-10-03T18:11:39.209Z"
   },
   {
    "duration": 15,
    "start_time": "2021-10-03T18:11:39.230Z"
   },
   {
    "duration": 14,
    "start_time": "2021-10-03T18:11:39.247Z"
   },
   {
    "duration": 10,
    "start_time": "2021-10-03T18:11:39.262Z"
   },
   {
    "duration": 29,
    "start_time": "2021-10-03T18:11:39.274Z"
   },
   {
    "duration": 16,
    "start_time": "2021-10-03T18:11:39.304Z"
   },
   {
    "duration": 24,
    "start_time": "2021-10-03T18:11:39.322Z"
   },
   {
    "duration": 6,
    "start_time": "2021-10-03T18:11:39.348Z"
   },
   {
    "duration": 26,
    "start_time": "2021-10-03T18:11:39.356Z"
   },
   {
    "duration": 7,
    "start_time": "2021-10-03T18:11:39.384Z"
   },
   {
    "duration": 24,
    "start_time": "2021-10-03T18:11:39.393Z"
   },
   {
    "duration": 23,
    "start_time": "2021-10-03T18:11:39.419Z"
   },
   {
    "duration": 15,
    "start_time": "2021-10-03T18:11:39.444Z"
   },
   {
    "duration": 10,
    "start_time": "2021-10-03T18:11:39.460Z"
   },
   {
    "duration": 21,
    "start_time": "2021-10-03T18:11:39.471Z"
   },
   {
    "duration": 22,
    "start_time": "2021-10-03T18:11:39.494Z"
   },
   {
    "duration": 11,
    "start_time": "2021-10-03T18:11:39.518Z"
   },
   {
    "duration": 3621,
    "start_time": "2021-10-03T18:11:39.530Z"
   },
   {
    "duration": 12,
    "start_time": "2021-10-03T18:11:43.153Z"
   },
   {
    "duration": 10,
    "start_time": "2021-10-03T18:11:43.166Z"
   },
   {
    "duration": 12,
    "start_time": "2021-10-03T18:11:43.177Z"
   },
   {
    "duration": 20,
    "start_time": "2021-10-03T18:11:43.190Z"
   },
   {
    "duration": 9,
    "start_time": "2021-10-03T18:11:43.212Z"
   },
   {
    "duration": 13,
    "start_time": "2021-10-03T18:11:43.222Z"
   },
   {
    "duration": 20,
    "start_time": "2021-10-03T18:11:43.237Z"
   },
   {
    "duration": 18,
    "start_time": "2021-10-03T18:11:43.258Z"
   },
   {
    "duration": 15,
    "start_time": "2021-10-03T18:11:43.277Z"
   },
   {
    "duration": 8,
    "start_time": "2021-10-03T18:11:43.293Z"
   },
   {
    "duration": 25,
    "start_time": "2021-10-03T18:11:43.302Z"
   },
   {
    "duration": 26,
    "start_time": "2021-10-03T18:11:43.328Z"
   },
   {
    "duration": 88,
    "start_time": "2021-10-03T18:11:43.355Z"
   },
   {
    "duration": -195,
    "start_time": "2021-10-03T18:11:43.640Z"
   },
   {
    "duration": -200,
    "start_time": "2021-10-03T18:11:43.646Z"
   },
   {
    "duration": -206,
    "start_time": "2021-10-03T18:11:43.653Z"
   },
   {
    "duration": -212,
    "start_time": "2021-10-03T18:11:43.660Z"
   },
   {
    "duration": -217,
    "start_time": "2021-10-03T18:11:43.666Z"
   },
   {
    "duration": -223,
    "start_time": "2021-10-03T18:11:43.673Z"
   },
   {
    "duration": -228,
    "start_time": "2021-10-03T18:11:43.679Z"
   },
   {
    "duration": -245,
    "start_time": "2021-10-03T18:11:43.697Z"
   },
   {
    "duration": -276,
    "start_time": "2021-10-03T18:11:43.729Z"
   },
   {
    "duration": -285,
    "start_time": "2021-10-03T18:11:43.738Z"
   },
   {
    "duration": -289,
    "start_time": "2021-10-03T18:11:43.744Z"
   },
   {
    "duration": -295,
    "start_time": "2021-10-03T18:11:43.751Z"
   },
   {
    "duration": -301,
    "start_time": "2021-10-03T18:11:43.758Z"
   },
   {
    "duration": -308,
    "start_time": "2021-10-03T18:11:43.766Z"
   },
   {
    "duration": -315,
    "start_time": "2021-10-03T18:11:43.774Z"
   },
   {
    "duration": -323,
    "start_time": "2021-10-03T18:11:43.782Z"
   },
   {
    "duration": -330,
    "start_time": "2021-10-03T18:11:43.790Z"
   },
   {
    "duration": -337,
    "start_time": "2021-10-03T18:11:43.798Z"
   },
   {
    "duration": -344,
    "start_time": "2021-10-03T18:11:43.806Z"
   },
   {
    "duration": -351,
    "start_time": "2021-10-03T18:11:43.814Z"
   },
   {
    "duration": -358,
    "start_time": "2021-10-03T18:11:43.822Z"
   },
   {
    "duration": -378,
    "start_time": "2021-10-03T18:11:43.843Z"
   },
   {
    "duration": -384,
    "start_time": "2021-10-03T18:11:43.850Z"
   },
   {
    "duration": -396,
    "start_time": "2021-10-03T18:11:43.863Z"
   },
   {
    "duration": -404,
    "start_time": "2021-10-03T18:11:43.872Z"
   },
   {
    "duration": -411,
    "start_time": "2021-10-03T18:11:43.880Z"
   },
   {
    "duration": -418,
    "start_time": "2021-10-03T18:11:43.888Z"
   },
   {
    "duration": -425,
    "start_time": "2021-10-03T18:11:43.896Z"
   },
   {
    "duration": -432,
    "start_time": "2021-10-03T18:11:43.904Z"
   },
   {
    "duration": -440,
    "start_time": "2021-10-03T18:11:43.913Z"
   },
   {
    "duration": -468,
    "start_time": "2021-10-03T18:11:43.942Z"
   },
   {
    "duration": -580,
    "start_time": "2021-10-03T18:11:44.055Z"
   },
   {
    "duration": -674,
    "start_time": "2021-10-03T18:11:44.150Z"
   },
   {
    "duration": -684,
    "start_time": "2021-10-03T18:11:44.161Z"
   },
   {
    "duration": -690,
    "start_time": "2021-10-03T18:11:44.168Z"
   },
   {
    "duration": -699,
    "start_time": "2021-10-03T18:11:44.177Z"
   },
   {
    "duration": -706,
    "start_time": "2021-10-03T18:11:44.185Z"
   },
   {
    "duration": -714,
    "start_time": "2021-10-03T18:11:44.194Z"
   },
   {
    "duration": -719,
    "start_time": "2021-10-03T18:11:44.200Z"
   },
   {
    "duration": -728,
    "start_time": "2021-10-03T18:11:44.210Z"
   },
   {
    "duration": -734,
    "start_time": "2021-10-03T18:11:44.217Z"
   },
   {
    "duration": -742,
    "start_time": "2021-10-03T18:11:44.225Z"
   },
   {
    "duration": -749,
    "start_time": "2021-10-03T18:11:44.233Z"
   },
   {
    "duration": -756,
    "start_time": "2021-10-03T18:11:44.241Z"
   },
   {
    "duration": -781,
    "start_time": "2021-10-03T18:11:44.267Z"
   },
   {
    "duration": -773,
    "start_time": "2021-10-03T18:11:44.317Z"
   },
   {
    "duration": -818,
    "start_time": "2021-10-03T18:11:44.363Z"
   },
   {
    "duration": -847,
    "start_time": "2021-10-03T18:11:44.393Z"
   },
   {
    "duration": -885,
    "start_time": "2021-10-03T18:11:44.432Z"
   },
   {
    "duration": -920,
    "start_time": "2021-10-03T18:11:44.468Z"
   },
   {
    "duration": -959,
    "start_time": "2021-10-03T18:11:44.508Z"
   },
   {
    "duration": 4,
    "start_time": "2021-10-03T18:12:19.956Z"
   },
   {
    "duration": 3,
    "start_time": "2021-10-03T18:12:21.572Z"
   },
   {
    "duration": 3,
    "start_time": "2021-10-03T18:12:23.612Z"
   },
   {
    "duration": 5,
    "start_time": "2021-10-03T18:12:24.651Z"
   },
   {
    "duration": 104,
    "start_time": "2021-10-03T18:12:56.886Z"
   },
   {
    "duration": 36,
    "start_time": "2021-10-03T18:14:02.344Z"
   },
   {
    "duration": 697,
    "start_time": "2021-10-03T18:14:08.887Z"
   },
   {
    "duration": 12,
    "start_time": "2021-10-03T18:14:09.586Z"
   },
   {
    "duration": 4,
    "start_time": "2021-10-03T18:14:09.600Z"
   },
   {
    "duration": 5,
    "start_time": "2021-10-03T18:14:09.606Z"
   },
   {
    "duration": 6,
    "start_time": "2021-10-03T18:14:09.612Z"
   },
   {
    "duration": 6,
    "start_time": "2021-10-03T18:14:09.643Z"
   },
   {
    "duration": 4,
    "start_time": "2021-10-03T18:14:09.652Z"
   },
   {
    "duration": 6,
    "start_time": "2021-10-03T18:14:09.660Z"
   },
   {
    "duration": 11,
    "start_time": "2021-10-03T18:14:09.668Z"
   },
   {
    "duration": 6,
    "start_time": "2021-10-03T18:14:09.681Z"
   },
   {
    "duration": 6,
    "start_time": "2021-10-03T18:14:09.689Z"
   },
   {
    "duration": 3,
    "start_time": "2021-10-03T18:14:09.697Z"
   },
   {
    "duration": 8,
    "start_time": "2021-10-03T18:14:09.702Z"
   },
   {
    "duration": 14,
    "start_time": "2021-10-03T18:14:09.746Z"
   },
   {
    "duration": 4,
    "start_time": "2021-10-03T18:14:09.762Z"
   },
   {
    "duration": 12,
    "start_time": "2021-10-03T18:14:09.767Z"
   },
   {
    "duration": 5,
    "start_time": "2021-10-03T18:14:09.780Z"
   },
   {
    "duration": 6,
    "start_time": "2021-10-03T18:14:09.787Z"
   },
   {
    "duration": 61,
    "start_time": "2021-10-03T18:14:09.795Z"
   },
   {
    "duration": 10,
    "start_time": "2021-10-03T18:14:09.858Z"
   },
   {
    "duration": 6,
    "start_time": "2021-10-03T18:14:09.869Z"
   },
   {
    "duration": 4,
    "start_time": "2021-10-03T18:14:09.877Z"
   },
   {
    "duration": 27,
    "start_time": "2021-10-03T18:14:09.884Z"
   },
   {
    "duration": 5,
    "start_time": "2021-10-03T18:14:09.913Z"
   },
   {
    "duration": 30,
    "start_time": "2021-10-03T18:14:09.919Z"
   },
   {
    "duration": 18,
    "start_time": "2021-10-03T18:14:09.951Z"
   },
   {
    "duration": 3,
    "start_time": "2021-10-03T18:14:09.971Z"
   },
   {
    "duration": 19,
    "start_time": "2021-10-03T18:14:09.975Z"
   },
   {
    "duration": 15,
    "start_time": "2021-10-03T18:14:09.996Z"
   },
   {
    "duration": 35,
    "start_time": "2021-10-03T18:14:10.013Z"
   },
   {
    "duration": 18,
    "start_time": "2021-10-03T18:14:10.051Z"
   },
   {
    "duration": 27,
    "start_time": "2021-10-03T18:14:10.071Z"
   },
   {
    "duration": 34,
    "start_time": "2021-10-03T18:14:10.100Z"
   },
   {
    "duration": 29,
    "start_time": "2021-10-03T18:14:10.136Z"
   },
   {
    "duration": 14,
    "start_time": "2021-10-03T18:14:10.167Z"
   },
   {
    "duration": 4,
    "start_time": "2021-10-03T18:14:10.183Z"
   },
   {
    "duration": 34,
    "start_time": "2021-10-03T18:14:10.188Z"
   },
   {
    "duration": 16,
    "start_time": "2021-10-03T18:14:10.224Z"
   },
   {
    "duration": 23,
    "start_time": "2021-10-03T18:14:10.242Z"
   },
   {
    "duration": 20,
    "start_time": "2021-10-03T18:14:10.267Z"
   },
   {
    "duration": 16,
    "start_time": "2021-10-03T18:14:10.289Z"
   },
   {
    "duration": 6,
    "start_time": "2021-10-03T18:14:10.306Z"
   },
   {
    "duration": 6,
    "start_time": "2021-10-03T18:14:10.314Z"
   },
   {
    "duration": 6,
    "start_time": "2021-10-03T18:14:10.321Z"
   },
   {
    "duration": 6,
    "start_time": "2021-10-03T18:14:10.328Z"
   },
   {
    "duration": 3331,
    "start_time": "2021-10-03T18:14:10.335Z"
   },
   {
    "duration": 12,
    "start_time": "2021-10-03T18:14:13.667Z"
   },
   {
    "duration": 5,
    "start_time": "2021-10-03T18:14:13.681Z"
   },
   {
    "duration": 8,
    "start_time": "2021-10-03T18:14:13.688Z"
   },
   {
    "duration": 13,
    "start_time": "2021-10-03T18:14:13.698Z"
   },
   {
    "duration": 5,
    "start_time": "2021-10-03T18:14:13.713Z"
   },
   {
    "duration": 5,
    "start_time": "2021-10-03T18:14:13.720Z"
   },
   {
    "duration": 18,
    "start_time": "2021-10-03T18:14:13.727Z"
   },
   {
    "duration": 15,
    "start_time": "2021-10-03T18:14:13.747Z"
   },
   {
    "duration": 9,
    "start_time": "2021-10-03T18:14:13.763Z"
   },
   {
    "duration": 16,
    "start_time": "2021-10-03T18:14:13.774Z"
   },
   {
    "duration": 26,
    "start_time": "2021-10-03T18:14:13.791Z"
   },
   {
    "duration": 19,
    "start_time": "2021-10-03T18:14:13.819Z"
   },
   {
    "duration": 17,
    "start_time": "2021-10-03T18:14:13.839Z"
   },
   {
    "duration": 17,
    "start_time": "2021-10-03T18:14:13.857Z"
   },
   {
    "duration": 11,
    "start_time": "2021-10-03T18:14:13.875Z"
   },
   {
    "duration": 11,
    "start_time": "2021-10-03T18:14:13.888Z"
   },
   {
    "duration": 247,
    "start_time": "2021-10-03T18:14:13.901Z"
   },
   {
    "duration": -743,
    "start_time": "2021-10-03T18:14:14.894Z"
   },
   {
    "duration": -751,
    "start_time": "2021-10-03T18:14:14.903Z"
   },
   {
    "duration": -756,
    "start_time": "2021-10-03T18:14:14.909Z"
   },
   {
    "duration": -767,
    "start_time": "2021-10-03T18:14:14.921Z"
   },
   {
    "duration": -808,
    "start_time": "2021-10-03T18:14:14.963Z"
   },
   {
    "duration": -819,
    "start_time": "2021-10-03T18:14:14.975Z"
   },
   {
    "duration": -826,
    "start_time": "2021-10-03T18:14:14.982Z"
   },
   {
    "duration": -834,
    "start_time": "2021-10-03T18:14:14.991Z"
   },
   {
    "duration": -840,
    "start_time": "2021-10-03T18:14:14.998Z"
   },
   {
    "duration": -849,
    "start_time": "2021-10-03T18:14:15.008Z"
   },
   {
    "duration": -856,
    "start_time": "2021-10-03T18:14:15.016Z"
   },
   {
    "duration": -865,
    "start_time": "2021-10-03T18:14:15.026Z"
   },
   {
    "duration": -870,
    "start_time": "2021-10-03T18:14:15.032Z"
   },
   {
    "duration": -878,
    "start_time": "2021-10-03T18:14:15.041Z"
   },
   {
    "duration": -884,
    "start_time": "2021-10-03T18:14:15.048Z"
   },
   {
    "duration": -890,
    "start_time": "2021-10-03T18:14:15.055Z"
   },
   {
    "duration": -909,
    "start_time": "2021-10-03T18:14:15.075Z"
   },
   {
    "duration": -916,
    "start_time": "2021-10-03T18:14:15.082Z"
   },
   {
    "duration": -922,
    "start_time": "2021-10-03T18:14:15.089Z"
   },
   {
    "duration": -928,
    "start_time": "2021-10-03T18:14:15.096Z"
   },
   {
    "duration": -933,
    "start_time": "2021-10-03T18:14:15.102Z"
   },
   {
    "duration": -939,
    "start_time": "2021-10-03T18:14:15.109Z"
   },
   {
    "duration": -945,
    "start_time": "2021-10-03T18:14:15.115Z"
   },
   {
    "duration": -951,
    "start_time": "2021-10-03T18:14:15.122Z"
   },
   {
    "duration": -956,
    "start_time": "2021-10-03T18:14:15.128Z"
   },
   {
    "duration": -963,
    "start_time": "2021-10-03T18:14:15.136Z"
   },
   {
    "duration": -969,
    "start_time": "2021-10-03T18:14:15.142Z"
   },
   {
    "duration": -974,
    "start_time": "2021-10-03T18:14:15.148Z"
   },
   {
    "duration": -980,
    "start_time": "2021-10-03T18:14:15.155Z"
   },
   {
    "duration": -987,
    "start_time": "2021-10-03T18:14:15.162Z"
   },
   {
    "duration": -992,
    "start_time": "2021-10-03T18:14:15.168Z"
   },
   {
    "duration": -1010,
    "start_time": "2021-10-03T18:14:15.187Z"
   },
   {
    "duration": -1016,
    "start_time": "2021-10-03T18:14:15.194Z"
   },
   {
    "duration": -1023,
    "start_time": "2021-10-03T18:14:15.201Z"
   },
   {
    "duration": -1029,
    "start_time": "2021-10-03T18:14:15.208Z"
   },
   {
    "duration": -1034,
    "start_time": "2021-10-03T18:14:15.214Z"
   },
   {
    "duration": -1039,
    "start_time": "2021-10-03T18:14:15.220Z"
   },
   {
    "duration": -1046,
    "start_time": "2021-10-03T18:14:15.227Z"
   },
   {
    "duration": -1052,
    "start_time": "2021-10-03T18:14:15.234Z"
   },
   {
    "duration": -1075,
    "start_time": "2021-10-03T18:14:15.258Z"
   },
   {
    "duration": -1110,
    "start_time": "2021-10-03T18:14:15.294Z"
   },
   {
    "duration": -1148,
    "start_time": "2021-10-03T18:14:15.332Z"
   },
   {
    "duration": -1176,
    "start_time": "2021-10-03T18:14:15.361Z"
   },
   {
    "duration": -1184,
    "start_time": "2021-10-03T18:14:15.370Z"
   },
   {
    "duration": -1190,
    "start_time": "2021-10-03T18:14:15.377Z"
   },
   {
    "duration": -1198,
    "start_time": "2021-10-03T18:14:15.386Z"
   },
   {
    "duration": -1205,
    "start_time": "2021-10-03T18:14:15.393Z"
   },
   {
    "duration": 711,
    "start_time": "2021-10-03T18:16:33.234Z"
   },
   {
    "duration": 11,
    "start_time": "2021-10-03T18:16:33.948Z"
   },
   {
    "duration": 5,
    "start_time": "2021-10-03T18:16:33.961Z"
   },
   {
    "duration": 5,
    "start_time": "2021-10-03T18:16:33.968Z"
   },
   {
    "duration": 5,
    "start_time": "2021-10-03T18:16:33.975Z"
   },
   {
    "duration": 8,
    "start_time": "2021-10-03T18:16:33.982Z"
   },
   {
    "duration": 5,
    "start_time": "2021-10-03T18:16:33.991Z"
   },
   {
    "duration": 4,
    "start_time": "2021-10-03T18:16:33.999Z"
   },
   {
    "duration": 44,
    "start_time": "2021-10-03T18:16:34.005Z"
   },
   {
    "duration": 8,
    "start_time": "2021-10-03T18:16:34.051Z"
   },
   {
    "duration": 10,
    "start_time": "2021-10-03T18:16:34.060Z"
   },
   {
    "duration": 4,
    "start_time": "2021-10-03T18:16:34.072Z"
   },
   {
    "duration": 7,
    "start_time": "2021-10-03T18:16:34.078Z"
   },
   {
    "duration": 10,
    "start_time": "2021-10-03T18:16:34.087Z"
   },
   {
    "duration": 4,
    "start_time": "2021-10-03T18:16:34.099Z"
   },
   {
    "duration": 43,
    "start_time": "2021-10-03T18:16:34.105Z"
   },
   {
    "duration": 6,
    "start_time": "2021-10-03T18:16:34.150Z"
   },
   {
    "duration": 5,
    "start_time": "2021-10-03T18:16:34.158Z"
   },
   {
    "duration": 26,
    "start_time": "2021-10-03T18:16:34.165Z"
   },
   {
    "duration": 11,
    "start_time": "2021-10-03T18:16:34.192Z"
   },
   {
    "duration": 40,
    "start_time": "2021-10-03T18:16:34.204Z"
   },
   {
    "duration": 5,
    "start_time": "2021-10-03T18:16:34.247Z"
   },
   {
    "duration": 29,
    "start_time": "2021-10-03T18:16:34.257Z"
   },
   {
    "duration": 4,
    "start_time": "2021-10-03T18:16:34.289Z"
   },
   {
    "duration": 5,
    "start_time": "2021-10-03T18:16:34.295Z"
   },
   {
    "duration": 14,
    "start_time": "2021-10-03T18:16:34.302Z"
   },
   {
    "duration": 4,
    "start_time": "2021-10-03T18:16:34.344Z"
   },
   {
    "duration": 13,
    "start_time": "2021-10-03T18:16:34.350Z"
   },
   {
    "duration": 14,
    "start_time": "2021-10-03T18:16:34.365Z"
   },
   {
    "duration": 16,
    "start_time": "2021-10-03T18:16:34.381Z"
   },
   {
    "duration": 14,
    "start_time": "2021-10-03T18:16:34.399Z"
   },
   {
    "duration": 39,
    "start_time": "2021-10-03T18:16:34.415Z"
   },
   {
    "duration": 21,
    "start_time": "2021-10-03T18:16:34.456Z"
   },
   {
    "duration": 16,
    "start_time": "2021-10-03T18:16:34.479Z"
   },
   {
    "duration": 15,
    "start_time": "2021-10-03T18:16:34.497Z"
   },
   {
    "duration": 31,
    "start_time": "2021-10-03T18:16:34.513Z"
   },
   {
    "duration": 12,
    "start_time": "2021-10-03T18:16:34.546Z"
   },
   {
    "duration": 7,
    "start_time": "2021-10-03T18:16:34.559Z"
   },
   {
    "duration": 7,
    "start_time": "2021-10-03T18:16:34.567Z"
   },
   {
    "duration": 12,
    "start_time": "2021-10-03T18:16:34.575Z"
   },
   {
    "duration": 6,
    "start_time": "2021-10-03T18:16:34.588Z"
   },
   {
    "duration": 6,
    "start_time": "2021-10-03T18:16:34.596Z"
   },
   {
    "duration": 6,
    "start_time": "2021-10-03T18:16:34.603Z"
   },
   {
    "duration": 38,
    "start_time": "2021-10-03T18:16:34.611Z"
   },
   {
    "duration": 4,
    "start_time": "2021-10-03T18:16:34.651Z"
   },
   {
    "duration": 3365,
    "start_time": "2021-10-03T18:16:34.656Z"
   },
   {
    "duration": 27,
    "start_time": "2021-10-03T18:16:38.023Z"
   },
   {
    "duration": 4,
    "start_time": "2021-10-03T18:16:38.052Z"
   },
   {
    "duration": 10,
    "start_time": "2021-10-03T18:16:38.058Z"
   },
   {
    "duration": 16,
    "start_time": "2021-10-03T18:16:38.070Z"
   },
   {
    "duration": 8,
    "start_time": "2021-10-03T18:16:38.088Z"
   },
   {
    "duration": 6,
    "start_time": "2021-10-03T18:16:38.098Z"
   },
   {
    "duration": 7,
    "start_time": "2021-10-03T18:16:38.106Z"
   },
   {
    "duration": 8,
    "start_time": "2021-10-03T18:16:38.114Z"
   },
   {
    "duration": 5,
    "start_time": "2021-10-03T18:16:38.123Z"
   },
   {
    "duration": 15,
    "start_time": "2021-10-03T18:16:38.130Z"
   },
   {
    "duration": 16,
    "start_time": "2021-10-03T18:16:38.147Z"
   },
   {
    "duration": 11,
    "start_time": "2021-10-03T18:16:38.165Z"
   },
   {
    "duration": 4,
    "start_time": "2021-10-03T18:16:38.178Z"
   },
   {
    "duration": 6,
    "start_time": "2021-10-03T18:16:38.183Z"
   },
   {
    "duration": 5,
    "start_time": "2021-10-03T18:16:38.190Z"
   },
   {
    "duration": 6,
    "start_time": "2021-10-03T18:16:38.196Z"
   },
   {
    "duration": 5,
    "start_time": "2021-10-03T18:16:38.203Z"
   },
   {
    "duration": 35,
    "start_time": "2021-10-03T18:16:38.209Z"
   },
   {
    "duration": 13,
    "start_time": "2021-10-03T18:16:38.246Z"
   },
   {
    "duration": 4,
    "start_time": "2021-10-03T18:16:38.261Z"
   },
   {
    "duration": 22,
    "start_time": "2021-10-03T18:16:38.266Z"
   },
   {
    "duration": 4,
    "start_time": "2021-10-03T18:16:38.293Z"
   },
   {
    "duration": 15,
    "start_time": "2021-10-03T18:16:38.299Z"
   },
   {
    "duration": 6,
    "start_time": "2021-10-03T18:16:38.315Z"
   },
   {
    "duration": 22,
    "start_time": "2021-10-03T18:16:38.323Z"
   },
   {
    "duration": 35,
    "start_time": "2021-10-03T18:16:38.347Z"
   },
   {
    "duration": 4,
    "start_time": "2021-10-03T18:16:38.384Z"
   },
   {
    "duration": 8,
    "start_time": "2021-10-03T18:16:38.389Z"
   },
   {
    "duration": 9,
    "start_time": "2021-10-03T18:16:38.399Z"
   },
   {
    "duration": 13,
    "start_time": "2021-10-03T18:16:38.409Z"
   },
   {
    "duration": 4,
    "start_time": "2021-10-03T18:16:38.444Z"
   },
   {
    "duration": 6,
    "start_time": "2021-10-03T18:16:38.450Z"
   },
   {
    "duration": 6,
    "start_time": "2021-10-03T18:16:38.457Z"
   },
   {
    "duration": 9,
    "start_time": "2021-10-03T18:16:38.465Z"
   },
   {
    "duration": 10,
    "start_time": "2021-10-03T18:16:38.475Z"
   },
   {
    "duration": 3,
    "start_time": "2021-10-03T18:16:38.486Z"
   },
   {
    "duration": 6,
    "start_time": "2021-10-03T18:16:38.491Z"
   },
   {
    "duration": 5,
    "start_time": "2021-10-03T18:16:38.499Z"
   },
   {
    "duration": 9,
    "start_time": "2021-10-03T18:16:38.506Z"
   },
   {
    "duration": 34,
    "start_time": "2021-10-03T18:16:38.545Z"
   },
   {
    "duration": 3,
    "start_time": "2021-10-03T18:16:38.581Z"
   },
   {
    "duration": 11,
    "start_time": "2021-10-03T18:16:38.586Z"
   },
   {
    "duration": 10,
    "start_time": "2021-10-03T18:16:38.598Z"
   },
   {
    "duration": 9,
    "start_time": "2021-10-03T18:16:38.610Z"
   },
   {
    "duration": 24,
    "start_time": "2021-10-03T18:16:38.621Z"
   },
   {
    "duration": 5,
    "start_time": "2021-10-03T18:16:38.647Z"
   },
   {
    "duration": 8,
    "start_time": "2021-10-03T18:16:38.654Z"
   },
   {
    "duration": 10,
    "start_time": "2021-10-03T18:16:38.663Z"
   },
   {
    "duration": 35,
    "start_time": "2021-10-03T18:16:38.674Z"
   },
   {
    "duration": 4,
    "start_time": "2021-10-03T18:16:38.710Z"
   },
   {
    "duration": 9,
    "start_time": "2021-10-03T18:16:38.715Z"
   },
   {
    "duration": 26,
    "start_time": "2021-10-03T18:16:38.725Z"
   },
   {
    "duration": 12,
    "start_time": "2021-10-03T18:16:38.753Z"
   },
   {
    "duration": 4,
    "start_time": "2021-10-03T18:16:38.766Z"
   },
   {
    "duration": 6,
    "start_time": "2021-10-03T18:16:38.771Z"
   },
   {
    "duration": 6,
    "start_time": "2021-10-03T18:16:38.778Z"
   },
   {
    "duration": 9,
    "start_time": "2021-10-03T18:16:38.786Z"
   },
   {
    "duration": 57,
    "start_time": "2021-10-03T18:16:38.797Z"
   },
   {
    "duration": 3,
    "start_time": "2021-10-03T18:16:38.856Z"
   },
   {
    "duration": 9,
    "start_time": "2021-10-03T18:16:38.861Z"
   },
   {
    "duration": 12,
    "start_time": "2021-10-03T18:16:38.871Z"
   },
   {
    "duration": 7,
    "start_time": "2021-10-03T18:16:38.885Z"
   },
   {
    "duration": 11,
    "start_time": "2021-10-03T18:16:38.893Z"
   },
   {
    "duration": 72,
    "start_time": "2021-10-03T18:18:10.986Z"
   },
   {
    "duration": 7,
    "start_time": "2021-10-03T18:20:31.090Z"
   },
   {
    "duration": 4,
    "start_time": "2021-10-03T18:35:25.136Z"
   },
   {
    "duration": 4,
    "start_time": "2021-10-03T18:35:31.191Z"
   },
   {
    "duration": 11,
    "start_time": "2021-10-03T18:36:17.672Z"
   },
   {
    "duration": 913,
    "start_time": "2021-10-04T05:59:44.990Z"
   },
   {
    "duration": 14,
    "start_time": "2021-10-04T05:59:45.906Z"
   },
   {
    "duration": 8,
    "start_time": "2021-10-04T05:59:45.923Z"
   },
   {
    "duration": 33,
    "start_time": "2021-10-04T05:59:45.934Z"
   },
   {
    "duration": 7,
    "start_time": "2021-10-04T05:59:45.970Z"
   },
   {
    "duration": 9,
    "start_time": "2021-10-04T05:59:45.980Z"
   },
   {
    "duration": 4,
    "start_time": "2021-10-04T05:59:45.991Z"
   },
   {
    "duration": 9,
    "start_time": "2021-10-04T05:59:45.998Z"
   },
   {
    "duration": 52,
    "start_time": "2021-10-04T05:59:46.012Z"
   },
   {
    "duration": 19,
    "start_time": "2021-10-04T05:59:46.073Z"
   },
   {
    "duration": 9,
    "start_time": "2021-10-04T05:59:46.095Z"
   },
   {
    "duration": 4,
    "start_time": "2021-10-04T05:59:46.107Z"
   },
   {
    "duration": 22,
    "start_time": "2021-10-04T05:59:46.113Z"
   },
   {
    "duration": 38,
    "start_time": "2021-10-04T05:59:46.137Z"
   },
   {
    "duration": 4,
    "start_time": "2021-10-04T05:59:46.178Z"
   },
   {
    "duration": 16,
    "start_time": "2021-10-04T05:59:46.185Z"
   },
   {
    "duration": 9,
    "start_time": "2021-10-04T05:59:46.203Z"
   },
   {
    "duration": 11,
    "start_time": "2021-10-04T05:59:46.214Z"
   },
   {
    "duration": 67,
    "start_time": "2021-10-04T05:59:46.227Z"
   },
   {
    "duration": 12,
    "start_time": "2021-10-04T05:59:46.296Z"
   },
   {
    "duration": 10,
    "start_time": "2021-10-04T05:59:46.311Z"
   },
   {
    "duration": 6,
    "start_time": "2021-10-04T05:59:46.323Z"
   },
   {
    "duration": 77,
    "start_time": "2021-10-04T05:59:46.332Z"
   },
   {
    "duration": 7,
    "start_time": "2021-10-04T05:59:46.411Z"
   },
   {
    "duration": 6,
    "start_time": "2021-10-04T05:59:46.421Z"
   },
   {
    "duration": 49,
    "start_time": "2021-10-04T05:59:46.429Z"
   },
   {
    "duration": 5,
    "start_time": "2021-10-04T05:59:46.486Z"
   },
   {
    "duration": 19,
    "start_time": "2021-10-04T05:59:46.495Z"
   },
   {
    "duration": 62,
    "start_time": "2021-10-04T05:59:46.516Z"
   },
   {
    "duration": 28,
    "start_time": "2021-10-04T05:59:46.580Z"
   },
   {
    "duration": 22,
    "start_time": "2021-10-04T05:59:46.610Z"
   },
   {
    "duration": 47,
    "start_time": "2021-10-04T05:59:46.634Z"
   },
   {
    "duration": 25,
    "start_time": "2021-10-04T05:59:46.683Z"
   },
   {
    "duration": 24,
    "start_time": "2021-10-04T05:59:46.710Z"
   },
   {
    "duration": 51,
    "start_time": "2021-10-04T05:59:46.736Z"
   },
   {
    "duration": 7,
    "start_time": "2021-10-04T05:59:46.790Z"
   },
   {
    "duration": 22,
    "start_time": "2021-10-04T05:59:46.799Z"
   },
   {
    "duration": 49,
    "start_time": "2021-10-04T05:59:46.824Z"
   },
   {
    "duration": 15,
    "start_time": "2021-10-04T05:59:46.877Z"
   },
   {
    "duration": 26,
    "start_time": "2021-10-04T05:59:46.894Z"
   },
   {
    "duration": 10,
    "start_time": "2021-10-04T05:59:46.923Z"
   },
   {
    "duration": 33,
    "start_time": "2021-10-04T05:59:46.935Z"
   },
   {
    "duration": 10,
    "start_time": "2021-10-04T05:59:46.970Z"
   },
   {
    "duration": 10,
    "start_time": "2021-10-04T05:59:46.983Z"
   },
   {
    "duration": 5,
    "start_time": "2021-10-04T05:59:46.996Z"
   },
   {
    "duration": 4870,
    "start_time": "2021-10-04T05:59:47.004Z"
   },
   {
    "duration": 23,
    "start_time": "2021-10-04T05:59:51.877Z"
   },
   {
    "duration": 6,
    "start_time": "2021-10-04T05:59:51.904Z"
   },
   {
    "duration": 29,
    "start_time": "2021-10-04T05:59:51.913Z"
   },
   {
    "duration": 40,
    "start_time": "2021-10-04T05:59:51.945Z"
   },
   {
    "duration": 7,
    "start_time": "2021-10-04T05:59:51.988Z"
   },
   {
    "duration": 6,
    "start_time": "2021-10-04T05:59:51.998Z"
   },
   {
    "duration": 9,
    "start_time": "2021-10-04T05:59:52.007Z"
   },
   {
    "duration": 11,
    "start_time": "2021-10-04T05:59:52.019Z"
   },
   {
    "duration": 28,
    "start_time": "2021-10-04T05:59:52.033Z"
   },
   {
    "duration": 15,
    "start_time": "2021-10-04T05:59:52.071Z"
   },
   {
    "duration": 23,
    "start_time": "2021-10-04T05:59:52.089Z"
   },
   {
    "duration": 21,
    "start_time": "2021-10-04T05:59:52.115Z"
   },
   {
    "duration": 23,
    "start_time": "2021-10-04T05:59:52.140Z"
   },
   {
    "duration": 4,
    "start_time": "2021-10-04T05:59:52.166Z"
   },
   {
    "duration": 16,
    "start_time": "2021-10-04T05:59:52.174Z"
   },
   {
    "duration": 8,
    "start_time": "2021-10-04T05:59:52.193Z"
   },
   {
    "duration": 6,
    "start_time": "2021-10-04T05:59:52.203Z"
   },
   {
    "duration": 24,
    "start_time": "2021-10-04T05:59:52.212Z"
   },
   {
    "duration": 39,
    "start_time": "2021-10-04T05:59:52.238Z"
   },
   {
    "duration": 9,
    "start_time": "2021-10-04T05:59:52.279Z"
   },
   {
    "duration": 33,
    "start_time": "2021-10-04T05:59:52.290Z"
   },
   {
    "duration": 5,
    "start_time": "2021-10-04T05:59:52.325Z"
   },
   {
    "duration": 31,
    "start_time": "2021-10-04T05:59:52.333Z"
   },
   {
    "duration": 4,
    "start_time": "2021-10-04T05:59:52.366Z"
   },
   {
    "duration": 18,
    "start_time": "2021-10-04T05:59:52.372Z"
   },
   {
    "duration": 87,
    "start_time": "2021-10-04T05:59:52.393Z"
   },
   {
    "duration": 5,
    "start_time": "2021-10-04T05:59:52.482Z"
   },
   {
    "duration": 12,
    "start_time": "2021-10-04T05:59:52.490Z"
   },
   {
    "duration": 14,
    "start_time": "2021-10-04T05:59:52.505Z"
   },
   {
    "duration": 18,
    "start_time": "2021-10-04T05:59:52.521Z"
   },
   {
    "duration": 8,
    "start_time": "2021-10-04T05:59:52.569Z"
   },
   {
    "duration": 12,
    "start_time": "2021-10-04T05:59:52.580Z"
   },
   {
    "duration": 8,
    "start_time": "2021-10-04T05:59:52.594Z"
   },
   {
    "duration": 19,
    "start_time": "2021-10-04T05:59:52.604Z"
   },
   {
    "duration": 13,
    "start_time": "2021-10-04T05:59:52.632Z"
   },
   {
    "duration": 9,
    "start_time": "2021-10-04T05:59:52.664Z"
   },
   {
    "duration": 33,
    "start_time": "2021-10-04T05:59:52.676Z"
   },
   {
    "duration": 9,
    "start_time": "2021-10-04T05:59:52.712Z"
   },
   {
    "duration": 15,
    "start_time": "2021-10-04T05:59:52.723Z"
   },
   {
    "duration": 63,
    "start_time": "2021-10-04T05:59:52.740Z"
   },
   {
    "duration": 5,
    "start_time": "2021-10-04T05:59:52.805Z"
   },
   {
    "duration": 19,
    "start_time": "2021-10-04T05:59:52.812Z"
   },
   {
    "duration": 14,
    "start_time": "2021-10-04T05:59:52.833Z"
   },
   {
    "duration": 20,
    "start_time": "2021-10-04T05:59:52.863Z"
   },
   {
    "duration": 6,
    "start_time": "2021-10-04T05:59:52.885Z"
   },
   {
    "duration": 8,
    "start_time": "2021-10-04T05:59:52.893Z"
   },
   {
    "duration": 8,
    "start_time": "2021-10-04T05:59:52.904Z"
   },
   {
    "duration": 15,
    "start_time": "2021-10-04T05:59:52.915Z"
   },
   {
    "duration": 76,
    "start_time": "2021-10-04T05:59:52.964Z"
   },
   {
    "duration": 20,
    "start_time": "2021-10-04T05:59:53.042Z"
   },
   {
    "duration": 12,
    "start_time": "2021-10-04T05:59:53.067Z"
   },
   {
    "duration": 15,
    "start_time": "2021-10-04T05:59:53.082Z"
   },
   {
    "duration": 18,
    "start_time": "2021-10-04T05:59:53.099Z"
   },
   {
    "duration": 5,
    "start_time": "2021-10-04T05:59:53.119Z"
   },
   {
    "duration": 35,
    "start_time": "2021-10-04T05:59:53.127Z"
   },
   {
    "duration": 29,
    "start_time": "2021-10-04T05:59:53.165Z"
   },
   {
    "duration": 14,
    "start_time": "2021-10-04T05:59:53.196Z"
   },
   {
    "duration": 68,
    "start_time": "2021-10-04T05:59:53.213Z"
   },
   {
    "duration": 5,
    "start_time": "2021-10-04T05:59:53.283Z"
   },
   {
    "duration": 17,
    "start_time": "2021-10-04T05:59:53.290Z"
   },
   {
    "duration": 15,
    "start_time": "2021-10-04T05:59:53.310Z"
   },
   {
    "duration": 8,
    "start_time": "2021-10-04T05:59:53.327Z"
   },
   {
    "duration": 38,
    "start_time": "2021-10-04T05:59:53.337Z"
   },
   {
    "duration": 209407,
    "start_time": "2021-10-04T06:05:18.861Z"
   }
  ],
  "kernelspec": {
   "display_name": "Python 3",
   "language": "python",
   "name": "python3"
  },
  "language_info": {
   "codemirror_mode": {
    "name": "ipython",
    "version": 3
   },
   "file_extension": ".py",
   "mimetype": "text/x-python",
   "name": "python",
   "nbconvert_exporter": "python",
   "pygments_lexer": "ipython3",
   "version": "3.7.12"
  },
  "toc": {
   "base_numbering": 1,
   "nav_menu": {},
   "number_sections": true,
   "sideBar": true,
   "skip_h1_title": true,
   "title_cell": "Table of Contents",
   "title_sidebar": "Contents",
   "toc_cell": false,
   "toc_position": {},
   "toc_section_display": true,
   "toc_window_display": false
  }
 },
 "nbformat": 4,
 "nbformat_minor": 2
}
