{
 "cells": [
  {
   "cell_type": "markdown",
   "id": "fea52741",
   "metadata": {},
   "source": [
    "## Анализ базы данных сервиса для чтения книг по подписке<a class=\"tocSkip\">"
   ]
  },
  {
   "cell_type": "markdown",
   "id": "435e1db9",
   "metadata": {},
   "source": [
    "**Цель исследования:** проанализировать базу данных прибретенного компанией, крупного сервиса для чтения книг по подписке. Сформулировать ценностное предложение для нового продукта."
   ]
  },
  {
   "cell_type": "code",
   "execution_count": null,
   "id": "416899d4",
   "metadata": {},
   "outputs": [],
   "source": [
    "# импортируем библиотеки\n",
    "import pandas as pd\n",
    "from sqlalchemy import create_engine"
   ]
  },
  {
   "cell_type": "code",
   "execution_count": null,
   "id": "a2ae19f2",
   "metadata": {},
   "outputs": [],
   "source": [
    "# устанавливаем параметры\n",
    "db_config = {'user': 'praktikum_student', # имя пользователя\n",
    " 'pwd': 'Sdf4$2;d-d30pp', # пароль\n",
    " 'host': 'rc1b-wcoijxj3yxfsf3fs.mdb.yandexcloud.net',\n",
    " 'port': 6432, # порт подключения\n",
    " 'db': 'data-analyst-final-project-db'} # название базы данных\n",
    "connection_string = 'postgresql://{}:{}@{}:{}/{}'.format(db_config['user'],\n",
    " db_config['pwd'],\n",
    " db_config['host'],\n",
    " db_config['port'],\n",
    " db_config['db'])\n",
    "# сохраняем коннектор\n",
    "engine = create_engine(connection_string, connect_args={'sslmode':'require'})"
   ]
  },
  {
   "cell_type": "markdown",
   "id": "86944aef",
   "metadata": {},
   "source": [
    "### Исследуем таблицы, выведем первые строки"
   ]
  },
  {
   "cell_type": "code",
   "execution_count": null,
   "id": "e87acf2e",
   "metadata": {},
   "outputs": [],
   "source": [
    "# таблица books\n",
    "query = '''\n",
    "            SELECT * \n",
    "            FROM books;\n",
    "        '''\n",
    "\n",
    "books  = pd.io.sql.read_sql(query, con = engine)\n",
    "\n",
    "# таблица authors\n",
    "query = '''\n",
    "            SELECT * \n",
    "            FROM authors;\n",
    "        '''\n",
    "\n",
    "authors  = pd.io.sql.read_sql(query, con = engine)\n",
    "\n",
    "# таблица publishers\n",
    "query = '''\n",
    "            SELECT * \n",
    "            FROM publishers;\n",
    "        '''\n",
    "\n",
    "publishers  = pd.io.sql.read_sql(query, con = engine)\n",
    "\n",
    "# таблица ratings\n",
    "query = '''\n",
    "            SELECT * \n",
    "            FROM ratings;\n",
    "        '''\n",
    "\n",
    "ratings  = pd.io.sql.read_sql(query, con = engine)\n",
    "\n",
    "# таблица reviews\n",
    "query = '''\n",
    "            SELECT * \n",
    "            FROM reviews;\n",
    "        '''\n",
    "\n",
    "reviews  = pd.io.sql.read_sql(query, con = engine)"
   ]
  },
  {
   "cell_type": "code",
   "execution_count": null,
   "id": "35451965",
   "metadata": {
    "scrolled": false
   },
   "outputs": [],
   "source": [
    "display(books.head(), authors.head(), publishers.head(), ratings.head(), reviews.head())\n",
    "display(books.info())\n",
    "display(authors.info())\n",
    "display(publishers.info())\n",
    "display(ratings.info())\n",
    "display(reviews.info())"
   ]
  },
  {
   "cell_type": "markdown",
   "id": "047be1cf",
   "metadata": {},
   "source": [
    "#### Описание данных\n",
    "\n",
    "**Таблица `books`**\n",
    "Содержит данные о книгах:\n",
    "- `book_id` — идентификатор книги;\n",
    "- `author_id` — идентификатор автора;\n",
    "- `title` — название книги;\n",
    "- `num_pages` — количество страниц;\n",
    "- `publication_date` — дата публикации книги;\n",
    "- `publisher_id` — идентификатор издателя.\n",
    "  \n",
    "  \n",
    "**Таблица `authors`**\n",
    "Содержит данные об авторах:\n",
    "- `author_id` — идентификатор автора;\n",
    "- `author` — имя автора.\n",
    "  \n",
    "  \n",
    "**Таблица `publishers`**\n",
    "Содержит данные об издательствах:\n",
    "- `publisher_id` — идентификатор издательства;\n",
    "- `publisher` — название издательства;\n",
    "  \n",
    "  \n",
    "**Таблица `ratings`**\n",
    "Содержит данные о пользовательских оценках книг:\n",
    "- `rating_id` — идентификатор оценки;\n",
    "- `book_id` — идентификатор книги;\n",
    "- `username` — имя пользователя, оставившего оценку;\n",
    "- `rating` — оценка книги.\n",
    "  \n",
    "  \n",
    "**Таблица `reviews`**\n",
    "Содержит данные о пользовательских обзорах на книги:\n",
    "- `review_id` — идентификатор обзора;\n",
    "- `book_id` — идентификатор книги;\n",
    "- `username` — имя пользователя, написавшего обзор;\n",
    "- `text` — текст обзора."
   ]
  },
  {
   "cell_type": "markdown",
   "id": "a899db13",
   "metadata": {},
   "source": [
    "### Посчитаем, сколько книг вышло после 1 января 2000 года"
   ]
  },
  {
   "cell_type": "code",
   "execution_count": null,
   "id": "bf63f8f3",
   "metadata": {},
   "outputs": [],
   "source": [
    "# запрос\n",
    "query = '''\n",
    "            SELECT COUNT(DISTINCT book_id) \n",
    "            FROM books\n",
    "            WHERE CAST(publication_date AS timestamp) > '2000-01-01'\n",
    "        '''\n",
    "\n",
    "books_amount = pd.io.sql.read_sql(query, con = engine)"
   ]
  },
  {
   "cell_type": "code",
   "execution_count": null,
   "id": "72483976",
   "metadata": {},
   "outputs": [],
   "source": [
    "books_amount"
   ]
  },
  {
   "cell_type": "markdown",
   "id": "91f2654e",
   "metadata": {},
   "source": [
    "**Вывод:** большая часть книг была выпущена после 1 января 2000 года - 819 из 1000 книг. "
   ]
  },
  {
   "cell_type": "markdown",
   "id": "2d4f538c",
   "metadata": {},
   "source": [
    "### Для каждой книги посчитаем количество обзоров и среднюю оценку"
   ]
  },
  {
   "cell_type": "code",
   "execution_count": null,
   "id": "1464b855",
   "metadata": {},
   "outputs": [],
   "source": [
    "# запрос\n",
    "query = '''\n",
    "            SELECT b.book_id,\n",
    "                   COUNT(DISTINCT rw.review_id) AS reviews,\n",
    "                   AVG(r.rating) AS avg_rating\n",
    "            FROM books AS b\n",
    "            LEFT OUTER JOIN ratings AS r ON b.book_id = r.book_id\n",
    "            LEFT OUTER JOIN reviews AS rw ON b.book_id = rw.book_id  \n",
    "            GROUP BY b.book_id;\n",
    "        '''\n",
    "\n",
    "rewiews_avg_rating = pd.io.sql.read_sql(query, con = engine)"
   ]
  },
  {
   "cell_type": "code",
   "execution_count": null,
   "id": "8fc6459b",
   "metadata": {},
   "outputs": [],
   "source": [
    "rewiews_avg_rating"
   ]
  },
  {
   "cell_type": "markdown",
   "id": "6101ac02",
   "metadata": {},
   "source": [
    "**Вывод:** все 1000 книг сервиса имеют обзоры и оценки пользователей, которые варьируются."
   ]
  },
  {
   "cell_type": "markdown",
   "id": "d7d13b9b",
   "metadata": {},
   "source": [
    "### Определим издательство, которое выпустило наибольшее число книг толще 50 страниц "
   ]
  },
  {
   "cell_type": "code",
   "execution_count": null,
   "id": "199e670b",
   "metadata": {},
   "outputs": [],
   "source": [
    "# запрос\n",
    "query = '''\n",
    "            SELECT p.publisher,\n",
    "                   COUNT(b.book_id) AS books_amount                   \n",
    "            FROM (SELECT book_id,\n",
    "                         publisher_id\n",
    "                  FROM books\n",
    "                  WHERE num_pages > 50) AS b\n",
    "            LEFT OUTER JOIN publishers AS p ON b.publisher_id = p.publisher_id            \n",
    "            GROUP BY p.publisher\n",
    "            ORDER BY books_amount DESC\n",
    "            LIMIT 1;\n",
    "        '''\n",
    "\n",
    "publisher_top_books_amount = pd.io.sql.read_sql(query, con = engine)"
   ]
  },
  {
   "cell_type": "code",
   "execution_count": null,
   "id": "3795d375",
   "metadata": {},
   "outputs": [],
   "source": [
    "publisher_top_books_amount"
   ]
  },
  {
   "cell_type": "markdown",
   "id": "146e3a49",
   "metadata": {},
   "source": [
    "**Вывод:** Всего в сервисе 340 издательств, среди них издательство `Penguin Books` выспутило наибольшее количество книг - 42 книги, исключая брошюры. "
   ]
  },
  {
   "cell_type": "markdown",
   "id": "25283dda",
   "metadata": {},
   "source": [
    "### Определим автора с самой высокой средней оценкой книг, учитывая только книги с 50 и более оценками"
   ]
  },
  {
   "cell_type": "code",
   "execution_count": null,
   "id": "eb9bb7df",
   "metadata": {},
   "outputs": [],
   "source": [
    "# запрос\n",
    "query = '''\n",
    "            SELECT a.author,\n",
    "                   AVG(r.rating) AS avg_rating                  \n",
    "            FROM (SELECT book_id,\n",
    "                         rating \n",
    "                         FROM ratings\n",
    "                         WHERE book_id IN (SELECT book_id\n",
    "                                                  FROM ratings\n",
    "                                                  GROUP BY book_id\n",
    "                                                  HAVING COUNT(rating_id) > 50)\n",
    "                  ) AS r \n",
    "            LEFT OUTER JOIN books AS b ON b.book_id = r.book_id\n",
    "            LEFT OUTER JOIN authors AS a ON b.author_id = a.author_id\n",
    "            GROUP BY a.author\n",
    "            ORDER BY avg_rating DESC\n",
    "            LIMIT 1;\n",
    "        '''\n",
    "\n",
    "author_top_rating = pd.io.sql.read_sql(query, con = engine)"
   ]
  },
  {
   "cell_type": "code",
   "execution_count": null,
   "id": "a9ff5af5",
   "metadata": {},
   "outputs": [],
   "source": [
    "author_top_rating"
   ]
  },
  {
   "cell_type": "markdown",
   "id": "87bee471",
   "metadata": {},
   "source": [
    "**Вывод:** 636 авторов публикуют книги в сервисе, из них автор `J.K. Rowling/Mary GrandPré` наиболее популярна и имеет имеет самый высокий средний рейтинг 4.29 (среди книг с 50 и более оценками)."
   ]
  },
  {
   "cell_type": "markdown",
   "id": "dc966ddb",
   "metadata": {},
   "source": [
    "### Посчитаем среднее количество обзоров от пользователей, которые поставили больше 50 оценок"
   ]
  },
  {
   "cell_type": "code",
   "execution_count": null,
   "id": "2bd43b4b",
   "metadata": {},
   "outputs": [],
   "source": [
    "# запрос\n",
    "query = '''\n",
    "            SELECT AVG(r.review_amount) AS avg_review                  \n",
    "            FROM (SELECT username,\n",
    "                         COUNT(review_id) AS review_amount\n",
    "                  FROM reviews\n",
    "                  WHERE username IN (SELECT username\n",
    "                                     FROM ratings \n",
    "                                     GROUP BY username\n",
    "                                     HAVING COUNT(rating) > 50)\n",
    "                  GROUP BY username) AS r;            \n",
    "        '''\n",
    "\n",
    "avg_reviews = pd.io.sql.read_sql(query, con = engine)"
   ]
  },
  {
   "cell_type": "code",
   "execution_count": null,
   "id": "b272cc2a",
   "metadata": {},
   "outputs": [],
   "source": [
    "avg_reviews"
   ]
  },
  {
   "cell_type": "markdown",
   "id": "efa59c4d",
   "metadata": {},
   "source": [
    "**Вывод:** всего пользователи в сервисе оставили 2793 обзора и 6456 оценок. Проанализировав активных пользователей (тех, которые поставили более 50 оценок) мы выяснили, что в среднем каждый такой пользователь оставляет 24 обзора на книги."
   ]
  },
  {
   "cell_type": "markdown",
   "id": "239bb742",
   "metadata": {},
   "source": [
    "### Общий вывод"
   ]
  },
  {
   "cell_type": "markdown",
   "id": "7ac97f38",
   "metadata": {},
   "source": [
    "**Проведя краткий анализ, мы выяснили, что:**\n",
    "- в сервисе публикуются довольно совеременные книги, большая часть из них была выпущена после 1 января 2000 года;\n",
    "- все книги сервиса заинтересовали пользователей. Они охотно оставляют оценки книгам и пишут обзоры. Активные пользователи пишут в среднем по 24 обзора, что являтся хорошим показателем заинтересованности пользователей;\n",
    "- самое активное издательство - `Penguin Books`(выпущено 42 книги);\n",
    "- самый полярный автор - `J.K. Rowling/Mary GrandPré`(средний рейтинг 4.29)."
   ]
  }
 ],
 "metadata": {
  "ExecuteTimeLog": [
   {
    "duration": 73,
    "start_time": "2022-03-28T07:54:30.986Z"
   },
   {
    "duration": 11,
    "start_time": "2022-03-28T07:54:32.964Z"
   },
   {
    "duration": 7,
    "start_time": "2022-03-28T07:54:38.988Z"
   },
   {
    "duration": 611,
    "start_time": "2022-03-28T07:54:43.866Z"
   },
   {
    "duration": 12100,
    "start_time": "2022-03-28T07:54:44.963Z"
   },
   {
    "duration": 34,
    "start_time": "2022-03-28T07:54:57.065Z"
   },
   {
    "duration": 17,
    "start_time": "2022-03-28T07:54:57.101Z"
   },
   {
    "duration": 200,
    "start_time": "2022-03-28T07:55:22.413Z"
   },
   {
    "duration": 207,
    "start_time": "2022-03-28T07:55:38.878Z"
   }
  ],
  "kernelspec": {
   "display_name": "Python 3",
   "language": "python",
   "name": "python3"
  },
  "language_info": {
   "codemirror_mode": {
    "name": "ipython",
    "version": 3
   },
   "file_extension": ".py",
   "mimetype": "text/x-python",
   "name": "python",
   "nbconvert_exporter": "python",
   "pygments_lexer": "ipython3",
   "version": "3.7.12"
  },
  "toc": {
   "base_numbering": 1,
   "nav_menu": {},
   "number_sections": true,
   "sideBar": true,
   "skip_h1_title": true,
   "title_cell": "Содержание",
   "title_sidebar": "Содержание",
   "toc_cell": true,
   "toc_position": {
    "height": "calc(100% - 180px)",
    "left": "10px",
    "top": "150px",
    "width": "349.091px"
   },
   "toc_section_display": true,
   "toc_window_display": true
  }
 },
 "nbformat": 4,
 "nbformat_minor": 5
}
