{
 "cells": [
  {
   "cell_type": "markdown",
   "id": "ac273cd3",
   "metadata": {},
   "source": [
    "# Определение перспективного тарифа для телеком-компании   <a class=\"tocSkip\">\n",
    "**Цель исследования:** \n",
    "  \n",
    "Проанализировать поведение клиентов компании «Мегалайн» — федерального оператора сотовой связи. Сделать вывод — какой из двух тарифных планов: «Смарт» и «Ультра» прибыльнее для компании."
   ]
  },
  {
   "cell_type": "markdown",
   "id": "95d61448",
   "metadata": {},
   "source": [
    "## Изучение данных из файла"
   ]
  },
  {
   "cell_type": "code",
   "execution_count": 1,
   "id": "9f50c79b",
   "metadata": {},
   "outputs": [],
   "source": [
    "# импорт библиотек\n",
    "!pip install seaborn -U\n",
    "import pandas as pd\n",
    "import matplotlib.pyplot as plt\n",
    "import numpy as np\n",
    "import math\n",
    "from math import factorial\n",
    "from scipy import stats as st\n",
    "import seaborn as sns"
   ]
  },
  {
   "cell_type": "code",
   "execution_count": 2,
   "id": "4c3347fc",
   "metadata": {},
   "outputs": [],
   "source": [
    "# чтение файлов\n",
    "data_calls = pd.read_csv('/datasets/calls.csv') \n",
    "data_internet = pd.read_csv('/datasets/internet.csv') \n",
    "data_messages = pd.read_csv('/datasets/messages.csv') \n",
    "data_tariffs = pd.read_csv('/datasets/tariffs.csv') \n",
    "data_users = pd.read_csv('/datasets/users.csv')"
   ]
  },
  {
   "cell_type": "code",
   "execution_count": 3,
   "id": "45dff64f",
   "metadata": {},
   "outputs": [
    {
     "data": {
      "text/html": [
       "<div>\n",
       "<style scoped>\n",
       "    .dataframe tbody tr th:only-of-type {\n",
       "        vertical-align: middle;\n",
       "    }\n",
       "\n",
       "    .dataframe tbody tr th {\n",
       "        vertical-align: top;\n",
       "    }\n",
       "\n",
       "    .dataframe thead th {\n",
       "        text-align: right;\n",
       "    }\n",
       "</style>\n",
       "<table border=\"1\" class=\"dataframe\">\n",
       "  <thead>\n",
       "    <tr style=\"text-align: right;\">\n",
       "      <th></th>\n",
       "      <th>id</th>\n",
       "      <th>call_date</th>\n",
       "      <th>duration</th>\n",
       "      <th>user_id</th>\n",
       "    </tr>\n",
       "  </thead>\n",
       "  <tbody>\n",
       "    <tr>\n",
       "      <td>0</td>\n",
       "      <td>1000_0</td>\n",
       "      <td>2018-07-25</td>\n",
       "      <td>0.00</td>\n",
       "      <td>1000</td>\n",
       "    </tr>\n",
       "    <tr>\n",
       "      <td>1</td>\n",
       "      <td>1000_1</td>\n",
       "      <td>2018-08-17</td>\n",
       "      <td>0.00</td>\n",
       "      <td>1000</td>\n",
       "    </tr>\n",
       "    <tr>\n",
       "      <td>2</td>\n",
       "      <td>1000_2</td>\n",
       "      <td>2018-06-11</td>\n",
       "      <td>2.85</td>\n",
       "      <td>1000</td>\n",
       "    </tr>\n",
       "    <tr>\n",
       "      <td>3</td>\n",
       "      <td>1000_3</td>\n",
       "      <td>2018-09-21</td>\n",
       "      <td>13.80</td>\n",
       "      <td>1000</td>\n",
       "    </tr>\n",
       "    <tr>\n",
       "      <td>4</td>\n",
       "      <td>1000_4</td>\n",
       "      <td>2018-12-15</td>\n",
       "      <td>5.18</td>\n",
       "      <td>1000</td>\n",
       "    </tr>\n",
       "    <tr>\n",
       "      <td>5</td>\n",
       "      <td>1000_5</td>\n",
       "      <td>2018-11-02</td>\n",
       "      <td>0.00</td>\n",
       "      <td>1000</td>\n",
       "    </tr>\n",
       "    <tr>\n",
       "      <td>6</td>\n",
       "      <td>1000_6</td>\n",
       "      <td>2018-10-18</td>\n",
       "      <td>0.00</td>\n",
       "      <td>1000</td>\n",
       "    </tr>\n",
       "    <tr>\n",
       "      <td>7</td>\n",
       "      <td>1000_7</td>\n",
       "      <td>2018-08-22</td>\n",
       "      <td>18.31</td>\n",
       "      <td>1000</td>\n",
       "    </tr>\n",
       "    <tr>\n",
       "      <td>8</td>\n",
       "      <td>1000_8</td>\n",
       "      <td>2018-09-15</td>\n",
       "      <td>18.44</td>\n",
       "      <td>1000</td>\n",
       "    </tr>\n",
       "    <tr>\n",
       "      <td>9</td>\n",
       "      <td>1000_9</td>\n",
       "      <td>2018-08-15</td>\n",
       "      <td>0.00</td>\n",
       "      <td>1000</td>\n",
       "    </tr>\n",
       "  </tbody>\n",
       "</table>\n",
       "</div>"
      ],
      "text/plain": [
       "       id   call_date  duration  user_id\n",
       "0  1000_0  2018-07-25      0.00     1000\n",
       "1  1000_1  2018-08-17      0.00     1000\n",
       "2  1000_2  2018-06-11      2.85     1000\n",
       "3  1000_3  2018-09-21     13.80     1000\n",
       "4  1000_4  2018-12-15      5.18     1000\n",
       "5  1000_5  2018-11-02      0.00     1000\n",
       "6  1000_6  2018-10-18      0.00     1000\n",
       "7  1000_7  2018-08-22     18.31     1000\n",
       "8  1000_8  2018-09-15     18.44     1000\n",
       "9  1000_9  2018-08-15      0.00     1000"
      ]
     },
     "execution_count": 3,
     "metadata": {},
     "output_type": "execute_result"
    }
   ],
   "source": [
    "data_calls.head(10)"
   ]
  },
  {
   "cell_type": "markdown",
   "id": "e0113178",
   "metadata": {},
   "source": [
    "Рассмотрев таблицу data_calls видим, что каждая строка таблицы содержит информацию о звонках:  \n",
    "- id — уникальный номер звонка  \n",
    "- call_date — дата звонка  \n",
    "- duration — длительность звонка в минутах  \n",
    "- user_id — идентификатор пользователя, сделавшего звонок  "
   ]
  },
  {
   "cell_type": "code",
   "execution_count": 4,
   "id": "4d54806c",
   "metadata": {},
   "outputs": [
    {
     "data": {
      "text/html": [
       "<div>\n",
       "<style scoped>\n",
       "    .dataframe tbody tr th:only-of-type {\n",
       "        vertical-align: middle;\n",
       "    }\n",
       "\n",
       "    .dataframe tbody tr th {\n",
       "        vertical-align: top;\n",
       "    }\n",
       "\n",
       "    .dataframe thead th {\n",
       "        text-align: right;\n",
       "    }\n",
       "</style>\n",
       "<table border=\"1\" class=\"dataframe\">\n",
       "  <thead>\n",
       "    <tr style=\"text-align: right;\">\n",
       "      <th></th>\n",
       "      <th>Unnamed: 0</th>\n",
       "      <th>id</th>\n",
       "      <th>mb_used</th>\n",
       "      <th>session_date</th>\n",
       "      <th>user_id</th>\n",
       "    </tr>\n",
       "  </thead>\n",
       "  <tbody>\n",
       "    <tr>\n",
       "      <td>0</td>\n",
       "      <td>0</td>\n",
       "      <td>1000_0</td>\n",
       "      <td>112.95</td>\n",
       "      <td>2018-11-25</td>\n",
       "      <td>1000</td>\n",
       "    </tr>\n",
       "    <tr>\n",
       "      <td>1</td>\n",
       "      <td>1</td>\n",
       "      <td>1000_1</td>\n",
       "      <td>1052.81</td>\n",
       "      <td>2018-09-07</td>\n",
       "      <td>1000</td>\n",
       "    </tr>\n",
       "    <tr>\n",
       "      <td>2</td>\n",
       "      <td>2</td>\n",
       "      <td>1000_2</td>\n",
       "      <td>1197.26</td>\n",
       "      <td>2018-06-25</td>\n",
       "      <td>1000</td>\n",
       "    </tr>\n",
       "    <tr>\n",
       "      <td>3</td>\n",
       "      <td>3</td>\n",
       "      <td>1000_3</td>\n",
       "      <td>550.27</td>\n",
       "      <td>2018-08-22</td>\n",
       "      <td>1000</td>\n",
       "    </tr>\n",
       "    <tr>\n",
       "      <td>4</td>\n",
       "      <td>4</td>\n",
       "      <td>1000_4</td>\n",
       "      <td>302.56</td>\n",
       "      <td>2018-09-24</td>\n",
       "      <td>1000</td>\n",
       "    </tr>\n",
       "    <tr>\n",
       "      <td>5</td>\n",
       "      <td>5</td>\n",
       "      <td>1000_5</td>\n",
       "      <td>399.97</td>\n",
       "      <td>2018-10-02</td>\n",
       "      <td>1000</td>\n",
       "    </tr>\n",
       "    <tr>\n",
       "      <td>6</td>\n",
       "      <td>6</td>\n",
       "      <td>1000_6</td>\n",
       "      <td>540.08</td>\n",
       "      <td>2018-09-07</td>\n",
       "      <td>1000</td>\n",
       "    </tr>\n",
       "    <tr>\n",
       "      <td>7</td>\n",
       "      <td>7</td>\n",
       "      <td>1000_7</td>\n",
       "      <td>415.70</td>\n",
       "      <td>2018-07-11</td>\n",
       "      <td>1000</td>\n",
       "    </tr>\n",
       "    <tr>\n",
       "      <td>8</td>\n",
       "      <td>8</td>\n",
       "      <td>1000_8</td>\n",
       "      <td>505.40</td>\n",
       "      <td>2018-10-08</td>\n",
       "      <td>1000</td>\n",
       "    </tr>\n",
       "    <tr>\n",
       "      <td>9</td>\n",
       "      <td>9</td>\n",
       "      <td>1000_9</td>\n",
       "      <td>345.54</td>\n",
       "      <td>2018-09-03</td>\n",
       "      <td>1000</td>\n",
       "    </tr>\n",
       "  </tbody>\n",
       "</table>\n",
       "</div>"
      ],
      "text/plain": [
       "   Unnamed: 0      id  mb_used session_date  user_id\n",
       "0           0  1000_0   112.95   2018-11-25     1000\n",
       "1           1  1000_1  1052.81   2018-09-07     1000\n",
       "2           2  1000_2  1197.26   2018-06-25     1000\n",
       "3           3  1000_3   550.27   2018-08-22     1000\n",
       "4           4  1000_4   302.56   2018-09-24     1000\n",
       "5           5  1000_5   399.97   2018-10-02     1000\n",
       "6           6  1000_6   540.08   2018-09-07     1000\n",
       "7           7  1000_7   415.70   2018-07-11     1000\n",
       "8           8  1000_8   505.40   2018-10-08     1000\n",
       "9           9  1000_9   345.54   2018-09-03     1000"
      ]
     },
     "execution_count": 4,
     "metadata": {},
     "output_type": "execute_result"
    }
   ],
   "source": [
    "data_internet.head(10)"
   ]
  },
  {
   "cell_type": "markdown",
   "id": "f5185d8d",
   "metadata": {},
   "source": [
    "Рассмотрев таблицу data_internet видим, что каждая строка таблицы содержит информацию об интернет-сессиях:\n",
    "- id — уникальный номер сессии\n",
    "- mb_used — объём потраченного за сессию интернет-трафика (в мегабайтах)\n",
    "- session_date — дата интернет-сессии\n",
    "- user_id — идентификатор пользователя"
   ]
  },
  {
   "cell_type": "code",
   "execution_count": 5,
   "id": "ab2c8c1a",
   "metadata": {},
   "outputs": [
    {
     "data": {
      "text/html": [
       "<div>\n",
       "<style scoped>\n",
       "    .dataframe tbody tr th:only-of-type {\n",
       "        vertical-align: middle;\n",
       "    }\n",
       "\n",
       "    .dataframe tbody tr th {\n",
       "        vertical-align: top;\n",
       "    }\n",
       "\n",
       "    .dataframe thead th {\n",
       "        text-align: right;\n",
       "    }\n",
       "</style>\n",
       "<table border=\"1\" class=\"dataframe\">\n",
       "  <thead>\n",
       "    <tr style=\"text-align: right;\">\n",
       "      <th></th>\n",
       "      <th>id</th>\n",
       "      <th>message_date</th>\n",
       "      <th>user_id</th>\n",
       "    </tr>\n",
       "  </thead>\n",
       "  <tbody>\n",
       "    <tr>\n",
       "      <td>0</td>\n",
       "      <td>1000_0</td>\n",
       "      <td>2018-06-27</td>\n",
       "      <td>1000</td>\n",
       "    </tr>\n",
       "    <tr>\n",
       "      <td>1</td>\n",
       "      <td>1000_1</td>\n",
       "      <td>2018-10-08</td>\n",
       "      <td>1000</td>\n",
       "    </tr>\n",
       "    <tr>\n",
       "      <td>2</td>\n",
       "      <td>1000_2</td>\n",
       "      <td>2018-08-04</td>\n",
       "      <td>1000</td>\n",
       "    </tr>\n",
       "    <tr>\n",
       "      <td>3</td>\n",
       "      <td>1000_3</td>\n",
       "      <td>2018-06-16</td>\n",
       "      <td>1000</td>\n",
       "    </tr>\n",
       "    <tr>\n",
       "      <td>4</td>\n",
       "      <td>1000_4</td>\n",
       "      <td>2018-12-05</td>\n",
       "      <td>1000</td>\n",
       "    </tr>\n",
       "    <tr>\n",
       "      <td>5</td>\n",
       "      <td>1000_5</td>\n",
       "      <td>2018-06-20</td>\n",
       "      <td>1000</td>\n",
       "    </tr>\n",
       "    <tr>\n",
       "      <td>6</td>\n",
       "      <td>1000_6</td>\n",
       "      <td>2018-11-19</td>\n",
       "      <td>1000</td>\n",
       "    </tr>\n",
       "    <tr>\n",
       "      <td>7</td>\n",
       "      <td>1000_7</td>\n",
       "      <td>2018-10-29</td>\n",
       "      <td>1000</td>\n",
       "    </tr>\n",
       "    <tr>\n",
       "      <td>8</td>\n",
       "      <td>1000_8</td>\n",
       "      <td>2018-06-25</td>\n",
       "      <td>1000</td>\n",
       "    </tr>\n",
       "    <tr>\n",
       "      <td>9</td>\n",
       "      <td>1000_9</td>\n",
       "      <td>2018-12-18</td>\n",
       "      <td>1000</td>\n",
       "    </tr>\n",
       "  </tbody>\n",
       "</table>\n",
       "</div>"
      ],
      "text/plain": [
       "       id message_date  user_id\n",
       "0  1000_0   2018-06-27     1000\n",
       "1  1000_1   2018-10-08     1000\n",
       "2  1000_2   2018-08-04     1000\n",
       "3  1000_3   2018-06-16     1000\n",
       "4  1000_4   2018-12-05     1000\n",
       "5  1000_5   2018-06-20     1000\n",
       "6  1000_6   2018-11-19     1000\n",
       "7  1000_7   2018-10-29     1000\n",
       "8  1000_8   2018-06-25     1000\n",
       "9  1000_9   2018-12-18     1000"
      ]
     },
     "execution_count": 5,
     "metadata": {},
     "output_type": "execute_result"
    }
   ],
   "source": [
    "data_messages.head(10)"
   ]
  },
  {
   "cell_type": "markdown",
   "id": "c2a3e1db",
   "metadata": {},
   "source": [
    "Рассмотрев таблицу data_imessages видим, что каждая строка таблицы содержит информацию о сообщениях:\n",
    "- id — уникальный номер сообщения\n",
    "- message_date — дата сообщения\n",
    "- user_id — идентификатор пользователя, отправившего сообщение"
   ]
  },
  {
   "cell_type": "code",
   "execution_count": 6,
   "id": "03a1552f",
   "metadata": {},
   "outputs": [
    {
     "data": {
      "text/html": [
       "<div>\n",
       "<style scoped>\n",
       "    .dataframe tbody tr th:only-of-type {\n",
       "        vertical-align: middle;\n",
       "    }\n",
       "\n",
       "    .dataframe tbody tr th {\n",
       "        vertical-align: top;\n",
       "    }\n",
       "\n",
       "    .dataframe thead th {\n",
       "        text-align: right;\n",
       "    }\n",
       "</style>\n",
       "<table border=\"1\" class=\"dataframe\">\n",
       "  <thead>\n",
       "    <tr style=\"text-align: right;\">\n",
       "      <th></th>\n",
       "      <th>messages_included</th>\n",
       "      <th>mb_per_month_included</th>\n",
       "      <th>minutes_included</th>\n",
       "      <th>rub_monthly_fee</th>\n",
       "      <th>rub_per_gb</th>\n",
       "      <th>rub_per_message</th>\n",
       "      <th>rub_per_minute</th>\n",
       "      <th>tariff_name</th>\n",
       "    </tr>\n",
       "  </thead>\n",
       "  <tbody>\n",
       "    <tr>\n",
       "      <td>0</td>\n",
       "      <td>50</td>\n",
       "      <td>15360</td>\n",
       "      <td>500</td>\n",
       "      <td>550</td>\n",
       "      <td>200</td>\n",
       "      <td>3</td>\n",
       "      <td>3</td>\n",
       "      <td>smart</td>\n",
       "    </tr>\n",
       "    <tr>\n",
       "      <td>1</td>\n",
       "      <td>1000</td>\n",
       "      <td>30720</td>\n",
       "      <td>3000</td>\n",
       "      <td>1950</td>\n",
       "      <td>150</td>\n",
       "      <td>1</td>\n",
       "      <td>1</td>\n",
       "      <td>ultra</td>\n",
       "    </tr>\n",
       "  </tbody>\n",
       "</table>\n",
       "</div>"
      ],
      "text/plain": [
       "   messages_included  mb_per_month_included  minutes_included  \\\n",
       "0                 50                  15360               500   \n",
       "1               1000                  30720              3000   \n",
       "\n",
       "   rub_monthly_fee  rub_per_gb  rub_per_message  rub_per_minute tariff_name  \n",
       "0              550         200                3               3       smart  \n",
       "1             1950         150                1               1       ultra  "
      ]
     },
     "execution_count": 6,
     "metadata": {},
     "output_type": "execute_result"
    }
   ],
   "source": [
    "data_tariffs.head()"
   ]
  },
  {
   "cell_type": "markdown",
   "id": "93762595",
   "metadata": {},
   "source": [
    "Рассмотрев таблицу data_tariffs видим, что каждая строка таблицы содержит информацию о тарифах:\n",
    "- tariff_name — название тарифа\n",
    "- rub_monthly_fee — ежемесячная абонентская плата в рублях\n",
    "- minutes_included — количество минут разговора в месяц, включённых в абонентскую плату\n",
    "- messages_included — количество сообщений в месяц, включённых в абонентскую плату\n",
    "- mb_per_month_included — объём интернет-трафика, включённого в абонентскую плату (в мегабайтах)\n",
    "- rub_per_minute — стоимость минуты разговора сверх тарифного пакета (например, если в тарифе 100 минут разговора в месяц, то со 101 минуты будет взиматься плата)\n",
    "- rub_per_message — стоимость отправки сообщения сверх тарифного пакета\n",
    "- rub_per_gb — стоимость дополнительного гигабайта интернет-трафика сверх тарифного пакета (1 гигабайт = 1024 мегабайта)"
   ]
  },
  {
   "cell_type": "code",
   "execution_count": 7,
   "id": "841c1ba9",
   "metadata": {},
   "outputs": [
    {
     "data": {
      "text/html": [
       "<div>\n",
       "<style scoped>\n",
       "    .dataframe tbody tr th:only-of-type {\n",
       "        vertical-align: middle;\n",
       "    }\n",
       "\n",
       "    .dataframe tbody tr th {\n",
       "        vertical-align: top;\n",
       "    }\n",
       "\n",
       "    .dataframe thead th {\n",
       "        text-align: right;\n",
       "    }\n",
       "</style>\n",
       "<table border=\"1\" class=\"dataframe\">\n",
       "  <thead>\n",
       "    <tr style=\"text-align: right;\">\n",
       "      <th></th>\n",
       "      <th>user_id</th>\n",
       "      <th>age</th>\n",
       "      <th>churn_date</th>\n",
       "      <th>city</th>\n",
       "      <th>first_name</th>\n",
       "      <th>last_name</th>\n",
       "      <th>reg_date</th>\n",
       "      <th>tariff</th>\n",
       "    </tr>\n",
       "  </thead>\n",
       "  <tbody>\n",
       "    <tr>\n",
       "      <td>0</td>\n",
       "      <td>1000</td>\n",
       "      <td>52</td>\n",
       "      <td>NaN</td>\n",
       "      <td>Краснодар</td>\n",
       "      <td>Рафаил</td>\n",
       "      <td>Верещагин</td>\n",
       "      <td>2018-05-25</td>\n",
       "      <td>ultra</td>\n",
       "    </tr>\n",
       "    <tr>\n",
       "      <td>1</td>\n",
       "      <td>1001</td>\n",
       "      <td>41</td>\n",
       "      <td>NaN</td>\n",
       "      <td>Москва</td>\n",
       "      <td>Иван</td>\n",
       "      <td>Ежов</td>\n",
       "      <td>2018-11-01</td>\n",
       "      <td>smart</td>\n",
       "    </tr>\n",
       "    <tr>\n",
       "      <td>2</td>\n",
       "      <td>1002</td>\n",
       "      <td>59</td>\n",
       "      <td>NaN</td>\n",
       "      <td>Стерлитамак</td>\n",
       "      <td>Евгений</td>\n",
       "      <td>Абрамович</td>\n",
       "      <td>2018-06-17</td>\n",
       "      <td>smart</td>\n",
       "    </tr>\n",
       "    <tr>\n",
       "      <td>3</td>\n",
       "      <td>1003</td>\n",
       "      <td>23</td>\n",
       "      <td>NaN</td>\n",
       "      <td>Москва</td>\n",
       "      <td>Белла</td>\n",
       "      <td>Белякова</td>\n",
       "      <td>2018-08-17</td>\n",
       "      <td>ultra</td>\n",
       "    </tr>\n",
       "    <tr>\n",
       "      <td>4</td>\n",
       "      <td>1004</td>\n",
       "      <td>68</td>\n",
       "      <td>NaN</td>\n",
       "      <td>Новокузнецк</td>\n",
       "      <td>Татьяна</td>\n",
       "      <td>Авдеенко</td>\n",
       "      <td>2018-05-14</td>\n",
       "      <td>ultra</td>\n",
       "    </tr>\n",
       "    <tr>\n",
       "      <td>5</td>\n",
       "      <td>1005</td>\n",
       "      <td>67</td>\n",
       "      <td>NaN</td>\n",
       "      <td>Набережные Челны</td>\n",
       "      <td>Афанасий</td>\n",
       "      <td>Горлов</td>\n",
       "      <td>2018-01-25</td>\n",
       "      <td>smart</td>\n",
       "    </tr>\n",
       "    <tr>\n",
       "      <td>6</td>\n",
       "      <td>1006</td>\n",
       "      <td>21</td>\n",
       "      <td>NaN</td>\n",
       "      <td>Ульяновск</td>\n",
       "      <td>Леонид</td>\n",
       "      <td>Ермолаев</td>\n",
       "      <td>2018-02-26</td>\n",
       "      <td>smart</td>\n",
       "    </tr>\n",
       "    <tr>\n",
       "      <td>7</td>\n",
       "      <td>1007</td>\n",
       "      <td>65</td>\n",
       "      <td>NaN</td>\n",
       "      <td>Москва</td>\n",
       "      <td>Юна</td>\n",
       "      <td>Березина</td>\n",
       "      <td>2018-04-19</td>\n",
       "      <td>smart</td>\n",
       "    </tr>\n",
       "    <tr>\n",
       "      <td>8</td>\n",
       "      <td>1008</td>\n",
       "      <td>63</td>\n",
       "      <td>NaN</td>\n",
       "      <td>Челябинск</td>\n",
       "      <td>Рустэм</td>\n",
       "      <td>Пономарёв</td>\n",
       "      <td>2018-12-19</td>\n",
       "      <td>smart</td>\n",
       "    </tr>\n",
       "    <tr>\n",
       "      <td>9</td>\n",
       "      <td>1009</td>\n",
       "      <td>24</td>\n",
       "      <td>NaN</td>\n",
       "      <td>Пермь</td>\n",
       "      <td>Василиса</td>\n",
       "      <td>Блинова</td>\n",
       "      <td>2018-03-22</td>\n",
       "      <td>smart</td>\n",
       "    </tr>\n",
       "  </tbody>\n",
       "</table>\n",
       "</div>"
      ],
      "text/plain": [
       "   user_id  age churn_date              city first_name  last_name  \\\n",
       "0     1000   52        NaN         Краснодар     Рафаил  Верещагин   \n",
       "1     1001   41        NaN            Москва       Иван       Ежов   \n",
       "2     1002   59        NaN       Стерлитамак    Евгений  Абрамович   \n",
       "3     1003   23        NaN            Москва      Белла   Белякова   \n",
       "4     1004   68        NaN       Новокузнецк    Татьяна   Авдеенко   \n",
       "5     1005   67        NaN  Набережные Челны   Афанасий     Горлов   \n",
       "6     1006   21        NaN         Ульяновск     Леонид   Ермолаев   \n",
       "7     1007   65        NaN            Москва        Юна   Березина   \n",
       "8     1008   63        NaN         Челябинск     Рустэм  Пономарёв   \n",
       "9     1009   24        NaN             Пермь   Василиса    Блинова   \n",
       "\n",
       "     reg_date tariff  \n",
       "0  2018-05-25  ultra  \n",
       "1  2018-11-01  smart  \n",
       "2  2018-06-17  smart  \n",
       "3  2018-08-17  ultra  \n",
       "4  2018-05-14  ultra  \n",
       "5  2018-01-25  smart  \n",
       "6  2018-02-26  smart  \n",
       "7  2018-04-19  smart  \n",
       "8  2018-12-19  smart  \n",
       "9  2018-03-22  smart  "
      ]
     },
     "execution_count": 7,
     "metadata": {},
     "output_type": "execute_result"
    }
   ],
   "source": [
    "data_users.head(10)"
   ]
  },
  {
   "cell_type": "markdown",
   "id": "c4f7b1cc",
   "metadata": {},
   "source": [
    "Рассмотрев таблицу data_users видим, что каждая строка таблицы содержит информацию о пользователях:\n",
    "- user_id — уникальный идентификатор пользователя\n",
    "- first_name — имя пользователя\n",
    "- last_name — фамилия пользователя\n",
    "- age — возраст пользователя (годы)\n",
    "- reg_date — дата подключения тарифа (день, месяц, год)\n",
    "- churn_date — дата прекращения пользования тарифом \n",
    "- city — город проживания пользователя\n",
    "- tarif — название тарифного плана"
   ]
  },
  {
   "cell_type": "markdown",
   "id": "b2d0a00d",
   "metadata": {},
   "source": [
    "Создадим список таблиц для дальнейшего использования."
   ]
  },
  {
   "cell_type": "code",
   "execution_count": 8,
   "id": "2f64728d",
   "metadata": {},
   "outputs": [],
   "source": [
    "# список таблиц\n",
    "list_of_data = [data_calls, data_internet, data_messages, data_tariffs, data_users]"
   ]
  },
  {
   "cell_type": "markdown",
   "id": "6e27f890",
   "metadata": {},
   "source": [
    "Посмотрим на общую информацию о всех таблицах."
   ]
  },
  {
   "cell_type": "code",
   "execution_count": 9,
   "id": "349273d6",
   "metadata": {},
   "outputs": [
    {
     "name": "stdout",
     "output_type": "stream",
     "text": [
      "<class 'pandas.core.frame.DataFrame'>\n",
      "RangeIndex: 202607 entries, 0 to 202606\n",
      "Data columns (total 4 columns):\n",
      "id           202607 non-null object\n",
      "call_date    202607 non-null object\n",
      "duration     202607 non-null float64\n",
      "user_id      202607 non-null int64\n",
      "dtypes: float64(1), int64(1), object(2)\n",
      "memory usage: 6.2+ MB\n"
     ]
    },
    {
     "data": {
      "text/plain": [
       "None"
      ]
     },
     "metadata": {},
     "output_type": "display_data"
    },
    {
     "name": "stdout",
     "output_type": "stream",
     "text": [
      "<class 'pandas.core.frame.DataFrame'>\n",
      "RangeIndex: 149396 entries, 0 to 149395\n",
      "Data columns (total 5 columns):\n",
      "Unnamed: 0      149396 non-null int64\n",
      "id              149396 non-null object\n",
      "mb_used         149396 non-null float64\n",
      "session_date    149396 non-null object\n",
      "user_id         149396 non-null int64\n",
      "dtypes: float64(1), int64(2), object(2)\n",
      "memory usage: 5.7+ MB\n"
     ]
    },
    {
     "data": {
      "text/plain": [
       "None"
      ]
     },
     "metadata": {},
     "output_type": "display_data"
    },
    {
     "name": "stdout",
     "output_type": "stream",
     "text": [
      "<class 'pandas.core.frame.DataFrame'>\n",
      "RangeIndex: 123036 entries, 0 to 123035\n",
      "Data columns (total 3 columns):\n",
      "id              123036 non-null object\n",
      "message_date    123036 non-null object\n",
      "user_id         123036 non-null int64\n",
      "dtypes: int64(1), object(2)\n",
      "memory usage: 2.8+ MB\n"
     ]
    },
    {
     "data": {
      "text/plain": [
       "None"
      ]
     },
     "metadata": {},
     "output_type": "display_data"
    },
    {
     "name": "stdout",
     "output_type": "stream",
     "text": [
      "<class 'pandas.core.frame.DataFrame'>\n",
      "RangeIndex: 2 entries, 0 to 1\n",
      "Data columns (total 8 columns):\n",
      "messages_included        2 non-null int64\n",
      "mb_per_month_included    2 non-null int64\n",
      "minutes_included         2 non-null int64\n",
      "rub_monthly_fee          2 non-null int64\n",
      "rub_per_gb               2 non-null int64\n",
      "rub_per_message          2 non-null int64\n",
      "rub_per_minute           2 non-null int64\n",
      "tariff_name              2 non-null object\n",
      "dtypes: int64(7), object(1)\n",
      "memory usage: 256.0+ bytes\n"
     ]
    },
    {
     "data": {
      "text/plain": [
       "None"
      ]
     },
     "metadata": {},
     "output_type": "display_data"
    },
    {
     "name": "stdout",
     "output_type": "stream",
     "text": [
      "<class 'pandas.core.frame.DataFrame'>\n",
      "RangeIndex: 500 entries, 0 to 499\n",
      "Data columns (total 8 columns):\n",
      "user_id       500 non-null int64\n",
      "age           500 non-null int64\n",
      "churn_date    38 non-null object\n",
      "city          500 non-null object\n",
      "first_name    500 non-null object\n",
      "last_name     500 non-null object\n",
      "reg_date      500 non-null object\n",
      "tariff        500 non-null object\n",
      "dtypes: int64(2), object(6)\n",
      "memory usage: 31.4+ KB\n"
     ]
    },
    {
     "data": {
      "text/plain": [
       "None"
      ]
     },
     "metadata": {},
     "output_type": "display_data"
    }
   ],
   "source": [
    "for data in list_of_data:\n",
    "    display(data.info())     "
   ]
  },
  {
   "cell_type": "markdown",
   "id": "84251424",
   "metadata": {},
   "source": [
    "- Всего представлены данные о звонках и сообщениях 500 пользователей.\n",
    "- Рассмотрев таблицы, мы обнаружили отсутствующие значения только в таблице data_users в столбце с датой прекращения пользования тарифом. В данном случае, если значение пропущено, то тариф ещё действовал на момент выгрузки данных. Нам не нужно обрабатывать эти пропуски.\n",
    "- Во всех таблицах с датами данные необходимо привести к формату *datetime* для последующей работы с датой.\n",
    "- В таблицах data_calls, data_internet количество минут звонков и мегабайт для интернет сессий  указаны с точностью до нескольких знаков после запятой. Нам необходимо в соответствии с тарифными планами округлить звонки до минут, а интернет трафик до гигабайт. Далее необходимо привести эти данные к целочисленному типу.\n",
    "- В таблицах data_calls, data_internet, data_messages добавить столбец с месяцем оказания услуги и общим количеством оказанных услуг за месяц для последующего объединения таблиц."
   ]
  },
  {
   "cell_type": "markdown",
   "id": "76ceeddc",
   "metadata": {},
   "source": [
    "### Вывод\n",
    "Приведем данные к соответствующим типам, а также добавим в таблицу необходимую информацию для последующего анализа."
   ]
  },
  {
   "cell_type": "markdown",
   "id": "263a7f7e",
   "metadata": {},
   "source": [
    "## Предобработка данных"
   ]
  },
  {
   "cell_type": "markdown",
   "id": "39265d55",
   "metadata": {},
   "source": [
    "### Замена типа данных"
   ]
  },
  {
   "cell_type": "markdown",
   "id": "6c1878f8",
   "metadata": {},
   "source": [
    "- **Дата и время**  \n",
    "  \n",
    "В таблицах **data_calls**, **data_internet**, **data_messages** и **data_users** переведем столбцы с датой в формат *datetime*. Также добавим столбец с месяцем оказания услуги."
   ]
  },
  {
   "cell_type": "code",
   "execution_count": 10,
   "id": "c2a19115",
   "metadata": {},
   "outputs": [],
   "source": [
    "# функция замена типа данных на datetime и добавления месяца \n",
    "def set_dt_type_aplly_month(dict_data):\n",
    "    users = ['reg_date', 'churn_date']\n",
    "    for key in dict_data:\n",
    "        data =  dict_data[key]\n",
    "        data[key] = pd.to_datetime(data[key], format='%Y-%m-%d') \n",
    "        if key not in users:\n",
    "            data['month'] =  data[key].dt.month       "
   ]
  },
  {
   "cell_type": "code",
   "execution_count": 11,
   "id": "624c273b",
   "metadata": {},
   "outputs": [],
   "source": [
    "# словарь с датасетами и колонками для перевода в datetime \n",
    "dict_data_dt_type = ({\n",
    "    'call_date': data_calls,\n",
    "    'session_date': data_internet, \n",
    "    'message_date': data_messages,\n",
    "    'reg_date': data_users,\n",
    "    'churn_date': data_users\n",
    "    })"
   ]
  },
  {
   "cell_type": "code",
   "execution_count": 12,
   "id": "b3e99241",
   "metadata": {},
   "outputs": [],
   "source": [
    "set_dt_type_aplly_month(dict_data_dt_type)"
   ]
  },
  {
   "cell_type": "code",
   "execution_count": 13,
   "id": "734fa8d9",
   "metadata": {
    "scrolled": false
   },
   "outputs": [
    {
     "name": "stdout",
     "output_type": "stream",
     "text": [
      "call_date - datetime64[ns]\n",
      "session_date - datetime64[ns]\n",
      "message_date - datetime64[ns]\n",
      "reg_date - datetime64[ns]\n",
      "churn_date - datetime64[ns]\n"
     ]
    }
   ],
   "source": [
    "# проверка\n",
    "for key in dict_data_dt_type:\n",
    "    column_type = dict_data_dt_type[key].dtypes[key]\n",
    "    print(key, '-', column_type)"
   ]
  },
  {
   "cell_type": "markdown",
   "id": "6c715a57",
   "metadata": {},
   "source": [
    "### Вывод\n",
    "Теперь в таблицах все столбцы с датой имеют тип *datetime64*. Также мы добавили столбец с месяцем оказания услуги."
   ]
  },
  {
   "cell_type": "markdown",
   "id": "52cd4ab1",
   "metadata": {},
   "source": [
    "### Поиск и обработка ошибок в данных"
   ]
  },
  {
   "cell_type": "markdown",
   "id": "82bab3d2",
   "metadata": {},
   "source": [
    "Посмотрим статистическое описание данных в талблицах **data_calls** и **data_internet**."
   ]
  },
  {
   "cell_type": "code",
   "execution_count": 14,
   "id": "e39aacbf",
   "metadata": {},
   "outputs": [
    {
     "data": {
      "text/html": [
       "<div>\n",
       "<style scoped>\n",
       "    .dataframe tbody tr th:only-of-type {\n",
       "        vertical-align: middle;\n",
       "    }\n",
       "\n",
       "    .dataframe tbody tr th {\n",
       "        vertical-align: top;\n",
       "    }\n",
       "\n",
       "    .dataframe thead th {\n",
       "        text-align: right;\n",
       "    }\n",
       "</style>\n",
       "<table border=\"1\" class=\"dataframe\">\n",
       "  <thead>\n",
       "    <tr style=\"text-align: right;\">\n",
       "      <th></th>\n",
       "      <th>duration</th>\n",
       "      <th>user_id</th>\n",
       "      <th>month</th>\n",
       "    </tr>\n",
       "  </thead>\n",
       "  <tbody>\n",
       "    <tr>\n",
       "      <td>count</td>\n",
       "      <td>202607.000000</td>\n",
       "      <td>202607.000000</td>\n",
       "      <td>202607.000000</td>\n",
       "    </tr>\n",
       "    <tr>\n",
       "      <td>mean</td>\n",
       "      <td>6.755887</td>\n",
       "      <td>1253.940619</td>\n",
       "      <td>8.574067</td>\n",
       "    </tr>\n",
       "    <tr>\n",
       "      <td>std</td>\n",
       "      <td>5.843365</td>\n",
       "      <td>144.722751</td>\n",
       "      <td>2.787093</td>\n",
       "    </tr>\n",
       "    <tr>\n",
       "      <td>min</td>\n",
       "      <td>0.000000</td>\n",
       "      <td>1000.000000</td>\n",
       "      <td>1.000000</td>\n",
       "    </tr>\n",
       "    <tr>\n",
       "      <td>25%</td>\n",
       "      <td>1.300000</td>\n",
       "      <td>1126.000000</td>\n",
       "      <td>7.000000</td>\n",
       "    </tr>\n",
       "    <tr>\n",
       "      <td>50%</td>\n",
       "      <td>6.000000</td>\n",
       "      <td>1260.000000</td>\n",
       "      <td>9.000000</td>\n",
       "    </tr>\n",
       "    <tr>\n",
       "      <td>75%</td>\n",
       "      <td>10.700000</td>\n",
       "      <td>1379.000000</td>\n",
       "      <td>11.000000</td>\n",
       "    </tr>\n",
       "    <tr>\n",
       "      <td>max</td>\n",
       "      <td>38.000000</td>\n",
       "      <td>1499.000000</td>\n",
       "      <td>12.000000</td>\n",
       "    </tr>\n",
       "  </tbody>\n",
       "</table>\n",
       "</div>"
      ],
      "text/plain": [
       "            duration        user_id          month\n",
       "count  202607.000000  202607.000000  202607.000000\n",
       "mean        6.755887    1253.940619       8.574067\n",
       "std         5.843365     144.722751       2.787093\n",
       "min         0.000000    1000.000000       1.000000\n",
       "25%         1.300000    1126.000000       7.000000\n",
       "50%         6.000000    1260.000000       9.000000\n",
       "75%        10.700000    1379.000000      11.000000\n",
       "max        38.000000    1499.000000      12.000000"
      ]
     },
     "metadata": {},
     "output_type": "display_data"
    },
    {
     "data": {
      "text/html": [
       "<div>\n",
       "<style scoped>\n",
       "    .dataframe tbody tr th:only-of-type {\n",
       "        vertical-align: middle;\n",
       "    }\n",
       "\n",
       "    .dataframe tbody tr th {\n",
       "        vertical-align: top;\n",
       "    }\n",
       "\n",
       "    .dataframe thead th {\n",
       "        text-align: right;\n",
       "    }\n",
       "</style>\n",
       "<table border=\"1\" class=\"dataframe\">\n",
       "  <thead>\n",
       "    <tr style=\"text-align: right;\">\n",
       "      <th></th>\n",
       "      <th>Unnamed: 0</th>\n",
       "      <th>mb_used</th>\n",
       "      <th>user_id</th>\n",
       "      <th>month</th>\n",
       "    </tr>\n",
       "  </thead>\n",
       "  <tbody>\n",
       "    <tr>\n",
       "      <td>count</td>\n",
       "      <td>149396.000000</td>\n",
       "      <td>149396.000000</td>\n",
       "      <td>149396.000000</td>\n",
       "      <td>149396.000000</td>\n",
       "    </tr>\n",
       "    <tr>\n",
       "      <td>mean</td>\n",
       "      <td>74697.500000</td>\n",
       "      <td>370.192426</td>\n",
       "      <td>1252.099842</td>\n",
       "      <td>8.563315</td>\n",
       "    </tr>\n",
       "    <tr>\n",
       "      <td>std</td>\n",
       "      <td>43127.054745</td>\n",
       "      <td>278.300951</td>\n",
       "      <td>144.050823</td>\n",
       "      <td>2.788717</td>\n",
       "    </tr>\n",
       "    <tr>\n",
       "      <td>min</td>\n",
       "      <td>0.000000</td>\n",
       "      <td>0.000000</td>\n",
       "      <td>1000.000000</td>\n",
       "      <td>1.000000</td>\n",
       "    </tr>\n",
       "    <tr>\n",
       "      <td>25%</td>\n",
       "      <td>37348.750000</td>\n",
       "      <td>138.187500</td>\n",
       "      <td>1130.000000</td>\n",
       "      <td>7.000000</td>\n",
       "    </tr>\n",
       "    <tr>\n",
       "      <td>50%</td>\n",
       "      <td>74697.500000</td>\n",
       "      <td>348.015000</td>\n",
       "      <td>1251.000000</td>\n",
       "      <td>9.000000</td>\n",
       "    </tr>\n",
       "    <tr>\n",
       "      <td>75%</td>\n",
       "      <td>112046.250000</td>\n",
       "      <td>559.552500</td>\n",
       "      <td>1380.000000</td>\n",
       "      <td>11.000000</td>\n",
       "    </tr>\n",
       "    <tr>\n",
       "      <td>max</td>\n",
       "      <td>149395.000000</td>\n",
       "      <td>1724.830000</td>\n",
       "      <td>1499.000000</td>\n",
       "      <td>12.000000</td>\n",
       "    </tr>\n",
       "  </tbody>\n",
       "</table>\n",
       "</div>"
      ],
      "text/plain": [
       "          Unnamed: 0        mb_used        user_id          month\n",
       "count  149396.000000  149396.000000  149396.000000  149396.000000\n",
       "mean    74697.500000     370.192426    1252.099842       8.563315\n",
       "std     43127.054745     278.300951     144.050823       2.788717\n",
       "min         0.000000       0.000000    1000.000000       1.000000\n",
       "25%     37348.750000     138.187500    1130.000000       7.000000\n",
       "50%     74697.500000     348.015000    1251.000000       9.000000\n",
       "75%    112046.250000     559.552500    1380.000000      11.000000\n",
       "max    149395.000000    1724.830000    1499.000000      12.000000"
      ]
     },
     "metadata": {},
     "output_type": "display_data"
    }
   ],
   "source": [
    "i=0\n",
    "for data in list_of_data:\n",
    "    if i < 2:\n",
    "        display(data.describe())\n",
    "        i += 1    "
   ]
  },
  {
   "cell_type": "markdown",
   "id": "02a5929b",
   "metadata": {},
   "source": [
    "В данный о длительности звонков есть нулевые значения - это не ошибки, а пропущенные звонки, поэтому нам не нужно их удалять.  \n",
    "  \n",
    "В данных об интернет сессиях также есть нулевые значения, которые могли возникнуть ошибочно, либо, например, если оператор сотовой связи предоставляет пользователям пользоваться социальными сетями или мессенджерами без расходования интернет трафика. В соответствии с условиями тарифных планов учитывается не каждая отдельная сессия, а общее количество израсходованных мегабайт за месяц. И по итогам месяца израсходованное количество мегабайт округляется до целых гигабайт. Таким образом не нужно удалять интернет сессии с нулевыми значениями, так как они не повлияют на общее количество израсходованного трафика."
   ]
  },
  {
   "cell_type": "markdown",
   "id": "e8845a50",
   "metadata": {},
   "source": [
    "### Вывод\n",
    "В данных о количестве минут звонков и сессиях интернет трафика есть нулевые значения, однако нельзя считать это ошибкой. Для последующего анализа данных дополнительная обработках таких нулевых значений не требуется. "
   ]
  },
  {
   "cell_type": "markdown",
   "id": "6d90d406",
   "metadata": {},
   "source": [
    "### Добавление данных в таблицу"
   ]
  },
  {
   "cell_type": "markdown",
   "id": "a74ab59c",
   "metadata": {},
   "source": [
    "Для каждого пользователя посчитаем и добавим в таблицу:  \n",
    "- количество сделанных звонков и израсходованных минут разговора по месяцам;    \n",
    "- количество отправленных сообщений по месяцам;  \n",
    "- объем израсходованного интернет-трафика по месяцам;  \n",
    "- помесячную выручку с каждого пользователя в соответствии с тарифным планом. "
   ]
  },
  {
   "cell_type": "markdown",
   "id": "ca042198",
   "metadata": {},
   "source": [
    "- **Звонки, интернет трафик и сообщения**"
   ]
  },
  {
   "cell_type": "markdown",
   "id": "da7e8056",
   "metadata": {},
   "source": [
    "В таблицах у нас уже есть столбец с месяцем предоставления услуги. Теперь в соответствии с условиями тарифных планов округлим звонки в большую сторону до целых минут."
   ]
  },
  {
   "cell_type": "code",
   "execution_count": 15,
   "id": "a07df5cd",
   "metadata": {},
   "outputs": [],
   "source": [
    "# округление звонков в большую сторону\n",
    "data_calls['duration'] = data_calls['duration'].apply(math.ceil)"
   ]
  },
  {
   "cell_type": "code",
   "execution_count": 16,
   "id": "8cf76add",
   "metadata": {},
   "outputs": [
    {
     "data": {
      "text/html": [
       "<div>\n",
       "<style scoped>\n",
       "    .dataframe tbody tr th:only-of-type {\n",
       "        vertical-align: middle;\n",
       "    }\n",
       "\n",
       "    .dataframe tbody tr th {\n",
       "        vertical-align: top;\n",
       "    }\n",
       "\n",
       "    .dataframe thead th {\n",
       "        text-align: right;\n",
       "    }\n",
       "</style>\n",
       "<table border=\"1\" class=\"dataframe\">\n",
       "  <thead>\n",
       "    <tr style=\"text-align: right;\">\n",
       "      <th></th>\n",
       "      <th>id</th>\n",
       "      <th>call_date</th>\n",
       "      <th>duration</th>\n",
       "      <th>user_id</th>\n",
       "      <th>month</th>\n",
       "    </tr>\n",
       "  </thead>\n",
       "  <tbody>\n",
       "    <tr>\n",
       "      <td>0</td>\n",
       "      <td>1000_0</td>\n",
       "      <td>2018-07-25</td>\n",
       "      <td>0</td>\n",
       "      <td>1000</td>\n",
       "      <td>7</td>\n",
       "    </tr>\n",
       "    <tr>\n",
       "      <td>1</td>\n",
       "      <td>1000_1</td>\n",
       "      <td>2018-08-17</td>\n",
       "      <td>0</td>\n",
       "      <td>1000</td>\n",
       "      <td>8</td>\n",
       "    </tr>\n",
       "    <tr>\n",
       "      <td>2</td>\n",
       "      <td>1000_2</td>\n",
       "      <td>2018-06-11</td>\n",
       "      <td>3</td>\n",
       "      <td>1000</td>\n",
       "      <td>6</td>\n",
       "    </tr>\n",
       "    <tr>\n",
       "      <td>3</td>\n",
       "      <td>1000_3</td>\n",
       "      <td>2018-09-21</td>\n",
       "      <td>14</td>\n",
       "      <td>1000</td>\n",
       "      <td>9</td>\n",
       "    </tr>\n",
       "    <tr>\n",
       "      <td>4</td>\n",
       "      <td>1000_4</td>\n",
       "      <td>2018-12-15</td>\n",
       "      <td>6</td>\n",
       "      <td>1000</td>\n",
       "      <td>12</td>\n",
       "    </tr>\n",
       "  </tbody>\n",
       "</table>\n",
       "</div>"
      ],
      "text/plain": [
       "       id  call_date  duration  user_id  month\n",
       "0  1000_0 2018-07-25         0     1000      7\n",
       "1  1000_1 2018-08-17         0     1000      8\n",
       "2  1000_2 2018-06-11         3     1000      6\n",
       "3  1000_3 2018-09-21        14     1000      9\n",
       "4  1000_4 2018-12-15         6     1000     12"
      ]
     },
     "execution_count": 16,
     "metadata": {},
     "output_type": "execute_result"
    }
   ],
   "source": [
    "# проверка\n",
    "data_calls.head()"
   ]
  },
  {
   "cell_type": "markdown",
   "id": "9c5f3c06",
   "metadata": {},
   "source": [
    "Звонки округлены до минут, пропущенные звонки остались длительностью 0 минут. "
   ]
  },
  {
   "cell_type": "markdown",
   "id": "45990c88",
   "metadata": {},
   "source": [
    "Посчитаем количество израсходованных абонентом минут, сообщений, интернет трафика и совершенных звонков за каждый месяц. "
   ]
  },
  {
   "cell_type": "code",
   "execution_count": 17,
   "id": "fddba816",
   "metadata": {},
   "outputs": [],
   "source": [
    "# функция для создания сводных таблиц\n",
    "def count_val_per_month(data, col, func):    \n",
    "    data_month = data.pivot_table(index=['user_id', 'month'], values=[col], aggfunc=func)\n",
    "    return data_month"
   ]
  },
  {
   "cell_type": "code",
   "execution_count": 18,
   "id": "e10b98e3",
   "metadata": {},
   "outputs": [],
   "source": [
    "data_calls_month = count_val_per_month(data_calls, 'duration', ['sum', 'count'])"
   ]
  },
  {
   "cell_type": "code",
   "execution_count": 19,
   "id": "daf055bd",
   "metadata": {},
   "outputs": [],
   "source": [
    "data_internet_month = count_val_per_month(data_internet, 'mb_used', ['sum'])"
   ]
  },
  {
   "cell_type": "code",
   "execution_count": 20,
   "id": "c5472e2e",
   "metadata": {},
   "outputs": [],
   "source": [
    "data_messages_month = count_val_per_month(data_messages, 'id', ['count'])"
   ]
  },
  {
   "cell_type": "code",
   "execution_count": 21,
   "id": "25f72777",
   "metadata": {},
   "outputs": [],
   "source": [
    "# переименование колонок в сводных таблицах\n",
    "data_calls_month = data_calls_month.rename(columns={'duration': ''})\n",
    "data_calls_month.columns = ['duration_sum', 'duration_count']\n",
    "data_internet_month.columns = ['mb_used_sum']\n",
    "data_messages_month.columns = ['messages_count']"
   ]
  },
  {
   "cell_type": "markdown",
   "id": "a7740c9a",
   "metadata": {},
   "source": [
    "У нас есть сводная таблица с количеством израходованных мегабайт за месяц. Переведем эти значения в гигабайты и в соответствии с условиями тарифа округлим их в большую сторону до целых единиц."
   ]
  },
  {
   "cell_type": "code",
   "execution_count": 22,
   "id": "fa9ef9a6",
   "metadata": {},
   "outputs": [],
   "source": [
    "# перевод Мб в Гб и округление в большую сторону\n",
    "data_internet_month['gb_used_sum'] = (data_internet_month['mb_used_sum'] / 1024).apply(math.ceil)"
   ]
  },
  {
   "cell_type": "code",
   "execution_count": 23,
   "id": "b9d5b342",
   "metadata": {},
   "outputs": [
    {
     "data": {
      "text/html": [
       "<div>\n",
       "<style scoped>\n",
       "    .dataframe tbody tr th:only-of-type {\n",
       "        vertical-align: middle;\n",
       "    }\n",
       "\n",
       "    .dataframe tbody tr th {\n",
       "        vertical-align: top;\n",
       "    }\n",
       "\n",
       "    .dataframe thead th {\n",
       "        text-align: right;\n",
       "    }\n",
       "</style>\n",
       "<table border=\"1\" class=\"dataframe\">\n",
       "  <thead>\n",
       "    <tr style=\"text-align: right;\">\n",
       "      <th></th>\n",
       "      <th></th>\n",
       "      <th>mb_used_sum</th>\n",
       "      <th>gb_used_sum</th>\n",
       "    </tr>\n",
       "    <tr>\n",
       "      <th>user_id</th>\n",
       "      <th>month</th>\n",
       "      <th></th>\n",
       "      <th></th>\n",
       "    </tr>\n",
       "  </thead>\n",
       "  <tbody>\n",
       "    <tr>\n",
       "      <td rowspan=\"5\" valign=\"top\">1000</td>\n",
       "      <td>5</td>\n",
       "      <td>2253.49</td>\n",
       "      <td>3</td>\n",
       "    </tr>\n",
       "    <tr>\n",
       "      <td>6</td>\n",
       "      <td>23233.77</td>\n",
       "      <td>23</td>\n",
       "    </tr>\n",
       "    <tr>\n",
       "      <td>7</td>\n",
       "      <td>14003.64</td>\n",
       "      <td>14</td>\n",
       "    </tr>\n",
       "    <tr>\n",
       "      <td>8</td>\n",
       "      <td>14055.93</td>\n",
       "      <td>14</td>\n",
       "    </tr>\n",
       "    <tr>\n",
       "      <td>9</td>\n",
       "      <td>14568.91</td>\n",
       "      <td>15</td>\n",
       "    </tr>\n",
       "  </tbody>\n",
       "</table>\n",
       "</div>"
      ],
      "text/plain": [
       "               mb_used_sum  gb_used_sum\n",
       "user_id month                          \n",
       "1000    5          2253.49            3\n",
       "        6         23233.77           23\n",
       "        7         14003.64           14\n",
       "        8         14055.93           14\n",
       "        9         14568.91           15"
      ]
     },
     "execution_count": 23,
     "metadata": {},
     "output_type": "execute_result"
    }
   ],
   "source": [
    "# проверка\n",
    "data_internet_month.head()"
   ]
  },
  {
   "cell_type": "markdown",
   "id": "05cc8314",
   "metadata": {},
   "source": [
    "Объединим все сводные таблицы в одну таблицу. В некоторые месяцы абоненты могли совершать звонки, но не отправлять смс-сообщения. После объединения таблиц, в таких месяцах могут появиться пропуски, поэтому заполним пропущенные значения нулем.  "
   ]
  },
  {
   "cell_type": "code",
   "execution_count": 24,
   "id": "68f8ad16",
   "metadata": {},
   "outputs": [],
   "source": [
    "# объединение таблиц \n",
    "data_full = data_calls_month.join([data_internet_month, data_messages_month], how='outer').fillna(0)"
   ]
  },
  {
   "cell_type": "code",
   "execution_count": 25,
   "id": "af7f0969",
   "metadata": {},
   "outputs": [
    {
     "data": {
      "text/html": [
       "<div>\n",
       "<style scoped>\n",
       "    .dataframe tbody tr th:only-of-type {\n",
       "        vertical-align: middle;\n",
       "    }\n",
       "\n",
       "    .dataframe tbody tr th {\n",
       "        vertical-align: top;\n",
       "    }\n",
       "\n",
       "    .dataframe thead th {\n",
       "        text-align: right;\n",
       "    }\n",
       "</style>\n",
       "<table border=\"1\" class=\"dataframe\">\n",
       "  <thead>\n",
       "    <tr style=\"text-align: right;\">\n",
       "      <th></th>\n",
       "      <th></th>\n",
       "      <th>duration_sum</th>\n",
       "      <th>duration_count</th>\n",
       "      <th>mb_used_sum</th>\n",
       "      <th>gb_used_sum</th>\n",
       "      <th>messages_count</th>\n",
       "    </tr>\n",
       "    <tr>\n",
       "      <th>user_id</th>\n",
       "      <th>month</th>\n",
       "      <th></th>\n",
       "      <th></th>\n",
       "      <th></th>\n",
       "      <th></th>\n",
       "      <th></th>\n",
       "    </tr>\n",
       "  </thead>\n",
       "  <tbody>\n",
       "    <tr>\n",
       "      <td rowspan=\"8\" valign=\"top\">1000</td>\n",
       "      <td>5</td>\n",
       "      <td>159.0</td>\n",
       "      <td>22.0</td>\n",
       "      <td>2253.49</td>\n",
       "      <td>3.0</td>\n",
       "      <td>22.0</td>\n",
       "    </tr>\n",
       "    <tr>\n",
       "      <td>6</td>\n",
       "      <td>172.0</td>\n",
       "      <td>43.0</td>\n",
       "      <td>23233.77</td>\n",
       "      <td>23.0</td>\n",
       "      <td>60.0</td>\n",
       "    </tr>\n",
       "    <tr>\n",
       "      <td>7</td>\n",
       "      <td>340.0</td>\n",
       "      <td>47.0</td>\n",
       "      <td>14003.64</td>\n",
       "      <td>14.0</td>\n",
       "      <td>75.0</td>\n",
       "    </tr>\n",
       "    <tr>\n",
       "      <td>8</td>\n",
       "      <td>408.0</td>\n",
       "      <td>52.0</td>\n",
       "      <td>14055.93</td>\n",
       "      <td>14.0</td>\n",
       "      <td>81.0</td>\n",
       "    </tr>\n",
       "    <tr>\n",
       "      <td>9</td>\n",
       "      <td>466.0</td>\n",
       "      <td>58.0</td>\n",
       "      <td>14568.91</td>\n",
       "      <td>15.0</td>\n",
       "      <td>57.0</td>\n",
       "    </tr>\n",
       "    <tr>\n",
       "      <td>10</td>\n",
       "      <td>350.0</td>\n",
       "      <td>57.0</td>\n",
       "      <td>14702.49</td>\n",
       "      <td>15.0</td>\n",
       "      <td>73.0</td>\n",
       "    </tr>\n",
       "    <tr>\n",
       "      <td>11</td>\n",
       "      <td>338.0</td>\n",
       "      <td>43.0</td>\n",
       "      <td>14756.47</td>\n",
       "      <td>15.0</td>\n",
       "      <td>58.0</td>\n",
       "    </tr>\n",
       "    <tr>\n",
       "      <td>12</td>\n",
       "      <td>333.0</td>\n",
       "      <td>46.0</td>\n",
       "      <td>9817.61</td>\n",
       "      <td>10.0</td>\n",
       "      <td>70.0</td>\n",
       "    </tr>\n",
       "    <tr>\n",
       "      <td rowspan=\"2\" valign=\"top\">1001</td>\n",
       "      <td>11</td>\n",
       "      <td>430.0</td>\n",
       "      <td>59.0</td>\n",
       "      <td>18429.34</td>\n",
       "      <td>18.0</td>\n",
       "      <td>0.0</td>\n",
       "    </tr>\n",
       "    <tr>\n",
       "      <td>12</td>\n",
       "      <td>414.0</td>\n",
       "      <td>63.0</td>\n",
       "      <td>14036.66</td>\n",
       "      <td>14.0</td>\n",
       "      <td>0.0</td>\n",
       "    </tr>\n",
       "  </tbody>\n",
       "</table>\n",
       "</div>"
      ],
      "text/plain": [
       "               duration_sum  duration_count  mb_used_sum  gb_used_sum  \\\n",
       "user_id month                                                           \n",
       "1000    5             159.0            22.0      2253.49          3.0   \n",
       "        6             172.0            43.0     23233.77         23.0   \n",
       "        7             340.0            47.0     14003.64         14.0   \n",
       "        8             408.0            52.0     14055.93         14.0   \n",
       "        9             466.0            58.0     14568.91         15.0   \n",
       "        10            350.0            57.0     14702.49         15.0   \n",
       "        11            338.0            43.0     14756.47         15.0   \n",
       "        12            333.0            46.0      9817.61         10.0   \n",
       "1001    11            430.0            59.0     18429.34         18.0   \n",
       "        12            414.0            63.0     14036.66         14.0   \n",
       "\n",
       "               messages_count  \n",
       "user_id month                  \n",
       "1000    5                22.0  \n",
       "        6                60.0  \n",
       "        7                75.0  \n",
       "        8                81.0  \n",
       "        9                57.0  \n",
       "        10               73.0  \n",
       "        11               58.0  \n",
       "        12               70.0  \n",
       "1001    11                0.0  \n",
       "        12                0.0  "
      ]
     },
     "execution_count": 25,
     "metadata": {},
     "output_type": "execute_result"
    }
   ],
   "source": [
    "# проверка\n",
    "data_full.head(10)"
   ]
  },
  {
   "cell_type": "code",
   "execution_count": 26,
   "id": "b88508c9",
   "metadata": {
    "scrolled": false
   },
   "outputs": [
    {
     "name": "stdout",
     "output_type": "stream",
     "text": [
      "<class 'pandas.core.frame.DataFrame'>\n",
      "MultiIndex: 3214 entries, (1000, 5) to (1499, 12)\n",
      "Data columns (total 5 columns):\n",
      "duration_sum      3214 non-null float64\n",
      "duration_count    3214 non-null float64\n",
      "mb_used_sum       3214 non-null float64\n",
      "gb_used_sum       3214 non-null float64\n",
      "messages_count    3214 non-null float64\n",
      "dtypes: float64(5)\n",
      "memory usage: 139.1 KB\n"
     ]
    }
   ],
   "source": [
    "# проверка\n",
    "data_full.info()"
   ]
  },
  {
   "cell_type": "markdown",
   "id": "78988c20",
   "metadata": {},
   "source": [
    "Таблицы объединены, пропусков нет."
   ]
  },
  {
   "cell_type": "markdown",
   "id": "e53b07cb",
   "metadata": {},
   "source": [
    "Для анализа данных нам необходимо добавить в таблицу данные о тарифном плане и городе проживания абонента. Для этого из таблицы **data_users** создадим словарь, в котором ключем будут *user_id*, а значениями - наименование тарифа и город проживания."
   ]
  },
  {
   "cell_type": "code",
   "execution_count": 27,
   "id": "f44374b2",
   "metadata": {},
   "outputs": [
    {
     "data": {
      "text/html": [
       "<div>\n",
       "<style scoped>\n",
       "    .dataframe tbody tr th:only-of-type {\n",
       "        vertical-align: middle;\n",
       "    }\n",
       "\n",
       "    .dataframe tbody tr th {\n",
       "        vertical-align: top;\n",
       "    }\n",
       "\n",
       "    .dataframe thead th {\n",
       "        text-align: right;\n",
       "    }\n",
       "</style>\n",
       "<table border=\"1\" class=\"dataframe\">\n",
       "  <thead>\n",
       "    <tr style=\"text-align: right;\">\n",
       "      <th></th>\n",
       "      <th>tariff</th>\n",
       "      <th>city</th>\n",
       "    </tr>\n",
       "    <tr>\n",
       "      <th>user_id</th>\n",
       "      <th></th>\n",
       "      <th></th>\n",
       "    </tr>\n",
       "  </thead>\n",
       "  <tbody>\n",
       "    <tr>\n",
       "      <td>1000</td>\n",
       "      <td>ultra</td>\n",
       "      <td>Краснодар</td>\n",
       "    </tr>\n",
       "    <tr>\n",
       "      <td>1001</td>\n",
       "      <td>smart</td>\n",
       "      <td>Москва</td>\n",
       "    </tr>\n",
       "    <tr>\n",
       "      <td>1002</td>\n",
       "      <td>smart</td>\n",
       "      <td>Стерлитамак</td>\n",
       "    </tr>\n",
       "    <tr>\n",
       "      <td>1003</td>\n",
       "      <td>ultra</td>\n",
       "      <td>Москва</td>\n",
       "    </tr>\n",
       "    <tr>\n",
       "      <td>1004</td>\n",
       "      <td>ultra</td>\n",
       "      <td>Новокузнецк</td>\n",
       "    </tr>\n",
       "    <tr>\n",
       "      <td>...</td>\n",
       "      <td>...</td>\n",
       "      <td>...</td>\n",
       "    </tr>\n",
       "    <tr>\n",
       "      <td>1495</td>\n",
       "      <td>ultra</td>\n",
       "      <td>Иркутск</td>\n",
       "    </tr>\n",
       "    <tr>\n",
       "      <td>1496</td>\n",
       "      <td>smart</td>\n",
       "      <td>Вологда</td>\n",
       "    </tr>\n",
       "    <tr>\n",
       "      <td>1497</td>\n",
       "      <td>smart</td>\n",
       "      <td>Челябинск</td>\n",
       "    </tr>\n",
       "    <tr>\n",
       "      <td>1498</td>\n",
       "      <td>smart</td>\n",
       "      <td>Владикавказ</td>\n",
       "    </tr>\n",
       "    <tr>\n",
       "      <td>1499</td>\n",
       "      <td>smart</td>\n",
       "      <td>Пермь</td>\n",
       "    </tr>\n",
       "  </tbody>\n",
       "</table>\n",
       "<p>500 rows × 2 columns</p>\n",
       "</div>"
      ],
      "text/plain": [
       "        tariff         city\n",
       "user_id                    \n",
       "1000     ultra    Краснодар\n",
       "1001     smart       Москва\n",
       "1002     smart  Стерлитамак\n",
       "1003     ultra       Москва\n",
       "1004     ultra  Новокузнецк\n",
       "...        ...          ...\n",
       "1495     ultra      Иркутск\n",
       "1496     smart      Вологда\n",
       "1497     smart    Челябинск\n",
       "1498     smart  Владикавказ\n",
       "1499     smart        Пермь\n",
       "\n",
       "[500 rows x 2 columns]"
      ]
     },
     "execution_count": 27,
     "metadata": {},
     "output_type": "execute_result"
    }
   ],
   "source": [
    "# создание словаря с тарифами и городом проживания абонентов\n",
    "users_tariff_city = data_users[['user_id','tariff', 'city']]\n",
    "users_tariff_city = users_tariff_city.set_index('user_id')\n",
    "users_tariff_city"
   ]
  },
  {
   "cell_type": "markdown",
   "id": "f129745d",
   "metadata": {},
   "source": [
    "Теперь присоеденим получившуюся таблицу к общей таблице с расчетными данными."
   ]
  },
  {
   "cell_type": "code",
   "execution_count": 28,
   "id": "ea191af1",
   "metadata": {},
   "outputs": [],
   "source": [
    "# соединение таблиц\n",
    "data_full = data_full.join(users_tariff_city, how='outer')"
   ]
  },
  {
   "cell_type": "code",
   "execution_count": 29,
   "id": "73357845",
   "metadata": {},
   "outputs": [],
   "source": [
    "# удаление индексов и приведение к типу int\n",
    "data_full.reset_index(inplace=True)\n",
    "data_full = data_full.astype({'duration_sum': 'int64', 'duration_count': 'int64', 'gb_used_sum': 'int64',  'messages_count': 'int64'})   "
   ]
  },
  {
   "cell_type": "code",
   "execution_count": 30,
   "id": "f541273a",
   "metadata": {},
   "outputs": [
    {
     "data": {
      "text/html": [
       "<div>\n",
       "<style scoped>\n",
       "    .dataframe tbody tr th:only-of-type {\n",
       "        vertical-align: middle;\n",
       "    }\n",
       "\n",
       "    .dataframe tbody tr th {\n",
       "        vertical-align: top;\n",
       "    }\n",
       "\n",
       "    .dataframe thead th {\n",
       "        text-align: right;\n",
       "    }\n",
       "</style>\n",
       "<table border=\"1\" class=\"dataframe\">\n",
       "  <thead>\n",
       "    <tr style=\"text-align: right;\">\n",
       "      <th></th>\n",
       "      <th>user_id</th>\n",
       "      <th>month</th>\n",
       "      <th>duration_sum</th>\n",
       "      <th>duration_count</th>\n",
       "      <th>mb_used_sum</th>\n",
       "      <th>gb_used_sum</th>\n",
       "      <th>messages_count</th>\n",
       "      <th>tariff</th>\n",
       "      <th>city</th>\n",
       "    </tr>\n",
       "  </thead>\n",
       "  <tbody>\n",
       "    <tr>\n",
       "      <td>0</td>\n",
       "      <td>1000</td>\n",
       "      <td>5</td>\n",
       "      <td>159</td>\n",
       "      <td>22</td>\n",
       "      <td>2253.49</td>\n",
       "      <td>3</td>\n",
       "      <td>22</td>\n",
       "      <td>ultra</td>\n",
       "      <td>Краснодар</td>\n",
       "    </tr>\n",
       "    <tr>\n",
       "      <td>1</td>\n",
       "      <td>1000</td>\n",
       "      <td>6</td>\n",
       "      <td>172</td>\n",
       "      <td>43</td>\n",
       "      <td>23233.77</td>\n",
       "      <td>23</td>\n",
       "      <td>60</td>\n",
       "      <td>ultra</td>\n",
       "      <td>Краснодар</td>\n",
       "    </tr>\n",
       "    <tr>\n",
       "      <td>2</td>\n",
       "      <td>1000</td>\n",
       "      <td>7</td>\n",
       "      <td>340</td>\n",
       "      <td>47</td>\n",
       "      <td>14003.64</td>\n",
       "      <td>14</td>\n",
       "      <td>75</td>\n",
       "      <td>ultra</td>\n",
       "      <td>Краснодар</td>\n",
       "    </tr>\n",
       "    <tr>\n",
       "      <td>3</td>\n",
       "      <td>1000</td>\n",
       "      <td>8</td>\n",
       "      <td>408</td>\n",
       "      <td>52</td>\n",
       "      <td>14055.93</td>\n",
       "      <td>14</td>\n",
       "      <td>81</td>\n",
       "      <td>ultra</td>\n",
       "      <td>Краснодар</td>\n",
       "    </tr>\n",
       "    <tr>\n",
       "      <td>4</td>\n",
       "      <td>1000</td>\n",
       "      <td>9</td>\n",
       "      <td>466</td>\n",
       "      <td>58</td>\n",
       "      <td>14568.91</td>\n",
       "      <td>15</td>\n",
       "      <td>57</td>\n",
       "      <td>ultra</td>\n",
       "      <td>Краснодар</td>\n",
       "    </tr>\n",
       "    <tr>\n",
       "      <td>...</td>\n",
       "      <td>...</td>\n",
       "      <td>...</td>\n",
       "      <td>...</td>\n",
       "      <td>...</td>\n",
       "      <td>...</td>\n",
       "      <td>...</td>\n",
       "      <td>...</td>\n",
       "      <td>...</td>\n",
       "      <td>...</td>\n",
       "    </tr>\n",
       "    <tr>\n",
       "      <td>3209</td>\n",
       "      <td>1498</td>\n",
       "      <td>10</td>\n",
       "      <td>247</td>\n",
       "      <td>41</td>\n",
       "      <td>20579.36</td>\n",
       "      <td>21</td>\n",
       "      <td>42</td>\n",
       "      <td>smart</td>\n",
       "      <td>Владикавказ</td>\n",
       "    </tr>\n",
       "    <tr>\n",
       "      <td>3210</td>\n",
       "      <td>1499</td>\n",
       "      <td>9</td>\n",
       "      <td>70</td>\n",
       "      <td>9</td>\n",
       "      <td>1845.75</td>\n",
       "      <td>2</td>\n",
       "      <td>11</td>\n",
       "      <td>smart</td>\n",
       "      <td>Пермь</td>\n",
       "    </tr>\n",
       "    <tr>\n",
       "      <td>3211</td>\n",
       "      <td>1499</td>\n",
       "      <td>10</td>\n",
       "      <td>449</td>\n",
       "      <td>68</td>\n",
       "      <td>17788.51</td>\n",
       "      <td>18</td>\n",
       "      <td>48</td>\n",
       "      <td>smart</td>\n",
       "      <td>Пермь</td>\n",
       "    </tr>\n",
       "    <tr>\n",
       "      <td>3212</td>\n",
       "      <td>1499</td>\n",
       "      <td>11</td>\n",
       "      <td>612</td>\n",
       "      <td>74</td>\n",
       "      <td>17963.31</td>\n",
       "      <td>18</td>\n",
       "      <td>59</td>\n",
       "      <td>smart</td>\n",
       "      <td>Пермь</td>\n",
       "    </tr>\n",
       "    <tr>\n",
       "      <td>3213</td>\n",
       "      <td>1499</td>\n",
       "      <td>12</td>\n",
       "      <td>492</td>\n",
       "      <td>69</td>\n",
       "      <td>13055.58</td>\n",
       "      <td>13</td>\n",
       "      <td>66</td>\n",
       "      <td>smart</td>\n",
       "      <td>Пермь</td>\n",
       "    </tr>\n",
       "  </tbody>\n",
       "</table>\n",
       "<p>3214 rows × 9 columns</p>\n",
       "</div>"
      ],
      "text/plain": [
       "      user_id  month  duration_sum  duration_count  mb_used_sum  gb_used_sum  \\\n",
       "0        1000      5           159              22      2253.49            3   \n",
       "1        1000      6           172              43     23233.77           23   \n",
       "2        1000      7           340              47     14003.64           14   \n",
       "3        1000      8           408              52     14055.93           14   \n",
       "4        1000      9           466              58     14568.91           15   \n",
       "...       ...    ...           ...             ...          ...          ...   \n",
       "3209     1498     10           247              41     20579.36           21   \n",
       "3210     1499      9            70               9      1845.75            2   \n",
       "3211     1499     10           449              68     17788.51           18   \n",
       "3212     1499     11           612              74     17963.31           18   \n",
       "3213     1499     12           492              69     13055.58           13   \n",
       "\n",
       "      messages_count tariff         city  \n",
       "0                 22  ultra    Краснодар  \n",
       "1                 60  ultra    Краснодар  \n",
       "2                 75  ultra    Краснодар  \n",
       "3                 81  ultra    Краснодар  \n",
       "4                 57  ultra    Краснодар  \n",
       "...              ...    ...          ...  \n",
       "3209              42  smart  Владикавказ  \n",
       "3210              11  smart        Пермь  \n",
       "3211              48  smart        Пермь  \n",
       "3212              59  smart        Пермь  \n",
       "3213              66  smart        Пермь  \n",
       "\n",
       "[3214 rows x 9 columns]"
      ]
     },
     "execution_count": 30,
     "metadata": {},
     "output_type": "execute_result"
    }
   ],
   "source": [
    "# проверка\n",
    "data_full"
   ]
  },
  {
   "cell_type": "markdown",
   "id": "8263d09a",
   "metadata": {},
   "source": [
    "- **Помесячная выручка с каждого пользователя в соответствии с тарифным планом**"
   ]
  },
  {
   "cell_type": "markdown",
   "id": "4edab46f",
   "metadata": {},
   "source": [
    "Для того, чтобы рассчитать помесячную выручку с каждого абонента вычтем бесплатный лимит из суммарного количества звонков, сообщений и интернет-трафика. Остаток умножим на значение из тарифного плана и прибавим абонентскую плату, соответствующую тарифному плану. "
   ]
  },
  {
   "cell_type": "code",
   "execution_count": 31,
   "id": "498b4c21",
   "metadata": {},
   "outputs": [],
   "source": [
    "# функция расчета выручки со звонков сверх лимита + абонентская плата в соответствии с тарифным планом\n",
    "def calc_profit_calls(row):\n",
    "    if row['tariff'] == 'smart':\n",
    "        if row['duration_sum'] > data_tariffs.loc[0, 'minutes_included']:\n",
    "            profit_calls = (row['duration_sum'] - data_tariffs.loc[0, 'minutes_included']) * data_tariffs.loc[0, 'rub_per_minute'] + data_tariffs.loc[0, 'rub_monthly_fee']\n",
    "        else:\n",
    "            profit_calls = data_tariffs.loc[0, 'rub_monthly_fee']\n",
    "    else: \n",
    "        if row['duration_sum'] > data_tariffs.loc[1, 'minutes_included']:\n",
    "            profit_calls = (row['duration_sum'] - data_tariffs.loc[1, 'minutes_included']) * data_tariffs.loc[1, 'rub_per_minute'] + data_tariffs.loc[1, 'rub_monthly_fee']\n",
    "        else:\n",
    "            profit_calls = data_tariffs.loc[1, 'rub_monthly_fee']\n",
    "    return profit_calls"
   ]
  },
  {
   "cell_type": "code",
   "execution_count": 32,
   "id": "e6c1f04b",
   "metadata": {},
   "outputs": [],
   "source": [
    "#  функция расчета выручки с интернет трафика сверх лимита\n",
    "def calc_profit_internet(row):    \n",
    "    if row['tariff'] == 'smart':\n",
    "        if row['gb_used_sum'] > (data_tariffs.loc[0, 'mb_per_month_included'])/1024:\n",
    "            profit_internet = (row['gb_used_sum'] - ((data_tariffs.loc[0, 'mb_per_month_included'])/1024)) * data_tariffs.loc[0, 'rub_per_gb'] \n",
    "        else:\n",
    "            profit_internet = 0\n",
    "    else:\n",
    "        if row['gb_used_sum'] > (data_tariffs.loc[1, 'mb_per_month_included'])/1024:\n",
    "            profit_internet = (row['gb_used_sum'] - ((data_tariffs.loc[1, 'mb_per_month_included'])/1024)) * data_tariffs.loc[1, 'rub_per_gb']    \n",
    "        else:            \n",
    "            profit_internet = 0\n",
    "    return profit_internet"
   ]
  },
  {
   "cell_type": "code",
   "execution_count": 33,
   "id": "019acd16",
   "metadata": {},
   "outputs": [],
   "source": [
    "#  функция расчета выручки с сообщений сверх лимита\n",
    "def calc_profit_messages(row):    \n",
    "    if row['tariff'] == 'smart':\n",
    "        if row['messages_count'] > data_tariffs.loc[0, 'messages_included']:\n",
    "            profit_messages = (row['messages_count'] - data_tariffs.loc[0, 'messages_included']) * data_tariffs.loc[0, 'rub_per_message'] \n",
    "        else:\n",
    "            profit_messages = 0\n",
    "    else:\n",
    "        if row['messages_count'] > data_tariffs.loc[1, 'messages_included']:\n",
    "            profit_messages = (row['messages_count'] - data_tariffs.loc[1, 'messages_included']) * data_tariffs.loc[1, 'rub_per_message'] \n",
    "        else:            \n",
    "            profit_messages = 0\n",
    "    return profit_messages"
   ]
  },
  {
   "cell_type": "code",
   "execution_count": 34,
   "id": "df5c4f4c",
   "metadata": {},
   "outputs": [],
   "source": [
    "#  функция суммирования всех видов выручки и добавления в таблицу data_full\n",
    "def calc_profit(row):\n",
    "    row = row\n",
    "    profit_calls = calc_profit_calls(row)\n",
    "    profit_internet = calc_profit_internet(row)\n",
    "    profit_messages = calc_profit_messages(row)\n",
    "    profit = profit_calls + profit_internet + profit_messages\n",
    "    return profit"
   ]
  },
  {
   "cell_type": "code",
   "execution_count": 35,
   "id": "588db8b5",
   "metadata": {},
   "outputs": [],
   "source": [
    "data_full['profit'] = data_full.apply(calc_profit, axis=1)"
   ]
  },
  {
   "cell_type": "code",
   "execution_count": 36,
   "id": "e2139386",
   "metadata": {},
   "outputs": [
    {
     "data": {
      "text/html": [
       "<div>\n",
       "<style scoped>\n",
       "    .dataframe tbody tr th:only-of-type {\n",
       "        vertical-align: middle;\n",
       "    }\n",
       "\n",
       "    .dataframe tbody tr th {\n",
       "        vertical-align: top;\n",
       "    }\n",
       "\n",
       "    .dataframe thead th {\n",
       "        text-align: right;\n",
       "    }\n",
       "</style>\n",
       "<table border=\"1\" class=\"dataframe\">\n",
       "  <thead>\n",
       "    <tr style=\"text-align: right;\">\n",
       "      <th></th>\n",
       "      <th>user_id</th>\n",
       "      <th>month</th>\n",
       "      <th>duration_sum</th>\n",
       "      <th>duration_count</th>\n",
       "      <th>mb_used_sum</th>\n",
       "      <th>gb_used_sum</th>\n",
       "      <th>messages_count</th>\n",
       "      <th>tariff</th>\n",
       "      <th>city</th>\n",
       "      <th>profit</th>\n",
       "    </tr>\n",
       "  </thead>\n",
       "  <tbody>\n",
       "    <tr>\n",
       "      <td>0</td>\n",
       "      <td>1000</td>\n",
       "      <td>5</td>\n",
       "      <td>159</td>\n",
       "      <td>22</td>\n",
       "      <td>2253.49</td>\n",
       "      <td>3</td>\n",
       "      <td>22</td>\n",
       "      <td>ultra</td>\n",
       "      <td>Краснодар</td>\n",
       "      <td>1950.0</td>\n",
       "    </tr>\n",
       "    <tr>\n",
       "      <td>1</td>\n",
       "      <td>1000</td>\n",
       "      <td>6</td>\n",
       "      <td>172</td>\n",
       "      <td>43</td>\n",
       "      <td>23233.77</td>\n",
       "      <td>23</td>\n",
       "      <td>60</td>\n",
       "      <td>ultra</td>\n",
       "      <td>Краснодар</td>\n",
       "      <td>1950.0</td>\n",
       "    </tr>\n",
       "    <tr>\n",
       "      <td>2</td>\n",
       "      <td>1000</td>\n",
       "      <td>7</td>\n",
       "      <td>340</td>\n",
       "      <td>47</td>\n",
       "      <td>14003.64</td>\n",
       "      <td>14</td>\n",
       "      <td>75</td>\n",
       "      <td>ultra</td>\n",
       "      <td>Краснодар</td>\n",
       "      <td>1950.0</td>\n",
       "    </tr>\n",
       "    <tr>\n",
       "      <td>3</td>\n",
       "      <td>1000</td>\n",
       "      <td>8</td>\n",
       "      <td>408</td>\n",
       "      <td>52</td>\n",
       "      <td>14055.93</td>\n",
       "      <td>14</td>\n",
       "      <td>81</td>\n",
       "      <td>ultra</td>\n",
       "      <td>Краснодар</td>\n",
       "      <td>1950.0</td>\n",
       "    </tr>\n",
       "    <tr>\n",
       "      <td>4</td>\n",
       "      <td>1000</td>\n",
       "      <td>9</td>\n",
       "      <td>466</td>\n",
       "      <td>58</td>\n",
       "      <td>14568.91</td>\n",
       "      <td>15</td>\n",
       "      <td>57</td>\n",
       "      <td>ultra</td>\n",
       "      <td>Краснодар</td>\n",
       "      <td>1950.0</td>\n",
       "    </tr>\n",
       "    <tr>\n",
       "      <td>5</td>\n",
       "      <td>1000</td>\n",
       "      <td>10</td>\n",
       "      <td>350</td>\n",
       "      <td>57</td>\n",
       "      <td>14702.49</td>\n",
       "      <td>15</td>\n",
       "      <td>73</td>\n",
       "      <td>ultra</td>\n",
       "      <td>Краснодар</td>\n",
       "      <td>1950.0</td>\n",
       "    </tr>\n",
       "    <tr>\n",
       "      <td>6</td>\n",
       "      <td>1000</td>\n",
       "      <td>11</td>\n",
       "      <td>338</td>\n",
       "      <td>43</td>\n",
       "      <td>14756.47</td>\n",
       "      <td>15</td>\n",
       "      <td>58</td>\n",
       "      <td>ultra</td>\n",
       "      <td>Краснодар</td>\n",
       "      <td>1950.0</td>\n",
       "    </tr>\n",
       "    <tr>\n",
       "      <td>7</td>\n",
       "      <td>1000</td>\n",
       "      <td>12</td>\n",
       "      <td>333</td>\n",
       "      <td>46</td>\n",
       "      <td>9817.61</td>\n",
       "      <td>10</td>\n",
       "      <td>70</td>\n",
       "      <td>ultra</td>\n",
       "      <td>Краснодар</td>\n",
       "      <td>1950.0</td>\n",
       "    </tr>\n",
       "    <tr>\n",
       "      <td>8</td>\n",
       "      <td>1001</td>\n",
       "      <td>11</td>\n",
       "      <td>430</td>\n",
       "      <td>59</td>\n",
       "      <td>18429.34</td>\n",
       "      <td>18</td>\n",
       "      <td>0</td>\n",
       "      <td>smart</td>\n",
       "      <td>Москва</td>\n",
       "      <td>1150.0</td>\n",
       "    </tr>\n",
       "    <tr>\n",
       "      <td>9</td>\n",
       "      <td>1001</td>\n",
       "      <td>12</td>\n",
       "      <td>414</td>\n",
       "      <td>63</td>\n",
       "      <td>14036.66</td>\n",
       "      <td>14</td>\n",
       "      <td>0</td>\n",
       "      <td>smart</td>\n",
       "      <td>Москва</td>\n",
       "      <td>550.0</td>\n",
       "    </tr>\n",
       "  </tbody>\n",
       "</table>\n",
       "</div>"
      ],
      "text/plain": [
       "   user_id  month  duration_sum  duration_count  mb_used_sum  gb_used_sum  \\\n",
       "0     1000      5           159              22      2253.49            3   \n",
       "1     1000      6           172              43     23233.77           23   \n",
       "2     1000      7           340              47     14003.64           14   \n",
       "3     1000      8           408              52     14055.93           14   \n",
       "4     1000      9           466              58     14568.91           15   \n",
       "5     1000     10           350              57     14702.49           15   \n",
       "6     1000     11           338              43     14756.47           15   \n",
       "7     1000     12           333              46      9817.61           10   \n",
       "8     1001     11           430              59     18429.34           18   \n",
       "9     1001     12           414              63     14036.66           14   \n",
       "\n",
       "   messages_count tariff       city  profit  \n",
       "0              22  ultra  Краснодар  1950.0  \n",
       "1              60  ultra  Краснодар  1950.0  \n",
       "2              75  ultra  Краснодар  1950.0  \n",
       "3              81  ultra  Краснодар  1950.0  \n",
       "4              57  ultra  Краснодар  1950.0  \n",
       "5              73  ultra  Краснодар  1950.0  \n",
       "6              58  ultra  Краснодар  1950.0  \n",
       "7              70  ultra  Краснодар  1950.0  \n",
       "8               0  smart     Москва  1150.0  \n",
       "9               0  smart     Москва   550.0  "
      ]
     },
     "execution_count": 36,
     "metadata": {},
     "output_type": "execute_result"
    }
   ],
   "source": [
    "# проверка\n",
    "data_full.head(10)"
   ]
  },
  {
   "cell_type": "markdown",
   "id": "cb799910",
   "metadata": {},
   "source": [
    "### Вывод\n",
    "На основе имеющихся таблиц с данными мы создали сводную таблицу **data_full**, в которую добавили для каждого пользователя количество сделанных звонков и израсходованных минут, отправленных сообщений и израсходованного интернет-трафика по месяцам. Посчитали помесячную выручку с каждого пользователя в соответствии с тарифным планом. Также добавили в таблицу наименование тарифного плана и город пользователя."
   ]
  },
  {
   "cell_type": "markdown",
   "id": "7024a15a",
   "metadata": {},
   "source": [
    "## Исследовательский анализ данных"
   ]
  },
  {
   "cell_type": "markdown",
   "id": "0494807b",
   "metadata": {},
   "source": [
    "- **Изучим поведение клиентов оператора, исходя из выборки: сколько минут разговора, сколько сообщений и какой объём интернет-трафика требуется пользователям каждого тарифа в месяц**"
   ]
  },
  {
   "cell_type": "markdown",
   "id": "dcebd763",
   "metadata": {},
   "source": [
    "Используем описательную статистику для каждого тарифного плана."
   ]
  },
  {
   "cell_type": "code",
   "execution_count": 37,
   "id": "ce9e4a4c",
   "metadata": {
    "scrolled": false
   },
   "outputs": [
    {
     "data": {
      "text/html": [
       "<div>\n",
       "<style scoped>\n",
       "    .dataframe tbody tr th:only-of-type {\n",
       "        vertical-align: middle;\n",
       "    }\n",
       "\n",
       "    .dataframe tbody tr th {\n",
       "        vertical-align: top;\n",
       "    }\n",
       "\n",
       "    .dataframe thead th {\n",
       "        text-align: right;\n",
       "    }\n",
       "</style>\n",
       "<table border=\"1\" class=\"dataframe\">\n",
       "  <thead>\n",
       "    <tr style=\"text-align: right;\">\n",
       "      <th></th>\n",
       "      <th>user_id</th>\n",
       "      <th>month</th>\n",
       "      <th>duration_sum</th>\n",
       "      <th>duration_count</th>\n",
       "      <th>mb_used_sum</th>\n",
       "      <th>gb_used_sum</th>\n",
       "      <th>messages_count</th>\n",
       "      <th>profit</th>\n",
       "    </tr>\n",
       "  </thead>\n",
       "  <tbody>\n",
       "    <tr>\n",
       "      <td>count</td>\n",
       "      <td>2229.000000</td>\n",
       "      <td>2229.000000</td>\n",
       "      <td>2229.000000</td>\n",
       "      <td>2229.000000</td>\n",
       "      <td>2229.000000</td>\n",
       "      <td>2229.000000</td>\n",
       "      <td>2229.000000</td>\n",
       "      <td>2229.000000</td>\n",
       "    </tr>\n",
       "    <tr>\n",
       "      <td>mean</td>\n",
       "      <td>1246.506505</td>\n",
       "      <td>8.346792</td>\n",
       "      <td>417.934948</td>\n",
       "      <td>58.463437</td>\n",
       "      <td>16208.386990</td>\n",
       "      <td>16.328847</td>\n",
       "      <td>33.384029</td>\n",
       "      <td>1289.973531</td>\n",
       "    </tr>\n",
       "    <tr>\n",
       "      <td>std</td>\n",
       "      <td>146.119496</td>\n",
       "      <td>2.920316</td>\n",
       "      <td>190.313730</td>\n",
       "      <td>25.939858</td>\n",
       "      <td>5870.476681</td>\n",
       "      <td>5.747061</td>\n",
       "      <td>28.227876</td>\n",
       "      <td>818.404367</td>\n",
       "    </tr>\n",
       "    <tr>\n",
       "      <td>min</td>\n",
       "      <td>1001.000000</td>\n",
       "      <td>1.000000</td>\n",
       "      <td>0.000000</td>\n",
       "      <td>0.000000</td>\n",
       "      <td>0.000000</td>\n",
       "      <td>0.000000</td>\n",
       "      <td>0.000000</td>\n",
       "      <td>550.000000</td>\n",
       "    </tr>\n",
       "    <tr>\n",
       "      <td>25%</td>\n",
       "      <td>1121.000000</td>\n",
       "      <td>6.000000</td>\n",
       "      <td>282.000000</td>\n",
       "      <td>40.000000</td>\n",
       "      <td>12643.010000</td>\n",
       "      <td>13.000000</td>\n",
       "      <td>10.000000</td>\n",
       "      <td>550.000000</td>\n",
       "    </tr>\n",
       "    <tr>\n",
       "      <td>50%</td>\n",
       "      <td>1239.000000</td>\n",
       "      <td>9.000000</td>\n",
       "      <td>422.000000</td>\n",
       "      <td>60.000000</td>\n",
       "      <td>16506.840000</td>\n",
       "      <td>17.000000</td>\n",
       "      <td>28.000000</td>\n",
       "      <td>1023.000000</td>\n",
       "    </tr>\n",
       "    <tr>\n",
       "      <td>75%</td>\n",
       "      <td>1376.000000</td>\n",
       "      <td>11.000000</td>\n",
       "      <td>545.000000</td>\n",
       "      <td>76.000000</td>\n",
       "      <td>20042.930000</td>\n",
       "      <td>20.000000</td>\n",
       "      <td>51.000000</td>\n",
       "      <td>1750.000000</td>\n",
       "    </tr>\n",
       "    <tr>\n",
       "      <td>max</td>\n",
       "      <td>1499.000000</td>\n",
       "      <td>12.000000</td>\n",
       "      <td>1435.000000</td>\n",
       "      <td>198.000000</td>\n",
       "      <td>38552.450000</td>\n",
       "      <td>38.000000</td>\n",
       "      <td>143.000000</td>\n",
       "      <td>6770.000000</td>\n",
       "    </tr>\n",
       "  </tbody>\n",
       "</table>\n",
       "</div>"
      ],
      "text/plain": [
       "           user_id        month  duration_sum  duration_count   mb_used_sum  \\\n",
       "count  2229.000000  2229.000000   2229.000000     2229.000000   2229.000000   \n",
       "mean   1246.506505     8.346792    417.934948       58.463437  16208.386990   \n",
       "std     146.119496     2.920316    190.313730       25.939858   5870.476681   \n",
       "min    1001.000000     1.000000      0.000000        0.000000      0.000000   \n",
       "25%    1121.000000     6.000000    282.000000       40.000000  12643.010000   \n",
       "50%    1239.000000     9.000000    422.000000       60.000000  16506.840000   \n",
       "75%    1376.000000    11.000000    545.000000       76.000000  20042.930000   \n",
       "max    1499.000000    12.000000   1435.000000      198.000000  38552.450000   \n",
       "\n",
       "       gb_used_sum  messages_count       profit  \n",
       "count  2229.000000     2229.000000  2229.000000  \n",
       "mean     16.328847       33.384029  1289.973531  \n",
       "std       5.747061       28.227876   818.404367  \n",
       "min       0.000000        0.000000   550.000000  \n",
       "25%      13.000000       10.000000   550.000000  \n",
       "50%      17.000000       28.000000  1023.000000  \n",
       "75%      20.000000       51.000000  1750.000000  \n",
       "max      38.000000      143.000000  6770.000000  "
      ]
     },
     "execution_count": 37,
     "metadata": {},
     "output_type": "execute_result"
    }
   ],
   "source": [
    "data_smart = data_full.query('tariff == \"smart\"')\n",
    "data_smart.describe()"
   ]
  },
  {
   "cell_type": "code",
   "execution_count": 38,
   "id": "0292d317",
   "metadata": {
    "scrolled": true
   },
   "outputs": [
    {
     "data": {
      "text/html": [
       "<div>\n",
       "<style scoped>\n",
       "    .dataframe tbody tr th:only-of-type {\n",
       "        vertical-align: middle;\n",
       "    }\n",
       "\n",
       "    .dataframe tbody tr th {\n",
       "        vertical-align: top;\n",
       "    }\n",
       "\n",
       "    .dataframe thead th {\n",
       "        text-align: right;\n",
       "    }\n",
       "</style>\n",
       "<table border=\"1\" class=\"dataframe\">\n",
       "  <thead>\n",
       "    <tr style=\"text-align: right;\">\n",
       "      <th></th>\n",
       "      <th>user_id</th>\n",
       "      <th>month</th>\n",
       "      <th>duration_sum</th>\n",
       "      <th>duration_count</th>\n",
       "      <th>mb_used_sum</th>\n",
       "      <th>gb_used_sum</th>\n",
       "      <th>messages_count</th>\n",
       "      <th>profit</th>\n",
       "    </tr>\n",
       "  </thead>\n",
       "  <tbody>\n",
       "    <tr>\n",
       "      <td>count</td>\n",
       "      <td>985.000000</td>\n",
       "      <td>985.000000</td>\n",
       "      <td>985.000000</td>\n",
       "      <td>985.000000</td>\n",
       "      <td>985.000000</td>\n",
       "      <td>985.000000</td>\n",
       "      <td>985.000000</td>\n",
       "      <td>985.000000</td>\n",
       "    </tr>\n",
       "    <tr>\n",
       "      <td>mean</td>\n",
       "      <td>1263.094416</td>\n",
       "      <td>8.250761</td>\n",
       "      <td>526.623350</td>\n",
       "      <td>73.392893</td>\n",
       "      <td>19468.805208</td>\n",
       "      <td>19.494416</td>\n",
       "      <td>49.363452</td>\n",
       "      <td>2070.152284</td>\n",
       "    </tr>\n",
       "    <tr>\n",
       "      <td>std</td>\n",
       "      <td>140.694908</td>\n",
       "      <td>2.871762</td>\n",
       "      <td>317.606098</td>\n",
       "      <td>43.916853</td>\n",
       "      <td>10087.170752</td>\n",
       "      <td>9.853511</td>\n",
       "      <td>47.804457</td>\n",
       "      <td>376.187114</td>\n",
       "    </tr>\n",
       "    <tr>\n",
       "      <td>min</td>\n",
       "      <td>1000.000000</td>\n",
       "      <td>1.000000</td>\n",
       "      <td>0.000000</td>\n",
       "      <td>0.000000</td>\n",
       "      <td>0.000000</td>\n",
       "      <td>0.000000</td>\n",
       "      <td>0.000000</td>\n",
       "      <td>1950.000000</td>\n",
       "    </tr>\n",
       "    <tr>\n",
       "      <td>25%</td>\n",
       "      <td>1143.000000</td>\n",
       "      <td>6.000000</td>\n",
       "      <td>284.000000</td>\n",
       "      <td>41.000000</td>\n",
       "      <td>11770.260000</td>\n",
       "      <td>12.000000</td>\n",
       "      <td>6.000000</td>\n",
       "      <td>1950.000000</td>\n",
       "    </tr>\n",
       "    <tr>\n",
       "      <td>50%</td>\n",
       "      <td>1277.000000</td>\n",
       "      <td>9.000000</td>\n",
       "      <td>518.000000</td>\n",
       "      <td>74.000000</td>\n",
       "      <td>19308.010000</td>\n",
       "      <td>19.000000</td>\n",
       "      <td>38.000000</td>\n",
       "      <td>1950.000000</td>\n",
       "    </tr>\n",
       "    <tr>\n",
       "      <td>75%</td>\n",
       "      <td>1381.000000</td>\n",
       "      <td>11.000000</td>\n",
       "      <td>752.000000</td>\n",
       "      <td>104.000000</td>\n",
       "      <td>26837.690000</td>\n",
       "      <td>27.000000</td>\n",
       "      <td>79.000000</td>\n",
       "      <td>1950.000000</td>\n",
       "    </tr>\n",
       "    <tr>\n",
       "      <td>max</td>\n",
       "      <td>1495.000000</td>\n",
       "      <td>12.000000</td>\n",
       "      <td>1673.000000</td>\n",
       "      <td>244.000000</td>\n",
       "      <td>49745.690000</td>\n",
       "      <td>49.000000</td>\n",
       "      <td>224.000000</td>\n",
       "      <td>4800.000000</td>\n",
       "    </tr>\n",
       "  </tbody>\n",
       "</table>\n",
       "</div>"
      ],
      "text/plain": [
       "           user_id       month  duration_sum  duration_count   mb_used_sum  \\\n",
       "count   985.000000  985.000000    985.000000      985.000000    985.000000   \n",
       "mean   1263.094416    8.250761    526.623350       73.392893  19468.805208   \n",
       "std     140.694908    2.871762    317.606098       43.916853  10087.170752   \n",
       "min    1000.000000    1.000000      0.000000        0.000000      0.000000   \n",
       "25%    1143.000000    6.000000    284.000000       41.000000  11770.260000   \n",
       "50%    1277.000000    9.000000    518.000000       74.000000  19308.010000   \n",
       "75%    1381.000000   11.000000    752.000000      104.000000  26837.690000   \n",
       "max    1495.000000   12.000000   1673.000000      244.000000  49745.690000   \n",
       "\n",
       "       gb_used_sum  messages_count       profit  \n",
       "count   985.000000      985.000000   985.000000  \n",
       "mean     19.494416       49.363452  2070.152284  \n",
       "std       9.853511       47.804457   376.187114  \n",
       "min       0.000000        0.000000  1950.000000  \n",
       "25%      12.000000        6.000000  1950.000000  \n",
       "50%      19.000000       38.000000  1950.000000  \n",
       "75%      27.000000       79.000000  1950.000000  \n",
       "max      49.000000      224.000000  4800.000000  "
      ]
     },
     "execution_count": 38,
     "metadata": {},
     "output_type": "execute_result"
    }
   ],
   "source": [
    "data_ultra = data_full.query('tariff == \"ultra\"')\n",
    "data_ultra.describe()"
   ]
  },
  {
   "cell_type": "markdown",
   "id": "3ef6cff6",
   "metadata": {},
   "source": [
    "Построим гистограммы распределения минут разговора, отправленных сообщений и израходованного интернет-трафика. "
   ]
  },
  {
   "cell_type": "code",
   "execution_count": 39,
   "id": "3beadb68",
   "metadata": {},
   "outputs": [
    {
     "data": {
      "image/png": "[encoded data removed]",
      "text/plain": [
       "<Figure size 720x504 with 1 Axes>"
      ]
     },
     "metadata": {},
     "output_type": "display_data"
    },
    {
     "data": {
      "image/png": "[encoded data removed]",
      "text/plain": [
       "<Figure size 720x504 with 1 Axes>"
      ]
     },
     "metadata": {},
     "output_type": "display_data"
    },
    {
     "data": {
      "image/png": "[encoded data removed]",
      "text/plain": [
       "<Figure size 720x504 with 1 Axes>"
      ]
     },
     "metadata": {},
     "output_type": "display_data"
    }
   ],
   "source": [
    "sns.set(style=\"darkgrid\")\n",
    "\n",
    "list_of_columns = ['duration_sum', 'gb_used_sum', 'messages_count']\n",
    "list_of_name_label = ['Минуты', 'Интернет-трафик (Гб)', 'Сообщения', 'Пользователи']\n",
    "hist_titles_list = [\n",
    "    'Распределение количества минут разговоров в месяц', \n",
    "    'Распределение количества израсходованного интернет-трафика в месяц',\n",
    "    'Распределение количества отправленных сообщений в месяц'\n",
    "]\n",
    "\n",
    "i=0\n",
    "for column in list_of_columns:\n",
    "    fig, axs = plt.subplots(figsize=(10, 7))\n",
    "    sns.histplot(data_ultra, x=column, label='Тариф \"Ультра\"', color=\"teal\",kde=False)    \n",
    "    sns.histplot(data_smart, x=column, label='Тариф \"Смарт\"', color=\"m\", kde=False)\n",
    "    plt.xlabel(list_of_name_label[i], fontsize = 13)\n",
    "    plt.title(hist_titles_list[i], fontsize = 17)\n",
    "    plt.legend() \n",
    "    plt.show()\n",
    "    i += 1"
   ]
  },
  {
   "cell_type": "markdown",
   "id": "a7850427",
   "metadata": {},
   "source": [
    "Изучив статистическое описание и гистограммы распределения минут разговора, отправленных сообщений и израсходованного интернет-трафика по тарифам можно сделать следующие выводы:"
   ]
  },
  {
   "cell_type": "markdown",
   "id": "e67eaba8",
   "metadata": {},
   "source": [
    "- **Тариф \"Смарт\"**"
   ]
  },
  {
   "cell_type": "markdown",
   "id": "3367a7e0",
   "metadata": {},
   "source": [
    "  1. Минуты разговора:  \n",
    "    гистограмма скошена влево, имеет пик на значении 400 -450 минут;  \n",
    "    в основном пользователи расходуют от 200 до 600 минут в месяц;   \n",
    "    более, чем в 25%  случаях пользователи не укладываются в рамки тарифного плана - 500 минут в месяц, а значит им проходится доплачивать за минуты сверх тарифного лимита. Чаще всего они дополнительно оплачивают от 45 до 150 минут в месяц, а в некоторых случаях и до 935 минут сверх тарифного лимита. \n",
    "  2. Интернет-трафик:  \n",
    "    гистограмма больше похожа на нормальное распределение, однако имеет большой пик около 19 Гб;     \n",
    "    основное количество пользователей расходует от 9 до 22 Гб интернет-трафика в месяц;  \n",
    "    можно наблюдать, что очень часто, более, чем в 50% случаев пользователи не укладываются в тарифный план - 15 Гб в месяц, чаще всего они дополнительно оплачивают от 2 до 12 Гб интернет-трафика сверх тарифного лимита.  \n",
    "  3. Сообщения:  \n",
    "    гистограмма сильно скошена влево;  \n",
    "    большое количество пользователей вообще не пользуются смс-сообщениями, вероятно абоненты предпочитают использовать социальные сети;  \n",
    "    остальные пользователи отправляют от 5 до 60 сообщений в месяц;      \n",
    "     более, чем в 25%  случаях пользователи не укладываются в рамки тарифного плана - 50 сообщений в месяц им приходится доплачивать."
   ]
  },
  {
   "cell_type": "markdown",
   "id": "1010f89f",
   "metadata": {},
   "source": [
    "- **Тариф \"Ультра\"**"
   ]
  },
  {
   "cell_type": "markdown",
   "id": "7fe4c187",
   "metadata": {},
   "source": [
    "  1. Минуты разговора:  \n",
    "    гистограмма скошена влево, пики не так ярко выражены и имеет более широкое распределение;  \n",
    "    в основном пользователи расходуют от 250 до 800 минут в месяц;   \n",
    "    все пользователи не расходуют тарифный лимит - 3000 минут в месяц, максимальное количество потраченных минут в месяц - 1673 минуты, что составляет только 56% от тарифного лимита. \n",
    "  2. Интернет-трафик:  \n",
    "    гистограмма похожа на нормальное распределение, также имеет широкое распределение;     \n",
    "    основное количество пользователей расходует от 6 до 33 Гб интернет-трафика в месяц.  \n",
    "    так же более, чем в 75% случаях пользователи не расходуют тарифный лимит - 30 Гб в месяц, однако расходы небольшой части пользователей могут достигать 49 Гб в месяц;  \n",
    "  3. Сообщения:  \n",
    "    гистограмма сильно скошена влево;\n",
    "    многие пользователи не используют смс-сообщения;  \n",
    "    остальные пользователи отправляют от 5 до 80 сообщений в месяц;      \n",
    "    все пользователи не расходуют тарифный лимит - 1000 сообщений в месяц, максимальное количество отправленных сообщений в месяц - 224 минуты, что составляет только 23% от тарифного лимита. "
   ]
  },
  {
   "cell_type": "markdown",
   "id": "c9897c21",
   "metadata": {},
   "source": [
    "- **Рассчитаем среднее количество израсходованных минут разговора, Гб интернет-трафика и отправленных сообщений пользователями в месяц для каждого тарифного плана. Рассчитаем дисперсию и стандартное отклонение.**"
   ]
  },
  {
   "cell_type": "code",
   "execution_count": 40,
   "id": "3ef5cb89",
   "metadata": {},
   "outputs": [
    {
     "data": {
      "text/html": [
       "<div>\n",
       "<style scoped>\n",
       "    .dataframe tbody tr th:only-of-type {\n",
       "        vertical-align: middle;\n",
       "    }\n",
       "\n",
       "    .dataframe tbody tr th {\n",
       "        vertical-align: top;\n",
       "    }\n",
       "\n",
       "    .dataframe thead tr th {\n",
       "        text-align: left;\n",
       "    }\n",
       "\n",
       "    .dataframe thead tr:last-of-type th {\n",
       "        text-align: right;\n",
       "    }\n",
       "</style>\n",
       "<table border=\"1\" class=\"dataframe\">\n",
       "  <thead>\n",
       "    <tr>\n",
       "      <th></th>\n",
       "      <th colspan=\"3\" halign=\"left\">duration_sum</th>\n",
       "      <th colspan=\"3\" halign=\"left\">gb_used_sum</th>\n",
       "      <th colspan=\"3\" halign=\"left\">messages_count</th>\n",
       "    </tr>\n",
       "    <tr>\n",
       "      <th></th>\n",
       "      <th>mean</th>\n",
       "      <th>std</th>\n",
       "      <th>var</th>\n",
       "      <th>mean</th>\n",
       "      <th>std</th>\n",
       "      <th>var</th>\n",
       "      <th>mean</th>\n",
       "      <th>std</th>\n",
       "      <th>var</th>\n",
       "    </tr>\n",
       "    <tr>\n",
       "      <th>tariff</th>\n",
       "      <th></th>\n",
       "      <th></th>\n",
       "      <th></th>\n",
       "      <th></th>\n",
       "      <th></th>\n",
       "      <th></th>\n",
       "      <th></th>\n",
       "      <th></th>\n",
       "      <th></th>\n",
       "    </tr>\n",
       "  </thead>\n",
       "  <tbody>\n",
       "    <tr>\n",
       "      <td>smart</td>\n",
       "      <td>417.934948</td>\n",
       "      <td>190.313730</td>\n",
       "      <td>36219.315784</td>\n",
       "      <td>16.328847</td>\n",
       "      <td>5.747061</td>\n",
       "      <td>33.028705</td>\n",
       "      <td>33.384029</td>\n",
       "      <td>28.227876</td>\n",
       "      <td>796.812958</td>\n",
       "    </tr>\n",
       "    <tr>\n",
       "      <td>ultra</td>\n",
       "      <td>526.623350</td>\n",
       "      <td>317.606098</td>\n",
       "      <td>100873.633397</td>\n",
       "      <td>19.494416</td>\n",
       "      <td>9.853511</td>\n",
       "      <td>97.091686</td>\n",
       "      <td>49.363452</td>\n",
       "      <td>47.804457</td>\n",
       "      <td>2285.266143</td>\n",
       "    </tr>\n",
       "  </tbody>\n",
       "</table>\n",
       "</div>"
      ],
      "text/plain": [
       "       duration_sum                            gb_used_sum            \\\n",
       "               mean         std            var        mean       std   \n",
       "tariff                                                                 \n",
       "smart    417.934948  190.313730   36219.315784   16.328847  5.747061   \n",
       "ultra    526.623350  317.606098  100873.633397   19.494416  9.853511   \n",
       "\n",
       "                  messages_count                          \n",
       "              var           mean        std          var  \n",
       "tariff                                                    \n",
       "smart   33.028705      33.384029  28.227876   796.812958  \n",
       "ultra   97.091686      49.363452  47.804457  2285.266143  "
      ]
     },
     "execution_count": 40,
     "metadata": {},
     "output_type": "execute_result"
    }
   ],
   "source": [
    "# статистические данные\n",
    "data_stat = data_full.pivot_table(index=['tariff'], values=['duration_sum', 'gb_used_sum', 'messages_count'], \n",
    "                    aggfunc={'duration_sum': [np.mean, np.var, np.std], \n",
    "                             'gb_used_sum': [np.mean, np.var, np.std], \n",
    "                             'messages_count': [np.mean, np.var, np.std]})\n",
    "data_stat"
   ]
  },
  {
   "cell_type": "markdown",
   "id": "e2aba825",
   "metadata": {},
   "source": [
    "**Среднее количество** израсходованных минут разговора, Гб интернет-трафика и отправленных сообщений **у пользователей тарифа \"Ультра\" выше**, чем у пользователей тарифа \"Смарт\". Можно сказать, что пользователи тарифа \"Ультра\" ежемесячно расходуют в среднем на 18% - 26% больше минут разговора и интернет-трафика, чем пользователям тарифа \"Смарт\", а отправляют сообщения они в среднем почти на 50% большее, чем пользователи тарифа \"Смарт\"."
   ]
  },
  {
   "cell_type": "markdown",
   "id": "e48b83c3",
   "metadata": {},
   "source": [
    "**Стандартное отклонение и дисперсия у пользователей тарифа \"Ультра\" тоже значительно выше**. Это означает, что разброс значений довольно высокий. Тоже самое мы наблюдали на гистограммах. Гистограммы по тарифу \"Ультра\" имеют более широкое распределение. Можно сказать, что траты пользователей тарифа \"Ультра\" более разнообразны, это можно объяснить тем, что они не ограничены таким жестким тарифным лимитом. "
   ]
  },
  {
   "cell_type": "markdown",
   "id": "19846ba8",
   "metadata": {},
   "source": [
    "Посмотрим, как менялось количество минут разговора, Гб интернет-трафика и отправленных сообщений в течение года в среднем на одного пользователя для каждого тарифного плана."
   ]
  },
  {
   "cell_type": "code",
   "execution_count": 41,
   "id": "6d1244e7",
   "metadata": {},
   "outputs": [],
   "source": [
    "# функция создания и объединения сводных таблиц с количеством оказанных услуг за каждый месяц по тарифам \n",
    "def pivot_tables_smart_and_ultra(inx, column, func, attach_method):\n",
    "    pvt_smart = data_smart.pivot_table(index=inx, values=column, aggfunc=func)\n",
    "    pvt_smart.columns = ['Тариф \"Смарт\"']\n",
    "    pvt_ultra = data_ultra.pivot_table(index=inx, values=column, aggfunc=func)\n",
    "    pvt_ultra.columns = ['Тариф \"Ультра\"']\n",
    "    if attach_method == 'simple':\n",
    "        pvt_full = pvt_smart.join(pvt_ultra)\n",
    "    else:\n",
    "        pvt_full = pvt_smart.join(pvt_ultra, how='outer')\n",
    "    return pvt_full"
   ]
  },
  {
   "cell_type": "code",
   "execution_count": 42,
   "id": "46f0fb9d",
   "metadata": {},
   "outputs": [],
   "source": [
    "# вызов функции\n",
    "duration_full = pivot_tables_smart_and_ultra('month', 'duration_sum', ['mean'], 'simple')\n",
    "internet_full = pivot_tables_smart_and_ultra('month', 'gb_used_sum', ['mean'], 'simple')\n",
    "messages_full = pivot_tables_smart_and_ultra('month', 'messages_count', ['mean'], 'simple')\n",
    "users_full = pivot_tables_smart_and_ultra('month', 'messages_count', ['count'], 'simple')"
   ]
  },
  {
   "cell_type": "code",
   "execution_count": 43,
   "id": "8ead0b0a",
   "metadata": {
    "scrolled": false
   },
   "outputs": [
    {
     "data": {
      "image/png": "[encoded data removed]",
      "text/plain": [
       "<Figure size 648x432 with 1 Axes>"
      ]
     },
     "metadata": {},
     "output_type": "display_data"
    },
    {
     "data": {
      "image/png": "[encoded data removed]",
      "text/plain": [
       "<Figure size 648x432 with 1 Axes>"
      ]
     },
     "metadata": {},
     "output_type": "display_data"
    },
    {
     "data": {
      "image/png": "[encoded data removed]",
      "text/plain": [
       "<Figure size 648x432 with 1 Axes>"
      ]
     },
     "metadata": {},
     "output_type": "display_data"
    },
    {
     "data": {
      "image/png": "[encoded data removed]",
      "text/plain": [
       "<Figure size 648x432 with 1 Axes>"
      ]
     },
     "metadata": {},
     "output_type": "display_data"
    }
   ],
   "source": [
    "# построение гисторамм \n",
    "list_of_tables = [duration_full, internet_full, messages_full, users_full]\n",
    "plot_titles_list = [\n",
    "    'Среднее количество минут разговоров', \n",
    "    'Среднее количество израсходованного интернет-трафика',\n",
    "    'Среднее количество отправленных сообщений', \n",
    "    'Количество пользователей'\n",
    "]\n",
    "\n",
    "i=0\n",
    "for table in list_of_tables: \n",
    "    table.plot(rot=0, grid=True, figsize=(9, 6))\n",
    "    plt.title(plot_titles_list[i], fontsize = 17)\n",
    "    plt.xlabel('Месяцы', fontsize = 13)\n",
    "    plt.ylabel(list_of_name_label[i], fontsize = 13)\n",
    "    i += 1   "
   ]
  },
  {
   "cell_type": "markdown",
   "id": "b764994a",
   "metadata": {},
   "source": [
    "1. Среднее количество минут разговоров:\n",
    "- В феврале пользователи обоих тарифов в среднем расходовали одинаковое количество минут и начиная с марта и до конца года этот показатель ежемесячно рос. \n",
    "- Наиболее выражен рост среднего количества минут разговоров у пользоваталей тарифа \"Ультра\", на графике видно, что пользователи этого тарифа в среднем ежемесячно расходуют больше минут.\n",
    "2. Среднее количество израсходованного интернет-трафика:\n",
    "- Среднее количество израсходованного интернет-трафика с февраля ежемесячно растет у пользователей обоих тарифов. \n",
    "- На графике также видно, что рост наиболее выражен у пользователей тарифа \"Ультра\", пользователи этого тарифа в среднем ежемесячно больше расходуют интернет-трафик.\n",
    "3. Среднее количество отправленный сообщений:\n",
    "- У пользователей тарифа \"Смарт\" количество отправленных сообщений заметно выросло с января по май, далее роста практически не наблюдается. В то время как количество отправляемых сообщений пользователями тарифа \"Ультра\" начиная с февраля не перестает быстро расти. На графике можно заметить разницу: в феврале - апреле пользователи обоих тарифов  в среднем отправляли практически одинаковое количество сообщений, а в декабре пользователи тарифа \"Ультра\" отправляли в среднем в 2 раза больше сообщений.\n",
    "4. Количество пользователей:\n",
    "- Можно увидеть, что пользователей тарифа \"Смарт\", гораздо больше, чем пользователей тарифа \"Ультра\" и их количество продолжает быстро расти. Число пользователей тарифа \"Ультра\" тоже растет, но гораздо более медленно. Очевидно большее количество людей привлекает более дешевый и доступный тариф.\n",
    "- В декабре соотношение количества пользователей тарифа \"Ультра\" и тарифа \"Смарт\" составляет примерно 1/2.\n"
   ]
  },
  {
   "cell_type": "markdown",
   "id": "b4740154",
   "metadata": {},
   "source": [
    "### Вывод"
   ]
  },
  {
   "cell_type": "markdown",
   "id": "eabd7455",
   "metadata": {},
   "source": [
    "- Очевидно, что пользователям тарифа \"Смарт\" в 25% - 50% случаев не хватает тарифного плана и они доплачивают за потраченные сверх тарифного плана минуты разговоров, Гб интернет-трафика и отправленные сообщения.\n",
    "- Пользователи тарифа \"Ультра\" наоборот не расходуют весь тарифный план в течение месяца. Анализ показал, что ни один из пользователей в течение года не израсходовал полностью лимит количества минут разговоров и лимит количества сообщений. Однако небольшое количество пользователей этого тарифного плана все-таки расходовали интернет-трафик сверх тарифа. Очевидно некоторому числу пользователей недостаточно интернет-трафика в рамках тарифного плана.\n",
    "- Среднее количество израсходованных минут разговора, Гб интернет-трафика и отправленных сообщений у пользователей тарифа \"Ультра\" выше, чем у пользователей тарифа \"Смарт\". Они ежемесячно расходуют в среднем на 18% - 26% больше минут разговора и интернет-трафика, чем пользователям тарифа \"Смарт\", а отправляют сообщения в среднем почти на 50% большее.\n",
    "- Стандартное отклонение и дисперсия у пользователей тарифа \"Ультра\" значительно выше, а значит, что разброс значений довольно высокий. Можно предположить, что так как пользователи этого тарифного плана не ограничены таким жестким лимитом, как пользователи тарифа \"Смарт\", то их траты более разнообразны. \n",
    "- В течение года наблюдался рост среднего количества минут разговоров, Гб интернет-трафика и отправленных сообщений пользователями обоих тарифных планов.\n",
    "- Количество пользователей тарифа \"Смарт\" в 2 раза больше, чем пользователей тарифа \"Ультра\" и их число продолжает быстро расти. Число пользователей тарифа \"Ультра\" тоже растет, но более медленно. Очевидно большее количество людей привлекает более дешевый и доступный тарифный план."
   ]
  },
  {
   "cell_type": "markdown",
   "id": "2ea5cc00",
   "metadata": {},
   "source": [
    "## Статистический анализ данных"
   ]
  },
  {
   "cell_type": "markdown",
   "id": "ae6a39d4",
   "metadata": {},
   "source": [
    "- **Проверим гипотезу о том, что средняя выручка пользователей тарифов «Ультра» и «Смарт» различается**"
   ]
  },
  {
   "cell_type": "markdown",
   "id": "59ba99ee",
   "metadata": {},
   "source": [
    "Сформулируем нулевую и альтернативную гипотезы. Так как за нулевую гипотезу мы возьмем утверждение, что средняя выручка пользователей обоих тарифов равна, то альтернативный гипотезой будет наоборот утверждение, что средняя выручка пользователей двух тарифов не равна:  \n",
    "  \n",
    "**H0** - средняя выручка пользователей тарифов «Ультра» и «Смарт» равна  \n",
    "**H1** - средняя выручка пользователей тарифов «Ультра» и «Смарт» различается"
   ]
  },
  {
   "cell_type": "markdown",
   "id": "29a9738c",
   "metadata": {},
   "source": [
    "Критический уровень статистической значимости примем равным 5%:  \n",
    "  \n",
    "alpha = 0.05"
   ]
  },
  {
   "cell_type": "markdown",
   "id": "def1fe40",
   "metadata": {},
   "source": [
    "Посмотрим на дисперсию двух выборок:"
   ]
  },
  {
   "cell_type": "code",
   "execution_count": 44,
   "id": "19b7e801",
   "metadata": {},
   "outputs": [
    {
     "data": {
      "text/plain": [
       "669485.2209234245"
      ]
     },
     "execution_count": 44,
     "metadata": {},
     "output_type": "execute_result"
    }
   ],
   "source": [
    "np.var(data_smart['profit'])"
   ]
  },
  {
   "cell_type": "code",
   "execution_count": 45,
   "id": "60111d88",
   "metadata": {},
   "outputs": [
    {
     "data": {
      "text/plain": [
       "141373.07325620347"
      ]
     },
     "execution_count": 45,
     "metadata": {},
     "output_type": "execute_result"
    }
   ],
   "source": [
    "np.var(data_ultra['profit'])"
   ]
  },
  {
   "cell_type": "markdown",
   "id": "d30fc93c",
   "metadata": {},
   "source": [
    "Для того, чтобы проверить гипотезу о равенстве средних двух генеральных совокупностей по выборке используем метод *scipy.stats.ttest_ind* с параметром *equal_var = False*, потому что дисперсии двух выборок значительно отличаются."
   ]
  },
  {
   "cell_type": "code",
   "execution_count": 46,
   "id": "7b63ea0e",
   "metadata": {},
   "outputs": [
    {
     "name": "stdout",
     "output_type": "stream",
     "text": [
      "p-значение: 4.2606313931076085e-250\n",
      "Отвергаем нулевую гипотезу\n"
     ]
    }
   ],
   "source": [
    "# ttest\n",
    "alpha = 0.05  \n",
    "\n",
    "results = st.ttest_ind(data_smart['profit'], data_ultra['profit'], equal_var = False)\n",
    "\n",
    "print('p-значение:', results.pvalue)\n",
    "\n",
    "if results.pvalue < alpha:\n",
    "    print('Отвергаем нулевую гипотезу')\n",
    "else:\n",
    "    print('Не получилось отвергнуть нулевую гипотезу') "
   ]
  },
  {
   "cell_type": "markdown",
   "id": "3db3e340",
   "metadata": {},
   "source": [
    "Мы видим, что уровень р-значения очень низкий, гораздо ниже 5%, а значит вероятность того, что средняя выручка пользователей тарифов «Ультра» и «Смарт» равна крайне мала. Можно смело утверждать, что **средние выручки пользователей обоих тарифов различаются**."
   ]
  },
  {
   "cell_type": "markdown",
   "id": "c32a3898",
   "metadata": {},
   "source": [
    "Для того, чтобы сделать вывод о том какой тариф выгоднее, посмотрим на диаграммы размаха и статистическое описание выручки пользоваталей двух тарифов."
   ]
  },
  {
   "cell_type": "code",
   "execution_count": 47,
   "id": "f9d71b3f",
   "metadata": {},
   "outputs": [
    {
     "data": {
      "image/png": "[encoded data removed]",
      "text/plain": [
       "<Figure size 360x360 with 1 Axes>"
      ]
     },
     "metadata": {},
     "output_type": "display_data"
    },
    {
     "data": {
      "image/png": "[encoded data removed]",
      "text/plain": [
       "<Figure size 360x360 with 1 Axes>"
      ]
     },
     "metadata": {},
     "output_type": "display_data"
    }
   ],
   "source": [
    "# построение диаграммы размаха для выручки\n",
    "list_of_data_profit = [data_smart, data_ultra]\n",
    "tariff_name = ['тариф \"Смарт\"', 'тариф \"Ультра\"']\n",
    "\n",
    "i=0\n",
    "for data in list_of_data_profit:\n",
    "    data.boxplot(column=['profit'], figsize=(5, 5))\n",
    "    plt.title('Диаграмма выручки ' + tariff_name[i])\n",
    "    plt.show()\n",
    "    i += 1"
   ]
  },
  {
   "cell_type": "code",
   "execution_count": 48,
   "id": "8d4ee3c5",
   "metadata": {
    "scrolled": false
   },
   "outputs": [
    {
     "data": {
      "text/plain": [
       "count    2229.000000\n",
       "mean     1289.973531\n",
       "std       818.404367\n",
       "min       550.000000\n",
       "25%       550.000000\n",
       "50%      1023.000000\n",
       "75%      1750.000000\n",
       "max      6770.000000\n",
       "Name: profit, dtype: float64"
      ]
     },
     "execution_count": 48,
     "metadata": {},
     "output_type": "execute_result"
    }
   ],
   "source": [
    "# статистическое описание тариф Смарт\n",
    "data_smart['profit'].describe()"
   ]
  },
  {
   "cell_type": "code",
   "execution_count": 49,
   "id": "385fdac6",
   "metadata": {
    "scrolled": false
   },
   "outputs": [
    {
     "data": {
      "text/plain": [
       "count     985.000000\n",
       "mean     2070.152284\n",
       "std       376.187114\n",
       "min      1950.000000\n",
       "25%      1950.000000\n",
       "50%      1950.000000\n",
       "75%      1950.000000\n",
       "max      4800.000000\n",
       "Name: profit, dtype: float64"
      ]
     },
     "execution_count": 49,
     "metadata": {},
     "output_type": "execute_result"
    }
   ],
   "source": [
    "# статистическое описание тариф Ультра\n",
    "data_ultra['profit'].describe()"
   ]
  },
  {
   "cell_type": "markdown",
   "id": "84f78537",
   "metadata": {},
   "source": [
    "- **Средняя выручка пользователей тарифа \"Ультра\" на 60% больше**, чем средняя выручка пользователей тарифа \"Смарт\". А при этом расходуют пользователи тарифа \"Ультра\" всего в среднем на 18-26% больше минут разговоров и Гб интернет-трафика и только на 50% больше сообщений, чем пользователи тарифа \"Смарт\".  \n",
    "-  **Медианная выручка пользователей тарифа \"Ультра\" почти в 2 больше**, чем медианная выручка пользователей тарифа \"Смарт\". Таким образом пользователи этого тарифного плана приносят стабильно высокий доход.\n",
    "- Мы знаем, что пользователям тарифа \"Смарт\" часто не хватает лимита тарифного плана и они платят дополнительно. Однако, даже при этом более, чем в 75% случаев они платят меньше чем любой из пользователей тарифа \"Ультра\".\n",
    "- Посмотрев на медианные значения, мы может заметить, что примерно в 50% случаев пользователи тарифа \"Смарт\" готовы платить от 1000 рублей в месяц и больше.  "
   ]
  },
  {
   "cell_type": "markdown",
   "id": "a39a8642",
   "metadata": {},
   "source": [
    "- **Проверим гипотезу о том, что средняя выручка пользователей из Москвы отличается от выручки пользователей из других регионов**"
   ]
  },
  {
   "cell_type": "markdown",
   "id": "e162ad57",
   "metadata": {},
   "source": [
    "Сформулируем нулевую и альтернативную гипотезы. Так как за нулевую гипотезу мы возьмем утверждение, что средняя выручка пользователей из Москвы равна средней выручке пользователей из других регионов, то альтернативный гипотезой будет наоборот утверждение, что средняя выручка пользователей из Москвы отличается от средней выручки пользователей из других регионов:  \n",
    "  \n",
    "**H0** - средняя выручка пользователей из Москвы равна средней выручке пользователей из других регионов  \n",
    "**H1** - средняя выручка пользователей из Москвы отличается от средней выручки пользователей из других регионов"
   ]
  },
  {
   "cell_type": "markdown",
   "id": "70d8ac51",
   "metadata": {},
   "source": [
    "Критический уровень статистической значимости примем равным 5%:  \n",
    "  \n",
    "alpha = 0.05"
   ]
  },
  {
   "cell_type": "code",
   "execution_count": 50,
   "id": "4ba5c248",
   "metadata": {},
   "outputs": [],
   "source": [
    "data_moscow = data_full.query('city == \"Москва\"')\n",
    "data_other_cityes = data_full.query('city != \"Москва\"')"
   ]
  },
  {
   "cell_type": "markdown",
   "id": "d9c1badd",
   "metadata": {},
   "source": [
    "Посмотрим на дисперсию двух выборок:"
   ]
  },
  {
   "cell_type": "code",
   "execution_count": 51,
   "id": "fc90b4d6",
   "metadata": {},
   "outputs": [
    {
     "data": {
      "text/plain": [
       "564710.7117467273"
      ]
     },
     "execution_count": 51,
     "metadata": {},
     "output_type": "execute_result"
    }
   ],
   "source": [
    "np.var(data_moscow['profit'])"
   ]
  },
  {
   "cell_type": "code",
   "execution_count": 52,
   "id": "2b671c1f",
   "metadata": {},
   "outputs": [
    {
     "data": {
      "text/plain": [
       "653886.3270894174"
      ]
     },
     "execution_count": 52,
     "metadata": {},
     "output_type": "execute_result"
    }
   ],
   "source": [
    "np.var(data_other_cityes['profit'])"
   ]
  },
  {
   "cell_type": "markdown",
   "id": "4ce150a8",
   "metadata": {},
   "source": [
    "Для того, чтобы проверить гипотезу о равенстве средних двух генеральных совокупностей по выборкам используем метод *scipy.stats.ttest_ind* с параметром *equal_var = False*, потому что дисперсии двух выборок отличаются."
   ]
  },
  {
   "cell_type": "code",
   "execution_count": 54,
   "id": "c7886586",
   "metadata": {},
   "outputs": [
    {
     "name": "stdout",
     "output_type": "stream",
     "text": [
      "p-значение: 0.5257376663729298\n",
      "Не получилось отвергнуть нулевую гипотезу\n"
     ]
    }
   ],
   "source": [
    "# ttest\n",
    "alpha = 0.05  \n",
    "\n",
    "results = st.ttest_ind(data_moscow['profit'], data_other_cityes['profit'], equal_var = False)\n",
    "\n",
    "print('p-значение:', results.pvalue)\n",
    "\n",
    "if results.pvalue < alpha:\n",
    "    print('Отвергаем нулевую гипотезу')\n",
    "else:\n",
    "    print('Не получилось отвергнуть нулевую гипотезу') "
   ]
  },
  {
   "cell_type": "markdown",
   "id": "71393cf8",
   "metadata": {},
   "source": [
    "**Нельзя утверждать, что средняя выручка пользователей из Москвы отличается от средней выручки пользователей из других регионов**, так как вероятность получить такое отличие случайно составляет 52%. "
   ]
  },
  {
   "cell_type": "markdown",
   "id": "ed0f0562",
   "metadata": {},
   "source": [
    "Для сравнения посмотрим на средние выручки пользователей из Москвы и пользователей из других регионов:"
   ]
  },
  {
   "cell_type": "code",
   "execution_count": 55,
   "id": "b93dbfa8",
   "metadata": {
    "scrolled": false
   },
   "outputs": [
    {
     "data": {
      "text/plain": [
       "count     611.000000\n",
       "mean     1546.713584\n",
       "std       752.088071\n",
       "min       550.000000\n",
       "25%       780.500000\n",
       "50%      1750.000000\n",
       "75%      1950.000000\n",
       "max      5321.000000\n",
       "Name: profit, dtype: float64"
      ]
     },
     "execution_count": 55,
     "metadata": {},
     "output_type": "execute_result"
    }
   ],
   "source": [
    "# статистическое описание выручки по Москве\n",
    "data_moscow['profit'].describe()"
   ]
  },
  {
   "cell_type": "code",
   "execution_count": 56,
   "id": "79c83632",
   "metadata": {
    "scrolled": false
   },
   "outputs": [
    {
     "data": {
      "text/plain": [
       "count    2603.000000\n",
       "mean     1524.936227\n",
       "std       808.787752\n",
       "min       550.000000\n",
       "25%       750.000000\n",
       "50%      1583.000000\n",
       "75%      1950.000000\n",
       "max      6770.000000\n",
       "Name: profit, dtype: float64"
      ]
     },
     "execution_count": 56,
     "metadata": {},
     "output_type": "execute_result"
    }
   ],
   "source": [
    "# статистическое описание выручки по остальным регионам\n",
    "data_other_cityes['profit'].describe()"
   ]
  },
  {
   "cell_type": "markdown",
   "id": "6c44f146",
   "metadata": {},
   "source": [
    "В нашей выборке средняя выручка пользователей из Москвы - 1546 рублей практически не отличается от средней выручки пользователей из других регионов - 1524."
   ]
  },
  {
   "cell_type": "markdown",
   "id": "9ac75970",
   "metadata": {},
   "source": [
    "### Вывод"
   ]
  },
  {
   "cell_type": "markdown",
   "id": "af3d16ed",
   "metadata": {},
   "source": [
    "1. Средние выручки пользователей обоих тарифов различаются.\n",
    "2. Средняя выручка пользователей тарифа \"Ультра\" на 60% больше, чем средняя выручка пользователей тарифа \"Смарт\". А медианная выручка пользователей тарифа \"Ультра\" почти в 2 больше, чем медианная выручка пользователей тарифа \"Смарт\". Таким образом пользователи этого тарифного плана приносят стабильно высокий доход. Более, чем в 75% случаев пользователи тарифа \"Смарт\" платят меньше, чем любой из пользователей тарифа \"Ультра\".\n",
    "Также мы дополнительно выяснили, что примерно в 50% случаев пользователи тарифа \"Смарт\" готовы платить от 1000 рублей в месяц и больше. Это открывает большое поле деятельности для оптимизации существующих, либо внедрения новых тарифных планов. \n",
    "3. Нельзя утверждать, что средняя выручка пользователей из Москвы отличается от средней выручки пользователей из других регионов, так как вероятность получить такое отличие случайно составляет 52%."
   ]
  },
  {
   "cell_type": "markdown",
   "id": "431b2a9f",
   "metadata": {},
   "source": [
    "## Общий вывод"
   ]
  },
  {
   "cell_type": "markdown",
   "id": "63abc504",
   "metadata": {},
   "source": [
    "Мы провели анализ поведения клиентов оператора сотовой связи компании «Мегалайн». Обобщим результаты проведенного анализа:\n",
    "1.  **Тариф \"Ультра\" прибыльнее для компании  «Мегалайн»**, чем тариф \"Смарт\". Средняя выручка пользователей тарифа \"Ультра\" на 60% больше, чем средняя выручка пользователей тарифа \"Смарт\". А при этом расходуют пользователи тарифа \"Ультра\" всего в среднем на 18-26% больше минут разговоров и Гб интернет-трафика и только на 50% больше сообщений, чем пользователи тарифа \"Смарт\".\n",
    "2. Медианная выручка пользователей тарифа \"Ультра\" почти в 2 больше, чем медианная выручка пользователей тарифа \"Смарт\". Таким образом пользователи этого тарифного плана приносят стабильно высокий доход.\n",
    "3. **Пользователям тарифа \"Смарт\" в 25% - 50% случаев не хватает тарифного плана** и они доплачивают за потраченные сверх тарифного плана минуты разговоров, Гб интернет-трафика и отправленные сообщения. Однако, даже при этом более, чем в 75% случаев они платят меньше, чем любой из пользователей тарифа \"Ультра\".\n",
    "4. **Пользователи тарифа \"Ультра\" наоборот не расходуют весь тарифный план в течение месяца**. Анализ показал, что ни один из пользователей в течение года не израсходовал полностью лимит количества минут разговоров и лимит количества сообщений. Однако небольшое количество пользователей этого тарифного плана все-таки расходовали интернет-трафик сверх тарифа. \n",
    "5. В течение года наблюдался **рост среднего количества потраченных минут разговоров, Гб интернет-трафика и отправленных сообщений пользователями обоих тарифных планов**.\n",
    "6. **Количество пользователей тарифа \"Смарт\" в 2 раза больше, чем пользователей тарифа \"Ультра\"** и их число продолжает быстро расти. Число пользователей тарифа \"Ультра\" тоже растет, но более медленно. Очевидно большее количество людей привлекает более дешевый и доступный тарифный план. С учетом того, что тариф \"Ультра\" приносит больше прибыли стоит направить рекламную компанию на привлечение пользователей в тарифный план \"Ультра\".\n",
    "7. Средняя выручка пользователей из Москвы практически не отличается от средней выручки пользователей из других регионов.\n",
    "8. Несмотря на то, что абонентсткая плата за тариф \"Смарт\" составляет 550 рублей в месяц, примерно в 50% случаев пользователи этого тарифа готовы платить от 1000 рублей в месяц и больше. С учетом того, что пользователям этого тарифа не хватает пакета минут разговора, интернет-трафика и сообщений можно рассмотреть вопрос о создании третьего тарифного плана, который будет учитывать потребности таких пользователей.    "
   ]
  },
  {
   "cell_type": "markdown",
   "id": "c8feb52d",
   "metadata": {},
   "source": [
    "Полученные выводы можно использовать для проведения рекламной компании, а также для оптимизации существующих, либо внедрения новых тарифных планов."
   ]
  },
  {
   "cell_type": "code",
   "execution_count": null,
   "id": "a4206fd9",
   "metadata": {},
   "outputs": [],
   "source": []
  }
 ],
 "metadata": {
  "celltoolbar": "Отсутствует",
  "kernelspec": {
   "display_name": "Python 3",
   "language": "python",
   "name": "python3"
  },
  "language_info": {
   "codemirror_mode": {
    "name": "ipython",
    "version": 3
   },
   "file_extension": ".py",
   "mimetype": "text/x-python",
   "name": "python",
   "nbconvert_exporter": "python",
   "pygments_lexer": "ipython3",
   "version": "3.7.12"
  },
  "toc": {
   "base_numbering": 1,
   "nav_menu": {},
   "number_sections": true,
   "sideBar": true,
   "skip_h1_title": false,
   "title_cell": "Table of Contents",
   "title_sidebar": "Contents",
   "toc_cell": false,
   "toc_position": {
    "height": "calc(100% - 180px)",
    "left": "10px",
    "top": "150px",
    "width": "384px"
   },
   "toc_section_display": true,
   "toc_window_display": false
  }
 },
 "nbformat": 4,
 "nbformat_minor": 5
}
