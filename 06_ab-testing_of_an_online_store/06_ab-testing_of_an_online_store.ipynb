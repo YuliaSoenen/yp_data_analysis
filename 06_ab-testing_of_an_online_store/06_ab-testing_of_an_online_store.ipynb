{
 "cells": [
  {
   "cell_type": "markdown",
   "metadata": {},
   "source": [
    "# Проработка подходов по увеличению выручки интернет-магазина <a class=\"tocSkip\">"
   ]
  },
  {
   "cell_type": "markdown",
   "metadata": {},
   "source": [
    "**Цель исследования:**  \n",
    "Приоритизировать гипотезы для увеличения выручки интернет-магазина, запустить A/B-тест и проанализировать результаты.   "
   ]
  },
  {
   "cell_type": "markdown",
   "metadata": {},
   "source": [
    "## Загрузка данных и подготовка их к анализу"
   ]
  },
  {
   "cell_type": "code",
   "execution_count": null,
   "metadata": {},
   "outputs": [],
   "source": [
    "# импорт библиотек\n",
    "import pandas as pd\n",
    "import numpy as np\n",
    "import scipy.stats as stats\n",
    "import datetime as dt\n",
    "from matplotlib import pyplot as plt\n",
    "import seaborn as sns"
   ]
  },
  {
   "cell_type": "code",
   "execution_count": null,
   "metadata": {},
   "outputs": [],
   "source": [
    "# загрузка данных\n",
    "try:\n",
    "    hypothesis, orders, visitors = (\n",
    "        pd.read_csv('/datasets/hypothesis.csv'),  \n",
    "        pd.read_csv('/datasets/orders.csv'),\n",
    "        pd.read_csv('/datasets/visitors.csv')\n",
    "    ) \n",
    "except FileNotFoundError:\n",
    "    print('Неверно указан путь к файлу.')\n",
    "except:\n",
    "    print('Ошибка.')"
   ]
  },
  {
   "cell_type": "code",
   "execution_count": null,
   "metadata": {},
   "outputs": [],
   "source": [
    "display(hypothesis, orders, visitors)"
   ]
  },
  {
   "cell_type": "markdown",
   "metadata": {},
   "source": [
    "- Описание данных  \n",
    "  \n",
    "Таблица hypothesis содержит 9 гипотез по увеличению выручки интернет-магазина с указанными параметрами Reach, Impact, Confidence, Effort:  \n",
    "\n",
    "    Hypothesis — краткое описание гипотезы;  \n",
    "    Reach — охват пользователей по 10-балльной шкале;\n",
    "    Impact — влияние на пользователей по 10-балльной шкале;\n",
    "    Confidence — уверенность в гипотезе по 10-балльной шкале;\n",
    "    Efforts — затраты ресурсов на проверку гипотезы по 10-балльной шкале.\n",
    "    \n",
    "Таблица orders содержит информацию о заказах, совершенных пользователями:  \n",
    "\n",
    "    transactionId — идентификатор заказа;\n",
    "    visitorId — идентификатор пользователя, совершившего заказ;\n",
    "    date — дата, когда был совершён заказ;\n",
    "    revenue — выручка заказа;\n",
    "    group — группа A/B-теста, в которую попал заказ.    \n",
    "    \n",
    "Таблица visitors содержит информацию о количестве пользователей:  \n",
    "\n",
    "    date — дата;\n",
    "    group — группа A/B-теста;\n",
    "    visitors — количество пользователей в указанную дату в указанной группе A/B-теста.    "
   ]
  },
  {
   "cell_type": "markdown",
   "metadata": {},
   "source": [
    "Мы видим, что столбцы таблиц hypothesis и orders записаны в разном регистре. Для соблюдения единообразия изменим названия колонок в таблицах. "
   ]
  },
  {
   "cell_type": "code",
   "execution_count": null,
   "metadata": {},
   "outputs": [],
   "source": [
    "# переименование колонок\n",
    "hypothesis.columns = ['hypothesis', 'reach', 'impact', 'confidence','efforts']\n",
    "orders.columns = ['transaction_id', 'visitor_id', 'date', 'revenue', 'group']"
   ]
  },
  {
   "cell_type": "markdown",
   "metadata": {},
   "source": [
    "Посмотрим на общую информацию о таблицах."
   ]
  },
  {
   "cell_type": "code",
   "execution_count": null,
   "metadata": {},
   "outputs": [],
   "source": [
    "# список таблиц\n",
    "list_of_data = [hypothesis, orders, visitors]"
   ]
  },
  {
   "cell_type": "code",
   "execution_count": null,
   "metadata": {},
   "outputs": [],
   "source": [
    "# общая информация о таблицах\n",
    "for data in list_of_data:\n",
    "    display(data.info()) "
   ]
  },
  {
   "cell_type": "markdown",
   "metadata": {},
   "source": [
    "Пропуски в таблицах отсутствуют. Однако колонки с датами имеют тип данных object. Для дальнейшей работы с датой необходимо их преобразовать в тип datetime."
   ]
  },
  {
   "cell_type": "code",
   "execution_count": null,
   "metadata": {},
   "outputs": [],
   "source": [
    "# преобразование данных о датах\n",
    "orders['date'] = orders['date'].map(\n",
    "    lambda x: dt.datetime.strptime(x, '%Y-%m-%d')\n",
    ")\n",
    "visitors['date'] = visitors['date'].map(\n",
    "    lambda x: dt.datetime.strptime(x, '%Y-%m-%d')\n",
    ")"
   ]
  },
  {
   "cell_type": "markdown",
   "metadata": {},
   "source": [
    "Проверим таблицы на наличие дубликатов."
   ]
  },
  {
   "cell_type": "code",
   "execution_count": null,
   "metadata": {},
   "outputs": [],
   "source": [
    "# проверка на дубликаты\n",
    "for data in list_of_data:\n",
    "    print('Количество дубликатов:', data.duplicated().sum())"
   ]
  },
  {
   "cell_type": "markdown",
   "metadata": {},
   "source": [
    "Проверим не попали ли одни и теже пользователи в обе группы тестирования. "
   ]
  },
  {
   "cell_type": "code",
   "execution_count": null,
   "metadata": {},
   "outputs": [],
   "source": [
    "# выберем id пользователей группы А\n",
    "visitors_a = orders.query('group == \"A\"')['visitor_id']\n",
    "\n",
    "# проверим есть ли id пользователей группы А в группе В\n",
    "users_both_groups = orders.query('group == \"B\" and visitor_id in @visitors_a')['visitor_id']\n",
    "print('Количество пользователей, попавших в обе группы: ', len(users_both_groups.drop_duplicates()))"
   ]
  },
  {
   "cell_type": "markdown",
   "metadata": {},
   "source": [
    "Мы выявили 58 пользователей, которые попали в обе группы тестирования. Таких пользователей нужно выявлять на этапе А/А-тестирования. В данном случае по итогам А/В-тестирования мы не cможем корректно их удалить, так как они сагрегированны в таблице `visitors`."
   ]
  },
  {
   "cell_type": "markdown",
   "metadata": {},
   "source": [
    "### Вывод\n",
    "\n",
    "Мы единообразно изменили названия колонок, привели данные к нужному типу и проверили на наличие пропусков и дубликатов. Теперь данные готовы к дальнейшему анализу."
   ]
  },
  {
   "cell_type": "markdown",
   "metadata": {},
   "source": [
    "## Часть 1. Приоритизация гипотез"
   ]
  },
  {
   "cell_type": "markdown",
   "metadata": {},
   "source": [
    "### Приоритизация гипотез с помощью фреймворка ICE "
   ]
  },
  {
   "cell_type": "markdown",
   "metadata": {},
   "source": [
    "Применим фреймворк ICE для приоритизации гипотез и отсортируем их по убыванию приоритета."
   ]
  },
  {
   "cell_type": "code",
   "execution_count": null,
   "metadata": {},
   "outputs": [],
   "source": [
    "hypothesis['ice'] = ((hypothesis['impact'] * hypothesis['confidence']) / hypothesis['efforts']).round(2)\n",
    "pd.set_option('max_colwidth', 120)\n",
    "hypothesis[['hypothesis', 'ice']].sort_values('ice', ascending=False)"
   ]
  },
  {
   "cell_type": "markdown",
   "metadata": {},
   "source": [
    "### Приоритизация гипотез с помощью фреймворка RICE "
   ]
  },
  {
   "cell_type": "markdown",
   "metadata": {},
   "source": [
    "Применим фреймворк RICE для приоритизации гипотез и отсортируем их по убыванию приоритета."
   ]
  },
  {
   "cell_type": "code",
   "execution_count": null,
   "metadata": {},
   "outputs": [],
   "source": [
    "hypothesis['rice'] = (hypothesis['reach'] * hypothesis['impact'] * hypothesis['confidence']) / hypothesis['efforts']\n",
    "\n",
    "hypothesis[['hypothesis', 'rice']].sort_values('rice', ascending=False)"
   ]
  },
  {
   "cell_type": "markdown",
   "metadata": {},
   "source": [
    "### Отличия в приоритизации гипотез с помощью фреймворков ICE и RICE "
   ]
  },
  {
   "cell_type": "markdown",
   "metadata": {},
   "source": [
    "Сделаем ранжировку гипотез, где самым приоритетным гипотезам будет соответствовать 9 баллов, а наименее приоритетным 1 балл. Также визуализируем данные для наглядности."
   ]
  },
  {
   "cell_type": "code",
   "execution_count": null,
   "metadata": {},
   "outputs": [],
   "source": [
    "# ранжирование гипотез\n",
    "hypothesis_rice = hypothesis[['hypothesis', 'rice']].sort_values('rice').reset_index()\n",
    "for i in range(0, 9):\n",
    "     hypothesis_rice.loc[i, 'priority_rice'] = (i+1)\n",
    "        \n",
    "hypothesis_ice = hypothesis[['hypothesis', 'ice']].sort_values('ice').reset_index()\n",
    "for i in range(0, 9):\n",
    "     hypothesis_ice.loc[i, 'priority_ice'] = (i+1)\n",
    "        \n",
    "# объединение таблиц        \n",
    "total_hypothesis = (hypothesis_ice\n",
    "                    .merge(hypothesis_rice, on='hypothesis')\n",
    "                    .drop(['index_y'], axis=1)\n",
    "                    .sort_values('priority_rice', ascending=False)\n",
    "                   )\n",
    "total_hypothesis.columns = ['num_of_hypothesis', 'hypothesis', 'ice', 'priority_ice', 'rice', 'priority_rice']\n",
    "total_hypothesis['num_of_hypothesis'] = total_hypothesis['num_of_hypothesis'].astype('object')\n",
    "total_hypothesis"
   ]
  },
  {
   "cell_type": "code",
   "execution_count": null,
   "metadata": {},
   "outputs": [],
   "source": [
    "# визуализация \n",
    "cm = sns.light_palette(\"green\", as_cmap=True)\n",
    "\n",
    "(total_hypothesis[['num_of_hypothesis', 'hypothesis', 'priority_ice', 'priority_rice']] \n",
    " .style\n",
    " .background_gradient(cmap=cm)\n",
    ")"
   ]
  },
  {
   "cell_type": "markdown",
   "metadata": {},
   "source": [
    "При применении фреймворка ICE самой приоритетной оказалась гипотеза № 8, а вот при применении фреймворка RICE - гипотеза № 7. Отличие в том, что фреймворк RICE в отличие от ICE учитывает охват пользователей. Гипотеза № 7 имеет 10 баллов из 10 по графе \"*reach*\" - охват пользователей. Наименее приоритетной при использовании обоих фреймворков является гипотеза № 4.  "
   ]
  },
  {
   "cell_type": "markdown",
   "metadata": {},
   "source": [
    "## Часть 2. Анализ A/B-теста"
   ]
  },
  {
   "cell_type": "markdown",
   "metadata": {},
   "source": [
    "### График кумулятивной выручки по группам"
   ]
  },
  {
   "cell_type": "markdown",
   "metadata": {},
   "source": [
    "Чтобы построить графики, собирем кумулятивные данные. Создадим массив уникальных пар значений дат и групп теста."
   ]
  },
  {
   "cell_type": "code",
   "execution_count": null,
   "metadata": {},
   "outputs": [],
   "source": [
    "# массив уникальных пар значений дат и групп теста\n",
    "datesGroups = orders[['date','group']].drop_duplicates() \n",
    "datesGroups.head()"
   ]
  },
  {
   "cell_type": "markdown",
   "metadata": {},
   "source": [
    "Соберём агрегированные  по дням кумулятивные данные о заказах."
   ]
  },
  {
   "cell_type": "code",
   "execution_count": null,
   "metadata": {},
   "outputs": [],
   "source": [
    "# агрегированные по дням кумулятивные данные о покупках\n",
    "orders_aggregated = datesGroups.apply(\n",
    "    lambda x: orders[\n",
    "        np.logical_and(\n",
    "            orders['date'] <= x['date'], orders['group'] == x['group']\n",
    "        )\n",
    "    ].agg(\n",
    "        {\n",
    "            'date': 'max',\n",
    "            'group': 'max',\n",
    "            'transaction_id': 'nunique',\n",
    "            'visitor_id': 'nunique',\n",
    "            'revenue': 'sum',\n",
    "        }\n",
    "    ),\n",
    "    axis=1,\n",
    ").sort_values(by=['date', 'group'])\n",
    "\n",
    "# переименование колонок\n",
    "orders_aggregated.columns = ['date', 'group', 'orders', 'buyers', 'revenue']\n",
    "orders_aggregated.head()"
   ]
  },
  {
   "cell_type": "markdown",
   "metadata": {},
   "source": [
    "Построим графики кумулятивной выручки по дням и группам A/B-тестирования:"
   ]
  },
  {
   "cell_type": "code",
   "execution_count": null,
   "metadata": {},
   "outputs": [],
   "source": [
    "# датафрейм с кумулятивным количеством заказов и кумулятивной выручкой по дням в группе А\n",
    "cumulative_revenue_a = orders_aggregated[orders_aggregated['group']=='A'][['date','revenue', 'orders']]\n",
    "\n",
    "# датафрейм с кумулятивным количеством заказов и кумулятивной выручкой по дням в группе B\n",
    "cumulative_revenue_b = orders_aggregated[orders_aggregated['group']=='B'][['date','revenue', 'orders']]\n",
    "\n",
    "plt.figure(figsize=(11,7))\n",
    "\n",
    "# график выручки группы А\n",
    "plt.plot(cumulative_revenue_a['date'], cumulative_revenue_a['revenue'], label='A')\n",
    "\n",
    "# график выручки группы B\n",
    "plt.plot(cumulative_revenue_b['date'], cumulative_revenue_b['revenue'], label='B')\n",
    "\n",
    "plt.legend()\n",
    "plt.title('График кумулятивной выручки по группам A/B-тестирования', fontsize=15)\n",
    "plt.xlabel('Даты', fontsize=12) \n",
    "plt.ylabel('Выручка', fontsize=12)\n",
    "plt.show()"
   ]
  },
  {
   "cell_type": "markdown",
   "metadata": {},
   "source": [
    "Выручка увеличивается в течение всего теста. Однако график выручки группы В резко вырос 19-20 августа 2019 г. Это может быть всплеском числа заказов, либо появлением очень дорогих заказов в выборке, то есть выбросов."
   ]
  },
  {
   "cell_type": "markdown",
   "metadata": {},
   "source": [
    "### График кумулятивного среднего чека по группам"
   ]
  },
  {
   "cell_type": "markdown",
   "metadata": {},
   "source": [
    "Построим графики среднего чека по группам А/В-тестирования."
   ]
  },
  {
   "cell_type": "code",
   "execution_count": null,
   "metadata": {},
   "outputs": [],
   "source": [
    "plt.figure(figsize=(11,7))\n",
    "# график среднего группы А\n",
    "plt.plot(cumulative_revenue_a['date'], cumulative_revenue_a['revenue']/cumulative_revenue_a['orders'], label='A')\n",
    "\n",
    "# график среднего группы В\n",
    "plt.plot(cumulative_revenue_b['date'], cumulative_revenue_b['revenue']/cumulative_revenue_b['orders'], label='B')\n",
    "plt.legend() \n",
    "plt.title('График кумулятивного среднего чека по группам A/B-тестирования', fontsize=15)\n",
    "plt.xlabel('Даты', fontsize=12) \n",
    "plt.ylabel('Средний чек', fontsize=12)\n",
    "plt.show()"
   ]
  },
  {
   "cell_type": "markdown",
   "metadata": {},
   "source": [
    "Средний чек установился ближе к концу теста для группы А, но начал падать для группы B. Вероятно, в группу B начиная с 19-20 августа попали крупные заказы (резкий всплеск на графике). Тогда ей нужно больше данных, чтобы прийти к реальному среднему чеку и установиться на его уровне."
   ]
  },
  {
   "cell_type": "markdown",
   "metadata": {},
   "source": [
    "### График относительного изменения кумулятивного среднего чека группы B к группе A"
   ]
  },
  {
   "cell_type": "markdown",
   "metadata": {},
   "source": [
    "Построим график относительного различия для среднего чека. "
   ]
  },
  {
   "cell_type": "code",
   "execution_count": null,
   "metadata": {},
   "outputs": [],
   "source": [
    "# собираем данные в одном датафрейме\n",
    "merged_cumulative_revenue = (\n",
    "    cumulative_revenue_a\n",
    "    .merge(cumulative_revenue_b, left_on='date', right_on='date', how='left', suffixes=['_a', '_b'])\n",
    ")\n",
    "\n",
    "# график отношения средних чеков\n",
    "plt.figure(figsize=(11,7))\n",
    "(\n",
    "plt.plot(merged_cumulative_revenue['date'], (merged_cumulative_revenue['revenue_b']/merged_cumulative_revenue['orders_b'])\\\n",
    "                                          /(merged_cumulative_revenue['revenue_a']/merged_cumulative_revenue['orders_a'])-1)\n",
    ")\n",
    "\n",
    "# линия уровня\n",
    "plt.axhline(y=0, color='red', linestyle='--') \n",
    "\n",
    "plt.title('График относительного изменения кумулятивного среднего чека группы B к группе A', fontsize=14)\n",
    "plt.xlabel('Даты', fontsize=12) \n",
    "plt.show()"
   ]
  },
  {
   "cell_type": "markdown",
   "metadata": {},
   "source": [
    "В целом средний чек группы В значительно превышает среднйи чек группы А. Однако в нескольких точках график различия между сегментами резко «скачет». Вероятно это связано с крупными заказами и выбросами. "
   ]
  },
  {
   "cell_type": "markdown",
   "metadata": {},
   "source": [
    "### График кумулятивной конверсии по группам"
   ]
  },
  {
   "cell_type": "markdown",
   "metadata": {},
   "source": [
    "Построим график кумулятивной конверсии по группам А/В-тестирования. Для этого сначала соберем кумулятивные данные о посетителях интернет-магазина по дням. Затем поисчтаем кумулятивную конверсию по группам. "
   ]
  },
  {
   "cell_type": "code",
   "execution_count": null,
   "metadata": {},
   "outputs": [],
   "source": [
    "# агрегированные кумулятивные по дням данные о посетителях \n",
    "visitors_aggregated = datesGroups.apply(\n",
    "    lambda x: visitors[\n",
    "        np.logical_and(\n",
    "            visitors['date'] <= x['date'], visitors['group'] == x['group']\n",
    "        )\n",
    "    ].agg({'date': 'max', 'group': 'max', 'visitors': 'sum'}),\n",
    "    axis=1,\n",
    ").sort_values(by=['date', 'group'])\n",
    "\n",
    "# объединение кумулятивных данных в одну таблицу \n",
    "cumulative_data = orders_aggregated.merge(\n",
    "    visitors_aggregated, left_on=['date', 'group'], right_on=['date', 'group']\n",
    ")\n",
    "\n",
    "# переименование столбцов\n",
    "cumulative_data.columns = ['date', 'group', 'orders', 'buyers', 'revenue', 'visitors']\n",
    "cumulative_data.head()"
   ]
  },
  {
   "cell_type": "code",
   "execution_count": null,
   "metadata": {},
   "outputs": [],
   "source": [
    "# кумулятивная конверсия\n",
    "cumulative_data['conversion'] = cumulative_data['orders']/cumulative_data['visitors']\n",
    "\n",
    "# данные по группе A\n",
    "cumulative_data_a = cumulative_data[cumulative_data['group']=='A']\n",
    "\n",
    "# данные по группе B\n",
    "cumulative_data_b = cumulative_data[cumulative_data['group']=='B']\n",
    "\n",
    "# графики\n",
    "plt.figure(figsize=(11,6))\n",
    "plt.plot(cumulative_data_a['date'], cumulative_data_a['conversion'], label='A')\n",
    "plt.plot(cumulative_data_b['date'], cumulative_data_b['conversion'], label='B')\n",
    "plt.legend()\n",
    "plt.title('График кумулятивной конверсии по группам A/B-тестирования', fontsize=15)\n",
    "plt.xlabel('Даты', fontsize=12) \n",
    "plt.ylabel('Конверсия', fontsize=12)\n",
    "\n",
    "# масштаб осей\n",
    "plt.axis([dt.datetime.strptime('2019-08-01', '%Y-%m-%d'), dt.datetime.strptime('2019-09-01', '%Y-%m-%d'), 0, 0.040])\n",
    "plt.show()"
   ]
  },
  {
   "cell_type": "markdown",
   "metadata": {},
   "source": [
    "Через неделю после начала тестирования конверсия группы В вырвалась вперёд и зафиксировалась на уровне около 3,4%, а конверсия группы А просела и также зафиксировалась на уровне 3%."
   ]
  },
  {
   "cell_type": "markdown",
   "metadata": {},
   "source": [
    "### График относительного изменения кумулятивной конверсии группы B к группе A"
   ]
  },
  {
   "cell_type": "markdown",
   "metadata": {},
   "source": [
    "Построим график относительного различия кумулятивных конверсий."
   ]
  },
  {
   "cell_type": "code",
   "execution_count": null,
   "metadata": {},
   "outputs": [],
   "source": [
    "# собираем данные в одном датафрейме\n",
    "merged_cumulative_conversions = (\n",
    "    cumulative_data_a[['date','conversion']]\n",
    "    .merge(cumulative_data_b[['date','conversion']], left_on='date', right_on='date', how='left', suffixes=['A', 'B'])\n",
    ")\n",
    "\n",
    "# график отношения конверсии\n",
    "plt.figure(figsize=(11,6))\n",
    "plt.plot(\n",
    "    merged_cumulative_conversions['date'], \n",
    "    merged_cumulative_conversions['conversionB']/merged_cumulative_conversions['conversionA']-1, \n",
    "    label=\"Относительный прирост конверсии группы B к группе A\"    \n",
    ")\n",
    "plt.legend()\n",
    "\n",
    "plt.axhline(y=0, color='red', linestyle='--')\n",
    "plt.axhline(y=0.1, color='grey', linestyle='--')\n",
    "plt.axis(['2019-08-01', '2019-09-01', -0.5, 0.5]) \n",
    "plt.title('График относительного изменения конверсии группы B к группе А', fontsize=15)\n",
    "plt.xlabel('Даты', fontsize=12) \n",
    "plt.show()"
   ]
  },
  {
   "cell_type": "markdown",
   "metadata": {},
   "source": [
    "В первую неделю теста группа B проигрывала группе A, затем вырвалась вперёд. Менее, чем через 3 недели после начала теста её конверсия начала снижаться.\n",
    "В целом можно сказать, что конверсия уже установилась и присрост конверсии группы В отсносительно группы А составляет 10-14%. Впрочем, сперва стоит проанализировать аномалии, возможно, они изменят картину. "
   ]
  },
  {
   "cell_type": "markdown",
   "metadata": {},
   "source": [
    "### Точечный график количества заказов по пользователям"
   ]
  },
  {
   "cell_type": "markdown",
   "metadata": {},
   "source": [
    "Построим точечную диаграмму числа заказов на одного пользователя."
   ]
  },
  {
   "cell_type": "code",
   "execution_count": null,
   "metadata": {},
   "outputs": [],
   "source": [
    "# количество заказов по пользователям \n",
    "orders_by_users = (\n",
    "    orders.groupby('visitor_id', as_index=False)\n",
    "    .agg({'transaction_id': 'nunique'})\n",
    ")\n",
    "\n",
    "# переименование столбцов\n",
    "orders_by_users.columns = ['user_id', 'orders']\n",
    "\n",
    "# точечный график\n",
    "x_values = pd.Series(range(0,len(orders_by_users)))\n",
    "plt.figure(figsize=(9,5))\n",
    "plt.scatter(x_values, orders_by_users['orders']) \n",
    "plt.title('График количества заказов по пользователям', fontsize=15)\n",
    "plt.xlabel('Пользователи', fontsize=12) \n",
    "plt.ylabel('Заказы', fontsize=12) \n",
    "plt.show()"
   ]
  },
  {
   "cell_type": "markdown",
   "metadata": {},
   "source": [
    "Большинство покупателей делают только один заказ. Много пользователей с 2-4 заказами. Чтобы понять считать их аномалиями или нет, воспользумся подсчетом перцентилей."
   ]
  },
  {
   "cell_type": "markdown",
   "metadata": {},
   "source": [
    "###  Определение границы аномальных пользователей"
   ]
  },
  {
   "cell_type": "markdown",
   "metadata": {},
   "source": [
    "Посчитаем 95-й и 99-й перцентили количества заказов на пользователя и выберем границу для определения аномальных пользователей."
   ]
  },
  {
   "cell_type": "code",
   "execution_count": null,
   "metadata": {},
   "outputs": [],
   "source": [
    "np.percentile(orders_by_users['orders'], [95, 99])"
   ]
  },
  {
   "cell_type": "markdown",
   "metadata": {},
   "source": [
    "95% прцентов пользователей совершают 1-2 заказа. Примем за аномальных пользователей тех, кто совершил больше 2 заказов. Так мы уберём 5% пользователей с большим числом заказов."
   ]
  },
  {
   "cell_type": "markdown",
   "metadata": {},
   "source": [
    "### Точечный график стоимостей заказов"
   ]
  },
  {
   "cell_type": "markdown",
   "metadata": {},
   "source": [
    "Посторим точечный график стоимостей заказов, чтобы увидеть аномально дорогие заказы."
   ]
  },
  {
   "cell_type": "code",
   "execution_count": null,
   "metadata": {},
   "outputs": [],
   "source": [
    "# точечный график\n",
    "x_values = pd.Series(range(0,len(orders['revenue'])))\n",
    "plt.figure(figsize=(9,5))\n",
    "plt.scatter(x_values, orders['revenue']) \n",
    "plt.title('График стоимостей заказов', fontsize=15)\n",
    "plt.xlabel('Заказы', fontsize=12) \n",
    "plt.ylabel('Стоимость заказа', fontsize=12) \n",
    "plt.show()"
   ]
  },
  {
   "cell_type": "markdown",
   "metadata": {},
   "source": [
    "Как мы и предполагали есть несколько дорогих заказов, которые доходят до 1,2 млн. рублей. По графику можно выбрать границу аномальных заказов около 100 000 рублей. Однако для определения точной границы воспользумся подсчетом перцентилей. "
   ]
  },
  {
   "cell_type": "markdown",
   "metadata": {},
   "source": [
    "### Определение границы аномальных заказов"
   ]
  },
  {
   "cell_type": "markdown",
   "metadata": {},
   "source": [
    "Посчитаем 95-й и 99-й перцентили стоимости заказов и выберем границу для определения аномальных заказов."
   ]
  },
  {
   "cell_type": "code",
   "execution_count": null,
   "metadata": {},
   "outputs": [],
   "source": [
    "np.percentile(orders['revenue'], [95, 99])"
   ]
  },
  {
   "cell_type": "markdown",
   "metadata": {},
   "source": [
    "5% пользователей совершают заказы на сумму более 28 000 рублей, а 1% пользователей на сумму более 58 000 тыясч рублей. Примем за аномальных пользователей тех, кто совершил заказ дороже 30 000 рублей. Так мы уберём от 1% до 5% пользователей с дорогими заказами."
   ]
  },
  {
   "cell_type": "markdown",
   "metadata": {},
   "source": [
    "### Cтатистическая значимость различий в конверсии между группами по «сырым» данным"
   ]
  },
  {
   "cell_type": "markdown",
   "metadata": {},
   "source": [
    "Посчитаем статистическую значимость различий в конверсии между группами А/В-тестирования по «сырым» данным. Для этого сначала посчитаем количество пользователей, количество закаов и выручку по группам А/В-тестирования в каждую дату и с нарастающим итогом. Затем объединим все данные в одну талицу. "
   ]
  },
  {
   "cell_type": "code",
   "execution_count": null,
   "metadata": {},
   "outputs": [],
   "source": [
    "# количество пользователей в выбранную дату в группе А\n",
    "visitors_a_daily = visitors[visitors['group'] == 'A'][['date', 'visitors']]\n",
    "visitors_a_daily.columns = ['date', 'visitors_per_date_a']\n",
    "\n",
    "# количество пользователей до выбранной даты вкл. в группе A\n",
    "visitors_a_cummulative = visitors_a_daily.apply(\n",
    "    lambda x: visitors_a_daily[visitors_a_daily['date'] <= x['date']].agg(\n",
    "        {'date': 'max', 'visitors_per_date_a': 'sum'}\n",
    "    ),\n",
    "    axis=1,\n",
    ")\n",
    "visitors_a_cummulative.columns = ['date', 'visitors_cummulative_a']\n",
    "\n",
    "# количество пользователей в выбранную дату в группе В\n",
    "visitors_b_daily = visitors[visitors['group'] == 'B'][['date', 'visitors']]\n",
    "visitors_b_daily.columns = ['date', 'visitors_per_date_b']\n",
    "\n",
    "# количество пользователей до выбранной даты вкл. в группе В\n",
    "visitors_b_cummulative = visitors_b_daily.apply(\n",
    "    lambda x: visitors_b_daily[visitors_b_daily['date'] <= x['date']].agg(\n",
    "        {'date': 'max', 'visitors_per_date_b': 'sum'}\n",
    "    ),\n",
    "    axis=1,\n",
    ")\n",
    "visitors_b_cummulative.columns = ['date', 'visitors_cummulative_b']\n",
    "\n",
    "# количество заказов в выбранную дату в группе A\n",
    "# суммарная выручка в выбранную дату в группе A\n",
    "orders_a_daily = (\n",
    "    orders[orders['group'] == 'A'][['date', 'transaction_id', 'visitor_id', 'revenue']]\n",
    "    .groupby('date', as_index=False)\n",
    "    .agg({'transaction_id': pd.Series.nunique, 'revenue': 'sum'})\n",
    ")\n",
    "orders_a_daily.columns = ['date', 'orders_per_date_a', 'revenue_per_date_a']\n",
    "\n",
    "# суммарное число заказов до выбранной даты вкл. в группе A\n",
    "# суммарная выручка до выбранной даты вкл. в группе А\n",
    "orders_a_cummulative = orders_a_daily.apply(\n",
    "    lambda x: orders_a_daily[orders_a_daily['date'] <= x['date']].agg(\n",
    "        {'date': 'max', 'orders_per_date_a': 'sum', 'revenue_per_date_a': 'sum'}\n",
    "    ),\n",
    "    axis=1,\n",
    ").sort_values(by=['date'])\n",
    "orders_a_cummulative.columns = [\n",
    "    'date',\n",
    "    'orders_cummulative_a',\n",
    "    'revenue_cummulative_a',\n",
    "]\n",
    "\n",
    "# количество заказов в выбранную дату в группе В\n",
    "# суммарная выручка в выбранную дату в группе В\n",
    "orders_b_daily = (\n",
    "    orders[orders['group'] == 'B'][['date', 'transaction_id', 'visitor_id', 'revenue']]\n",
    "    .groupby('date', as_index=False)\n",
    "    .agg({'transaction_id': pd.Series.nunique, 'revenue': 'sum'})\n",
    ")\n",
    "orders_b_daily.columns = ['date', 'orders_per_date_b', 'revenue_per_date_b']\n",
    "\n",
    "# суммарное число заказов до выбранной даты вкл. в группе В\n",
    "# суммарная выручка до выбранной даты вкл. в группе В\n",
    "orders_b_cummulative = orders_b_daily.apply(\n",
    "    lambda x: orders_b_daily[orders_b_daily['date'] <= x['date']].agg(\n",
    "        {'date': 'max', 'orders_per_date_b': 'sum', 'revenue_per_date_b': 'sum'}\n",
    "    ),\n",
    "    axis=1,\n",
    ").sort_values(by=['date'])\n",
    "orders_b_cummulative.columns = [\n",
    "    'date',\n",
    "    'orders_cummulative_b',\n",
    "    'revenue_cummulative_b',\n",
    "]\n",
    "\n",
    "# объединение таблиц\n",
    "total_data = (\n",
    "    orders_a_daily.merge(\n",
    "        orders_b_daily, left_on='date', right_on='date', how='left'\n",
    "    )\n",
    "    .merge(orders_a_cummulative, left_on='date', right_on='date', how='left')\n",
    "    .merge(orders_b_cummulative, left_on='date', right_on='date', how='left')\n",
    "    .merge(visitors_a_daily, left_on='date', right_on='date', how='left')\n",
    "    .merge(visitors_b_daily, left_on='date', right_on='date', how='left')\n",
    "    .merge(visitors_a_cummulative, left_on='date', right_on='date', how='left')\n",
    "    .merge(visitors_b_cummulative, left_on='date', right_on='date', how='left')\n",
    ")\n",
    "\n",
    "total_data.head() "
   ]
  },
  {
   "cell_type": "markdown",
   "metadata": {},
   "source": [
    "Создадим переменные orders_by_users_a и orders_by_users_b со столбцами ['user_id', 'orders']. В них для пользователей, которые заказывали хотя бы 1 раз, укажем число совершённых заказов."
   ]
  },
  {
   "cell_type": "code",
   "execution_count": null,
   "metadata": {},
   "outputs": [],
   "source": [
    "orders_by_users_a = (\n",
    "    orders[orders['group'] == 'A']\n",
    "    .groupby('visitor_id', as_index=False)\n",
    "    .agg({'transaction_id': 'nunique'})\n",
    ")\n",
    "orders_by_users_a.columns = ['visitor_id', 'orders']\n",
    "\n",
    "orders_by_users_b = (\n",
    "    orders[orders['group'] == 'B']\n",
    "    .groupby('visitor_id', as_index=False)\n",
    "    .agg({'transaction_id': 'nunique'})\n",
    ")\n",
    "orders_by_users_b.columns = ['visitor_id', 'orders'] "
   ]
  },
  {
   "cell_type": "markdown",
   "metadata": {},
   "source": [
    "Объявим переменные sample_a и sample_b, в которых пользователям из разных групп будет соответствовать количество заказов. Тем, кто ничего не заказал, будут соответствовать нули."
   ]
  },
  {
   "cell_type": "code",
   "execution_count": null,
   "metadata": {},
   "outputs": [],
   "source": [
    "sample_a = pd.concat(\n",
    "    [\n",
    "        orders_by_users_a['orders'],\n",
    "        pd.Series(\n",
    "            0,\n",
    "            index=np.arange(\n",
    "                total_data['visitors_per_date_a'].sum() - len(orders_by_users_a['orders'])\n",
    "            ),\n",
    "            name='orders',\n",
    "        ),\n",
    "    ],\n",
    "    axis=0,\n",
    ")\n",
    "\n",
    "sample_b = pd.concat(\n",
    "    [\n",
    "        orders_by_users_b['orders'], \n",
    "        pd.Series(\n",
    "            0, \n",
    "            index=np.arange(\n",
    "                total_data['visitors_per_date_b'].sum() - len(orders_by_users_b['orders'])\n",
    "            ), \n",
    "            name='orders'\n",
    "        )\n",
    "    ], \n",
    "    axis=0\n",
    ") "
   ]
  },
  {
   "cell_type": "markdown",
   "metadata": {},
   "source": [
    "- Для того, чтобы определить каким критерием проверять статистическую значимость различий данных в выборках: параметрическим или непараметрическим, проверим данные на нормальное распределение. Для это используем критерий Шапиро-Уилка."
   ]
  },
  {
   "cell_type": "markdown",
   "metadata": {},
   "source": [
    "Сформулируем нулевую и альтернативную гипотезы:    \n",
    "    \n",
    "**H0** - количество заказов, совершаемых пользователями распределено нормально    \n",
    "**H1** - распределение не нормально\n",
    "  \n",
    "Установим уровень статистической значимости α = 0,05."
   ]
  },
  {
   "cell_type": "code",
   "execution_count": null,
   "metadata": {},
   "outputs": [],
   "source": [
    "alpha = 0.05  \n",
    "\n",
    "results = stats.shapiro(sample_a)\n",
    "p_value = results[1]  \n",
    "\n",
    "print('p-значение: ', p_value)\n",
    "\n",
    "if p_value < alpha:\n",
    "    print('Отвергаем нулевую гипотезу: распределение не нормально')\n",
    "else:\n",
    "    print('Не получилось отвергнуть нулевую гипотезу, всё нормально') "
   ]
  },
  {
   "cell_type": "code",
   "execution_count": null,
   "metadata": {},
   "outputs": [],
   "source": [
    "alpha = 0.05  \n",
    "\n",
    "results = stats.shapiro(sample_b)\n",
    "p_value = results[1]  \n",
    "\n",
    "print('p-значение: ', p_value)\n",
    "\n",
    "if p_value < alpha:\n",
    "    print('Отвергаем нулевую гипотезу: распределение не нормально')\n",
    "else:\n",
    "    print('Не получилось отвергнуть нулевую гипотезу, всё нормально') "
   ]
  },
  {
   "cell_type": "markdown",
   "metadata": {},
   "source": [
    "По итогам проверки выборок мы видим, что данные распределены не нормально, а значит для выявления различий нам стоит применить непараметрический критерий Манна-Уитни. "
   ]
  },
  {
   "cell_type": "markdown",
   "metadata": {},
   "source": [
    "Сформулируем нулевую и альтернативную гипотезы:    \n",
    "    \n",
    "**H0** - статистически значимых различий в конверсии между группами А/В-тестирования нет    \n",
    "**H1** - конверсии между группами А/В-тестирования имеют статистически значимые отличия\n",
    "  \n",
    "Установим уровень статистической значимости α = 0,05. Применим критерий Манна-Уитни и выведем p-value. Также выведем относительное изменение конверсии группы B к группе А. Округлим до трёх знаков после запятой."
   ]
  },
  {
   "cell_type": "code",
   "execution_count": null,
   "metadata": {},
   "outputs": [],
   "source": [
    "print('Значение p-value: {0:.3f}'.format(stats.mannwhitneyu(sample_a, sample_b, True, 'two-sided')[1]))\n",
    "print('Относительное изменение конверсии группы B к группе А: {0:.3f}'.format(sample_b.mean() / sample_a.mean() - 1))"
   ]
  },
  {
   "cell_type": "markdown",
   "metadata": {},
   "source": [
    "Вывод: по «сырым» есть статистические различия в конверсии групп A и B.  \n",
    "p-value = 0.017 меньше 0.05. Значит, нулевую гипотезу о том, что статистически значимых различий в конверсии между группами нет, отвергаем. Относительный прирост конверсии группы B равен 13.8%."
   ]
  },
  {
   "cell_type": "markdown",
   "metadata": {},
   "source": [
    "Эти данные данные также подтверждают график отностительного изменения кумулятивной конверсии, который показал прирост конверсии группы В к группе А к концу тестированая на уровне 14%."
   ]
  },
  {
   "cell_type": "markdown",
   "metadata": {},
   "source": [
    "### Cтатистическая значимость различий в среднем чеке заказа между группами по «сырым» данным"
   ]
  },
  {
   "cell_type": "markdown",
   "metadata": {},
   "source": [
    "- Для того, чтобы определить каким критерием проверять статистическую значимость различий данных в выборках: параметрическим или непараметрическим, проверим данные на нормальное распределение. Для это используем критерий Шапиро-Уилка."
   ]
  },
  {
   "cell_type": "markdown",
   "metadata": {},
   "source": [
    "Сформулируем нулевую и альтернативную гипотезы:    \n",
    "    \n",
    "**H0** - суммы чеков пользователей распределены нормально    \n",
    "**H1** - распределение не нормально\n",
    "  \n",
    "Установим уровень статистической значимости α = 0,05."
   ]
  },
  {
   "cell_type": "code",
   "execution_count": null,
   "metadata": {},
   "outputs": [],
   "source": [
    "alpha = 0.05  \n",
    "\n",
    "results = stats.shapiro(orders[orders['group']=='A']['revenue'])\n",
    "p_value = results[1]  \n",
    "\n",
    "print('p-значение: ', p_value)\n",
    "\n",
    "if p_value < alpha:\n",
    "    print('Отвергаем нулевую гипотезу: распределение не нормально')\n",
    "else:\n",
    "    print('Не получилось отвергнуть нулевую гипотезу, всё нормально') "
   ]
  },
  {
   "cell_type": "code",
   "execution_count": null,
   "metadata": {},
   "outputs": [],
   "source": [
    "alpha = 0.05  \n",
    "\n",
    "results = stats.shapiro(orders[orders['group']=='B']['revenue'])\n",
    "p_value = results[1]  \n",
    "\n",
    "print('p-значение: ', p_value)\n",
    "\n",
    "if p_value < alpha:\n",
    "    print('Отвергаем нулевую гипотезу: распределение не нормально')\n",
    "else:\n",
    "    print('Не получилось отвергнуть нулевую гипотезу, всё нормально') "
   ]
  },
  {
   "cell_type": "markdown",
   "metadata": {},
   "source": [
    "По итогам проверки выборок мы видим, что данные распределены не нормально, а значит для выявления различий нам стоит применить непараметрический критерий Манна-Уитни. "
   ]
  },
  {
   "cell_type": "markdown",
   "metadata": {},
   "source": [
    "Посчитаем статистическую значимость различий в среднем чеке между группами А/В-тестирвания по «сырым» данным."
   ]
  },
  {
   "cell_type": "markdown",
   "metadata": {},
   "source": [
    "Сформулируем нулевую и альтернативную гипотезы:    \n",
    "    \n",
    "**H0** - статистически значимых различий в среднем чеке между группами А/В-тестирования нет    \n",
    "**H1** - средний чек между группами А/В-тестирования имеют статистически значимые отличия\n",
    "\n",
    "Установим уровень статистической значимости α = 0,05. Применим критерий Манна-Уитни и выведем p-value. Также выведем относительное изменение среднего чека группы B к группе А. Округлим до трёх знаков после запятой."
   ]
  },
  {
   "cell_type": "code",
   "execution_count": null,
   "metadata": {},
   "outputs": [],
   "source": [
    "print('Значение p-value: {0:.3f}'.format(\n",
    "    stats.mannwhitneyu(orders[orders['group']=='A']['revenue'], orders[orders['group']=='B']['revenue'], True, 'two-sided')[1]\n",
    "))\n",
    "print('Относительное изменение среднего чека группы B к группе А: {0:.3f}'.format(\n",
    "    orders[orders['group']=='B']['revenue'].mean()/orders[orders['group']=='A']['revenue'].mean()-1\n",
    ")) "
   ]
  },
  {
   "cell_type": "markdown",
   "metadata": {},
   "source": [
    "Вывод: По «сырым» данным различий в среднем чеке групп A и B нет.  \n",
    "P-value значительно больше 0.05. Значит, причин отвергать нулевую гипотезу и считать, что в среднем чеке есть различия, нет. Средний чек группы B выше среднего чека группы A на 25,9%."
   ]
  },
  {
   "cell_type": "markdown",
   "metadata": {},
   "source": [
    "### Cтатистическая значимость различий в конверсии между группами по «очищенным» данным"
   ]
  },
  {
   "cell_type": "markdown",
   "metadata": {},
   "source": [
    "Сделаем срезы пользователей с числом заказов больше 2 и пользователей, совершивших заказы дороже 30 000. Объединим их в таблице abnormal_users."
   ]
  },
  {
   "cell_type": "code",
   "execution_count": null,
   "metadata": {},
   "outputs": [],
   "source": [
    "# срез пользователей с числом заказов больше 2\n",
    "users_with_many_orders = pd.concat(\n",
    "    [\n",
    "        orders_by_users_a[orders_by_users_a['orders'] > 2]['visitor_id'],\n",
    "        orders_by_users_b[orders_by_users_b['orders'] > 2]['visitor_id'],\n",
    "    ],\n",
    "    axis=0,\n",
    ")\n",
    "\n",
    "# срез пользователей, совершивших заказы дороже 30 000\n",
    "users_with_expensive_orders = orders[orders['revenue'] > 30000]['visitor_id']\n",
    "\n",
    "# объединение таблиц\n",
    "abnormal_users = (\n",
    "    pd.concat([users_with_many_orders, users_with_expensive_orders], axis=0)\n",
    "    .drop_duplicates()\n",
    "    .sort_values()\n",
    ")\n",
    "\n",
    "print('Количество аномальных пользователей:', abnormal_users.shape)"
   ]
  },
  {
   "cell_type": "markdown",
   "metadata": {},
   "source": [
    "Посчитаем статистическую значимость различий в конверсии между группами теста по очищенным данным. Сначала подготовим выборки количества заказов по пользователям по группам теста:"
   ]
  },
  {
   "cell_type": "code",
   "execution_count": null,
   "metadata": {},
   "outputs": [],
   "source": [
    "sample_a_filtered = pd.concat(\n",
    "    [\n",
    "        orders_by_users_a[\n",
    "            np.logical_not(orders_by_users_a['visitor_id'].isin(abnormal_users))\n",
    "        ]['orders'],\n",
    "        pd.Series(\n",
    "            0,\n",
    "            index=np.arange(\n",
    "                total_data['visitors_per_date_a'].sum() - len(orders_by_users_a['orders'])\n",
    "            ),\n",
    "            name='orders',\n",
    "        ),\n",
    "    ],\n",
    "    axis=0,\n",
    ")\n",
    "\n",
    "sample_b_filtered = pd.concat(\n",
    "    [\n",
    "        orders_by_users_b[\n",
    "            np.logical_not(orders_by_users_b['visitor_id'].isin(abnormal_users))\n",
    "        ]['orders'],\n",
    "        pd.Series(\n",
    "            0,\n",
    "            index=np.arange(\n",
    "                total_data['visitors_per_date_b'].sum() - len(orders_by_users_b['orders'])\n",
    "            ),\n",
    "            name='orders',\n",
    "        ),\n",
    "    ],\n",
    "    axis=0,\n",
    ") "
   ]
  },
  {
   "cell_type": "markdown",
   "metadata": {},
   "source": [
    "Сформулируем нулевую и альтернативную гипотезы:      \n",
    "      \n",
    "**H0** - статистически значимых различий в конверсии между группами А/В-тестирования нет      \n",
    "**H1** - конверсии между группами А/В-тестирования имеют статистически значимые отличия  \n",
    "  \n",
    "Установим уровень статистической значимости α = 0,05. Применим критерий Манна-Уитни к полученным выбокам. Выведем относительное изменение конверсии группы B к группе А."
   ]
  },
  {
   "cell_type": "code",
   "execution_count": null,
   "metadata": {},
   "outputs": [],
   "source": [
    "print('Значение p-value: {0:.3f}'.format(stats.mannwhitneyu(sample_a_filtered, sample_b_filtered, True, 'two-sided')[1]))\n",
    "print('Относительное изменение конверсии группы B к группе А: {0:.3f}'.format(\n",
    "    sample_b_filtered.mean() / sample_a_filtered.mean() - 1\n",
    "))"
   ]
  },
  {
   "cell_type": "markdown",
   "metadata": {},
   "source": [
    "P-value практически не изменился, а относительный прирост конверсии группы В к группе А увеличился с 13,8% до 17,2%.  \n",
    "Р-value остался также меньше 0.05, значит, нулевую гипотезу о том, что статистически значимых различий в конверсии между группами нет, отвергаем. "
   ]
  },
  {
   "cell_type": "markdown",
   "metadata": {},
   "source": [
    "### Cтатистическая значимость различий в среднем чеке заказа между группами по «очищенным» данным"
   ]
  },
  {
   "cell_type": "markdown",
   "metadata": {},
   "source": [
    "Сформулируем нулевую и альтернативную гипотезы:      \n",
    "      \n",
    "**H0** - статистически значимых различий в среднем чеке между группами А/В-тестирования нет      \n",
    "**H1** - средний чек между группами А/В-тестирования имеют статистически значимые отличия  \n",
    "  \n",
    "Установим уровень статистической значимости α = 0,05. Применим критерий Манна-Уитни к полученным данным и выведем относительное изменение среднего чека группы B к группе А."
   ]
  },
  {
   "cell_type": "code",
   "execution_count": null,
   "metadata": {},
   "outputs": [],
   "source": [
    "print(\n",
    "    'Значение p-value: {0:.3f}'.format(\n",
    "        stats.mannwhitneyu(\n",
    "            orders[\n",
    "                np.logical_and(\n",
    "                    orders['group'] == 'A',\n",
    "                    np.logical_not(orders['visitor_id'].isin(abnormal_users)),\n",
    "                )\n",
    "            ]['revenue'],\n",
    "            orders[\n",
    "                np.logical_and(\n",
    "                    orders['group'] == 'B',\n",
    "                    np.logical_not(orders['visitor_id'].isin(abnormal_users)),\n",
    "                )\n",
    "            ]['revenue'], True, 'two-sided'\n",
    "        )[1]\n",
    "    )\n",
    ")\n",
    "\n",
    "print(\n",
    "    'Относительное изменение среднего чека группы B к группе А: {0:.3f}'.format(\n",
    "        orders[\n",
    "            np.logical_and(\n",
    "                orders['group'] == 'B',\n",
    "                np.logical_not(orders['visitor_id'].isin(abnormal_users)),\n",
    "            )\n",
    "        ]['revenue'].mean()\n",
    "        / orders[\n",
    "            np.logical_and(\n",
    "                orders['group'] == 'A',\n",
    "                np.logical_not(orders['visitor_id'].isin(abnormal_users)),\n",
    "            )\n",
    "        ]['revenue'].mean()\n",
    "        - 1\n",
    "    )\n",
    ") "
   ]
  },
  {
   "cell_type": "markdown",
   "metadata": {},
   "source": [
    "P-value практически еще больше увеличился, но вот и разница между сегментами существенно изменилась. Средний чек группы B снизился относительно среднего чека группы A на с 25,9% до -2,3%.  \n",
    "Не смотря на это, р-value остался значительно больше 0.05. Значит, причин отвергать нулевую гипотезу и считать, что в среднем чеке есть различия, нет. "
   ]
  },
  {
   "cell_type": "markdown",
   "metadata": {},
   "source": [
    "### Выводы и решения по результатам теста"
   ]
  },
  {
   "cell_type": "markdown",
   "metadata": {},
   "source": [
    "На данный момент по результатам теста можно сделать следующие выводы:\n",
    "- Есть статистически значимое различие по конверсии между группами как по «сырым», так и по данным после фильтрации аномалий;\n",
    "- Нет статистически значимого различия по среднему чеку между группами ни по «сырым», ни по данным после фильтрации аномалий;\n",
    "- График относительного различия конверсии между группами сообщает, что результаты группы B лучше группы A на 13,8% по «сырым» данным и на 17,2% по данным без аномалий;\n",
    "- Средний чек группы B выше относительно среднего чека группы A по «сырым» данным, но наоборот ниже по данным без аномалий. Вероятно средний чек группы В еще не установился.\n",
    "\n",
    "**Стоит продолжить тестирование, нужно больше данных, чтобы зафиксировался средний чек группы В. Группа В показывает хорошие результаты по конверсии, возможно средний срек группы В также установится выше среднего чека группы А, либо они не будут отличаться.**"
   ]
  }
 ],
 "metadata": {
  "ExecuteTimeLog": [
   {
    "duration": 1176,
    "start_time": "2021-12-20T14:08:54.682Z"
   },
   {
    "duration": 18,
    "start_time": "2021-12-20T15:02:07.838Z"
   },
   {
    "duration": 14,
    "start_time": "2021-12-20T15:02:13.578Z"
   },
   {
    "duration": 6,
    "start_time": "2021-12-20T15:03:38.460Z"
   },
   {
    "duration": 70,
    "start_time": "2021-12-20T15:23:51.048Z"
   },
   {
    "duration": 23,
    "start_time": "2021-12-20T15:23:52.334Z"
   },
   {
    "duration": 4,
    "start_time": "2021-12-20T15:31:51.160Z"
   },
   {
    "duration": 2,
    "start_time": "2021-12-20T15:33:31.462Z"
   },
   {
    "duration": 14,
    "start_time": "2021-12-20T15:33:32.663Z"
   },
   {
    "duration": 4321,
    "start_time": "2021-12-20T15:37:35.810Z"
   },
   {
    "duration": 2247,
    "start_time": "2021-12-20T15:38:27.842Z"
   },
   {
    "duration": 3,
    "start_time": "2021-12-20T15:39:10.195Z"
   },
   {
    "duration": 17,
    "start_time": "2021-12-20T15:39:15.539Z"
   },
   {
    "duration": 5226,
    "start_time": "2021-12-20T15:40:40.272Z"
   },
   {
    "duration": 1268,
    "start_time": "2021-12-20T15:42:00.985Z"
   },
   {
    "duration": 68,
    "start_time": "2021-12-20T15:42:02.255Z"
   },
   {
    "duration": 39,
    "start_time": "2021-12-20T15:42:02.325Z"
   },
   {
    "duration": 3,
    "start_time": "2021-12-20T15:42:02.366Z"
   },
   {
    "duration": 19,
    "start_time": "2021-12-20T15:42:02.371Z"
   },
   {
    "duration": 28,
    "start_time": "2021-12-20T15:42:02.392Z"
   },
   {
    "duration": 19,
    "start_time": "2021-12-20T15:42:02.421Z"
   },
   {
    "duration": 11,
    "start_time": "2021-12-20T15:42:59.354Z"
   },
   {
    "duration": 13,
    "start_time": "2021-12-20T15:51:14.593Z"
   },
   {
    "duration": 8,
    "start_time": "2021-12-20T15:51:53.336Z"
   },
   {
    "duration": 10,
    "start_time": "2021-12-20T15:53:43.074Z"
   },
   {
    "duration": 167,
    "start_time": "2021-12-20T15:56:57.974Z"
   },
   {
    "duration": 117,
    "start_time": "2021-12-20T15:57:16.190Z"
   },
   {
    "duration": 435,
    "start_time": "2021-12-20T15:57:27.646Z"
   },
   {
    "duration": 10,
    "start_time": "2021-12-20T15:57:39.446Z"
   },
   {
    "duration": 10,
    "start_time": "2021-12-20T15:57:58.744Z"
   },
   {
    "duration": 10,
    "start_time": "2021-12-20T15:58:02.135Z"
   },
   {
    "duration": 10,
    "start_time": "2021-12-20T15:58:20.991Z"
   },
   {
    "duration": 11,
    "start_time": "2021-12-20T15:58:31.114Z"
   },
   {
    "duration": 11,
    "start_time": "2021-12-20T15:58:37.591Z"
   },
   {
    "duration": 11,
    "start_time": "2021-12-20T15:58:46.118Z"
   },
   {
    "duration": 13,
    "start_time": "2021-12-20T15:58:51.375Z"
   },
   {
    "duration": 1576,
    "start_time": "2021-12-21T13:17:35.661Z"
   },
   {
    "duration": 68,
    "start_time": "2021-12-21T13:17:37.240Z"
   },
   {
    "duration": 41,
    "start_time": "2021-12-21T13:17:37.311Z"
   },
   {
    "duration": 4,
    "start_time": "2021-12-21T13:17:37.354Z"
   },
   {
    "duration": 11,
    "start_time": "2021-12-21T13:17:37.360Z"
   },
   {
    "duration": 25,
    "start_time": "2021-12-21T13:17:37.373Z"
   },
   {
    "duration": 23,
    "start_time": "2021-12-21T13:17:37.400Z"
   },
   {
    "duration": 44,
    "start_time": "2021-12-21T13:17:37.426Z"
   },
   {
    "duration": 16,
    "start_time": "2021-12-21T13:17:37.473Z"
   },
   {
    "duration": 16,
    "start_time": "2021-12-21T13:17:37.492Z"
   },
   {
    "duration": 53,
    "start_time": "2021-12-21T13:17:37.510Z"
   },
   {
    "duration": 8005,
    "start_time": "2021-12-21T13:27:04.220Z"
   },
   {
    "duration": 8891,
    "start_time": "2021-12-21T13:27:32.601Z"
   },
   {
    "duration": 343,
    "start_time": "2021-12-21T13:28:44.558Z"
   },
   {
    "duration": 331,
    "start_time": "2021-12-21T13:31:09.976Z"
   },
   {
    "duration": 337,
    "start_time": "2021-12-21T13:31:17.167Z"
   },
   {
    "duration": 328,
    "start_time": "2021-12-21T13:31:44.183Z"
   },
   {
    "duration": 16,
    "start_time": "2021-12-21T13:31:53.360Z"
   },
   {
    "duration": 340,
    "start_time": "2021-12-21T13:34:10.018Z"
   },
   {
    "duration": 759,
    "start_time": "2021-12-21T13:35:59.364Z"
   },
   {
    "duration": 519,
    "start_time": "2021-12-21T13:36:18.091Z"
   },
   {
    "duration": 402,
    "start_time": "2021-12-21T13:36:28.315Z"
   },
   {
    "duration": 446,
    "start_time": "2021-12-21T13:36:38.995Z"
   },
   {
    "duration": 517,
    "start_time": "2021-12-21T13:39:35.971Z"
   },
   {
    "duration": 311,
    "start_time": "2021-12-21T13:42:23.665Z"
   },
   {
    "duration": 473,
    "start_time": "2021-12-21T13:43:28.843Z"
   },
   {
    "duration": 425,
    "start_time": "2021-12-21T13:43:32.609Z"
   },
   {
    "duration": 146,
    "start_time": "2021-12-21T13:47:18.046Z"
   },
   {
    "duration": 585,
    "start_time": "2021-12-21T13:47:29.446Z"
   },
   {
    "duration": 398,
    "start_time": "2021-12-21T13:48:34.895Z"
   },
   {
    "duration": 526,
    "start_time": "2021-12-21T13:53:11.290Z"
   },
   {
    "duration": 538,
    "start_time": "2021-12-21T13:53:27.609Z"
   },
   {
    "duration": 680,
    "start_time": "2021-12-21T13:54:31.748Z"
   },
   {
    "duration": 107,
    "start_time": "2021-12-21T13:59:02.081Z"
   },
   {
    "duration": 284,
    "start_time": "2021-12-21T13:59:32.033Z"
   },
   {
    "duration": 297,
    "start_time": "2021-12-21T13:59:47.711Z"
   },
   {
    "duration": 454,
    "start_time": "2021-12-21T14:02:13.315Z"
   },
   {
    "duration": 472,
    "start_time": "2021-12-21T14:04:18.149Z"
   },
   {
    "duration": 420,
    "start_time": "2021-12-21T14:04:38.492Z"
   },
   {
    "duration": 373,
    "start_time": "2021-12-21T14:05:32.198Z"
   },
   {
    "duration": 308,
    "start_time": "2021-12-21T14:05:52.556Z"
   },
   {
    "duration": 291,
    "start_time": "2021-12-21T14:06:12.206Z"
   },
   {
    "duration": 434,
    "start_time": "2021-12-21T14:06:36.132Z"
   },
   {
    "duration": 450,
    "start_time": "2021-12-21T14:12:32.956Z"
   },
   {
    "duration": 644,
    "start_time": "2021-12-21T14:13:23.012Z"
   },
   {
    "duration": 532,
    "start_time": "2021-12-21T14:13:58.924Z"
   },
   {
    "duration": 528,
    "start_time": "2021-12-21T14:14:31.725Z"
   },
   {
    "duration": 513,
    "start_time": "2021-12-21T14:15:05.540Z"
   },
   {
    "duration": 630,
    "start_time": "2021-12-21T14:15:14.044Z"
   },
   {
    "duration": 704,
    "start_time": "2021-12-21T14:16:15.189Z"
   },
   {
    "duration": 676,
    "start_time": "2021-12-21T14:16:46.334Z"
   },
   {
    "duration": 699,
    "start_time": "2021-12-21T14:18:20.968Z"
   },
   {
    "duration": 663,
    "start_time": "2021-12-21T14:19:16.912Z"
   },
   {
    "duration": 25,
    "start_time": "2021-12-21T14:25:43.877Z"
   },
   {
    "duration": 529,
    "start_time": "2021-12-21T14:27:29.048Z"
   },
   {
    "duration": 597,
    "start_time": "2021-12-21T14:28:00.639Z"
   },
   {
    "duration": 441,
    "start_time": "2021-12-21T14:28:23.745Z"
   },
   {
    "duration": 726,
    "start_time": "2021-12-21T14:28:59.857Z"
   },
   {
    "duration": 524,
    "start_time": "2021-12-21T14:29:10.273Z"
   },
   {
    "duration": 385,
    "start_time": "2021-12-21T14:29:17.488Z"
   },
   {
    "duration": 412,
    "start_time": "2021-12-21T14:31:44.098Z"
   },
   {
    "duration": 7,
    "start_time": "2021-12-21T14:44:11.949Z"
   },
   {
    "duration": 375,
    "start_time": "2021-12-21T14:46:40.790Z"
   },
   {
    "duration": 462,
    "start_time": "2021-12-21T14:47:53.529Z"
   },
   {
    "duration": 7594,
    "start_time": "2021-12-21T14:50:05.489Z"
   },
   {
    "duration": 8,
    "start_time": "2021-12-21T14:50:21.411Z"
   },
   {
    "duration": 510,
    "start_time": "2021-12-21T15:06:51.127Z"
   },
   {
    "duration": 479,
    "start_time": "2021-12-21T15:08:55.315Z"
   },
   {
    "duration": 585,
    "start_time": "2021-12-21T15:13:48.167Z"
   },
   {
    "duration": 495,
    "start_time": "2021-12-21T15:14:36.206Z"
   },
   {
    "duration": 1546,
    "start_time": "2021-12-21T15:23:37.581Z"
   },
   {
    "duration": 71,
    "start_time": "2021-12-21T15:23:39.130Z"
   },
   {
    "duration": 43,
    "start_time": "2021-12-21T15:23:39.204Z"
   },
   {
    "duration": 5,
    "start_time": "2021-12-21T15:23:39.250Z"
   },
   {
    "duration": 4,
    "start_time": "2021-12-21T15:23:39.262Z"
   },
   {
    "duration": 28,
    "start_time": "2021-12-21T15:23:39.269Z"
   },
   {
    "duration": 24,
    "start_time": "2021-12-21T15:23:39.300Z"
   },
   {
    "duration": 15,
    "start_time": "2021-12-21T15:23:39.365Z"
   },
   {
    "duration": 16,
    "start_time": "2021-12-21T15:23:39.384Z"
   },
   {
    "duration": 17,
    "start_time": "2021-12-21T15:23:39.403Z"
   },
   {
    "duration": 53,
    "start_time": "2021-12-21T15:23:39.422Z"
   },
   {
    "duration": 358,
    "start_time": "2021-12-21T15:23:39.478Z"
   },
   {
    "duration": 433,
    "start_time": "2021-12-21T15:23:39.838Z"
   },
   {
    "duration": -56,
    "start_time": "2021-12-21T15:23:40.330Z"
   },
   {
    "duration": -65,
    "start_time": "2021-12-21T15:23:40.341Z"
   },
   {
    "duration": -68,
    "start_time": "2021-12-21T15:23:40.345Z"
   },
   {
    "duration": -71,
    "start_time": "2021-12-21T15:23:40.349Z"
   },
   {
    "duration": -73,
    "start_time": "2021-12-21T15:23:40.352Z"
   },
   {
    "duration": -77,
    "start_time": "2021-12-21T15:23:40.357Z"
   },
   {
    "duration": -78,
    "start_time": "2021-12-21T15:23:40.359Z"
   },
   {
    "duration": -80,
    "start_time": "2021-12-21T15:23:40.362Z"
   },
   {
    "duration": -82,
    "start_time": "2021-12-21T15:23:40.365Z"
   },
   {
    "duration": -83,
    "start_time": "2021-12-21T15:23:40.367Z"
   },
   {
    "duration": 1642,
    "start_time": "2021-12-21T15:24:19.159Z"
   },
   {
    "duration": 69,
    "start_time": "2021-12-21T15:24:20.804Z"
   },
   {
    "duration": 38,
    "start_time": "2021-12-21T15:24:20.877Z"
   },
   {
    "duration": 4,
    "start_time": "2021-12-21T15:24:20.920Z"
   },
   {
    "duration": 13,
    "start_time": "2021-12-21T15:24:20.927Z"
   },
   {
    "duration": 23,
    "start_time": "2021-12-21T15:24:20.963Z"
   },
   {
    "duration": 23,
    "start_time": "2021-12-21T15:24:20.988Z"
   },
   {
    "duration": 50,
    "start_time": "2021-12-21T15:24:21.015Z"
   },
   {
    "duration": 23,
    "start_time": "2021-12-21T15:24:21.069Z"
   },
   {
    "duration": 24,
    "start_time": "2021-12-21T15:24:21.095Z"
   },
   {
    "duration": 43,
    "start_time": "2021-12-21T15:24:21.122Z"
   },
   {
    "duration": 344,
    "start_time": "2021-12-21T15:24:21.167Z"
   },
   {
    "duration": 492,
    "start_time": "2021-12-21T15:24:21.514Z"
   },
   {
    "duration": 447,
    "start_time": "2021-12-21T15:24:22.008Z"
   },
   {
    "duration": 537,
    "start_time": "2021-12-21T15:24:22.458Z"
   },
   {
    "duration": 298,
    "start_time": "2021-12-21T15:24:22.998Z"
   },
   {
    "duration": 431,
    "start_time": "2021-12-21T15:24:23.299Z"
   },
   {
    "duration": 562,
    "start_time": "2021-12-21T15:24:23.733Z"
   },
   {
    "duration": 450,
    "start_time": "2021-12-21T15:24:24.298Z"
   },
   {
    "duration": 15,
    "start_time": "2021-12-21T15:24:24.751Z"
   },
   {
    "duration": 561,
    "start_time": "2021-12-21T15:24:24.769Z"
   },
   {
    "duration": 9,
    "start_time": "2021-12-21T15:24:25.332Z"
   },
   {
    "duration": 488,
    "start_time": "2021-12-21T15:24:25.345Z"
   },
   {
    "duration": 460,
    "start_time": "2021-12-21T15:27:00.425Z"
   },
   {
    "duration": 372,
    "start_time": "2021-12-21T15:27:25.546Z"
   },
   {
    "duration": 16,
    "start_time": "2021-12-21T15:29:07.868Z"
   },
   {
    "duration": 12,
    "start_time": "2021-12-21T15:30:51.467Z"
   },
   {
    "duration": 12,
    "start_time": "2021-12-21T15:30:58.796Z"
   },
   {
    "duration": 9,
    "start_time": "2021-12-21T15:38:54.757Z"
   },
   {
    "duration": 10,
    "start_time": "2021-12-21T15:40:19.173Z"
   },
   {
    "duration": 10,
    "start_time": "2021-12-21T15:40:27.141Z"
   },
   {
    "duration": 5,
    "start_time": "2021-12-21T15:42:22.934Z"
   },
   {
    "duration": 10,
    "start_time": "2021-12-21T15:43:02.203Z"
   },
   {
    "duration": 15,
    "start_time": "2021-12-21T16:00:09.830Z"
   },
   {
    "duration": 15,
    "start_time": "2021-12-21T16:00:19.511Z"
   },
   {
    "duration": 12,
    "start_time": "2021-12-21T16:01:42.582Z"
   },
   {
    "duration": 15,
    "start_time": "2021-12-21T16:02:20.080Z"
   },
   {
    "duration": 419,
    "start_time": "2021-12-21T16:10:50.238Z"
   },
   {
    "duration": 12,
    "start_time": "2021-12-21T16:11:59.039Z"
   },
   {
    "duration": 8,
    "start_time": "2021-12-21T16:12:04.696Z"
   },
   {
    "duration": 8,
    "start_time": "2021-12-21T16:12:37.840Z"
   },
   {
    "duration": 19,
    "start_time": "2021-12-21T16:12:52.955Z"
   },
   {
    "duration": 7,
    "start_time": "2021-12-21T16:12:54.473Z"
   },
   {
    "duration": 13,
    "start_time": "2021-12-21T16:13:05.968Z"
   },
   {
    "duration": 7,
    "start_time": "2021-12-21T16:13:07.379Z"
   },
   {
    "duration": 300,
    "start_time": "2021-12-21T16:14:28.017Z"
   },
   {
    "duration": 15,
    "start_time": "2021-12-21T16:14:33.073Z"
   },
   {
    "duration": 15,
    "start_time": "2021-12-21T16:14:41.379Z"
   },
   {
    "duration": 19,
    "start_time": "2021-12-21T16:17:21.717Z"
   },
   {
    "duration": 13,
    "start_time": "2021-12-21T16:17:26.635Z"
   },
   {
    "duration": 10249,
    "start_time": "2021-12-21T16:21:03.265Z"
   },
   {
    "duration": 12,
    "start_time": "2021-12-21T16:21:38.040Z"
   },
   {
    "duration": 10,
    "start_time": "2021-12-21T16:25:34.195Z"
   },
   {
    "duration": 20,
    "start_time": "2021-12-21T16:31:47.986Z"
   },
   {
    "duration": 1702,
    "start_time": "2021-12-21T16:35:22.175Z"
   },
   {
    "duration": 69,
    "start_time": "2021-12-21T16:35:23.880Z"
   },
   {
    "duration": 41,
    "start_time": "2021-12-21T16:35:23.953Z"
   },
   {
    "duration": 6,
    "start_time": "2021-12-21T16:35:23.998Z"
   },
   {
    "duration": 5,
    "start_time": "2021-12-21T16:35:24.006Z"
   },
   {
    "duration": 57,
    "start_time": "2021-12-21T16:35:24.014Z"
   },
   {
    "duration": 22,
    "start_time": "2021-12-21T16:35:24.073Z"
   },
   {
    "duration": 14,
    "start_time": "2021-12-21T16:35:24.099Z"
   },
   {
    "duration": 57,
    "start_time": "2021-12-21T16:35:24.115Z"
   },
   {
    "duration": 24,
    "start_time": "2021-12-21T16:35:24.176Z"
   },
   {
    "duration": 18,
    "start_time": "2021-12-21T16:35:24.204Z"
   },
   {
    "duration": 544,
    "start_time": "2021-12-21T16:35:24.224Z"
   },
   {
    "duration": 486,
    "start_time": "2021-12-21T16:35:24.771Z"
   },
   {
    "duration": 646,
    "start_time": "2021-12-21T16:35:25.264Z"
   },
   {
    "duration": 740,
    "start_time": "2021-12-21T16:35:25.913Z"
   },
   {
    "duration": 316,
    "start_time": "2021-12-21T16:35:26.656Z"
   },
   {
    "duration": 633,
    "start_time": "2021-12-21T16:35:26.974Z"
   },
   {
    "duration": 542,
    "start_time": "2021-12-21T16:35:27.611Z"
   },
   {
    "duration": 431,
    "start_time": "2021-12-21T16:35:28.163Z"
   },
   {
    "duration": 8,
    "start_time": "2021-12-21T16:35:28.597Z"
   },
   {
    "duration": 529,
    "start_time": "2021-12-21T16:35:28.607Z"
   },
   {
    "duration": 7,
    "start_time": "2021-12-21T16:35:29.138Z"
   },
   {
    "duration": 562,
    "start_time": "2021-12-21T16:35:29.162Z"
   },
   {
    "duration": 16,
    "start_time": "2021-12-21T16:35:29.727Z"
   },
   {
    "duration": 10,
    "start_time": "2021-12-21T16:35:29.763Z"
   },
   {
    "duration": 572,
    "start_time": "2021-12-21T16:35:29.776Z"
   },
   {
    "duration": -2,
    "start_time": "2021-12-21T16:35:30.353Z"
   },
   {
    "duration": -7,
    "start_time": "2021-12-21T16:35:30.360Z"
   },
   {
    "duration": -10,
    "start_time": "2021-12-21T16:35:30.365Z"
   },
   {
    "duration": -14,
    "start_time": "2021-12-21T16:35:30.371Z"
   },
   {
    "duration": -18,
    "start_time": "2021-12-21T16:35:30.377Z"
   },
   {
    "duration": 9,
    "start_time": "2021-12-21T16:36:11.977Z"
   },
   {
    "duration": 1482,
    "start_time": "2021-12-21T16:36:18.310Z"
   },
   {
    "duration": 67,
    "start_time": "2021-12-21T16:36:19.795Z"
   },
   {
    "duration": 74,
    "start_time": "2021-12-21T16:36:19.866Z"
   },
   {
    "duration": 40,
    "start_time": "2021-12-21T16:36:19.943Z"
   },
   {
    "duration": 72,
    "start_time": "2021-12-21T16:36:19.986Z"
   },
   {
    "duration": 56,
    "start_time": "2021-12-21T16:36:20.060Z"
   },
   {
    "duration": 46,
    "start_time": "2021-12-21T16:36:20.119Z"
   },
   {
    "duration": 29,
    "start_time": "2021-12-21T16:36:20.169Z"
   },
   {
    "duration": 52,
    "start_time": "2021-12-21T16:36:20.202Z"
   },
   {
    "duration": 43,
    "start_time": "2021-12-21T16:36:20.256Z"
   },
   {
    "duration": 36,
    "start_time": "2021-12-21T16:36:20.302Z"
   },
   {
    "duration": 351,
    "start_time": "2021-12-21T16:36:20.340Z"
   },
   {
    "duration": 703,
    "start_time": "2021-12-21T16:36:20.694Z"
   },
   {
    "duration": 769,
    "start_time": "2021-12-21T16:36:21.401Z"
   },
   {
    "duration": 517,
    "start_time": "2021-12-21T16:36:22.173Z"
   },
   {
    "duration": 305,
    "start_time": "2021-12-21T16:36:22.692Z"
   },
   {
    "duration": 446,
    "start_time": "2021-12-21T16:36:22.999Z"
   },
   {
    "duration": 563,
    "start_time": "2021-12-21T16:36:23.449Z"
   },
   {
    "duration": 646,
    "start_time": "2021-12-21T16:36:24.016Z"
   },
   {
    "duration": 7,
    "start_time": "2021-12-21T16:36:24.666Z"
   },
   {
    "duration": 540,
    "start_time": "2021-12-21T16:36:24.675Z"
   },
   {
    "duration": 7,
    "start_time": "2021-12-21T16:36:25.218Z"
   },
   {
    "duration": 498,
    "start_time": "2021-12-21T16:36:25.231Z"
   },
   {
    "duration": 16,
    "start_time": "2021-12-21T16:36:25.731Z"
   },
   {
    "duration": 40,
    "start_time": "2021-12-21T16:36:25.762Z"
   },
   {
    "duration": 41,
    "start_time": "2021-12-21T16:36:25.804Z"
   },
   {
    "duration": 14,
    "start_time": "2021-12-21T16:36:25.847Z"
   },
   {
    "duration": 43,
    "start_time": "2021-12-21T16:36:25.863Z"
   },
   {
    "duration": 55,
    "start_time": "2021-12-21T16:36:25.909Z"
   },
   {
    "duration": 34,
    "start_time": "2021-12-21T16:36:25.967Z"
   },
   {
    "duration": 43,
    "start_time": "2021-12-21T16:36:26.003Z"
   },
   {
    "duration": 1511,
    "start_time": "2021-12-21T16:37:18.136Z"
   },
   {
    "duration": 72,
    "start_time": "2021-12-21T16:37:19.649Z"
   },
   {
    "duration": 41,
    "start_time": "2021-12-21T16:37:19.725Z"
   },
   {
    "duration": 4,
    "start_time": "2021-12-21T16:37:19.769Z"
   },
   {
    "duration": 3,
    "start_time": "2021-12-21T16:37:19.776Z"
   },
   {
    "duration": 31,
    "start_time": "2021-12-21T16:37:19.782Z"
   },
   {
    "duration": 51,
    "start_time": "2021-12-21T16:37:19.815Z"
   },
   {
    "duration": 17,
    "start_time": "2021-12-21T16:37:19.870Z"
   },
   {
    "duration": 16,
    "start_time": "2021-12-21T16:37:19.891Z"
   },
   {
    "duration": 15,
    "start_time": "2021-12-21T16:37:19.909Z"
   },
   {
    "duration": 16,
    "start_time": "2021-12-21T16:37:19.963Z"
   },
   {
    "duration": 340,
    "start_time": "2021-12-21T16:37:19.981Z"
   },
   {
    "duration": 475,
    "start_time": "2021-12-21T16:37:20.324Z"
   },
   {
    "duration": 447,
    "start_time": "2021-12-21T16:37:20.801Z"
   },
   {
    "duration": 571,
    "start_time": "2021-12-21T16:37:21.251Z"
   },
   {
    "duration": 295,
    "start_time": "2021-12-21T16:37:21.824Z"
   },
   {
    "duration": 442,
    "start_time": "2021-12-21T16:37:22.121Z"
   },
   {
    "duration": 698,
    "start_time": "2021-12-21T16:37:22.565Z"
   },
   {
    "duration": 583,
    "start_time": "2021-12-21T16:37:23.266Z"
   },
   {
    "duration": 21,
    "start_time": "2021-12-21T16:37:23.853Z"
   },
   {
    "duration": 620,
    "start_time": "2021-12-21T16:37:23.877Z"
   },
   {
    "duration": 7,
    "start_time": "2021-12-21T16:37:24.500Z"
   },
   {
    "duration": 478,
    "start_time": "2021-12-21T16:37:24.513Z"
   },
   {
    "duration": 16,
    "start_time": "2021-12-21T16:37:24.994Z"
   },
   {
    "duration": 16,
    "start_time": "2021-12-21T16:37:25.012Z"
   },
   {
    "duration": 33,
    "start_time": "2021-12-21T16:37:25.030Z"
   },
   {
    "duration": 17,
    "start_time": "2021-12-21T16:37:25.066Z"
   },
   {
    "duration": 26,
    "start_time": "2021-12-21T16:37:25.086Z"
   },
   {
    "duration": 33,
    "start_time": "2021-12-21T16:37:25.115Z"
   },
   {
    "duration": 21,
    "start_time": "2021-12-21T16:37:25.151Z"
   },
   {
    "duration": 33,
    "start_time": "2021-12-21T16:37:25.175Z"
   },
   {
    "duration": 1596,
    "start_time": "2021-12-22T12:23:28.326Z"
   },
   {
    "duration": 70,
    "start_time": "2021-12-22T12:23:29.925Z"
   },
   {
    "duration": 30,
    "start_time": "2021-12-22T12:23:29.998Z"
   },
   {
    "duration": 4,
    "start_time": "2021-12-22T12:23:30.030Z"
   },
   {
    "duration": 10,
    "start_time": "2021-12-22T12:23:30.036Z"
   },
   {
    "duration": 20,
    "start_time": "2021-12-22T12:23:30.048Z"
   },
   {
    "duration": 15,
    "start_time": "2021-12-22T12:23:30.069Z"
   },
   {
    "duration": 16,
    "start_time": "2021-12-22T12:23:30.088Z"
   },
   {
    "duration": 14,
    "start_time": "2021-12-22T12:23:30.107Z"
   },
   {
    "duration": 29,
    "start_time": "2021-12-22T12:23:30.122Z"
   },
   {
    "duration": 25,
    "start_time": "2021-12-22T12:23:30.153Z"
   },
   {
    "duration": 254,
    "start_time": "2021-12-22T12:23:30.180Z"
   },
   {
    "duration": 326,
    "start_time": "2021-12-22T12:23:30.435Z"
   },
   {
    "duration": 293,
    "start_time": "2021-12-22T12:23:30.763Z"
   },
   {
    "duration": 386,
    "start_time": "2021-12-22T12:23:31.058Z"
   },
   {
    "duration": 184,
    "start_time": "2021-12-22T12:23:31.446Z"
   },
   {
    "duration": 304,
    "start_time": "2021-12-22T12:23:31.631Z"
   },
   {
    "duration": 406,
    "start_time": "2021-12-22T12:23:31.940Z"
   },
   {
    "duration": 353,
    "start_time": "2021-12-22T12:23:32.348Z"
   },
   {
    "duration": 5,
    "start_time": "2021-12-22T12:23:32.703Z"
   },
   {
    "duration": 387,
    "start_time": "2021-12-22T12:23:32.710Z"
   },
   {
    "duration": 4,
    "start_time": "2021-12-22T12:23:33.099Z"
   },
   {
    "duration": 305,
    "start_time": "2021-12-22T12:23:33.106Z"
   },
   {
    "duration": 11,
    "start_time": "2021-12-22T12:23:33.412Z"
   },
   {
    "duration": 19,
    "start_time": "2021-12-22T12:23:33.425Z"
   },
   {
    "duration": 11,
    "start_time": "2021-12-22T12:23:33.446Z"
   },
   {
    "duration": 10,
    "start_time": "2021-12-22T12:23:33.458Z"
   },
   {
    "duration": 8,
    "start_time": "2021-12-22T12:23:33.470Z"
   },
   {
    "duration": 18,
    "start_time": "2021-12-22T12:23:33.480Z"
   },
   {
    "duration": 10,
    "start_time": "2021-12-22T12:23:33.500Z"
   },
   {
    "duration": 42,
    "start_time": "2021-12-22T12:23:33.512Z"
   },
   {
    "duration": 702,
    "start_time": "2021-12-22T13:57:12.726Z"
   },
   {
    "duration": 356,
    "start_time": "2021-12-22T13:57:34.294Z"
   },
   {
    "duration": 287,
    "start_time": "2021-12-22T13:57:51.318Z"
   },
   {
    "duration": 263,
    "start_time": "2021-12-22T13:58:20.660Z"
   },
   {
    "duration": 11,
    "start_time": "2021-12-22T14:02:43.480Z"
   },
   {
    "duration": 12,
    "start_time": "2021-12-22T14:03:04.490Z"
   },
   {
    "duration": 1505,
    "start_time": "2021-12-23T15:57:40.902Z"
   },
   {
    "duration": 100,
    "start_time": "2021-12-23T15:57:42.409Z"
   },
   {
    "duration": 25,
    "start_time": "2021-12-23T15:57:42.512Z"
   },
   {
    "duration": 12,
    "start_time": "2021-12-23T15:57:42.539Z"
   },
   {
    "duration": 25,
    "start_time": "2021-12-23T15:57:42.553Z"
   },
   {
    "duration": 51,
    "start_time": "2021-12-23T15:57:42.580Z"
   },
   {
    "duration": 27,
    "start_time": "2021-12-23T15:57:42.633Z"
   },
   {
    "duration": 23,
    "start_time": "2021-12-23T15:57:42.662Z"
   },
   {
    "duration": 44,
    "start_time": "2021-12-23T15:57:42.687Z"
   },
   {
    "duration": 20,
    "start_time": "2021-12-23T15:57:42.733Z"
   },
   {
    "duration": 29,
    "start_time": "2021-12-23T15:57:42.755Z"
   },
   {
    "duration": 146,
    "start_time": "2021-12-23T15:57:42.786Z"
   },
   {
    "duration": 325,
    "start_time": "2021-12-23T15:57:42.934Z"
   },
   {
    "duration": 383,
    "start_time": "2021-12-23T15:57:43.261Z"
   },
   {
    "duration": 317,
    "start_time": "2021-12-23T15:57:43.646Z"
   },
   {
    "duration": 158,
    "start_time": "2021-12-23T15:57:43.965Z"
   },
   {
    "duration": 628,
    "start_time": "2021-12-23T15:57:44.125Z"
   },
   {
    "duration": 71286,
    "start_time": "2021-12-23T15:56:33.470Z"
   },
   {
    "duration": 71285,
    "start_time": "2021-12-23T15:56:33.473Z"
   },
   {
    "duration": 71282,
    "start_time": "2021-12-23T15:56:33.477Z"
   },
   {
    "duration": 71280,
    "start_time": "2021-12-23T15:56:33.481Z"
   },
   {
    "duration": 71278,
    "start_time": "2021-12-23T15:56:33.484Z"
   },
   {
    "duration": 71275,
    "start_time": "2021-12-23T15:56:33.489Z"
   },
   {
    "duration": 71273,
    "start_time": "2021-12-23T15:56:33.492Z"
   },
   {
    "duration": 71271,
    "start_time": "2021-12-23T15:56:33.496Z"
   },
   {
    "duration": 71270,
    "start_time": "2021-12-23T15:56:33.499Z"
   },
   {
    "duration": 71267,
    "start_time": "2021-12-23T15:56:33.503Z"
   },
   {
    "duration": 71266,
    "start_time": "2021-12-23T15:56:33.506Z"
   },
   {
    "duration": 71264,
    "start_time": "2021-12-23T15:56:33.509Z"
   },
   {
    "duration": 71263,
    "start_time": "2021-12-23T15:56:33.512Z"
   },
   {
    "duration": 71260,
    "start_time": "2021-12-23T15:56:33.516Z"
   },
   {
    "duration": 1196,
    "start_time": "2021-12-23T15:58:00.309Z"
   },
   {
    "duration": 230,
    "start_time": "2021-12-23T15:58:02.556Z"
   },
   {
    "duration": 6,
    "start_time": "2021-12-23T15:58:10.620Z"
   },
   {
    "duration": 297,
    "start_time": "2021-12-23T15:58:11.820Z"
   },
   {
    "duration": 6,
    "start_time": "2021-12-23T15:58:12.644Z"
   },
   {
    "duration": 336,
    "start_time": "2021-12-23T15:58:13.493Z"
   },
   {
    "duration": 14,
    "start_time": "2021-12-23T15:58:13.925Z"
   },
   {
    "duration": 9,
    "start_time": "2021-12-23T15:58:14.564Z"
   },
   {
    "duration": 11,
    "start_time": "2021-12-23T15:58:15.173Z"
   },
   {
    "duration": 9,
    "start_time": "2021-12-23T15:58:16.476Z"
   },
   {
    "duration": 11,
    "start_time": "2021-12-23T15:58:17.236Z"
   },
   {
    "duration": 8,
    "start_time": "2021-12-23T15:58:17.596Z"
   },
   {
    "duration": 9,
    "start_time": "2021-12-23T15:58:17.988Z"
   },
   {
    "duration": 12,
    "start_time": "2021-12-23T15:58:18.828Z"
   },
   {
    "duration": 295,
    "start_time": "2021-12-23T16:01:04.964Z"
   },
   {
    "duration": 323,
    "start_time": "2021-12-23T16:01:26.972Z"
   },
   {
    "duration": 1503,
    "start_time": "2021-12-23T16:59:39.099Z"
   },
   {
    "duration": 65,
    "start_time": "2021-12-23T16:59:40.605Z"
   },
   {
    "duration": 46,
    "start_time": "2021-12-23T16:59:40.673Z"
   },
   {
    "duration": 5,
    "start_time": "2021-12-23T16:59:40.723Z"
   },
   {
    "duration": 37,
    "start_time": "2021-12-23T16:59:40.731Z"
   },
   {
    "duration": 27,
    "start_time": "2021-12-23T16:59:40.772Z"
   },
   {
    "duration": 24,
    "start_time": "2021-12-23T16:59:40.801Z"
   },
   {
    "duration": 53,
    "start_time": "2021-12-23T16:59:40.829Z"
   },
   {
    "duration": 21,
    "start_time": "2021-12-23T16:59:40.886Z"
   },
   {
    "duration": 16,
    "start_time": "2021-12-23T16:59:40.910Z"
   },
   {
    "duration": 23,
    "start_time": "2021-12-23T16:59:40.969Z"
   },
   {
    "duration": 516,
    "start_time": "2021-12-23T16:59:40.995Z"
   },
   {
    "duration": 483,
    "start_time": "2021-12-23T16:59:41.514Z"
   },
   {
    "duration": 478,
    "start_time": "2021-12-23T16:59:41.999Z"
   },
   {
    "duration": 545,
    "start_time": "2021-12-23T16:59:42.479Z"
   },
   {
    "duration": 432,
    "start_time": "2021-12-23T16:59:43.027Z"
   },
   {
    "duration": 772,
    "start_time": "2021-12-23T16:59:43.467Z"
   },
   {
    "duration": 741,
    "start_time": "2021-12-23T16:59:44.243Z"
   },
   {
    "duration": 460,
    "start_time": "2021-12-23T16:59:44.987Z"
   },
   {
    "duration": 18,
    "start_time": "2021-12-23T16:59:45.450Z"
   },
   {
    "duration": 466,
    "start_time": "2021-12-23T16:59:45.471Z"
   },
   {
    "duration": 12,
    "start_time": "2021-12-23T16:59:45.940Z"
   },
   {
    "duration": 488,
    "start_time": "2021-12-23T16:59:45.968Z"
   },
   {
    "duration": 21,
    "start_time": "2021-12-23T16:59:46.459Z"
   },
   {
    "duration": 8,
    "start_time": "2021-12-23T16:59:46.483Z"
   },
   {
    "duration": 13,
    "start_time": "2021-12-23T16:59:46.494Z"
   },
   {
    "duration": 60,
    "start_time": "2021-12-23T16:59:46.510Z"
   },
   {
    "duration": 14,
    "start_time": "2021-12-23T16:59:46.572Z"
   },
   {
    "duration": 16,
    "start_time": "2021-12-23T16:59:46.589Z"
   },
   {
    "duration": 9,
    "start_time": "2021-12-23T16:59:46.608Z"
   },
   {
    "duration": 61,
    "start_time": "2021-12-23T16:59:46.620Z"
   },
   {
    "duration": 106,
    "start_time": "2021-12-23T17:13:17.365Z"
   },
   {
    "duration": 6,
    "start_time": "2021-12-23T17:13:40.836Z"
   },
   {
    "duration": 2242,
    "start_time": "2021-12-23T17:14:01.389Z"
   },
   {
    "duration": 1834,
    "start_time": "2021-12-23T17:14:45.071Z"
   },
   {
    "duration": 6,
    "start_time": "2021-12-23T17:15:10.286Z"
   },
   {
    "duration": 7,
    "start_time": "2021-12-23T17:15:29.349Z"
   },
   {
    "duration": 7,
    "start_time": "2021-12-23T17:15:35.278Z"
   },
   {
    "duration": 8,
    "start_time": "2021-12-23T17:16:02.711Z"
   },
   {
    "duration": 85,
    "start_time": "2021-12-23T17:16:08.466Z"
   },
   {
    "duration": 7027,
    "start_time": "2021-12-23T17:25:10.775Z"
   },
   {
    "duration": 1364,
    "start_time": "2021-12-23T17:25:30.111Z"
   },
   {
    "duration": 82,
    "start_time": "2021-12-23T17:25:31.477Z"
   },
   {
    "duration": 46,
    "start_time": "2021-12-23T17:25:31.563Z"
   },
   {
    "duration": 5,
    "start_time": "2021-12-23T17:25:31.613Z"
   },
   {
    "duration": 9,
    "start_time": "2021-12-23T17:25:31.622Z"
   },
   {
    "duration": 57,
    "start_time": "2021-12-23T17:25:31.633Z"
   },
   {
    "duration": 23,
    "start_time": "2021-12-23T17:25:31.693Z"
   },
   {
    "duration": 55,
    "start_time": "2021-12-23T17:25:31.720Z"
   },
   {
    "duration": 15,
    "start_time": "2021-12-23T17:25:31.779Z"
   },
   {
    "duration": 18,
    "start_time": "2021-12-23T17:25:31.797Z"
   },
   {
    "duration": 20,
    "start_time": "2021-12-23T17:25:31.817Z"
   },
   {
    "duration": 18,
    "start_time": "2021-12-23T17:25:31.867Z"
   },
   {
    "duration": 458,
    "start_time": "2021-12-23T17:25:31.887Z"
   },
   {
    "duration": 490,
    "start_time": "2021-12-23T17:25:32.347Z"
   },
   {
    "duration": 457,
    "start_time": "2021-12-23T17:25:32.840Z"
   },
   {
    "duration": 788,
    "start_time": "2021-12-23T17:25:33.300Z"
   },
   {
    "duration": 441,
    "start_time": "2021-12-23T17:25:34.091Z"
   },
   {
    "duration": 589,
    "start_time": "2021-12-23T17:25:34.535Z"
   },
   {
    "duration": 719,
    "start_time": "2021-12-23T17:25:35.127Z"
   },
   {
    "duration": 456,
    "start_time": "2021-12-23T17:25:35.849Z"
   },
   {
    "duration": 8,
    "start_time": "2021-12-23T17:25:36.308Z"
   },
   {
    "duration": 509,
    "start_time": "2021-12-23T17:25:36.319Z"
   },
   {
    "duration": 7,
    "start_time": "2021-12-23T17:25:36.833Z"
   },
   {
    "duration": 704,
    "start_time": "2021-12-23T17:25:36.843Z"
   },
   {
    "duration": 27,
    "start_time": "2021-12-23T17:25:37.549Z"
   },
   {
    "duration": 9,
    "start_time": "2021-12-23T17:25:37.578Z"
   },
   {
    "duration": 12,
    "start_time": "2021-12-23T17:25:37.590Z"
   },
   {
    "duration": 19,
    "start_time": "2021-12-23T17:25:37.605Z"
   },
   {
    "duration": 49,
    "start_time": "2021-12-23T17:25:37.627Z"
   },
   {
    "duration": 17,
    "start_time": "2021-12-23T17:25:37.679Z"
   },
   {
    "duration": 18,
    "start_time": "2021-12-23T17:25:37.698Z"
   },
   {
    "duration": 22,
    "start_time": "2021-12-23T17:25:37.719Z"
   },
   {
    "duration": 426,
    "start_time": "2021-12-23T19:30:23.213Z"
   },
   {
    "duration": 1412,
    "start_time": "2021-12-23T19:30:30.026Z"
   },
   {
    "duration": 86,
    "start_time": "2021-12-23T19:30:31.441Z"
   },
   {
    "duration": 62,
    "start_time": "2021-12-23T19:30:31.532Z"
   },
   {
    "duration": 7,
    "start_time": "2021-12-23T19:30:31.597Z"
   },
   {
    "duration": 15,
    "start_time": "2021-12-23T19:30:31.607Z"
   },
   {
    "duration": 61,
    "start_time": "2021-12-23T19:30:31.625Z"
   },
   {
    "duration": 42,
    "start_time": "2021-12-23T19:30:31.688Z"
   },
   {
    "duration": 45,
    "start_time": "2021-12-23T19:30:31.736Z"
   },
   {
    "duration": 424,
    "start_time": "2021-12-23T19:30:31.784Z"
   },
   {
    "duration": -800,
    "start_time": "2021-12-23T19:30:33.011Z"
   },
   {
    "duration": -804,
    "start_time": "2021-12-23T19:30:33.017Z"
   },
   {
    "duration": -809,
    "start_time": "2021-12-23T19:30:33.023Z"
   },
   {
    "duration": -814,
    "start_time": "2021-12-23T19:30:33.029Z"
   },
   {
    "duration": -817,
    "start_time": "2021-12-23T19:30:33.034Z"
   },
   {
    "duration": -829,
    "start_time": "2021-12-23T19:30:33.047Z"
   },
   {
    "duration": -833,
    "start_time": "2021-12-23T19:30:33.053Z"
   },
   {
    "duration": -839,
    "start_time": "2021-12-23T19:30:33.061Z"
   },
   {
    "duration": -891,
    "start_time": "2021-12-23T19:30:33.114Z"
   },
   {
    "duration": -899,
    "start_time": "2021-12-23T19:30:33.124Z"
   },
   {
    "duration": -905,
    "start_time": "2021-12-23T19:30:33.131Z"
   },
   {
    "duration": -910,
    "start_time": "2021-12-23T19:30:33.138Z"
   },
   {
    "duration": -914,
    "start_time": "2021-12-23T19:30:33.143Z"
   },
   {
    "duration": -920,
    "start_time": "2021-12-23T19:30:33.151Z"
   },
   {
    "duration": -926,
    "start_time": "2021-12-23T19:30:33.158Z"
   },
   {
    "duration": -931,
    "start_time": "2021-12-23T19:30:33.165Z"
   },
   {
    "duration": -935,
    "start_time": "2021-12-23T19:30:33.170Z"
   },
   {
    "duration": -942,
    "start_time": "2021-12-23T19:30:33.178Z"
   },
   {
    "duration": -945,
    "start_time": "2021-12-23T19:30:33.182Z"
   },
   {
    "duration": -922,
    "start_time": "2021-12-23T19:30:33.188Z"
   },
   {
    "duration": -927,
    "start_time": "2021-12-23T19:30:33.194Z"
   },
   {
    "duration": -931,
    "start_time": "2021-12-23T19:30:33.199Z"
   },
   {
    "duration": -935,
    "start_time": "2021-12-23T19:30:33.204Z"
   },
   {
    "duration": -938,
    "start_time": "2021-12-23T19:30:33.209Z"
   },
   {
    "duration": 361,
    "start_time": "2021-12-23T19:45:52.745Z"
   },
   {
    "duration": 303,
    "start_time": "2021-12-23T19:46:20.613Z"
   },
   {
    "duration": 12,
    "start_time": "2021-12-23T19:46:33.318Z"
   },
   {
    "duration": 7,
    "start_time": "2021-12-23T19:46:36.684Z"
   },
   {
    "duration": 355,
    "start_time": "2021-12-23T19:48:14.459Z"
   },
   {
    "duration": 824,
    "start_time": "2021-12-23T19:49:14.705Z"
   },
   {
    "duration": 4,
    "start_time": "2021-12-23T19:50:28.360Z"
   },
   {
    "duration": 5,
    "start_time": "2021-12-23T19:50:42.522Z"
   },
   {
    "duration": 363,
    "start_time": "2021-12-23T19:52:35.602Z"
   },
   {
    "duration": 7,
    "start_time": "2021-12-23T19:55:00.800Z"
   },
   {
    "duration": 11,
    "start_time": "2021-12-23T19:55:07.565Z"
   },
   {
    "duration": 14,
    "start_time": "2021-12-23T19:55:28.615Z"
   },
   {
    "duration": 11,
    "start_time": "2021-12-23T19:55:51.301Z"
   },
   {
    "duration": 340,
    "start_time": "2021-12-23T19:56:18.637Z"
   },
   {
    "duration": 289,
    "start_time": "2021-12-23T19:56:23.261Z"
   },
   {
    "duration": 12,
    "start_time": "2021-12-23T19:57:17.494Z"
   },
   {
    "duration": 13,
    "start_time": "2021-12-23T19:57:20.479Z"
   },
   {
    "duration": 294,
    "start_time": "2021-12-23T19:57:58.000Z"
   },
   {
    "duration": 400,
    "start_time": "2021-12-23T19:58:15.144Z"
   },
   {
    "duration": 303,
    "start_time": "2021-12-23T19:58:22.911Z"
   },
   {
    "duration": 39,
    "start_time": "2021-12-23T19:58:30.659Z"
   },
   {
    "duration": 13,
    "start_time": "2021-12-23T19:58:39.302Z"
   },
   {
    "duration": 14,
    "start_time": "2021-12-23T19:59:04.536Z"
   },
   {
    "duration": 7,
    "start_time": "2021-12-23T19:59:39.656Z"
   },
   {
    "duration": 12,
    "start_time": "2021-12-23T20:00:02.337Z"
   },
   {
    "duration": 14,
    "start_time": "2021-12-23T20:04:38.580Z"
   },
   {
    "duration": 11,
    "start_time": "2021-12-23T20:06:15.133Z"
   },
   {
    "duration": 12,
    "start_time": "2021-12-23T20:06:30.537Z"
   },
   {
    "duration": 9,
    "start_time": "2021-12-23T20:07:31.369Z"
   },
   {
    "duration": 91,
    "start_time": "2021-12-23T20:08:41.402Z"
   },
   {
    "duration": 10,
    "start_time": "2021-12-23T20:08:43.735Z"
   },
   {
    "duration": 12,
    "start_time": "2021-12-23T20:13:58.603Z"
   },
   {
    "duration": 14,
    "start_time": "2021-12-23T20:14:08.367Z"
   },
   {
    "duration": 14,
    "start_time": "2021-12-23T20:14:21.077Z"
   },
   {
    "duration": 10,
    "start_time": "2021-12-23T20:15:05.077Z"
   },
   {
    "duration": 12,
    "start_time": "2021-12-23T20:15:39.646Z"
   },
   {
    "duration": 11,
    "start_time": "2021-12-23T20:15:51.601Z"
   },
   {
    "duration": 22,
    "start_time": "2021-12-23T20:22:38.236Z"
   },
   {
    "duration": 16,
    "start_time": "2021-12-23T20:22:41.787Z"
   },
   {
    "duration": 16,
    "start_time": "2021-12-23T20:22:43.672Z"
   },
   {
    "duration": 15,
    "start_time": "2021-12-23T20:23:05.994Z"
   },
   {
    "duration": 17,
    "start_time": "2021-12-23T20:23:11.317Z"
   },
   {
    "duration": 15,
    "start_time": "2021-12-23T20:23:18.749Z"
   },
   {
    "duration": 269,
    "start_time": "2021-12-23T20:25:25.176Z"
   },
   {
    "duration": 18,
    "start_time": "2021-12-23T20:29:11.947Z"
   },
   {
    "duration": 17,
    "start_time": "2021-12-23T20:29:24.369Z"
   },
   {
    "duration": 16,
    "start_time": "2021-12-23T20:29:28.290Z"
   },
   {
    "duration": 22,
    "start_time": "2021-12-23T20:29:32.821Z"
   },
   {
    "duration": 21,
    "start_time": "2021-12-23T20:29:36.916Z"
   },
   {
    "duration": 15,
    "start_time": "2021-12-23T20:29:44.785Z"
   },
   {
    "duration": 12,
    "start_time": "2021-12-23T20:46:48.832Z"
   },
   {
    "duration": 19,
    "start_time": "2021-12-23T20:46:56.440Z"
   },
   {
    "duration": 89,
    "start_time": "2021-12-23T20:47:32.344Z"
   },
   {
    "duration": 6831,
    "start_time": "2021-12-23T20:47:37.893Z"
   },
   {
    "duration": 6541,
    "start_time": "2021-12-23T20:48:00.442Z"
   },
   {
    "duration": 298,
    "start_time": "2021-12-23T20:49:14.476Z"
   },
   {
    "duration": 96,
    "start_time": "2021-12-23T20:49:59.225Z"
   },
   {
    "duration": 93,
    "start_time": "2021-12-23T20:50:20.843Z"
   },
   {
    "duration": 364,
    "start_time": "2021-12-23T20:50:44.979Z"
   },
   {
    "duration": 285,
    "start_time": "2021-12-23T20:51:03.469Z"
   },
   {
    "duration": 7086,
    "start_time": "2021-12-23T20:51:24.212Z"
   },
   {
    "duration": 60,
    "start_time": "2021-12-23T20:51:35.557Z"
   },
   {
    "duration": 257,
    "start_time": "2021-12-23T20:52:08.798Z"
   },
   {
    "duration": 6310,
    "start_time": "2021-12-23T20:54:15.489Z"
   },
   {
    "duration": 6534,
    "start_time": "2021-12-23T20:54:45.956Z"
   },
   {
    "duration": 442,
    "start_time": "2021-12-23T20:55:12.705Z"
   },
   {
    "duration": 525,
    "start_time": "2021-12-23T20:55:27.577Z"
   },
   {
    "duration": 295,
    "start_time": "2021-12-23T20:58:09.474Z"
   },
   {
    "duration": 24,
    "start_time": "2021-12-23T21:02:03.396Z"
   },
   {
    "duration": 38,
    "start_time": "2021-12-23T21:04:08.127Z"
   },
   {
    "duration": 36,
    "start_time": "2021-12-23T21:05:02.954Z"
   },
   {
    "duration": 297,
    "start_time": "2021-12-23T21:05:43.464Z"
   },
   {
    "duration": 27,
    "start_time": "2021-12-23T21:06:04.858Z"
   },
   {
    "duration": 266,
    "start_time": "2021-12-23T21:06:20.913Z"
   },
   {
    "duration": 283,
    "start_time": "2021-12-23T21:06:32.435Z"
   },
   {
    "duration": 36,
    "start_time": "2021-12-23T21:06:40.234Z"
   },
   {
    "duration": 38,
    "start_time": "2021-12-23T21:07:02.578Z"
   },
   {
    "duration": 290,
    "start_time": "2021-12-23T21:07:12.522Z"
   },
   {
    "duration": 288,
    "start_time": "2021-12-23T21:07:24.193Z"
   },
   {
    "duration": 24,
    "start_time": "2021-12-23T21:07:45.065Z"
   },
   {
    "duration": 298,
    "start_time": "2021-12-23T21:09:39.534Z"
   },
   {
    "duration": 111,
    "start_time": "2021-12-23T21:09:49.480Z"
   },
   {
    "duration": 29,
    "start_time": "2021-12-23T21:09:52.347Z"
   },
   {
    "duration": 670,
    "start_time": "2021-12-23T21:10:09.756Z"
   },
   {
    "duration": 33,
    "start_time": "2021-12-23T21:10:25.118Z"
   },
   {
    "duration": 280,
    "start_time": "2021-12-23T21:11:41.649Z"
   },
   {
    "duration": 25,
    "start_time": "2021-12-23T21:13:40.329Z"
   },
   {
    "duration": 36,
    "start_time": "2021-12-23T21:15:28.458Z"
   },
   {
    "duration": 16,
    "start_time": "2021-12-23T21:16:23.930Z"
   },
   {
    "duration": 27,
    "start_time": "2021-12-23T21:16:47.895Z"
   },
   {
    "duration": 27,
    "start_time": "2021-12-23T21:16:50.778Z"
   },
   {
    "duration": 85,
    "start_time": "2021-12-23T21:19:26.861Z"
   },
   {
    "duration": 21,
    "start_time": "2021-12-23T21:19:36.546Z"
   },
   {
    "duration": 32,
    "start_time": "2021-12-23T21:20:47.982Z"
   },
   {
    "duration": 24,
    "start_time": "2021-12-23T21:22:36.352Z"
   },
   {
    "duration": 22,
    "start_time": "2021-12-23T21:22:42.066Z"
   },
   {
    "duration": 282,
    "start_time": "2021-12-23T21:28:03.223Z"
   },
   {
    "duration": 22,
    "start_time": "2021-12-23T21:28:27.333Z"
   },
   {
    "duration": 718,
    "start_time": "2021-12-23T21:30:06.493Z"
   },
   {
    "duration": 32,
    "start_time": "2021-12-23T21:31:31.759Z"
   },
   {
    "duration": 30,
    "start_time": "2021-12-23T21:31:48.465Z"
   },
   {
    "duration": 5,
    "start_time": "2021-12-23T21:32:34.448Z"
   },
   {
    "duration": 30,
    "start_time": "2021-12-23T21:32:36.761Z"
   },
   {
    "duration": 31,
    "start_time": "2021-12-23T21:40:24.210Z"
   },
   {
    "duration": 26,
    "start_time": "2021-12-23T21:42:10.544Z"
   },
   {
    "duration": 7,
    "start_time": "2021-12-23T21:42:27.585Z"
   },
   {
    "duration": 31,
    "start_time": "2021-12-23T21:42:31.377Z"
   },
   {
    "duration": 14,
    "start_time": "2021-12-23T21:43:13.609Z"
   },
   {
    "duration": 25,
    "start_time": "2021-12-23T21:43:21.076Z"
   },
   {
    "duration": 14,
    "start_time": "2021-12-23T21:43:22.647Z"
   },
   {
    "duration": 11,
    "start_time": "2021-12-23T21:44:36.939Z"
   },
   {
    "duration": 23,
    "start_time": "2021-12-23T21:44:41.913Z"
   },
   {
    "duration": 15,
    "start_time": "2021-12-23T21:44:43.283Z"
   },
   {
    "duration": 6872,
    "start_time": "2021-12-23T21:44:45.796Z"
   },
   {
    "duration": 33,
    "start_time": "2021-12-23T21:45:07.872Z"
   },
   {
    "duration": 33,
    "start_time": "2021-12-23T21:47:29.917Z"
   },
   {
    "duration": 1049,
    "start_time": "2021-12-23T21:50:49.471Z"
   },
   {
    "duration": 29,
    "start_time": "2021-12-23T21:51:59.888Z"
   },
   {
    "duration": 67,
    "start_time": "2021-12-23T22:02:54.633Z"
   },
   {
    "duration": 44,
    "start_time": "2021-12-23T22:04:52.588Z"
   },
   {
    "duration": 49,
    "start_time": "2021-12-23T22:11:40.096Z"
   },
   {
    "duration": 256,
    "start_time": "2021-12-23T22:12:10.755Z"
   },
   {
    "duration": 303,
    "start_time": "2021-12-23T22:13:05.882Z"
   },
   {
    "duration": 256,
    "start_time": "2021-12-23T22:15:26.972Z"
   },
   {
    "duration": 853,
    "start_time": "2021-12-23T22:20:05.929Z"
   },
   {
    "duration": 22,
    "start_time": "2021-12-23T22:20:33.066Z"
   },
   {
    "duration": 25,
    "start_time": "2021-12-23T22:21:06.705Z"
   },
   {
    "duration": 32,
    "start_time": "2021-12-23T22:21:38.332Z"
   },
   {
    "duration": 35,
    "start_time": "2021-12-23T22:24:48.361Z"
   },
   {
    "duration": 31,
    "start_time": "2021-12-23T22:25:00.806Z"
   },
   {
    "duration": 30,
    "start_time": "2021-12-23T22:25:13.779Z"
   },
   {
    "duration": 33,
    "start_time": "2021-12-23T22:25:18.260Z"
   },
   {
    "duration": 1585,
    "start_time": "2021-12-23T22:25:29.084Z"
   },
   {
    "duration": 87,
    "start_time": "2021-12-23T22:25:30.672Z"
   },
   {
    "duration": 59,
    "start_time": "2021-12-23T22:25:30.764Z"
   },
   {
    "duration": 6,
    "start_time": "2021-12-23T22:25:30.827Z"
   },
   {
    "duration": 31,
    "start_time": "2021-12-23T22:25:30.836Z"
   },
   {
    "duration": 37,
    "start_time": "2021-12-23T22:25:30.869Z"
   },
   {
    "duration": 23,
    "start_time": "2021-12-23T22:25:30.908Z"
   },
   {
    "duration": 40,
    "start_time": "2021-12-23T22:25:30.935Z"
   },
   {
    "duration": 23,
    "start_time": "2021-12-23T22:25:30.978Z"
   },
   {
    "duration": 12,
    "start_time": "2021-12-23T22:25:31.004Z"
   },
   {
    "duration": 54,
    "start_time": "2021-12-23T22:25:31.019Z"
   },
   {
    "duration": 19,
    "start_time": "2021-12-23T22:25:31.076Z"
   },
   {
    "duration": 17,
    "start_time": "2021-12-23T22:25:31.098Z"
   },
   {
    "duration": 68,
    "start_time": "2021-12-23T22:25:31.118Z"
   },
   {
    "duration": 605,
    "start_time": "2021-12-23T22:25:31.189Z"
   },
   {
    "duration": 20,
    "start_time": "2021-12-23T22:25:31.797Z"
   },
   {
    "duration": 373,
    "start_time": "2021-12-23T22:25:31.820Z"
   },
   {
    "duration": 500,
    "start_time": "2021-12-23T22:25:32.196Z"
   },
   {
    "duration": 452,
    "start_time": "2021-12-23T22:25:32.698Z"
   },
   {
    "duration": 938,
    "start_time": "2021-12-23T22:25:33.153Z"
   },
   {
    "duration": 441,
    "start_time": "2021-12-23T22:25:34.093Z"
   },
   {
    "duration": 466,
    "start_time": "2021-12-23T22:25:34.536Z"
   },
   {
    "duration": 568,
    "start_time": "2021-12-23T22:25:35.007Z"
   },
   {
    "duration": 440,
    "start_time": "2021-12-23T22:25:35.578Z"
   },
   {
    "duration": 7,
    "start_time": "2021-12-23T22:25:36.022Z"
   },
   {
    "duration": 488,
    "start_time": "2021-12-23T22:25:36.032Z"
   },
   {
    "duration": 7,
    "start_time": "2021-12-23T22:25:36.523Z"
   },
   {
    "duration": 494,
    "start_time": "2021-12-23T22:25:36.532Z"
   },
   {
    "duration": 17,
    "start_time": "2021-12-23T22:25:37.028Z"
   },
   {
    "duration": 25,
    "start_time": "2021-12-23T22:25:37.048Z"
   },
   {
    "duration": 13,
    "start_time": "2021-12-23T22:25:37.076Z"
   },
   {
    "duration": 15,
    "start_time": "2021-12-23T22:25:37.092Z"
   },
   {
    "duration": 14,
    "start_time": "2021-12-23T22:25:37.110Z"
   },
   {
    "duration": 50,
    "start_time": "2021-12-23T22:25:37.127Z"
   },
   {
    "duration": 18,
    "start_time": "2021-12-23T22:25:37.179Z"
   },
   {
    "duration": 22,
    "start_time": "2021-12-23T22:25:37.200Z"
   },
   {
    "duration": 36,
    "start_time": "2021-12-23T22:25:41.988Z"
   },
   {
    "duration": 34,
    "start_time": "2021-12-23T22:25:43.159Z"
   },
   {
    "duration": 14,
    "start_time": "2021-12-23T22:27:53.078Z"
   },
   {
    "duration": 502,
    "start_time": "2021-12-23T22:32:11.846Z"
   },
   {
    "duration": 295,
    "start_time": "2021-12-23T22:32:21.538Z"
   },
   {
    "duration": 289,
    "start_time": "2021-12-23T22:32:40.355Z"
   },
   {
    "duration": 276,
    "start_time": "2021-12-23T22:32:58.066Z"
   },
   {
    "duration": 112,
    "start_time": "2021-12-23T22:33:24.051Z"
   },
   {
    "duration": 420,
    "start_time": "2021-12-23T22:33:31.316Z"
   },
   {
    "duration": 523,
    "start_time": "2021-12-23T22:36:01.013Z"
   },
   {
    "duration": 512,
    "start_time": "2021-12-23T22:36:44.262Z"
   },
   {
    "duration": 31,
    "start_time": "2021-12-23T22:40:34.418Z"
   },
   {
    "duration": 37,
    "start_time": "2021-12-23T22:42:25.892Z"
   },
   {
    "duration": 13,
    "start_time": "2021-12-23T22:42:44.115Z"
   },
   {
    "duration": 30,
    "start_time": "2021-12-23T22:42:53.876Z"
   },
   {
    "duration": 32,
    "start_time": "2021-12-23T22:43:02.932Z"
   },
   {
    "duration": 32,
    "start_time": "2021-12-23T22:43:12.083Z"
   },
   {
    "duration": 49,
    "start_time": "2021-12-23T22:44:37.516Z"
   },
   {
    "duration": 50,
    "start_time": "2021-12-23T22:45:15.901Z"
   },
   {
    "duration": 51,
    "start_time": "2021-12-23T22:46:14.929Z"
   },
   {
    "duration": 33,
    "start_time": "2021-12-23T22:46:39.022Z"
   },
   {
    "duration": 776,
    "start_time": "2021-12-23T23:14:30.095Z"
   },
   {
    "duration": 426,
    "start_time": "2021-12-23T23:26:00.999Z"
   },
   {
    "duration": 524,
    "start_time": "2021-12-23T23:26:17.511Z"
   },
   {
    "duration": 509,
    "start_time": "2021-12-23T23:26:30.304Z"
   },
   {
    "duration": 497,
    "start_time": "2021-12-23T23:26:42.900Z"
   },
   {
    "duration": 445,
    "start_time": "2021-12-23T23:27:00.025Z"
   },
   {
    "duration": 425,
    "start_time": "2021-12-23T23:27:05.891Z"
   },
   {
    "duration": 1118,
    "start_time": "2021-12-24T10:21:23.855Z"
   },
   {
    "duration": 68,
    "start_time": "2021-12-24T10:21:24.974Z"
   },
   {
    "duration": 29,
    "start_time": "2021-12-24T10:21:25.049Z"
   },
   {
    "duration": 3,
    "start_time": "2021-12-24T10:21:25.080Z"
   },
   {
    "duration": 7,
    "start_time": "2021-12-24T10:21:25.085Z"
   },
   {
    "duration": 21,
    "start_time": "2021-12-24T10:21:25.094Z"
   },
   {
    "duration": 36,
    "start_time": "2021-12-24T10:21:25.118Z"
   },
   {
    "duration": 18,
    "start_time": "2021-12-24T10:21:25.156Z"
   },
   {
    "duration": 12,
    "start_time": "2021-12-24T10:21:25.176Z"
   },
   {
    "duration": 103,
    "start_time": "2021-12-24T10:21:25.190Z"
   },
   {
    "duration": -580,
    "start_time": "2021-12-24T10:21:25.876Z"
   },
   {
    "duration": -587,
    "start_time": "2021-12-24T10:21:25.884Z"
   },
   {
    "duration": -591,
    "start_time": "2021-12-24T10:21:25.889Z"
   },
   {
    "duration": -596,
    "start_time": "2021-12-24T10:21:25.895Z"
   },
   {
    "duration": -601,
    "start_time": "2021-12-24T10:21:25.901Z"
   },
   {
    "duration": -605,
    "start_time": "2021-12-24T10:21:25.906Z"
   },
   {
    "duration": -628,
    "start_time": "2021-12-24T10:21:25.930Z"
   },
   {
    "duration": -634,
    "start_time": "2021-12-24T10:21:25.937Z"
   },
   {
    "duration": -639,
    "start_time": "2021-12-24T10:21:25.943Z"
   },
   {
    "duration": -645,
    "start_time": "2021-12-24T10:21:25.950Z"
   },
   {
    "duration": -649,
    "start_time": "2021-12-24T10:21:25.955Z"
   },
   {
    "duration": -652,
    "start_time": "2021-12-24T10:21:25.959Z"
   },
   {
    "duration": -657,
    "start_time": "2021-12-24T10:21:25.966Z"
   },
   {
    "duration": -663,
    "start_time": "2021-12-24T10:21:25.973Z"
   },
   {
    "duration": -667,
    "start_time": "2021-12-24T10:21:25.978Z"
   },
   {
    "duration": -671,
    "start_time": "2021-12-24T10:21:25.983Z"
   },
   {
    "duration": -677,
    "start_time": "2021-12-24T10:21:25.990Z"
   },
   {
    "duration": -680,
    "start_time": "2021-12-24T10:21:25.995Z"
   },
   {
    "duration": -684,
    "start_time": "2021-12-24T10:21:26.000Z"
   },
   {
    "duration": -688,
    "start_time": "2021-12-24T10:21:26.005Z"
   },
   {
    "duration": -692,
    "start_time": "2021-12-24T10:21:26.010Z"
   },
   {
    "duration": -694,
    "start_time": "2021-12-24T10:21:26.014Z"
   },
   {
    "duration": -699,
    "start_time": "2021-12-24T10:21:26.020Z"
   },
   {
    "duration": -703,
    "start_time": "2021-12-24T10:21:26.025Z"
   },
   {
    "duration": -717,
    "start_time": "2021-12-24T10:21:26.040Z"
   },
   {
    "duration": -720,
    "start_time": "2021-12-24T10:21:26.045Z"
   },
   {
    "duration": -727,
    "start_time": "2021-12-24T10:21:26.053Z"
   },
   {
    "duration": 4,
    "start_time": "2021-12-24T10:21:40.181Z"
   },
   {
    "duration": 342,
    "start_time": "2021-12-24T10:22:14.576Z"
   },
   {
    "duration": 5,
    "start_time": "2021-12-24T10:22:38.829Z"
   },
   {
    "duration": 1144,
    "start_time": "2021-12-24T10:22:54.730Z"
   },
   {
    "duration": 69,
    "start_time": "2021-12-24T10:22:55.875Z"
   },
   {
    "duration": 29,
    "start_time": "2021-12-24T10:22:55.947Z"
   },
   {
    "duration": 3,
    "start_time": "2021-12-24T10:22:55.978Z"
   },
   {
    "duration": 7,
    "start_time": "2021-12-24T10:22:55.982Z"
   },
   {
    "duration": 18,
    "start_time": "2021-12-24T10:22:55.990Z"
   },
   {
    "duration": 43,
    "start_time": "2021-12-24T10:22:56.010Z"
   },
   {
    "duration": 11,
    "start_time": "2021-12-24T10:22:56.056Z"
   },
   {
    "duration": 14,
    "start_time": "2021-12-24T10:22:56.069Z"
   },
   {
    "duration": 4,
    "start_time": "2021-12-24T10:22:56.084Z"
   },
   {
    "duration": 8,
    "start_time": "2021-12-24T10:22:56.090Z"
   },
   {
    "duration": 8,
    "start_time": "2021-12-24T10:22:56.099Z"
   },
   {
    "duration": 44,
    "start_time": "2021-12-24T10:22:56.108Z"
   },
   {
    "duration": 13,
    "start_time": "2021-12-24T10:22:56.154Z"
   },
   {
    "duration": 31,
    "start_time": "2021-12-24T10:22:56.169Z"
   },
   {
    "duration": 517,
    "start_time": "2021-12-24T10:22:56.202Z"
   },
   {
    "duration": 21,
    "start_time": "2021-12-24T10:22:56.721Z"
   },
   {
    "duration": 199,
    "start_time": "2021-12-24T10:22:56.744Z"
   },
   {
    "duration": 278,
    "start_time": "2021-12-24T10:22:56.949Z"
   },
   {
    "duration": 265,
    "start_time": "2021-12-24T10:22:57.228Z"
   },
   {
    "duration": 379,
    "start_time": "2021-12-24T10:22:57.495Z"
   },
   {
    "duration": 250,
    "start_time": "2021-12-24T10:22:57.876Z"
   },
   {
    "duration": 254,
    "start_time": "2021-12-24T10:22:58.130Z"
   },
   {
    "duration": 342,
    "start_time": "2021-12-24T10:22:58.386Z"
   },
   {
    "duration": 330,
    "start_time": "2021-12-24T10:22:58.730Z"
   },
   {
    "duration": 5,
    "start_time": "2021-12-24T10:22:59.061Z"
   },
   {
    "duration": 306,
    "start_time": "2021-12-24T10:22:59.067Z"
   },
   {
    "duration": 6,
    "start_time": "2021-12-24T10:22:59.375Z"
   },
   {
    "duration": 279,
    "start_time": "2021-12-24T10:22:59.382Z"
   },
   {
    "duration": 10,
    "start_time": "2021-12-24T10:22:59.663Z"
   },
   {
    "duration": 8,
    "start_time": "2021-12-24T10:22:59.675Z"
   },
   {
    "duration": 10,
    "start_time": "2021-12-24T10:22:59.684Z"
   },
   {
    "duration": 9,
    "start_time": "2021-12-24T10:22:59.695Z"
   },
   {
    "duration": 9,
    "start_time": "2021-12-24T10:22:59.706Z"
   },
   {
    "duration": 17,
    "start_time": "2021-12-24T10:22:59.742Z"
   },
   {
    "duration": 7,
    "start_time": "2021-12-24T10:22:59.761Z"
   },
   {
    "duration": 15,
    "start_time": "2021-12-24T10:22:59.770Z"
   },
   {
    "duration": 384,
    "start_time": "2021-12-24T10:28:36.811Z"
   },
   {
    "duration": 6,
    "start_time": "2021-12-24T10:29:35.292Z"
   },
   {
    "duration": 263,
    "start_time": "2021-12-24T10:30:17.900Z"
   },
   {
    "duration": 286,
    "start_time": "2021-12-24T10:32:28.533Z"
   },
   {
    "duration": 12,
    "start_time": "2021-12-24T10:36:31.158Z"
   },
   {
    "duration": 9,
    "start_time": "2021-12-24T10:37:30.043Z"
   },
   {
    "duration": 9,
    "start_time": "2021-12-24T10:38:08.994Z"
   },
   {
    "duration": 8,
    "start_time": "2021-12-24T10:38:28.954Z"
   },
   {
    "duration": 262,
    "start_time": "2021-12-24T10:57:03.272Z"
   },
   {
    "duration": 1121,
    "start_time": "2021-12-24T11:01:38.728Z"
   },
   {
    "duration": 66,
    "start_time": "2021-12-24T11:01:39.852Z"
   },
   {
    "duration": 32,
    "start_time": "2021-12-24T11:01:39.920Z"
   },
   {
    "duration": 3,
    "start_time": "2021-12-24T11:01:39.955Z"
   },
   {
    "duration": 5,
    "start_time": "2021-12-24T11:01:39.959Z"
   },
   {
    "duration": 16,
    "start_time": "2021-12-24T11:01:39.965Z"
   },
   {
    "duration": 12,
    "start_time": "2021-12-24T11:01:39.983Z"
   },
   {
    "duration": 27,
    "start_time": "2021-12-24T11:01:39.998Z"
   },
   {
    "duration": 33,
    "start_time": "2021-12-24T11:01:40.028Z"
   },
   {
    "duration": 14,
    "start_time": "2021-12-24T11:01:40.063Z"
   },
   {
    "duration": 19,
    "start_time": "2021-12-24T11:01:40.079Z"
   },
   {
    "duration": 8,
    "start_time": "2021-12-24T11:01:40.099Z"
   },
   {
    "duration": 13,
    "start_time": "2021-12-24T11:01:40.109Z"
   },
   {
    "duration": 10,
    "start_time": "2021-12-24T11:01:40.123Z"
   },
   {
    "duration": 39,
    "start_time": "2021-12-24T11:01:40.134Z"
   },
   {
    "duration": 494,
    "start_time": "2021-12-24T11:01:40.175Z"
   },
   {
    "duration": 12,
    "start_time": "2021-12-24T11:01:40.672Z"
   },
   {
    "duration": 194,
    "start_time": "2021-12-24T11:01:40.686Z"
   },
   {
    "duration": 278,
    "start_time": "2021-12-24T11:01:40.882Z"
   },
   {
    "duration": 260,
    "start_time": "2021-12-24T11:01:41.161Z"
   },
   {
    "duration": 414,
    "start_time": "2021-12-24T11:01:41.423Z"
   },
   {
    "duration": 239,
    "start_time": "2021-12-24T11:01:41.839Z"
   },
   {
    "duration": 461,
    "start_time": "2021-12-24T11:01:42.083Z"
   },
   {
    "duration": 374,
    "start_time": "2021-12-24T11:01:42.546Z"
   },
   {
    "duration": 324,
    "start_time": "2021-12-24T11:01:42.921Z"
   },
   {
    "duration": 9,
    "start_time": "2021-12-24T11:01:43.248Z"
   },
   {
    "duration": 306,
    "start_time": "2021-12-24T11:01:43.258Z"
   },
   {
    "duration": 5,
    "start_time": "2021-12-24T11:01:43.565Z"
   },
   {
    "duration": 271,
    "start_time": "2021-12-24T11:01:43.572Z"
   },
   {
    "duration": 12,
    "start_time": "2021-12-24T11:01:43.845Z"
   },
   {
    "duration": 7,
    "start_time": "2021-12-24T11:01:43.859Z"
   },
   {
    "duration": 10,
    "start_time": "2021-12-24T11:01:43.868Z"
   },
   {
    "duration": 8,
    "start_time": "2021-12-24T11:01:43.880Z"
   },
   {
    "duration": 7,
    "start_time": "2021-12-24T11:01:43.890Z"
   },
   {
    "duration": 15,
    "start_time": "2021-12-24T11:01:43.898Z"
   },
   {
    "duration": 39,
    "start_time": "2021-12-24T11:01:43.914Z"
   },
   {
    "duration": 15,
    "start_time": "2021-12-24T11:01:43.955Z"
   },
   {
    "duration": 13,
    "start_time": "2021-12-24T11:01:43.971Z"
   },
   {
    "duration": 246,
    "start_time": "2021-12-24T11:05:40.030Z"
   },
   {
    "duration": 8,
    "start_time": "2021-12-24T11:13:45.179Z"
   },
   {
    "duration": 7,
    "start_time": "2021-12-24T11:13:58.323Z"
   },
   {
    "duration": 7,
    "start_time": "2021-12-24T11:14:20.180Z"
   },
   {
    "duration": 8,
    "start_time": "2021-12-24T11:16:03.254Z"
   },
   {
    "duration": 359,
    "start_time": "2021-12-24T11:16:11.015Z"
   },
   {
    "duration": 12,
    "start_time": "2021-12-24T11:16:24.642Z"
   },
   {
    "duration": 10,
    "start_time": "2021-12-24T11:17:22.897Z"
   },
   {
    "duration": 7,
    "start_time": "2021-12-24T11:17:53.184Z"
   },
   {
    "duration": 14,
    "start_time": "2021-12-24T11:19:01.875Z"
   },
   {
    "duration": 461,
    "start_time": "2021-12-24T12:03:09.484Z"
   },
   {
    "duration": 5,
    "start_time": "2021-12-24T12:03:52.984Z"
   },
   {
    "duration": 6,
    "start_time": "2021-12-24T12:08:53.081Z"
   },
   {
    "duration": 6,
    "start_time": "2021-12-24T12:09:20.517Z"
   },
   {
    "duration": 178,
    "start_time": "2021-12-24T12:13:23.226Z"
   },
   {
    "duration": 246,
    "start_time": "2021-12-24T12:13:39.435Z"
   },
   {
    "duration": 5,
    "start_time": "2021-12-24T12:19:41.828Z"
   },
   {
    "duration": 5,
    "start_time": "2021-12-24T12:21:52.525Z"
   },
   {
    "duration": 5,
    "start_time": "2021-12-24T12:22:03.702Z"
   },
   {
    "duration": 5,
    "start_time": "2021-12-24T12:22:19.773Z"
   },
   {
    "duration": 5,
    "start_time": "2021-12-24T12:22:32.494Z"
   },
   {
    "duration": 4,
    "start_time": "2021-12-24T12:22:33.974Z"
   },
   {
    "duration": 7,
    "start_time": "2021-12-24T14:52:42.199Z"
   },
   {
    "duration": 8,
    "start_time": "2021-12-24T14:52:57.999Z"
   },
   {
    "duration": 6,
    "start_time": "2021-12-24T14:54:09.360Z"
   },
   {
    "duration": 6,
    "start_time": "2021-12-24T14:54:20.225Z"
   },
   {
    "duration": 1163,
    "start_time": "2021-12-24T14:59:07.100Z"
   },
   {
    "duration": 69,
    "start_time": "2021-12-24T14:59:08.265Z"
   },
   {
    "duration": 36,
    "start_time": "2021-12-24T14:59:08.336Z"
   },
   {
    "duration": 4,
    "start_time": "2021-12-24T14:59:08.374Z"
   },
   {
    "duration": 7,
    "start_time": "2021-12-24T14:59:08.380Z"
   },
   {
    "duration": 16,
    "start_time": "2021-12-24T14:59:08.389Z"
   },
   {
    "duration": 12,
    "start_time": "2021-12-24T14:59:08.407Z"
   },
   {
    "duration": 30,
    "start_time": "2021-12-24T14:59:08.422Z"
   },
   {
    "duration": 26,
    "start_time": "2021-12-24T14:59:08.454Z"
   },
   {
    "duration": 11,
    "start_time": "2021-12-24T14:59:08.482Z"
   },
   {
    "duration": 26,
    "start_time": "2021-12-24T14:59:08.495Z"
   },
   {
    "duration": 38,
    "start_time": "2021-12-24T14:59:08.522Z"
   },
   {
    "duration": 542,
    "start_time": "2021-12-24T14:59:08.561Z"
   },
   {
    "duration": 11,
    "start_time": "2021-12-24T14:59:09.106Z"
   },
   {
    "duration": 197,
    "start_time": "2021-12-24T14:59:09.119Z"
   },
   {
    "duration": 278,
    "start_time": "2021-12-24T14:59:09.318Z"
   },
   {
    "duration": 252,
    "start_time": "2021-12-24T14:59:09.598Z"
   },
   {
    "duration": 386,
    "start_time": "2021-12-24T14:59:09.852Z"
   },
   {
    "duration": 235,
    "start_time": "2021-12-24T14:59:10.240Z"
   },
   {
    "duration": 252,
    "start_time": "2021-12-24T14:59:10.477Z"
   },
   {
    "duration": 364,
    "start_time": "2021-12-24T14:59:10.730Z"
   },
   {
    "duration": 309,
    "start_time": "2021-12-24T14:59:11.096Z"
   },
   {
    "duration": 5,
    "start_time": "2021-12-24T14:59:11.409Z"
   },
   {
    "duration": 347,
    "start_time": "2021-12-24T14:59:11.415Z"
   },
   {
    "duration": 6,
    "start_time": "2021-12-24T14:59:11.764Z"
   },
   {
    "duration": 275,
    "start_time": "2021-12-24T14:59:11.772Z"
   },
   {
    "duration": 13,
    "start_time": "2021-12-24T14:59:12.049Z"
   },
   {
    "duration": 10,
    "start_time": "2021-12-24T14:59:12.064Z"
   },
   {
    "duration": 6,
    "start_time": "2021-12-24T14:59:12.076Z"
   },
   {
    "duration": 9,
    "start_time": "2021-12-24T14:59:12.083Z"
   },
   {
    "duration": 12,
    "start_time": "2021-12-24T14:59:12.094Z"
   },
   {
    "duration": 7,
    "start_time": "2021-12-24T14:59:12.107Z"
   },
   {
    "duration": 37,
    "start_time": "2021-12-24T14:59:12.115Z"
   },
   {
    "duration": 19,
    "start_time": "2021-12-24T14:59:12.154Z"
   },
   {
    "duration": 14,
    "start_time": "2021-12-24T14:59:12.175Z"
   },
   {
    "duration": 28,
    "start_time": "2021-12-24T14:59:12.190Z"
   },
   {
    "duration": 10,
    "start_time": "2021-12-24T14:59:12.220Z"
   },
   {
    "duration": 18,
    "start_time": "2021-12-24T14:59:12.231Z"
   },
   {
    "duration": 29,
    "start_time": "2021-12-24T14:59:12.251Z"
   },
   {
    "duration": 5,
    "start_time": "2021-12-24T15:07:25.366Z"
   },
   {
    "duration": 5,
    "start_time": "2021-12-24T15:07:38.044Z"
   },
   {
    "duration": 1195,
    "start_time": "2021-12-24T16:08:57.731Z"
   },
   {
    "duration": 72,
    "start_time": "2021-12-24T16:08:58.928Z"
   },
   {
    "duration": 24,
    "start_time": "2021-12-24T16:08:59.005Z"
   },
   {
    "duration": 3,
    "start_time": "2021-12-24T16:08:59.031Z"
   },
   {
    "duration": 13,
    "start_time": "2021-12-24T16:08:59.036Z"
   },
   {
    "duration": 24,
    "start_time": "2021-12-24T16:08:59.050Z"
   },
   {
    "duration": 22,
    "start_time": "2021-12-24T16:08:59.078Z"
   },
   {
    "duration": 15,
    "start_time": "2021-12-24T16:08:59.102Z"
   },
   {
    "duration": 31,
    "start_time": "2021-12-24T16:08:59.119Z"
   },
   {
    "duration": 13,
    "start_time": "2021-12-24T16:08:59.152Z"
   },
   {
    "duration": 11,
    "start_time": "2021-12-24T16:08:59.167Z"
   },
   {
    "duration": 31,
    "start_time": "2021-12-24T16:08:59.180Z"
   },
   {
    "duration": 513,
    "start_time": "2021-12-24T16:08:59.213Z"
   },
   {
    "duration": 14,
    "start_time": "2021-12-24T16:08:59.728Z"
   },
   {
    "duration": 220,
    "start_time": "2021-12-24T16:08:59.744Z"
   },
   {
    "duration": 328,
    "start_time": "2021-12-24T16:08:59.966Z"
   },
   {
    "duration": 304,
    "start_time": "2021-12-24T16:09:00.296Z"
   },
   {
    "duration": 543,
    "start_time": "2021-12-24T16:09:00.602Z"
   },
   {
    "duration": 376,
    "start_time": "2021-12-24T16:09:01.147Z"
   },
   {
    "duration": 271,
    "start_time": "2021-12-24T16:09:01.526Z"
   },
   {
    "duration": 383,
    "start_time": "2021-12-24T16:09:01.799Z"
   },
   {
    "duration": 302,
    "start_time": "2021-12-24T16:09:02.185Z"
   },
   {
    "duration": 5,
    "start_time": "2021-12-24T16:09:02.488Z"
   },
   {
    "duration": 368,
    "start_time": "2021-12-24T16:09:02.494Z"
   },
   {
    "duration": 5,
    "start_time": "2021-12-24T16:09:02.864Z"
   },
   {
    "duration": 330,
    "start_time": "2021-12-24T16:09:02.871Z"
   },
   {
    "duration": 11,
    "start_time": "2021-12-24T16:09:03.203Z"
   },
   {
    "duration": 39,
    "start_time": "2021-12-24T16:09:03.216Z"
   },
   {
    "duration": 26,
    "start_time": "2021-12-24T16:09:03.258Z"
   },
   {
    "duration": 19,
    "start_time": "2021-12-24T16:09:03.286Z"
   },
   {
    "duration": 24,
    "start_time": "2021-12-24T16:09:03.307Z"
   },
   {
    "duration": 31,
    "start_time": "2021-12-24T16:09:03.333Z"
   },
   {
    "duration": 40,
    "start_time": "2021-12-24T16:09:03.366Z"
   },
   {
    "duration": 36,
    "start_time": "2021-12-24T16:09:03.408Z"
   },
   {
    "duration": 25,
    "start_time": "2021-12-24T16:09:03.446Z"
   },
   {
    "duration": 26,
    "start_time": "2021-12-24T16:09:03.473Z"
   },
   {
    "duration": 65,
    "start_time": "2021-12-24T16:09:03.502Z"
   },
   {
    "duration": 35,
    "start_time": "2021-12-24T16:09:03.569Z"
   },
   {
    "duration": 1098,
    "start_time": "2021-12-25T10:01:39.326Z"
   },
   {
    "duration": 84,
    "start_time": "2021-12-25T10:01:40.427Z"
   },
   {
    "duration": 23,
    "start_time": "2021-12-25T10:01:40.513Z"
   },
   {
    "duration": 3,
    "start_time": "2021-12-25T10:01:40.538Z"
   },
   {
    "duration": 9,
    "start_time": "2021-12-25T10:01:40.542Z"
   },
   {
    "duration": 16,
    "start_time": "2021-12-25T10:01:40.552Z"
   },
   {
    "duration": 13,
    "start_time": "2021-12-25T10:01:40.570Z"
   },
   {
    "duration": 11,
    "start_time": "2021-12-25T10:01:40.585Z"
   },
   {
    "duration": 32,
    "start_time": "2021-12-25T10:01:40.598Z"
   },
   {
    "duration": 10,
    "start_time": "2021-12-25T10:01:40.632Z"
   },
   {
    "duration": 17,
    "start_time": "2021-12-25T10:01:40.643Z"
   },
   {
    "duration": 31,
    "start_time": "2021-12-25T10:01:40.661Z"
   },
   {
    "duration": 61571,
    "start_time": "2021-12-25T10:01:40.693Z"
   },
   {
    "duration": 11,
    "start_time": "2021-12-25T10:02:42.265Z"
   },
   {
    "duration": 195,
    "start_time": "2021-12-25T10:02:42.277Z"
   },
   {
    "duration": 256,
    "start_time": "2021-12-25T10:02:42.474Z"
   },
   {
    "duration": 262,
    "start_time": "2021-12-25T10:02:42.732Z"
   },
   {
    "duration": 427,
    "start_time": "2021-12-25T10:02:42.995Z"
   },
   {
    "duration": 218,
    "start_time": "2021-12-25T10:02:43.424Z"
   },
   {
    "duration": 248,
    "start_time": "2021-12-25T10:02:43.643Z"
   },
   {
    "duration": 393,
    "start_time": "2021-12-25T10:02:43.893Z"
   },
   {
    "duration": 311,
    "start_time": "2021-12-25T10:02:44.288Z"
   },
   {
    "duration": 4,
    "start_time": "2021-12-25T10:02:44.602Z"
   },
   {
    "duration": 348,
    "start_time": "2021-12-25T10:02:44.607Z"
   },
   {
    "duration": 4,
    "start_time": "2021-12-25T10:02:44.957Z"
   },
   {
    "duration": 257,
    "start_time": "2021-12-25T10:02:44.962Z"
   },
   {
    "duration": 13,
    "start_time": "2021-12-25T10:02:45.221Z"
   },
   {
    "duration": 5,
    "start_time": "2021-12-25T10:02:45.236Z"
   },
   {
    "duration": 6,
    "start_time": "2021-12-25T10:02:45.243Z"
   },
   {
    "duration": 4,
    "start_time": "2021-12-25T10:02:45.251Z"
   },
   {
    "duration": 11,
    "start_time": "2021-12-25T10:02:45.256Z"
   },
   {
    "duration": 5,
    "start_time": "2021-12-25T10:02:45.268Z"
   },
   {
    "duration": 7,
    "start_time": "2021-12-25T10:02:45.275Z"
   },
   {
    "duration": 46,
    "start_time": "2021-12-25T10:02:45.284Z"
   },
   {
    "duration": 9,
    "start_time": "2021-12-25T10:02:45.331Z"
   },
   {
    "duration": 13,
    "start_time": "2021-12-25T10:02:45.341Z"
   },
   {
    "duration": 9,
    "start_time": "2021-12-25T10:02:45.356Z"
   },
   {
    "duration": 12,
    "start_time": "2021-12-25T10:02:45.367Z"
   },
   {
    "duration": 222,
    "start_time": "2022-01-19T14:19:18.046Z"
   }
  ],
  "kernelspec": {
   "display_name": "Python 3",
   "language": "python",
   "name": "python3"
  },
  "language_info": {
   "codemirror_mode": {
    "name": "ipython",
    "version": 3
   },
   "file_extension": ".py",
   "mimetype": "text/x-python",
   "name": "python",
   "nbconvert_exporter": "python",
   "pygments_lexer": "ipython3",
   "version": "3.7.12"
  },
  "toc": {
   "base_numbering": 1,
   "nav_menu": {},
   "number_sections": true,
   "sideBar": true,
   "skip_h1_title": true,
   "title_cell": "Table of Contents",
   "title_sidebar": "Contents",
   "toc_cell": false,
   "toc_position": {
    "height": "calc(100% - 180px)",
    "left": "10px",
    "top": "150px",
    "width": "331.438px"
   },
   "toc_section_display": true,
   "toc_window_display": false
  }
 },
 "nbformat": 4,
 "nbformat_minor": 2
}
