{
 "cells": [
  {
   "cell_type": "markdown",
   "metadata": {},
   "source": [
    "# Прогноз оттока клиентов фитнес-центра <a class=\"tocSkip\">"
   ]
  },
  {
   "cell_type": "markdown",
   "metadata": {},
   "source": [
    "**Цель исследования:**  \n",
    "Спрогнозировать вероятность оттока (на уровне следующего месяца) для каждого клиента сети фитнес-центров. Сформировать типичные портреты клиентов и проанализировать основные признаки, наиболее сильно влияющие на отток. Разработать рекомендации по повышению качества работы с клиентами."
   ]
  },
  {
   "cell_type": "markdown",
   "metadata": {},
   "source": [
    "## Изучение общей информации. Проведение предобработки данных"
   ]
  },
  {
   "cell_type": "code",
   "execution_count": 2,
   "metadata": {},
   "outputs": [],
   "source": [
    "# импорт библиотек\n",
    "import pandas as pd\n",
    "import seaborn as sns\n",
    "from matplotlib import pyplot as plt\n",
    "from sklearn.model_selection import train_test_split\n",
    "from sklearn.preprocessing import StandardScaler\n",
    "from sklearn.linear_model import LogisticRegression\n",
    "from sklearn.metrics import accuracy_score, precision_score, recall_score\n",
    "from sklearn.metrics import roc_auc_score\n",
    "from sklearn.ensemble import RandomForestClassifier\n",
    "from sklearn.cluster import KMeans\n",
    "from scipy.cluster.hierarchy import dendrogram, linkage \n",
    "import warnings"
   ]
  },
  {
   "cell_type": "code",
   "execution_count": 3,
   "metadata": {},
   "outputs": [],
   "source": [
    "# загрузка данных\n",
    "try:\n",
    "    gym = pd.read_csv('/datasets/gym_churn.csv')\n",
    "except:\n",
    "    gym = pd.read_csv('D:/learning/Data_Analysis/Projects/11/dataset/gym_churn.csv')"
   ]
  },
  {
   "cell_type": "code",
   "execution_count": 4,
   "metadata": {},
   "outputs": [
    {
     "data": {
      "text/html": [
       "<div>\n",
       "<style scoped>\n",
       "    .dataframe tbody tr th:only-of-type {\n",
       "        vertical-align: middle;\n",
       "    }\n",
       "\n",
       "    .dataframe tbody tr th {\n",
       "        vertical-align: top;\n",
       "    }\n",
       "\n",
       "    .dataframe thead th {\n",
       "        text-align: right;\n",
       "    }\n",
       "</style>\n",
       "<table border=\"1\" class=\"dataframe\">\n",
       "  <thead>\n",
       "    <tr style=\"text-align: right;\">\n",
       "      <th></th>\n",
       "      <th>gender</th>\n",
       "      <th>Near_Location</th>\n",
       "      <th>Partner</th>\n",
       "      <th>Promo_friends</th>\n",
       "      <th>Phone</th>\n",
       "      <th>Contract_period</th>\n",
       "      <th>Group_visits</th>\n",
       "      <th>Age</th>\n",
       "      <th>Avg_additional_charges_total</th>\n",
       "      <th>Month_to_end_contract</th>\n",
       "      <th>Lifetime</th>\n",
       "      <th>Avg_class_frequency_total</th>\n",
       "      <th>Avg_class_frequency_current_month</th>\n",
       "      <th>Churn</th>\n",
       "    </tr>\n",
       "  </thead>\n",
       "  <tbody>\n",
       "    <tr>\n",
       "      <td>0</td>\n",
       "      <td>1</td>\n",
       "      <td>1</td>\n",
       "      <td>1</td>\n",
       "      <td>1</td>\n",
       "      <td>0</td>\n",
       "      <td>6</td>\n",
       "      <td>1</td>\n",
       "      <td>29</td>\n",
       "      <td>14.227470</td>\n",
       "      <td>5.0</td>\n",
       "      <td>3</td>\n",
       "      <td>0.020398</td>\n",
       "      <td>0.000000</td>\n",
       "      <td>0</td>\n",
       "    </tr>\n",
       "    <tr>\n",
       "      <td>1</td>\n",
       "      <td>0</td>\n",
       "      <td>1</td>\n",
       "      <td>0</td>\n",
       "      <td>0</td>\n",
       "      <td>1</td>\n",
       "      <td>12</td>\n",
       "      <td>1</td>\n",
       "      <td>31</td>\n",
       "      <td>113.202938</td>\n",
       "      <td>12.0</td>\n",
       "      <td>7</td>\n",
       "      <td>1.922936</td>\n",
       "      <td>1.910244</td>\n",
       "      <td>0</td>\n",
       "    </tr>\n",
       "    <tr>\n",
       "      <td>2</td>\n",
       "      <td>0</td>\n",
       "      <td>1</td>\n",
       "      <td>1</td>\n",
       "      <td>0</td>\n",
       "      <td>1</td>\n",
       "      <td>1</td>\n",
       "      <td>0</td>\n",
       "      <td>28</td>\n",
       "      <td>129.448479</td>\n",
       "      <td>1.0</td>\n",
       "      <td>2</td>\n",
       "      <td>1.859098</td>\n",
       "      <td>1.736502</td>\n",
       "      <td>0</td>\n",
       "    </tr>\n",
       "    <tr>\n",
       "      <td>3</td>\n",
       "      <td>0</td>\n",
       "      <td>1</td>\n",
       "      <td>1</td>\n",
       "      <td>1</td>\n",
       "      <td>1</td>\n",
       "      <td>12</td>\n",
       "      <td>1</td>\n",
       "      <td>33</td>\n",
       "      <td>62.669863</td>\n",
       "      <td>12.0</td>\n",
       "      <td>2</td>\n",
       "      <td>3.205633</td>\n",
       "      <td>3.357215</td>\n",
       "      <td>0</td>\n",
       "    </tr>\n",
       "    <tr>\n",
       "      <td>4</td>\n",
       "      <td>1</td>\n",
       "      <td>1</td>\n",
       "      <td>1</td>\n",
       "      <td>1</td>\n",
       "      <td>1</td>\n",
       "      <td>1</td>\n",
       "      <td>0</td>\n",
       "      <td>26</td>\n",
       "      <td>198.362265</td>\n",
       "      <td>1.0</td>\n",
       "      <td>3</td>\n",
       "      <td>1.113884</td>\n",
       "      <td>1.120078</td>\n",
       "      <td>0</td>\n",
       "    </tr>\n",
       "    <tr>\n",
       "      <td>...</td>\n",
       "      <td>...</td>\n",
       "      <td>...</td>\n",
       "      <td>...</td>\n",
       "      <td>...</td>\n",
       "      <td>...</td>\n",
       "      <td>...</td>\n",
       "      <td>...</td>\n",
       "      <td>...</td>\n",
       "      <td>...</td>\n",
       "      <td>...</td>\n",
       "      <td>...</td>\n",
       "      <td>...</td>\n",
       "      <td>...</td>\n",
       "      <td>...</td>\n",
       "    </tr>\n",
       "    <tr>\n",
       "      <td>3995</td>\n",
       "      <td>1</td>\n",
       "      <td>1</td>\n",
       "      <td>1</td>\n",
       "      <td>0</td>\n",
       "      <td>1</td>\n",
       "      <td>12</td>\n",
       "      <td>0</td>\n",
       "      <td>33</td>\n",
       "      <td>2.406023</td>\n",
       "      <td>12.0</td>\n",
       "      <td>8</td>\n",
       "      <td>2.284497</td>\n",
       "      <td>2.349070</td>\n",
       "      <td>0</td>\n",
       "    </tr>\n",
       "    <tr>\n",
       "      <td>3996</td>\n",
       "      <td>0</td>\n",
       "      <td>1</td>\n",
       "      <td>0</td>\n",
       "      <td>0</td>\n",
       "      <td>1</td>\n",
       "      <td>1</td>\n",
       "      <td>1</td>\n",
       "      <td>29</td>\n",
       "      <td>68.883764</td>\n",
       "      <td>1.0</td>\n",
       "      <td>1</td>\n",
       "      <td>1.277168</td>\n",
       "      <td>0.292859</td>\n",
       "      <td>1</td>\n",
       "    </tr>\n",
       "    <tr>\n",
       "      <td>3997</td>\n",
       "      <td>1</td>\n",
       "      <td>1</td>\n",
       "      <td>1</td>\n",
       "      <td>1</td>\n",
       "      <td>1</td>\n",
       "      <td>12</td>\n",
       "      <td>0</td>\n",
       "      <td>28</td>\n",
       "      <td>78.250542</td>\n",
       "      <td>11.0</td>\n",
       "      <td>2</td>\n",
       "      <td>2.786146</td>\n",
       "      <td>2.831439</td>\n",
       "      <td>0</td>\n",
       "    </tr>\n",
       "    <tr>\n",
       "      <td>3998</td>\n",
       "      <td>0</td>\n",
       "      <td>1</td>\n",
       "      <td>1</td>\n",
       "      <td>1</td>\n",
       "      <td>1</td>\n",
       "      <td>6</td>\n",
       "      <td>0</td>\n",
       "      <td>32</td>\n",
       "      <td>61.912657</td>\n",
       "      <td>5.0</td>\n",
       "      <td>3</td>\n",
       "      <td>1.630108</td>\n",
       "      <td>1.596237</td>\n",
       "      <td>0</td>\n",
       "    </tr>\n",
       "    <tr>\n",
       "      <td>3999</td>\n",
       "      <td>1</td>\n",
       "      <td>0</td>\n",
       "      <td>1</td>\n",
       "      <td>0</td>\n",
       "      <td>0</td>\n",
       "      <td>12</td>\n",
       "      <td>1</td>\n",
       "      <td>30</td>\n",
       "      <td>178.861814</td>\n",
       "      <td>12.0</td>\n",
       "      <td>1</td>\n",
       "      <td>1.101832</td>\n",
       "      <td>1.035270</td>\n",
       "      <td>0</td>\n",
       "    </tr>\n",
       "  </tbody>\n",
       "</table>\n",
       "<p>4000 rows × 14 columns</p>\n",
       "</div>"
      ],
      "text/plain": [
       "      gender  Near_Location  Partner  Promo_friends  Phone  Contract_period  \\\n",
       "0          1              1        1              1      0                6   \n",
       "1          0              1        0              0      1               12   \n",
       "2          0              1        1              0      1                1   \n",
       "3          0              1        1              1      1               12   \n",
       "4          1              1        1              1      1                1   \n",
       "...      ...            ...      ...            ...    ...              ...   \n",
       "3995       1              1        1              0      1               12   \n",
       "3996       0              1        0              0      1                1   \n",
       "3997       1              1        1              1      1               12   \n",
       "3998       0              1        1              1      1                6   \n",
       "3999       1              0        1              0      0               12   \n",
       "\n",
       "      Group_visits  Age  Avg_additional_charges_total  Month_to_end_contract  \\\n",
       "0                1   29                     14.227470                    5.0   \n",
       "1                1   31                    113.202938                   12.0   \n",
       "2                0   28                    129.448479                    1.0   \n",
       "3                1   33                     62.669863                   12.0   \n",
       "4                0   26                    198.362265                    1.0   \n",
       "...            ...  ...                           ...                    ...   \n",
       "3995             0   33                      2.406023                   12.0   \n",
       "3996             1   29                     68.883764                    1.0   \n",
       "3997             0   28                     78.250542                   11.0   \n",
       "3998             0   32                     61.912657                    5.0   \n",
       "3999             1   30                    178.861814                   12.0   \n",
       "\n",
       "      Lifetime  Avg_class_frequency_total  Avg_class_frequency_current_month  \\\n",
       "0            3                   0.020398                           0.000000   \n",
       "1            7                   1.922936                           1.910244   \n",
       "2            2                   1.859098                           1.736502   \n",
       "3            2                   3.205633                           3.357215   \n",
       "4            3                   1.113884                           1.120078   \n",
       "...        ...                        ...                                ...   \n",
       "3995         8                   2.284497                           2.349070   \n",
       "3996         1                   1.277168                           0.292859   \n",
       "3997         2                   2.786146                           2.831439   \n",
       "3998         3                   1.630108                           1.596237   \n",
       "3999         1                   1.101832                           1.035270   \n",
       "\n",
       "      Churn  \n",
       "0         0  \n",
       "1         0  \n",
       "2         0  \n",
       "3         0  \n",
       "4         0  \n",
       "...     ...  \n",
       "3995      0  \n",
       "3996      1  \n",
       "3997      0  \n",
       "3998      0  \n",
       "3999      0  \n",
       "\n",
       "[4000 rows x 14 columns]"
      ]
     },
     "execution_count": 4,
     "metadata": {},
     "output_type": "execute_result"
    }
   ],
   "source": [
    "gym"
   ]
  },
  {
   "cell_type": "markdown",
   "metadata": {},
   "source": [
    "- Описание данных  \n",
    "  \n",
    "Таблица `gym` содержит данные клиентов, журналы посещений и покупок, а также информация о текущем статусе абонемента клиента на месяц до оттока и факт оттока на определённый месяц:  \n",
    "\n",
    "    Churn — факт оттока в текущем месяце;  \n",
    "    gender — пол;\n",
    "    Near_Location — проживание или работа в районе, где находится фитнес-центр;\n",
    "    Partner — сотрудник компании-партнёра клуба (сотрудничество с компаниями, чьи сотрудники могут получать скидки на абонемент);\n",
    "    Promo_friends — факт первоначальной записи в рамках акции «приведи друга» (использовал промо-код от знакомого при оплате первого абонемента);\n",
    "    Phone — наличие контактного телефона;\n",
    "    Age — возраст;\n",
    "    Lifetime — время с момента первого обращения в фитнес-центр (в месяцах);\n",
    "    Contract_period — длительность текущего действующего абонемента (месяц, 3 месяца, 6 месяцев, год);\n",
    "    Month_to_end_contract — срок до окончания текущего действующего абонемента (в месяцах);\n",
    "    Group_visits — факт посещения групповых занятий;\n",
    "    Avg_class_frequency_total — средняя частота посещений в неделю за все время с начала действия абонемента;\n",
    "    Avg_class_frequency_current_month — средняя частота посещений в неделю за предыдущий месяц;\n",
    "    Avg_additional_charges_total — суммарная выручка от других услуг фитнес-центра: кафе, спорт-товары, косметический и массажный салон."
   ]
  },
  {
   "cell_type": "markdown",
   "metadata": {},
   "source": [
    "Мы видим, что в таблице `gym` названия столбцов записаны в разном регистре. Для удобства использования приведем данные в столбцах к нижнему регистру."
   ]
  },
  {
   "cell_type": "code",
   "execution_count": 5,
   "metadata": {},
   "outputs": [],
   "source": [
    "# переименование колонок\n",
    "gym = gym.rename(columns={\n",
    "    'Churn': 'churn', \n",
    "    'Near_Location': 'near_location',\n",
    "    'Partner': 'partner', \n",
    "    'Promo_friends': 'promo_friends',\n",
    "    'Phone': 'phone',\n",
    "    'Age': 'age',\n",
    "    'Lifetime': 'lifetime',\n",
    "    'Contract_period': 'contract_period',\n",
    "    'Month_to_end_contract': 'month_to_end_contract',\n",
    "    'Group_visits': 'group_visits',\n",
    "    'Avg_class_frequency_total': 'avg_class_frequency_total',\n",
    "    'Avg_class_frequency_current_month': 'avg_class_frequency_current_month',\n",
    "    'Avg_additional_charges_total': 'avg_additional_charges_total'\n",
    "})"
   ]
  },
  {
   "cell_type": "markdown",
   "metadata": {},
   "source": [
    "- Посмотрим общую информацию о таблице, также проверим данные на пропуски и дубликаты"
   ]
  },
  {
   "cell_type": "code",
   "execution_count": 6,
   "metadata": {},
   "outputs": [],
   "source": [
    "# функция получения общей информации, проверки на пропуски и дубликаты\n",
    "def total_info(data):\n",
    "    display(data.info())\n",
    "    print('Количество пропусков в столбцах:')\n",
    "    display(data.isna().sum())\n",
    "    print(\n",
    "        'Количество дубликатов в столбцах:',\n",
    "        data.duplicated().sum(), ', что составляет',\n",
    "        (data.duplicated().sum() / len(data) * 100).round(1), '%'\n",
    "    )"
   ]
  },
  {
   "cell_type": "code",
   "execution_count": 7,
   "metadata": {},
   "outputs": [
    {
     "name": "stdout",
     "output_type": "stream",
     "text": [
      "<class 'pandas.core.frame.DataFrame'>\n",
      "RangeIndex: 4000 entries, 0 to 3999\n",
      "Data columns (total 14 columns):\n",
      "gender                               4000 non-null int64\n",
      "near_location                        4000 non-null int64\n",
      "partner                              4000 non-null int64\n",
      "promo_friends                        4000 non-null int64\n",
      "phone                                4000 non-null int64\n",
      "contract_period                      4000 non-null int64\n",
      "group_visits                         4000 non-null int64\n",
      "age                                  4000 non-null int64\n",
      "avg_additional_charges_total         4000 non-null float64\n",
      "month_to_end_contract                4000 non-null float64\n",
      "lifetime                             4000 non-null int64\n",
      "avg_class_frequency_total            4000 non-null float64\n",
      "avg_class_frequency_current_month    4000 non-null float64\n",
      "churn                                4000 non-null int64\n",
      "dtypes: float64(4), int64(10)\n",
      "memory usage: 437.6 KB\n"
     ]
    },
    {
     "data": {
      "text/plain": [
       "None"
      ]
     },
     "metadata": {},
     "output_type": "display_data"
    },
    {
     "name": "stdout",
     "output_type": "stream",
     "text": [
      "Количество пропусков в столбцах:\n"
     ]
    },
    {
     "data": {
      "text/plain": [
       "gender                               0\n",
       "near_location                        0\n",
       "partner                              0\n",
       "promo_friends                        0\n",
       "phone                                0\n",
       "contract_period                      0\n",
       "group_visits                         0\n",
       "age                                  0\n",
       "avg_additional_charges_total         0\n",
       "month_to_end_contract                0\n",
       "lifetime                             0\n",
       "avg_class_frequency_total            0\n",
       "avg_class_frequency_current_month    0\n",
       "churn                                0\n",
       "dtype: int64"
      ]
     },
     "metadata": {},
     "output_type": "display_data"
    },
    {
     "name": "stdout",
     "output_type": "stream",
     "text": [
      "Количество дубликатов в столбцах: 0 , что составляет 0.0 %\n"
     ]
    }
   ],
   "source": [
    "# получение общей информации, проверка на пропуски и дубликаты\n",
    "total_info(gym)"
   ]
  },
  {
   "cell_type": "markdown",
   "metadata": {},
   "source": [
    "Всего в нашем распоряжении 4 000 наблюдений. Мы видим, что в данных отсутствуют пропуски и дубликаты, однако столбец `month_to_end_contract` имеет вещественный тип данных. Так это срок до окончания текущего действующего абонемента в месяцах, то преобразуем его в целочисленный тип данных.          "
   ]
  },
  {
   "cell_type": "code",
   "execution_count": 8,
   "metadata": {},
   "outputs": [],
   "source": [
    "# изменение типа данных\n",
    "gym['month_to_end_contract'] = gym['month_to_end_contract'].astype('int64')"
   ]
  },
  {
   "cell_type": "code",
   "execution_count": 9,
   "metadata": {},
   "outputs": [
    {
     "name": "stdout",
     "output_type": "stream",
     "text": [
      "<class 'pandas.core.frame.DataFrame'>\n",
      "RangeIndex: 4000 entries, 0 to 3999\n",
      "Data columns (total 14 columns):\n",
      "gender                               4000 non-null int64\n",
      "near_location                        4000 non-null int64\n",
      "partner                              4000 non-null int64\n",
      "promo_friends                        4000 non-null int64\n",
      "phone                                4000 non-null int64\n",
      "contract_period                      4000 non-null int64\n",
      "group_visits                         4000 non-null int64\n",
      "age                                  4000 non-null int64\n",
      "avg_additional_charges_total         4000 non-null float64\n",
      "month_to_end_contract                4000 non-null int64\n",
      "lifetime                             4000 non-null int64\n",
      "avg_class_frequency_total            4000 non-null float64\n",
      "avg_class_frequency_current_month    4000 non-null float64\n",
      "churn                                4000 non-null int64\n",
      "dtypes: float64(3), int64(11)\n",
      "memory usage: 437.6 KB\n"
     ]
    }
   ],
   "source": [
    "# проверка\n",
    "gym.info()"
   ]
  },
  {
   "cell_type": "markdown",
   "metadata": {},
   "source": [
    "### Вывод"
   ]
  },
  {
   "cell_type": "markdown",
   "metadata": {},
   "source": [
    "Мы заменили названия столбцов таблицы, проверили данные на наличие пропусков и дубликатов, привели данные к нужному типу. Теперь они готовы к дальнейшему анализу."
   ]
  },
  {
   "cell_type": "markdown",
   "metadata": {},
   "source": [
    "## Исследовательский анализ данных (EDA)"
   ]
  },
  {
   "cell_type": "markdown",
   "metadata": {},
   "source": [
    "В нашем датасете 4 000 наблюдений, целевая переменная `churn` и 13 различных признаков. В датасете все категориальные признаки уже преобразованы в числовые значения. Целевая переменная не имеет временной структуры. "
   ]
  },
  {
   "cell_type": "markdown",
   "metadata": {},
   "source": [
    "- **Изучим средние значения и стандартные отклонения признаков.**   \n",
    "Для этого применим метод `describe()`."
   ]
  },
  {
   "cell_type": "code",
   "execution_count": 10,
   "metadata": {},
   "outputs": [
    {
     "data": {
      "text/html": [
       "<div>\n",
       "<style scoped>\n",
       "    .dataframe tbody tr th:only-of-type {\n",
       "        vertical-align: middle;\n",
       "    }\n",
       "\n",
       "    .dataframe tbody tr th {\n",
       "        vertical-align: top;\n",
       "    }\n",
       "\n",
       "    .dataframe thead th {\n",
       "        text-align: right;\n",
       "    }\n",
       "</style>\n",
       "<table border=\"1\" class=\"dataframe\">\n",
       "  <thead>\n",
       "    <tr style=\"text-align: right;\">\n",
       "      <th></th>\n",
       "      <th>gender</th>\n",
       "      <th>near_location</th>\n",
       "      <th>partner</th>\n",
       "      <th>promo_friends</th>\n",
       "      <th>phone</th>\n",
       "      <th>contract_period</th>\n",
       "      <th>group_visits</th>\n",
       "      <th>age</th>\n",
       "      <th>avg_additional_charges_total</th>\n",
       "      <th>month_to_end_contract</th>\n",
       "      <th>lifetime</th>\n",
       "      <th>avg_class_frequency_total</th>\n",
       "      <th>avg_class_frequency_current_month</th>\n",
       "      <th>churn</th>\n",
       "    </tr>\n",
       "  </thead>\n",
       "  <tbody>\n",
       "    <tr>\n",
       "      <td>count</td>\n",
       "      <td>4000.000000</td>\n",
       "      <td>4000.000000</td>\n",
       "      <td>4000.000000</td>\n",
       "      <td>4000.000000</td>\n",
       "      <td>4000.000000</td>\n",
       "      <td>4000.000000</td>\n",
       "      <td>4000.000000</td>\n",
       "      <td>4000.000000</td>\n",
       "      <td>4000.000000</td>\n",
       "      <td>4000.000000</td>\n",
       "      <td>4000.000000</td>\n",
       "      <td>4000.000000</td>\n",
       "      <td>4000.000000</td>\n",
       "      <td>4000.000000</td>\n",
       "    </tr>\n",
       "    <tr>\n",
       "      <td>mean</td>\n",
       "      <td>0.510250</td>\n",
       "      <td>0.845250</td>\n",
       "      <td>0.486750</td>\n",
       "      <td>0.308500</td>\n",
       "      <td>0.903500</td>\n",
       "      <td>4.681250</td>\n",
       "      <td>0.412250</td>\n",
       "      <td>29.184250</td>\n",
       "      <td>146.943728</td>\n",
       "      <td>4.322750</td>\n",
       "      <td>3.724750</td>\n",
       "      <td>1.879020</td>\n",
       "      <td>1.767052</td>\n",
       "      <td>0.265250</td>\n",
       "    </tr>\n",
       "    <tr>\n",
       "      <td>std</td>\n",
       "      <td>0.499957</td>\n",
       "      <td>0.361711</td>\n",
       "      <td>0.499887</td>\n",
       "      <td>0.461932</td>\n",
       "      <td>0.295313</td>\n",
       "      <td>4.549706</td>\n",
       "      <td>0.492301</td>\n",
       "      <td>3.258367</td>\n",
       "      <td>96.355602</td>\n",
       "      <td>4.191297</td>\n",
       "      <td>3.749267</td>\n",
       "      <td>0.972245</td>\n",
       "      <td>1.052906</td>\n",
       "      <td>0.441521</td>\n",
       "    </tr>\n",
       "    <tr>\n",
       "      <td>min</td>\n",
       "      <td>0.000000</td>\n",
       "      <td>0.000000</td>\n",
       "      <td>0.000000</td>\n",
       "      <td>0.000000</td>\n",
       "      <td>0.000000</td>\n",
       "      <td>1.000000</td>\n",
       "      <td>0.000000</td>\n",
       "      <td>18.000000</td>\n",
       "      <td>0.148205</td>\n",
       "      <td>1.000000</td>\n",
       "      <td>0.000000</td>\n",
       "      <td>0.000000</td>\n",
       "      <td>0.000000</td>\n",
       "      <td>0.000000</td>\n",
       "    </tr>\n",
       "    <tr>\n",
       "      <td>25%</td>\n",
       "      <td>0.000000</td>\n",
       "      <td>1.000000</td>\n",
       "      <td>0.000000</td>\n",
       "      <td>0.000000</td>\n",
       "      <td>1.000000</td>\n",
       "      <td>1.000000</td>\n",
       "      <td>0.000000</td>\n",
       "      <td>27.000000</td>\n",
       "      <td>68.868830</td>\n",
       "      <td>1.000000</td>\n",
       "      <td>1.000000</td>\n",
       "      <td>1.180875</td>\n",
       "      <td>0.963003</td>\n",
       "      <td>0.000000</td>\n",
       "    </tr>\n",
       "    <tr>\n",
       "      <td>50%</td>\n",
       "      <td>1.000000</td>\n",
       "      <td>1.000000</td>\n",
       "      <td>0.000000</td>\n",
       "      <td>0.000000</td>\n",
       "      <td>1.000000</td>\n",
       "      <td>1.000000</td>\n",
       "      <td>0.000000</td>\n",
       "      <td>29.000000</td>\n",
       "      <td>136.220159</td>\n",
       "      <td>1.000000</td>\n",
       "      <td>3.000000</td>\n",
       "      <td>1.832768</td>\n",
       "      <td>1.719574</td>\n",
       "      <td>0.000000</td>\n",
       "    </tr>\n",
       "    <tr>\n",
       "      <td>75%</td>\n",
       "      <td>1.000000</td>\n",
       "      <td>1.000000</td>\n",
       "      <td>1.000000</td>\n",
       "      <td>1.000000</td>\n",
       "      <td>1.000000</td>\n",
       "      <td>6.000000</td>\n",
       "      <td>1.000000</td>\n",
       "      <td>31.000000</td>\n",
       "      <td>210.949625</td>\n",
       "      <td>6.000000</td>\n",
       "      <td>5.000000</td>\n",
       "      <td>2.536078</td>\n",
       "      <td>2.510336</td>\n",
       "      <td>1.000000</td>\n",
       "    </tr>\n",
       "    <tr>\n",
       "      <td>max</td>\n",
       "      <td>1.000000</td>\n",
       "      <td>1.000000</td>\n",
       "      <td>1.000000</td>\n",
       "      <td>1.000000</td>\n",
       "      <td>1.000000</td>\n",
       "      <td>12.000000</td>\n",
       "      <td>1.000000</td>\n",
       "      <td>41.000000</td>\n",
       "      <td>552.590740</td>\n",
       "      <td>12.000000</td>\n",
       "      <td>31.000000</td>\n",
       "      <td>6.023668</td>\n",
       "      <td>6.146783</td>\n",
       "      <td>1.000000</td>\n",
       "    </tr>\n",
       "  </tbody>\n",
       "</table>\n",
       "</div>"
      ],
      "text/plain": [
       "            gender  near_location      partner  promo_friends        phone  \\\n",
       "count  4000.000000    4000.000000  4000.000000    4000.000000  4000.000000   \n",
       "mean      0.510250       0.845250     0.486750       0.308500     0.903500   \n",
       "std       0.499957       0.361711     0.499887       0.461932     0.295313   \n",
       "min       0.000000       0.000000     0.000000       0.000000     0.000000   \n",
       "25%       0.000000       1.000000     0.000000       0.000000     1.000000   \n",
       "50%       1.000000       1.000000     0.000000       0.000000     1.000000   \n",
       "75%       1.000000       1.000000     1.000000       1.000000     1.000000   \n",
       "max       1.000000       1.000000     1.000000       1.000000     1.000000   \n",
       "\n",
       "       contract_period  group_visits          age  \\\n",
       "count      4000.000000   4000.000000  4000.000000   \n",
       "mean          4.681250      0.412250    29.184250   \n",
       "std           4.549706      0.492301     3.258367   \n",
       "min           1.000000      0.000000    18.000000   \n",
       "25%           1.000000      0.000000    27.000000   \n",
       "50%           1.000000      0.000000    29.000000   \n",
       "75%           6.000000      1.000000    31.000000   \n",
       "max          12.000000      1.000000    41.000000   \n",
       "\n",
       "       avg_additional_charges_total  month_to_end_contract     lifetime  \\\n",
       "count                   4000.000000            4000.000000  4000.000000   \n",
       "mean                     146.943728               4.322750     3.724750   \n",
       "std                       96.355602               4.191297     3.749267   \n",
       "min                        0.148205               1.000000     0.000000   \n",
       "25%                       68.868830               1.000000     1.000000   \n",
       "50%                      136.220159               1.000000     3.000000   \n",
       "75%                      210.949625               6.000000     5.000000   \n",
       "max                      552.590740              12.000000    31.000000   \n",
       "\n",
       "       avg_class_frequency_total  avg_class_frequency_current_month  \\\n",
       "count                4000.000000                        4000.000000   \n",
       "mean                    1.879020                           1.767052   \n",
       "std                     0.972245                           1.052906   \n",
       "min                     0.000000                           0.000000   \n",
       "25%                     1.180875                           0.963003   \n",
       "50%                     1.832768                           1.719574   \n",
       "75%                     2.536078                           2.510336   \n",
       "max                     6.023668                           6.146783   \n",
       "\n",
       "             churn  \n",
       "count  4000.000000  \n",
       "mean      0.265250  \n",
       "std       0.441521  \n",
       "min       0.000000  \n",
       "25%       0.000000  \n",
       "50%       0.000000  \n",
       "75%       1.000000  \n",
       "max       1.000000  "
      ]
     },
     "execution_count": 10,
     "metadata": {},
     "output_type": "execute_result"
    }
   ],
   "source": [
    "gym.describe()"
   ]
  },
  {
   "cell_type": "markdown",
   "metadata": {},
   "source": [
    "В целом мы наблюдаем, что:\n",
    "- большинство клиентов фитнес-центра работают или проживают рядом с фитнес-центром;\n",
    "- от 25% до 50% клиентов воспользовались акцией \"приведи друга\" или являются сотрудниками компании-партнера;\n",
    "- половина клиентов покупают абонемент на срок 1 месяц, Средние значения 4,68 месяцев, то есть период 3 или 6 месяцев;\n",
    "- от 25% до 50% клиентов посещают групповые занятия;\n",
    "- средний возраст клиентов 29 лет, максимальный 41. Стандартное отклонение 3 года, данные не слишком сильно варьируются;\n",
    "- средняя выручка от других услуг фитнес-центра 147 усл. ед. При этом 75% клиентов тратят на дополнительные услуги не более 211 усл. ед. в месяц, максимум 552 усл. ед. Стандартное отклонение 96 усл. ед., можно сказать что выручка от клиента к клиенту довольно сильно различается;\n",
    "- среднее время с момента первого обращения в фитнес-центр у данных клиентов чуть более 3 месяцев;\n",
    "- в среднем клиенты посещают фитнес-центр около 2 раз в неделю."
   ]
  },
  {
   "cell_type": "markdown",
   "metadata": {},
   "source": [
    "- **Теперь сравним средние значения признаков в двух группах клиентов — тех, кто ушел в отток и тех, кто остался.**"
   ]
  },
  {
   "cell_type": "code",
   "execution_count": 11,
   "metadata": {},
   "outputs": [
    {
     "data": {
      "text/html": [
       "<div>\n",
       "<style scoped>\n",
       "    .dataframe tbody tr th:only-of-type {\n",
       "        vertical-align: middle;\n",
       "    }\n",
       "\n",
       "    .dataframe tbody tr th {\n",
       "        vertical-align: top;\n",
       "    }\n",
       "\n",
       "    .dataframe thead th {\n",
       "        text-align: right;\n",
       "    }\n",
       "</style>\n",
       "<table border=\"1\" class=\"dataframe\">\n",
       "  <thead>\n",
       "    <tr style=\"text-align: right;\">\n",
       "      <th></th>\n",
       "      <th>gender</th>\n",
       "      <th>near_location</th>\n",
       "      <th>partner</th>\n",
       "      <th>promo_friends</th>\n",
       "      <th>phone</th>\n",
       "      <th>contract_period</th>\n",
       "      <th>group_visits</th>\n",
       "      <th>age</th>\n",
       "      <th>avg_additional_charges_total</th>\n",
       "      <th>month_to_end_contract</th>\n",
       "      <th>lifetime</th>\n",
       "      <th>avg_class_frequency_total</th>\n",
       "      <th>avg_class_frequency_current_month</th>\n",
       "    </tr>\n",
       "    <tr>\n",
       "      <th>churn</th>\n",
       "      <th></th>\n",
       "      <th></th>\n",
       "      <th></th>\n",
       "      <th></th>\n",
       "      <th></th>\n",
       "      <th></th>\n",
       "      <th></th>\n",
       "      <th></th>\n",
       "      <th></th>\n",
       "      <th></th>\n",
       "      <th></th>\n",
       "      <th></th>\n",
       "      <th></th>\n",
       "    </tr>\n",
       "  </thead>\n",
       "  <tbody>\n",
       "    <tr>\n",
       "      <td>0</td>\n",
       "      <td>0.510037</td>\n",
       "      <td>0.873086</td>\n",
       "      <td>0.534195</td>\n",
       "      <td>0.353522</td>\n",
       "      <td>0.903709</td>\n",
       "      <td>5.747193</td>\n",
       "      <td>0.464103</td>\n",
       "      <td>29.976523</td>\n",
       "      <td>158.445715</td>\n",
       "      <td>5.283089</td>\n",
       "      <td>4.711807</td>\n",
       "      <td>2.024876</td>\n",
       "      <td>2.027882</td>\n",
       "    </tr>\n",
       "    <tr>\n",
       "      <td>1</td>\n",
       "      <td>0.510839</td>\n",
       "      <td>0.768143</td>\n",
       "      <td>0.355325</td>\n",
       "      <td>0.183789</td>\n",
       "      <td>0.902922</td>\n",
       "      <td>1.728558</td>\n",
       "      <td>0.268615</td>\n",
       "      <td>26.989632</td>\n",
       "      <td>115.082899</td>\n",
       "      <td>1.662582</td>\n",
       "      <td>0.990575</td>\n",
       "      <td>1.474995</td>\n",
       "      <td>1.044546</td>\n",
       "    </tr>\n",
       "  </tbody>\n",
       "</table>\n",
       "</div>"
      ],
      "text/plain": [
       "         gender  near_location   partner  promo_friends     phone  \\\n",
       "churn                                                               \n",
       "0      0.510037       0.873086  0.534195       0.353522  0.903709   \n",
       "1      0.510839       0.768143  0.355325       0.183789  0.902922   \n",
       "\n",
       "       contract_period  group_visits        age  avg_additional_charges_total  \\\n",
       "churn                                                                           \n",
       "0             5.747193      0.464103  29.976523                    158.445715   \n",
       "1             1.728558      0.268615  26.989632                    115.082899   \n",
       "\n",
       "       month_to_end_contract  lifetime  avg_class_frequency_total  \\\n",
       "churn                                                               \n",
       "0                   5.283089  4.711807                   2.024876   \n",
       "1                   1.662582  0.990575                   1.474995   \n",
       "\n",
       "       avg_class_frequency_current_month  \n",
       "churn                                     \n",
       "0                               2.027882  \n",
       "1                               1.044546  "
      ]
     },
     "execution_count": 11,
     "metadata": {},
     "output_type": "execute_result"
    }
   ],
   "source": [
    "gym.groupby('churn').mean()"
   ]
  },
  {
   "cell_type": "code",
   "execution_count": 12,
   "metadata": {},
   "outputs": [
    {
     "data": {
      "text/html": [
       "<div>\n",
       "<style scoped>\n",
       "    .dataframe tbody tr th:only-of-type {\n",
       "        vertical-align: middle;\n",
       "    }\n",
       "\n",
       "    .dataframe tbody tr th {\n",
       "        vertical-align: top;\n",
       "    }\n",
       "\n",
       "    .dataframe thead th {\n",
       "        text-align: right;\n",
       "    }\n",
       "</style>\n",
       "<table border=\"1\" class=\"dataframe\">\n",
       "  <thead>\n",
       "    <tr style=\"text-align: right;\">\n",
       "      <th></th>\n",
       "      <th>gender</th>\n",
       "      <th>near_location</th>\n",
       "      <th>partner</th>\n",
       "      <th>promo_friends</th>\n",
       "      <th>phone</th>\n",
       "      <th>contract_period</th>\n",
       "      <th>group_visits</th>\n",
       "      <th>age</th>\n",
       "      <th>avg_additional_charges_total</th>\n",
       "      <th>month_to_end_contract</th>\n",
       "      <th>lifetime</th>\n",
       "      <th>avg_class_frequency_total</th>\n",
       "      <th>avg_class_frequency_current_month</th>\n",
       "    </tr>\n",
       "    <tr>\n",
       "      <th>churn</th>\n",
       "      <th></th>\n",
       "      <th></th>\n",
       "      <th></th>\n",
       "      <th></th>\n",
       "      <th></th>\n",
       "      <th></th>\n",
       "      <th></th>\n",
       "      <th></th>\n",
       "      <th></th>\n",
       "      <th></th>\n",
       "      <th></th>\n",
       "      <th></th>\n",
       "      <th></th>\n",
       "    </tr>\n",
       "  </thead>\n",
       "  <tbody>\n",
       "    <tr>\n",
       "      <td>0</td>\n",
       "      <td>2939</td>\n",
       "      <td>2939</td>\n",
       "      <td>2939</td>\n",
       "      <td>2939</td>\n",
       "      <td>2939</td>\n",
       "      <td>2939</td>\n",
       "      <td>2939</td>\n",
       "      <td>2939</td>\n",
       "      <td>2939</td>\n",
       "      <td>2939</td>\n",
       "      <td>2939</td>\n",
       "      <td>2939</td>\n",
       "      <td>2939</td>\n",
       "    </tr>\n",
       "    <tr>\n",
       "      <td>1</td>\n",
       "      <td>1061</td>\n",
       "      <td>1061</td>\n",
       "      <td>1061</td>\n",
       "      <td>1061</td>\n",
       "      <td>1061</td>\n",
       "      <td>1061</td>\n",
       "      <td>1061</td>\n",
       "      <td>1061</td>\n",
       "      <td>1061</td>\n",
       "      <td>1061</td>\n",
       "      <td>1061</td>\n",
       "      <td>1061</td>\n",
       "      <td>1061</td>\n",
       "    </tr>\n",
       "  </tbody>\n",
       "</table>\n",
       "</div>"
      ],
      "text/plain": [
       "       gender  near_location  partner  promo_friends  phone  contract_period  \\\n",
       "churn                                                                          \n",
       "0        2939           2939     2939           2939   2939             2939   \n",
       "1        1061           1061     1061           1061   1061             1061   \n",
       "\n",
       "       group_visits   age  avg_additional_charges_total  \\\n",
       "churn                                                     \n",
       "0              2939  2939                          2939   \n",
       "1              1061  1061                          1061   \n",
       "\n",
       "       month_to_end_contract  lifetime  avg_class_frequency_total  \\\n",
       "churn                                                               \n",
       "0                       2939      2939                       2939   \n",
       "1                       1061      1061                       1061   \n",
       "\n",
       "       avg_class_frequency_current_month  \n",
       "churn                                     \n",
       "0                                   2939  \n",
       "1                                   1061  "
      ]
     },
     "execution_count": 12,
     "metadata": {},
     "output_type": "execute_result"
    }
   ],
   "source": [
    "gym.groupby('churn').count()"
   ]
  },
  {
   "cell_type": "markdown",
   "metadata": {},
   "source": [
    "В группах можно наблюдать явные различия:\n",
    "- клиенты, которые не ушли в отток приобретали абонементы в среднем на 6 месяцев, а те, кто ушли в среднем на 1-3 месяца;\n",
    "- среди тех, кто не ушел больше клиентов, воспользовавшихся акцией \"приведи друга\", являющихся сотрудниками компании-партнера,  проживающих или работающих поблизости от фитнес-центра, а также посещающих групповые занятия;\n",
    "- средний возраст клиентов ушедших в отток 26 лет, что на 3 года меньше среднего возраста не ушедших клиентов. Можно предположить, что молодые люди больше любят экспериментировать, пробовать новое. Они могут чаще менять фитнес-центры или свои увлечения;\n",
    "- также те, кто не ушел в отток гораздо охотнее пользуются дополнительными услугами фитнес-центра (средняя выручка на 43 усл. ед. выше);\n",
    "- клиенты, которые уходят в отток в среднем делают это через 1 месяц после первого посещения фитнес-центра;\n",
    "- можно заметить, что посещают они фитнес-центр также реже - в среднем 1 - 2 раз в неделю, особенно снижается количество посещений в месяце перед оттоком - 1 посещение в неделю."
   ]
  },
  {
   "cell_type": "markdown",
   "metadata": {},
   "source": [
    "- **Построим столбчатые гистограммы и распределения признаков для тех клиентов, кто ушёл (отток) и тех, кто остался (не попали в отток).**"
   ]
  },
  {
   "cell_type": "code",
   "execution_count": 13,
   "metadata": {},
   "outputs": [],
   "source": [
    "# функция построения графиков по признакам\n",
    "\n",
    "def feature_charts(data):\n",
    "    sns.set(style=\"whitegrid\")\n",
    "    \n",
    "    # задание расположения графиков\n",
    "    fig, axs = plt.subplots(4, 2, figsize=(15, 30))\n",
    "    axs = axs.ravel()\n",
    "    \n",
    "    # цикл для построения столбчатых диаграмм (убираем столбцы, для котрых будет использован другой вид графика)\n",
    "    i = 0    \n",
    "    for col in data.drop(\n",
    "                   ['churn',\n",
    "                    'age', \n",
    "                    'avg_additional_charges_total',\n",
    "                    'month_to_end_contract', \n",
    "                    'lifetime',\n",
    "                    'avg_class_frequency_total',\n",
    "                    'avg_class_frequency_current_month'],\n",
    "                    axis = 1\n",
    "                ).columns:\n",
    "        \n",
    "        # группировка данных\n",
    "        data_group = data.groupby(\n",
    "                              ['churn', col], as_index=False\n",
    "                          )['age'].count().rename(\n",
    "                                               columns={'age': 'Количество', 'churn': 'Факт оттока клиента'}\n",
    "                                           )\n",
    "        # пострение графика\n",
    "        sns.barplot(x=\"Факт оттока клиента\", y=\"Количество\", hue=col, data=data_group, ci=None, ax=axs[i])\n",
    "        axs[i].set(title='Распределение признака '+col)\n",
    "        fig.show()\n",
    "        \n",
    "        i+=1\n",
    "    \n",
    "    # удаление лишнего места под график\n",
    "    axs[7].remove() \n",
    "    \n",
    "    # задание расположения графиков\n",
    "    fig, axs = plt.subplots(3, 2, figsize=(15, 22))\n",
    "    axs = axs.ravel()\n",
    "    \n",
    "    # цикл для построения гистограмм (убираем столбцы, для котрых был использован другой вид графика)\n",
    "    i = 0\n",
    "    for col in data.drop(\n",
    "               ['churn',\n",
    "                'gender',\n",
    "                'near_location',\n",
    "                'partner', \n",
    "                'promo_friends',\n",
    "                'phone',\n",
    "                'contract_period',\n",
    "                'group_visits'],\n",
    "                axis = 1\n",
    "            ).columns:  \n",
    "        \n",
    "        # пострение графика для неушедших клиентов\n",
    "        sns.histplot(data=data.query('churn == 0'),\n",
    "                     x=col,\n",
    "                     kde=False,\n",
    "                     color=\"tomato\", \n",
    "                     label=\"клиенты оставшиеся\", \n",
    "                     ax=axs[i])\n",
    "        \n",
    "        # пострение графика для оттока\n",
    "        sns.histplot(data=data.query('churn == 1'),\n",
    "                     x=col,\n",
    "                     kde=False,\n",
    "                     color=\"steelblue\",\n",
    "                     label=\"клиенты, попавшие в отток\", \n",
    "                     ax=axs[i]) \n",
    "        \n",
    "        axs[i].set(title='Распределение признака '+col)\n",
    "        axs[i].set(ylabel='Количество')\n",
    "        axs[i].legend()\n",
    "        fig.show()\n",
    "        \n",
    "        i+=1        "
   ]
  },
  {
   "cell_type": "code",
   "execution_count": 14,
   "metadata": {
    "scrolled": false
   },
   "outputs": [
    {
     "data": {
      "image/png": "[encoded data removed]",
      "text/plain": [
       "<Figure size 1080x2160 with 7 Axes>"
      ]
     },
     "metadata": {},
     "output_type": "display_data"
    },
    {
     "data": {
      "image/png": "[encoded data removed]",
      "text/plain": [
       "<Figure size 1080x1584 with 6 Axes>"
      ]
     },
     "metadata": {},
     "output_type": "display_data"
    }
   ],
   "source": [
    "feature_charts(gym)"
   ]
  },
  {
   "cell_type": "markdown",
   "metadata": {},
   "source": [
    "Изучив графики, можно сказать, что:\n",
    "- похоже, что клиенты проживающие или работающие рядом с фитнес-центром, чаще остаются, а количество клиентов, не проживающих и неработающих в районе фитнес-центра, среди тех кто остался и ушел практически одинаковое. Тоже самое можно сказать про клиентов, пожелавших оставить свой контактный телефон, они более лояльны;\n",
    "- среди не ушедших клиентов гораздо больше тех, кто является сотрудником компании-партнера, в то время как у клиентов попавших в отток совсем наоборот;\n",
    "- среди клиентов, которые покупают абонементы на 6 или 12 месяцев, мало тех, кто уходит;\n",
    "- гистограмма возраста клиентов имеет нормальное распределение, при этом клиенты попавшие в отток моложе, в среднем 23 - 30 лет;\n",
    "- среди ушедших клиентов в основном те кто, посещал фитнес-центр не более 2-3 месяцев;\n",
    "- частота посещения клиентами фитнес-центра в целом за период и предшествующем месяце различается. Клиенты, попавшие в отток, в предшествующем месяце либо переставали посещать фитнес-центр, либо делали это 1 раз в неделю, изредка 2 раза в неделю."
   ]
  },
  {
   "cell_type": "markdown",
   "metadata": {},
   "source": [
    "- **Построим матрицу корреляций и отобразим её.**"
   ]
  },
  {
   "cell_type": "code",
   "execution_count": 15,
   "metadata": {},
   "outputs": [
    {
     "data": {
      "image/png": "[encoded data removed]",
      "text/plain": [
       "<Figure size 1008x1008 with 2 Axes>"
      ]
     },
     "metadata": {},
     "output_type": "display_data"
    }
   ],
   "source": [
    "# вычисляем матрицу корреляций\n",
    "cm = gym.corr() \n",
    "\n",
    "# тепловая карта \n",
    "fig, ax = plt.subplots(figsize=(14,14))\n",
    "sns.heatmap(cm, annot=True, square=True, fmt=\".2f\")\n",
    "plt.show()"
   ]
  },
  {
   "cell_type": "markdown",
   "metadata": {},
   "source": [
    "С целевой переменной признаки сильно не коррелируют. Однако у нас появилось **две пары сильно скоррелированных признаков:** \n",
    "1. период, на который приобретен абонемент и количество месяцев до окончания абонемента;\n",
    "2. среднее количество посещений в неделю в прошедшем месяце и в целом за период.  \n",
    " \n",
    "    \n",
    "**На целевую переменную чуть больше влияют признаки:** \n",
    "1. время с первого посещения (в месяцах); \n",
    "2. возраст;\n",
    "3. среднее количество посещений в неделю за предыдущий месяц;\n",
    "4. срок, на который приобретен абонемент.\n",
    "  \n",
    "При этом мы наблюдаем обратную зависимость, то есть, чем выше показатель признаков, тем больше вероятность, что клиент не уйдет."
   ]
  },
  {
   "cell_type": "markdown",
   "metadata": {},
   "source": [
    "### Вывод"
   ]
  },
  {
   "cell_type": "markdown",
   "metadata": {},
   "source": [
    "Изучив признаки и целевую переменную можно сказать следующее:\n",
    "1. У нас нет каких-либо сильно аномальных значений или выбросов.\n",
    "2. На целевую переменную сильнее оказывают влияние 4 признака: время с первого посещения (в месяцах), возраст, среднее количество посещений в неделю за предыдущий месяц и срок, на который приобретен абонемент.\n",
    "3. Исходя из задач, мы будем применять модель бинарной классификации, с целевой переменной - факт оттока клиента и кластеризацию пользователей.\n",
    "4. У нас есть две пары сильно скоррелированных признаков, мы пременим регуляризацию, встроенную в алгоритм логистической регрессии.\n",
    "5. В данных нет временной структуры, поэтому разбиение на валидационную и тестовую выборки можно сделать случайным методом.\n",
    "6. В качестве алгоритмов бинарной классификации будем использовать: логистическую регрессию и случайный лес. В качестве алгоритма кластеризации - K-Means.\n",
    "7. Так как нам нужно предсказать факт оттока клиентов будем оценивать метрики Accuracy, Precision и Recall. "
   ]
  },
  {
   "cell_type": "markdown",
   "metadata": {},
   "source": [
    "## Построение модели прогнозирования оттока клиентов"
   ]
  },
  {
   "cell_type": "markdown",
   "metadata": {},
   "source": [
    "Построим модели, которые помогут спрогнозировать отток клиентов."
   ]
  },
  {
   "cell_type": "markdown",
   "metadata": {},
   "source": [
    "- **Разобьем данные на обучающую и валидационную выборку.**"
   ]
  },
  {
   "cell_type": "code",
   "execution_count": 16,
   "metadata": {},
   "outputs": [],
   "source": [
    "# разделим данные на признаки (матрица X) и целевую переменную (y)\n",
    "X = gym.drop('churn', axis = 1)\n",
    "y = gym['churn']"
   ]
  },
  {
   "cell_type": "code",
   "execution_count": 17,
   "metadata": {},
   "outputs": [],
   "source": [
    "# разделим модель на обучающую и валидационную выборку\n",
    "X_train, X_test, y_train, y_test = train_test_split(X, y, test_size=0.2, random_state=0)"
   ]
  },
  {
   "cell_type": "markdown",
   "metadata": {},
   "source": [
    "- **Обучим модель на train-выборке двумя алгоритмами:**  \n",
    "логистической регрессией,  \n",
    "случайным лесом."
   ]
  },
  {
   "cell_type": "code",
   "execution_count": 18,
   "metadata": {},
   "outputs": [],
   "source": [
    "# разделим данные на признаки (матрица X) и целевую переменную (y)\n",
    "X = gym.drop('churn', axis=1)\n",
    "y = gym['churn']\n",
    "\n",
    "# разделим модель на обучающую и валидационную выборку\n",
    "X_train, X_test, y_train, y_test = train_test_split(\n",
    "    X, y, test_size=0.2, random_state=0\n",
    ")\n",
    "\n",
    "# обучим StandartScaler на обучающей выборке\n",
    "scaler = StandardScaler()\n",
    "scaler.fit(X_train)\n",
    "\n",
    "# преобразуем обучающий и валидационные наборы данных\n",
    "X_train_st = scaler.transform(X_train)\n",
    "X_test_st = scaler.transform(X_test)\n",
    "\n",
    "# зададим алгоритм для модели логистической регрессии\n",
    "lr_model = LogisticRegression(random_state=0, solver='liblinear')\n",
    "\n",
    "# обучим модель\n",
    "lr_model.fit(X_train_st, y_train)\n",
    "\n",
    "# воспользуемся уже обученной моделью, чтобы сделать прогнозы\n",
    "lr_predictions = lr_model.predict(X_test_st)\n",
    "lr_probabilities = lr_model.predict_proba(X_test_st)[:, 1]\n",
    "\n",
    "# зададим алгоритм для модели на основе алгоритма случайного леса\n",
    "rf_model = RandomForestClassifier(random_state = 0, n_estimators=100)  \n",
    "# обучим модель случайного леса\n",
    "rf_model.fit(X_train_st, y_train)\n",
    "# воспользуемся уже обученной моделью, чтобы сделать прогнозы\n",
    "rf_predictions = rf_model.predict(X_test_st)  \n",
    "rf_probabilities = rf_model.predict_proba(X_test_st)[:, 1]"
   ]
  },
  {
   "cell_type": "markdown",
   "metadata": {},
   "source": [
    "- **Оценим метрики для обеих моделей на валидационной выборке и сравним по ним модели.**"
   ]
  },
  {
   "cell_type": "code",
   "execution_count": 19,
   "metadata": {},
   "outputs": [],
   "source": [
    "# определим функцию, которая будет выводить метрики\n",
    "def print_all_metrics(y_true, y_pred, y_proba, title='Метрики классификации'):\n",
    "    print(title)\n",
    "    print('\\tAccuracy: {:.2f}'.format(accuracy_score(y_true, y_pred)))\n",
    "    print('\\tPrecision: {:.2f}'.format(precision_score(y_true, y_pred)))\n",
    "    print('\\tRecall: {:.2f}'.format(recall_score(y_true, y_pred)))   \n",
    "    print('\\tROC_AUC: {:.2f}'.format(roc_auc_score(y_true, y_proba)))"
   ]
  },
  {
   "cell_type": "code",
   "execution_count": 20,
   "metadata": {},
   "outputs": [
    {
     "name": "stdout",
     "output_type": "stream",
     "text": [
      "Соотношение классов:\n",
      " 0    73.475\n",
      "1    26.525\n",
      "Name: churn, dtype: float64 \n",
      "\n",
      "Метрики для модели логистической регрессии:\n",
      "\tAccuracy: 0.92\n",
      "\tPrecision: 0.85\n",
      "\tRecall: 0.83\n",
      "\tROC_AUC: 0.97\n",
      "Метрики для модели случайного леса:\n",
      "\tAccuracy: 0.92\n",
      "\tPrecision: 0.84\n",
      "\tRecall: 0.81\n",
      "\tROC_AUC: 0.97\n"
     ]
    }
   ],
   "source": [
    "# посмотрим на баланс классов набора данных\n",
    "print('Соотношение классов:\\n', (gym['churn'].value_counts() / len(gym) * 100), '\\n')\n",
    "\n",
    "# выведем метрики логистической регрессии\n",
    "print_all_metrics(\n",
    "    y_test,\n",
    "    lr_predictions,\n",
    "    lr_probabilities,\n",
    "    title='Метрики для модели логистической регрессии:',\n",
    ")\n",
    "\n",
    "# выведем метрики случайного леса\n",
    "print_all_metrics(\n",
    "    y_test,\n",
    "    rf_predictions,\n",
    "    rf_probabilities, \n",
    "    title='Метрики для модели случайного леса:'\n",
    ")"
   ]
  },
  {
   "cell_type": "markdown",
   "metadata": {},
   "source": [
    "**Метрики модели на основе алгоритма логистической регрессии выглядят немного лучше**: в частности, метрики `Precision` и `Recall`. Точность и полнота предсказаний модели логистической регрессии на уровне 85% и 83%, что выглядит довольно хорошо.  \n",
    "  \n",
    "Метрика `Accuracy` показывает нам, что обе модель правильно прогнозируют 92% ответов, однако эта метрика в данном случае может и не сработать, так как у нас есть различия в классах: 73% на 27%.  \n",
    "\n",
    "Дополнительно мы рассмотрели метрику `ROC_AUC`, которая показала нам, что качество обоих классификаторов составляет 97%. Это очень хороший показатель. "
   ]
  },
  {
   "cell_type": "markdown",
   "metadata": {},
   "source": [
    "### Вывод"
   ]
  },
  {
   "cell_type": "markdown",
   "metadata": {},
   "source": [
    "Мы обучили 2 модели алгоритмами логистической регрессии и случайного леса. На основании изученных метрик можно сказать, что **модель на основе алгоритма логистической регрессии показывает себя лучше**."
   ]
  },
  {
   "cell_type": "markdown",
   "metadata": {},
   "source": [
    "## Кластеризация клиентов"
   ]
  },
  {
   "cell_type": "markdown",
   "metadata": {},
   "source": [
    "Сформируем типичные портреты клиентов: выделим 5 наиболее ярких групп и охарактеризуем их основные свойства."
   ]
  },
  {
   "cell_type": "markdown",
   "metadata": {},
   "source": [
    "- **Стандартизируем данные.**"
   ]
  },
  {
   "cell_type": "code",
   "execution_count": 21,
   "metadata": {},
   "outputs": [],
   "source": [
    "# стандартизируем данные (используем матрицу признаков, то есть данные без целевой переменной)\n",
    "sc = StandardScaler()\n",
    "X_sc = sc.fit_transform(X)"
   ]
  },
  {
   "cell_type": "markdown",
   "metadata": {},
   "source": [
    "- **Построим матрицу расстояний на стандартизованной матрице признаков и нарисуем дендрограмму.**"
   ]
  },
  {
   "cell_type": "code",
   "execution_count": 22,
   "metadata": {},
   "outputs": [
    {
     "data": {
      "image/png": "[encoded data removed]",
      "text/plain": [
       "<Figure size 1080x720 with 1 Axes>"
      ]
     },
     "metadata": {},
     "output_type": "display_data"
    }
   ],
   "source": [
    "# матрица расстояний\n",
    "linked = linkage(X_sc, method = 'ward')\n",
    "\n",
    "# построение дендрограммы\n",
    "plt.figure(figsize=(15, 10))  \n",
    "dendrogram(linked, orientation='top')\n",
    "plt.show() "
   ]
  },
  {
   "cell_type": "markdown",
   "metadata": {},
   "source": [
    "На данной дендрограмме предложено оптимальное число число кластеров 4. "
   ]
  },
  {
   "cell_type": "markdown",
   "metadata": {},
   "source": [
    "- **Обучим модель кластеризации на основании алгоритма K-Means и спрогнозируем кластеры клиентов.**   \n",
    "\n",
    "Возьмем число кластеров n = 5."
   ]
  },
  {
   "cell_type": "code",
   "execution_count": 23,
   "metadata": {},
   "outputs": [],
   "source": [
    "# зададим модель k_means с числом кластеров 5\n",
    "km = KMeans(n_clusters = 5, random_state=0)\n",
    "\n",
    "# спрогнозируем кластеры для наблюдений \n",
    "labels = km.fit_predict(X_sc)\n",
    "\n",
    "# сохраняем метки кластера в поле датасета\n",
    "gym['cluster_km'] = labels"
   ]
  },
  {
   "cell_type": "markdown",
   "metadata": {},
   "source": [
    "- **Изучим средние значения признаков для кластеров.**"
   ]
  },
  {
   "cell_type": "code",
   "execution_count": 24,
   "metadata": {},
   "outputs": [
    {
     "data": {
      "text/html": [
       "<div>\n",
       "<style scoped>\n",
       "    .dataframe tbody tr th:only-of-type {\n",
       "        vertical-align: middle;\n",
       "    }\n",
       "\n",
       "    .dataframe tbody tr th {\n",
       "        vertical-align: top;\n",
       "    }\n",
       "\n",
       "    .dataframe thead th {\n",
       "        text-align: right;\n",
       "    }\n",
       "</style>\n",
       "<table border=\"1\" class=\"dataframe\">\n",
       "  <thead>\n",
       "    <tr style=\"text-align: right;\">\n",
       "      <th></th>\n",
       "      <th>cluster_km</th>\n",
       "      <th>gender</th>\n",
       "      <th>near_location</th>\n",
       "      <th>partner</th>\n",
       "      <th>promo_friends</th>\n",
       "      <th>phone</th>\n",
       "      <th>contract_period</th>\n",
       "      <th>group_visits</th>\n",
       "      <th>age</th>\n",
       "      <th>avg_additional_charges_total</th>\n",
       "      <th>month_to_end_contract</th>\n",
       "      <th>lifetime</th>\n",
       "      <th>avg_class_frequency_total</th>\n",
       "      <th>avg_class_frequency_current_month</th>\n",
       "    </tr>\n",
       "  </thead>\n",
       "  <tbody>\n",
       "    <tr>\n",
       "      <td>0</td>\n",
       "      <td>0</td>\n",
       "      <td>0.502473</td>\n",
       "      <td>0.959446</td>\n",
       "      <td>0.783383</td>\n",
       "      <td>0.574679</td>\n",
       "      <td>1.000000</td>\n",
       "      <td>10.884273</td>\n",
       "      <td>0.543027</td>\n",
       "      <td>29.980218</td>\n",
       "      <td>160.706969</td>\n",
       "      <td>9.950544</td>\n",
       "      <td>4.738872</td>\n",
       "      <td>1.983305</td>\n",
       "      <td>1.976225</td>\n",
       "    </tr>\n",
       "    <tr>\n",
       "      <td>1</td>\n",
       "      <td>1</td>\n",
       "      <td>0.522078</td>\n",
       "      <td>0.862338</td>\n",
       "      <td>0.470130</td>\n",
       "      <td>0.306494</td>\n",
       "      <td>0.000000</td>\n",
       "      <td>4.787013</td>\n",
       "      <td>0.425974</td>\n",
       "      <td>29.301299</td>\n",
       "      <td>143.957664</td>\n",
       "      <td>4.475325</td>\n",
       "      <td>3.924675</td>\n",
       "      <td>1.847220</td>\n",
       "      <td>1.716369</td>\n",
       "    </tr>\n",
       "    <tr>\n",
       "      <td>2</td>\n",
       "      <td>2</td>\n",
       "      <td>0.495050</td>\n",
       "      <td>0.000000</td>\n",
       "      <td>0.463366</td>\n",
       "      <td>0.079208</td>\n",
       "      <td>1.000000</td>\n",
       "      <td>2.352475</td>\n",
       "      <td>0.215842</td>\n",
       "      <td>28.477228</td>\n",
       "      <td>135.457501</td>\n",
       "      <td>2.198020</td>\n",
       "      <td>2.809901</td>\n",
       "      <td>1.660461</td>\n",
       "      <td>1.477324</td>\n",
       "    </tr>\n",
       "    <tr>\n",
       "      <td>3</td>\n",
       "      <td>3</td>\n",
       "      <td>0.485737</td>\n",
       "      <td>1.000000</td>\n",
       "      <td>0.350238</td>\n",
       "      <td>0.240095</td>\n",
       "      <td>1.000000</td>\n",
       "      <td>1.948494</td>\n",
       "      <td>0.341521</td>\n",
       "      <td>28.167987</td>\n",
       "      <td>131.622204</td>\n",
       "      <td>1.856577</td>\n",
       "      <td>2.440571</td>\n",
       "      <td>1.247634</td>\n",
       "      <td>1.012983</td>\n",
       "    </tr>\n",
       "    <tr>\n",
       "      <td>4</td>\n",
       "      <td>4</td>\n",
       "      <td>0.560335</td>\n",
       "      <td>0.976105</td>\n",
       "      <td>0.356033</td>\n",
       "      <td>0.229391</td>\n",
       "      <td>0.998805</td>\n",
       "      <td>2.665472</td>\n",
       "      <td>0.473118</td>\n",
       "      <td>30.127838</td>\n",
       "      <td>161.724258</td>\n",
       "      <td>2.455197</td>\n",
       "      <td>4.896057</td>\n",
       "      <td>2.851531</td>\n",
       "      <td>2.849473</td>\n",
       "    </tr>\n",
       "  </tbody>\n",
       "</table>\n",
       "</div>"
      ],
      "text/plain": [
       "   cluster_km    gender  near_location   partner  promo_friends     phone  \\\n",
       "0           0  0.502473       0.959446  0.783383       0.574679  1.000000   \n",
       "1           1  0.522078       0.862338  0.470130       0.306494  0.000000   \n",
       "2           2  0.495050       0.000000  0.463366       0.079208  1.000000   \n",
       "3           3  0.485737       1.000000  0.350238       0.240095  1.000000   \n",
       "4           4  0.560335       0.976105  0.356033       0.229391  0.998805   \n",
       "\n",
       "   contract_period  group_visits        age  avg_additional_charges_total  \\\n",
       "0        10.884273      0.543027  29.980218                    160.706969   \n",
       "1         4.787013      0.425974  29.301299                    143.957664   \n",
       "2         2.352475      0.215842  28.477228                    135.457501   \n",
       "3         1.948494      0.341521  28.167987                    131.622204   \n",
       "4         2.665472      0.473118  30.127838                    161.724258   \n",
       "\n",
       "   month_to_end_contract  lifetime  avg_class_frequency_total  \\\n",
       "0               9.950544  4.738872                   1.983305   \n",
       "1               4.475325  3.924675                   1.847220   \n",
       "2               2.198020  2.809901                   1.660461   \n",
       "3               1.856577  2.440571                   1.247634   \n",
       "4               2.455197  4.896057                   2.851531   \n",
       "\n",
       "   avg_class_frequency_current_month  \n",
       "0                           1.976225  \n",
       "1                           1.716369  \n",
       "2                           1.477324  \n",
       "3                           1.012983  \n",
       "4                           2.849473  "
      ]
     },
     "execution_count": 24,
     "metadata": {},
     "output_type": "execute_result"
    }
   ],
   "source": [
    "# выводим статистику по средним значениям признаков по кластеру\n",
    "gym.drop('churn', axis = 1).groupby('cluster_km', as_index=False).mean()"
   ]
  },
  {
   "cell_type": "markdown",
   "metadata": {},
   "source": [
    "Можно заметить, что по средним значениям:\n",
    "- признаки пол и возраст примерно одинаково распределены по всем кластерам;  \n",
    " \n",
    " \n",
    "- по признаку период абонемента сильно отличаются от других 0 и 1 кластеры, очевидно туда попали клиенты, в основном купившие абонементы на продолжительный срок 12 и 6 месяцев;  \n",
    "  \n",
    "  \n",
    "- по суммарной выручке за дополнительные услуги выделяются 0 и 4 кластеры, средняя выручка в этих группах выше. Также клиенты этих групп имеют самый высокий lifetime (время с первого посещения фитнес-центра) и у них выше средние показатели посещаемости в неделю. Вероятно они довольно активны и давно являются клиентами фитнес-центра, а также охотно пользуются дополнительными услугами;  \n",
    "  \n",
    "  \n",
    "- клиенты в 2 и 3 кластере имеют наиболее низкие показатели: приобретают абонементы на более короткие периоды, неохотно посещают групповые программы или пользуются доп. услугами фитнес-центра, реже посещают фитнес-центр. Как правило это клиенты не являются сотрудниками компании-партнера, не пользовались акцией \"приведи-друга\" и являются чуть моложе клиентов остальных кластеров. В целом можно сказать, что они менее заинтересованы и нуждаются в дополнительной мотивации, повышении заинтересованности."
   ]
  },
  {
   "cell_type": "markdown",
   "metadata": {},
   "source": [
    "- **Построим распределения признаков для кластеров.**"
   ]
  },
  {
   "cell_type": "code",
   "execution_count": 25,
   "metadata": {
    "scrolled": true
   },
   "outputs": [
    {
     "data": {
      "image/png": "[encoded data removed]",
      "text/plain": [
       "<Figure size 1080x1656 with 6 Axes>"
      ]
     },
     "metadata": {},
     "output_type": "display_data"
    },
    {
     "data": {
      "image/png": "[encoded data removed]",
      "text/plain": [
       "<Figure size 1080x2160 with 7 Axes>"
      ]
     },
     "metadata": {},
     "output_type": "display_data"
    }
   ],
   "source": [
    "# игнорирование предуреждения о distplot\n",
    "warnings.filterwarnings(\"ignore\", category=FutureWarning)\n",
    "\n",
    "sns.set(style=\"whitegrid\")\n",
    "\n",
    "# задание расположения графиков\n",
    "fig, axs = plt.subplots(3, 2, figsize=(15, 23))\n",
    "axs = axs.ravel()\n",
    "\n",
    "# цикл для построения гистограмм (удаляем признаки, для которых используется другой вид графика)\n",
    "j = 0\n",
    "for feature in gym.drop(\n",
    "    ['churn',\n",
    "     'cluster_km', \n",
    "     'gender',\n",
    "     'near_location',\n",
    "     'partner',\n",
    "     'promo_friends',\n",
    "     'phone',\n",
    "     'contract_period',\n",
    "     'group_visits'],     \n",
    "     axis = 1).columns:\n",
    "    \n",
    "    for cluster in gym.cluster_km.unique():\n",
    "        sns.distplot(gym[gym['cluster_km']== cluster][feature], \n",
    "                         label='{} = {}'.format(feature, str(cluster)), bins = 20, kde = False, ax=axs[j])\n",
    "    \n",
    "    axs[j].set(title='Распределение признака '+ feature)\n",
    "    axs[j].set(ylabel='Количество')\n",
    "    axs[j].legend()\n",
    "    fig.show()\n",
    "    \n",
    "    j += 1\n",
    "    \n",
    "# задание расположения графиков\n",
    "fig, axs = plt.subplots(4, 2, figsize=(15, 30))\n",
    "axs = axs.ravel()\n",
    "    \n",
    "# цикл для построения столбчатых диаграмм (убираем столбцы, для котрых использован другой вид графика)\n",
    "i = 0    \n",
    "for feature in gym.drop(\n",
    "    ['churn',\n",
    "     'cluster_km',\n",
    "     'age', \n",
    "     'avg_additional_charges_total',\n",
    "     'month_to_end_contract',\n",
    "     'lifetime',\n",
    "     'avg_class_frequency_total',\n",
    "     'avg_class_frequency_current_month'],\n",
    "    axis = 1).columns:\n",
    "        \n",
    "    # группировка данных\n",
    "    gym_group = gym.groupby(\n",
    "        [feature, 'cluster_km'], as_index=False\n",
    "    )['age'].count().rename(\n",
    "        columns={'age': 'Количество'}\n",
    "                                           )\n",
    "    # пострение графика\n",
    "    sns.barplot(x=feature, y=\"Количество\", hue='cluster_km', data=gym_group, ci=None, ax=axs[i])\n",
    "    axs[i].set(title='Распределение признака '+feature)\n",
    "    fig.show()\n",
    "        \n",
    "    i+=1\n",
    "    \n",
    "# удаление лишнего места под график\n",
    "axs[7].remove()"
   ]
  },
  {
   "cell_type": "markdown",
   "metadata": {},
   "source": [
    "По графикам видно, что:\n",
    "- во 3 кластере больше всего клиентов имеющий самый низкий lifetime (0 месяцев);  \n",
    "  \n",
    "  \n",
    "- клиенты 4 кластера чаще других посещают тренажерный зал, а вот клиенты 3 кластера - наоборот реже, среди них больше тех, кто вообще в текущем месяце не посещал занятия;  \n",
    "  \n",
    "  \n",
    "- к клиентам, не проживающим и не работающим рядом с фитнес-центром модель в основном отнесла клиентов 2 кластера;  \n",
    "  \n",
    "  \n",
    "- все клиенты, кроме клиентов 1-го кластера предоставили свой контактный телефон. Клиенты этого кластера занимают среднюю позицию, их нельзя назвать нелояльными, поэтому можно сказать, что факт предоставления или не предоставления телефона здесь, не играет особой роли."
   ]
  },
  {
   "cell_type": "markdown",
   "metadata": {},
   "source": [
    "- **Для каждого полученного кластера посчитаем долю оттока. Выясним какие кластеры склонны к оттоку, а какие — надёжны.**"
   ]
  },
  {
   "cell_type": "code",
   "execution_count": 26,
   "metadata": {},
   "outputs": [
    {
     "data": {
      "text/html": [
       "<div>\n",
       "<style scoped>\n",
       "    .dataframe tbody tr th:only-of-type {\n",
       "        vertical-align: middle;\n",
       "    }\n",
       "\n",
       "    .dataframe tbody tr th {\n",
       "        vertical-align: top;\n",
       "    }\n",
       "\n",
       "    .dataframe thead th {\n",
       "        text-align: right;\n",
       "    }\n",
       "</style>\n",
       "<table border=\"1\" class=\"dataframe\">\n",
       "  <thead>\n",
       "    <tr style=\"text-align: right;\">\n",
       "      <th></th>\n",
       "      <th>Кластер</th>\n",
       "      <th>Доля оттока (%)</th>\n",
       "    </tr>\n",
       "  </thead>\n",
       "  <tbody>\n",
       "    <tr>\n",
       "      <td>0</td>\n",
       "      <td>0</td>\n",
       "      <td>2.8</td>\n",
       "    </tr>\n",
       "    <tr>\n",
       "      <td>1</td>\n",
       "      <td>1</td>\n",
       "      <td>26.8</td>\n",
       "    </tr>\n",
       "    <tr>\n",
       "      <td>2</td>\n",
       "      <td>2</td>\n",
       "      <td>44.4</td>\n",
       "    </tr>\n",
       "    <tr>\n",
       "      <td>3</td>\n",
       "      <td>3</td>\n",
       "      <td>51.4</td>\n",
       "    </tr>\n",
       "    <tr>\n",
       "      <td>4</td>\n",
       "      <td>4</td>\n",
       "      <td>6.8</td>\n",
       "    </tr>\n",
       "  </tbody>\n",
       "</table>\n",
       "</div>"
      ],
      "text/plain": [
       "   Кластер  Доля оттока (%)\n",
       "0        0              2.8\n",
       "1        1             26.8\n",
       "2        2             44.4\n",
       "3        3             51.4\n",
       "4        4              6.8"
      ]
     },
     "execution_count": 26,
     "metadata": {},
     "output_type": "execute_result"
    }
   ],
   "source": [
    "(\n",
    "    (gym.groupby('cluster_km')['churn'].sum() / gym.groupby('cluster_km')['churn'].count() * 100)\n",
    "    .round(1)\n",
    "    .to_frame()\n",
    "    .reset_index()\n",
    "    .rename(columns={'cluster_km': 'Кластер', 'churn': 'Доля оттока (%)'})\n",
    ")"
   ]
  },
  {
   "cell_type": "markdown",
   "metadata": {},
   "source": [
    "Как и ожидалось **клиенты в 2 и 3 кластерах наиболее склонны к оттоку**, клиенты в 1 кластере занимают среднюю позицию, а **клиенты в 0 и 4 кластерах - самые надежные**."
   ]
  },
  {
   "cell_type": "markdown",
   "metadata": {},
   "source": [
    "### Вывод"
   ]
  },
  {
   "cell_type": "markdown",
   "metadata": {},
   "source": [
    "Мы разделили пользователей на 5 групп и кластеризация помогла нам выделить 2 пары наиболее ярких и схожих групп. Это позволило охарактеризовать **типичные портреты надежных клиентов и склонных к оттоку:**  \n",
    "  \n",
    "  \n",
    "1. **Надежные клиенты** склонны покупать абонементы на более продолжительный срок 12 и 6 месяцев, они более охотно пользуются дополнительными услугами фитнес-центра и приносят больше выручки, у них выше средние показатели посещаемости в неделю. Большинство из них, уже не первый месяц являются клиентами фитнес-центра. Как правило они работают или проживают в районе фитнес-центра и часто являются сотрудниками компании-партнера клуба. Такие клиенты уходят лишь в 3-7% случаев.  \n",
    "  \n",
    "  \n",
    "2. **Клиенты, склонные к оттоку** часто приобретают абонементы на более короткие периоды, в основном на 1 месяц, реже посещают групповые программы и меньше пользуются дополнительными услугами фитнес-центра. Они реже посещают фитнес-центр, в месяце перед оттоком они часто вообще перестают посещать зал. Как правило это клиенты не являющиеся сотрудниками компании-партнера, и они не пользовались акцией \"приведи-друга\". Среди таких клиентов часто попадаются те, кто не проживает и не работает рядом с фитнес-центром. Этот сегмент клиентов часто моложе других примерно 23-34 года. Часто они уходят в течение 1-2 месяцев после первого посещения. Доля оттока таких клиентов высока - 44-51%."
   ]
  },
  {
   "cell_type": "markdown",
   "metadata": {},
   "source": [
    "## Выводы и базовые рекомендации по работе с клиентами"
   ]
  },
  {
   "cell_type": "markdown",
   "metadata": {},
   "source": [
    "**Общие выводы:**  \n",
    "  \n",
    "1. Мы провели исследовательский анализ данных и выяснили, что **на факт оттока сильнее оказывают влияние 4 признака: время с первого посещения (в месяцах), возраст, среднее количество посещений в неделю за предыдущий месяц и срок, на который приобретен абонемент**. Чем ниже эти показатели, тем вероятнее факт оттока клиента. Менее всего оказывают влияние факты предоставления или не предоставления телефона или пол.   \n",
    "  \n",
    "  \n",
    "2. Мы обучили две модели, которые прогнозируют отток клиентов: на основе алгоритмов логистической регресии и случайного леса. Сравнив метрики этих моделей на тестовых выборках, мы пришли к выводу, что **модель на основе алгоритма логистической регрессии показывает себя лучше**. В частности, метрики точности и полноты прогноза немного выше - на 1-2%.  \n",
    "  \n",
    "  \n",
    "3. Для того, чтобы сформировать **типичные портреты пользователей**, мы провели кластеризацию и выделили 4 группы пользователей (с 0 по 3). \n",
    "  \n",
    "В целом **надежных клиентов можно охарактеризовать, как**:\n",
    "- склонных покупать абонементы на продолжительный срок (12-6 месяцев);\n",
    "- охотно пользующихся дополнительными услугами фитнес-центра (средняя выручка 162 усл. ед.);\n",
    "- посещающих фитнес-центр в среднем 2 - 3 раза в неделю;\n",
    "- зачастую являющихся сотрудниками компаний-партнеров клуба и проживающих или работающих рядом с фитнес-центром;\n",
    "-  и как правило они уже не первый месяц являются клиентами фитнес-центра.   \n",
    "  \n",
    "  \n",
    "**Клиенты, склонные к оттоку часто уходят в течение 1-2 месяцев после первого посещения. Их можно охарактеризовать, как**:\n",
    "- приобретающих абонементы на более короткие периоды, в основном на 1 месяц;\n",
    "- посещающих занятия в среднем 1-2 раза в неделю, а в месяце перед оттоком и зачастую вовсе перестающих посящать фитнес-центр;\n",
    "- эти клиенты реже интересуются групповыми программами и меньше пользуются дополнительными услугами фитнес-центра (средняя выручка 130-135 усл. ед.);\n",
    "- среди них часто попадаются те, кто не проживает и не работает рядом с фитнес-центром и соответственно не являются сотрудниками компании-партнера клуба;\n",
    "- и они редко пользуются акцией \"приведи-друга\";\n",
    "- этот сегмент клиентов часто моложе других примерно 23-34 года. "
   ]
  },
  {
   "cell_type": "markdown",
   "metadata": {},
   "source": [
    "**Рекомендации по работе с клиентами** \n",
    "  \n",
    "  \n",
    "Чтобы снизить отток клиентов рекомендуется принять следующие меры:\n",
    "1. На основе обученной модели ежемесячно прогнозировать отток конкретных клиентов.\n",
    "2. К клиентам, попавшим в группу риска, стоит применить индивидуальный подход. Например: посредством email, sms или мессенджеров напомнить клиенту о заканчивающемся абонементе и предложить продление со скидкой на абонемент или дополнительные услуги фитнес-центра. Таким образом можно мотивировать клиента и дополнительно продать ему услуги фитнес-центра. \n",
    "3. Так как у нас есть категории клиентов, которые перестают посещать фитнес-центр в первый или во второй месяц после знакомства с фитнес-центром, то к клиентам, впервые посещающим фитнес-центр нужен новый подход. Необходимо повысить их заинтересованность в данном фитнес-центре. Возможной стратегией будет так называемая интеграция и адаптация новичков. Кроме вводной консультации можно предложить начать с групповых тренировок или провести бесплатную персональную тренировку с тренером, который расскажет все про каждый тренажер, составит план тренировки.\n",
    "4. Разделить подход к клиентам, посещающим групповые тренировки и тренажерный зал. Заранее уведомлять клиентов о планирующихся в следующем месяце/квартале марафонах (актуально для любителей групповых программ) или семинарах с приглашенными экспертами по подбору спортивного питания и наращиванию мышечной массы (актуально для любителей тренажерного зала). И сделать посещение таких мероприятий бесплатным для членов клуба (то есть имеющих действующий абонемент). "
   ]
  }
 ],
 "metadata": {
  "ExecuteTimeLog": [
   {
    "duration": 1532,
    "start_time": "2022-02-24T10:18:44.077Z"
   },
   {
    "duration": 21,
    "start_time": "2022-02-24T10:22:49.272Z"
   },
   {
    "duration": 33,
    "start_time": "2022-02-24T10:22:59.670Z"
   },
   {
    "duration": 30,
    "start_time": "2022-02-24T10:49:30.759Z"
   },
   {
    "duration": 30,
    "start_time": "2022-02-24T10:49:40.919Z"
   },
   {
    "duration": 33,
    "start_time": "2022-02-24T10:49:46.693Z"
   },
   {
    "duration": 6,
    "start_time": "2022-02-24T10:49:53.136Z"
   },
   {
    "duration": 5,
    "start_time": "2022-02-24T10:53:03.778Z"
   },
   {
    "duration": 650,
    "start_time": "2022-02-24T10:53:56.465Z"
   },
   {
    "duration": 5,
    "start_time": "2022-02-24T10:54:11.265Z"
   },
   {
    "duration": 25,
    "start_time": "2022-02-24T10:54:13.745Z"
   },
   {
    "duration": 5,
    "start_time": "2022-02-24T10:57:23.964Z"
   },
   {
    "duration": 27,
    "start_time": "2022-02-24T10:57:26.499Z"
   },
   {
    "duration": 7,
    "start_time": "2022-02-24T11:13:26.971Z"
   },
   {
    "duration": 5,
    "start_time": "2022-02-24T11:14:01.619Z"
   },
   {
    "duration": 3291,
    "start_time": "2022-02-24T11:14:06.545Z"
   },
   {
    "duration": 8,
    "start_time": "2022-02-24T11:14:20.146Z"
   },
   {
    "duration": 1487,
    "start_time": "2022-02-24T11:14:42.798Z"
   },
   {
    "duration": 29,
    "start_time": "2022-02-24T11:14:44.289Z"
   },
   {
    "duration": 36,
    "start_time": "2022-02-24T11:14:44.321Z"
   },
   {
    "duration": 6,
    "start_time": "2022-02-24T11:14:44.360Z"
   },
   {
    "duration": 27,
    "start_time": "2022-02-24T11:14:44.368Z"
   },
   {
    "duration": 31,
    "start_time": "2022-02-24T11:14:44.398Z"
   },
   {
    "duration": 62,
    "start_time": "2022-02-24T11:14:44.432Z"
   },
   {
    "duration": 30,
    "start_time": "2022-02-24T11:14:44.498Z"
   },
   {
    "duration": 31,
    "start_time": "2022-02-24T11:15:13.545Z"
   },
   {
    "duration": 5,
    "start_time": "2022-02-24T11:15:24.962Z"
   },
   {
    "duration": 14,
    "start_time": "2022-02-24T11:15:37.173Z"
   },
   {
    "duration": 72,
    "start_time": "2022-02-24T11:29:16.085Z"
   },
   {
    "duration": 405,
    "start_time": "2022-02-24T11:41:16.680Z"
   },
   {
    "duration": 14,
    "start_time": "2022-02-24T11:41:20.583Z"
   },
   {
    "duration": 75,
    "start_time": "2022-02-24T11:41:21.463Z"
   },
   {
    "duration": 72,
    "start_time": "2022-02-24T11:41:24.383Z"
   },
   {
    "duration": 25,
    "start_time": "2022-02-24T11:45:29.538Z"
   },
   {
    "duration": 77,
    "start_time": "2022-02-24T14:18:50.458Z"
   },
   {
    "duration": 7,
    "start_time": "2022-02-24T15:10:40.622Z"
   },
   {
    "duration": 22,
    "start_time": "2022-02-24T15:50:11.792Z"
   },
   {
    "duration": 12,
    "start_time": "2022-02-24T15:50:27.032Z"
   },
   {
    "duration": 316,
    "start_time": "2022-02-24T15:50:52.542Z"
   },
   {
    "duration": 337,
    "start_time": "2022-02-24T15:51:18.551Z"
   },
   {
    "duration": 10,
    "start_time": "2022-02-24T15:55:30.380Z"
   },
   {
    "duration": 307,
    "start_time": "2022-02-24T15:55:48.962Z"
   },
   {
    "duration": 32,
    "start_time": "2022-02-24T15:58:37.422Z"
   },
   {
    "duration": 17,
    "start_time": "2022-02-24T15:59:33.890Z"
   },
   {
    "duration": 269,
    "start_time": "2022-02-24T16:01:46.296Z"
   },
   {
    "duration": 258,
    "start_time": "2022-02-24T16:03:29.313Z"
   },
   {
    "duration": 272,
    "start_time": "2022-02-24T16:04:36.163Z"
   },
   {
    "duration": 271,
    "start_time": "2022-02-24T16:05:01.539Z"
   },
   {
    "duration": 6,
    "start_time": "2022-02-24T16:09:47.952Z"
   },
   {
    "duration": 6,
    "start_time": "2022-02-24T16:09:55.398Z"
   },
   {
    "duration": 79,
    "start_time": "2022-02-24T16:10:15.024Z"
   },
   {
    "duration": 1662,
    "start_time": "2022-02-24T16:10:21.039Z"
   },
   {
    "duration": 6,
    "start_time": "2022-02-24T16:10:31.600Z"
   },
   {
    "duration": 1540,
    "start_time": "2022-02-24T16:10:34.783Z"
   },
   {
    "duration": 6,
    "start_time": "2022-02-24T16:15:14.012Z"
   },
   {
    "duration": 464,
    "start_time": "2022-02-24T16:15:15.611Z"
   },
   {
    "duration": 5,
    "start_time": "2022-02-24T16:16:33.477Z"
   },
   {
    "duration": 72,
    "start_time": "2022-02-24T16:16:41.132Z"
   },
   {
    "duration": 91,
    "start_time": "2022-02-24T16:16:50.777Z"
   },
   {
    "duration": 6,
    "start_time": "2022-02-24T16:16:59.156Z"
   },
   {
    "duration": 7,
    "start_time": "2022-02-24T16:17:50.631Z"
   },
   {
    "duration": 1683,
    "start_time": "2022-02-24T16:17:53.192Z"
   },
   {
    "duration": 83,
    "start_time": "2022-02-24T16:28:36.160Z"
   },
   {
    "duration": 1915,
    "start_time": "2022-02-24T16:28:37.727Z"
   },
   {
    "duration": 9,
    "start_time": "2022-02-24T16:29:41.072Z"
   },
   {
    "duration": 816,
    "start_time": "2022-02-24T16:29:42.834Z"
   },
   {
    "duration": 6167,
    "start_time": "2022-02-24T16:31:34.410Z"
   },
   {
    "duration": 4033,
    "start_time": "2022-02-24T16:31:48.841Z"
   },
   {
    "duration": 1633,
    "start_time": "2022-02-24T16:31:52.877Z"
   },
   {
    "duration": 81,
    "start_time": "2022-02-24T16:31:54.513Z"
   },
   {
    "duration": 36,
    "start_time": "2022-02-24T16:31:54.598Z"
   },
   {
    "duration": 7,
    "start_time": "2022-02-24T16:31:54.636Z"
   },
   {
    "duration": 22,
    "start_time": "2022-02-24T16:31:54.645Z"
   },
   {
    "duration": 53,
    "start_time": "2022-02-24T16:31:54.670Z"
   },
   {
    "duration": 5,
    "start_time": "2022-02-24T16:31:54.727Z"
   },
   {
    "duration": 19,
    "start_time": "2022-02-24T16:31:54.735Z"
   },
   {
    "duration": 103,
    "start_time": "2022-02-24T16:31:54.757Z"
   },
   {
    "duration": 41,
    "start_time": "2022-02-24T16:31:54.862Z"
   },
   {
    "duration": 19,
    "start_time": "2022-02-24T16:31:54.905Z"
   },
   {
    "duration": 2754,
    "start_time": "2022-02-24T16:31:54.926Z"
   },
   {
    "duration": 75,
    "start_time": "2022-02-24T16:33:48.648Z"
   },
   {
    "duration": 5297,
    "start_time": "2022-02-24T16:33:50.807Z"
   },
   {
    "duration": 9,
    "start_time": "2022-02-24T16:35:13.817Z"
   },
   {
    "duration": 4877,
    "start_time": "2022-02-24T16:35:18.153Z"
   },
   {
    "duration": 9,
    "start_time": "2022-02-24T16:37:47.275Z"
   },
   {
    "duration": 4860,
    "start_time": "2022-02-24T16:37:49.810Z"
   },
   {
    "duration": 9,
    "start_time": "2022-02-24T16:40:58.941Z"
   },
   {
    "duration": 4894,
    "start_time": "2022-02-24T16:41:01.416Z"
   },
   {
    "duration": 9,
    "start_time": "2022-02-24T16:48:20.685Z"
   },
   {
    "duration": 5486,
    "start_time": "2022-02-24T16:48:23.397Z"
   },
   {
    "duration": 9,
    "start_time": "2022-02-24T16:48:51.814Z"
   },
   {
    "duration": 5517,
    "start_time": "2022-02-24T16:48:54.261Z"
   },
   {
    "duration": 9,
    "start_time": "2022-02-24T16:49:31.646Z"
   },
   {
    "duration": 2946,
    "start_time": "2022-02-24T16:49:34.325Z"
   },
   {
    "duration": 9,
    "start_time": "2022-02-24T16:49:53.662Z"
   },
   {
    "duration": 5446,
    "start_time": "2022-02-24T16:49:55.978Z"
   },
   {
    "duration": 11,
    "start_time": "2022-02-24T16:51:51.352Z"
   },
   {
    "duration": 5590,
    "start_time": "2022-02-24T16:51:54.297Z"
   },
   {
    "duration": 14,
    "start_time": "2022-02-24T16:53:03.026Z"
   },
   {
    "duration": 5538,
    "start_time": "2022-02-24T16:53:06.937Z"
   },
   {
    "duration": 9,
    "start_time": "2022-02-24T16:54:07.818Z"
   },
   {
    "duration": 5312,
    "start_time": "2022-02-24T16:54:10.585Z"
   },
   {
    "duration": 12,
    "start_time": "2022-02-24T16:57:59.910Z"
   },
   {
    "duration": 3070,
    "start_time": "2022-02-24T16:58:01.702Z"
   },
   {
    "duration": 10,
    "start_time": "2022-02-24T17:02:15.859Z"
   },
   {
    "duration": 3137,
    "start_time": "2022-02-24T17:02:18.408Z"
   },
   {
    "duration": 14,
    "start_time": "2022-02-24T17:02:45.616Z"
   },
   {
    "duration": 2572,
    "start_time": "2022-02-24T17:02:47.426Z"
   },
   {
    "duration": 11,
    "start_time": "2022-02-24T17:04:22.311Z"
   },
   {
    "duration": 2628,
    "start_time": "2022-02-24T17:04:23.826Z"
   },
   {
    "duration": 615,
    "start_time": "2022-02-24T17:05:07.348Z"
   },
   {
    "duration": 10,
    "start_time": "2022-02-24T17:05:49.900Z"
   },
   {
    "duration": 2737,
    "start_time": "2022-02-24T17:05:52.924Z"
   },
   {
    "duration": 11,
    "start_time": "2022-02-24T17:06:12.892Z"
   },
   {
    "duration": 5883,
    "start_time": "2022-02-24T17:06:14.692Z"
   },
   {
    "duration": 11,
    "start_time": "2022-02-24T17:07:30.798Z"
   },
   {
    "duration": 5774,
    "start_time": "2022-02-24T17:07:37.829Z"
   },
   {
    "duration": 10,
    "start_time": "2022-02-24T17:08:16.952Z"
   },
   {
    "duration": 7568,
    "start_time": "2022-02-24T17:08:24.967Z"
   },
   {
    "duration": 12,
    "start_time": "2022-02-24T17:10:39.033Z"
   },
   {
    "duration": 8906,
    "start_time": "2022-02-24T17:10:41.761Z"
   },
   {
    "duration": 11,
    "start_time": "2022-02-24T17:11:00.387Z"
   },
   {
    "duration": 18,
    "start_time": "2022-02-24T17:12:07.402Z"
   },
   {
    "duration": 5914,
    "start_time": "2022-02-24T17:12:10.787Z"
   },
   {
    "duration": 13,
    "start_time": "2022-02-24T17:12:40.930Z"
   },
   {
    "duration": 6772,
    "start_time": "2022-02-24T17:12:43.274Z"
   },
   {
    "duration": 11,
    "start_time": "2022-02-24T17:24:20.661Z"
   },
   {
    "duration": 4437,
    "start_time": "2022-02-24T17:24:27.389Z"
   },
   {
    "duration": 11,
    "start_time": "2022-02-24T17:27:17.984Z"
   },
   {
    "duration": 4433,
    "start_time": "2022-02-24T17:27:19.526Z"
   },
   {
    "duration": 12,
    "start_time": "2022-02-24T17:37:14.553Z"
   },
   {
    "duration": 3017,
    "start_time": "2022-02-24T17:37:21.129Z"
   },
   {
    "duration": 13,
    "start_time": "2022-02-24T17:39:12.034Z"
   },
   {
    "duration": 12,
    "start_time": "2022-02-24T17:39:19.930Z"
   },
   {
    "duration": 2860,
    "start_time": "2022-02-24T17:39:21.497Z"
   },
   {
    "duration": 12,
    "start_time": "2022-02-24T17:39:31.683Z"
   },
   {
    "duration": 6352,
    "start_time": "2022-02-24T17:39:33.417Z"
   },
   {
    "duration": 11,
    "start_time": "2022-02-24T17:40:10.916Z"
   },
   {
    "duration": 5876,
    "start_time": "2022-02-24T17:40:12.634Z"
   },
   {
    "duration": 12,
    "start_time": "2022-02-24T17:40:26.779Z"
   },
   {
    "duration": 5906,
    "start_time": "2022-02-24T17:40:28.905Z"
   },
   {
    "duration": 13,
    "start_time": "2022-02-24T17:40:43.122Z"
   },
   {
    "duration": 5942,
    "start_time": "2022-02-24T17:40:44.819Z"
   },
   {
    "duration": 13,
    "start_time": "2022-02-24T17:41:03.499Z"
   },
   {
    "duration": 6260,
    "start_time": "2022-02-24T17:41:07.714Z"
   },
   {
    "duration": 13,
    "start_time": "2022-02-24T17:49:26.820Z"
   },
   {
    "duration": 2676,
    "start_time": "2022-02-24T17:49:35.107Z"
   },
   {
    "duration": 12,
    "start_time": "2022-02-24T17:51:40.061Z"
   },
   {
    "duration": 7067,
    "start_time": "2022-02-24T17:51:44.022Z"
   },
   {
    "duration": 1933,
    "start_time": "2022-02-24T18:04:02.671Z"
   },
   {
    "duration": 2158,
    "start_time": "2022-02-24T18:04:27.407Z"
   },
   {
    "duration": 2238,
    "start_time": "2022-02-24T18:06:12.417Z"
   },
   {
    "duration": 2134,
    "start_time": "2022-02-24T18:06:32.177Z"
   },
   {
    "duration": 2189,
    "start_time": "2022-02-24T18:06:50.217Z"
   },
   {
    "duration": 2299,
    "start_time": "2022-02-24T18:07:10.465Z"
   },
   {
    "duration": 2055,
    "start_time": "2022-02-24T18:08:28.547Z"
   },
   {
    "duration": 2085,
    "start_time": "2022-02-24T18:08:34.596Z"
   },
   {
    "duration": 2090,
    "start_time": "2022-02-24T18:08:42.133Z"
   },
   {
    "duration": 2247,
    "start_time": "2022-02-24T18:10:36.964Z"
   },
   {
    "duration": 2066,
    "start_time": "2022-02-24T18:10:53.461Z"
   },
   {
    "duration": 4617,
    "start_time": "2022-02-25T11:08:39.429Z"
   },
   {
    "duration": 1572,
    "start_time": "2022-02-25T11:08:44.049Z"
   },
   {
    "duration": 61,
    "start_time": "2022-02-25T11:08:45.624Z"
   },
   {
    "duration": 34,
    "start_time": "2022-02-25T11:08:45.688Z"
   },
   {
    "duration": 6,
    "start_time": "2022-02-25T11:08:45.725Z"
   },
   {
    "duration": 9,
    "start_time": "2022-02-25T11:08:45.733Z"
   },
   {
    "duration": 44,
    "start_time": "2022-02-25T11:08:45.745Z"
   },
   {
    "duration": 5,
    "start_time": "2022-02-25T11:08:45.793Z"
   },
   {
    "duration": 17,
    "start_time": "2022-02-25T11:08:45.800Z"
   },
   {
    "duration": 108,
    "start_time": "2022-02-25T11:08:45.820Z"
   },
   {
    "duration": 45,
    "start_time": "2022-02-25T11:08:45.931Z"
   },
   {
    "duration": 13,
    "start_time": "2022-02-25T11:08:45.978Z"
   },
   {
    "duration": 7533,
    "start_time": "2022-02-25T11:08:45.993Z"
   },
   {
    "duration": 2101,
    "start_time": "2022-02-25T11:08:53.528Z"
   },
   {
    "duration": 264,
    "start_time": "2022-02-25T11:11:43.012Z"
   },
   {
    "duration": 6,
    "start_time": "2022-02-25T11:31:15.216Z"
   },
   {
    "duration": 8,
    "start_time": "2022-02-25T11:31:16.293Z"
   },
   {
    "duration": 550,
    "start_time": "2022-02-25T11:37:34.435Z"
   },
   {
    "duration": 5,
    "start_time": "2022-02-25T11:38:37.412Z"
   },
   {
    "duration": 145,
    "start_time": "2022-02-25T11:38:49.916Z"
   },
   {
    "duration": 88,
    "start_time": "2022-02-25T11:39:38.077Z"
   },
   {
    "duration": 222,
    "start_time": "2022-02-25T11:39:52.148Z"
   },
   {
    "duration": 76,
    "start_time": "2022-02-25T11:42:51.295Z"
   },
   {
    "duration": 6,
    "start_time": "2022-02-25T11:43:50.296Z"
   },
   {
    "duration": 19,
    "start_time": "2022-02-25T11:47:50.731Z"
   },
   {
    "duration": 31,
    "start_time": "2022-02-25T11:50:18.191Z"
   },
   {
    "duration": 18,
    "start_time": "2022-02-25T11:50:53.175Z"
   },
   {
    "duration": 5,
    "start_time": "2022-02-25T11:51:37.607Z"
   },
   {
    "duration": 7,
    "start_time": "2022-02-25T11:51:49.159Z"
   },
   {
    "duration": 5,
    "start_time": "2022-02-25T11:52:56.857Z"
   },
   {
    "duration": 263,
    "start_time": "2022-02-25T11:56:32.655Z"
   },
   {
    "duration": 318,
    "start_time": "2022-02-25T11:58:20.893Z"
   },
   {
    "duration": 254,
    "start_time": "2022-02-25T11:58:38.869Z"
   },
   {
    "duration": 741,
    "start_time": "2022-02-25T11:59:55.295Z"
   },
   {
    "duration": 237,
    "start_time": "2022-02-25T12:00:49.183Z"
   },
   {
    "duration": 709,
    "start_time": "2022-02-25T12:02:50.578Z"
   },
   {
    "duration": 7,
    "start_time": "2022-02-25T12:06:13.051Z"
   },
   {
    "duration": 771,
    "start_time": "2022-02-25T12:07:44.405Z"
   },
   {
    "duration": 22,
    "start_time": "2022-02-25T12:09:08.533Z"
   },
   {
    "duration": 31,
    "start_time": "2022-02-25T14:18:03.584Z"
   },
   {
    "duration": 28,
    "start_time": "2022-02-25T14:19:33.252Z"
   },
   {
    "duration": 26,
    "start_time": "2022-02-25T14:20:48.760Z"
   },
   {
    "duration": 28,
    "start_time": "2022-02-25T14:21:06.448Z"
   },
   {
    "duration": 5,
    "start_time": "2022-02-25T14:21:47.729Z"
   },
   {
    "duration": 27,
    "start_time": "2022-02-25T14:21:51.601Z"
   },
   {
    "duration": 6,
    "start_time": "2022-02-25T14:22:05.289Z"
   },
   {
    "duration": 27,
    "start_time": "2022-02-25T14:22:34.506Z"
   },
   {
    "duration": 102,
    "start_time": "2022-02-25T14:45:22.230Z"
   },
   {
    "duration": 9,
    "start_time": "2022-02-25T14:49:22.285Z"
   },
   {
    "duration": 6,
    "start_time": "2022-02-25T14:53:32.311Z"
   },
   {
    "duration": 10,
    "start_time": "2022-02-25T14:55:18.350Z"
   },
   {
    "duration": 148047,
    "start_time": "2022-02-25T14:55:57.984Z"
   },
   {
    "duration": 150987,
    "start_time": "2022-02-25T15:09:24.620Z"
   },
   {
    "duration": 151779,
    "start_time": "2022-02-25T15:13:30.400Z"
   },
   {
    "duration": 322,
    "start_time": "2022-02-25T15:24:06.349Z"
   },
   {
    "duration": 5,
    "start_time": "2022-02-25T15:24:24.100Z"
   },
   {
    "duration": 773,
    "start_time": "2022-02-25T15:30:06.010Z"
   },
   {
    "duration": 365,
    "start_time": "2022-02-25T15:34:22.076Z"
   },
   {
    "duration": 767,
    "start_time": "2022-02-25T15:34:28.794Z"
   },
   {
    "duration": 34,
    "start_time": "2022-02-25T15:34:33.818Z"
   },
   {
    "duration": 8,
    "start_time": "2022-02-25T15:37:34.885Z"
   },
   {
    "duration": 152786,
    "start_time": "2022-02-25T15:37:38.388Z"
   },
   {
    "duration": 1681,
    "start_time": "2022-02-25T15:43:19.389Z"
   },
   {
    "duration": 18,
    "start_time": "2022-02-25T15:43:47.673Z"
   },
   {
    "duration": 288,
    "start_time": "2022-02-25T15:44:39.450Z"
   },
   {
    "duration": 322,
    "start_time": "2022-02-25T15:45:20.123Z"
   },
   {
    "duration": 18,
    "start_time": "2022-02-25T15:45:31.908Z"
   },
   {
    "duration": 22,
    "start_time": "2022-02-25T15:45:56.587Z"
   },
   {
    "duration": 29,
    "start_time": "2022-02-25T15:46:05.859Z"
   },
   {
    "duration": 28,
    "start_time": "2022-02-25T15:52:34.995Z"
   },
   {
    "duration": 336,
    "start_time": "2022-02-25T15:56:51.019Z"
   },
   {
    "duration": 276,
    "start_time": "2022-02-25T15:57:24.222Z"
   },
   {
    "duration": 3501,
    "start_time": "2022-02-25T16:03:52.392Z"
   },
   {
    "duration": 1557,
    "start_time": "2022-02-25T16:03:55.896Z"
   },
   {
    "duration": 59,
    "start_time": "2022-02-25T16:03:57.456Z"
   },
   {
    "duration": 32,
    "start_time": "2022-02-25T16:03:57.518Z"
   },
   {
    "duration": 10,
    "start_time": "2022-02-25T16:03:57.553Z"
   },
   {
    "duration": 7,
    "start_time": "2022-02-25T16:03:57.566Z"
   },
   {
    "duration": 32,
    "start_time": "2022-02-25T16:03:57.575Z"
   },
   {
    "duration": 5,
    "start_time": "2022-02-25T16:03:57.610Z"
   },
   {
    "duration": 42,
    "start_time": "2022-02-25T16:03:57.618Z"
   },
   {
    "duration": 76,
    "start_time": "2022-02-25T16:03:57.662Z"
   },
   {
    "duration": 41,
    "start_time": "2022-02-25T16:03:57.741Z"
   },
   {
    "duration": 18,
    "start_time": "2022-02-25T16:03:57.785Z"
   },
   {
    "duration": 13,
    "start_time": "2022-02-25T16:03:57.805Z"
   },
   {
    "duration": 6982,
    "start_time": "2022-02-25T16:03:57.820Z"
   },
   {
    "duration": 2171,
    "start_time": "2022-02-25T16:04:04.805Z"
   },
   {
    "duration": 8,
    "start_time": "2022-02-25T16:04:06.979Z"
   },
   {
    "duration": 15,
    "start_time": "2022-02-25T16:04:06.990Z"
   },
   {
    "duration": 730,
    "start_time": "2022-02-25T16:04:07.008Z"
   },
   {
    "duration": 6,
    "start_time": "2022-02-25T16:04:07.741Z"
   },
   {
    "duration": 31,
    "start_time": "2022-02-25T16:04:07.760Z"
   },
   {
    "duration": 10,
    "start_time": "2022-02-25T16:04:07.794Z"
   },
   {
    "duration": 148997,
    "start_time": "2022-02-25T16:04:07.807Z"
   },
   {
    "duration": 433,
    "start_time": "2022-02-25T16:06:36.808Z"
   },
   {
    "duration": -357,
    "start_time": "2022-02-25T16:06:37.601Z"
   },
   {
    "duration": -359,
    "start_time": "2022-02-25T16:06:37.604Z"
   },
   {
    "duration": -361,
    "start_time": "2022-02-25T16:06:37.608Z"
   },
   {
    "duration": 1808,
    "start_time": "2022-02-25T16:19:13.959Z"
   },
   {
    "duration": 29,
    "start_time": "2022-02-25T16:19:18.395Z"
   },
   {
    "duration": 8428,
    "start_time": "2022-02-25T16:19:23.909Z"
   },
   {
    "duration": 7,
    "start_time": "2022-02-25T16:26:10.502Z"
   },
   {
    "duration": 14659,
    "start_time": "2022-02-25T16:26:27.063Z"
   },
   {
    "duration": 7,
    "start_time": "2022-02-25T16:27:32.881Z"
   },
   {
    "duration": 16029,
    "start_time": "2022-02-25T16:27:35.559Z"
   },
   {
    "duration": 7,
    "start_time": "2022-02-25T16:28:04.241Z"
   },
   {
    "duration": 6,
    "start_time": "2022-02-25T16:28:20.964Z"
   },
   {
    "duration": 14616,
    "start_time": "2022-02-25T16:28:20.973Z"
   },
   {
    "duration": 7,
    "start_time": "2022-02-25T16:31:09.818Z"
   },
   {
    "duration": 13914,
    "start_time": "2022-02-25T16:31:11.650Z"
   },
   {
    "duration": 7,
    "start_time": "2022-02-25T16:32:03.860Z"
   },
   {
    "duration": 14049,
    "start_time": "2022-02-25T16:32:05.164Z"
   },
   {
    "duration": 7,
    "start_time": "2022-02-25T16:38:56.514Z"
   },
   {
    "duration": 13736,
    "start_time": "2022-02-25T16:38:58.139Z"
   },
   {
    "duration": 7,
    "start_time": "2022-02-25T16:41:40.286Z"
   },
   {
    "duration": 14044,
    "start_time": "2022-02-25T16:41:43.644Z"
   },
   {
    "duration": 7,
    "start_time": "2022-02-25T16:42:50.975Z"
   },
   {
    "duration": 13864,
    "start_time": "2022-02-25T16:42:52.589Z"
   },
   {
    "duration": 7,
    "start_time": "2022-02-25T16:43:39.855Z"
   },
   {
    "duration": 14082,
    "start_time": "2022-02-25T16:43:41.541Z"
   },
   {
    "duration": 6,
    "start_time": "2022-02-25T16:46:03.530Z"
   },
   {
    "duration": 13493,
    "start_time": "2022-02-25T16:46:06.868Z"
   },
   {
    "duration": 8,
    "start_time": "2022-02-25T16:47:49.508Z"
   },
   {
    "duration": 14484,
    "start_time": "2022-02-25T16:47:51.138Z"
   },
   {
    "duration": 8,
    "start_time": "2022-02-25T16:49:11.253Z"
   },
   {
    "duration": 14259,
    "start_time": "2022-02-25T16:49:13.034Z"
   },
   {
    "duration": 9,
    "start_time": "2022-02-25T16:50:36.909Z"
   },
   {
    "duration": 14006,
    "start_time": "2022-02-25T16:50:38.364Z"
   },
   {
    "duration": 6,
    "start_time": "2022-02-25T16:52:23.671Z"
   },
   {
    "duration": 14731,
    "start_time": "2022-02-25T16:52:25.061Z"
   },
   {
    "duration": 10,
    "start_time": "2022-02-25T16:52:59.771Z"
   },
   {
    "duration": 30932,
    "start_time": "2022-02-25T16:53:01.893Z"
   },
   {
    "duration": 7,
    "start_time": "2022-02-25T16:53:52.286Z"
   },
   {
    "duration": 13944,
    "start_time": "2022-02-25T16:53:55.695Z"
   },
   {
    "duration": 23587,
    "start_time": "2022-02-26T08:34:15.670Z"
   },
   {
    "duration": 1166,
    "start_time": "2022-02-26T08:34:39.260Z"
   },
   {
    "duration": 23,
    "start_time": "2022-02-26T08:34:40.429Z"
   },
   {
    "duration": 26,
    "start_time": "2022-02-26T08:34:40.454Z"
   },
   {
    "duration": 5,
    "start_time": "2022-02-26T08:34:40.481Z"
   },
   {
    "duration": 4,
    "start_time": "2022-02-26T08:34:40.488Z"
   },
   {
    "duration": 45,
    "start_time": "2022-02-26T08:34:40.494Z"
   },
   {
    "duration": 3,
    "start_time": "2022-02-26T08:34:40.542Z"
   },
   {
    "duration": 8,
    "start_time": "2022-02-26T08:34:40.548Z"
   },
   {
    "duration": 44,
    "start_time": "2022-02-26T08:34:40.558Z"
   },
   {
    "duration": 40,
    "start_time": "2022-02-26T08:34:40.604Z"
   },
   {
    "duration": 12,
    "start_time": "2022-02-26T08:34:40.645Z"
   },
   {
    "duration": 11,
    "start_time": "2022-02-26T08:34:40.659Z"
   },
   {
    "duration": 5701,
    "start_time": "2022-02-26T08:34:40.672Z"
   },
   {
    "duration": 1641,
    "start_time": "2022-02-26T08:34:46.375Z"
   },
   {
    "duration": 15,
    "start_time": "2022-02-26T08:34:48.018Z"
   },
   {
    "duration": 9,
    "start_time": "2022-02-26T08:34:48.035Z"
   },
   {
    "duration": 508,
    "start_time": "2022-02-26T08:34:48.045Z"
   },
   {
    "duration": 4,
    "start_time": "2022-02-26T08:34:48.554Z"
   },
   {
    "duration": 24,
    "start_time": "2022-02-26T08:34:48.560Z"
   },
   {
    "duration": 7,
    "start_time": "2022-02-26T08:34:48.586Z"
   },
   {
    "duration": 83849,
    "start_time": "2022-02-26T08:34:48.594Z"
   },
   {
    "duration": 1298,
    "start_time": "2022-02-26T08:36:12.446Z"
   },
   {
    "duration": 18,
    "start_time": "2022-02-26T08:36:13.834Z"
   },
   {
    "duration": 4,
    "start_time": "2022-02-26T08:36:13.853Z"
   },
   {
    "duration": 7874,
    "start_time": "2022-02-26T08:36:13.859Z"
   },
   {
    "duration": 323,
    "start_time": "2022-02-26T08:36:21.735Z"
   },
   {
    "duration": 4756,
    "start_time": "2022-02-26T08:36:37.283Z"
   },
   {
    "duration": 15390,
    "start_time": "2022-02-26T08:38:50.037Z"
   },
   {
    "duration": 5815,
    "start_time": "2022-02-26T08:39:06.693Z"
   },
   {
    "duration": 8896,
    "start_time": "2022-02-26T08:40:23.422Z"
   },
   {
    "duration": 7562,
    "start_time": "2022-02-26T08:43:01.341Z"
   },
   {
    "duration": 6506,
    "start_time": "2022-02-26T08:44:12.093Z"
   },
   {
    "duration": 3902,
    "start_time": "2022-02-26T08:44:37.892Z"
   },
   {
    "duration": 4334,
    "start_time": "2022-02-26T08:45:08.691Z"
   },
   {
    "duration": 7660,
    "start_time": "2022-02-26T08:45:44.913Z"
   },
   {
    "duration": 3440,
    "start_time": "2022-02-26T08:49:15.095Z"
   },
   {
    "duration": 5765,
    "start_time": "2022-02-26T08:49:31.419Z"
   },
   {
    "duration": 3376,
    "start_time": "2022-02-26T08:50:00.137Z"
   },
   {
    "duration": 2164,
    "start_time": "2022-02-26T08:51:49.506Z"
   },
   {
    "duration": 2083,
    "start_time": "2022-02-26T08:52:10.522Z"
   },
   {
    "duration": 2038,
    "start_time": "2022-02-26T08:53:37.763Z"
   },
   {
    "duration": 2119,
    "start_time": "2022-02-26T08:53:45.036Z"
   },
   {
    "duration": 3388,
    "start_time": "2022-02-26T08:55:17.230Z"
   },
   {
    "duration": 105084,
    "start_time": "2022-02-26T10:01:09.876Z"
   },
   {
    "duration": 1146,
    "start_time": "2022-02-26T10:02:54.962Z"
   },
   {
    "duration": 23,
    "start_time": "2022-02-26T10:02:56.112Z"
   },
   {
    "duration": 21,
    "start_time": "2022-02-26T10:02:56.136Z"
   },
   {
    "duration": 4,
    "start_time": "2022-02-26T10:02:56.159Z"
   },
   {
    "duration": 4,
    "start_time": "2022-02-26T10:02:56.165Z"
   },
   {
    "duration": 20,
    "start_time": "2022-02-26T10:02:56.171Z"
   },
   {
    "duration": 3,
    "start_time": "2022-02-26T10:02:56.193Z"
   },
   {
    "duration": 40,
    "start_time": "2022-02-26T10:02:56.198Z"
   },
   {
    "duration": 57,
    "start_time": "2022-02-26T10:02:56.240Z"
   },
   {
    "duration": 40,
    "start_time": "2022-02-26T10:02:56.299Z"
   },
   {
    "duration": 14,
    "start_time": "2022-02-26T10:02:56.341Z"
   },
   {
    "duration": 12,
    "start_time": "2022-02-26T10:02:56.357Z"
   },
   {
    "duration": 4044,
    "start_time": "2022-02-26T10:02:56.371Z"
   },
   {
    "duration": 1269,
    "start_time": "2022-02-26T10:03:00.417Z"
   },
   {
    "duration": 4,
    "start_time": "2022-02-26T10:03:01.688Z"
   },
   {
    "duration": 12,
    "start_time": "2022-02-26T10:03:01.693Z"
   },
   {
    "duration": 553,
    "start_time": "2022-02-26T10:03:01.707Z"
   },
   {
    "duration": 4,
    "start_time": "2022-02-26T10:03:02.261Z"
   },
   {
    "duration": 23,
    "start_time": "2022-02-26T10:03:02.266Z"
   },
   {
    "duration": 5,
    "start_time": "2022-02-26T10:03:02.291Z"
   },
   {
    "duration": 92302,
    "start_time": "2022-02-26T10:03:02.299Z"
   },
   {
    "duration": 1438,
    "start_time": "2022-02-26T10:04:34.603Z"
   },
   {
    "duration": 27,
    "start_time": "2022-02-26T10:04:36.043Z"
   },
   {
    "duration": 7,
    "start_time": "2022-02-26T10:04:36.072Z"
   },
   {
    "duration": 79,
    "start_time": "2022-02-26T10:04:36.081Z"
   },
   {
    "duration": 5603,
    "start_time": "2022-02-26T10:05:31.789Z"
   },
   {
    "duration": 5281,
    "start_time": "2022-02-26T10:06:23.000Z"
   },
   {
    "duration": 271,
    "start_time": "2022-02-26T10:07:26.478Z"
   },
   {
    "duration": 5161,
    "start_time": "2022-02-26T10:08:04.938Z"
   },
   {
    "duration": 13,
    "start_time": "2022-02-26T10:08:39.520Z"
   },
   {
    "duration": 7621,
    "start_time": "2022-02-26T10:08:43.766Z"
   },
   {
    "duration": 5,
    "start_time": "2022-02-26T10:13:17.004Z"
   },
   {
    "duration": 5152,
    "start_time": "2022-02-26T10:13:43.820Z"
   },
   {
    "duration": 5085,
    "start_time": "2022-02-26T10:16:12.893Z"
   },
   {
    "duration": 5165,
    "start_time": "2022-02-26T10:16:30.988Z"
   },
   {
    "duration": 5330,
    "start_time": "2022-02-26T10:18:18.576Z"
   },
   {
    "duration": 6559,
    "start_time": "2022-02-26T10:18:31.338Z"
   },
   {
    "duration": 4594,
    "start_time": "2022-02-26T11:42:15.575Z"
   },
   {
    "duration": 1597,
    "start_time": "2022-02-26T11:42:20.172Z"
   },
   {
    "duration": 21,
    "start_time": "2022-02-26T11:42:21.773Z"
   },
   {
    "duration": 31,
    "start_time": "2022-02-26T11:42:21.797Z"
   },
   {
    "duration": 10,
    "start_time": "2022-02-26T11:42:21.830Z"
   },
   {
    "duration": 6,
    "start_time": "2022-02-26T11:42:21.861Z"
   },
   {
    "duration": 38,
    "start_time": "2022-02-26T11:42:21.869Z"
   },
   {
    "duration": 5,
    "start_time": "2022-02-26T11:42:21.911Z"
   },
   {
    "duration": 42,
    "start_time": "2022-02-26T11:42:21.919Z"
   },
   {
    "duration": 77,
    "start_time": "2022-02-26T11:42:21.964Z"
   },
   {
    "duration": 42,
    "start_time": "2022-02-26T11:42:22.043Z"
   },
   {
    "duration": 18,
    "start_time": "2022-02-26T11:42:22.088Z"
   },
   {
    "duration": 51,
    "start_time": "2022-02-26T11:42:22.110Z"
   },
   {
    "duration": 6719,
    "start_time": "2022-02-26T11:42:22.164Z"
   },
   {
    "duration": 2023,
    "start_time": "2022-02-26T11:42:28.886Z"
   },
   {
    "duration": 5,
    "start_time": "2022-02-26T11:42:30.911Z"
   },
   {
    "duration": 30,
    "start_time": "2022-02-26T11:42:30.918Z"
   },
   {
    "duration": 765,
    "start_time": "2022-02-26T11:42:30.951Z"
   },
   {
    "duration": 5,
    "start_time": "2022-02-26T11:42:31.718Z"
   },
   {
    "duration": 51,
    "start_time": "2022-02-26T11:42:31.726Z"
   },
   {
    "duration": 8,
    "start_time": "2022-02-26T11:42:31.779Z"
   },
   {
    "duration": 146637,
    "start_time": "2022-02-26T11:42:31.789Z"
   },
   {
    "duration": 1739,
    "start_time": "2022-02-26T11:44:58.431Z"
   },
   {
    "duration": 30,
    "start_time": "2022-02-26T11:45:00.173Z"
   },
   {
    "duration": 7,
    "start_time": "2022-02-26T11:45:00.206Z"
   },
   {
    "duration": 8970,
    "start_time": "2022-02-26T11:45:00.216Z"
   },
   {
    "duration": 14043,
    "start_time": "2022-02-26T11:55:25.491Z"
   },
   {
    "duration": 14,
    "start_time": "2022-02-26T11:56:22.934Z"
   },
   {
    "duration": 8068,
    "start_time": "2022-02-26T11:56:24.370Z"
   },
   {
    "duration": 13,
    "start_time": "2022-02-26T11:57:46.348Z"
   },
   {
    "duration": 7640,
    "start_time": "2022-02-26T11:57:53.900Z"
   },
   {
    "duration": 5890,
    "start_time": "2022-02-26T12:23:32.682Z"
   },
   {
    "duration": 1790,
    "start_time": "2022-02-26T12:23:38.575Z"
   },
   {
    "duration": 61,
    "start_time": "2022-02-26T12:23:40.368Z"
   },
   {
    "duration": 31,
    "start_time": "2022-02-26T12:23:40.432Z"
   },
   {
    "duration": 6,
    "start_time": "2022-02-26T12:23:40.466Z"
   },
   {
    "duration": 10,
    "start_time": "2022-02-26T12:23:40.474Z"
   },
   {
    "duration": 32,
    "start_time": "2022-02-26T12:23:40.487Z"
   },
   {
    "duration": 5,
    "start_time": "2022-02-26T12:23:40.523Z"
   },
   {
    "duration": 42,
    "start_time": "2022-02-26T12:23:40.532Z"
   },
   {
    "duration": 73,
    "start_time": "2022-02-26T12:23:40.576Z"
   },
   {
    "duration": 42,
    "start_time": "2022-02-26T12:23:40.651Z"
   },
   {
    "duration": 18,
    "start_time": "2022-02-26T12:23:40.695Z"
   },
   {
    "duration": 14,
    "start_time": "2022-02-26T12:23:40.715Z"
   },
   {
    "duration": 7275,
    "start_time": "2022-02-26T12:23:40.731Z"
   },
   {
    "duration": 2131,
    "start_time": "2022-02-26T12:23:48.009Z"
   },
   {
    "duration": 5,
    "start_time": "2022-02-26T12:23:50.142Z"
   },
   {
    "duration": 29,
    "start_time": "2022-02-26T12:23:50.149Z"
   },
   {
    "duration": 805,
    "start_time": "2022-02-26T12:23:50.180Z"
   },
   {
    "duration": 5,
    "start_time": "2022-02-26T12:23:50.988Z"
   },
   {
    "duration": 46,
    "start_time": "2022-02-26T12:23:50.995Z"
   },
   {
    "duration": 8,
    "start_time": "2022-02-26T12:23:51.043Z"
   },
   {
    "duration": 151802,
    "start_time": "2022-02-26T12:23:51.053Z"
   },
   {
    "duration": 1822,
    "start_time": "2022-02-26T12:26:22.859Z"
   },
   {
    "duration": 27,
    "start_time": "2022-02-26T12:26:24.684Z"
   },
   {
    "duration": 9535,
    "start_time": "2022-02-26T12:26:24.714Z"
   },
   {
    "duration": 864,
    "start_time": "2022-02-26T12:28:57.205Z"
   },
   {
    "duration": 27,
    "start_time": "2022-02-26T12:29:02.600Z"
   },
   {
    "duration": 11,
    "start_time": "2022-02-26T13:30:57.915Z"
   },
   {
    "duration": 10,
    "start_time": "2022-02-26T13:31:53.012Z"
   },
   {
    "duration": 12,
    "start_time": "2022-02-26T13:32:57.790Z"
   },
   {
    "duration": 13,
    "start_time": "2022-02-26T13:34:16.940Z"
   },
   {
    "duration": 16,
    "start_time": "2022-02-26T13:34:25.807Z"
   },
   {
    "duration": 383,
    "start_time": "2022-02-26T13:34:57.587Z"
   },
   {
    "duration": 15,
    "start_time": "2022-02-26T13:35:18.021Z"
   },
   {
    "duration": 17,
    "start_time": "2022-02-26T13:35:33.700Z"
   },
   {
    "duration": 63,
    "start_time": "2022-02-26T13:36:46.926Z"
   },
   {
    "duration": 18,
    "start_time": "2022-02-26T13:37:14.150Z"
   },
   {
    "duration": 17,
    "start_time": "2022-02-26T13:38:40.814Z"
   },
   {
    "duration": 19,
    "start_time": "2022-02-26T13:39:42.788Z"
   },
   {
    "duration": 18,
    "start_time": "2022-02-26T13:40:14.065Z"
   },
   {
    "duration": 69691,
    "start_time": "2022-02-27T09:54:21.296Z"
   },
   {
    "duration": 1126,
    "start_time": "2022-02-27T09:55:30.989Z"
   },
   {
    "duration": 21,
    "start_time": "2022-02-27T09:55:32.119Z"
   },
   {
    "duration": 19,
    "start_time": "2022-02-27T09:55:32.142Z"
   },
   {
    "duration": 4,
    "start_time": "2022-02-27T09:55:32.163Z"
   },
   {
    "duration": 16,
    "start_time": "2022-02-27T09:55:32.168Z"
   },
   {
    "duration": 24,
    "start_time": "2022-02-27T09:55:32.187Z"
   },
   {
    "duration": 4,
    "start_time": "2022-02-27T09:55:32.213Z"
   },
   {
    "duration": 24,
    "start_time": "2022-02-27T09:55:32.218Z"
   },
   {
    "duration": 45,
    "start_time": "2022-02-27T09:55:32.243Z"
   },
   {
    "duration": 15,
    "start_time": "2022-02-27T09:55:32.290Z"
   },
   {
    "duration": 35,
    "start_time": "2022-02-27T09:55:32.307Z"
   },
   {
    "duration": 8,
    "start_time": "2022-02-27T09:55:32.344Z"
   },
   {
    "duration": 4046,
    "start_time": "2022-02-27T09:55:32.353Z"
   },
   {
    "duration": 1298,
    "start_time": "2022-02-27T09:55:36.402Z"
   },
   {
    "duration": 5,
    "start_time": "2022-02-27T09:55:37.702Z"
   },
   {
    "duration": 10,
    "start_time": "2022-02-27T09:55:37.709Z"
   },
   {
    "duration": 526,
    "start_time": "2022-02-27T09:55:37.721Z"
   },
   {
    "duration": 4,
    "start_time": "2022-02-27T09:55:38.249Z"
   },
   {
    "duration": 23,
    "start_time": "2022-02-27T09:55:38.255Z"
   },
   {
    "duration": 7,
    "start_time": "2022-02-27T09:55:38.280Z"
   },
   {
    "duration": 85168,
    "start_time": "2022-02-27T09:55:38.291Z"
   },
   {
    "duration": 1582,
    "start_time": "2022-02-27T09:57:03.461Z"
   },
   {
    "duration": 19,
    "start_time": "2022-02-27T09:57:05.044Z"
   },
   {
    "duration": 5175,
    "start_time": "2022-02-27T09:57:05.064Z"
   },
   {
    "duration": 12,
    "start_time": "2022-02-27T09:57:10.240Z"
   },
   {
    "duration": 1648,
    "start_time": "2022-02-27T10:30:05.097Z"
   },
   {
    "duration": 20,
    "start_time": "2022-02-27T10:30:06.921Z"
   },
   {
    "duration": 1510,
    "start_time": "2022-02-27T10:30:19.834Z"
   },
   {
    "duration": 105,
    "start_time": "2022-02-27T10:30:21.347Z"
   },
   {
    "duration": 1416,
    "start_time": "2022-02-27T10:32:32.027Z"
   },
   {
    "duration": 19,
    "start_time": "2022-02-27T10:32:34.508Z"
   },
   {
    "duration": 1373,
    "start_time": "2022-02-27T10:32:47.868Z"
   },
   {
    "duration": 19,
    "start_time": "2022-02-27T10:32:49.355Z"
   },
   {
    "duration": 1541,
    "start_time": "2022-02-27T10:32:53.203Z"
   },
   {
    "duration": 175,
    "start_time": "2022-02-27T10:32:54.746Z"
   },
   {
    "duration": 1453,
    "start_time": "2022-02-27T10:33:35.885Z"
   },
   {
    "duration": 20,
    "start_time": "2022-02-27T10:33:45.060Z"
   },
   {
    "duration": 1569,
    "start_time": "2022-02-27T10:33:47.876Z"
   },
   {
    "duration": 103,
    "start_time": "2022-02-27T10:33:49.447Z"
   },
   {
    "duration": 5085,
    "start_time": "2022-02-27T10:37:41.608Z"
   },
   {
    "duration": 12,
    "start_time": "2022-02-27T10:40:08.034Z"
   },
   {
    "duration": 31009,
    "start_time": "2022-02-28T06:43:55.497Z"
   },
   {
    "duration": 1115,
    "start_time": "2022-02-28T06:44:26.508Z"
   },
   {
    "duration": 21,
    "start_time": "2022-02-28T06:44:27.625Z"
   },
   {
    "duration": 18,
    "start_time": "2022-02-28T06:44:27.647Z"
   },
   {
    "duration": 4,
    "start_time": "2022-02-28T06:44:27.666Z"
   },
   {
    "duration": 4,
    "start_time": "2022-02-28T06:44:27.671Z"
   },
   {
    "duration": 30,
    "start_time": "2022-02-28T06:44:27.676Z"
   },
   {
    "duration": 3,
    "start_time": "2022-02-28T06:44:27.707Z"
   },
   {
    "duration": 7,
    "start_time": "2022-02-28T06:44:27.712Z"
   },
   {
    "duration": 36,
    "start_time": "2022-02-28T06:44:27.721Z"
   },
   {
    "duration": 12,
    "start_time": "2022-02-28T06:44:27.758Z"
   },
   {
    "duration": 8,
    "start_time": "2022-02-28T06:44:27.771Z"
   },
   {
    "duration": 7,
    "start_time": "2022-02-28T06:44:27.805Z"
   },
   {
    "duration": 3530,
    "start_time": "2022-02-28T06:44:27.813Z"
   },
   {
    "duration": 1106,
    "start_time": "2022-02-28T06:44:31.344Z"
   },
   {
    "duration": 3,
    "start_time": "2022-02-28T06:44:32.452Z"
   },
   {
    "duration": 11,
    "start_time": "2022-02-28T06:44:32.456Z"
   },
   {
    "duration": 526,
    "start_time": "2022-02-28T06:44:32.469Z"
   },
   {
    "duration": 3,
    "start_time": "2022-02-28T06:44:32.997Z"
   },
   {
    "duration": 25,
    "start_time": "2022-02-28T06:44:33.001Z"
   },
   {
    "duration": 4,
    "start_time": "2022-02-28T06:44:33.028Z"
   },
   {
    "duration": 75271,
    "start_time": "2022-02-28T06:44:33.034Z"
   },
   {
    "duration": 926,
    "start_time": "2022-02-28T06:45:48.307Z"
   },
   {
    "duration": 176,
    "start_time": "2022-02-28T06:45:49.234Z"
   },
   {
    "duration": 4999,
    "start_time": "2022-02-28T06:45:49.411Z"
   },
   {
    "duration": 11,
    "start_time": "2022-02-28T06:45:54.411Z"
   }
  ],
  "kernelspec": {
   "display_name": "Python 3",
   "language": "python",
   "name": "python3"
  },
  "language_info": {
   "codemirror_mode": {
    "name": "ipython",
    "version": 3
   },
   "file_extension": ".py",
   "mimetype": "text/x-python",
   "name": "python",
   "nbconvert_exporter": "python",
   "pygments_lexer": "ipython3",
   "version": "3.7.12"
  },
  "toc": {
   "base_numbering": 1,
   "nav_menu": {},
   "number_sections": true,
   "sideBar": true,
   "skip_h1_title": true,
   "title_cell": "Table of Contents",
   "title_sidebar": "Contents",
   "toc_cell": false,
   "toc_position": {},
   "toc_section_display": true,
   "toc_window_display": false
  }
 },
 "nbformat": 4,
 "nbformat_minor": 2
}
